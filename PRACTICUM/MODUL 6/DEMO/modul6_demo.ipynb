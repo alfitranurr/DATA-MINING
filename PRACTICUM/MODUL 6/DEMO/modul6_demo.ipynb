{
 "cells": [
  {
   "cell_type": "markdown",
   "id": "7abf7c4f",
   "metadata": {},
   "source": [
    "# Part 1: Persiapan Data"
   ]
  },
  {
   "cell_type": "code",
   "execution_count": 1,
   "id": "02b4ef43",
   "metadata": {},
   "outputs": [],
   "source": [
    "import pandas as pd\n",
    "import numpy as np\n",
    "from sklearn.feature_extraction.text import TfidfVectorizer\n",
    "from sklearn.neighbors import NearestNeighbors\n",
    "from sklearn.preprocessing import StandardScaler\n",
    "import matplotlib.pyplot as plt\n",
    "import seaborn as sns\n",
    "import warnings\n",
    "from scipy.sparse import hstack\n",
    "warnings.filterwarnings('ignore')"
   ]
  },
  {
   "cell_type": "code",
   "execution_count": 2,
   "id": "f32c4226",
   "metadata": {},
   "outputs": [],
   "source": [
    "data_games = pd.read_csv('tugas_genap.csv')"
   ]
  },
  {
   "cell_type": "code",
   "execution_count": 3,
   "id": "39fe111a",
   "metadata": {},
   "outputs": [],
   "source": [
    "pd.set_option('display.max_columns', None)"
   ]
  },
  {
   "cell_type": "markdown",
   "id": "1c9c91f8",
   "metadata": {},
   "source": [
    "# Part 2: Exploratory Data Analysis (EDA)"
   ]
  },
  {
   "cell_type": "code",
   "execution_count": 4,
   "id": "9ac5471d",
   "metadata": {},
   "outputs": [
    {
     "data": {
      "text/plain": [
       "['game_name',\n",
       " 'meta_score',\n",
       " 'user_score',\n",
       " 'platform',\n",
       " 'description',\n",
       " 'url',\n",
       " 'developer',\n",
       " 'genre',\n",
       " 'type',\n",
       " 'rating']"
      ]
     },
     "execution_count": 4,
     "metadata": {},
     "output_type": "execute_result"
    }
   ],
   "source": [
    "data_games.columns.tolist()"
   ]
  },
  {
   "cell_type": "code",
   "execution_count": 5,
   "id": "712472c5",
   "metadata": {},
   "outputs": [
    {
     "name": "stdout",
     "output_type": "stream",
     "text": [
      "<class 'pandas.core.frame.DataFrame'>\n",
      "RangeIndex: 2000 entries, 0 to 1999\n",
      "Data columns (total 10 columns):\n",
      " #   Column       Non-Null Count  Dtype  \n",
      "---  ------       --------------  -----  \n",
      " 0   game_name    2000 non-null   object \n",
      " 1   meta_score   2000 non-null   float64\n",
      " 2   user_score   2000 non-null   float64\n",
      " 3   platform     2000 non-null   object \n",
      " 4   description  1980 non-null   object \n",
      " 5   url          2000 non-null   object \n",
      " 6   developer    1998 non-null   object \n",
      " 7   genre        1999 non-null   object \n",
      " 8   type         1571 non-null   object \n",
      " 9   rating       1696 non-null   object \n",
      "dtypes: float64(2), object(8)\n",
      "memory usage: 156.4+ KB\n"
     ]
    }
   ],
   "source": [
    "data_games.info()"
   ]
  },
  {
   "cell_type": "code",
   "execution_count": 6,
   "id": "8a728da4",
   "metadata": {},
   "outputs": [
    {
     "data": {
      "text/plain": [
       "game_name        0\n",
       "meta_score       0\n",
       "user_score       0\n",
       "platform         0\n",
       "description     20\n",
       "url              0\n",
       "developer        2\n",
       "genre            1\n",
       "type           429\n",
       "rating         304\n",
       "dtype: int64"
      ]
     },
     "execution_count": 6,
     "metadata": {},
     "output_type": "execute_result"
    }
   ],
   "source": [
    "data_games.isna().sum()"
   ]
  },
  {
   "cell_type": "code",
   "execution_count": 7,
   "id": "b1b5cd4c",
   "metadata": {},
   "outputs": [
    {
     "data": {
      "text/plain": [
       "np.int64(0)"
      ]
     },
     "execution_count": 7,
     "metadata": {},
     "output_type": "execute_result"
    }
   ],
   "source": [
    "data_games.duplicated().sum()"
   ]
  },
  {
   "cell_type": "code",
   "execution_count": 8,
   "id": "1d881681",
   "metadata": {},
   "outputs": [],
   "source": [
    "data_games['description'] = data_games['description'].fillna(\"No description available\")\n",
    "data_games['developer'] = data_games['developer'].fillna(data_games['developer'].mode()[0])\n",
    "data_games['genre'] = data_games['genre'].fillna(data_games['genre'].mode()[0])\n",
    "data_games['type'] = data_games['type'].fillna(data_games['type'].mode()[0])\n",
    "data_games['rating'] = data_games['rating'].fillna(data_games['rating'].mode()[0])"
   ]
  },
  {
   "cell_type": "code",
   "execution_count": 9,
   "id": "22fe0d33",
   "metadata": {},
   "outputs": [
    {
     "data": {
      "text/plain": [
       "game_name      0\n",
       "meta_score     0\n",
       "user_score     0\n",
       "platform       0\n",
       "description    0\n",
       "url            0\n",
       "developer      0\n",
       "genre          0\n",
       "type           0\n",
       "rating         0\n",
       "dtype: int64"
      ]
     },
     "execution_count": 9,
     "metadata": {},
     "output_type": "execute_result"
    }
   ],
   "source": [
    "data_games.isna().sum()"
   ]
  },
  {
   "cell_type": "code",
   "execution_count": 10,
   "id": "e9102dc0",
   "metadata": {},
   "outputs": [
    {
     "data": {
      "application/vnd.microsoft.datawrangler.viewer.v0+json": {
       "columns": [
        {
         "name": "index",
         "rawType": "int64",
         "type": "integer"
        },
        {
         "name": "game_name",
         "rawType": "object",
         "type": "string"
        },
        {
         "name": "meta_score",
         "rawType": "float64",
         "type": "float"
        },
        {
         "name": "user_score",
         "rawType": "float64",
         "type": "float"
        },
        {
         "name": "platform",
         "rawType": "object",
         "type": "string"
        },
        {
         "name": "description",
         "rawType": "object",
         "type": "string"
        },
        {
         "name": "url",
         "rawType": "object",
         "type": "string"
        },
        {
         "name": "developer",
         "rawType": "object",
         "type": "string"
        },
        {
         "name": "genre",
         "rawType": "object",
         "type": "string"
        },
        {
         "name": "type",
         "rawType": "object",
         "type": "string"
        },
        {
         "name": "rating",
         "rawType": "object",
         "type": "string"
        }
       ],
       "conversionMethod": "pd.DataFrame",
       "ref": "986bfaa4-a57e-4dce-ba9b-f8a4097228fe",
       "rows": [
        [
         "0",
         "The Legend of Zelda: Ocarina of Time",
         "99.0",
         "91.0",
         "['nintendo-64']",
         "As a young boy, Link is tricked by Ganondorf, the King of the Gerudo Thieves. The evil human uses Link to gain access to the Sacred Realm, where he places his tainted hands on Triforce and transforms the beautiful Hyrulean landscape into a barren wasteland. Link is determined to fix the problems he helped to create, so with the help of Rauru he travels through time gathering the powers of the Seven Sages.",
         "https://www.metacritic.com/game/nintendo-64/the-legend-of-zelda-ocarina-of-time",
         "Nintendo",
         "['Action Adventure', 'Fantasy']",
         "singleplayer",
         "E"
        ],
        [
         "1",
         "Super Mario Galaxy",
         "97.0",
         "91.0",
         "['wii']",
         "[Metacritic's 2007 Wii Game of the Year] The ultimate Nintendo hero is taking the ultimate step ... out into space. Join Mario as he ushers in a new era of video games, defying gravity across all the planets in the galaxy. When some creature escapes into space with Princess Peach, Mario gives chase, exploring bizarre planets all across the galaxy. Mario, Peach and enemies new and old are here. Players run, jump and battle enemies as they explore all the planets in the galaxy. Since this game makes full use of all the features of the Wii Remote, players have to do all kinds of things to succeed: pressing buttons, swinging the Wii Remote and the Nunchuk, and even pointing at and dragging things with the pointer. Since he's in space, Mario can perform mind-bending jumps unlike anything he's done before. He'll also have a wealth of new moves that are all based around tilting, pointing and shaking the Wii Remote. Shake, tilt and point! Mario takes advantage of all the unique aspects of the Wii Remote and Nunchuk controller, unleashing new moves as players shake the controller and even point at and drag items with the pointer. [Nintendo]",
         "https://www.metacritic.com/game/wii/super-mario-galaxy",
         "Nintendo",
         "['Action', 'Platformer', '3D']",
         "singleplayer",
         "E"
        ],
        [
         "2",
         "Super Mario Galaxy 2",
         "97.0",
         "91.0",
         "['wii']",
         "Super Mario Galaxy 2, the sequel to the galaxy-hopping original game, includes the gravity-defying, physics-based exploration from the first game, but is loaded with entirely new galaxies and features to challenge players. On some stages, Mario can pair up with his dinosaur buddy Yoshi and use his tongue to grab items and spit them back at enemies. Players can also have fun with new items such as a drill that lets our hero tunnel through solid rock. [Nintendo]",
         "https://www.metacritic.com/game/wii/super-mario-galaxy-2",
         "Nintendo EAD Tokyo ",
         "['Action', 'Platformer', '3D']",
         "singleplayer",
         "E"
        ],
        [
         "3",
         "Metroid Prime",
         "97.0",
         "89.0",
         "['gamecube']",
         "Samus returns in a new mission to unravel the mystery behind the ruined walls scattered across Tallon IV. In Metroid Prime, you'll play the role of this bounty hunter and view the world through her visor, which displays information ranging from current energy levels to ammunition. Equipped with a Power Beam and Gravity Suit, you must shoot locked switches, solve puzzles, and eliminate enemies. It's up to you to explore the world and recover more power-ups and weapons, which gradually open more gameplay areas.",
         "https://www.metacritic.com/game/gamecube/metroid-prime",
         "Retro Studios",
         "['Action', 'Shooter', 'First-Person', 'Sci-Fi']",
         "singleplayer",
         "T"
        ],
        [
         "4",
         "Super Mario Odyssey",
         "97.0",
         "89.0",
         "['switch']",
         "New Evolution of Mario Sandbox-Style Gameplay. Mario embarks on a new journey through unknown worlds, running and jumping through huge 3D worlds in the first sandbox-style Mario game since Super Mario 64 and Super Mario Sunshine. Set sail between expansive worlds aboard an airship, and perform all-new actions, such as throwing Mario's cap.",
         "https://www.metacritic.com/game/switch/super-mario-odyssey",
         "Nintendo",
         "['Action', 'Platformer', '3D']",
         "singleplayer",
         "E10+"
        ]
       ],
       "shape": {
        "columns": 10,
        "rows": 5
       }
      },
      "text/html": [
       "<div>\n",
       "<style scoped>\n",
       "    .dataframe tbody tr th:only-of-type {\n",
       "        vertical-align: middle;\n",
       "    }\n",
       "\n",
       "    .dataframe tbody tr th {\n",
       "        vertical-align: top;\n",
       "    }\n",
       "\n",
       "    .dataframe thead th {\n",
       "        text-align: right;\n",
       "    }\n",
       "</style>\n",
       "<table border=\"1\" class=\"dataframe\">\n",
       "  <thead>\n",
       "    <tr style=\"text-align: right;\">\n",
       "      <th></th>\n",
       "      <th>game_name</th>\n",
       "      <th>meta_score</th>\n",
       "      <th>user_score</th>\n",
       "      <th>platform</th>\n",
       "      <th>description</th>\n",
       "      <th>url</th>\n",
       "      <th>developer</th>\n",
       "      <th>genre</th>\n",
       "      <th>type</th>\n",
       "      <th>rating</th>\n",
       "    </tr>\n",
       "  </thead>\n",
       "  <tbody>\n",
       "    <tr>\n",
       "      <th>0</th>\n",
       "      <td>The Legend of Zelda: Ocarina of Time</td>\n",
       "      <td>99.0</td>\n",
       "      <td>91.0</td>\n",
       "      <td>['nintendo-64']</td>\n",
       "      <td>As a young boy, Link is tricked by Ganondorf, ...</td>\n",
       "      <td>https://www.metacritic.com/game/nintendo-64/th...</td>\n",
       "      <td>Nintendo</td>\n",
       "      <td>['Action Adventure', 'Fantasy']</td>\n",
       "      <td>singleplayer</td>\n",
       "      <td>E</td>\n",
       "    </tr>\n",
       "    <tr>\n",
       "      <th>1</th>\n",
       "      <td>Super Mario Galaxy</td>\n",
       "      <td>97.0</td>\n",
       "      <td>91.0</td>\n",
       "      <td>['wii']</td>\n",
       "      <td>[Metacritic's 2007 Wii Game of the Year] The u...</td>\n",
       "      <td>https://www.metacritic.com/game/wii/super-mari...</td>\n",
       "      <td>Nintendo</td>\n",
       "      <td>['Action', 'Platformer', '3D']</td>\n",
       "      <td>singleplayer</td>\n",
       "      <td>E</td>\n",
       "    </tr>\n",
       "    <tr>\n",
       "      <th>2</th>\n",
       "      <td>Super Mario Galaxy 2</td>\n",
       "      <td>97.0</td>\n",
       "      <td>91.0</td>\n",
       "      <td>['wii']</td>\n",
       "      <td>Super Mario Galaxy 2, the sequel to the galaxy...</td>\n",
       "      <td>https://www.metacritic.com/game/wii/super-mari...</td>\n",
       "      <td>Nintendo EAD Tokyo</td>\n",
       "      <td>['Action', 'Platformer', '3D']</td>\n",
       "      <td>singleplayer</td>\n",
       "      <td>E</td>\n",
       "    </tr>\n",
       "    <tr>\n",
       "      <th>3</th>\n",
       "      <td>Metroid Prime</td>\n",
       "      <td>97.0</td>\n",
       "      <td>89.0</td>\n",
       "      <td>['gamecube']</td>\n",
       "      <td>Samus returns in a new mission to unravel the ...</td>\n",
       "      <td>https://www.metacritic.com/game/gamecube/metro...</td>\n",
       "      <td>Retro Studios</td>\n",
       "      <td>['Action', 'Shooter', 'First-Person', 'Sci-Fi']</td>\n",
       "      <td>singleplayer</td>\n",
       "      <td>T</td>\n",
       "    </tr>\n",
       "    <tr>\n",
       "      <th>4</th>\n",
       "      <td>Super Mario Odyssey</td>\n",
       "      <td>97.0</td>\n",
       "      <td>89.0</td>\n",
       "      <td>['switch']</td>\n",
       "      <td>New Evolution of Mario Sandbox-Style Gameplay....</td>\n",
       "      <td>https://www.metacritic.com/game/switch/super-m...</td>\n",
       "      <td>Nintendo</td>\n",
       "      <td>['Action', 'Platformer', '3D']</td>\n",
       "      <td>singleplayer</td>\n",
       "      <td>E10+</td>\n",
       "    </tr>\n",
       "  </tbody>\n",
       "</table>\n",
       "</div>"
      ],
      "text/plain": [
       "                              game_name  meta_score  user_score  \\\n",
       "0  The Legend of Zelda: Ocarina of Time        99.0        91.0   \n",
       "1                    Super Mario Galaxy        97.0        91.0   \n",
       "2                  Super Mario Galaxy 2        97.0        91.0   \n",
       "3                         Metroid Prime        97.0        89.0   \n",
       "4                   Super Mario Odyssey        97.0        89.0   \n",
       "\n",
       "          platform                                        description  \\\n",
       "0  ['nintendo-64']  As a young boy, Link is tricked by Ganondorf, ...   \n",
       "1          ['wii']  [Metacritic's 2007 Wii Game of the Year] The u...   \n",
       "2          ['wii']  Super Mario Galaxy 2, the sequel to the galaxy...   \n",
       "3     ['gamecube']  Samus returns in a new mission to unravel the ...   \n",
       "4       ['switch']  New Evolution of Mario Sandbox-Style Gameplay....   \n",
       "\n",
       "                                                 url            developer  \\\n",
       "0  https://www.metacritic.com/game/nintendo-64/th...             Nintendo   \n",
       "1  https://www.metacritic.com/game/wii/super-mari...             Nintendo   \n",
       "2  https://www.metacritic.com/game/wii/super-mari...  Nintendo EAD Tokyo    \n",
       "3  https://www.metacritic.com/game/gamecube/metro...        Retro Studios   \n",
       "4  https://www.metacritic.com/game/switch/super-m...             Nintendo   \n",
       "\n",
       "                                             genre          type rating  \n",
       "0                  ['Action Adventure', 'Fantasy']  singleplayer      E  \n",
       "1                   ['Action', 'Platformer', '3D']  singleplayer      E  \n",
       "2                   ['Action', 'Platformer', '3D']  singleplayer      E  \n",
       "3  ['Action', 'Shooter', 'First-Person', 'Sci-Fi']  singleplayer      T  \n",
       "4                   ['Action', 'Platformer', '3D']  singleplayer   E10+  "
      ]
     },
     "execution_count": 10,
     "metadata": {},
     "output_type": "execute_result"
    }
   ],
   "source": [
    "data_games.head()"
   ]
  },
  {
   "cell_type": "code",
   "execution_count": 11,
   "id": "1404dd35",
   "metadata": {},
   "outputs": [],
   "source": [
    "data_games['meta_score'] = pd.to_numeric(data_games['meta_score'], errors='coerce')\n",
    "data_games['user_score'] = pd.to_numeric(data_games['user_score'], errors='coerce')"
   ]
  },
  {
   "cell_type": "code",
   "execution_count": 12,
   "id": "4240923c",
   "metadata": {},
   "outputs": [
    {
     "data": {
      "image/png": "[encoded data removed]",
      "text/plain": [
       "<Figure size 1200x500 with 2 Axes>"
      ]
     },
     "metadata": {},
     "output_type": "display_data"
    }
   ],
   "source": [
    "plt.figure(figsize=(12, 5))\n",
    "plt.subplot(1, 2, 1)\n",
    "sns.histplot(data_games['meta_score'], bins=20, kde=True, color='blue')\n",
    "plt.title('Distribution of Meta Scores')\n",
    "plt.xlabel('Meta Score')\n",
    "plt.ylabel('Count')\n",
    "\n",
    "plt.subplot(1, 2, 2)\n",
    "sns.histplot(data_games['user_score'], bins=20, kde=True, color='green')\n",
    "plt.title('Distribution of User Scores')\n",
    "plt.xlabel('User Score')\n",
    "plt.ylabel('Count')\n",
    "plt.tight_layout()\n",
    "plt.show()\n",
    "plt.savefig('score_distribution.png')\n",
    "plt.close()"
   ]
  },
  {
   "cell_type": "code",
   "execution_count": 13,
   "id": "6d762e44",
   "metadata": {},
   "outputs": [
    {
     "data": {
      "image/png": "[encoded data removed]",
      "text/plain": [
       "<Figure size 1000x600 with 1 Axes>"
      ]
     },
     "metadata": {},
     "output_type": "display_data"
    }
   ],
   "source": [
    "genres = [genre for sublist in data_games['genre'].str.strip(\"[]\").str.replace(\"'\", \"\").str.split(\", \") for genre in sublist]\n",
    "genre_counts = pd.Series(genres).value_counts().head(10)\n",
    "plt.figure(figsize=(10, 6))\n",
    "sns.barplot(x=genre_counts.values, y=genre_counts.index, palette='viridis')\n",
    "plt.title('Top 10 Genres')\n",
    "plt.xlabel('Count')\n",
    "plt.ylabel('Genre')\n",
    "plt.show()\n",
    "plt.savefig('top_genres.png')\n",
    "plt.close()"
   ]
  },
  {
   "cell_type": "code",
   "execution_count": 14,
   "id": "7fc75e94",
   "metadata": {},
   "outputs": [
    {
     "data": {
      "image/png": "[encoded data removed]",
      "text/plain": [
       "<Figure size 1000x600 with 1 Axes>"
      ]
     },
     "metadata": {},
     "output_type": "display_data"
    }
   ],
   "source": [
    "platforms = [platform for sublist in data_games['platform'].str.strip(\"[]\").str.replace(\"'\", \"\").str.split(\", \") for platform in sublist]\n",
    "platform_counts = pd.Series(platforms).value_counts().head(10)\n",
    "plt.figure(figsize=(10, 6))\n",
    "sns.barplot(x=platform_counts.values, y=platform_counts.index, palette='magma')\n",
    "plt.title('Top 10 Platforms')\n",
    "plt.xlabel('Count')\n",
    "plt.ylabel('Platform')\n",
    "plt.show()\n",
    "plt.savefig('top_platforms.png')\n",
    "plt.close()"
   ]
  },
  {
   "cell_type": "code",
   "execution_count": 15,
   "id": "9b8aaaff",
   "metadata": {},
   "outputs": [
    {
     "data": {
      "image/png": "[encoded data removed]",
      "text/plain": [
       "<Figure size 800x600 with 1 Axes>"
      ]
     },
     "metadata": {},
     "output_type": "display_data"
    }
   ],
   "source": [
    "plt.figure(figsize=(8, 6))\n",
    "sns.scatterplot(x='meta_score', y='user_score', data=data_games, alpha=0.5)\n",
    "plt.title('Meta Score vs User Score')\n",
    "plt.xlabel('Meta Score')\n",
    "plt.ylabel('User Score')\n",
    "plt.show()\n",
    "plt.savefig('score_correlation.png')\n",
    "plt.close()"
   ]
  },
  {
   "cell_type": "code",
   "execution_count": 16,
   "id": "db4463d7",
   "metadata": {},
   "outputs": [
    {
     "data": {
      "image/png": "[encoded data removed]",
      "text/plain": [
       "<Figure size 800x600 with 1 Axes>"
      ]
     },
     "metadata": {},
     "output_type": "display_data"
    }
   ],
   "source": [
    "plt.figure(figsize=(8, 6))\n",
    "ax = sns.countplot(x='type', data=data_games, palette='Set2')\n",
    "\n",
    "for p in ax.patches:\n",
    "    ax.annotate(f'{int(p.get_height())}',\n",
    "                (p.get_x() + p.get_width() / 2., p.get_height()),\n",
    "                ha='center', va='baseline',\n",
    "                fontsize=10, color='black',\n",
    "                xytext=(0, 5),\n",
    "                textcoords='offset points')\n",
    "\n",
    "plt.title('Distribution of Game Types')\n",
    "plt.xlabel('Game Type')\n",
    "plt.ylabel('Count')\n",
    "plt.savefig('game_type_distribution.png', dpi=300, bbox_inches='tight')\n",
    "plt.show()\n",
    "\n",
    "plt.close()"
   ]
  },
  {
   "cell_type": "markdown",
   "id": "1653b308",
   "metadata": {},
   "source": [
    "# Part 3: Preprocessing Data"
   ]
  },
  {
   "cell_type": "code",
   "execution_count": 17,
   "id": "ffe73e8e",
   "metadata": {},
   "outputs": [],
   "source": [
    "data_games['description'] = data_games['description'].str.lower().str.replace('[^\\w\\s]', '', regex=True)\n",
    "data_games['genre'] = data_games['genre'].str.strip(\"[]\").str.replace(\"'\", \"\").str.replace(\", \", \" \")\n",
    "data_games['platform'] = data_games['platform'].str.strip(\"[]\").str.replace(\"'\", \"\").str.replace(\", \", \" \")"
   ]
  },
  {
   "cell_type": "code",
   "execution_count": 18,
   "id": "e9ad04e2",
   "metadata": {},
   "outputs": [],
   "source": [
    "tfidf_desc = TfidfVectorizer(stop_words='english', max_features=1000)\n",
    "tfidf_matrix_desc = tfidf_desc.fit_transform(data_games['description'])"
   ]
  },
  {
   "cell_type": "code",
   "execution_count": 19,
   "id": "32aabe88",
   "metadata": {},
   "outputs": [],
   "source": [
    "tfidf_genre = TfidfVectorizer()\n",
    "tfidf_matrix_genre = tfidf_genre.fit_transform(data_games['genre'])"
   ]
  },
  {
   "cell_type": "code",
   "execution_count": 20,
   "id": "9f2641dd",
   "metadata": {},
   "outputs": [],
   "source": [
    "tfidf_platform = TfidfVectorizer()\n",
    "tfidf_matrix_platform = tfidf_platform.fit_transform(data_games['platform'])"
   ]
  },
  {
   "cell_type": "code",
   "execution_count": 21,
   "id": "b87c547f",
   "metadata": {},
   "outputs": [],
   "source": [
    "scaler = StandardScaler()\n",
    "scores = scaler.fit_transform(data_games[['meta_score', 'user_score']])"
   ]
  },
  {
   "cell_type": "code",
   "execution_count": 22,
   "id": "6be1fb29",
   "metadata": {},
   "outputs": [],
   "source": [
    "from scipy.sparse import csr_matrix\n",
    "scores_sparse = csr_matrix(scores)"
   ]
  },
  {
   "cell_type": "code",
   "execution_count": 23,
   "id": "da18ea56",
   "metadata": {},
   "outputs": [],
   "source": [
    "combined_features = hstack([tfidf_matrix_desc, tfidf_matrix_genre, tfidf_matrix_platform, scores_sparse]).tocsr()"
   ]
  },
  {
   "cell_type": "markdown",
   "id": "d9aa5ef3",
   "metadata": {},
   "source": [
    "# Part 4: Modeling"
   ]
  },
  {
   "cell_type": "code",
   "execution_count": 24,
   "id": "75039def",
   "metadata": {},
   "outputs": [],
   "source": [
    "nn_model = NearestNeighbors(metric='euclidean', algorithm='brute')"
   ]
  },
  {
   "cell_type": "code",
   "execution_count": 25,
   "id": "44d77a39",
   "metadata": {},
   "outputs": [
    {
     "data": {
      "text/html": [
       "<style>#sk-container-id-1 {\n",
       "  /* Definition of color scheme common for light and dark mode */\n",
       "  --sklearn-color-text: black;\n",
       "  --sklearn-color-line: gray;\n",
       "  /* Definition of color scheme for unfitted estimators */\n",
       "  --sklearn-color-unfitted-level-0: #fff5e6;\n",
       "  --sklearn-color-unfitted-level-1: #f6e4d2;\n",
       "  --sklearn-color-unfitted-level-2: #ffe0b3;\n",
       "  --sklearn-color-unfitted-level-3: chocolate;\n",
       "  /* Definition of color scheme for fitted estimators */\n",
       "  --sklearn-color-fitted-level-0: #f0f8ff;\n",
       "  --sklearn-color-fitted-level-1: #d4ebff;\n",
       "  --sklearn-color-fitted-level-2: #b3dbfd;\n",
       "  --sklearn-color-fitted-level-3: cornflowerblue;\n",
       "\n",
       "  /* Specific color for light theme */\n",
       "  --sklearn-color-text-on-default-background: var(--sg-text-color, var(--theme-code-foreground, var(--jp-content-font-color1, black)));\n",
       "  --sklearn-color-background: var(--sg-background-color, var(--theme-background, var(--jp-layout-color0, white)));\n",
       "  --sklearn-color-border-box: var(--sg-text-color, var(--theme-code-foreground, var(--jp-content-font-color1, black)));\n",
       "  --sklearn-color-icon: #696969;\n",
       "\n",
       "  @media (prefers-color-scheme: dark) {\n",
       "    /* Redefinition of color scheme for dark theme */\n",
       "    --sklearn-color-text-on-default-background: var(--sg-text-color, var(--theme-code-foreground, var(--jp-content-font-color1, white)));\n",
       "    --sklearn-color-background: var(--sg-background-color, var(--theme-background, var(--jp-layout-color0, #111)));\n",
       "    --sklearn-color-border-box: var(--sg-text-color, var(--theme-code-foreground, var(--jp-content-font-color1, white)));\n",
       "    --sklearn-color-icon: #878787;\n",
       "  }\n",
       "}\n",
       "\n",
       "#sk-container-id-1 {\n",
       "  color: var(--sklearn-color-text);\n",
       "}\n",
       "\n",
       "#sk-container-id-1 pre {\n",
       "  padding: 0;\n",
       "}\n",
       "\n",
       "#sk-container-id-1 input.sk-hidden--visually {\n",
       "  border: 0;\n",
       "  clip: rect(1px 1px 1px 1px);\n",
       "  clip: rect(1px, 1px, 1px, 1px);\n",
       "  height: 1px;\n",
       "  margin: -1px;\n",
       "  overflow: hidden;\n",
       "  padding: 0;\n",
       "  position: absolute;\n",
       "  width: 1px;\n",
       "}\n",
       "\n",
       "#sk-container-id-1 div.sk-dashed-wrapped {\n",
       "  border: 1px dashed var(--sklearn-color-line);\n",
       "  margin: 0 0.4em 0.5em 0.4em;\n",
       "  box-sizing: border-box;\n",
       "  padding-bottom: 0.4em;\n",
       "  background-color: var(--sklearn-color-background);\n",
       "}\n",
       "\n",
       "#sk-container-id-1 div.sk-container {\n",
       "  /* jupyter's `normalize.less` sets `[hidden] { display: none; }`\n",
       "     but bootstrap.min.css set `[hidden] { display: none !important; }`\n",
       "     so we also need the `!important` here to be able to override the\n",
       "     default hidden behavior on the sphinx rendered scikit-learn.org.\n",
       "     See: https://github.com/scikit-learn/scikit-learn/issues/21755 */\n",
       "  display: inline-block !important;\n",
       "  position: relative;\n",
       "}\n",
       "\n",
       "#sk-container-id-1 div.sk-text-repr-fallback {\n",
       "  display: none;\n",
       "}\n",
       "\n",
       "div.sk-parallel-item,\n",
       "div.sk-serial,\n",
       "div.sk-item {\n",
       "  /* draw centered vertical line to link estimators */\n",
       "  background-image: linear-gradient(var(--sklearn-color-text-on-default-background), var(--sklearn-color-text-on-default-background));\n",
       "  background-size: 2px 100%;\n",
       "  background-repeat: no-repeat;\n",
       "  background-position: center center;\n",
       "}\n",
       "\n",
       "/* Parallel-specific style estimator block */\n",
       "\n",
       "#sk-container-id-1 div.sk-parallel-item::after {\n",
       "  content: \"\";\n",
       "  width: 100%;\n",
       "  border-bottom: 2px solid var(--sklearn-color-text-on-default-background);\n",
       "  flex-grow: 1;\n",
       "}\n",
       "\n",
       "#sk-container-id-1 div.sk-parallel {\n",
       "  display: flex;\n",
       "  align-items: stretch;\n",
       "  justify-content: center;\n",
       "  background-color: var(--sklearn-color-background);\n",
       "  position: relative;\n",
       "}\n",
       "\n",
       "#sk-container-id-1 div.sk-parallel-item {\n",
       "  display: flex;\n",
       "  flex-direction: column;\n",
       "}\n",
       "\n",
       "#sk-container-id-1 div.sk-parallel-item:first-child::after {\n",
       "  align-self: flex-end;\n",
       "  width: 50%;\n",
       "}\n",
       "\n",
       "#sk-container-id-1 div.sk-parallel-item:last-child::after {\n",
       "  align-self: flex-start;\n",
       "  width: 50%;\n",
       "}\n",
       "\n",
       "#sk-container-id-1 div.sk-parallel-item:only-child::after {\n",
       "  width: 0;\n",
       "}\n",
       "\n",
       "/* Serial-specific style estimator block */\n",
       "\n",
       "#sk-container-id-1 div.sk-serial {\n",
       "  display: flex;\n",
       "  flex-direction: column;\n",
       "  align-items: center;\n",
       "  background-color: var(--sklearn-color-background);\n",
       "  padding-right: 1em;\n",
       "  padding-left: 1em;\n",
       "}\n",
       "\n",
       "\n",
       "/* Toggleable style: style used for estimator/Pipeline/ColumnTransformer box that is\n",
       "clickable and can be expanded/collapsed.\n",
       "- Pipeline and ColumnTransformer use this feature and define the default style\n",
       "- Estimators will overwrite some part of the style using the `sk-estimator` class\n",
       "*/\n",
       "\n",
       "/* Pipeline and ColumnTransformer style (default) */\n",
       "\n",
       "#sk-container-id-1 div.sk-toggleable {\n",
       "  /* Default theme specific background. It is overwritten whether we have a\n",
       "  specific estimator or a Pipeline/ColumnTransformer */\n",
       "  background-color: var(--sklearn-color-background);\n",
       "}\n",
       "\n",
       "/* Toggleable label */\n",
       "#sk-container-id-1 label.sk-toggleable__label {\n",
       "  cursor: pointer;\n",
       "  display: block;\n",
       "  width: 100%;\n",
       "  margin-bottom: 0;\n",
       "  padding: 0.5em;\n",
       "  box-sizing: border-box;\n",
       "  text-align: center;\n",
       "}\n",
       "\n",
       "#sk-container-id-1 label.sk-toggleable__label-arrow:before {\n",
       "  /* Arrow on the left of the label */\n",
       "  content: \"▸\";\n",
       "  float: left;\n",
       "  margin-right: 0.25em;\n",
       "  color: var(--sklearn-color-icon);\n",
       "}\n",
       "\n",
       "#sk-container-id-1 label.sk-toggleable__label-arrow:hover:before {\n",
       "  color: var(--sklearn-color-text);\n",
       "}\n",
       "\n",
       "/* Toggleable content - dropdown */\n",
       "\n",
       "#sk-container-id-1 div.sk-toggleable__content {\n",
       "  max-height: 0;\n",
       "  max-width: 0;\n",
       "  overflow: hidden;\n",
       "  text-align: left;\n",
       "  /* unfitted */\n",
       "  background-color: var(--sklearn-color-unfitted-level-0);\n",
       "}\n",
       "\n",
       "#sk-container-id-1 div.sk-toggleable__content.fitted {\n",
       "  /* fitted */\n",
       "  background-color: var(--sklearn-color-fitted-level-0);\n",
       "}\n",
       "\n",
       "#sk-container-id-1 div.sk-toggleable__content pre {\n",
       "  margin: 0.2em;\n",
       "  border-radius: 0.25em;\n",
       "  color: var(--sklearn-color-text);\n",
       "  /* unfitted */\n",
       "  background-color: var(--sklearn-color-unfitted-level-0);\n",
       "}\n",
       "\n",
       "#sk-container-id-1 div.sk-toggleable__content.fitted pre {\n",
       "  /* unfitted */\n",
       "  background-color: var(--sklearn-color-fitted-level-0);\n",
       "}\n",
       "\n",
       "#sk-container-id-1 input.sk-toggleable__control:checked~div.sk-toggleable__content {\n",
       "  /* Expand drop-down */\n",
       "  max-height: 200px;\n",
       "  max-width: 100%;\n",
       "  overflow: auto;\n",
       "}\n",
       "\n",
       "#sk-container-id-1 input.sk-toggleable__control:checked~label.sk-toggleable__label-arrow:before {\n",
       "  content: \"▾\";\n",
       "}\n",
       "\n",
       "/* Pipeline/ColumnTransformer-specific style */\n",
       "\n",
       "#sk-container-id-1 div.sk-label input.sk-toggleable__control:checked~label.sk-toggleable__label {\n",
       "  color: var(--sklearn-color-text);\n",
       "  background-color: var(--sklearn-color-unfitted-level-2);\n",
       "}\n",
       "\n",
       "#sk-container-id-1 div.sk-label.fitted input.sk-toggleable__control:checked~label.sk-toggleable__label {\n",
       "  background-color: var(--sklearn-color-fitted-level-2);\n",
       "}\n",
       "\n",
       "/* Estimator-specific style */\n",
       "\n",
       "/* Colorize estimator box */\n",
       "#sk-container-id-1 div.sk-estimator input.sk-toggleable__control:checked~label.sk-toggleable__label {\n",
       "  /* unfitted */\n",
       "  background-color: var(--sklearn-color-unfitted-level-2);\n",
       "}\n",
       "\n",
       "#sk-container-id-1 div.sk-estimator.fitted input.sk-toggleable__control:checked~label.sk-toggleable__label {\n",
       "  /* fitted */\n",
       "  background-color: var(--sklearn-color-fitted-level-2);\n",
       "}\n",
       "\n",
       "#sk-container-id-1 div.sk-label label.sk-toggleable__label,\n",
       "#sk-container-id-1 div.sk-label label {\n",
       "  /* The background is the default theme color */\n",
       "  color: var(--sklearn-color-text-on-default-background);\n",
       "}\n",
       "\n",
       "/* On hover, darken the color of the background */\n",
       "#sk-container-id-1 div.sk-label:hover label.sk-toggleable__label {\n",
       "  color: var(--sklearn-color-text);\n",
       "  background-color: var(--sklearn-color-unfitted-level-2);\n",
       "}\n",
       "\n",
       "/* Label box, darken color on hover, fitted */\n",
       "#sk-container-id-1 div.sk-label.fitted:hover label.sk-toggleable__label.fitted {\n",
       "  color: var(--sklearn-color-text);\n",
       "  background-color: var(--sklearn-color-fitted-level-2);\n",
       "}\n",
       "\n",
       "/* Estimator label */\n",
       "\n",
       "#sk-container-id-1 div.sk-label label {\n",
       "  font-family: monospace;\n",
       "  font-weight: bold;\n",
       "  display: inline-block;\n",
       "  line-height: 1.2em;\n",
       "}\n",
       "\n",
       "#sk-container-id-1 div.sk-label-container {\n",
       "  text-align: center;\n",
       "}\n",
       "\n",
       "/* Estimator-specific */\n",
       "#sk-container-id-1 div.sk-estimator {\n",
       "  font-family: monospace;\n",
       "  border: 1px dotted var(--sklearn-color-border-box);\n",
       "  border-radius: 0.25em;\n",
       "  box-sizing: border-box;\n",
       "  margin-bottom: 0.5em;\n",
       "  /* unfitted */\n",
       "  background-color: var(--sklearn-color-unfitted-level-0);\n",
       "}\n",
       "\n",
       "#sk-container-id-1 div.sk-estimator.fitted {\n",
       "  /* fitted */\n",
       "  background-color: var(--sklearn-color-fitted-level-0);\n",
       "}\n",
       "\n",
       "/* on hover */\n",
       "#sk-container-id-1 div.sk-estimator:hover {\n",
       "  /* unfitted */\n",
       "  background-color: var(--sklearn-color-unfitted-level-2);\n",
       "}\n",
       "\n",
       "#sk-container-id-1 div.sk-estimator.fitted:hover {\n",
       "  /* fitted */\n",
       "  background-color: var(--sklearn-color-fitted-level-2);\n",
       "}\n",
       "\n",
       "/* Specification for estimator info (e.g. \"i\" and \"?\") */\n",
       "\n",
       "/* Common style for \"i\" and \"?\" */\n",
       "\n",
       ".sk-estimator-doc-link,\n",
       "a:link.sk-estimator-doc-link,\n",
       "a:visited.sk-estimator-doc-link {\n",
       "  float: right;\n",
       "  font-size: smaller;\n",
       "  line-height: 1em;\n",
       "  font-family: monospace;\n",
       "  background-color: var(--sklearn-color-background);\n",
       "  border-radius: 1em;\n",
       "  height: 1em;\n",
       "  width: 1em;\n",
       "  text-decoration: none !important;\n",
       "  margin-left: 1ex;\n",
       "  /* unfitted */\n",
       "  border: var(--sklearn-color-unfitted-level-1) 1pt solid;\n",
       "  color: var(--sklearn-color-unfitted-level-1);\n",
       "}\n",
       "\n",
       ".sk-estimator-doc-link.fitted,\n",
       "a:link.sk-estimator-doc-link.fitted,\n",
       "a:visited.sk-estimator-doc-link.fitted {\n",
       "  /* fitted */\n",
       "  border: var(--sklearn-color-fitted-level-1) 1pt solid;\n",
       "  color: var(--sklearn-color-fitted-level-1);\n",
       "}\n",
       "\n",
       "/* On hover */\n",
       "div.sk-estimator:hover .sk-estimator-doc-link:hover,\n",
       ".sk-estimator-doc-link:hover,\n",
       "div.sk-label-container:hover .sk-estimator-doc-link:hover,\n",
       ".sk-estimator-doc-link:hover {\n",
       "  /* unfitted */\n",
       "  background-color: var(--sklearn-color-unfitted-level-3);\n",
       "  color: var(--sklearn-color-background);\n",
       "  text-decoration: none;\n",
       "}\n",
       "\n",
       "div.sk-estimator.fitted:hover .sk-estimator-doc-link.fitted:hover,\n",
       ".sk-estimator-doc-link.fitted:hover,\n",
       "div.sk-label-container:hover .sk-estimator-doc-link.fitted:hover,\n",
       ".sk-estimator-doc-link.fitted:hover {\n",
       "  /* fitted */\n",
       "  background-color: var(--sklearn-color-fitted-level-3);\n",
       "  color: var(--sklearn-color-background);\n",
       "  text-decoration: none;\n",
       "}\n",
       "\n",
       "/* Span, style for the box shown on hovering the info icon */\n",
       ".sk-estimator-doc-link span {\n",
       "  display: none;\n",
       "  z-index: 9999;\n",
       "  position: relative;\n",
       "  font-weight: normal;\n",
       "  right: .2ex;\n",
       "  padding: .5ex;\n",
       "  margin: .5ex;\n",
       "  width: min-content;\n",
       "  min-width: 20ex;\n",
       "  max-width: 50ex;\n",
       "  color: var(--sklearn-color-text);\n",
       "  box-shadow: 2pt 2pt 4pt #999;\n",
       "  /* unfitted */\n",
       "  background: var(--sklearn-color-unfitted-level-0);\n",
       "  border: .5pt solid var(--sklearn-color-unfitted-level-3);\n",
       "}\n",
       "\n",
       ".sk-estimator-doc-link.fitted span {\n",
       "  /* fitted */\n",
       "  background: var(--sklearn-color-fitted-level-0);\n",
       "  border: var(--sklearn-color-fitted-level-3);\n",
       "}\n",
       "\n",
       ".sk-estimator-doc-link:hover span {\n",
       "  display: block;\n",
       "}\n",
       "\n",
       "/* \"?\"-specific style due to the `<a>` HTML tag */\n",
       "\n",
       "#sk-container-id-1 a.estimator_doc_link {\n",
       "  float: right;\n",
       "  font-size: 1rem;\n",
       "  line-height: 1em;\n",
       "  font-family: monospace;\n",
       "  background-color: var(--sklearn-color-background);\n",
       "  border-radius: 1rem;\n",
       "  height: 1rem;\n",
       "  width: 1rem;\n",
       "  text-decoration: none;\n",
       "  /* unfitted */\n",
       "  color: var(--sklearn-color-unfitted-level-1);\n",
       "  border: var(--sklearn-color-unfitted-level-1) 1pt solid;\n",
       "}\n",
       "\n",
       "#sk-container-id-1 a.estimator_doc_link.fitted {\n",
       "  /* fitted */\n",
       "  border: var(--sklearn-color-fitted-level-1) 1pt solid;\n",
       "  color: var(--sklearn-color-fitted-level-1);\n",
       "}\n",
       "\n",
       "/* On hover */\n",
       "#sk-container-id-1 a.estimator_doc_link:hover {\n",
       "  /* unfitted */\n",
       "  background-color: var(--sklearn-color-unfitted-level-3);\n",
       "  color: var(--sklearn-color-background);\n",
       "  text-decoration: none;\n",
       "}\n",
       "\n",
       "#sk-container-id-1 a.estimator_doc_link.fitted:hover {\n",
       "  /* fitted */\n",
       "  background-color: var(--sklearn-color-fitted-level-3);\n",
       "}\n",
       "</style><div id=\"sk-container-id-1\" class=\"sk-top-container\"><div class=\"sk-text-repr-fallback\"><pre>NearestNeighbors(algorithm=&#x27;brute&#x27;, metric=&#x27;euclidean&#x27;)</pre><b>In a Jupyter environment, please rerun this cell to show the HTML representation or trust the notebook. <br />On GitHub, the HTML representation is unable to render, please try loading this page with nbviewer.org.</b></div><div class=\"sk-container\" hidden><div class=\"sk-item\"><div class=\"sk-estimator fitted sk-toggleable\"><input class=\"sk-toggleable__control sk-hidden--visually\" id=\"sk-estimator-id-1\" type=\"checkbox\" checked><label for=\"sk-estimator-id-1\" class=\"sk-toggleable__label fitted sk-toggleable__label-arrow fitted\">&nbsp;&nbsp;NearestNeighbors<a class=\"sk-estimator-doc-link fitted\" rel=\"noreferrer\" target=\"_blank\" href=\"https://scikit-learn.org/1.5/modules/generated/sklearn.neighbors.NearestNeighbors.html\">?<span>Documentation for NearestNeighbors</span></a><span class=\"sk-estimator-doc-link fitted\">i<span>Fitted</span></span></label><div class=\"sk-toggleable__content fitted\"><pre>NearestNeighbors(algorithm=&#x27;brute&#x27;, metric=&#x27;euclidean&#x27;)</pre></div> </div></div></div></div>"
      ],
      "text/plain": [
       "NearestNeighbors(algorithm='brute', metric='euclidean')"
      ]
     },
     "execution_count": 25,
     "metadata": {},
     "output_type": "execute_result"
    }
   ],
   "source": [
    "nn_model.fit(combined_features)"
   ]
  },
  {
   "cell_type": "markdown",
   "id": "ab917065",
   "metadata": {},
   "source": [
    "# Part 5: Recommendation Function"
   ]
  },
  {
   "cell_type": "code",
   "execution_count": 26,
   "id": "5d2bed70",
   "metadata": {},
   "outputs": [],
   "source": [
    "def recommend_games(game_title, num_recommendations=5):\n",
    "    try:\n",
    "        game_index = data_games[data_games['game_name'] == game_title].index[0]\n",
    "\n",
    "        game_features = combined_features[game_index:game_index+1]\n",
    "\n",
    "        distances, indices = nn_model.kneighbors(game_features, n_neighbors=num_recommendations + 1)\n",
    "\n",
    "        recommendations = []\n",
    "        for i in range(1, len(distances[0])):\n",
    "            rec_index = indices[0][i]\n",
    "            rec_title = data_games['game_name'].iloc[rec_index]\n",
    "            rec_genre = data_games['genre'].iloc[rec_index] if 'genre' in data_games.columns else 'Unknown'\n",
    "            rec_rating = data_games['rating'].iloc[rec_index] if 'rating' in data_games.columns else 'Unknown'\n",
    "            rec_distance = distances[0][i]\n",
    "            recommendations.append((rec_title, rec_genre, rec_rating, rec_distance))\n",
    "\n",
    "        return recommendations\n",
    "    except IndexError:\n",
    "        print(f\"Game '{game_title}' not found in the dataset.\")\n",
    "        return []\n"
   ]
  },
  {
   "cell_type": "markdown",
   "id": "99d0d439",
   "metadata": {},
   "source": [
    "# Part 6: Evaluation and Visualization"
   ]
  },
  {
   "cell_type": "code",
   "execution_count": 27,
   "id": "dc6b6cbd",
   "metadata": {},
   "outputs": [],
   "source": [
    "sample_games = [\n",
    "    \"The Legend of Zelda: Ocarina of Time\",\n",
    "    \"Super Mario Galaxy\",\n",
    "    \"Halo: Combat Evolved\",\n",
    "    \"Persona 5 Royal\"\n",
    "]"
   ]
  },
  {
   "cell_type": "code",
   "execution_count": 28,
   "id": "5e39f0cb",
   "metadata": {},
   "outputs": [
    {
     "name": "stdout",
     "output_type": "stream",
     "text": [
      "\n",
      "DataFrame of Recommendations:\n"
     ]
    },
    {
     "data": {
      "application/vnd.microsoft.datawrangler.viewer.v0+json": {
       "columns": [
        {
         "name": "index",
         "rawType": "int64",
         "type": "integer"
        },
        {
         "name": "Base Game",
         "rawType": "object",
         "type": "string"
        },
        {
         "name": "Recommended Game",
         "rawType": "object",
         "type": "string"
        },
        {
         "name": "Genre",
         "rawType": "object",
         "type": "string"
        },
        {
         "name": "Rating",
         "rawType": "object",
         "type": "string"
        },
        {
         "name": "Distance",
         "rawType": "float64",
         "type": "float"
        }
       ],
       "conversionMethod": "pd.DataFrame",
       "ref": "bfb2deee-03c7-460d-bc77-c1573f5a60fb",
       "rows": [
        [
         "0",
         "The Legend of Zelda: Ocarina of Time",
         "The Legend of Zelda: Majora's Mask",
         "Action Adventure Fantasy",
         "E",
         "1.3875472968431706"
        ],
        [
         "1",
         "The Legend of Zelda: Ocarina of Time",
         "The Legend of Zelda: The Wind Waker",
         "Action Adventure Fantasy",
         "E",
         "1.917349404483673"
        ],
        [
         "2",
         "The Legend of Zelda: Ocarina of Time",
         "The Legend of Zelda: A Link to the Past",
         "Action Adventure Fantasy",
         "E",
         "1.9742618832009853"
        ],
        [
         "3",
         "The Legend of Zelda: Ocarina of Time",
         "The Legend of Zelda Collector's Edition",
         "Action Adventure Fantasy",
         "E",
         "2.1247128887043205"
        ],
        [
         "4",
         "The Legend of Zelda: Ocarina of Time",
         "Super Mario 64",
         "Action Platformer 3D",
         "E",
         "2.1486070826591352"
        ],
        [
         "5",
         "Super Mario Galaxy",
         "Super Mario Galaxy 2",
         "Action Platformer 3D",
         "E",
         "1.1225124937119497"
        ],
        [
         "6",
         "Super Mario Galaxy",
         "Super Mario 3D World",
         "Platformer 3D Action",
         "E",
         "1.3686677129626177"
        ],
        [
         "7",
         "Super Mario Galaxy",
         "Super Mario Odyssey",
         "Action Platformer 3D",
         "E10+",
         "1.8378538393202999"
        ],
        [
         "8",
         "Super Mario Galaxy",
         "Super Smash Bros. Brawl",
         "Action Fighting 3D 2D",
         "T",
         "1.8481761898973288"
        ],
        [
         "9",
         "Super Mario Galaxy",
         "Super Smash Bros. for Wii U",
         "Action Fighting 3D 2D",
         "E10+",
         "1.9087316281461113"
        ],
        [
         "10",
         "Halo: Combat Evolved",
         "Halo 3",
         "Action Shooter First-Person Sci-Fi Arcade",
         "M",
         "1.577950259832015"
        ],
        [
         "11",
         "Halo: Combat Evolved",
         "Gears of War",
         "Action Shooter Third-Person Sci-Fi Arcade",
         "M",
         "1.8777110616152228"
        ],
        [
         "12",
         "Halo: Combat Evolved",
         "Halo: Reach",
         "Action Shooter First-Person Sci-Fi Arcade",
         "M",
         "1.9491867502946638"
        ],
        [
         "13",
         "Halo: Combat Evolved",
         "Metroid Prime",
         "Action Shooter First-Person Sci-Fi",
         "T",
         "1.9938439474481247"
        ],
        [
         "14",
         "Halo: Combat Evolved",
         "Ninja Gaiden Black",
         "Action Adventure Fantasy",
         "M",
         "2.0345427430813725"
        ],
        [
         "15",
         "Persona 5 Royal",
         "Persona 5",
         "Role-Playing Japanese-Style",
         "M",
         "1.231323789318583"
        ],
        [
         "16",
         "Persona 5 Royal",
         "Persona 4 Golden",
         "Role-Playing Console-style RPG Japanese-Style",
         "M",
         "1.6367761127385965"
        ],
        [
         "17",
         "Persona 5 Royal",
         "Chrono Cross",
         "Role-Playing Console-style RPG",
         "T",
         "1.7154818549939477"
        ],
        [
         "18",
         "Persona 5 Royal",
         "Final Fantasy X",
         "Role-Playing Console-style RPG",
         "T",
         "1.8653580101183596"
        ],
        [
         "19",
         "Persona 5 Royal",
         "Gran Turismo 3: A-Spec",
         "Driving Racing GT / Street",
         "E",
         "1.9228567882098906"
        ]
       ],
       "shape": {
        "columns": 5,
        "rows": 20
       }
      },
      "text/html": [
       "<div>\n",
       "<style scoped>\n",
       "    .dataframe tbody tr th:only-of-type {\n",
       "        vertical-align: middle;\n",
       "    }\n",
       "\n",
       "    .dataframe tbody tr th {\n",
       "        vertical-align: top;\n",
       "    }\n",
       "\n",
       "    .dataframe thead th {\n",
       "        text-align: right;\n",
       "    }\n",
       "</style>\n",
       "<table border=\"1\" class=\"dataframe\">\n",
       "  <thead>\n",
       "    <tr style=\"text-align: right;\">\n",
       "      <th></th>\n",
       "      <th>Base Game</th>\n",
       "      <th>Recommended Game</th>\n",
       "      <th>Genre</th>\n",
       "      <th>Rating</th>\n",
       "      <th>Distance</th>\n",
       "    </tr>\n",
       "  </thead>\n",
       "  <tbody>\n",
       "    <tr>\n",
       "      <th>0</th>\n",
       "      <td>The Legend of Zelda: Ocarina of Time</td>\n",
       "      <td>The Legend of Zelda: Majora's Mask</td>\n",
       "      <td>Action Adventure Fantasy</td>\n",
       "      <td>E</td>\n",
       "      <td>1.387547</td>\n",
       "    </tr>\n",
       "    <tr>\n",
       "      <th>1</th>\n",
       "      <td>The Legend of Zelda: Ocarina of Time</td>\n",
       "      <td>The Legend of Zelda: The Wind Waker</td>\n",
       "      <td>Action Adventure Fantasy</td>\n",
       "      <td>E</td>\n",
       "      <td>1.917349</td>\n",
       "    </tr>\n",
       "    <tr>\n",
       "      <th>2</th>\n",
       "      <td>The Legend of Zelda: Ocarina of Time</td>\n",
       "      <td>The Legend of Zelda: A Link to the Past</td>\n",
       "      <td>Action Adventure Fantasy</td>\n",
       "      <td>E</td>\n",
       "      <td>1.974262</td>\n",
       "    </tr>\n",
       "    <tr>\n",
       "      <th>3</th>\n",
       "      <td>The Legend of Zelda: Ocarina of Time</td>\n",
       "      <td>The Legend of Zelda Collector's Edition</td>\n",
       "      <td>Action Adventure Fantasy</td>\n",
       "      <td>E</td>\n",
       "      <td>2.124713</td>\n",
       "    </tr>\n",
       "    <tr>\n",
       "      <th>4</th>\n",
       "      <td>The Legend of Zelda: Ocarina of Time</td>\n",
       "      <td>Super Mario 64</td>\n",
       "      <td>Action Platformer 3D</td>\n",
       "      <td>E</td>\n",
       "      <td>2.148607</td>\n",
       "    </tr>\n",
       "    <tr>\n",
       "      <th>5</th>\n",
       "      <td>Super Mario Galaxy</td>\n",
       "      <td>Super Mario Galaxy 2</td>\n",
       "      <td>Action Platformer 3D</td>\n",
       "      <td>E</td>\n",
       "      <td>1.122512</td>\n",
       "    </tr>\n",
       "    <tr>\n",
       "      <th>6</th>\n",
       "      <td>Super Mario Galaxy</td>\n",
       "      <td>Super Mario 3D World</td>\n",
       "      <td>Platformer 3D Action</td>\n",
       "      <td>E</td>\n",
       "      <td>1.368668</td>\n",
       "    </tr>\n",
       "    <tr>\n",
       "      <th>7</th>\n",
       "      <td>Super Mario Galaxy</td>\n",
       "      <td>Super Mario Odyssey</td>\n",
       "      <td>Action Platformer 3D</td>\n",
       "      <td>E10+</td>\n",
       "      <td>1.837854</td>\n",
       "    </tr>\n",
       "    <tr>\n",
       "      <th>8</th>\n",
       "      <td>Super Mario Galaxy</td>\n",
       "      <td>Super Smash Bros. Brawl</td>\n",
       "      <td>Action Fighting 3D 2D</td>\n",
       "      <td>T</td>\n",
       "      <td>1.848176</td>\n",
       "    </tr>\n",
       "    <tr>\n",
       "      <th>9</th>\n",
       "      <td>Super Mario Galaxy</td>\n",
       "      <td>Super Smash Bros. for Wii U</td>\n",
       "      <td>Action Fighting 3D 2D</td>\n",
       "      <td>E10+</td>\n",
       "      <td>1.908732</td>\n",
       "    </tr>\n",
       "    <tr>\n",
       "      <th>10</th>\n",
       "      <td>Halo: Combat Evolved</td>\n",
       "      <td>Halo 3</td>\n",
       "      <td>Action Shooter First-Person Sci-Fi Arcade</td>\n",
       "      <td>M</td>\n",
       "      <td>1.577950</td>\n",
       "    </tr>\n",
       "    <tr>\n",
       "      <th>11</th>\n",
       "      <td>Halo: Combat Evolved</td>\n",
       "      <td>Gears of War</td>\n",
       "      <td>Action Shooter Third-Person Sci-Fi Arcade</td>\n",
       "      <td>M</td>\n",
       "      <td>1.877711</td>\n",
       "    </tr>\n",
       "    <tr>\n",
       "      <th>12</th>\n",
       "      <td>Halo: Combat Evolved</td>\n",
       "      <td>Halo: Reach</td>\n",
       "      <td>Action Shooter First-Person Sci-Fi Arcade</td>\n",
       "      <td>M</td>\n",
       "      <td>1.949187</td>\n",
       "    </tr>\n",
       "    <tr>\n",
       "      <th>13</th>\n",
       "      <td>Halo: Combat Evolved</td>\n",
       "      <td>Metroid Prime</td>\n",
       "      <td>Action Shooter First-Person Sci-Fi</td>\n",
       "      <td>T</td>\n",
       "      <td>1.993844</td>\n",
       "    </tr>\n",
       "    <tr>\n",
       "      <th>14</th>\n",
       "      <td>Halo: Combat Evolved</td>\n",
       "      <td>Ninja Gaiden Black</td>\n",
       "      <td>Action Adventure Fantasy</td>\n",
       "      <td>M</td>\n",
       "      <td>2.034543</td>\n",
       "    </tr>\n",
       "    <tr>\n",
       "      <th>15</th>\n",
       "      <td>Persona 5 Royal</td>\n",
       "      <td>Persona 5</td>\n",
       "      <td>Role-Playing Japanese-Style</td>\n",
       "      <td>M</td>\n",
       "      <td>1.231324</td>\n",
       "    </tr>\n",
       "    <tr>\n",
       "      <th>16</th>\n",
       "      <td>Persona 5 Royal</td>\n",
       "      <td>Persona 4 Golden</td>\n",
       "      <td>Role-Playing Console-style RPG Japanese-Style</td>\n",
       "      <td>M</td>\n",
       "      <td>1.636776</td>\n",
       "    </tr>\n",
       "    <tr>\n",
       "      <th>17</th>\n",
       "      <td>Persona 5 Royal</td>\n",
       "      <td>Chrono Cross</td>\n",
       "      <td>Role-Playing Console-style RPG</td>\n",
       "      <td>T</td>\n",
       "      <td>1.715482</td>\n",
       "    </tr>\n",
       "    <tr>\n",
       "      <th>18</th>\n",
       "      <td>Persona 5 Royal</td>\n",
       "      <td>Final Fantasy X</td>\n",
       "      <td>Role-Playing Console-style RPG</td>\n",
       "      <td>T</td>\n",
       "      <td>1.865358</td>\n",
       "    </tr>\n",
       "    <tr>\n",
       "      <th>19</th>\n",
       "      <td>Persona 5 Royal</td>\n",
       "      <td>Gran Turismo 3: A-Spec</td>\n",
       "      <td>Driving Racing GT / Street</td>\n",
       "      <td>E</td>\n",
       "      <td>1.922857</td>\n",
       "    </tr>\n",
       "  </tbody>\n",
       "</table>\n",
       "</div>"
      ],
      "text/plain": [
       "                               Base Game  \\\n",
       "0   The Legend of Zelda: Ocarina of Time   \n",
       "1   The Legend of Zelda: Ocarina of Time   \n",
       "2   The Legend of Zelda: Ocarina of Time   \n",
       "3   The Legend of Zelda: Ocarina of Time   \n",
       "4   The Legend of Zelda: Ocarina of Time   \n",
       "5                     Super Mario Galaxy   \n",
       "6                     Super Mario Galaxy   \n",
       "7                     Super Mario Galaxy   \n",
       "8                     Super Mario Galaxy   \n",
       "9                     Super Mario Galaxy   \n",
       "10                  Halo: Combat Evolved   \n",
       "11                  Halo: Combat Evolved   \n",
       "12                  Halo: Combat Evolved   \n",
       "13                  Halo: Combat Evolved   \n",
       "14                  Halo: Combat Evolved   \n",
       "15                       Persona 5 Royal   \n",
       "16                       Persona 5 Royal   \n",
       "17                       Persona 5 Royal   \n",
       "18                       Persona 5 Royal   \n",
       "19                       Persona 5 Royal   \n",
       "\n",
       "                           Recommended Game  \\\n",
       "0        The Legend of Zelda: Majora's Mask   \n",
       "1       The Legend of Zelda: The Wind Waker   \n",
       "2   The Legend of Zelda: A Link to the Past   \n",
       "3   The Legend of Zelda Collector's Edition   \n",
       "4                            Super Mario 64   \n",
       "5                      Super Mario Galaxy 2   \n",
       "6                      Super Mario 3D World   \n",
       "7                       Super Mario Odyssey   \n",
       "8                   Super Smash Bros. Brawl   \n",
       "9               Super Smash Bros. for Wii U   \n",
       "10                                   Halo 3   \n",
       "11                             Gears of War   \n",
       "12                              Halo: Reach   \n",
       "13                            Metroid Prime   \n",
       "14                       Ninja Gaiden Black   \n",
       "15                                Persona 5   \n",
       "16                         Persona 4 Golden   \n",
       "17                             Chrono Cross   \n",
       "18                          Final Fantasy X   \n",
       "19                   Gran Turismo 3: A-Spec   \n",
       "\n",
       "                                            Genre Rating  Distance  \n",
       "0                        Action Adventure Fantasy      E  1.387547  \n",
       "1                        Action Adventure Fantasy      E  1.917349  \n",
       "2                        Action Adventure Fantasy      E  1.974262  \n",
       "3                        Action Adventure Fantasy      E  2.124713  \n",
       "4                            Action Platformer 3D      E  2.148607  \n",
       "5                            Action Platformer 3D      E  1.122512  \n",
       "6                            Platformer 3D Action      E  1.368668  \n",
       "7                            Action Platformer 3D   E10+  1.837854  \n",
       "8                           Action Fighting 3D 2D      T  1.848176  \n",
       "9                           Action Fighting 3D 2D   E10+  1.908732  \n",
       "10      Action Shooter First-Person Sci-Fi Arcade      M  1.577950  \n",
       "11      Action Shooter Third-Person Sci-Fi Arcade      M  1.877711  \n",
       "12      Action Shooter First-Person Sci-Fi Arcade      M  1.949187  \n",
       "13             Action Shooter First-Person Sci-Fi      T  1.993844  \n",
       "14                       Action Adventure Fantasy      M  2.034543  \n",
       "15                    Role-Playing Japanese-Style      M  1.231324  \n",
       "16  Role-Playing Console-style RPG Japanese-Style      M  1.636776  \n",
       "17                 Role-Playing Console-style RPG      T  1.715482  \n",
       "18                 Role-Playing Console-style RPG      T  1.865358  \n",
       "19                     Driving Racing GT / Street      E  1.922857  "
      ]
     },
     "execution_count": 28,
     "metadata": {},
     "output_type": "execute_result"
    }
   ],
   "source": [
    "all_distances = []\n",
    "recommendation_rows = []\n",
    "\n",
    "for game in sample_games:\n",
    "    recommendations = recommend_games(game, num_recommendations=5)\n",
    "    if recommendations:\n",
    "        for rec_title, rec_genre, rec_rating, rec_distance in recommendations:\n",
    "            all_distances.append(rec_distance) \n",
    "            recommendation_rows.append({\n",
    "                'Base Game': game,\n",
    "                'Recommended Game': rec_title,\n",
    "                'Genre': rec_genre,\n",
    "                'Rating': rec_rating,\n",
    "                'Distance': rec_distance\n",
    "            })\n",
    "\n",
    "recommendation_df = pd.DataFrame(recommendation_rows)\n",
    "\n",
    "print(\"\\nDataFrame of Recommendations:\")\n",
    "recommendation_df"
   ]
  },
  {
   "cell_type": "code",
   "execution_count": 29,
   "id": "97dc562a",
   "metadata": {},
   "outputs": [
    {
     "data": {
      "image/png": "[encoded data removed]",
      "text/plain": [
       "<Figure size 800x600 with 1 Axes>"
      ]
     },
     "metadata": {},
     "output_type": "display_data"
    }
   ],
   "source": [
    "plt.figure(figsize=(8, 6))\n",
    "sns.histplot(all_distances, bins=20, kde=True, color='purple')\n",
    "plt.title('Distribution of Euclidean Distances for Recommendations')\n",
    "plt.xlabel('Euclidean Distance')\n",
    "plt.ylabel('Count')\n",
    "plt.show()\n",
    "plt.savefig('recommendation_distances.png')\n",
    "plt.close()"
   ]
  },
  {
   "cell_type": "code",
   "execution_count": 32,
   "id": "0d6be398",
   "metadata": {},
   "outputs": [],
   "source": [
    "def intra_list_similarity(recommendations):\n",
    "    distances = [dist for *_, dist in recommendations]\n",
    "    return np.mean(distances) if distances else 0"
   ]
  },
  {
   "cell_type": "code",
   "execution_count": 33,
   "id": "a4f18c19",
   "metadata": {},
   "outputs": [
    {
     "name": "stdout",
     "output_type": "stream",
     "text": [
      "\n",
      "Intra-List Similarity (Average Euclidean Distance):\n",
      "The Legend of Zelda: Ocarina of Time: 1.91\n",
      "Super Mario Galaxy: 1.62\n",
      "Halo: Combat Evolved: 1.89\n",
      "Persona 5 Royal: 1.67\n"
     ]
    }
   ],
   "source": [
    "print(\"\\nIntra-List Similarity (Average Euclidean Distance):\")\n",
    "for game in sample_games:\n",
    "    recommendations = recommend_games(game, num_recommendations=5)\n",
    "    avg_distance = intra_list_similarity(recommendations)\n",
    "    print(f\"{game}: {avg_distance:.2f}\")"
   ]
  }
 ],
 "metadata": {
  "kernelspec": {
   "display_name": "Python 3",
   "language": "python",
   "name": "python3"
  },
  "language_info": {
   "codemirror_mode": {
    "name": "ipython",
    "version": 3
   },
   "file_extension": ".py",
   "mimetype": "text/x-python",
   "name": "python",
   "nbconvert_exporter": "python",
   "pygments_lexer": "ipython3",
   "version": "3.11.0"
  }
 },
 "nbformat": 4,
 "nbformat_minor": 5
}
