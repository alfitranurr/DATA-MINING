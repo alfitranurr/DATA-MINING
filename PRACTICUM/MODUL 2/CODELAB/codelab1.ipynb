{
 "cells": [
  {
   "cell_type": "markdown",
   "metadata": {},
   "source": [
    "# CODELAB 1\n",
    "\n",
    "1. Memuat dataset dengan menggunakan library pandas menjadi dataframe.\n",
    "2. Tampilkan 7 baris data awal dan tampilkan informasi dasar dataset.\n",
    "3. Hitung jumlah iuran dan tentukan rata-rata iuran dari semua anggota."
   ]
  },
  {
   "cell_type": "code",
   "execution_count": 11,
   "metadata": {},
   "outputs": [],
   "source": [
    "import pandas as pd"
   ]
  },
  {
   "cell_type": "code",
   "execution_count": 12,
   "metadata": {},
   "outputs": [],
   "source": [
    "# 1. Load the dataset into a dataframe\n",
    "df = pd.read_csv('International Logistic Association Memberships.csv')"
   ]
  },
  {
   "cell_type": "code",
   "execution_count": 17,
   "metadata": {},
   "outputs": [
    {
     "name": "stdout",
     "output_type": "stream",
     "text": [
      "First 7 rows of the dataset:\n",
      "   Member ID          Last name  First name              Address 1  \\\n",
      "0     100011               Tsao       Danny           27 Wu Tzu St   \n",
      "1     100012                Lei     Colleen     88 6th Avenue Teda   \n",
      "2     100013               Roth       Nancy       Hoefenstrasse 31   \n",
      "3     100014  Meneses Contreras  Karl-Oscar  Poniente 134 Ste. 740   \n",
      "4     100015              Nunez      Helmut      Andador Pinos 345   \n",
      "5     100016        Fitzpatrick      Dmitry       22 Hemingford Pl   \n",
      "6     100017             Andreu        Leya   Nevada de Colima 104   \n",
      "\n",
      "              Address 2 Address 3    Address 4 Address 5 Dues amount  \\\n",
      "0           Tamshui 251       NaN       Taiwan       NaN        $200   \n",
      "1        300457 TIANJIN       NaN        China       NaN        $500   \n",
      "2            Muehlethal       NaN  Switzerland      4812        $100   \n",
      "3          02300 México       DIF       Mexico       NaN        $500   \n",
      "4         45235 Zapopan       JAL       Mexico       NaN        $200   \n",
      "5                Whitby        ON       Canada   L1R 1G1        $100   \n",
      "6  20280 Aguascalientes       NaN       Mexico       NaN        $200   \n",
      "\n",
      "  Membership valid through          Member type  \n",
      "0                3/25/2021  Professional Member  \n",
      "1               10/12/2023     Corporate Member  \n",
      "2                1/11/2023    Student Associate  \n",
      "3                2/26/2021     Corporate Member  \n",
      "4                7/29/2023  Professional Member  \n",
      "5               12/15/2007    Student Associate  \n",
      "6                3/31/2021  Professional Member  \n"
     ]
    }
   ],
   "source": [
    "# 2. Display the first 7 rows and basic information\n",
    "print(\"First 7 rows of the dataset:\")\n",
    "print(df.head(7))"
   ]
  },
  {
   "cell_type": "code",
   "execution_count": 18,
   "metadata": {},
   "outputs": [
    {
     "name": "stdout",
     "output_type": "stream",
     "text": [
      "\n",
      "Basic information about the dataset:\n",
      "<class 'pandas.core.frame.DataFrame'>\n",
      "RangeIndex: 71 entries, 0 to 70\n",
      "Data columns (total 11 columns):\n",
      " #   Column                    Non-Null Count  Dtype \n",
      "---  ------                    --------------  ----- \n",
      " 0   Member ID                 71 non-null     int64 \n",
      " 1   Last name                 71 non-null     object\n",
      " 2   First name                71 non-null     object\n",
      " 3   Address 1                 71 non-null     object\n",
      " 4   Address 2                 71 non-null     object\n",
      " 5   Address 3                 30 non-null     object\n",
      " 6   Address 4                 71 non-null     object\n",
      " 7   Address 5                 39 non-null     object\n",
      " 8   Dues amount               71 non-null     object\n",
      " 9   Membership valid through  71 non-null     object\n",
      " 10  Member type               71 non-null     object\n",
      "dtypes: int64(1), object(10)\n",
      "memory usage: 6.2+ KB\n",
      "None\n"
     ]
    }
   ],
   "source": [
    "print(\"\\nBasic information about the dataset:\")\n",
    "print(df.info())"
   ]
  },
  {
   "cell_type": "code",
   "execution_count": 19,
   "metadata": {},
   "outputs": [
    {
     "name": "stdout",
     "output_type": "stream",
     "text": [
      "\n",
      "Descriptive Analytics: \n",
      "           Member ID\n",
      "count      71.000000\n",
      "mean   100045.929577\n",
      "std        21.106752\n",
      "min    100011.000000\n",
      "25%    100027.500000\n",
      "50%    100045.000000\n",
      "75%    100064.500000\n",
      "max    100082.000000\n"
     ]
    }
   ],
   "source": [
    "print(\"\\nDescriptive Analytics: \")\n",
    "print(df.describe())"
   ]
  },
  {
   "cell_type": "code",
   "execution_count": 20,
   "metadata": {},
   "outputs": [],
   "source": [
    "# 3. Convert the 'Dues amount' column to numeric\n",
    "# Remove the dollar sign and convert to float\n",
    "df['Dues amount'] = df['Dues amount'].str.replace('$', '').str.replace(',', '').astype(float)"
   ]
  },
  {
   "cell_type": "code",
   "execution_count": 22,
   "metadata": {},
   "outputs": [
    {
     "name": "stdout",
     "output_type": "stream",
     "text": [
      "\n",
      "Total dues amount: $18400.00\n",
      "Average dues per member: $259.15\n"
     ]
    }
   ],
   "source": [
    "# Calculate the total dues and average dues\n",
    "total_dues = df['Dues amount'].sum()\n",
    "average_dues = df['Dues amount'].mean()\n",
    "\n",
    "print(f\"\\nTotal dues amount: ${total_dues:.2f}\")\n",
    "print(f\"Average dues per member: ${average_dues:.2f}\")"
   ]
  }
 ],
 "metadata": {
  "kernelspec": {
   "display_name": "Python 3",
   "language": "python",
   "name": "python3"
  },
  "language_info": {
   "codemirror_mode": {
    "name": "ipython",
    "version": 3
   },
   "file_extension": ".py",
   "mimetype": "text/x-python",
   "name": "python",
   "nbconvert_exporter": "python",
   "pygments_lexer": "ipython3",
   "version": "3.13.2"
  }
 },
 "nbformat": 4,
 "nbformat_minor": 2
}
