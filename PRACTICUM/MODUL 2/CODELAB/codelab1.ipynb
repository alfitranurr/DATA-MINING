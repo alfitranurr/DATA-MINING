{
 "cells": [
  {
   "cell_type": "markdown",
   "metadata": {},
   "source": [
    "# CODELAB 1\n",
    "\n",
    "1. Memuat dataset dengan menggunakan library pandas menjadi dataframe.\n",
    "2. Tampilkan 7 baris data awal dan tampilkan informasi dasar dataset.\n",
    "3. Hitung jumlah iuran dan tentukan rata-rata iuran dari semua anggota."
   ]
  },
  {
   "cell_type": "code",
   "execution_count": 26,
   "metadata": {},
   "outputs": [
    {
     "name": "stdout",
     "output_type": "stream",
     "text": [
      "Requirement already satisfied: seaborn in c:\\users\\asus\\appdata\\local\\programs\\python\\python313\\lib\\site-packages (0.13.2)\n",
      "Requirement already satisfied: numpy!=1.24.0,>=1.20 in c:\\users\\asus\\appdata\\local\\programs\\python\\python313\\lib\\site-packages (from seaborn) (2.2.3)\n",
      "Requirement already satisfied: pandas>=1.2 in c:\\users\\asus\\appdata\\local\\programs\\python\\python313\\lib\\site-packages (from seaborn) (2.2.3)\n",
      "Requirement already satisfied: matplotlib!=3.6.1,>=3.4 in c:\\users\\asus\\appdata\\local\\programs\\python\\python313\\lib\\site-packages (from seaborn) (3.10.1)\n",
      "Requirement already satisfied: contourpy>=1.0.1 in c:\\users\\asus\\appdata\\local\\programs\\python\\python313\\lib\\site-packages (from matplotlib!=3.6.1,>=3.4->seaborn) (1.3.1)\n",
      "Requirement already satisfied: cycler>=0.10 in c:\\users\\asus\\appdata\\local\\programs\\python\\python313\\lib\\site-packages (from matplotlib!=3.6.1,>=3.4->seaborn) (0.12.1)\n",
      "Requirement already satisfied: fonttools>=4.22.0 in c:\\users\\asus\\appdata\\local\\programs\\python\\python313\\lib\\site-packages (from matplotlib!=3.6.1,>=3.4->seaborn) (4.56.0)\n",
      "Requirement already satisfied: kiwisolver>=1.3.1 in c:\\users\\asus\\appdata\\local\\programs\\python\\python313\\lib\\site-packages (from matplotlib!=3.6.1,>=3.4->seaborn) (1.4.8)\n",
      "Requirement already satisfied: packaging>=20.0 in c:\\users\\asus\\appdata\\roaming\\python\\python313\\site-packages (from matplotlib!=3.6.1,>=3.4->seaborn) (24.2)\n",
      "Requirement already satisfied: pillow>=8 in c:\\users\\asus\\appdata\\local\\programs\\python\\python313\\lib\\site-packages (from matplotlib!=3.6.1,>=3.4->seaborn) (11.1.0)\n",
      "Requirement already satisfied: pyparsing>=2.3.1 in c:\\users\\asus\\appdata\\local\\programs\\python\\python313\\lib\\site-packages (from matplotlib!=3.6.1,>=3.4->seaborn) (3.2.1)\n",
      "Requirement already satisfied: python-dateutil>=2.7 in c:\\users\\asus\\appdata\\roaming\\python\\python313\\site-packages (from matplotlib!=3.6.1,>=3.4->seaborn) (2.9.0.post0)\n",
      "Requirement already satisfied: pytz>=2020.1 in c:\\users\\asus\\appdata\\local\\programs\\python\\python313\\lib\\site-packages (from pandas>=1.2->seaborn) (2025.1)\n",
      "Requirement already satisfied: tzdata>=2022.7 in c:\\users\\asus\\appdata\\local\\programs\\python\\python313\\lib\\site-packages (from pandas>=1.2->seaborn) (2025.1)\n",
      "Requirement already satisfied: six>=1.5 in c:\\users\\asus\\appdata\\roaming\\python\\python313\\site-packages (from python-dateutil>=2.7->matplotlib!=3.6.1,>=3.4->seaborn) (1.17.0)\n",
      "Note: you may need to restart the kernel to use updated packages.\n"
     ]
    },
    {
     "name": "stderr",
     "output_type": "stream",
     "text": [
      "\n",
      "[notice] A new release of pip is available: 24.3.1 -> 25.0.1\n",
      "[notice] To update, run: python.exe -m pip install --upgrade pip\n"
     ]
    }
   ],
   "source": [
    "%pip install seaborn"
   ]
  },
  {
   "cell_type": "code",
   "execution_count": 27,
   "metadata": {},
   "outputs": [],
   "source": [
    "import pandas as pd\n",
    "import numpy as np\n",
    "import matplotlib.pyplot as plt\n",
    "import seaborn as sns"
   ]
  },
  {
   "cell_type": "code",
   "execution_count": 28,
   "metadata": {},
   "outputs": [],
   "source": [
    "# 1. Load the dataset into a dataframe\n",
    "df = pd.read_csv('International Logistic Association Memberships.csv')"
   ]
  },
  {
   "cell_type": "code",
   "execution_count": 29,
   "metadata": {},
   "outputs": [
    {
     "name": "stdout",
     "output_type": "stream",
     "text": [
      "First 7 rows of the dataset:\n",
      "   Member ID          Last name  First name              Address 1  \\\n",
      "0     100011               Tsao       Danny           27 Wu Tzu St   \n",
      "1     100012                Lei     Colleen     88 6th Avenue Teda   \n",
      "2     100013               Roth       Nancy       Hoefenstrasse 31   \n",
      "3     100014  Meneses Contreras  Karl-Oscar  Poniente 134 Ste. 740   \n",
      "4     100015              Nunez      Helmut      Andador Pinos 345   \n",
      "5     100016        Fitzpatrick      Dmitry       22 Hemingford Pl   \n",
      "6     100017             Andreu        Leya   Nevada de Colima 104   \n",
      "\n",
      "              Address 2 Address 3    Address 4 Address 5 Dues amount  \\\n",
      "0           Tamshui 251       NaN       Taiwan       NaN        $200   \n",
      "1        300457 TIANJIN       NaN        China       NaN        $500   \n",
      "2            Muehlethal       NaN  Switzerland      4812        $100   \n",
      "3          02300 México       DIF       Mexico       NaN        $500   \n",
      "4         45235 Zapopan       JAL       Mexico       NaN        $200   \n",
      "5                Whitby        ON       Canada   L1R 1G1        $100   \n",
      "6  20280 Aguascalientes       NaN       Mexico       NaN        $200   \n",
      "\n",
      "  Membership valid through          Member type  \n",
      "0                3/25/2021  Professional Member  \n",
      "1               10/12/2023     Corporate Member  \n",
      "2                1/11/2023    Student Associate  \n",
      "3                2/26/2021     Corporate Member  \n",
      "4                7/29/2023  Professional Member  \n",
      "5               12/15/2007    Student Associate  \n",
      "6                3/31/2021  Professional Member  \n"
     ]
    }
   ],
   "source": [
    "# 2. Display the first 7 rows and basic information\n",
    "print(\"First 7 rows of the dataset:\")\n",
    "print(df.head(7))"
   ]
  },
  {
   "cell_type": "code",
   "execution_count": 30,
   "metadata": {},
   "outputs": [
    {
     "name": "stdout",
     "output_type": "stream",
     "text": [
      "\n",
      "Basic information about the dataset:\n",
      "<class 'pandas.core.frame.DataFrame'>\n",
      "RangeIndex: 71 entries, 0 to 70\n",
      "Data columns (total 11 columns):\n",
      " #   Column                    Non-Null Count  Dtype \n",
      "---  ------                    --------------  ----- \n",
      " 0   Member ID                 71 non-null     int64 \n",
      " 1   Last name                 71 non-null     object\n",
      " 2   First name                71 non-null     object\n",
      " 3   Address 1                 71 non-null     object\n",
      " 4   Address 2                 71 non-null     object\n",
      " 5   Address 3                 30 non-null     object\n",
      " 6   Address 4                 71 non-null     object\n",
      " 7   Address 5                 39 non-null     object\n",
      " 8   Dues amount               71 non-null     object\n",
      " 9   Membership valid through  71 non-null     object\n",
      " 10  Member type               71 non-null     object\n",
      "dtypes: int64(1), object(10)\n",
      "memory usage: 6.2+ KB\n",
      "None\n"
     ]
    }
   ],
   "source": [
    "print(\"\\nBasic information about the dataset:\")\n",
    "print(df.info())"
   ]
  },
  {
   "cell_type": "code",
   "execution_count": 31,
   "metadata": {},
   "outputs": [
    {
     "name": "stdout",
     "output_type": "stream",
     "text": [
      "\n",
      "Descriptive Analytics: \n",
      "           Member ID\n",
      "count      71.000000\n",
      "mean   100045.929577\n",
      "std        21.106752\n",
      "min    100011.000000\n",
      "25%    100027.500000\n",
      "50%    100045.000000\n",
      "75%    100064.500000\n",
      "max    100082.000000\n"
     ]
    }
   ],
   "source": [
    "print(\"\\nDescriptive Analytics: \")\n",
    "print(df.describe())"
   ]
  },
  {
   "cell_type": "code",
   "execution_count": 32,
   "metadata": {},
   "outputs": [
    {
     "name": "stdout",
     "output_type": "stream",
     "text": [
      "\n",
      "Missing values in each column:\n",
      "Member ID                    0\n",
      "Last name                    0\n",
      "First name                   0\n",
      "Address 1                    0\n",
      "Address 2                    0\n",
      "Address 3                   41\n",
      "Address 4                    0\n",
      "Address 5                   32\n",
      "Dues amount                  0\n",
      "Membership valid through     0\n",
      "Member type                  0\n",
      "dtype: int64\n"
     ]
    }
   ],
   "source": [
    "# Check missing values\n",
    "print(\"\\nMissing values in each column:\")\n",
    "print(df.isnull().sum())"
   ]
  },
  {
   "cell_type": "code",
   "execution_count": 33,
   "metadata": {},
   "outputs": [],
   "source": [
    "# Handle missing values in Address 3 and Address 5\n",
    "# Option 1: Fill with a placeholder\n",
    "df['Address 3'] = df['Address 3'].fillna('N/A')\n",
    "df['Address 5'] = df['Address 5'].fillna('N/A')"
   ]
  },
  {
   "cell_type": "code",
   "execution_count": 34,
   "metadata": {},
   "outputs": [
    {
     "name": "stdout",
     "output_type": "stream",
     "text": [
      "\n",
      "Missing values in each column:\n",
      "Member ID                   0\n",
      "Last name                   0\n",
      "First name                  0\n",
      "Address 1                   0\n",
      "Address 2                   0\n",
      "Address 3                   0\n",
      "Address 4                   0\n",
      "Address 5                   0\n",
      "Dues amount                 0\n",
      "Membership valid through    0\n",
      "Member type                 0\n",
      "dtype: int64\n"
     ]
    }
   ],
   "source": [
    "# Check missing values\n",
    "print(\"\\nMissing values in each column:\")\n",
    "print(df.isnull().sum())"
   ]
  },
  {
   "cell_type": "code",
   "execution_count": 35,
   "metadata": {},
   "outputs": [],
   "source": [
    "# Alternative options:\n",
    "# Option 2: Drop rows with missing values (not recommended if you need all member data)\n",
    "# df = df.dropna(subset=['Address 3', 'Address 5'])"
   ]
  },
  {
   "cell_type": "code",
   "execution_count": 36,
   "metadata": {},
   "outputs": [
    {
     "data": {
      "text/plain": [
       "np.int64(1)"
      ]
     },
     "execution_count": 36,
     "metadata": {},
     "output_type": "execute_result"
    }
   ],
   "source": [
    "df.duplicated().sum()"
   ]
  },
  {
   "cell_type": "code",
   "execution_count": 37,
   "metadata": {},
   "outputs": [
    {
     "data": {
      "application/vnd.microsoft.datawrangler.viewer.v0+json": {
       "columns": [
        {
         "name": "index",
         "rawType": "int64",
         "type": "integer"
        },
        {
         "name": "Member ID",
         "rawType": "int64",
         "type": "integer"
        },
        {
         "name": "Last name",
         "rawType": "object",
         "type": "string"
        },
        {
         "name": "First name",
         "rawType": "object",
         "type": "string"
        },
        {
         "name": "Address 1",
         "rawType": "object",
         "type": "string"
        },
        {
         "name": "Address 2",
         "rawType": "object",
         "type": "string"
        },
        {
         "name": "Address 3",
         "rawType": "object",
         "type": "string"
        },
        {
         "name": "Address 4",
         "rawType": "object",
         "type": "string"
        },
        {
         "name": "Address 5",
         "rawType": "object",
         "type": "string"
        },
        {
         "name": "Dues amount",
         "rawType": "object",
         "type": "string"
        },
        {
         "name": "Membership valid through",
         "rawType": "object",
         "type": "string"
        },
        {
         "name": "Member type",
         "rawType": "object",
         "type": "string"
        }
       ],
       "conversionMethod": "pd.DataFrame",
       "ref": "7b2ec023-7c0e-46fe-b4c2-adf6362201ad",
       "rows": [
        [
         "16",
         "100027",
         "de Alava Casado",
         "Christophe",
         "Emilio Arrieta 23",
         "Pamplona",
         "N/A",
         "Spain",
         "31002",
         "$500",
         "7/13/2022",
         "Corporate Member"
        ],
        [
         "31",
         "100027",
         "de Alava Casado",
         "Christophe",
         "Emilio Arrieta 23",
         "Pamplona",
         "N/A",
         "Spain",
         "31002",
         "$500",
         "7/13/2022",
         "Corporate Member"
        ]
       ],
       "shape": {
        "columns": 11,
        "rows": 2
       }
      },
      "text/html": [
       "<div>\n",
       "<style scoped>\n",
       "    .dataframe tbody tr th:only-of-type {\n",
       "        vertical-align: middle;\n",
       "    }\n",
       "\n",
       "    .dataframe tbody tr th {\n",
       "        vertical-align: top;\n",
       "    }\n",
       "\n",
       "    .dataframe thead th {\n",
       "        text-align: right;\n",
       "    }\n",
       "</style>\n",
       "<table border=\"1\" class=\"dataframe\">\n",
       "  <thead>\n",
       "    <tr style=\"text-align: right;\">\n",
       "      <th></th>\n",
       "      <th>Member ID</th>\n",
       "      <th>Last name</th>\n",
       "      <th>First name</th>\n",
       "      <th>Address 1</th>\n",
       "      <th>Address 2</th>\n",
       "      <th>Address 3</th>\n",
       "      <th>Address 4</th>\n",
       "      <th>Address 5</th>\n",
       "      <th>Dues amount</th>\n",
       "      <th>Membership valid through</th>\n",
       "      <th>Member type</th>\n",
       "    </tr>\n",
       "  </thead>\n",
       "  <tbody>\n",
       "    <tr>\n",
       "      <th>16</th>\n",
       "      <td>100027</td>\n",
       "      <td>de Alava Casado</td>\n",
       "      <td>Christophe</td>\n",
       "      <td>Emilio Arrieta 23</td>\n",
       "      <td>Pamplona</td>\n",
       "      <td>N/A</td>\n",
       "      <td>Spain</td>\n",
       "      <td>31002</td>\n",
       "      <td>$500</td>\n",
       "      <td>7/13/2022</td>\n",
       "      <td>Corporate Member</td>\n",
       "    </tr>\n",
       "    <tr>\n",
       "      <th>31</th>\n",
       "      <td>100027</td>\n",
       "      <td>de Alava Casado</td>\n",
       "      <td>Christophe</td>\n",
       "      <td>Emilio Arrieta 23</td>\n",
       "      <td>Pamplona</td>\n",
       "      <td>N/A</td>\n",
       "      <td>Spain</td>\n",
       "      <td>31002</td>\n",
       "      <td>$500</td>\n",
       "      <td>7/13/2022</td>\n",
       "      <td>Corporate Member</td>\n",
       "    </tr>\n",
       "  </tbody>\n",
       "</table>\n",
       "</div>"
      ],
      "text/plain": [
       "    Member ID        Last name  First name          Address 1 Address 2  \\\n",
       "16     100027  de Alava Casado  Christophe  Emilio Arrieta 23  Pamplona   \n",
       "31     100027  de Alava Casado  Christophe  Emilio Arrieta 23  Pamplona   \n",
       "\n",
       "   Address 3 Address 4 Address 5 Dues amount Membership valid through  \\\n",
       "16       N/A     Spain     31002        $500                7/13/2022   \n",
       "31       N/A     Spain     31002        $500                7/13/2022   \n",
       "\n",
       "         Member type  \n",
       "16  Corporate Member  \n",
       "31  Corporate Member  "
      ]
     },
     "execution_count": 37,
     "metadata": {},
     "output_type": "execute_result"
    }
   ],
   "source": [
    "df[df.duplicated(keep=False)].sort_values(by=list(df.columns))\n"
   ]
  },
  {
   "cell_type": "code",
   "execution_count": 38,
   "metadata": {},
   "outputs": [],
   "source": [
    "df = df.drop_duplicates(keep='first')"
   ]
  },
  {
   "cell_type": "code",
   "execution_count": 39,
   "metadata": {},
   "outputs": [
    {
     "data": {
      "text/plain": [
       "np.int64(0)"
      ]
     },
     "execution_count": 39,
     "metadata": {},
     "output_type": "execute_result"
    }
   ],
   "source": [
    "# Memeriksa apakah data terduplikasi sudah terhapus\n",
    "df.duplicated().sum()"
   ]
  },
  {
   "cell_type": "code",
   "execution_count": 40,
   "metadata": {},
   "outputs": [
    {
     "name": "stdout",
     "output_type": "stream",
     "text": [
      "<class 'pandas.core.frame.DataFrame'>\n",
      "Index: 70 entries, 0 to 70\n",
      "Data columns (total 11 columns):\n",
      " #   Column                    Non-Null Count  Dtype \n",
      "---  ------                    --------------  ----- \n",
      " 0   Member ID                 70 non-null     int64 \n",
      " 1   Last name                 70 non-null     object\n",
      " 2   First name                70 non-null     object\n",
      " 3   Address 1                 70 non-null     object\n",
      " 4   Address 2                 70 non-null     object\n",
      " 5   Address 3                 70 non-null     object\n",
      " 6   Address 4                 70 non-null     object\n",
      " 7   Address 5                 70 non-null     object\n",
      " 8   Dues amount               70 non-null     object\n",
      " 9   Membership valid through  70 non-null     object\n",
      " 10  Member type               70 non-null     object\n",
      "dtypes: int64(1), object(10)\n",
      "memory usage: 6.6+ KB\n"
     ]
    }
   ],
   "source": [
    "df.info()"
   ]
  },
  {
   "cell_type": "code",
   "execution_count": 41,
   "metadata": {},
   "outputs": [],
   "source": [
    "# 4. Clean the 'Dues amount' column and convert to numeric\n",
    "df['Dues amount'] = df['Dues amount'].str.replace('$', '').str.replace(',', '').astype(float)"
   ]
  },
  {
   "cell_type": "code",
   "execution_count": 42,
   "metadata": {},
   "outputs": [
    {
     "data": {
      "image/png": "[encoded data removed]",
      "text/plain": [
       "<Figure size 800x600 with 1 Axes>"
      ]
     },
     "metadata": {},
     "output_type": "display_data"
    }
   ],
   "source": [
    "plt.figure(figsize=(8, 6))\n",
    "sns.boxplot(y=df['Dues amount'])  # Gunakan sumbu Y agar lebih jelas\n",
    "plt.title('Boxplot of Dues Amount')\n",
    "plt.ylabel('Dues Amount ($)')\n",
    "plt.show()"
   ]
  },
  {
   "cell_type": "code",
   "execution_count": 43,
   "metadata": {},
   "outputs": [
    {
     "name": "stdout",
     "output_type": "stream",
     "text": [
      "float64\n"
     ]
    }
   ],
   "source": [
    "print(df['Dues amount'].dtype)\n"
   ]
  },
  {
   "cell_type": "code",
   "execution_count": 44,
   "metadata": {},
   "outputs": [
    {
     "data": {
      "text/plain": [
       "count      70.000000\n",
       "mean      255.714286\n",
       "std       231.964337\n",
       "min       100.000000\n",
       "25%       100.000000\n",
       "50%       200.000000\n",
       "75%       200.000000\n",
       "max      1000.000000\n",
       "Name: Dues amount, dtype: float64"
      ]
     },
     "execution_count": 44,
     "metadata": {},
     "output_type": "execute_result"
    }
   ],
   "source": [
    "df['Dues amount'].describe()\n"
   ]
  },
  {
   "cell_type": "code",
   "execution_count": 45,
   "metadata": {},
   "outputs": [
    {
     "name": "stdout",
     "output_type": "stream",
     "text": [
      "\n",
      "Outlier boundaries for Dues amount:\n",
      "Lower bound: $-50.00\n",
      "Upper bound: $350.00\n",
      "\n",
      "Number of outliers detected: 11\n",
      "\n",
      "Outliers in Dues amount:\n",
      "    Member ID          Last name   First name  Dues amount\n",
      "1      100012                Lei      Colleen        500.0\n",
      "3      100014  Meneses Contreras   Karl-Oscar        500.0\n",
      "8      100019           Xiao-Hui      Michael        500.0\n",
      "16     100027    de Alava Casado   Christophe        500.0\n",
      "43     100054                Tan        Jenny        500.0\n",
      "44     100055                Koh        Joyce        500.0\n",
      "47     100058              Stack      Audette       1000.0\n",
      "50     100061             Eckert  Rohidasbhai       1000.0\n",
      "56     100068             Ramsay        Jones       1000.0\n",
      "57     100069              Corda           Wu       1000.0\n",
      "69     100081         St-Germain       Poulin       1000.0\n"
     ]
    }
   ],
   "source": [
    "# 4. Identify outliers using the IQR method\n",
    "Q1 = df['Dues amount'].quantile(0.25)\n",
    "Q3 = df['Dues amount'].quantile(0.75)\n",
    "IQR = Q3 - Q1\n",
    "\n",
    "# Define outliers as points outside 1.5 * IQR from Q1 and Q3\n",
    "lower_bound = Q1 - 1.5 * IQR\n",
    "upper_bound = Q3 + 1.5 * IQR\n",
    "\n",
    "# Find outliers\n",
    "outliers = df[(df['Dues amount'] < lower_bound) | (df['Dues amount'] > upper_bound)]\n",
    "\n",
    "print(f\"\\nOutlier boundaries for Dues amount:\")\n",
    "print(f\"Lower bound: ${lower_bound:.2f}\")\n",
    "print(f\"Upper bound: ${upper_bound:.2f}\")\n",
    "print(f\"\\nNumber of outliers detected: {len(outliers)}\")\n",
    "\n",
    "if len(outliers) > 0:\n",
    "    print(\"\\nOutliers in Dues amount:\")\n",
    "    print(outliers[['Member ID', 'Last name', 'First name', 'Dues amount']])"
   ]
  },
  {
   "cell_type": "code",
   "execution_count": 46,
   "metadata": {},
   "outputs": [],
   "source": [
    "median_value = df['Dues amount'].median()\n",
    "df.loc[(df['Dues amount'] < lower_bound) | (df['Dues amount'] > upper_bound), 'Dues amount'] = median_value\n"
   ]
  },
  {
   "cell_type": "code",
   "execution_count": 47,
   "metadata": {},
   "outputs": [
    {
     "data": {
      "text/plain": [
       "Member ID                                     100081\n",
       "Last name                                 St-Germain\n",
       "First name                                    Poulin\n",
       "Address 1                   600 Dr Frederick Philips\n",
       "Address 2                              Saint-Laurent\n",
       "Address 3                                         QC\n",
       "Address 4                                     Canada\n",
       "Address 5                                    H4M 2S9\n",
       "Dues amount                                    200.0\n",
       "Membership valid through                   2/17/2021\n",
       "Member type                         Corporate Voting\n",
       "Name: 69, dtype: object"
      ]
     },
     "execution_count": 47,
     "metadata": {},
     "output_type": "execute_result"
    }
   ],
   "source": [
    "df.iloc[68]"
   ]
  },
  {
   "cell_type": "code",
   "execution_count": 48,
   "metadata": {},
   "outputs": [
    {
     "name": "stdout",
     "output_type": "stream",
     "text": [
      "<class 'pandas.core.frame.DataFrame'>\n",
      "Index: 70 entries, 0 to 70\n",
      "Data columns (total 11 columns):\n",
      " #   Column                    Non-Null Count  Dtype  \n",
      "---  ------                    --------------  -----  \n",
      " 0   Member ID                 70 non-null     int64  \n",
      " 1   Last name                 70 non-null     object \n",
      " 2   First name                70 non-null     object \n",
      " 3   Address 1                 70 non-null     object \n",
      " 4   Address 2                 70 non-null     object \n",
      " 5   Address 3                 70 non-null     object \n",
      " 6   Address 4                 70 non-null     object \n",
      " 7   Address 5                 70 non-null     object \n",
      " 8   Dues amount               70 non-null     float64\n",
      " 9   Membership valid through  70 non-null     object \n",
      " 10  Member type               70 non-null     object \n",
      "dtypes: float64(1), int64(1), object(9)\n",
      "memory usage: 6.6+ KB\n"
     ]
    }
   ],
   "source": [
    "df.info()"
   ]
  },
  {
   "cell_type": "code",
   "execution_count": 49,
   "metadata": {},
   "outputs": [
    {
     "name": "stdout",
     "output_type": "stream",
     "text": [
      "\n",
      "Outlier boundaries for Dues amount:\n",
      "Lower bound: $-50.00\n",
      "Upper bound: $350.00\n",
      "\n",
      "Number of outliers detected: 0\n"
     ]
    }
   ],
   "source": [
    "# 4. Identify outliers using the IQR method\n",
    "Q1 = df['Dues amount'].quantile(0.25)\n",
    "Q3 = df['Dues amount'].quantile(0.75)\n",
    "IQR = Q3 - Q1\n",
    "\n",
    "# Define outliers as points outside 1.5 * IQR from Q1 and Q3\n",
    "lower_bound = Q1 - 1.5 * IQR\n",
    "upper_bound = Q3 + 1.5 * IQR\n",
    "\n",
    "# Find outliers\n",
    "outliers = df[(df['Dues amount'] < lower_bound) | (df['Dues amount'] > upper_bound)]\n",
    "\n",
    "print(f\"\\nOutlier boundaries for Dues amount:\")\n",
    "print(f\"Lower bound: ${lower_bound:.2f}\")\n",
    "print(f\"Upper bound: ${upper_bound:.2f}\")\n",
    "print(f\"\\nNumber of outliers detected: {len(outliers)}\")\n",
    "\n",
    "if len(outliers) > 0:\n",
    "    print(\"\\nOutliers in Dues amount:\")\n",
    "    print(outliers[['Member ID', 'Last name', 'First name', 'Dues amount']])"
   ]
  },
  {
   "cell_type": "code",
   "execution_count": 50,
   "metadata": {},
   "outputs": [
    {
     "name": "stdout",
     "output_type": "stream",
     "text": [
      "\n",
      "Total dues amount: $12100.00\n",
      "Average dues per member: $172.86\n"
     ]
    }
   ],
   "source": [
    "# 5. Calculate the total dues and average dues\n",
    "total_dues = df['Dues amount'].sum()\n",
    "average_dues = df['Dues amount'].mean()\n",
    "\n",
    "print(f\"\\nTotal dues amount: ${total_dues:.2f}\")\n",
    "print(f\"Average dues per member: ${average_dues:.2f}\")"
   ]
  }
 ],
 "metadata": {
  "kernelspec": {
   "display_name": "Python 3",
   "language": "python",
   "name": "python3"
  },
  "language_info": {
   "codemirror_mode": {
    "name": "ipython",
    "version": 3
   },
   "file_extension": ".py",
   "mimetype": "text/x-python",
   "name": "python",
   "nbconvert_exporter": "python",
   "pygments_lexer": "ipython3",
   "version": "3.13.2"
  }
 },
 "nbformat": 4,
 "nbformat_minor": 2
}
