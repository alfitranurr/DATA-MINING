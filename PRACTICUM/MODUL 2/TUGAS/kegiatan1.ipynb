{
 "cells": [
  {
   "cell_type": "markdown",
   "metadata": {},
   "source": [
    "# Kegiatan 1 - Exploratory Data Analysis"
   ]
  },
  {
   "cell_type": "markdown",
   "metadata": {},
   "source": [
    "1. Menampilkan metadata dataset secara lengkap disertai penjelasan ringkas\n",
    "2. Mengolah data (data cleaning dan data manipulation)\n",
    "3. Menganalisis business problem/question (minimal 5 analisis)\n",
    "4. Menampilkan analisis deskriptif statistik / data outlier"
   ]
  },
  {
   "cell_type": "code",
   "execution_count": 25,
   "metadata": {},
   "outputs": [],
   "source": [
    "import pandas as pd\n",
    "import numpy as np\n",
    "import matplotlib.pyplot as plt\n",
    "import seaborn as sns\n",
    "from datetime import datetime\n",
    "import re"
   ]
  },
  {
   "cell_type": "code",
   "execution_count": 26,
   "metadata": {},
   "outputs": [],
   "source": [
    "# Set display options\n",
    "pd.set_option('display.max_columns', None)\n",
    "pd.set_option('display.width', 1000)\n",
    "plt.style.use('ggplot')"
   ]
  },
  {
   "cell_type": "code",
   "execution_count": 28,
   "metadata": {},
   "outputs": [
    {
     "name": "stdout",
     "output_type": "stream",
     "text": [
      "==================================================\n",
      "DATASET METADATA ANALYSIS\n",
      "==================================================\n"
     ]
    }
   ],
   "source": [
    "# 1. Load and display dataset metadata\n",
    "print(\"=\" * 50)\n",
    "print(\"DATASET METADATA ANALYSIS\")\n",
    "print(\"=\" * 50)\n",
    "\n",
    "# Loading the data\n",
    "df = pd.read_csv('music tours.csv')"
   ]
  },
  {
   "cell_type": "code",
   "execution_count": 29,
   "metadata": {},
   "outputs": [
    {
     "name": "stdout",
     "output_type": "stream",
     "text": [
      "\n",
      "DATASET INFORMATION:\n",
      "Number of records: 20\n",
      "Number of features: 11\n",
      "\n",
      "Column names:\n",
      "- Rank\n",
      "- Peak\n",
      "- All Time Peak\n",
      "- Actual gross\n",
      "- Adjusted gross (in 2022 dollars)\n",
      "- Artist\n",
      "- Tour title\n",
      "- Year(s)\n",
      "- Shows\n",
      "- Average gross\n",
      "- Ref.\n"
     ]
    }
   ],
   "source": [
    "# Display basic metadata\n",
    "print(\"\\nDATASET INFORMATION:\")\n",
    "print(f\"Number of records: {df.shape[0]}\")\n",
    "print(f\"Number of features: {df.shape[1]}\")\n",
    "print(\"\\nColumn names:\")\n",
    "for col in df.columns:\n",
    "    print(f\"- {col}\")"
   ]
  },
  {
   "cell_type": "code",
   "execution_count": 30,
   "metadata": {},
   "outputs": [
    {
     "name": "stdout",
     "output_type": "stream",
     "text": [
      "\n",
      "Sample data (first 5 rows):\n",
      "   Rank  Peak All Time Peak  Actual gross Adjusted gross (in 2022 dollars)        Artist                   Tour title    Year(s)  Shows Average gross Ref.\n",
      "0     1     1             2  $780,000,000                     $780,000,000  Taylor Swift              The Eras Tour †  2023–2024     56   $13,928,571  [1]\n",
      "1     2     1          7[2]  $579,800,000                     $579,800,000       Beyoncé       Renaissance World Tour       2023     56   $10,353,571  [3]\n",
      "2     3  1[4]          2[5]  $411,000,000                     $560,622,615       Madonna  Sticky & Sweet Tour ‡[4][a]  2008–2009     85    $4,835,294  [6]\n",
      "3     4  2[7]         10[7]  $397,300,000                     $454,751,555          Pink  Beautiful Trauma World Tour  2018–2019    156    $2,546,795  [7]\n",
      "4     5  2[4]           NaN  $345,675,146                     $402,844,849  Taylor Swift      Reputation Stadium Tour       2018     53    $6,522,173  [8]\n"
     ]
    }
   ],
   "source": [
    "print(\"\\nSample data (first 5 rows):\")\n",
    "print(df.head())\n"
   ]
  },
  {
   "cell_type": "code",
   "execution_count": 31,
   "metadata": {},
   "outputs": [
    {
     "name": "stdout",
     "output_type": "stream",
     "text": [
      "['Rank', 'Peak', 'All Time Peak', 'Actual\\xa0gross', 'Adjusted\\xa0gross (in 2022 dollars)', 'Artist', 'Tour title', 'Year(s)', 'Shows', 'Average gross', 'Ref.']\n"
     ]
    }
   ],
   "source": [
    "print(df.columns.tolist())"
   ]
  },
  {
   "cell_type": "code",
   "execution_count": 33,
   "metadata": {},
   "outputs": [
    {
     "name": "stdout",
     "output_type": "stream",
     "text": [
      "<class 'pandas.core.frame.DataFrame'>\n",
      "RangeIndex: 20 entries, 0 to 19\n",
      "Data columns (total 11 columns):\n",
      " #   Column                            Non-Null Count  Dtype \n",
      "---  ------                            --------------  ----- \n",
      " 0   Rank                              20 non-null     int64 \n",
      " 1   Peak                              9 non-null      object\n",
      " 2   All Time Peak                     6 non-null      object\n",
      " 3   Actual gross                      20 non-null     object\n",
      " 4   Adjusted gross (in 2022 dollars)  20 non-null     object\n",
      " 5   Artist                            20 non-null     object\n",
      " 6   Tour title                        20 non-null     object\n",
      " 7   Year(s)                           20 non-null     object\n",
      " 8   Shows                             20 non-null     int64 \n",
      " 9   Average gross                     20 non-null     object\n",
      " 10  Ref.                              20 non-null     object\n",
      "dtypes: int64(2), object(9)\n",
      "memory usage: 1.8+ KB\n"
     ]
    }
   ],
   "source": [
    "df.info()"
   ]
  },
  {
   "cell_type": "code",
   "execution_count": 32,
   "metadata": {},
   "outputs": [
    {
     "name": "stdout",
     "output_type": "stream",
     "text": [
      "\n",
      "Data types:\n",
      "Rank                                 int64\n",
      "Peak                                object\n",
      "All Time Peak                       object\n",
      "Actual gross                        object\n",
      "Adjusted gross (in 2022 dollars)    object\n",
      "Artist                              object\n",
      "Tour title                          object\n",
      "Year(s)                             object\n",
      "Shows                                int64\n",
      "Average gross                       object\n",
      "Ref.                                object\n",
      "dtype: object\n"
     ]
    }
   ],
   "source": [
    "print(\"\\nData types:\")\n",
    "print(df.dtypes)"
   ]
  },
  {
   "cell_type": "code",
   "execution_count": 34,
   "metadata": {},
   "outputs": [
    {
     "name": "stdout",
     "output_type": "stream",
     "text": [
      "\n",
      "Basic statistics:\n",
      "            Rank       Shows\n",
      "count  20.000000   20.000000\n",
      "mean   10.450000  110.000000\n",
      "std     5.942488   66.507617\n",
      "min     1.000000   41.000000\n",
      "25%     5.750000   59.000000\n",
      "50%    10.500000   87.000000\n",
      "75%    15.250000  134.500000\n",
      "max    20.000000  325.000000\n"
     ]
    }
   ],
   "source": [
    "print(\"\\nBasic statistics:\")\n",
    "print(df.describe())"
   ]
  },
  {
   "cell_type": "code",
   "execution_count": 35,
   "metadata": {},
   "outputs": [
    {
     "name": "stdout",
     "output_type": "stream",
     "text": [
      "\n",
      "Null values per column:\n",
      "Rank                                 0\n",
      "Peak                                11\n",
      "All Time Peak                       14\n",
      "Actual gross                         0\n",
      "Adjusted gross (in 2022 dollars)     0\n",
      "Artist                               0\n",
      "Tour title                           0\n",
      "Year(s)                              0\n",
      "Shows                                0\n",
      "Average gross                        0\n",
      "Ref.                                 0\n",
      "dtype: int64\n"
     ]
    }
   ],
   "source": [
    "print(\"\\nNull values per column:\")\n",
    "print(df.isnull().sum())"
   ]
  },
  {
   "cell_type": "code",
   "execution_count": null,
   "metadata": {},
   "outputs": [],
   "source": []
  }
 ],
 "metadata": {
  "kernelspec": {
   "display_name": "Python 3",
   "language": "python",
   "name": "python3"
  },
  "language_info": {
   "codemirror_mode": {
    "name": "ipython",
    "version": 3
   },
   "file_extension": ".py",
   "mimetype": "text/x-python",
   "name": "python",
   "nbconvert_exporter": "python",
   "pygments_lexer": "ipython3",
   "version": "3.13.2"
  }
 },
 "nbformat": 4,
 "nbformat_minor": 2
}
