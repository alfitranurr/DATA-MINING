{
 "cells": [
  {
   "cell_type": "markdown",
   "id": "f22784ef",
   "metadata": {},
   "source": [
    "# 1. Persiapan Data"
   ]
  },
  {
   "cell_type": "code",
   "execution_count": 15,
   "id": "f00255be",
   "metadata": {},
   "outputs": [
    {
     "ename": "ModuleNotFoundError",
     "evalue": "No module named 'tensorflow'",
     "output_type": "error",
     "traceback": [
      "\u001b[31m---------------------------------------------------------------------------\u001b[39m",
      "\u001b[31mModuleNotFoundError\u001b[39m                       Traceback (most recent call last)",
      "\u001b[36mCell\u001b[39m\u001b[36m \u001b[39m\u001b[32mIn[15]\u001b[39m\u001b[32m, line 12\u001b[39m\n\u001b[32m     10\u001b[39m \u001b[38;5;28;01mfrom\u001b[39;00m\u001b[38;5;250m \u001b[39m\u001b[34;01msklearn\u001b[39;00m\u001b[34;01m.\u001b[39;00m\u001b[34;01mmetrics\u001b[39;00m\u001b[38;5;250m \u001b[39m\u001b[38;5;28;01mimport\u001b[39;00m accuracy_score, classification_report, confusion_matrix\n\u001b[32m     11\u001b[39m \u001b[38;5;28;01mfrom\u001b[39;00m\u001b[38;5;250m \u001b[39m\u001b[34;01msklearn\u001b[39;00m\u001b[34;01m.\u001b[39;00m\u001b[34;01mpreprocessing\u001b[39;00m\u001b[38;5;250m \u001b[39m\u001b[38;5;28;01mimport\u001b[39;00m LabelEncoder\n\u001b[32m---> \u001b[39m\u001b[32m12\u001b[39m \u001b[38;5;28;01mimport\u001b[39;00m\u001b[38;5;250m \u001b[39m\u001b[34;01mtensorflow\u001b[39;00m\u001b[38;5;250m \u001b[39m\u001b[38;5;28;01mas\u001b[39;00m\u001b[38;5;250m \u001b[39m\u001b[34;01mtf\u001b[39;00m\n\u001b[32m     13\u001b[39m \u001b[38;5;28;01mfrom\u001b[39;00m\u001b[38;5;250m \u001b[39m\u001b[34;01mtensorflow\u001b[39;00m\u001b[34;01m.\u001b[39;00m\u001b[34;01mkeras\u001b[39;00m\u001b[34;01m.\u001b[39;00m\u001b[34;01mmodels\u001b[39;00m\u001b[38;5;250m \u001b[39m\u001b[38;5;28;01mimport\u001b[39;00m Sequential\n\u001b[32m     14\u001b[39m \u001b[38;5;28;01mfrom\u001b[39;00m\u001b[38;5;250m \u001b[39m\u001b[34;01mtensorflow\u001b[39;00m\u001b[34;01m.\u001b[39;00m\u001b[34;01mkeras\u001b[39;00m\u001b[34;01m.\u001b[39;00m\u001b[34;01mlayers\u001b[39;00m\u001b[38;5;250m \u001b[39m\u001b[38;5;28;01mimport\u001b[39;00m Dense, Dropout\n",
      "\u001b[31mModuleNotFoundError\u001b[39m: No module named 'tensorflow'"
     ]
    }
   ],
   "source": [
    "import pandas as pd\n",
    "import numpy as np\n",
    "import re\n",
    "import nltk\n",
    "from nltk.tokenize import word_tokenize\n",
    "from nltk.corpus import stopwords\n",
    "from sklearn.feature_extraction.text import TfidfVectorizer\n",
    "from sklearn.model_selection import train_test_split\n",
    "from sklearn.naive_bayes import MultinomialNB\n",
    "from sklearn.metrics import accuracy_score, classification_report, confusion_matrix\n",
    "from sklearn.preprocessing import LabelEncoder\n",
    "import tensorflow as tf\n",
    "from tensorflow.keras.models import Sequential\n",
    "from tensorflow.keras.layers import Dense, Dropout\n",
    "import emoji\n",
    "import warnings\n",
    "warnings.filterwarnings('ignore')"
   ]
  },
  {
   "cell_type": "code",
   "execution_count": null,
   "id": "2cf5a4ba",
   "metadata": {},
   "outputs": [
    {
     "name": "stderr",
     "output_type": "stream",
     "text": [
      "[nltk_data] Downloading package punkt to\n",
      "[nltk_data]     C:\\Users\\ASUS\\AppData\\Roaming\\nltk_data...\n",
      "[nltk_data]   Package punkt is already up-to-date!\n",
      "[nltk_data] Downloading package stopwords to\n",
      "[nltk_data]     C:\\Users\\ASUS\\AppData\\Roaming\\nltk_data...\n",
      "[nltk_data]   Unzipping corpora\\stopwords.zip.\n"
     ]
    },
    {
     "data": {
      "text/plain": [
       "True"
      ]
     },
     "execution_count": 5,
     "metadata": {},
     "output_type": "execute_result"
    }
   ],
   "source": [
    "nltk.download('punkt')\n",
    "nltk.download('stopwords')"
   ]
  },
  {
   "cell_type": "code",
   "execution_count": null,
   "id": "0b36f449",
   "metadata": {},
   "outputs": [],
   "source": [
    "data = pd.read_csv('Tugas 1_NIM Genap_Modul 4.csv')"
   ]
  },
  {
   "cell_type": "code",
   "execution_count": null,
   "id": "70f252d4",
   "metadata": {},
   "outputs": [
    {
     "name": "stdout",
     "output_type": "stream",
     "text": [
      "  label                                               text\n",
      "0  REAL  Payal has accused filmmaker Anurag Kashyap of ...\n",
      "1  FAKE  A four-minute-long video of a woman criticisin...\n",
      "2  FAKE  Republic Poll, a fake Twitter account imitatin...\n",
      "3  REAL  Delhi teen finds place on UN green list, turns...\n",
      "4  REAL  Delhi: A high-level meeting underway at reside...\n",
      "<class 'pandas.core.frame.DataFrame'>\n",
      "RangeIndex: 3729 entries, 0 to 3728\n",
      "Data columns (total 2 columns):\n",
      " #   Column  Non-Null Count  Dtype \n",
      "---  ------  --------------  ----- \n",
      " 0   label   3729 non-null   object\n",
      " 1   text    3721 non-null   object\n",
      "dtypes: object(2)\n",
      "memory usage: 58.4+ KB\n",
      "None\n"
     ]
    }
   ],
   "source": [
    "\n",
    "print(data.head())\n",
    "print(data.info())"
   ]
  },
  {
   "cell_type": "markdown",
   "id": "5b1e153d",
   "metadata": {},
   "source": [
    "# 2. Data Cleaning"
   ]
  },
  {
   "cell_type": "code",
   "execution_count": null,
   "id": "0e122c58",
   "metadata": {},
   "outputs": [],
   "source": [
    "# Fungsi untuk membersihkan teks\n",
    "def clean_text(text):\n",
    "    # Konversi ke huruf kecil\n",
    "    text = str(text).lower()\n",
    "    \n",
    "    # Menghapus emoticon\n",
    "    text = emoji.replace_emoji(text, replace='')\n",
    "    \n",
    "    # Mengganti tanda baca seperti - dengan spasi\n",
    "    text = text.replace('-', ' ')\n",
    "    \n",
    "    # Menghapus karakter non-alfanumerik kecuali spasi\n",
    "    text = re.sub(r'[^a-zA-Z0-9\\s]', '', text)\n",
    "    \n",
    "    # Menghapus URL\n",
    "    text = re.sub(r'http\\S+|www\\S+|https\\S+', '', text, flags=re.MULTILINE)\n",
    "    \n",
    "    # Menghapus angka\n",
    "    text = re.sub(r'\\d+', '', text)\n",
    "    \n",
    "    # Tokenisasi\n",
    "    tokens = word_tokenize(text)\n",
    "    \n",
    "    # Menghapus stopwords\n",
    "    stop_words = set(stopwords.words('english'))\n",
    "    tokens = [word for word in tokens if word not in stop_words]\n",
    "    \n",
    "    # Menggabungkan kembali token\n",
    "    text = ' '.join(tokens)\n",
    "    \n",
    "    # Menghapus spasi berlebih\n",
    "    text = re.sub(r'\\s+', ' ', text).strip()\n",
    "    \n",
    "    return text\n",
    "\n",
    "# Menerapkan pembersihan pada kolom teks\n",
    "data['cleaned_text'] = data['text'].apply(clean_text)\n",
    "\n",
    "# Memeriksa hasil pembersihan\n",
    "print(data[['text', 'cleaned_text']].head())"
   ]
  },
  {
   "cell_type": "markdown",
   "id": "384fb31e",
   "metadata": {},
   "source": [
    "# 3. Train Test Split"
   ]
  },
  {
   "cell_type": "code",
   "execution_count": null,
   "id": "28b4d608",
   "metadata": {},
   "outputs": [],
   "source": [
    "# Mengencode label (REAL=1, FAKE=0)\n",
    "label_encoder = LabelEncoder()\n",
    "data['label_encoded'] = label_encoder.fit_transform(data['label'])\n",
    "\n",
    "# Memisahkan fitur dan label\n",
    "X = data['cleaned_text']\n",
    "y = data['label_encoded']\n",
    "\n",
    "# Membagi data menjadi train dan test (80:20)\n",
    "X_train, X_test, y_train, y_test = train_test_split(X, y, test_size=0.2, random_state=42, stratify=y)\n",
    "\n",
    "# Memeriksa distribusi data\n",
    "print(f\"Ukuran X_train: {X_train.shape}\")\n",
    "print(f\"Ukuran X_test: {X_test.shape}\")\n",
    "print(f\"Distribusi label di y_train: {np.bincount(y_train)}\")\n",
    "print(f\"Distribusi label di y_test: {np.bincount(y_test)}\")"
   ]
  },
  {
   "cell_type": "markdown",
   "id": "18b8acb5",
   "metadata": {},
   "source": [
    "# 4. Vektorisasi Teks"
   ]
  },
  {
   "cell_type": "code",
   "execution_count": null,
   "id": "eca2e970",
   "metadata": {},
   "outputs": [],
   "source": [
    "# Inisialisasi TfidfVectorizer\n",
    "tfidf = TfidfVectorizer(max_features=5000, ngram_range=(1,2))\n",
    "\n",
    "# Fit dan transform pada data pelatihan\n",
    "X_train_tfidf = tfidf.fit_transform(X_train)\n",
    "\n",
    "# Transform pada data pengujian\n",
    "X_test_tfidf = tfidf.transform(X_test)\n",
    "\n",
    "# Memeriksa bentuk matriks\n",
    "print(f\"Bentuk X_train_tfidf: {X_train_tfidf.shape}\")\n",
    "print(f\"Bentuk X_test_tfidf: {X_test_tfidf.shape}\")"
   ]
  },
  {
   "cell_type": "markdown",
   "id": "92348255",
   "metadata": {},
   "source": [
    "# 5. Model Naive Bayes"
   ]
  },
  {
   "cell_type": "code",
   "execution_count": null,
   "id": "7359b506",
   "metadata": {},
   "outputs": [],
   "source": [
    "# Inisialisasi model Naive Bayes\n",
    "nb_model = MultinomialNB()\n",
    "\n",
    "# Melatih model\n",
    "nb_model.fit(X_train_tfidf, y_train)\n",
    "\n",
    "# Prediksi pada data pengujian\n",
    "y_pred_nb = nb_model.predict(X_test_tfidf)\n",
    "\n",
    "# Evaluasi model\n",
    "accuracy_nb = accuracy_score(y_test, y_pred_nb)\n",
    "print(f\"Akurasi Naive Bayes: {accuracy_nb:.4f}\")\n",
    "print(\"\\nClassification Report Naive Bayes:\")\n",
    "print(classification_report(y_test, y_pred_nb, target_names=label_encoder.classes_))\n",
    "print(\"\\nConfusion Matrix Naive Bayes:\")\n",
    "print(confusion_matrix(y_test, y_pred_nb))"
   ]
  },
  {
   "cell_type": "markdown",
   "id": "45dc7e58",
   "metadata": {},
   "source": [
    "# 6. Model ANN"
   ]
  },
  {
   "cell_type": "code",
   "execution_count": null,
   "id": "a342a72f",
   "metadata": {},
   "outputs": [],
   "source": [
    "# Mengubah data ke format dense untuk ANN\n",
    "X_train_dense = X_train_tfidf.toarray()\n",
    "X_test_dense = X_test_tfidf.toarray()\n",
    "\n",
    "# Membangun model ANN\n",
    "ann_model = Sequential([\n",
    "    Dense(128, activation='relu', input_shape=(X_train_tfidf.shape[1],)),\n",
    "    Dropout(0.3),\n",
    "    Dense(64, activation='relu'),\n",
    "    Dropout(0.3),\n",
    "    Dense(1, activation='sigmoid')\n",
    "])\n",
    "\n",
    "# Kompilasi model\n",
    "ann_model.compile(optimizer='adam', loss='binary_crossentropy', metrics=['accuracy'])\n",
    "\n",
    "# Melatih model\n",
    "history = ann_model.fit(X_train_dense, y_train, epochs=10, batch_size=32, \n",
    "                       validation_data=(X_test_dense, y_test), verbose=1)\n",
    "\n",
    "# Evaluasi model\n",
    "loss, accuracy_ann = ann_model.evaluate(X_test_dense, y_test)\n",
    "print(f\"Akurasi ANN: {accuracy_ann:.4f}\")\n",
    "\n",
    "# Prediksi untuk classification report\n",
    "y_pred_ann = (ann_model.predict(X_test_dense) > 0.5).astype(int)\n",
    "print(\"\\nClassification Report ANN:\")\n",
    "print(classification_report(y_test, y_pred_ann, target_names=label_encoder.classes_))\n",
    "print(\"\\nConfusion Matrix ANN:\")\n",
    "print(confusion_matrix(y_test, y_pred_ann))"
   ]
  },
  {
   "cell_type": "markdown",
   "id": "2a3ac2ed",
   "metadata": {},
   "source": [
    "# 7. Contoh Prediksi"
   ]
  },
  {
   "cell_type": "code",
   "execution_count": null,
   "id": "73eaacfd",
   "metadata": {},
   "outputs": [],
   "source": [
    "# Teks bebas untuk prediksi\n",
    "sample_text = \"A viral video claims that the government is hiding the truth about a new disease outbreak in the capital.\"\n",
    "\n",
    "# Membersihkan teks\n",
    "cleaned_sample = clean_text(sample_text)\n",
    "\n",
    "# Vektorisasi teks\n",
    "sample_tfidf = tfidf.transform([cleaned_sample])\n",
    "\n",
    "# Prediksi dengan Naive Bayes\n",
    "prediction = nb_model.predict(sample_tfidf)\n",
    "predicted_label = label_encoder.inverse_transform(prediction)[0]\n",
    "\n",
    "print(f\"Teks: {sample_text}\")\n",
    "print(f\"Prediksi: {predicted_label}\")"
   ]
  }
 ],
 "metadata": {
  "kernelspec": {
   "display_name": "Python 3",
   "language": "python",
   "name": "python3"
  },
  "language_info": {
   "codemirror_mode": {
    "name": "ipython",
    "version": 3
   },
   "file_extension": ".py",
   "mimetype": "text/x-python",
   "name": "python",
   "nbconvert_exporter": "python",
   "pygments_lexer": "ipython3",
   "version": "3.13.2"
  }
 },
 "nbformat": 4,
 "nbformat_minor": 5
}
