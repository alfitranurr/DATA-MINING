{
  "cells": [
    {
      "cell_type": "markdown",
      "metadata": {
        "colab_type": "text",
        "id": "view-in-github"
      },
      "source": [
        "<a href=\"https://colab.research.google.com/github/alfitranurr/DATA-MINING/blob/main/Tugas_1_(Data_Teks)_Modul_4.ipynb\" target=\"_parent\"><img src=\"https://colab.research.google.com/assets/colab-badge.svg\" alt=\"Open In Colab\"/></a>"
      ]
    },
    {
      "cell_type": "markdown",
      "metadata": {
        "id": "9yV0QP3uPuwh"
      },
      "source": [
        "# 1. Persiapan Data"
      ]
    },
    {
      "cell_type": "code",
      "execution_count": 80,
      "metadata": {
        "colab": {
          "base_uri": "https://localhost:8080/"
        },
        "id": "3eKGv9xJNQMP",
        "outputId": "bce88698-0005-4d8b-b8bb-527e954f57ef"
      },
      "outputs": [],
      "source": [
        "import pandas as pd\n",
        "import numpy as np\n",
        "import matplotlib.pyplot as plt\n",
        "import seaborn as sns\n",
        "import matplotlib.pyplot as plt\n",
        "import re\n",
        "import nltk\n",
        "from nltk.tokenize import word_tokenize\n",
        "from nltk.corpus import stopwords\n",
        "from sklearn.feature_extraction.text import TfidfVectorizer\n",
        "from sklearn.model_selection import train_test_split\n",
        "from sklearn.naive_bayes import MultinomialNB\n",
        "from sklearn.metrics import accuracy_score, classification_report, confusion_matrix\n",
        "from sklearn.preprocessing import LabelEncoder\n",
        "import tensorflow as tf\n",
        "from tensorflow.keras.models import Sequential\n",
        "from tensorflow.keras.layers import Dense, Dropout\n",
        "from tabulate import tabulate\n",
        "import emoji\n",
        "import warnings\n",
        "warnings.filterwarnings('ignore')"
      ]
    },
    {
      "cell_type": "code",
      "execution_count": 46,
      "metadata": {},
      "outputs": [
        {
          "name": "stderr",
          "output_type": "stream",
          "text": [
            "[nltk_data] Downloading package punkt_tab to\n",
            "[nltk_data]     C:\\Users\\ASUS\\AppData\\Roaming\\nltk_data...\n",
            "[nltk_data]   Package punkt_tab is already up-to-date!\n",
            "[nltk_data] Downloading package stopwords to\n",
            "[nltk_data]     C:\\Users\\ASUS\\AppData\\Roaming\\nltk_data...\n",
            "[nltk_data]   Package stopwords is already up-to-date!\n"
          ]
        },
        {
          "data": {
            "text/plain": [
              "True"
            ]
          },
          "execution_count": 46,
          "metadata": {},
          "output_type": "execute_result"
        }
      ],
      "source": [
        "nltk.download('punkt_tab')\n",
        "nltk.download('stopwords')"
      ]
    },
    {
      "cell_type": "code",
      "execution_count": 47,
      "metadata": {},
      "outputs": [],
      "source": [
        "data = pd.read_csv('Tugas 1_NIM Genap_Modul 4.csv')"
      ]
    },
    {
      "cell_type": "code",
      "execution_count": 48,
      "metadata": {},
      "outputs": [
        {
          "data": {
            "application/vnd.microsoft.datawrangler.viewer.v0+json": {
              "columns": [
                {
                  "name": "index",
                  "rawType": "int64",
                  "type": "integer"
                },
                {
                  "name": "label",
                  "rawType": "object",
                  "type": "string"
                },
                {
                  "name": "text",
                  "rawType": "object",
                  "type": "string"
                }
              ],
              "conversionMethod": "pd.DataFrame",
              "ref": "607dc0ca-0837-4f12-b146-b291c158b6eb",
              "rows": [
                [
                  "0",
                  "REAL",
                  "Payal has accused filmmaker Anurag Kashyap of behaving inappropriately with her in a video that went viral. She maintained her stance while speaking to ETimes and said, “I have wanted to speak about this for a long time. But today, finally I thought I must get it off my head. I had tweeted about my incident sometime ago when the #MeToo movement had happened, but many people told me to delete the tweet else I would stop getting work. My manager too advised me to remove the tweet. I complied. Post that, Anurag blocked me on WhatsApp.”"
                ],
                [
                  "1",
                  "FAKE",
                  "A four-minute-long video of a woman criticising the government at an anti-Citizenship Amendment Act rally in Delhi earlier in January is going viral with a false claim that the woman shows late Prime Minister Atal Bihari Vajpayee's niece.\n\nThe caption in Hindi translates to: \" Respected Vajpayee ji's niece has finally broken her silence, listen to what she has to say.\"\n\n\n\n(Translated from Hindi: माननीय वाजपयी जी की भतीजी ने आखिरकार तोड़ी चुप्पी | जानिए क्या कहा)\n\nAlso Read: Muslim Politician Disguised As A Hindu In Anti-CAA Protests?\n\nThe video comes at a time when protests against the Citizenship Amendment Act and a proposed National Register of Citizens have gone unabated for over a month.\n\nIn the video, the woman can be seen saying the following in Hindi.\n\n\"They (Britishers) did a lot of bad but at least they were outsiders. First of all, they were not ours, they were not from this land. They came from afar and came here to do this. But still, the difference between them (Indian government and Britishers) was that they (Britishers) were educated. They were not this illiterate. At least they didn't do this with Britishers that the government is doing with its own people. Why can't they understand they are Indian. They should talk about India. They tell Congress, they tell others, they tell us - why are you silent about Pakistan? Are we crazy that we should talk about Pakistan? Are you not enough to talk about Pakistan? You are obsessed with Pakistan. You can't think of anything else besides Pakistan. Whenever you speak you always speak about Pakistan. Who will talk about India? Pakistanis did not elect you, we elected you. And we regret electing you.\"\n\nBOOM also received the same video on its helpline from a user asking about its veracity.\n\nThe video received on the WhatsApp helpline.\n\nThe video is also viral on Facebook\n\nAlso read: Nehru, Indira Gandhi's Archival Image Goes Viral With False Claim\n\nFact Check\n\nBOOM ran a reverse image search and found that the video was uploaded by several YouTube channels nearly a week ago. The captions on the video identified the woman as Atiya Alvi.\n\n\n\nWe also noticed that the boom mic held in the video showed a logo of HNP news and found the video on their YouTube channel uploaded on January 3, 2020.\n\n\n\nFurthermore, we found a post by one Naziya Alvi Rahman who posted that the woman in the video was her sister Atiya Alvi.\n\n\n\nNaziya Alvi wrote, \"This is exactly how fake news spreads. Read the caption below. I so badly wish it was true but it isn't. She is my humble sister. Atiya Alvi Siddiqui\".\n\nBOOM contacted Atiya Alvi through Facebook. She confirmed that the woman in the video was her. \"I had gone to Mandi House for a protest and that's where this interview happened,\" Atiya told BOOM. She also said she wouldn't describe herself as an activist but rather a 'concerned citizen'.\n\n\n\nAtal Bihari Vajpayee's Niece Karuna Shukla\n\nAtal Bihari Vajpayee's niece is Karuna Shukla, who does not look like Atiya Alvi Siddiqui and is 70-year-old. Congress fielded Shukla in 2018 for the Vidhansabha election from Rajnandgaon in Chattisgarh. Karuna Shukla was a member of parliament and was a member of the Bharatiya Janata Party, but left the BJP post-2014. She has been vocal about state and other issues and accused the BJP of using Atal Bihari Vajpayee's death for political gains in the Lok Sabha elections of 2019.\n\n\n\n\n\n\n\n"
                ],
                [
                  "2",
                  "FAKE",
                  "Republic Poll, a fake Twitter account imitating the Arnab Goswami-led Republic TV, is angering netizens with its controversial polls as Twitter users including journalists mistake it for the channel's official account.\n\n\n\nThe fake account (@RepublicPoll) uses a logo very similar to Republic TV's logo and does not mention in its bio whether it is related to Republic TV or if it is a fan account. Twitter's rules require that a fan account or parody account should indicate the same.\n\nAlso Read:Did Nita Ambani Ask For Support For CAA?\n\n\n\n\n\nSiddharth Varadarajan, founding editor of The Wire.in, in a now deleted tweet, had shared a screenshot of a poll by the fake account claiming it was a 'poll run by a \"nationalistic\" media house'.\n\nThis is hilarious. Despite the desperate phrasing of the question, this poll run by a \"nationalist\" media house has ended up condemning the innocent, \"minority in JNU\" ABVP. pic.twitter.com/gQGtzFEU26 — Siddharth (@svaradarajan) January 7, 2020\n\n\n\n\n\n\n\n\n\nAfter several Twitter users pointed out that the account was fake Varadarajan later clarified that it was a parody account.\n\nSo I am told @republicpoll is a parody account. Which kinda makes sense since Republic TV is a parody news channel! — Siddharth (@svaradarajan) January 7, 2020\n\n\n\n\n\n\"Nudge\" In polling via carefully placed words like 'goons' and 'minority in JNU' doesn't seem to work. pic.twitter.com/Vfa2dfxVST — Andy Mukherjee (@andymukherjee70) January 6, 2020\n\nClick here to view an archive.\n\nWe compared the official logo of Republic TV with the logo used by the fake Twitter account and found that they do not match. The fake account is not verified and created on April 1, 2019, whereas Republic TV official Twitter account was created in December 2016.\n\n\n\n\n\n\n\nRepublic TV (@Republic) has been conducting polls on its official Twitter handle.\n\n#TukdeGangSpotted | Is there a pattern to the protests? — Republic (@republic) January 6, 2020\n\nThe fake account has been regularly tweeting these polls, and while writing the article, it has 244 tweets, all of which are controversial polls. It currently has 2,671 Followers, whereas the official Republic TV Twitter account has 769 lakh followers and is not following it.\n\nLoaded Polls By '@RepublicPoll'\n\n\n\nThe fake account has been tweeting polls on recent issues framing it with an ideologically right wing slant. Click here to view an archive.\n\nClick here to view an archive.\n\n#SwaraBhaskar has no any valid document.\n\nThen the Question that arises is....\n\n\n\nHow this lately Anarkali travel all around the World without Passport ??? — Republic Poll (@RepublicPoll) January 5, 2020\n\nClick here to view an archive.\n\nSeveral Twitter users have taken on the account for its polls. The fake account has also deleted polls that are not favorable to it.\n\nDespite your best attempts at trying to sway the votes by calling JNU students goons and ABVP a minority, people's votes show who the culprit is and who the chutiya is. Ghar jao kutton. pic.twitter.com/8Of3ejMt3p — Rutuja/ऋतुजा🇮🇳 (@HavaldarShinde) January 6, 2020\n\n\n\n\n\n\n\n\n\n\n\n\n\n\n\n"
                ],
                [
                  "3",
                  "REAL",
                  "Delhi teen finds place on UN green list, turns glass into sand\n\nNEW DELHI: Udit Singhal , who founded a startup to turn glass bottles into sand , has been named among 17 people in the United Nation’s 2020 Class of Young Leaders for Sustainable Development Goals (SDGs). The programme is a flagship initiative that recognises the efforts of young people in driving action and galvanising others in support of UN’s 2030 agenda for sustainable development.Singhal, an 18-year-old who lives near Mandi House, told TOI, “I feel proud to represent India. Along with 16 others, I’ll work to motivate youths and achieve SDGs. I hope to be able to encourage communities to inculcate better civic sense to create sustainable living spaces.” The teenager attended the UN function online due to the Covid pandemic. “In the normal scenario, I would have gone to New York,” he added.Singhal had founded Glass2Sand in 2019 as a zero-waste system that turns bottles into economically viable sand. “In 2018, I found a pile of bottles at home. During research, I learnt that ragpickers were not interested in collecting glass bottles because of little demand, high transportation cost and storage space. So empty glass bottles often ended up at the landfills. Do you know it takes a million years for a glass bottle to decompose?”Singhal then imported a machine from New Zealand with a special grant from the New Zealand High Commissioner in India and went to work helped by 65 volunteers, six diplomatic missions and four institutions, collecting bottles from across Delhi. “It takes five seconds to turn one empty glass bottle into sand. We have crushed 8,000 kg of bottles into 4,800 kg of high-grade silica sand so far,” he said. “This silica sand is commercially viable because it is used in construction, including roads and as lining in furnaces. It is more valuable than river sand in making concrete.”Singhal studied in The British School in Delhi and is currently a freshman at University College in London where he is a management sciences student.Other young leaders cited by Jayathma Wickramanayake, the UN Secretary-General’s Envoy on Youth, for “leading the way in shaping a more sustainable and inclusive future for all” belong to the United States, Turkey, China, Pakistan, Peru, Egypt, Senegal, Bulgaria, Nigeria, Brazil, Liberia, Ireland, Colombia, Australia, Uganda and Bangladesh."
                ],
                [
                  "4",
                  "REAL",
                  "Delhi: A high-level meeting underway at residence of Rajya Sabha Chairman, Venkaiah Naidu, over the ruckus created… https://t.co/OfoRpOwd4b — ANI (@ANI) 1600599438000\n\nA watershed moment in the history of Indian agriculture! Congratulations to our hardworking farmers on the passage… https://t.co/CdLW6Itzmc — Narendra Modi (@narendramodi) 1600595449000\n\nFor decades, the Indian farmer was bound by various constraints and bullied by middlemen. The bills passed by Parli… https://t.co/GfF1nhaFeZ — Narendra Modi (@narendramodi) 1600595492000\n\nOur agriculture sector is in desperate need of latest technology that assists the industrious farmers. Now, with th… https://t.co/VGK1o0pPQb — Narendra Modi (@narendramodi) 1600595705000\n\nNEW DELHI: The Rajya Sabha on Sunday passed two key farm bills amid a bedlam as opposition members charged towards the podium of the presiding officer, flung the rule book at him, tore official papers and heckled him over their demand for a division of vote.Trouble started when the sitting of the House was extended beyond the scheduled time to allow passage of the bills. Opposition members, who felt such a move should be resorted to only by consensus, rushed into the Well, shouting slogans against the government and accusing it of being anti-farmer.This forced agriculture minister Narendra Singh Tomar to cut short his reply and deputy chairman Harivansh took up the approval of the bills.Four opposition sponsored motions to send the two bills to a House panel for greater scrutiny were negated by voice vote, but the Congress, TMC, CPM and DMK members sought a division of vote on the issue.As Harivansh over-ruled them saying division of votes can take place only when members are on their seat, TMC leader Derek O'Brien charged towards the podium, thrusting the rule book into the face of the Deputy Chairman.House marshals thwarted the move as also blocking a book that was flung towards Harivansh. An attempt was also made to pulls microphones away from the chair but the marshals physically stopped that from happening.DMK leader Tiruchi Siva, who along with O'Brien, K C Venugopal of Congress and K K Ragesh of CPM had moved resolutions for sending the bills to the select committee, tore papers and flung them into the air.Harivansh, who asked members to go back to their places and not come into the Well due to the Covid-19 protocol requiring physical separation, first muted the audio of the live proceedings but with the ruckus continuing, he adjourned the proceedings for 15 minutes.When the House reassembled, opposition parties chanted slogans but this did not prevent Harivansh from putting the bill to voice vote.As the first bill got voice approval of the House and motions for sending it to a select committee were rejected, at least two members tried to climb on the table of Rajya Sabha officers but were pulled down.Both the bills were passed by voice vote and amendments moved by the opposition parties rejectedHowever, the Congress and other opposition party members sat in protest inside Rajya Sabha even after the House was adjourned for the day after the passage of the two farm bills.The House sitting ends at 1pm and Rajya Sabha chamber has to be sanitised by 3pm when Lok Sabha sits for a session. Both the chambers of Lok Sabha and Rajya Sabha are being used for each House to allow members to follow physical distancing norms.As a result, Lok Sabha had to be adjourned till 4pm as Congress members demanded that the House proceedings should not take place till Rajya Sabha galleries are cleared of the agitating members of the Upper House.Meanwhile, Rajya Sabha Chairman M Venkaiah Naidu convened a high-level meeting at his residence and is likely to take action against those who created ruckus in the Upper House.Sources told news agency ANI that Rajya Sabha chairman is very upset with the incident and is likely to take action against those who raised slogans against the chair and tore papers.Shortly after the passage of the bills, SAD chief Sukhbir Singh Badal urged President Ram Nath Kovind not to give his assent to the legislations and return them to Parliament for reconsideration.Badal's party had earlier pulled out Harsimrat Kaur Badal from the Union Cabinet in protest against the bills.Meanwhile, Prime Minister Narendra Modi hailed Parliament's nod to the two bills on Sunday, describing the passage as a \"watershed moment\" in the history of Indian agriculture.He asserted that they will ensure a complete transformation of the farm sector and empower crores of farmers.In a series of tweets, PM Modi said these proposed laws will liberate farmers from numerous adversities as he noted that peasants were for decades bound by various constraints and bullied by middlemen.He again assured farmers that the existing government support system for them will continue.Farmers in states like Punjab and Haryana have been protesting against these bills, with their leaders alleging that the legislations will dismantle the existing system and leave them to the mercy of corporate interests.BJP president J P Nadda said the legislations will give farmers freedom in selling their produce and rid them of middlemen.He also hit out at the opposition parties over the ruckus in the Rajya Sabha after the Chair proceeded to take up the bills for passage as he termed the behaviour \"highly irresponsible\" and an attack on democracy, and hoped that the House chairman will take note of that.Opposition members also violated Covid-19 protocols by storming the Well of the House, he told reporters."
                ]
              ],
              "shape": {
                "columns": 2,
                "rows": 5
              }
            },
            "text/html": [
              "<div>\n",
              "<style scoped>\n",
              "    .dataframe tbody tr th:only-of-type {\n",
              "        vertical-align: middle;\n",
              "    }\n",
              "\n",
              "    .dataframe tbody tr th {\n",
              "        vertical-align: top;\n",
              "    }\n",
              "\n",
              "    .dataframe thead th {\n",
              "        text-align: right;\n",
              "    }\n",
              "</style>\n",
              "<table border=\"1\" class=\"dataframe\">\n",
              "  <thead>\n",
              "    <tr style=\"text-align: right;\">\n",
              "      <th></th>\n",
              "      <th>label</th>\n",
              "      <th>text</th>\n",
              "    </tr>\n",
              "  </thead>\n",
              "  <tbody>\n",
              "    <tr>\n",
              "      <th>0</th>\n",
              "      <td>REAL</td>\n",
              "      <td>Payal has accused filmmaker Anurag Kashyap of ...</td>\n",
              "    </tr>\n",
              "    <tr>\n",
              "      <th>1</th>\n",
              "      <td>FAKE</td>\n",
              "      <td>A four-minute-long video of a woman criticisin...</td>\n",
              "    </tr>\n",
              "    <tr>\n",
              "      <th>2</th>\n",
              "      <td>FAKE</td>\n",
              "      <td>Republic Poll, a fake Twitter account imitatin...</td>\n",
              "    </tr>\n",
              "    <tr>\n",
              "      <th>3</th>\n",
              "      <td>REAL</td>\n",
              "      <td>Delhi teen finds place on UN green list, turns...</td>\n",
              "    </tr>\n",
              "    <tr>\n",
              "      <th>4</th>\n",
              "      <td>REAL</td>\n",
              "      <td>Delhi: A high-level meeting underway at reside...</td>\n",
              "    </tr>\n",
              "  </tbody>\n",
              "</table>\n",
              "</div>"
            ],
            "text/plain": [
              "  label                                               text\n",
              "0  REAL  Payal has accused filmmaker Anurag Kashyap of ...\n",
              "1  FAKE  A four-minute-long video of a woman criticisin...\n",
              "2  FAKE  Republic Poll, a fake Twitter account imitatin...\n",
              "3  REAL  Delhi teen finds place on UN green list, turns...\n",
              "4  REAL  Delhi: A high-level meeting underway at reside..."
            ]
          },
          "execution_count": 48,
          "metadata": {},
          "output_type": "execute_result"
        }
      ],
      "source": [
        "data.head()"
      ]
    },
    {
      "cell_type": "code",
      "execution_count": 49,
      "metadata": {},
      "outputs": [
        {
          "name": "stdout",
          "output_type": "stream",
          "text": [
            "<class 'pandas.core.frame.DataFrame'>\n",
            "RangeIndex: 3729 entries, 0 to 3728\n",
            "Data columns (total 2 columns):\n",
            " #   Column  Non-Null Count  Dtype \n",
            "---  ------  --------------  ----- \n",
            " 0   label   3729 non-null   object\n",
            " 1   text    3721 non-null   object\n",
            "dtypes: object(2)\n",
            "memory usage: 58.4+ KB\n"
          ]
        }
      ],
      "source": [
        "data.info()"
      ]
    },
    {
      "cell_type": "markdown",
      "metadata": {
        "id": "w5nORPD1PykJ"
      },
      "source": [
        "# 2. Data Cleaning"
      ]
    },
    {
      "cell_type": "code",
      "execution_count": 50,
      "metadata": {
        "colab": {
          "base_uri": "https://localhost:8080/"
        },
        "id": "rLojoO9uNu-j",
        "outputId": "75ce7b56-eafc-4f86-d855-70743f24195a"
      },
      "outputs": [],
      "source": [
        "def clean_text(text):\n",
        "    text = str(text).lower()\n",
        "\n",
        "    text = emoji.replace_emoji(text, replace='')\n",
        "\n",
        "    text = text.replace('-', ' ')\n",
        "\n",
        "    text = re.sub(r'[^a-zA-Z0-9\\s]', '', text)\n",
        "\n",
        "    text = re.sub(r'http\\S+|www\\S+|https\\S+', '', text, flags=re.MULTILINE)\n",
        "\n",
        "    text = re.sub(r'\\d+', '', text)\n",
        "\n",
        "    tokens = word_tokenize(text)\n",
        "\n",
        "    stop_words = set(stopwords.words('english'))\n",
        "    tokens = [word for word in tokens if word not in stop_words]\n",
        "\n",
        "    text = ' '.join(tokens)\n",
        "\n",
        "    text = re.sub(r'\\s+', ' ', text).strip()\n",
        "\n",
        "    return text"
      ]
    },
    {
      "cell_type": "code",
      "execution_count": 51,
      "metadata": {},
      "outputs": [],
      "source": [
        "data['cleaned_text'] = data['text'].apply(clean_text)"
      ]
    },
    {
      "cell_type": "code",
      "execution_count": 53,
      "metadata": {},
      "outputs": [
        {
          "data": {
            "application/vnd.microsoft.datawrangler.viewer.v0+json": {
              "columns": [
                {
                  "name": "index",
                  "rawType": "int64",
                  "type": "integer"
                },
                {
                  "name": "text",
                  "rawType": "object",
                  "type": "string"
                },
                {
                  "name": "cleaned_text",
                  "rawType": "object",
                  "type": "string"
                }
              ],
              "conversionMethod": "pd.DataFrame",
              "ref": "a9d598a5-e919-469f-9364-99e78fded9d1",
              "rows": [
                [
                  "0",
                  "Payal has accused filmmaker Anurag Kashyap of behaving inappropriately with her in a video that went viral. She maintained her stance while speaking to ETimes and said, “I have wanted to speak about this for a long time. But today, finally I thought I must get it off my head. I had tweeted about my incident sometime ago when the #MeToo movement had happened, but many people told me to delete the tweet else I would stop getting work. My manager too advised me to remove the tweet. I complied. Post that, Anurag blocked me on WhatsApp.”",
                  "payal accused filmmaker anurag kashyap behaving inappropriately video went viral maintained stance speaking etimes said wanted speak long time today finally thought must get head tweeted incident sometime ago metoo movement happened many people told delete tweet else would stop getting work manager advised remove tweet complied post anurag blocked whatsapp"
                ],
                [
                  "1",
                  "A four-minute-long video of a woman criticising the government at an anti-Citizenship Amendment Act rally in Delhi earlier in January is going viral with a false claim that the woman shows late Prime Minister Atal Bihari Vajpayee's niece.\n\nThe caption in Hindi translates to: \" Respected Vajpayee ji's niece has finally broken her silence, listen to what she has to say.\"\n\n\n\n(Translated from Hindi: माननीय वाजपयी जी की भतीजी ने आखिरकार तोड़ी चुप्पी | जानिए क्या कहा)\n\nAlso Read: Muslim Politician Disguised As A Hindu In Anti-CAA Protests?\n\nThe video comes at a time when protests against the Citizenship Amendment Act and a proposed National Register of Citizens have gone unabated for over a month.\n\nIn the video, the woman can be seen saying the following in Hindi.\n\n\"They (Britishers) did a lot of bad but at least they were outsiders. First of all, they were not ours, they were not from this land. They came from afar and came here to do this. But still, the difference between them (Indian government and Britishers) was that they (Britishers) were educated. They were not this illiterate. At least they didn't do this with Britishers that the government is doing with its own people. Why can't they understand they are Indian. They should talk about India. They tell Congress, they tell others, they tell us - why are you silent about Pakistan? Are we crazy that we should talk about Pakistan? Are you not enough to talk about Pakistan? You are obsessed with Pakistan. You can't think of anything else besides Pakistan. Whenever you speak you always speak about Pakistan. Who will talk about India? Pakistanis did not elect you, we elected you. And we regret electing you.\"\n\nBOOM also received the same video on its helpline from a user asking about its veracity.\n\nThe video received on the WhatsApp helpline.\n\nThe video is also viral on Facebook\n\nAlso read: Nehru, Indira Gandhi's Archival Image Goes Viral With False Claim\n\nFact Check\n\nBOOM ran a reverse image search and found that the video was uploaded by several YouTube channels nearly a week ago. The captions on the video identified the woman as Atiya Alvi.\n\n\n\nWe also noticed that the boom mic held in the video showed a logo of HNP news and found the video on their YouTube channel uploaded on January 3, 2020.\n\n\n\nFurthermore, we found a post by one Naziya Alvi Rahman who posted that the woman in the video was her sister Atiya Alvi.\n\n\n\nNaziya Alvi wrote, \"This is exactly how fake news spreads. Read the caption below. I so badly wish it was true but it isn't. She is my humble sister. Atiya Alvi Siddiqui\".\n\nBOOM contacted Atiya Alvi through Facebook. She confirmed that the woman in the video was her. \"I had gone to Mandi House for a protest and that's where this interview happened,\" Atiya told BOOM. She also said she wouldn't describe herself as an activist but rather a 'concerned citizen'.\n\n\n\nAtal Bihari Vajpayee's Niece Karuna Shukla\n\nAtal Bihari Vajpayee's niece is Karuna Shukla, who does not look like Atiya Alvi Siddiqui and is 70-year-old. Congress fielded Shukla in 2018 for the Vidhansabha election from Rajnandgaon in Chattisgarh. Karuna Shukla was a member of parliament and was a member of the Bharatiya Janata Party, but left the BJP post-2014. She has been vocal about state and other issues and accused the BJP of using Atal Bihari Vajpayee's death for political gains in the Lok Sabha elections of 2019.\n\n\n\n\n\n\n\n",
                  "four minute long video woman criticising government anti citizenship amendment act rally delhi earlier january going viral false claim woman shows late prime minister atal bihari vajpayees niece caption hindi translates respected vajpayee jis niece finally broken silence listen say translated hindi also read muslim politician disguised hindu anti caa protests video comes time protests citizenship amendment act proposed national register citizens gone unabated month video woman seen saying following hindi britishers lot bad least outsiders first land came afar came still difference indian government britishers britishers educated illiterate least didnt britishers government people cant understand indian talk india tell congress tell others tell us silent pakistan crazy talk pakistan enough talk pakistan obsessed pakistan cant think anything else besides pakistan whenever speak always speak pakistan talk india pakistanis elect elected regret electing boom also received video helpline user asking veracity video received whatsapp helpline video also viral facebook also read nehru indira gandhis archival image goes viral false claim fact check boom ran reverse image search found video uploaded several youtube channels nearly week ago captions video identified woman atiya alvi also noticed boom mic held video showed logo hnp news found video youtube channel uploaded january furthermore found post one naziya alvi rahman posted woman video sister atiya alvi naziya alvi wrote exactly fake news spreads read caption badly wish true isnt humble sister atiya alvi siddiqui boom contacted atiya alvi facebook confirmed woman video gone mandi house protest thats interview happened atiya told boom also said wouldnt describe activist rather concerned citizen atal bihari vajpayees niece karuna shukla atal bihari vajpayees niece karuna shukla look like atiya alvi siddiqui year old congress fielded shukla vidhansabha election rajnandgaon chattisgarh karuna shukla member parliament member bharatiya janata party left bjp post vocal state issues accused bjp using atal bihari vajpayees death political gains lok sabha elections"
                ],
                [
                  "2",
                  "Republic Poll, a fake Twitter account imitating the Arnab Goswami-led Republic TV, is angering netizens with its controversial polls as Twitter users including journalists mistake it for the channel's official account.\n\n\n\nThe fake account (@RepublicPoll) uses a logo very similar to Republic TV's logo and does not mention in its bio whether it is related to Republic TV or if it is a fan account. Twitter's rules require that a fan account or parody account should indicate the same.\n\nAlso Read:Did Nita Ambani Ask For Support For CAA?\n\n\n\n\n\nSiddharth Varadarajan, founding editor of The Wire.in, in a now deleted tweet, had shared a screenshot of a poll by the fake account claiming it was a 'poll run by a \"nationalistic\" media house'.\n\nThis is hilarious. Despite the desperate phrasing of the question, this poll run by a \"nationalist\" media house has ended up condemning the innocent, \"minority in JNU\" ABVP. pic.twitter.com/gQGtzFEU26 — Siddharth (@svaradarajan) January 7, 2020\n\n\n\n\n\n\n\n\n\nAfter several Twitter users pointed out that the account was fake Varadarajan later clarified that it was a parody account.\n\nSo I am told @republicpoll is a parody account. Which kinda makes sense since Republic TV is a parody news channel! — Siddharth (@svaradarajan) January 7, 2020\n\n\n\n\n\n\"Nudge\" In polling via carefully placed words like 'goons' and 'minority in JNU' doesn't seem to work. pic.twitter.com/Vfa2dfxVST — Andy Mukherjee (@andymukherjee70) January 6, 2020\n\nClick here to view an archive.\n\nWe compared the official logo of Republic TV with the logo used by the fake Twitter account and found that they do not match. The fake account is not verified and created on April 1, 2019, whereas Republic TV official Twitter account was created in December 2016.\n\n\n\n\n\n\n\nRepublic TV (@Republic) has been conducting polls on its official Twitter handle.\n\n#TukdeGangSpotted | Is there a pattern to the protests? — Republic (@republic) January 6, 2020\n\nThe fake account has been regularly tweeting these polls, and while writing the article, it has 244 tweets, all of which are controversial polls. It currently has 2,671 Followers, whereas the official Republic TV Twitter account has 769 lakh followers and is not following it.\n\nLoaded Polls By '@RepublicPoll'\n\n\n\nThe fake account has been tweeting polls on recent issues framing it with an ideologically right wing slant. Click here to view an archive.\n\nClick here to view an archive.\n\n#SwaraBhaskar has no any valid document.\n\nThen the Question that arises is....\n\n\n\nHow this lately Anarkali travel all around the World without Passport ??? — Republic Poll (@RepublicPoll) January 5, 2020\n\nClick here to view an archive.\n\nSeveral Twitter users have taken on the account for its polls. The fake account has also deleted polls that are not favorable to it.\n\nDespite your best attempts at trying to sway the votes by calling JNU students goons and ABVP a minority, people's votes show who the culprit is and who the chutiya is. Ghar jao kutton. pic.twitter.com/8Of3ejMt3p — Rutuja/ऋतुजा🇮🇳 (@HavaldarShinde) January 6, 2020\n\n\n\n\n\n\n\n\n\n\n\n\n\n\n\n",
                  "republic poll fake twitter account imitating arnab goswami led republic tv angering netizens controversial polls twitter users including journalists mistake channels official account fake account republicpoll uses logo similar republic tvs logo mention bio whether related republic tv fan account twitters rules require fan account parody account indicate also readdid nita ambani ask support caa siddharth varadarajan founding editor wirein deleted tweet shared screenshot poll fake account claiming poll run nationalistic media house hilarious despite desperate phrasing question poll run nationalist media house ended condemning innocent minority jnu abvp pictwittercomgqgtzfeu siddharth svaradarajan january several twitter users pointed account fake varadarajan later clarified parody account told republicpoll parody account kinda makes sense since republic tv parody news channel siddharth svaradarajan january nudge polling via carefully placed words like goons minority jnu doesnt seem work pictwittercomvfadfxvst andy mukherjee andymukherjee january click view archive compared official logo republic tv logo used fake twitter account found match fake account verified created april whereas republic tv official twitter account created december republic tv republic conducting polls official twitter handle tukdegangspotted pattern protests republic republic january fake account regularly tweeting polls writing article tweets controversial polls currently followers whereas official republic tv twitter account lakh followers following loaded polls republicpoll fake account tweeting polls recent issues framing ideologically right wing slant click view archive click view archive swarabhaskar valid document question arises lately anarkali travel around world without passport republic poll republicpoll january click view archive several twitter users taken account polls fake account also deleted polls favorable despite best attempts trying sway votes calling jnu students goons abvp minority peoples votes show culprit chutiya ghar jao kutton pictwittercomofejmtp rutuja havaldarshinde january"
                ],
                [
                  "3",
                  "Delhi teen finds place on UN green list, turns glass into sand\n\nNEW DELHI: Udit Singhal , who founded a startup to turn glass bottles into sand , has been named among 17 people in the United Nation’s 2020 Class of Young Leaders for Sustainable Development Goals (SDGs). The programme is a flagship initiative that recognises the efforts of young people in driving action and galvanising others in support of UN’s 2030 agenda for sustainable development.Singhal, an 18-year-old who lives near Mandi House, told TOI, “I feel proud to represent India. Along with 16 others, I’ll work to motivate youths and achieve SDGs. I hope to be able to encourage communities to inculcate better civic sense to create sustainable living spaces.” The teenager attended the UN function online due to the Covid pandemic. “In the normal scenario, I would have gone to New York,” he added.Singhal had founded Glass2Sand in 2019 as a zero-waste system that turns bottles into economically viable sand. “In 2018, I found a pile of bottles at home. During research, I learnt that ragpickers were not interested in collecting glass bottles because of little demand, high transportation cost and storage space. So empty glass bottles often ended up at the landfills. Do you know it takes a million years for a glass bottle to decompose?”Singhal then imported a machine from New Zealand with a special grant from the New Zealand High Commissioner in India and went to work helped by 65 volunteers, six diplomatic missions and four institutions, collecting bottles from across Delhi. “It takes five seconds to turn one empty glass bottle into sand. We have crushed 8,000 kg of bottles into 4,800 kg of high-grade silica sand so far,” he said. “This silica sand is commercially viable because it is used in construction, including roads and as lining in furnaces. It is more valuable than river sand in making concrete.”Singhal studied in The British School in Delhi and is currently a freshman at University College in London where he is a management sciences student.Other young leaders cited by Jayathma Wickramanayake, the UN Secretary-General’s Envoy on Youth, for “leading the way in shaping a more sustainable and inclusive future for all” belong to the United States, Turkey, China, Pakistan, Peru, Egypt, Senegal, Bulgaria, Nigeria, Brazil, Liberia, Ireland, Colombia, Australia, Uganda and Bangladesh.",
                  "delhi teen finds place un green list turns glass sand new delhi udit singhal founded startup turn glass bottles sand named among people united nations class young leaders sustainable development goals sdgs programme flagship initiative recognises efforts young people driving action galvanising others support uns agenda sustainable developmentsinghal year old lives near mandi house told toi feel proud represent india along others ill work motivate youths achieve sdgs hope able encourage communities inculcate better civic sense create sustainable living spaces teenager attended un function online due covid pandemic normal scenario would gone new york addedsinghal founded glasssand zero waste system turns bottles economically viable sand found pile bottles home research learnt ragpickers interested collecting glass bottles little demand high transportation cost storage space empty glass bottles often ended landfills know takes million years glass bottle decomposesinghal imported machine new zealand special grant new zealand high commissioner india went work helped volunteers six diplomatic missions four institutions collecting bottles across delhi takes five seconds turn one empty glass bottle sand crushed kg bottles kg high grade silica sand far said silica sand commercially viable used construction including roads lining furnaces valuable river sand making concretesinghal studied british school delhi currently freshman university college london management sciences studentother young leaders cited jayathma wickramanayake un secretary generals envoy youth leading way shaping sustainable inclusive future belong united states turkey china pakistan peru egypt senegal bulgaria nigeria brazil liberia ireland colombia australia uganda bangladesh"
                ],
                [
                  "4",
                  "Delhi: A high-level meeting underway at residence of Rajya Sabha Chairman, Venkaiah Naidu, over the ruckus created… https://t.co/OfoRpOwd4b — ANI (@ANI) 1600599438000\n\nA watershed moment in the history of Indian agriculture! Congratulations to our hardworking farmers on the passage… https://t.co/CdLW6Itzmc — Narendra Modi (@narendramodi) 1600595449000\n\nFor decades, the Indian farmer was bound by various constraints and bullied by middlemen. The bills passed by Parli… https://t.co/GfF1nhaFeZ — Narendra Modi (@narendramodi) 1600595492000\n\nOur agriculture sector is in desperate need of latest technology that assists the industrious farmers. Now, with th… https://t.co/VGK1o0pPQb — Narendra Modi (@narendramodi) 1600595705000\n\nNEW DELHI: The Rajya Sabha on Sunday passed two key farm bills amid a bedlam as opposition members charged towards the podium of the presiding officer, flung the rule book at him, tore official papers and heckled him over their demand for a division of vote.Trouble started when the sitting of the House was extended beyond the scheduled time to allow passage of the bills. Opposition members, who felt such a move should be resorted to only by consensus, rushed into the Well, shouting slogans against the government and accusing it of being anti-farmer.This forced agriculture minister Narendra Singh Tomar to cut short his reply and deputy chairman Harivansh took up the approval of the bills.Four opposition sponsored motions to send the two bills to a House panel for greater scrutiny were negated by voice vote, but the Congress, TMC, CPM and DMK members sought a division of vote on the issue.As Harivansh over-ruled them saying division of votes can take place only when members are on their seat, TMC leader Derek O'Brien charged towards the podium, thrusting the rule book into the face of the Deputy Chairman.House marshals thwarted the move as also blocking a book that was flung towards Harivansh. An attempt was also made to pulls microphones away from the chair but the marshals physically stopped that from happening.DMK leader Tiruchi Siva, who along with O'Brien, K C Venugopal of Congress and K K Ragesh of CPM had moved resolutions for sending the bills to the select committee, tore papers and flung them into the air.Harivansh, who asked members to go back to their places and not come into the Well due to the Covid-19 protocol requiring physical separation, first muted the audio of the live proceedings but with the ruckus continuing, he adjourned the proceedings for 15 minutes.When the House reassembled, opposition parties chanted slogans but this did not prevent Harivansh from putting the bill to voice vote.As the first bill got voice approval of the House and motions for sending it to a select committee were rejected, at least two members tried to climb on the table of Rajya Sabha officers but were pulled down.Both the bills were passed by voice vote and amendments moved by the opposition parties rejectedHowever, the Congress and other opposition party members sat in protest inside Rajya Sabha even after the House was adjourned for the day after the passage of the two farm bills.The House sitting ends at 1pm and Rajya Sabha chamber has to be sanitised by 3pm when Lok Sabha sits for a session. Both the chambers of Lok Sabha and Rajya Sabha are being used for each House to allow members to follow physical distancing norms.As a result, Lok Sabha had to be adjourned till 4pm as Congress members demanded that the House proceedings should not take place till Rajya Sabha galleries are cleared of the agitating members of the Upper House.Meanwhile, Rajya Sabha Chairman M Venkaiah Naidu convened a high-level meeting at his residence and is likely to take action against those who created ruckus in the Upper House.Sources told news agency ANI that Rajya Sabha chairman is very upset with the incident and is likely to take action against those who raised slogans against the chair and tore papers.Shortly after the passage of the bills, SAD chief Sukhbir Singh Badal urged President Ram Nath Kovind not to give his assent to the legislations and return them to Parliament for reconsideration.Badal's party had earlier pulled out Harsimrat Kaur Badal from the Union Cabinet in protest against the bills.Meanwhile, Prime Minister Narendra Modi hailed Parliament's nod to the two bills on Sunday, describing the passage as a \"watershed moment\" in the history of Indian agriculture.He asserted that they will ensure a complete transformation of the farm sector and empower crores of farmers.In a series of tweets, PM Modi said these proposed laws will liberate farmers from numerous adversities as he noted that peasants were for decades bound by various constraints and bullied by middlemen.He again assured farmers that the existing government support system for them will continue.Farmers in states like Punjab and Haryana have been protesting against these bills, with their leaders alleging that the legislations will dismantle the existing system and leave them to the mercy of corporate interests.BJP president J P Nadda said the legislations will give farmers freedom in selling their produce and rid them of middlemen.He also hit out at the opposition parties over the ruckus in the Rajya Sabha after the Chair proceeded to take up the bills for passage as he termed the behaviour \"highly irresponsible\" and an attack on democracy, and hoped that the House chairman will take note of that.Opposition members also violated Covid-19 protocols by storming the Well of the House, he told reporters.",
                  "delhi high level meeting underway residence rajya sabha chairman venkaiah naidu ruckus created ani ani watershed moment history indian agriculture congratulations hardworking farmers passage narendra modi narendramodi decades indian farmer bound various constraints bullied middlemen bills passed parli narendra modi narendramodi agriculture sector desperate need latest technology assists industrious farmers th narendra modi narendramodi new delhi rajya sabha sunday passed two key farm bills amid bedlam opposition members charged towards podium presiding officer flung rule book tore official papers heckled demand division votetrouble started sitting house extended beyond scheduled time allow passage bills opposition members felt move resorted consensus rushed well shouting slogans government accusing anti farmerthis forced agriculture minister narendra singh tomar cut short reply deputy chairman harivansh took approval billsfour opposition sponsored motions send two bills house panel greater scrutiny negated voice vote congress tmc cpm dmk members sought division vote issueas harivansh ruled saying division votes take place members seat tmc leader derek obrien charged towards podium thrusting rule book face deputy chairmanhouse marshals thwarted move also blocking book flung towards harivansh attempt also made pulls microphones away chair marshals physically stopped happeningdmk leader tiruchi siva along obrien k c venugopal congress k k ragesh cpm moved resolutions sending bills select committee tore papers flung airharivansh asked members go back places come well due covid protocol requiring physical separation first muted audio live proceedings ruckus continuing adjourned proceedings minuteswhen house reassembled opposition parties chanted slogans prevent harivansh putting bill voice voteas first bill got voice approval house motions sending select committee rejected least two members tried climb table rajya sabha officers pulled downboth bills passed voice vote amendments moved opposition parties rejectedhowever congress opposition party members sat protest inside rajya sabha even house adjourned day passage two farm billsthe house sitting ends pm rajya sabha chamber sanitised pm lok sabha sits session chambers lok sabha rajya sabha used house allow members follow physical distancing normsas result lok sabha adjourned till pm congress members demanded house proceedings take place till rajya sabha galleries cleared agitating members upper housemeanwhile rajya sabha chairman venkaiah naidu convened high level meeting residence likely take action created ruckus upper housesources told news agency ani rajya sabha chairman upset incident likely take action raised slogans chair tore papersshortly passage bills sad chief sukhbir singh badal urged president ram nath kovind give assent legislations return parliament reconsiderationbadals party earlier pulled harsimrat kaur badal union cabinet protest billsmeanwhile prime minister narendra modi hailed parliaments nod two bills sunday describing passage watershed moment history indian agriculturehe asserted ensure complete transformation farm sector empower crores farmersin series tweets pm modi said proposed laws liberate farmers numerous adversities noted peasants decades bound various constraints bullied middlemenhe assured farmers existing government support system continuefarmers states like punjab haryana protesting bills leaders alleging legislations dismantle existing system leave mercy corporate interestsbjp president j p nadda said legislations give farmers freedom selling produce rid middlemenhe also hit opposition parties ruckus rajya sabha chair proceeded take bills passage termed behaviour highly irresponsible attack democracy hoped house chairman take note thatopposition members also violated covid protocols storming well house told reporters"
                ]
              ],
              "shape": {
                "columns": 2,
                "rows": 5
              }
            },
            "text/html": [
              "<div>\n",
              "<style scoped>\n",
              "    .dataframe tbody tr th:only-of-type {\n",
              "        vertical-align: middle;\n",
              "    }\n",
              "\n",
              "    .dataframe tbody tr th {\n",
              "        vertical-align: top;\n",
              "    }\n",
              "\n",
              "    .dataframe thead th {\n",
              "        text-align: right;\n",
              "    }\n",
              "</style>\n",
              "<table border=\"1\" class=\"dataframe\">\n",
              "  <thead>\n",
              "    <tr style=\"text-align: right;\">\n",
              "      <th></th>\n",
              "      <th>text</th>\n",
              "      <th>cleaned_text</th>\n",
              "    </tr>\n",
              "  </thead>\n",
              "  <tbody>\n",
              "    <tr>\n",
              "      <th>0</th>\n",
              "      <td>Payal has accused filmmaker Anurag Kashyap of ...</td>\n",
              "      <td>payal accused filmmaker anurag kashyap behavin...</td>\n",
              "    </tr>\n",
              "    <tr>\n",
              "      <th>1</th>\n",
              "      <td>A four-minute-long video of a woman criticisin...</td>\n",
              "      <td>four minute long video woman criticising gover...</td>\n",
              "    </tr>\n",
              "    <tr>\n",
              "      <th>2</th>\n",
              "      <td>Republic Poll, a fake Twitter account imitatin...</td>\n",
              "      <td>republic poll fake twitter account imitating a...</td>\n",
              "    </tr>\n",
              "    <tr>\n",
              "      <th>3</th>\n",
              "      <td>Delhi teen finds place on UN green list, turns...</td>\n",
              "      <td>delhi teen finds place un green list turns gla...</td>\n",
              "    </tr>\n",
              "    <tr>\n",
              "      <th>4</th>\n",
              "      <td>Delhi: A high-level meeting underway at reside...</td>\n",
              "      <td>delhi high level meeting underway residence ra...</td>\n",
              "    </tr>\n",
              "  </tbody>\n",
              "</table>\n",
              "</div>"
            ],
            "text/plain": [
              "                                                text  \\\n",
              "0  Payal has accused filmmaker Anurag Kashyap of ...   \n",
              "1  A four-minute-long video of a woman criticisin...   \n",
              "2  Republic Poll, a fake Twitter account imitatin...   \n",
              "3  Delhi teen finds place on UN green list, turns...   \n",
              "4  Delhi: A high-level meeting underway at reside...   \n",
              "\n",
              "                                        cleaned_text  \n",
              "0  payal accused filmmaker anurag kashyap behavin...  \n",
              "1  four minute long video woman criticising gover...  \n",
              "2  republic poll fake twitter account imitating a...  \n",
              "3  delhi teen finds place un green list turns gla...  \n",
              "4  delhi high level meeting underway residence ra...  "
            ]
          },
          "execution_count": 53,
          "metadata": {},
          "output_type": "execute_result"
        }
      ],
      "source": [
        "data[['text', 'cleaned_text']].head()"
      ]
    },
    {
      "cell_type": "markdown",
      "metadata": {
        "id": "4ikkMEXBP1dZ"
      },
      "source": [
        "# 3. Train Test Split"
      ]
    },
    {
      "cell_type": "code",
      "execution_count": 54,
      "metadata": {
        "colab": {
          "base_uri": "https://localhost:8080/"
        },
        "id": "UFObduJtNxS1",
        "outputId": "9bf5d6e0-03d7-40b6-8791-2a770aa02ce0"
      },
      "outputs": [],
      "source": [
        "label_encoder = LabelEncoder()\n",
        "data['label_encoded'] = label_encoder.fit_transform(data['label'])"
      ]
    },
    {
      "cell_type": "code",
      "execution_count": 55,
      "metadata": {},
      "outputs": [],
      "source": [
        "X = data['cleaned_text']\n",
        "y = data['label_encoded']"
      ]
    },
    {
      "cell_type": "code",
      "execution_count": 56,
      "metadata": {},
      "outputs": [],
      "source": [
        "X_train, X_test, y_train, y_test = train_test_split(X, y, test_size=0.2, random_state=42, stratify=y)"
      ]
    },
    {
      "cell_type": "code",
      "execution_count": 57,
      "metadata": {},
      "outputs": [
        {
          "name": "stdout",
          "output_type": "stream",
          "text": [
            "Ukuran X_train: (2983,)\n"
          ]
        }
      ],
      "source": [
        "print(f\"Ukuran X_train: {X_train.shape}\")"
      ]
    },
    {
      "cell_type": "code",
      "execution_count": 58,
      "metadata": {},
      "outputs": [
        {
          "name": "stdout",
          "output_type": "stream",
          "text": [
            "Ukuran X_test: (746,)\n"
          ]
        }
      ],
      "source": [
        "print(f\"Ukuran X_test: {X_test.shape}\")"
      ]
    },
    {
      "cell_type": "code",
      "execution_count": 59,
      "metadata": {},
      "outputs": [
        {
          "name": "stdout",
          "output_type": "stream",
          "text": [
            "Distribusi label di y_train: [1501 1482]\n"
          ]
        }
      ],
      "source": [
        "print(f\"Distribusi label di y_train: {np.bincount(y_train)}\")"
      ]
    },
    {
      "cell_type": "code",
      "execution_count": 60,
      "metadata": {},
      "outputs": [
        {
          "name": "stdout",
          "output_type": "stream",
          "text": [
            "Distribusi label di y_test: [376 370]\n"
          ]
        }
      ],
      "source": [
        "print(f\"Distribusi label di y_test: {np.bincount(y_test)}\")"
      ]
    },
    {
      "cell_type": "markdown",
      "metadata": {
        "id": "eXR-DsyDP5Z2"
      },
      "source": [
        "# 4. Vektorisasi Teks"
      ]
    },
    {
      "cell_type": "code",
      "execution_count": 63,
      "metadata": {
        "colab": {
          "base_uri": "https://localhost:8080/"
        },
        "id": "DvwS9olLNyiy",
        "outputId": "5fb900a5-e249-486e-f9b9-8d82dbf46cee"
      },
      "outputs": [],
      "source": [
        "tfidf = TfidfVectorizer(max_features=5000, ngram_range=(1,2))"
      ]
    },
    {
      "cell_type": "code",
      "execution_count": 64,
      "metadata": {},
      "outputs": [],
      "source": [
        "X_train_tfidf = tfidf.fit_transform(X_train)"
      ]
    },
    {
      "cell_type": "code",
      "execution_count": 65,
      "metadata": {},
      "outputs": [],
      "source": [
        "X_test_tfidf = tfidf.transform(X_test)"
      ]
    },
    {
      "cell_type": "code",
      "execution_count": 66,
      "metadata": {},
      "outputs": [
        {
          "name": "stdout",
          "output_type": "stream",
          "text": [
            "Bentuk X_train_tfidf: (2983, 5000)\n"
          ]
        }
      ],
      "source": [
        "print(f\"Bentuk X_train_tfidf: {X_train_tfidf.shape}\")"
      ]
    },
    {
      "cell_type": "code",
      "execution_count": 67,
      "metadata": {},
      "outputs": [
        {
          "name": "stdout",
          "output_type": "stream",
          "text": [
            "Bentuk X_test_tfidf: (746, 5000)\n"
          ]
        }
      ],
      "source": [
        "print(f\"Bentuk X_test_tfidf: {X_test_tfidf.shape}\")"
      ]
    },
    {
      "cell_type": "markdown",
      "metadata": {
        "id": "Ui6ezAJiP8nG"
      },
      "source": [
        "# 5. Model Naive Bayes"
      ]
    },
    {
      "cell_type": "code",
      "execution_count": 68,
      "metadata": {
        "colab": {
          "base_uri": "https://localhost:8080/"
        },
        "id": "7DLenS5pNzhD",
        "outputId": "1c782662-4398-47ea-cfdb-30e7d82a17d1"
      },
      "outputs": [],
      "source": [
        "nb_model = MultinomialNB()"
      ]
    },
    {
      "cell_type": "code",
      "execution_count": 69,
      "metadata": {},
      "outputs": [
        {
          "data": {
            "text/html": [
              "<style>#sk-container-id-1 {\n",
              "  /* Definition of color scheme common for light and dark mode */\n",
              "  --sklearn-color-text: #000;\n",
              "  --sklearn-color-text-muted: #666;\n",
              "  --sklearn-color-line: gray;\n",
              "  /* Definition of color scheme for unfitted estimators */\n",
              "  --sklearn-color-unfitted-level-0: #fff5e6;\n",
              "  --sklearn-color-unfitted-level-1: #f6e4d2;\n",
              "  --sklearn-color-unfitted-level-2: #ffe0b3;\n",
              "  --sklearn-color-unfitted-level-3: chocolate;\n",
              "  /* Definition of color scheme for fitted estimators */\n",
              "  --sklearn-color-fitted-level-0: #f0f8ff;\n",
              "  --sklearn-color-fitted-level-1: #d4ebff;\n",
              "  --sklearn-color-fitted-level-2: #b3dbfd;\n",
              "  --sklearn-color-fitted-level-3: cornflowerblue;\n",
              "\n",
              "  /* Specific color for light theme */\n",
              "  --sklearn-color-text-on-default-background: var(--sg-text-color, var(--theme-code-foreground, var(--jp-content-font-color1, black)));\n",
              "  --sklearn-color-background: var(--sg-background-color, var(--theme-background, var(--jp-layout-color0, white)));\n",
              "  --sklearn-color-border-box: var(--sg-text-color, var(--theme-code-foreground, var(--jp-content-font-color1, black)));\n",
              "  --sklearn-color-icon: #696969;\n",
              "\n",
              "  @media (prefers-color-scheme: dark) {\n",
              "    /* Redefinition of color scheme for dark theme */\n",
              "    --sklearn-color-text-on-default-background: var(--sg-text-color, var(--theme-code-foreground, var(--jp-content-font-color1, white)));\n",
              "    --sklearn-color-background: var(--sg-background-color, var(--theme-background, var(--jp-layout-color0, #111)));\n",
              "    --sklearn-color-border-box: var(--sg-text-color, var(--theme-code-foreground, var(--jp-content-font-color1, white)));\n",
              "    --sklearn-color-icon: #878787;\n",
              "  }\n",
              "}\n",
              "\n",
              "#sk-container-id-1 {\n",
              "  color: var(--sklearn-color-text);\n",
              "}\n",
              "\n",
              "#sk-container-id-1 pre {\n",
              "  padding: 0;\n",
              "}\n",
              "\n",
              "#sk-container-id-1 input.sk-hidden--visually {\n",
              "  border: 0;\n",
              "  clip: rect(1px 1px 1px 1px);\n",
              "  clip: rect(1px, 1px, 1px, 1px);\n",
              "  height: 1px;\n",
              "  margin: -1px;\n",
              "  overflow: hidden;\n",
              "  padding: 0;\n",
              "  position: absolute;\n",
              "  width: 1px;\n",
              "}\n",
              "\n",
              "#sk-container-id-1 div.sk-dashed-wrapped {\n",
              "  border: 1px dashed var(--sklearn-color-line);\n",
              "  margin: 0 0.4em 0.5em 0.4em;\n",
              "  box-sizing: border-box;\n",
              "  padding-bottom: 0.4em;\n",
              "  background-color: var(--sklearn-color-background);\n",
              "}\n",
              "\n",
              "#sk-container-id-1 div.sk-container {\n",
              "  /* jupyter's `normalize.less` sets `[hidden] { display: none; }`\n",
              "     but bootstrap.min.css set `[hidden] { display: none !important; }`\n",
              "     so we also need the `!important` here to be able to override the\n",
              "     default hidden behavior on the sphinx rendered scikit-learn.org.\n",
              "     See: https://github.com/scikit-learn/scikit-learn/issues/21755 */\n",
              "  display: inline-block !important;\n",
              "  position: relative;\n",
              "}\n",
              "\n",
              "#sk-container-id-1 div.sk-text-repr-fallback {\n",
              "  display: none;\n",
              "}\n",
              "\n",
              "div.sk-parallel-item,\n",
              "div.sk-serial,\n",
              "div.sk-item {\n",
              "  /* draw centered vertical line to link estimators */\n",
              "  background-image: linear-gradient(var(--sklearn-color-text-on-default-background), var(--sklearn-color-text-on-default-background));\n",
              "  background-size: 2px 100%;\n",
              "  background-repeat: no-repeat;\n",
              "  background-position: center center;\n",
              "}\n",
              "\n",
              "/* Parallel-specific style estimator block */\n",
              "\n",
              "#sk-container-id-1 div.sk-parallel-item::after {\n",
              "  content: \"\";\n",
              "  width: 100%;\n",
              "  border-bottom: 2px solid var(--sklearn-color-text-on-default-background);\n",
              "  flex-grow: 1;\n",
              "}\n",
              "\n",
              "#sk-container-id-1 div.sk-parallel {\n",
              "  display: flex;\n",
              "  align-items: stretch;\n",
              "  justify-content: center;\n",
              "  background-color: var(--sklearn-color-background);\n",
              "  position: relative;\n",
              "}\n",
              "\n",
              "#sk-container-id-1 div.sk-parallel-item {\n",
              "  display: flex;\n",
              "  flex-direction: column;\n",
              "}\n",
              "\n",
              "#sk-container-id-1 div.sk-parallel-item:first-child::after {\n",
              "  align-self: flex-end;\n",
              "  width: 50%;\n",
              "}\n",
              "\n",
              "#sk-container-id-1 div.sk-parallel-item:last-child::after {\n",
              "  align-self: flex-start;\n",
              "  width: 50%;\n",
              "}\n",
              "\n",
              "#sk-container-id-1 div.sk-parallel-item:only-child::after {\n",
              "  width: 0;\n",
              "}\n",
              "\n",
              "/* Serial-specific style estimator block */\n",
              "\n",
              "#sk-container-id-1 div.sk-serial {\n",
              "  display: flex;\n",
              "  flex-direction: column;\n",
              "  align-items: center;\n",
              "  background-color: var(--sklearn-color-background);\n",
              "  padding-right: 1em;\n",
              "  padding-left: 1em;\n",
              "}\n",
              "\n",
              "\n",
              "/* Toggleable style: style used for estimator/Pipeline/ColumnTransformer box that is\n",
              "clickable and can be expanded/collapsed.\n",
              "- Pipeline and ColumnTransformer use this feature and define the default style\n",
              "- Estimators will overwrite some part of the style using the `sk-estimator` class\n",
              "*/\n",
              "\n",
              "/* Pipeline and ColumnTransformer style (default) */\n",
              "\n",
              "#sk-container-id-1 div.sk-toggleable {\n",
              "  /* Default theme specific background. It is overwritten whether we have a\n",
              "  specific estimator or a Pipeline/ColumnTransformer */\n",
              "  background-color: var(--sklearn-color-background);\n",
              "}\n",
              "\n",
              "/* Toggleable label */\n",
              "#sk-container-id-1 label.sk-toggleable__label {\n",
              "  cursor: pointer;\n",
              "  display: flex;\n",
              "  width: 100%;\n",
              "  margin-bottom: 0;\n",
              "  padding: 0.5em;\n",
              "  box-sizing: border-box;\n",
              "  text-align: center;\n",
              "  align-items: start;\n",
              "  justify-content: space-between;\n",
              "  gap: 0.5em;\n",
              "}\n",
              "\n",
              "#sk-container-id-1 label.sk-toggleable__label .caption {\n",
              "  font-size: 0.6rem;\n",
              "  font-weight: lighter;\n",
              "  color: var(--sklearn-color-text-muted);\n",
              "}\n",
              "\n",
              "#sk-container-id-1 label.sk-toggleable__label-arrow:before {\n",
              "  /* Arrow on the left of the label */\n",
              "  content: \"▸\";\n",
              "  float: left;\n",
              "  margin-right: 0.25em;\n",
              "  color: var(--sklearn-color-icon);\n",
              "}\n",
              "\n",
              "#sk-container-id-1 label.sk-toggleable__label-arrow:hover:before {\n",
              "  color: var(--sklearn-color-text);\n",
              "}\n",
              "\n",
              "/* Toggleable content - dropdown */\n",
              "\n",
              "#sk-container-id-1 div.sk-toggleable__content {\n",
              "  max-height: 0;\n",
              "  max-width: 0;\n",
              "  overflow: hidden;\n",
              "  text-align: left;\n",
              "  /* unfitted */\n",
              "  background-color: var(--sklearn-color-unfitted-level-0);\n",
              "}\n",
              "\n",
              "#sk-container-id-1 div.sk-toggleable__content.fitted {\n",
              "  /* fitted */\n",
              "  background-color: var(--sklearn-color-fitted-level-0);\n",
              "}\n",
              "\n",
              "#sk-container-id-1 div.sk-toggleable__content pre {\n",
              "  margin: 0.2em;\n",
              "  border-radius: 0.25em;\n",
              "  color: var(--sklearn-color-text);\n",
              "  /* unfitted */\n",
              "  background-color: var(--sklearn-color-unfitted-level-0);\n",
              "}\n",
              "\n",
              "#sk-container-id-1 div.sk-toggleable__content.fitted pre {\n",
              "  /* unfitted */\n",
              "  background-color: var(--sklearn-color-fitted-level-0);\n",
              "}\n",
              "\n",
              "#sk-container-id-1 input.sk-toggleable__control:checked~div.sk-toggleable__content {\n",
              "  /* Expand drop-down */\n",
              "  max-height: 200px;\n",
              "  max-width: 100%;\n",
              "  overflow: auto;\n",
              "}\n",
              "\n",
              "#sk-container-id-1 input.sk-toggleable__control:checked~label.sk-toggleable__label-arrow:before {\n",
              "  content: \"▾\";\n",
              "}\n",
              "\n",
              "/* Pipeline/ColumnTransformer-specific style */\n",
              "\n",
              "#sk-container-id-1 div.sk-label input.sk-toggleable__control:checked~label.sk-toggleable__label {\n",
              "  color: var(--sklearn-color-text);\n",
              "  background-color: var(--sklearn-color-unfitted-level-2);\n",
              "}\n",
              "\n",
              "#sk-container-id-1 div.sk-label.fitted input.sk-toggleable__control:checked~label.sk-toggleable__label {\n",
              "  background-color: var(--sklearn-color-fitted-level-2);\n",
              "}\n",
              "\n",
              "/* Estimator-specific style */\n",
              "\n",
              "/* Colorize estimator box */\n",
              "#sk-container-id-1 div.sk-estimator input.sk-toggleable__control:checked~label.sk-toggleable__label {\n",
              "  /* unfitted */\n",
              "  background-color: var(--sklearn-color-unfitted-level-2);\n",
              "}\n",
              "\n",
              "#sk-container-id-1 div.sk-estimator.fitted input.sk-toggleable__control:checked~label.sk-toggleable__label {\n",
              "  /* fitted */\n",
              "  background-color: var(--sklearn-color-fitted-level-2);\n",
              "}\n",
              "\n",
              "#sk-container-id-1 div.sk-label label.sk-toggleable__label,\n",
              "#sk-container-id-1 div.sk-label label {\n",
              "  /* The background is the default theme color */\n",
              "  color: var(--sklearn-color-text-on-default-background);\n",
              "}\n",
              "\n",
              "/* On hover, darken the color of the background */\n",
              "#sk-container-id-1 div.sk-label:hover label.sk-toggleable__label {\n",
              "  color: var(--sklearn-color-text);\n",
              "  background-color: var(--sklearn-color-unfitted-level-2);\n",
              "}\n",
              "\n",
              "/* Label box, darken color on hover, fitted */\n",
              "#sk-container-id-1 div.sk-label.fitted:hover label.sk-toggleable__label.fitted {\n",
              "  color: var(--sklearn-color-text);\n",
              "  background-color: var(--sklearn-color-fitted-level-2);\n",
              "}\n",
              "\n",
              "/* Estimator label */\n",
              "\n",
              "#sk-container-id-1 div.sk-label label {\n",
              "  font-family: monospace;\n",
              "  font-weight: bold;\n",
              "  display: inline-block;\n",
              "  line-height: 1.2em;\n",
              "}\n",
              "\n",
              "#sk-container-id-1 div.sk-label-container {\n",
              "  text-align: center;\n",
              "}\n",
              "\n",
              "/* Estimator-specific */\n",
              "#sk-container-id-1 div.sk-estimator {\n",
              "  font-family: monospace;\n",
              "  border: 1px dotted var(--sklearn-color-border-box);\n",
              "  border-radius: 0.25em;\n",
              "  box-sizing: border-box;\n",
              "  margin-bottom: 0.5em;\n",
              "  /* unfitted */\n",
              "  background-color: var(--sklearn-color-unfitted-level-0);\n",
              "}\n",
              "\n",
              "#sk-container-id-1 div.sk-estimator.fitted {\n",
              "  /* fitted */\n",
              "  background-color: var(--sklearn-color-fitted-level-0);\n",
              "}\n",
              "\n",
              "/* on hover */\n",
              "#sk-container-id-1 div.sk-estimator:hover {\n",
              "  /* unfitted */\n",
              "  background-color: var(--sklearn-color-unfitted-level-2);\n",
              "}\n",
              "\n",
              "#sk-container-id-1 div.sk-estimator.fitted:hover {\n",
              "  /* fitted */\n",
              "  background-color: var(--sklearn-color-fitted-level-2);\n",
              "}\n",
              "\n",
              "/* Specification for estimator info (e.g. \"i\" and \"?\") */\n",
              "\n",
              "/* Common style for \"i\" and \"?\" */\n",
              "\n",
              ".sk-estimator-doc-link,\n",
              "a:link.sk-estimator-doc-link,\n",
              "a:visited.sk-estimator-doc-link {\n",
              "  float: right;\n",
              "  font-size: smaller;\n",
              "  line-height: 1em;\n",
              "  font-family: monospace;\n",
              "  background-color: var(--sklearn-color-background);\n",
              "  border-radius: 1em;\n",
              "  height: 1em;\n",
              "  width: 1em;\n",
              "  text-decoration: none !important;\n",
              "  margin-left: 0.5em;\n",
              "  text-align: center;\n",
              "  /* unfitted */\n",
              "  border: var(--sklearn-color-unfitted-level-1) 1pt solid;\n",
              "  color: var(--sklearn-color-unfitted-level-1);\n",
              "}\n",
              "\n",
              ".sk-estimator-doc-link.fitted,\n",
              "a:link.sk-estimator-doc-link.fitted,\n",
              "a:visited.sk-estimator-doc-link.fitted {\n",
              "  /* fitted */\n",
              "  border: var(--sklearn-color-fitted-level-1) 1pt solid;\n",
              "  color: var(--sklearn-color-fitted-level-1);\n",
              "}\n",
              "\n",
              "/* On hover */\n",
              "div.sk-estimator:hover .sk-estimator-doc-link:hover,\n",
              ".sk-estimator-doc-link:hover,\n",
              "div.sk-label-container:hover .sk-estimator-doc-link:hover,\n",
              ".sk-estimator-doc-link:hover {\n",
              "  /* unfitted */\n",
              "  background-color: var(--sklearn-color-unfitted-level-3);\n",
              "  color: var(--sklearn-color-background);\n",
              "  text-decoration: none;\n",
              "}\n",
              "\n",
              "div.sk-estimator.fitted:hover .sk-estimator-doc-link.fitted:hover,\n",
              ".sk-estimator-doc-link.fitted:hover,\n",
              "div.sk-label-container:hover .sk-estimator-doc-link.fitted:hover,\n",
              ".sk-estimator-doc-link.fitted:hover {\n",
              "  /* fitted */\n",
              "  background-color: var(--sklearn-color-fitted-level-3);\n",
              "  color: var(--sklearn-color-background);\n",
              "  text-decoration: none;\n",
              "}\n",
              "\n",
              "/* Span, style for the box shown on hovering the info icon */\n",
              ".sk-estimator-doc-link span {\n",
              "  display: none;\n",
              "  z-index: 9999;\n",
              "  position: relative;\n",
              "  font-weight: normal;\n",
              "  right: .2ex;\n",
              "  padding: .5ex;\n",
              "  margin: .5ex;\n",
              "  width: min-content;\n",
              "  min-width: 20ex;\n",
              "  max-width: 50ex;\n",
              "  color: var(--sklearn-color-text);\n",
              "  box-shadow: 2pt 2pt 4pt #999;\n",
              "  /* unfitted */\n",
              "  background: var(--sklearn-color-unfitted-level-0);\n",
              "  border: .5pt solid var(--sklearn-color-unfitted-level-3);\n",
              "}\n",
              "\n",
              ".sk-estimator-doc-link.fitted span {\n",
              "  /* fitted */\n",
              "  background: var(--sklearn-color-fitted-level-0);\n",
              "  border: var(--sklearn-color-fitted-level-3);\n",
              "}\n",
              "\n",
              ".sk-estimator-doc-link:hover span {\n",
              "  display: block;\n",
              "}\n",
              "\n",
              "/* \"?\"-specific style due to the `<a>` HTML tag */\n",
              "\n",
              "#sk-container-id-1 a.estimator_doc_link {\n",
              "  float: right;\n",
              "  font-size: 1rem;\n",
              "  line-height: 1em;\n",
              "  font-family: monospace;\n",
              "  background-color: var(--sklearn-color-background);\n",
              "  border-radius: 1rem;\n",
              "  height: 1rem;\n",
              "  width: 1rem;\n",
              "  text-decoration: none;\n",
              "  /* unfitted */\n",
              "  color: var(--sklearn-color-unfitted-level-1);\n",
              "  border: var(--sklearn-color-unfitted-level-1) 1pt solid;\n",
              "}\n",
              "\n",
              "#sk-container-id-1 a.estimator_doc_link.fitted {\n",
              "  /* fitted */\n",
              "  border: var(--sklearn-color-fitted-level-1) 1pt solid;\n",
              "  color: var(--sklearn-color-fitted-level-1);\n",
              "}\n",
              "\n",
              "/* On hover */\n",
              "#sk-container-id-1 a.estimator_doc_link:hover {\n",
              "  /* unfitted */\n",
              "  background-color: var(--sklearn-color-unfitted-level-3);\n",
              "  color: var(--sklearn-color-background);\n",
              "  text-decoration: none;\n",
              "}\n",
              "\n",
              "#sk-container-id-1 a.estimator_doc_link.fitted:hover {\n",
              "  /* fitted */\n",
              "  background-color: var(--sklearn-color-fitted-level-3);\n",
              "}\n",
              "</style><div id=\"sk-container-id-1\" class=\"sk-top-container\"><div class=\"sk-text-repr-fallback\"><pre>MultinomialNB()</pre><b>In a Jupyter environment, please rerun this cell to show the HTML representation or trust the notebook. <br />On GitHub, the HTML representation is unable to render, please try loading this page with nbviewer.org.</b></div><div class=\"sk-container\" hidden><div class=\"sk-item\"><div class=\"sk-estimator fitted sk-toggleable\"><input class=\"sk-toggleable__control sk-hidden--visually\" id=\"sk-estimator-id-1\" type=\"checkbox\" checked><label for=\"sk-estimator-id-1\" class=\"sk-toggleable__label fitted sk-toggleable__label-arrow\"><div><div>MultinomialNB</div></div><div><a class=\"sk-estimator-doc-link fitted\" rel=\"noreferrer\" target=\"_blank\" href=\"https://scikit-learn.org/1.6/modules/generated/sklearn.naive_bayes.MultinomialNB.html\">?<span>Documentation for MultinomialNB</span></a><span class=\"sk-estimator-doc-link fitted\">i<span>Fitted</span></span></div></label><div class=\"sk-toggleable__content fitted\"><pre>MultinomialNB()</pre></div> </div></div></div></div>"
            ],
            "text/plain": [
              "MultinomialNB()"
            ]
          },
          "execution_count": 69,
          "metadata": {},
          "output_type": "execute_result"
        }
      ],
      "source": [
        "nb_model.fit(X_train_tfidf, y_train)"
      ]
    },
    {
      "cell_type": "code",
      "execution_count": 70,
      "metadata": {},
      "outputs": [],
      "source": [
        "y_pred_nb = nb_model.predict(X_test_tfidf)"
      ]
    },
    {
      "cell_type": "code",
      "execution_count": 71,
      "metadata": {},
      "outputs": [],
      "source": [
        "accuracy_nb = accuracy_score(y_test, y_pred_nb)"
      ]
    },
    {
      "cell_type": "code",
      "execution_count": 72,
      "metadata": {},
      "outputs": [
        {
          "name": "stdout",
          "output_type": "stream",
          "text": [
            "Akurasi Naive Bayes: 0.9504\n"
          ]
        }
      ],
      "source": [
        "print(f\"Akurasi Naive Bayes: {accuracy_nb:.4f}\")"
      ]
    },
    {
      "cell_type": "code",
      "execution_count": 81,
      "metadata": {},
      "outputs": [
        {
          "name": "stdout",
          "output_type": "stream",
          "text": [
            "\n",
            "Classification Report Naive Bayes:\n",
            "              precision    recall  f1-score   support\n",
            "\n",
            "        FAKE       0.91      1.00      0.95       376\n",
            "        REAL       1.00      0.90      0.95       370\n",
            "\n",
            "    accuracy                           0.95       746\n",
            "   macro avg       0.96      0.95      0.95       746\n",
            "weighted avg       0.95      0.95      0.95       746\n",
            "\n"
          ]
        }
      ],
      "source": [
        "print(\"\\nClassification Report Naive Bayes:\")\n",
        "print(classification_report(y_test, y_pred_nb, target_names=label_encoder.classes_))"
      ]
    },
    {
      "cell_type": "code",
      "execution_count": 84,
      "metadata": {},
      "outputs": [
        {
          "name": "stdout",
          "output_type": "stream",
          "text": [
            "\n",
            "Confusion Matrix Naive Bayes:\n",
            "[[376   0]\n",
            " [ 37 333]]\n"
          ]
        }
      ],
      "source": [
        "print(\"\\nConfusion Matrix Naive Bayes:\")\n",
        "print(confusion_matrix(y_test, y_pred_nb))"
      ]
    },
    {
      "cell_type": "code",
      "execution_count": 85,
      "metadata": {},
      "outputs": [
        {
          "data": {
            "image/png": "[encoded data removed]",
            "text/plain": [
              "<Figure size 800x600 with 1 Axes>"
            ]
          },
          "metadata": {},
          "output_type": "display_data"
        }
      ],
      "source": [
        "cm = confusion_matrix(y_test, y_pred_nb)\n",
        "\n",
        "plt.figure(figsize=(8, 6))\n",
        "sns.heatmap(cm, annot=True, fmt='d', cmap='Blues', cbar=False, \n",
        "            xticklabels=['Class 0', 'Class 1'], \n",
        "            yticklabels=['Class 0', 'Class 1'])\n",
        "plt.title('Confusion Matrix - Naive Bayes')\n",
        "plt.xlabel('Predicted')\n",
        "plt.ylabel('Actual')\n",
        "plt.show()"
      ]
    },
    {
      "cell_type": "markdown",
      "metadata": {
        "id": "m5Ohg1rgQBPx"
      },
      "source": [
        "# 6. Model ANN"
      ]
    },
    {
      "cell_type": "code",
      "execution_count": 87,
      "metadata": {
        "colab": {
          "base_uri": "https://localhost:8080/"
        },
        "id": "v5KuW9hcN0st",
        "outputId": "b74cd2fa-9778-4d9b-8fff-b0223cc5c09e"
      },
      "outputs": [],
      "source": [
        "X_train_dense = X_train_tfidf.toarray()\n",
        "X_test_dense = X_test_tfidf.toarray()"
      ]
    },
    {
      "cell_type": "code",
      "execution_count": 88,
      "metadata": {},
      "outputs": [],
      "source": [
        "ann_model = Sequential([\n",
        "    Dense(128, activation='relu', input_shape=(X_train_tfidf.shape[1],)),\n",
        "    Dropout(0.3),\n",
        "    Dense(64, activation='relu'),\n",
        "    Dropout(0.3),\n",
        "    Dense(1, activation='sigmoid')\n",
        "])"
      ]
    },
    {
      "cell_type": "code",
      "execution_count": 89,
      "metadata": {},
      "outputs": [],
      "source": [
        "ann_model.compile(optimizer='adam', loss='binary_crossentropy', metrics=['accuracy'])"
      ]
    },
    {
      "cell_type": "code",
      "execution_count": 90,
      "metadata": {},
      "outputs": [
        {
          "name": "stdout",
          "output_type": "stream",
          "text": [
            "Epoch 1/10\n",
            "\u001b[1m94/94\u001b[0m \u001b[32m━━━━━━━━━━━━━━━━━━━━\u001b[0m\u001b[37m\u001b[0m \u001b[1m2s\u001b[0m 8ms/step - accuracy: 0.8515 - loss: 0.4230 - val_accuracy: 0.9946 - val_loss: 0.0152\n",
            "Epoch 2/10\n",
            "\u001b[1m94/94\u001b[0m \u001b[32m━━━━━━━━━━━━━━━━━━━━\u001b[0m\u001b[37m\u001b[0m \u001b[1m1s\u001b[0m 6ms/step - accuracy: 0.9983 - loss: 0.0103 - val_accuracy: 0.9960 - val_loss: 0.0111\n",
            "Epoch 3/10\n",
            "\u001b[1m94/94\u001b[0m \u001b[32m━━━━━━━━━━━━━━━━━━━━\u001b[0m\u001b[37m\u001b[0m \u001b[1m1s\u001b[0m 6ms/step - accuracy: 0.9993 - loss: 0.0038 - val_accuracy: 0.9946 - val_loss: 0.0087\n",
            "Epoch 4/10\n",
            "\u001b[1m94/94\u001b[0m \u001b[32m━━━━━━━━━━━━━━━━━━━━\u001b[0m\u001b[37m\u001b[0m \u001b[1m1s\u001b[0m 6ms/step - accuracy: 0.9991 - loss: 0.0030 - val_accuracy: 0.9960 - val_loss: 0.0074\n",
            "Epoch 5/10\n",
            "\u001b[1m94/94\u001b[0m \u001b[32m━━━━━━━━━━━━━━━━━━━━\u001b[0m\u001b[37m\u001b[0m \u001b[1m1s\u001b[0m 6ms/step - accuracy: 0.9980 - loss: 0.0040 - val_accuracy: 0.9960 - val_loss: 0.0067\n",
            "Epoch 6/10\n",
            "\u001b[1m94/94\u001b[0m \u001b[32m━━━━━━━━━━━━━━━━━━━━\u001b[0m\u001b[37m\u001b[0m \u001b[1m1s\u001b[0m 6ms/step - accuracy: 0.9992 - loss: 0.0018 - val_accuracy: 0.9987 - val_loss: 0.0058\n",
            "Epoch 7/10\n",
            "\u001b[1m94/94\u001b[0m \u001b[32m━━━━━━━━━━━━━━━━━━━━\u001b[0m\u001b[37m\u001b[0m \u001b[1m1s\u001b[0m 6ms/step - accuracy: 0.9995 - loss: 0.0013 - val_accuracy: 0.9987 - val_loss: 0.0055\n",
            "Epoch 8/10\n",
            "\u001b[1m94/94\u001b[0m \u001b[32m━━━━━━━━━━━━━━━━━━━━\u001b[0m\u001b[37m\u001b[0m \u001b[1m1s\u001b[0m 6ms/step - accuracy: 0.9974 - loss: 0.0040 - val_accuracy: 0.9987 - val_loss: 0.0051\n",
            "Epoch 9/10\n",
            "\u001b[1m94/94\u001b[0m \u001b[32m━━━━━━━━━━━━━━━━━━━━\u001b[0m\u001b[37m\u001b[0m \u001b[1m1s\u001b[0m 6ms/step - accuracy: 0.9987 - loss: 0.0020 - val_accuracy: 0.9973 - val_loss: 0.0048\n",
            "Epoch 10/10\n",
            "\u001b[1m94/94\u001b[0m \u001b[32m━━━━━━━━━━━━━━━━━━━━\u001b[0m\u001b[37m\u001b[0m \u001b[1m1s\u001b[0m 6ms/step - accuracy: 0.9987 - loss: 0.0024 - val_accuracy: 0.9987 - val_loss: 0.0052\n"
          ]
        }
      ],
      "source": [
        "history = ann_model.fit(X_train_dense, y_train, epochs=10, batch_size=32,\n",
        "                       validation_data=(X_test_dense, y_test), verbose=1)"
      ]
    },
    {
      "cell_type": "code",
      "execution_count": 91,
      "metadata": {},
      "outputs": [
        {
          "name": "stdout",
          "output_type": "stream",
          "text": [
            "\u001b[1m24/24\u001b[0m \u001b[32m━━━━━━━━━━━━━━━━━━━━\u001b[0m\u001b[37m\u001b[0m \u001b[1m0s\u001b[0m 4ms/step - accuracy: 0.9990 - loss: 0.0047   \n",
            "Akurasi ANN: 0.9987\n"
          ]
        }
      ],
      "source": [
        "loss, accuracy_ann = ann_model.evaluate(X_test_dense, y_test)\n",
        "print(f\"Akurasi ANN: {accuracy_ann:.4f}\")"
      ]
    },
    {
      "cell_type": "code",
      "execution_count": 92,
      "metadata": {},
      "outputs": [
        {
          "name": "stdout",
          "output_type": "stream",
          "text": [
            "\u001b[1m24/24\u001b[0m \u001b[32m━━━━━━━━━━━━━━━━━━━━\u001b[0m\u001b[37m\u001b[0m \u001b[1m0s\u001b[0m 5ms/step\n"
          ]
        }
      ],
      "source": [
        "y_pred_ann = (ann_model.predict(X_test_dense) > 0.5).astype(int)"
      ]
    },
    {
      "cell_type": "code",
      "execution_count": 93,
      "metadata": {},
      "outputs": [
        {
          "name": "stdout",
          "output_type": "stream",
          "text": [
            "\n",
            "Classification Report ANN:\n",
            "              precision    recall  f1-score   support\n",
            "\n",
            "        FAKE       1.00      1.00      1.00       376\n",
            "        REAL       1.00      1.00      1.00       370\n",
            "\n",
            "    accuracy                           1.00       746\n",
            "   macro avg       1.00      1.00      1.00       746\n",
            "weighted avg       1.00      1.00      1.00       746\n",
            "\n"
          ]
        }
      ],
      "source": [
        "print(\"\\nClassification Report ANN:\")\n",
        "print(classification_report(y_test, y_pred_ann, target_names=label_encoder.classes_))"
      ]
    },
    {
      "cell_type": "code",
      "execution_count": 94,
      "metadata": {},
      "outputs": [
        {
          "name": "stdout",
          "output_type": "stream",
          "text": [
            "\n",
            "Confusion Matrix ANN:\n",
            "[[375   1]\n",
            " [  0 370]]\n"
          ]
        }
      ],
      "source": [
        "print(\"\\nConfusion Matrix ANN:\")\n",
        "print(confusion_matrix(y_test, y_pred_ann))"
      ]
    },
    {
      "cell_type": "code",
      "execution_count": 95,
      "metadata": {},
      "outputs": [
        {
          "data": {
            "image/png": "[encoded data removed]",
            "text/plain": [
              "<Figure size 800x600 with 1 Axes>"
            ]
          },
          "metadata": {},
          "output_type": "display_data"
        }
      ],
      "source": [
        "cm = confusion_matrix(y_test, y_pred_ann)\n",
        "\n",
        "plt.figure(figsize=(8, 6))\n",
        "sns.heatmap(cm, annot=True, fmt='d', cmap='Blues', cbar=False, \n",
        "            xticklabels=['Class 0', 'Class 1'], \n",
        "            yticklabels=['Class 0', 'Class 1'])\n",
        "plt.title('Confusion Matrix - ANN')\n",
        "plt.xlabel('Predicted')\n",
        "plt.ylabel('Actual')\n",
        "plt.show()"
      ]
    },
    {
      "cell_type": "markdown",
      "metadata": {
        "id": "H1FvND8_QEhL"
      },
      "source": [
        "# 7. Perbandingan Akurasi"
      ]
    },
    {
      "cell_type": "code",
      "execution_count": null,
      "metadata": {
        "colab": {
          "base_uri": "https://localhost:8080/"
        },
        "id": "36CNf1OpPKne",
        "outputId": "dc3659dd-337e-4e2f-e9d5-081dbcc549e4"
      },
      "outputs": [
        {
          "name": "stdout",
          "output_type": "stream",
          "text": [
            "\n",
            "Perbandingan Akurasi:\n",
            "Akurasi Naive Bayes: 0.9504\n",
            "Akurasi ANN: 0.9987\n",
            "Perbedaan Akurasi (ANN - Naive Bayes): 0.0483\n"
          ]
        }
      ],
      "source": [
        "print(\"\\nPerbandingan Akurasi:\")\n",
        "print(f\"Akurasi Naive Bayes: {accuracy_nb:.4f}\")\n",
        "print(f\"Akurasi ANN: {accuracy_ann:.4f}\")\n",
        "print(f\"Perbedaan Akurasi (ANN - Naive Bayes): {(accuracy_ann - accuracy_nb):.4f}\")"
      ]
    },
    {
      "cell_type": "code",
      "execution_count": 97,
      "metadata": {},
      "outputs": [
        {
          "name": "stdout",
          "output_type": "stream",
          "text": [
            "Model terbaik berdasarkan akurasi: ANN\n"
          ]
        }
      ],
      "source": [
        "best_model = \"Naive Bayes\" if accuracy_nb > accuracy_ann else \"ANN\"\n",
        "print(f\"Model terbaik berdasarkan akurasi: {best_model}\")"
      ]
    },
    {
      "cell_type": "code",
      "execution_count": 98,
      "metadata": {},
      "outputs": [],
      "source": [
        "table_data = [\n",
        "    [\"Naive Bayes\", f\"{accuracy_nb:.4f}\", f\"{(accuracy_ann - accuracy_nb):.4f}\", best_model if accuracy_nb > accuracy_ann else \"\"],\n",
        "    [\"ANN\", f\"{accuracy_ann:.4f}\", \"\", best_model if accuracy_ann >= accuracy_nb else \"\"]\n",
        "]\n",
        "\n",
        "headers = [\"Model\", \"Akurasi\", \"Perbedaan Akurasi (ANN - Naive Bayes)\", \"Model Terbaik\"]"
      ]
    },
    {
      "cell_type": "code",
      "execution_count": 99,
      "metadata": {},
      "outputs": [
        {
          "name": "stdout",
          "output_type": "stream",
          "text": [
            "\n",
            "Tabel Perbandingan Akurasi:\n",
            "+-------------+-----------+-----------------------------------------+-----------------+\n",
            "| Model       |   Akurasi | Perbedaan Akurasi (ANN - Naive Bayes)   | Model Terbaik   |\n",
            "+=============+===========+=========================================+=================+\n",
            "| Naive Bayes |    0.9504 | 0.0483                                  |                 |\n",
            "+-------------+-----------+-----------------------------------------+-----------------+\n",
            "| ANN         |    0.9987 |                                         | ANN             |\n",
            "+-------------+-----------+-----------------------------------------+-----------------+\n"
          ]
        }
      ],
      "source": [
        "print(\"\\nTabel Perbandingan Akurasi:\")\n",
        "print(tabulate(table_data, headers=headers, tablefmt=\"grid\"))"
      ]
    },
    {
      "cell_type": "markdown",
      "metadata": {},
      "source": [
        "# 8. Cek Fitting"
      ]
    },
    {
      "cell_type": "markdown",
      "metadata": {},
      "source": [
        "## Cek Fitting Naive Bayes"
      ]
    },
    {
      "cell_type": "code",
      "execution_count": 103,
      "metadata": {},
      "outputs": [
        {
          "name": "stdout",
          "output_type": "stream",
          "text": [
            "\n",
            "Naive Bayes - Akurasi Pelatihan: 0.9490\n",
            "Naive Bayes - Akurasi Pengujian: 0.9504\n"
          ]
        }
      ],
      "source": [
        "train_pred_nb = nb_model.predict(X_train_tfidf)\n",
        "train_accuracy_nb = accuracy_score(y_train, train_pred_nb)\n",
        "print(f\"\\nNaive Bayes - Akurasi Pelatihan: {train_accuracy_nb:.4f}\")\n",
        "print(f\"Naive Bayes - Akurasi Pengujian: {accuracy_nb:.4f}\")"
      ]
    },
    {
      "cell_type": "code",
      "execution_count": 104,
      "metadata": {},
      "outputs": [
        {
          "name": "stdout",
          "output_type": "stream",
          "text": [
            "Status Naive Bayes: Normal\n"
          ]
        }
      ],
      "source": [
        "if train_accuracy_nb > accuracy_nb + 0.1:  \n",
        "    nb_status = \"Overfitting\"\n",
        "elif train_accuracy_nb < 0.7 and accuracy_nb < 0.7: \n",
        "    nb_status = \"Underfitting\"\n",
        "else:\n",
        "    nb_status = \"Normal\"\n",
        "\n",
        "print(f\"Status Naive Bayes: {nb_status}\")"
      ]
    },
    {
      "cell_type": "markdown",
      "metadata": {},
      "source": [
        "## Cek Fitting ANN"
      ]
    },
    {
      "cell_type": "code",
      "execution_count": 105,
      "metadata": {},
      "outputs": [
        {
          "name": "stdout",
          "output_type": "stream",
          "text": [
            "\n",
            "ANN - Akurasi Pelatihan: 0.9993\n",
            "ANN - Akurasi Pengujian: 0.9987\n"
          ]
        }
      ],
      "source": [
        "train_loss, train_accuracy_ann = ann_model.evaluate(X_train_dense, y_train, verbose=0)\n",
        "print(f\"\\nANN - Akurasi Pelatihan: {train_accuracy_ann:.4f}\")\n",
        "print(f\"ANN - Akurasi Pengujian: {accuracy_ann:.4f}\")"
      ]
    },
    {
      "cell_type": "code",
      "execution_count": null,
      "metadata": {},
      "outputs": [],
      "source": [
        "val_loss = history.history['val_loss']\n",
        "train_loss_history = history.history['loss']\n",
        "val_acc = history.history['val_accuracy']\n",
        "train_acc = history.history['accuracy']"
      ]
    },
    {
      "cell_type": "code",
      "execution_count": 107,
      "metadata": {},
      "outputs": [
        {
          "data": {
            "image/png": "[encoded data removed]",
            "text/plain": [
              "<Figure size 1200x400 with 2 Axes>"
            ]
          },
          "metadata": {},
          "output_type": "display_data"
        }
      ],
      "source": [
        "plt.figure(figsize=(12, 4))\n",
        "\n",
        "plt.subplot(1, 2, 1)\n",
        "plt.plot(train_loss_history, label='Training Loss')\n",
        "plt.plot(val_loss, label='Validation Loss')\n",
        "plt.title('ANN Training and Validation Loss')\n",
        "plt.xlabel('Epoch')\n",
        "plt.ylabel('Loss')\n",
        "plt.legend()\n",
        "plt.grid(True)\n",
        "\n",
        "plt.subplot(1, 2, 2)\n",
        "plt.plot(train_acc, label='Training Accuracy')\n",
        "plt.plot(val_acc, label='Validation Accuracy')\n",
        "plt.title('ANN Training and Validation Accuracy')\n",
        "plt.xlabel('Epoch')\n",
        "plt.ylabel('Accuracy')\n",
        "plt.legend()\n",
        "plt.grid(True)\n",
        "\n",
        "plt.tight_layout()\n",
        "plt.savefig('ann_training_history.png')\n",
        "plt.show()\n",
        "plt.close()"
      ]
    },
    {
      "cell_type": "code",
      "execution_count": 108,
      "metadata": {},
      "outputs": [
        {
          "name": "stdout",
          "output_type": "stream",
          "text": [
            "Status ANN: Normal\n"
          ]
        }
      ],
      "source": [
        "if train_accuracy_ann > accuracy_ann + 0.1 and val_loss[-1] > val_loss[0]: \n",
        "    ann_status = \"Overfitting\"\n",
        "elif train_accuracy_ann < 0.7 and accuracy_ann < 0.7: \n",
        "    ann_status = \"Underfitting\"\n",
        "else:\n",
        "    ann_status = \"Normal\"\n",
        "\n",
        "print(f\"Status ANN: {ann_status}\")"
      ]
    },
    {
      "cell_type": "markdown",
      "metadata": {},
      "source": [
        "## Table Fitting Naive Bayes & ANN"
      ]
    },
    {
      "cell_type": "code",
      "execution_count": 112,
      "metadata": {},
      "outputs": [],
      "source": [
        "fitting_table = [\n",
        "    [\"Naive Bayes\", f\"{train_accuracy_nb:.4f}\", f\"{accuracy_nb:.4f}\", nb_status],\n",
        "    [\"ANN\", f\"{train_accuracy_ann:.4f}\", f\"{accuracy_ann:.4f}\", ann_status]\n",
        "]\n",
        "\n",
        "fitting_headers = [\"Model\", \"Akurasi Pelatihan\", \"Akurasi Pengujian\", \"Status\"]"
      ]
    },
    {
      "cell_type": "code",
      "execution_count": 113,
      "metadata": {},
      "outputs": [
        {
          "name": "stdout",
          "output_type": "stream",
          "text": [
            "\n",
            "Tabel Status Fitting:\n",
            "+-------------+---------------------+---------------------+----------+\n",
            "| Model       |   Akurasi Pelatihan |   Akurasi Pengujian | Status   |\n",
            "+=============+=====================+=====================+==========+\n",
            "| Naive Bayes |              0.949  |              0.9504 | Normal   |\n",
            "+-------------+---------------------+---------------------+----------+\n",
            "| ANN         |              0.9993 |              0.9987 | Normal   |\n",
            "+-------------+---------------------+---------------------+----------+\n"
          ]
        }
      ],
      "source": [
        "print(\"\\nTabel Status Fitting:\")\n",
        "print(tabulate(fitting_table, headers=fitting_headers, tablefmt=\"grid\"))"
      ]
    },
    {
      "cell_type": "markdown",
      "metadata": {
        "id": "XSsFwLYWQGfH"
      },
      "source": [
        "# 9. Contoh Prediksi"
      ]
    },
    {
      "cell_type": "code",
      "execution_count": 114,
      "metadata": {
        "colab": {
          "base_uri": "https://localhost:8080/"
        },
        "id": "1eIXTKKZN1rw",
        "outputId": "c0590767-6365-40da-986a-76140f579b65"
      },
      "outputs": [],
      "source": [
        "sample_text = \"A viral video claims that the government is hiding the truth about a new disease outbreak in the capital.\""
      ]
    },
    {
      "cell_type": "code",
      "execution_count": 115,
      "metadata": {},
      "outputs": [],
      "source": [
        "cleaned_sample = clean_text(sample_text)"
      ]
    },
    {
      "cell_type": "code",
      "execution_count": 116,
      "metadata": {},
      "outputs": [],
      "source": [
        "sample_tfidf = tfidf.transform([cleaned_sample])\n",
        "sample_tfidf_dense = sample_tfidf.toarray()"
      ]
    },
    {
      "cell_type": "code",
      "execution_count": 117,
      "metadata": {},
      "outputs": [],
      "source": [
        "prediction_nb = nb_model.predict(sample_tfidf)\n",
        "predicted_label_nb = label_encoder.inverse_transform(prediction_nb)[0]"
      ]
    },
    {
      "cell_type": "code",
      "execution_count": 118,
      "metadata": {},
      "outputs": [
        {
          "name": "stdout",
          "output_type": "stream",
          "text": [
            "\u001b[1m1/1\u001b[0m \u001b[32m━━━━━━━━━━━━━━━━━━━━\u001b[0m\u001b[37m\u001b[0m \u001b[1m0s\u001b[0m 40ms/step\n"
          ]
        }
      ],
      "source": [
        "prediction_ann = (ann_model.predict(sample_tfidf_dense) > 0.5).astype(int)\n",
        "predicted_label_ann = label_encoder.inverse_transform(prediction_ann.flatten())[0]"
      ]
    },
    {
      "cell_type": "code",
      "execution_count": 119,
      "metadata": {},
      "outputs": [
        {
          "name": "stdout",
          "output_type": "stream",
          "text": [
            "\n",
            "Contoh Prediksi:\n",
            "Teks: A viral video claims that the government is hiding the truth about a new disease outbreak in the capital.\n",
            "Prediksi Naive Bayes: FAKE\n",
            "Prediksi ANN: FAKE\n"
          ]
        }
      ],
      "source": [
        "print(\"\\nContoh Prediksi:\")\n",
        "print(f\"Teks: {sample_text}\")\n",
        "print(f\"Prediksi Naive Bayes: {predicted_label_nb}\")\n",
        "print(f\"Prediksi ANN: {predicted_label_ann}\")"
      ]
    }
  ],
  "metadata": {
    "colab": {
      "authorship_tag": "ABX9TyOPUdD4gWzo3sFbFgij3B9I",
      "include_colab_link": true,
      "provenance": []
    },
    "kernelspec": {
      "display_name": "Python 3",
      "name": "python3"
    },
    "language_info": {
      "codemirror_mode": {
        "name": "ipython",
        "version": 3
      },
      "file_extension": ".py",
      "mimetype": "text/x-python",
      "name": "python",
      "nbconvert_exporter": "python",
      "pygments_lexer": "ipython3",
      "version": "3.11.0"
    }
  },
  "nbformat": 4,
  "nbformat_minor": 0
}
