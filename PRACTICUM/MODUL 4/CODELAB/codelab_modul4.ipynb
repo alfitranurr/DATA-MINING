{
 "cells": [
  {
   "cell_type": "markdown",
   "id": "4e1f4602",
   "metadata": {},
   "source": [
    "## 1. Preprocessing Data"
   ]
  },
  {
   "cell_type": "code",
   "execution_count": 6,
   "id": "faec40b4",
   "metadata": {},
   "outputs": [
    {
     "name": "stdout",
     "output_type": "stream",
     "text": [
      "Informasi Data:\n",
      "<class 'pandas.core.frame.DataFrame'>\n",
      "RangeIndex: 1000 entries, 0 to 999\n",
      "Data columns (total 7 columns):\n",
      " #   Column                           Non-Null Count  Dtype  \n",
      "---  ------                           --------------  -----  \n",
      " 0   State                            1000 non-null   object \n",
      " 1   Region                           1000 non-null   object \n",
      " 2   iPhone Sales (in million units)  1000 non-null   float64\n",
      " 3   iPad Sales (in million units)    1000 non-null   float64\n",
      " 4   Mac Sales (in million units)     1000 non-null   float64\n",
      " 5   Wearables (in million units)     1000 non-null   float64\n",
      " 6   Services Revenue (in billion $)  1000 non-null   float64\n",
      "dtypes: float64(5), object(2)\n",
      "memory usage: 54.8+ KB\n",
      "None\n",
      "\n",
      "Statistik Deskriptif:\n",
      "       iPhone Sales (in million units)  iPad Sales (in million units)  \\\n",
      "count                      1000.000000                    1000.000000   \n",
      "mean                         17.444500                       8.565880   \n",
      "std                           7.180077                       3.735994   \n",
      "min                           5.030000                       2.020000   \n",
      "25%                          11.447500                       5.432500   \n",
      "50%                          17.130000                       8.695000   \n",
      "75%                          23.715000                      11.740000   \n",
      "max                          29.940000                      14.990000   \n",
      "\n",
      "       Mac Sales (in million units)  Wearables (in million units)  \\\n",
      "count                   1000.000000                   1000.000000   \n",
      "mean                       5.555760                      6.935500   \n",
      "std                        2.506491                      2.951677   \n",
      "min                        1.010000                      2.000000   \n",
      "25%                        3.470000                      4.330000   \n",
      "50%                        5.550000                      6.815000   \n",
      "75%                        7.730000                      9.532500   \n",
      "max                        9.990000                     12.000000   \n",
      "\n",
      "       Services Revenue (in billion $)  \n",
      "count                      1000.000000  \n",
      "mean                         12.447130  \n",
      "std                           4.306347  \n",
      "min                           5.010000  \n",
      "25%                           8.710000  \n",
      "50%                          12.205000  \n",
      "75%                          16.252500  \n",
      "max                          19.920000  \n",
      "\n",
      "Nilai yang hilang:\n",
      "State                              0\n",
      "Region                             0\n",
      "iPhone Sales (in million units)    0\n",
      "iPad Sales (in million units)      0\n",
      "Mac Sales (in million units)       0\n",
      "Wearables (in million units)       0\n",
      "Services Revenue (in billion $)    0\n",
      "dtype: int64\n"
     ]
    }
   ],
   "source": [
    "import pandas as pd\n",
    "import numpy as np\n",
    "from sklearn.model_selection import train_test_split\n",
    "from sklearn.preprocessing import LabelEncoder, StandardScaler\n",
    "from sklearn.ensemble import RandomForestClassifier\n",
    "from sklearn.metrics import classification_report, confusion_matrix, accuracy_score\n",
    "\n",
    "data = pd.read_csv('Latihan_modul4.csv')\n",
    "\n",
    "print(\"Informasi Data:\")\n",
    "print(data.info())\n",
    "print(\"\\nStatistik Deskriptif:\")\n",
    "print(data.describe())\n",
    "\n",
    "print(\"\\nNilai yang hilang:\")\n",
    "print(data.isnull().sum())\n",
    "\n",
    "le_state = LabelEncoder()\n",
    "le_region = LabelEncoder()\n",
    "data['State'] = le_state.fit_transform(data['State'])\n",
    "data['Region'] = le_region.fit_transform(data['Region'])"
   ]
  },
  {
   "cell_type": "code",
   "execution_count": 7,
   "id": "a56584b4",
   "metadata": {},
   "outputs": [],
   "source": [
    "features = data[['State', 'Region', 'iPhone Sales (in million units)', \n",
    "                 'iPad Sales (in million units)', 'Mac Sales (in million units)', \n",
    "                 'Wearables (in million units)', 'Services Revenue (in billion $)']]"
   ]
  },
  {
   "cell_type": "markdown",
   "id": "d8a9573c",
   "metadata": {},
   "source": [
    "## 2. Penentuan Target Kelas"
   ]
  },
  {
   "cell_type": "code",
   "execution_count": 8,
   "id": "776c5a37",
   "metadata": {},
   "outputs": [],
   "source": [
    "median_revenue = data['Services Revenue (in billion $)'].median()\n",
    "data['Revenue_Class'] = np.where(data['Services Revenue (in billion $)'] >= median_revenue, 1, 0)\n",
    "\n",
    "X = features\n",
    "y = data['Revenue_Class']\n",
    "\n",
    "scaler = StandardScaler()\n",
    "X[['iPhone Sales (in million units)', 'iPad Sales (in million units)', \n",
    "   'Mac Sales (in million units)', 'Wearables (in million units)', \n",
    "   'Services Revenue (in billion $)']] = scaler.fit_transform(\n",
    "    X[['iPhone Sales (in million units)', 'iPad Sales (in million units)', \n",
    "       'Mac Sales (in million units)', 'Wearables (in million units)', \n",
    "       'Services Revenue (in billion $)']]\n",
    ")"
   ]
  },
  {
   "cell_type": "markdown",
   "id": "23b92b31",
   "metadata": {},
   "source": [
    "## 3. Penerapan Algoritma Klasifikasi"
   ]
  },
  {
   "cell_type": "code",
   "execution_count": 9,
   "id": "33482180",
   "metadata": {},
   "outputs": [],
   "source": [
    "X_train, X_test, y_train, y_test = train_test_split(X, y, test_size=0.2, random_state=42)\n",
    "\n",
    "rf_model = RandomForestClassifier(n_estimators=100, random_state=42)\n",
    "rf_model.fit(X_train, y_train)\n",
    "\n",
    "y_pred = rf_model.predict(X_test)"
   ]
  },
  {
   "cell_type": "markdown",
   "id": "10e88dd9",
   "metadata": {},
   "source": [
    "## 4. Evaluasi Hasil Klasifikasi"
   ]
  },
  {
   "cell_type": "code",
   "execution_count": 10,
   "id": "b3bab814",
   "metadata": {},
   "outputs": [
    {
     "name": "stdout",
     "output_type": "stream",
     "text": [
      "\n",
      "Akurasi:\n",
      "0.995\n",
      "\n",
      "Matriks Kebingungan:\n",
      "[[ 97   1]\n",
      " [  0 102]]\n",
      "\n",
      "Laporan Klasifikasi:\n",
      "              precision    recall  f1-score   support\n",
      "\n",
      " Low Revenue       1.00      0.99      0.99        98\n",
      "High Revenue       0.99      1.00      1.00       102\n",
      "\n",
      "    accuracy                           0.99       200\n",
      "   macro avg       1.00      0.99      0.99       200\n",
      "weighted avg       1.00      0.99      0.99       200\n",
      "\n"
     ]
    }
   ],
   "source": [
    "print(\"\\nAkurasi:\")\n",
    "print(accuracy_score(y_test, y_pred))\n",
    "\n",
    "print(\"\\nMatriks Kebingungan:\")\n",
    "print(confusion_matrix(y_test, y_pred))\n",
    "\n",
    "print(\"\\nLaporan Klasifikasi:\")\n",
    "print(classification_report(y_test, y_pred, target_names=['Low Revenue', 'High Revenue']))"
   ]
  },
  {
   "cell_type": "code",
   "execution_count": null,
   "id": "b5514bb1",
   "metadata": {},
   "outputs": [],
   "source": []
  }
 ],
 "metadata": {
  "kernelspec": {
   "display_name": "Python 3",
   "language": "python",
   "name": "python3"
  },
  "language_info": {
   "codemirror_mode": {
    "name": "ipython",
    "version": 3
   },
   "file_extension": ".py",
   "mimetype": "text/x-python",
   "name": "python",
   "nbconvert_exporter": "python",
   "pygments_lexer": "ipython3",
   "version": "3.13.2"
  }
 },
 "nbformat": 4,
 "nbformat_minor": 5
}
