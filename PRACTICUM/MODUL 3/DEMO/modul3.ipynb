{
 "cells": [
  {
   "cell_type": "markdown",
   "metadata": {},
   "source": [
    "# Modul 3 - Demo"
   ]
  },
  {
   "cell_type": "markdown",
   "metadata": {},
   "source": [
    "### Dataset : https://drive.google.com/file/d/1x2Xpa5T-ifi1xn-MtKA8HOV7E9Rk0NlJ/view?pli=1"
   ]
  },
  {
   "cell_type": "markdown",
   "metadata": {},
   "source": [
    "Gunakan dataset di atas untuk melakukan serangkaian proses di bawah:\n",
    "\n",
    "1. Handling Categorical Values:\n",
    "- Identifikasi kolom-kolom kategorikal dalam dataset.\n",
    "- Terapkan metode handling categorical value yang cocok pada 3 kolom yang ada dalam dataset (tidak boleh ketiganya metode yang sama, bisa proporsi 2 dan 1).\n",
    "- Lakukan Binning pada kolom age dengan membaginya ke dalam 4 kelompok: \"Muda\", \"Dewasa\", \"Paruh Baya\", dan \"Lanjut Usia\".\n",
    "\n",
    "2. Data Normalization:\n",
    "- Gunakan Min-Max Scaling pada kolom balance.\n",
    "- Gunakan Z-Score Scaling pada kolom duration.\n",
    "- Gunakan Decimal Scaling pada kolom campaign.\n",
    "\n",
    "3. Dimensionality Reduction:\n",
    "- Lakukan Feature Selection dengan memilih hanya fitur yang memiliki korelasi tinggi terhadap variabel target (y). Gunakan korelasi Pearson atau metode seleksi fitur lain yang sesuai.\n",
    "- Lakukan Feature Extraction menggunakan PCA (Principal Component Analysis) untuk mereduksi dimensi dataset menjadi hanya 5 fitur utama.\n",
    "\n",
    "4. Data Splitting:\n",
    "- Bagi dataset menjadi Train (70%), Validation (15%), dan Test (15%).\n",
    "- Pastikan bahwa distribusi kelas dalam variabel target (y) tetap seimbang dalam proses pembagian data."
   ]
  },
  {
   "cell_type": "markdown",
   "metadata": {},
   "source": [
    "### Persiapan Awal"
   ]
  },
  {
   "cell_type": "code",
   "execution_count": 1,
   "metadata": {},
   "outputs": [],
   "source": [
    "import pandas as pd\n",
    "import numpy as np\n",
    "from sklearn.preprocessing import MinMaxScaler, StandardScaler, LabelEncoder\n",
    "from sklearn.decomposition import PCA\n",
    "from sklearn.model_selection import train_test_split\n",
    "\n",
    "# Membaca dataset\n",
    "df = pd.read_csv('tugas3_genap.csv')\n",
    "\n",
    "# Mengganti 'deposit' menjadi 'y' sebagai variabel target\n",
    "df = df.rename(columns={'deposit': 'y'})"
   ]
  },
  {
   "cell_type": "markdown",
   "metadata": {},
   "source": [
    "### 1. Handling Categorical Values"
   ]
  },
  {
   "cell_type": "code",
   "execution_count": 2,
   "metadata": {},
   "outputs": [
    {
     "name": "stdout",
     "output_type": "stream",
     "text": [
      "Kolom kategorikal: Index(['job', 'marital', 'education', 'default', 'housing', 'loan', 'contact',\n",
      "       'month', 'poutcome', 'y'],\n",
      "      dtype='object')\n",
      "DataFrame setelah handling categorical values:\n",
      "   age  marital  education default  balance housing loan  contact  day month  \\\n",
      "0   59        1   0.490593      no     2343     yes   no  unknown    5   may   \n",
      "1   56        1   0.490593      no       45      no   no  unknown    5   may   \n",
      "2   41        1   0.490593      no     1270     yes   no  unknown    5   may   \n",
      "3   55        1   0.490593      no     2476     yes   no  unknown    5   may   \n",
      "4   54        1   0.330496      no      184      no   no  unknown    5   may   \n",
      "\n",
      "   ...  job_housemaid  job_management  job_retired  job_self-employed  \\\n",
      "0  ...          False           False        False              False   \n",
      "1  ...          False           False        False              False   \n",
      "2  ...          False           False        False              False   \n",
      "3  ...          False           False        False              False   \n",
      "4  ...          False           False        False              False   \n",
      "\n",
      "  job_services job_student  job_technician  job_unemployed  job_unknown  \\\n",
      "0        False       False           False           False        False   \n",
      "1        False       False           False           False        False   \n",
      "2        False       False            True           False        False   \n",
      "3         True       False           False           False        False   \n",
      "4        False       False           False           False        False   \n",
      "\n",
      "    age_group  \n",
      "0  Paruh Baya  \n",
      "1  Paruh Baya  \n",
      "2  Paruh Baya  \n",
      "3  Paruh Baya  \n",
      "4  Paruh Baya  \n",
      "\n",
      "[5 rows x 29 columns]\n"
     ]
    }
   ],
   "source": [
    "# Bagian 1: Handling Categorical Values\n",
    "\n",
    "# Identifikasi kolom kategorikal\n",
    "categorical_cols = df.select_dtypes(include=['object']).columns\n",
    "print(\"Kolom kategorikal:\", categorical_cols)\n",
    "\n",
    "# Buat salinan DataFrame\n",
    "df_categorical = df.copy()\n",
    "\n",
    "# 1. One-Hot Encoding untuk kolom 'job'\n",
    "df_categorical = pd.get_dummies(df_categorical, columns=['job'], prefix='job')\n",
    "\n",
    "# 2. Label Encoding untuk kolom 'marital'\n",
    "le = LabelEncoder()\n",
    "df_categorical['marital'] = le.fit_transform(df_categorical['marital'])\n",
    "\n",
    "# 3. Frequency Encoding untuk kolom 'education'\n",
    "education_freq = df_categorical['education'].value_counts(normalize=True)\n",
    "df_categorical['education'] = df_categorical['education'].map(education_freq)\n",
    "\n",
    "# Binning kolom 'age' menjadi 4 kelompok\n",
    "bins = [0, 25, 40, 60, np.inf]\n",
    "labels = ['Muda', 'Dewasa', 'Paruh Baya', 'Lanjut Usia']\n",
    "df_categorical['age_group'] = pd.cut(df_categorical['age'], bins=bins, labels=labels, include_lowest=True)\n",
    "\n",
    "# Tampilkan DataFrame hasil\n",
    "print(\"DataFrame setelah handling categorical values:\")\n",
    "print(df_categorical.head())\n",
    "\n",
    "# Simpan hasil ke DataFrame\n",
    "df_output_1 = df_categorical"
   ]
  },
  {
   "cell_type": "markdown",
   "metadata": {},
   "source": [
    "### 2. Data Normalization"
   ]
  },
  {
   "cell_type": "code",
   "execution_count": 3,
   "metadata": {},
   "outputs": [
    {
     "name": "stdout",
     "output_type": "stream",
     "text": [
      "DataFrame setelah normalisasi:\n",
      "   balance  balance_scaled  duration  duration_scaled  campaign  \\\n",
      "0     2343        0.104371      1042         1.930226         1   \n",
      "1       45        0.078273      1467         3.154612         1   \n",
      "2     1270        0.092185      1389         2.929901         1   \n",
      "3     2476        0.105882       579         0.596366         1   \n",
      "4      184        0.079851       673         0.867171         2   \n",
      "\n",
      "   campaign_scaled  \n",
      "0             0.01  \n",
      "1             0.01  \n",
      "2             0.01  \n",
      "3             0.01  \n",
      "4             0.02  \n"
     ]
    }
   ],
   "source": [
    "# Bagian 2: Data Normalization\n",
    "\n",
    "# Gunakan hasil dari bagian 1\n",
    "df_normalization = df_output_1.copy()\n",
    "\n",
    "# 1. Min-Max Scaling pada kolom 'balance'\n",
    "minmax_scaler = MinMaxScaler()\n",
    "df_normalization['balance_scaled'] = minmax_scaler.fit_transform(df_normalization[['balance']])\n",
    "\n",
    "# 2. Z-Score Scaling pada kolom 'duration'\n",
    "zscore_scaler = StandardScaler()\n",
    "df_normalization['duration_scaled'] = zscore_scaler.fit_transform(df_normalization[['duration']])\n",
    "\n",
    "# 3. Decimal Scaling pada kolom 'campaign'\n",
    "j = len(str(df_normalization['campaign'].abs().max()))\n",
    "df_normalization['campaign_scaled'] = df_normalization['campaign'] / (10 ** j)\n",
    "\n",
    "# Tampilkan DataFrame hasil\n",
    "print(\"DataFrame setelah normalisasi:\")\n",
    "print(df_normalization[['balance', 'balance_scaled', 'duration', 'duration_scaled', 'campaign', 'campaign_scaled']].head())\n",
    "\n",
    "# Simpan hasil ke DataFrame\n",
    "df_output_2 = df_normalization"
   ]
  },
  {
   "cell_type": "markdown",
   "metadata": {},
   "source": [
    "### 3. Dimensionality Reduction"
   ]
  },
  {
   "cell_type": "code",
   "execution_count": 9,
   "metadata": {},
   "outputs": [
    {
     "name": "stdout",
     "output_type": "stream",
     "text": [
      "Fitur yang dipilih berdasarkan korelasi: Index(['duration', 'campaign', 'pdays', 'previous', 'duration_scaled',\n",
      "       'campaign_scaled'],\n",
      "      dtype='object')\n",
      "DataFrame setelah PCA:\n",
      "           PC1          PC2        PC3        PC4        PC5  y\n",
      "0   816.071910   668.500089 -46.292536  17.517682 -10.663397  1\n",
      "1 -1480.883660  1099.081240 -40.785722  15.505014 -10.374289  1\n",
      "2  -256.084399  1018.100653 -42.288583  -0.004865 -10.498372  1\n",
      "3   947.938769   205.197412 -50.843613  13.427466 -10.921609  1\n",
      "4 -1343.824594   304.778559 -48.538139  13.385242 -10.753779  1\n"
     ]
    }
   ],
   "source": [
    "# Bagian 3: Dimensionality Reduction\n",
    "\n",
    "# Gunakan hasil dari bagian 2\n",
    "df_reduction = df_output_2.copy()\n",
    "\n",
    "# Ubah variabel target 'y' menjadi numerik\n",
    "df_reduction['y'] = df_reduction['y'].map({'yes': 1, 'no': 0})\n",
    "\n",
    "# Pisahkan fitur numerik untuk analisis\n",
    "numeric_cols = df_reduction.select_dtypes(include=[np.number]).columns\n",
    "X = df_reduction[numeric_cols].drop(columns=['y'])\n",
    "y = df_reduction['y']\n",
    "\n",
    "# 1. Feature Selection berdasarkan korelasi Pearson\n",
    "correlation = X.corrwith(y).abs()\n",
    "selected_features = correlation[correlation > 0.1].index  # Ambang batas korelasi 0.1\n",
    "X_selected = X[selected_features]\n",
    "\n",
    "print(\"Fitur yang dipilih berdasarkan korelasi:\", selected_features)\n",
    "\n",
    "# Buat DataFrame dari fitur terpilih\n",
    "df_selected = pd.DataFrame(X_selected, columns=selected_features)\n",
    "df_selected['y'] = y.values\n",
    "\n",
    "# 2. Feature Extraction dengan PCA\n",
    "X_numeric = X.fillna(0)  # Mengisi NaN dengan 0 jika ada\n",
    "pca = PCA(n_components=5)\n",
    "X_pca = pca.fit_transform(X_numeric)\n",
    "\n",
    "# Buat DataFrame dari hasil PCA\n",
    "df_pca = pd.DataFrame(X_pca, columns=['PC1', 'PC2', 'PC3', 'PC4', 'PC5'])\n",
    "df_pca['y'] = y.values\n",
    "\n",
    "# Tampilkan DataFrame hasil PCA\n",
    "print(\"DataFrame setelah PCA:\")\n",
    "print(df_pca.head())\n",
    "\n",
    "# Simpan hasil ke DataFrame\n",
    "df_output_3 = df_pca"
   ]
  },
  {
   "cell_type": "markdown",
   "metadata": {},
   "source": [
    "### 4. Data Splitting"
   ]
  },
  {
   "cell_type": "code",
   "execution_count": 5,
   "metadata": {},
   "outputs": [
    {
     "name": "stdout",
     "output_type": "stream",
     "text": [
      "DataFrame Train:\n",
      "              PC1         PC2         PC3        PC4        PC5  y\n",
      "4451   170.008421 -194.807307   40.748510  -8.288107  -9.535718  1\n",
      "7201  -230.774607  326.066922  -48.975499   0.934200 -12.809956  0\n",
      "445  -1337.878673  693.744831  -44.846934   2.389484  -1.499191  1\n",
      "3022  3784.323357  -99.610985  141.481761  14.171781   1.096521  1\n",
      "5057  1106.561006   32.085032   22.339948   9.308783   5.486690  1\n",
      "DataFrame Validation:\n",
      "              PC1          PC2         PC3        PC4        PC5  y\n",
      "2944  -609.105417  -240.920692   41.713579  -7.993196   0.407535  1\n",
      "413  -1522.954776  1071.182037  -41.068284   8.506993  -6.180076  1\n",
      "6763  -843.241807  -271.427550  -54.549763 -14.953885  13.820093  0\n",
      "5659 -1164.060457  -199.640073  -53.532893   3.241249  -8.055891  0\n",
      "3736  -722.590856  -121.155844  405.890934  -6.998934   5.843752  1\n",
      "DataFrame Test:\n",
      "               PC1          PC2         PC3       PC4        PC5  y\n",
      "2169  -1458.832538  -104.921507  -52.400879 -2.559432 -15.052372  1\n",
      "4056    417.049411  -181.426372   41.657447  7.569698   3.454815  1\n",
      "10697  -675.034845  -188.830715  -53.701736 -1.929018 -10.123934  0\n",
      "1894   -921.152480    81.230390  314.031619 -1.862290  -1.668107  1\n",
      "322   -1306.628726  1205.647046  -39.944697  0.407798   2.711215  1\n",
      "Distribusi kelas di Train: y\n",
      "0    0.526242\n",
      "1    0.473758\n",
      "Name: proportion, dtype: float64\n",
      "Distribusi kelas di Validation: y\n",
      "0    0.52597\n",
      "1    0.47403\n",
      "Name: proportion, dtype: float64\n",
      "Distribusi kelas di Test: y\n",
      "0    0.52597\n",
      "1    0.47403\n",
      "Name: proportion, dtype: float64\n"
     ]
    }
   ],
   "source": [
    "# Bagian 4: Data Splitting\n",
    "\n",
    "# Gunakan hasil dari bagian 3 (PCA)\n",
    "df_splitting = df_output_3.copy()\n",
    "\n",
    "# Pisahkan fitur dan target\n",
    "X_final = df_splitting.drop(columns=['y'])\n",
    "y_final = df_splitting['y']\n",
    "\n",
    "# Split menjadi Train (70%), Validation (15%), Test (15%) dengan stratifikasi\n",
    "X_temp, X_test, y_temp, y_test = train_test_split(X_final, y_final, test_size=0.15, stratify=y_final, random_state=42)\n",
    "X_train, X_val, y_train, y_val = train_test_split(X_temp, y_temp, test_size=0.1765, stratify=y_temp, random_state=42)  # 0.1765 = 15/(100-15)\n",
    "\n",
    "# Buat DataFrame untuk masing-masing subset\n",
    "df_train = pd.DataFrame(X_train, columns=X_final.columns)\n",
    "df_train['y'] = y_train.values\n",
    "\n",
    "df_val = pd.DataFrame(X_val, columns=X_final.columns)\n",
    "df_val['y'] = y_val.values\n",
    "\n",
    "df_test = pd.DataFrame(X_test, columns=X_final.columns)\n",
    "df_test['y'] = y_test.values\n",
    "\n",
    "# Tampilkan DataFrame hasil\n",
    "print(\"DataFrame Train:\")\n",
    "print(df_train.head())\n",
    "print(\"DataFrame Validation:\")\n",
    "print(df_val.head())\n",
    "print(\"DataFrame Test:\")\n",
    "print(df_test.head())\n",
    "\n",
    "# Verifikasi distribusi\n",
    "print(\"Distribusi kelas di Train:\", df_train['y'].value_counts(normalize=True))\n",
    "print(\"Distribusi kelas di Validation:\", df_val['y'].value_counts(normalize=True))\n",
    "print(\"Distribusi kelas di Test:\", df_test['y'].value_counts(normalize=True))\n",
    "\n",
    "# Simpan hasil ke DataFrame\n",
    "df_output_4_train = df_train\n",
    "df_output_4_val = df_val\n",
    "df_output_4_test = df_test"
   ]
  },
  {
   "cell_type": "code",
   "execution_count": 7,
   "metadata": {},
   "outputs": [
    {
     "data": {
      "application/vnd.microsoft.datawrangler.viewer.v0+json": {
       "columns": [
        {
         "name": "index",
         "rawType": "int64",
         "type": "integer"
        },
        {
         "name": "PC1",
         "rawType": "float64",
         "type": "float"
        },
        {
         "name": "PC2",
         "rawType": "float64",
         "type": "float"
        },
        {
         "name": "PC3",
         "rawType": "float64",
         "type": "float"
        },
        {
         "name": "PC4",
         "rawType": "float64",
         "type": "float"
        },
        {
         "name": "PC5",
         "rawType": "float64",
         "type": "float"
        },
        {
         "name": "y",
         "rawType": "int64",
         "type": "integer"
        }
       ],
       "conversionMethod": "pd.DataFrame",
       "ref": "724b469b-9c64-42e9-abe9-e0bd5cce7065",
       "rows": [
        [
         "0",
         "816.0719102770506",
         "668.5000885869301",
         "-46.292535825146295",
         "17.517682323089588",
         "-10.663397121095331",
         "1"
        ],
        [
         "1",
         "-1480.8836596649173",
         "1099.0812401663834",
         "-40.78572160129721",
         "15.505014337785454",
         "-10.374288920844965",
         "1"
        ],
        [
         "2",
         "-256.08439852457286",
         "1018.100653308655",
         "-42.28858315091256",
         "-0.004865106269072328",
         "-10.49837193022838",
         "1"
        ],
        [
         "3",
         "947.9387685738304",
         "205.19741212033108",
         "-50.843612769097646",
         "13.427465547960253",
         "-10.92160898394405",
         "1"
        ],
        [
         "4",
         "-1343.8245943449506",
         "304.7785592895985",
         "-48.538139188582846",
         "13.385242385908946",
         "-10.753778559311272",
         "1"
        ],
        [
         "5",
         "-1528.1001346952678",
         "194.2330238462344",
         "-49.498015671148025",
         "1.432792453291782",
         "-10.84060207837981",
         "1"
        ],
        [
         "6",
         "-696.5359826101923",
         "831.1798566984446",
         "-43.83933245130483",
         "15.15613561909938",
         "-9.540339073656114",
         "1"
        ],
        [
         "7",
         "-981.9511307411078",
         "660.8818756499381",
         "-45.31570474779467",
         "19.28303326867325",
         "-9.608783436631384",
         "1"
        ],
        [
         "8",
         "-1526.9898004991226",
         "240.22875375660436",
         "-49.058645931307815",
         "-3.5412135978764567",
         "-9.878234466427466",
         "1"
        ],
        [
         "9",
         "3563.67307970861",
         "916.7953665156858",
         "-45.523469195538105",
         "-14.6211680834938",
         "-9.617571292174418",
         "1"
        ],
        [
         "10",
         "-1427.554848086941",
         "417.9788479428733",
         "-47.40668681022349",
         "-2.5950473216196244",
         "-8.786791576197192",
         "1"
        ],
        [
         "11",
         "-1216.6338698950412",
         "1205.4338729176523",
         "-39.9310938142511",
         "-10.595176742953544",
         "-8.357510719550234",
         "1"
        ],
        [
         "12",
         "-1326.3530204620465",
         "1320.6961382690204",
         "-38.759037133165535",
         "-11.541827653146271",
         "-8.203747794597055",
         "1"
        ],
        [
         "13",
         "-1066.7807600968642",
         "733.0861284837854",
         "-44.57821444450008",
         "5.277413068121689",
         "-8.563744949389294",
         "1"
        ],
        [
         "14",
         "-824.1761598809691",
         "573.5019524508607",
         "-46.26892178167032",
         "-9.834281426128953",
         "-7.699179647491528",
         "1"
        ],
        [
         "15",
         "2310.159793602772",
         "706.8578350802727",
         "-46.820587131514586",
         "-7.076293618173963",
         "-7.762449205188087",
         "1"
        ],
        [
         "16",
         "-917.1574938992301",
         "171.7440975727264",
         "-50.09583590071221",
         "-8.828365587801493",
         "-7.8572835240198415",
         "1"
        ],
        [
         "17",
         "-1534.7364299620685",
         "751.2254996497159",
         "-44.131494604318014",
         "8.493358881431035",
         "-7.578192644410512",
         "1"
        ],
        [
         "18",
         "-1471.7375214737706",
         "752.0722494640129",
         "-44.163611522612534",
         "0.4686635260199523",
         "-7.556323866337108",
         "1"
        ],
        [
         "19",
         "-1360.2173826835337",
         "144.8242181353159",
         "-50.08911659726196",
         "8.396539036332477",
         "-7.900919622555353",
         "1"
        ],
        [
         "20",
         "-743.4015501466532",
         "72.32519303530677",
         "-51.155926652361835",
         "-12.859813071165835",
         "-7.972264030422998",
         "1"
        ],
        [
         "21",
         "539.3675882128107",
         "383.1857200832663",
         "-48.904092854010266",
         "1.5827782797815644",
         "-7.853648862964251",
         "1"
        ],
        [
         "22",
         "-1136.3755107775128",
         "1718.216424809197",
         "-35.03243962621558",
         "2.429522715775107",
         "-7.055050104622035",
         "1"
        ],
        [
         "23",
         "-1718.7358901467662",
         "752.674033337672",
         "-44.012505321379024",
         "2.571353090761235",
         "-7.542446190322448",
         "1"
        ],
        [
         "24",
         "-1146.0700264349878",
         "616.2842733975874",
         "-45.66618888486199",
         "-3.699537996049173",
         "-7.649412526203708",
         "1"
        ],
        [
         "25",
         "-1487.9687243793937",
         "249.13116125535242",
         "-49.021641679769736",
         "-5.5910369991092495",
         "-6.744916155407081",
         "1"
        ],
        [
         "26",
         "-1506.2976583903485",
         "115.18178716578706",
         "-50.30191430380282",
         "-9.59155785693633",
         "-6.87236415273215",
         "1"
        ],
        [
         "27",
         "-1524.2030972532084",
         "561.2067683041657",
         "-45.983942930819424",
         "2.447352042025443",
         "-6.603798832158601",
         "1"
        ],
        [
         "28",
         "-1221.16420094969",
         "169.48535428461292",
         "-49.94013171255968",
         "-9.680333278197871",
         "-6.9455046720126425",
         "1"
        ],
        [
         "29",
         "-768.7467370581496",
         "340.3762244865795",
         "-48.55607888870125",
         "-12.87708137838326",
         "-6.879148068056239",
         "1"
        ],
        [
         "30",
         "-1528.8818566580314",
         "285.23063200145356",
         "-48.64168855484504",
         "-8.543869955705873",
         "-6.872344879145828",
         "1"
        ],
        [
         "31",
         "-1461.9543893422026",
         "660.0500837497582",
         "-45.0623411685195",
         "19.449795633606477",
         "-6.551258772992641",
         "1"
        ],
        [
         "32",
         "-1445.8821721224747",
         "286.028812096276",
         "-48.68307832385057",
         "-14.600056715230288",
         "-6.892036443538627",
         "1"
        ],
        [
         "33",
         "-1515.3404384122764",
         "1324.1554505582153",
         "-38.620607662219705",
         "-0.4704648716453832",
         "-6.259433786587275",
         "1"
        ],
        [
         "34",
         "-1137.8534059968954",
         "296.27679023600916",
         "-48.76752491527684",
         "-7.681982947199792",
         "-6.829302955968354",
         "1"
        ],
        [
         "35",
         "-1216.6287393616587",
         "388.46387534246816",
         "-47.849102994162",
         "-8.69779151194236",
         "-3.78529726212016",
         "1"
        ],
        [
         "36",
         "-1114.2458717954541",
         "135.22305608686816",
         "-50.36555519312743",
         "-5.741895834413349",
         "-2.820506913867595",
         "1"
        ],
        [
         "37",
         "-1521.188439161332",
         "978.1825007257812",
         "-41.98006969854475",
         "-7.48015007262822",
         "-2.511147874216304",
         "1"
        ],
        [
         "38",
         "-1409.0873271062778",
         "199.93881709767294",
         "-49.56719938445245",
         "-2.615842413090988",
         "-2.7687380600063545",
         "1"
        ],
        [
         "39",
         "-1524.5157699955184",
         "27.228840813343595",
         "-51.162799079724635",
         "-17.59851392983974",
         "-2.99170371996693",
         "1"
        ],
        [
         "40",
         "-264.98990764357654",
         "644.1320731170172",
         "-45.941107514733524",
         "18.941944674541865",
         "-2.648154953647177",
         "1"
        ],
        [
         "41",
         "421.1918401951905",
         "310.4736331861971",
         "-49.56944445255556",
         "6.633082003495268",
         "-2.832553221910686",
         "1"
        ],
        [
         "42",
         "-1923.3221227840856",
         "103.19630535360733",
         "-50.19087813844687",
         "4.614143066638064",
         "-2.9220619852632375",
         "1"
        ],
        [
         "43",
         "-362.0337842647434",
         "630.3700896465389",
         "-46.026760044829025",
         "-5.015650158506347",
         "-2.582115842728385",
         "1"
        ],
        [
         "44",
         "712.5883137341082",
         "471.75706192639205",
         "-48.18053697494034",
         "10.52549901537595",
         "-2.792167863114692",
         "1"
        ],
        [
         "45",
         "-1227.1681702433625",
         "576.4813876463209",
         "-46.03376955702585",
         "-5.634610532233957",
         "-2.678512697228321",
         "1"
        ],
        [
         "46",
         "1759.7211376689586",
         "1345.170807679405",
         "-40.366263329127484",
         "1.1611670635586648",
         "-2.3473727129495128",
         "1"
        ],
        [
         "47",
         "2395.819817550554",
         "564.6500212443921",
         "-48.28400819990219",
         "9.829200080321499",
         "-1.7048615140888597",
         "1"
        ],
        [
         "48",
         "-85.31008017776912",
         "104.71566844110163",
         "-51.261680305368685",
         "11.847504803011276",
         "-1.957220297574196",
         "1"
        ],
        [
         "49",
         "-1503.4378887147484",
         "464.15797985574403",
         "-46.95830966249038",
         "7.465407594792119",
         "-1.7387718636181368",
         "1"
        ]
       ],
       "shape": {
        "columns": 6,
        "rows": 11162
       }
      },
      "text/html": [
       "<div>\n",
       "<style scoped>\n",
       "    .dataframe tbody tr th:only-of-type {\n",
       "        vertical-align: middle;\n",
       "    }\n",
       "\n",
       "    .dataframe tbody tr th {\n",
       "        vertical-align: top;\n",
       "    }\n",
       "\n",
       "    .dataframe thead th {\n",
       "        text-align: right;\n",
       "    }\n",
       "</style>\n",
       "<table border=\"1\" class=\"dataframe\">\n",
       "  <thead>\n",
       "    <tr style=\"text-align: right;\">\n",
       "      <th></th>\n",
       "      <th>PC1</th>\n",
       "      <th>PC2</th>\n",
       "      <th>PC3</th>\n",
       "      <th>PC4</th>\n",
       "      <th>PC5</th>\n",
       "      <th>y</th>\n",
       "    </tr>\n",
       "  </thead>\n",
       "  <tbody>\n",
       "    <tr>\n",
       "      <th>0</th>\n",
       "      <td>816.071910</td>\n",
       "      <td>668.500089</td>\n",
       "      <td>-46.292536</td>\n",
       "      <td>17.517682</td>\n",
       "      <td>-10.663397</td>\n",
       "      <td>1</td>\n",
       "    </tr>\n",
       "    <tr>\n",
       "      <th>1</th>\n",
       "      <td>-1480.883660</td>\n",
       "      <td>1099.081240</td>\n",
       "      <td>-40.785722</td>\n",
       "      <td>15.505014</td>\n",
       "      <td>-10.374289</td>\n",
       "      <td>1</td>\n",
       "    </tr>\n",
       "    <tr>\n",
       "      <th>2</th>\n",
       "      <td>-256.084399</td>\n",
       "      <td>1018.100653</td>\n",
       "      <td>-42.288583</td>\n",
       "      <td>-0.004865</td>\n",
       "      <td>-10.498372</td>\n",
       "      <td>1</td>\n",
       "    </tr>\n",
       "    <tr>\n",
       "      <th>3</th>\n",
       "      <td>947.938769</td>\n",
       "      <td>205.197412</td>\n",
       "      <td>-50.843613</td>\n",
       "      <td>13.427466</td>\n",
       "      <td>-10.921609</td>\n",
       "      <td>1</td>\n",
       "    </tr>\n",
       "    <tr>\n",
       "      <th>4</th>\n",
       "      <td>-1343.824594</td>\n",
       "      <td>304.778559</td>\n",
       "      <td>-48.538139</td>\n",
       "      <td>13.385242</td>\n",
       "      <td>-10.753779</td>\n",
       "      <td>1</td>\n",
       "    </tr>\n",
       "    <tr>\n",
       "      <th>...</th>\n",
       "      <td>...</td>\n",
       "      <td>...</td>\n",
       "      <td>...</td>\n",
       "      <td>...</td>\n",
       "      <td>...</td>\n",
       "      <td>...</td>\n",
       "    </tr>\n",
       "    <tr>\n",
       "      <th>11157</th>\n",
       "      <td>-1527.848526</td>\n",
       "      <td>-110.761190</td>\n",
       "      <td>-52.532257</td>\n",
       "      <td>-7.629737</td>\n",
       "      <td>3.910674</td>\n",
       "      <td>0</td>\n",
       "    </tr>\n",
       "    <tr>\n",
       "      <th>11158</th>\n",
       "      <td>-796.273616</td>\n",
       "      <td>-286.536822</td>\n",
       "      <td>-54.642436</td>\n",
       "      <td>-1.917577</td>\n",
       "      <td>-0.043215</td>\n",
       "      <td>0</td>\n",
       "    </tr>\n",
       "    <tr>\n",
       "      <th>11159</th>\n",
       "      <td>-1500.095802</td>\n",
       "      <td>-211.824609</td>\n",
       "      <td>-53.520939</td>\n",
       "      <td>-8.647919</td>\n",
       "      <td>2.901507</td>\n",
       "      <td>0</td>\n",
       "    </tr>\n",
       "    <tr>\n",
       "      <th>11160</th>\n",
       "      <td>-1529.348799</td>\n",
       "      <td>-360.414800</td>\n",
       "      <td>118.177029</td>\n",
       "      <td>2.397092</td>\n",
       "      <td>-7.077395</td>\n",
       "      <td>0</td>\n",
       "    </tr>\n",
       "    <tr>\n",
       "      <th>11161</th>\n",
       "      <td>-1527.942102</td>\n",
       "      <td>260.229173</td>\n",
       "      <td>-48.883465</td>\n",
       "      <td>-6.546821</td>\n",
       "      <td>-6.879713</td>\n",
       "      <td>0</td>\n",
       "    </tr>\n",
       "  </tbody>\n",
       "</table>\n",
       "<p>11162 rows × 6 columns</p>\n",
       "</div>"
      ],
      "text/plain": [
       "               PC1          PC2         PC3        PC4        PC5  y\n",
       "0       816.071910   668.500089  -46.292536  17.517682 -10.663397  1\n",
       "1     -1480.883660  1099.081240  -40.785722  15.505014 -10.374289  1\n",
       "2      -256.084399  1018.100653  -42.288583  -0.004865 -10.498372  1\n",
       "3       947.938769   205.197412  -50.843613  13.427466 -10.921609  1\n",
       "4     -1343.824594   304.778559  -48.538139  13.385242 -10.753779  1\n",
       "...            ...          ...         ...        ...        ... ..\n",
       "11157 -1527.848526  -110.761190  -52.532257  -7.629737   3.910674  0\n",
       "11158  -796.273616  -286.536822  -54.642436  -1.917577  -0.043215  0\n",
       "11159 -1500.095802  -211.824609  -53.520939  -8.647919   2.901507  0\n",
       "11160 -1529.348799  -360.414800  118.177029   2.397092  -7.077395  0\n",
       "11161 -1527.942102   260.229173  -48.883465  -6.546821  -6.879713  0\n",
       "\n",
       "[11162 rows x 6 columns]"
      ]
     },
     "execution_count": 7,
     "metadata": {},
     "output_type": "execute_result"
    }
   ],
   "source": [
    "df_output_3"
   ]
  },
  {
   "cell_type": "code",
   "execution_count": null,
   "metadata": {},
   "outputs": [],
   "source": []
  }
 ],
 "metadata": {
  "kernelspec": {
   "display_name": "Python 3",
   "language": "python",
   "name": "python3"
  },
  "language_info": {
   "codemirror_mode": {
    "name": "ipython",
    "version": 3
   },
   "file_extension": ".py",
   "mimetype": "text/x-python",
   "name": "python",
   "nbconvert_exporter": "python",
   "pygments_lexer": "ipython3",
   "version": "3.13.2"
  }
 },
 "nbformat": 4,
 "nbformat_minor": 2
}
