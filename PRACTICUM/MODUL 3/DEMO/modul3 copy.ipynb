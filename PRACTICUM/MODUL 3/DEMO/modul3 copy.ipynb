{
 "cells": [
  {
   "cell_type": "markdown",
   "metadata": {},
   "source": [
    "# Modul 3 - Demo"
   ]
  },
  {
   "cell_type": "markdown",
   "metadata": {},
   "source": [
    "### Dataset : https://drive.google.com/file/d/1x2Xpa5T-ifi1xn-MtKA8HOV7E9Rk0NlJ/view?pli=1"
   ]
  },
  {
   "cell_type": "markdown",
   "metadata": {},
   "source": [
    "Gunakan dataset di atas untuk melakukan serangkaian proses di bawah:\n",
    "\n",
    "1. Handling Categorical Values:\n",
    "- Identifikasi kolom-kolom kategorikal dalam dataset.\n",
    "- Terapkan metode handling categorical value yang cocok pada 3 kolom yang ada dalam dataset (tidak boleh ketiganya metode yang sama, bisa proporsi 2 dan 1).\n",
    "- Lakukan Binning pada kolom age dengan membaginya ke dalam 4 kelompok: \"Muda\", \"Dewasa\", \"Paruh Baya\", dan \"Lanjut Usia\".\n",
    "\n",
    "2. Data Normalization:\n",
    "- Gunakan Min-Max Scaling pada kolom balance.\n",
    "- Gunakan Z-Score Scaling pada kolom duration.\n",
    "- Gunakan Decimal Scaling pada kolom campaign.\n",
    "\n",
    "3. Dimensionality Reduction:\n",
    "- Lakukan Feature Selection dengan memilih hanya fitur yang memiliki korelasi tinggi terhadap variabel target (y). Gunakan korelasi Pearson atau metode seleksi fitur lain yang sesuai.\n",
    "- Lakukan Feature Extraction menggunakan PCA (Principal Component Analysis) untuk mereduksi dimensi dataset menjadi hanya 5 fitur utama.\n",
    "\n",
    "4. Data Splitting:\n",
    "- Bagi dataset menjadi Train (70%), Validation (15%), dan Test (15%).\n",
    "- Pastikan bahwa distribusi kelas dalam variabel target (y) tetap seimbang dalam proses pembagian data."
   ]
  },
  {
   "cell_type": "markdown",
   "metadata": {},
   "source": [
    "### Persiapan Awal"
   ]
  },
  {
   "cell_type": "code",
   "execution_count": 5,
   "metadata": {},
   "outputs": [],
   "source": [
    "import pandas as pd\n",
    "import numpy as np\n",
    "from sklearn.preprocessing import MinMaxScaler, StandardScaler\n",
    "from sklearn.decomposition import PCA\n",
    "from sklearn.model_selection import train_test_split\n",
    "from sklearn.feature_selection import SelectKBest, f_classif\n",
    "\n",
    "# Memuat dataset ke DataFrame\n",
    "data = pd.read_csv('tugas3_genap.csv')  # Ganti 'dataset.csv' dengan path file Anda jika diperlukan\n",
    "# Jika Anda langsung copy-paste data, gunakan ini:\n",
    "# data = pd.read_csv(io.StringIO(<paste dataset Anda di sini>), delimiter=',')\n",
    "\n",
    "# Ganti 'deposit' menjadi 'y' sebagai variabel target untuk konsistensi\n",
    "data = data.rename(columns={'deposit': 'y'})"
   ]
  },
  {
   "cell_type": "markdown",
   "metadata": {},
   "source": [
    "### 1. Handling Categorical Values"
   ]
  },
  {
   "cell_type": "code",
   "execution_count": 6,
   "metadata": {},
   "outputs": [
    {
     "name": "stdout",
     "output_type": "stream",
     "text": [
      "Kolom kategorikal: Index(['job', 'marital', 'education', 'default', 'housing', 'loan', 'contact',\n",
      "       'month', 'poutcome', 'y'],\n",
      "      dtype='object')\n",
      "Hasil setelah handling categorical values:\n",
      "   age  marital  education default  balance housing loan  contact  day month  \\\n",
      "0   59        1   0.490593      no     2343     yes   no  unknown    5   may   \n",
      "1   56        1   0.490593      no       45      no   no  unknown    5   may   \n",
      "2   41        1   0.490593      no     1270     yes   no  unknown    5   may   \n",
      "3   55        1   0.490593      no     2476     yes   no  unknown    5   may   \n",
      "4   54        1   0.330496      no      184      no   no  unknown    5   may   \n",
      "\n",
      "   ...  job_housemaid  job_management  job_retired  job_self-employed  \\\n",
      "0  ...          False           False        False              False   \n",
      "1  ...          False           False        False              False   \n",
      "2  ...          False           False        False              False   \n",
      "3  ...          False           False        False              False   \n",
      "4  ...          False           False        False              False   \n",
      "\n",
      "  job_services job_student  job_technician  job_unemployed  job_unknown  \\\n",
      "0        False       False           False           False        False   \n",
      "1        False       False           False           False        False   \n",
      "2        False       False            True           False        False   \n",
      "3         True       False           False           False        False   \n",
      "4        False       False           False           False        False   \n",
      "\n",
      "    age_group  \n",
      "0  Paruh Baya  \n",
      "1  Paruh Baya  \n",
      "2  Paruh Baya  \n",
      "3  Paruh Baya  \n",
      "4  Paruh Baya  \n",
      "\n",
      "[5 rows x 29 columns]\n"
     ]
    }
   ],
   "source": [
    "# Bagian 1: Handling Categorical Values\n",
    "\n",
    "# Identifikasi kolom kategorikal\n",
    "categorical_cols = data.select_dtypes(include=['object']).columns\n",
    "print(\"Kolom kategorikal:\", categorical_cols)\n",
    "\n",
    "# Terapkan metode handling categorical value yang berbeda pada 3 kolom\n",
    "# 1. One-Hot Encoding untuk 'job' (metode 1)\n",
    "data_encoded = pd.get_dummies(data, columns=['job'], prefix='job')\n",
    "\n",
    "# 2. Label Encoding untuk 'marital' (metode 2)\n",
    "marital_mapping = {'single': 0, 'married': 1, 'divorced': 2}\n",
    "data_encoded['marital'] = data_encoded['marital'].map(marital_mapping)\n",
    "\n",
    "# 3. Frequency Encoding untuk 'education' (metode 3)\n",
    "education_freq = data_encoded['education'].value_counts(normalize=True)\n",
    "data_encoded['education'] = data_encoded['education'].map(education_freq)\n",
    "\n",
    "# Binning kolom 'age' menjadi 4 kelompok\n",
    "bins = [0, 25, 40, 60, np.inf]  # Rentang usia\n",
    "labels = ['Muda', 'Dewasa', 'Paruh Baya', 'Lanjut Usia']\n",
    "data_encoded['age_group'] = pd.cut(data_encoded['age'], bins=bins, labels=labels, include_lowest=True)\n",
    "\n",
    "# Tampilkan hasil awal\n",
    "print(\"Hasil setelah handling categorical values:\")\n",
    "print(data_encoded.head())"
   ]
  },
  {
   "cell_type": "markdown",
   "metadata": {},
   "source": [
    "### 2. Data Normalization"
   ]
  },
  {
   "cell_type": "code",
   "execution_count": 7,
   "metadata": {},
   "outputs": [
    {
     "name": "stdout",
     "output_type": "stream",
     "text": [
      "Hasil setelah normalisasi:\n",
      "   balance  balance_scaled  duration  duration_scaled  campaign  \\\n",
      "0     2343        0.104371      1042         1.930226         1   \n",
      "1       45        0.078273      1467         3.154612         1   \n",
      "2     1270        0.092185      1389         2.929901         1   \n",
      "3     2476        0.105882       579         0.596366         1   \n",
      "4      184        0.079851       673         0.867171         2   \n",
      "\n",
      "   campaign_scaled  \n",
      "0             0.01  \n",
      "1             0.01  \n",
      "2             0.01  \n",
      "3             0.01  \n",
      "4             0.02  \n"
     ]
    }
   ],
   "source": [
    "# Bagian 2: Data Normalization\n",
    "\n",
    "# Min-Max Scaling pada 'balance'\n",
    "minmax_scaler = MinMaxScaler()\n",
    "data_encoded['balance_scaled'] = minmax_scaler.fit_transform(data_encoded[['balance']])\n",
    "\n",
    "# Z-Score Scaling pada 'duration'\n",
    "zscore_scaler = StandardScaler()\n",
    "data_encoded['duration_scaled'] = zscore_scaler.fit_transform(data_encoded[['duration']])\n",
    "\n",
    "# Decimal Scaling pada 'campaign'\n",
    "# Decimal scaling: bagi dengan 10^p di mana p adalah jumlah digit maksimum\n",
    "max_campaign = data_encoded['campaign'].max()\n",
    "p = len(str(int(max_campaign)))\n",
    "data_encoded['campaign_scaled'] = data_encoded['campaign'] / (10 ** p)\n",
    "\n",
    "# Tampilkan hasil normalisasi\n",
    "print(\"Hasil setelah normalisasi:\")\n",
    "print(data_encoded[['balance', 'balance_scaled', 'duration', 'duration_scaled', 'campaign', 'campaign_scaled']].head())"
   ]
  },
  {
   "cell_type": "markdown",
   "metadata": {},
   "source": [
    "### 3. Dimensionality Reduction"
   ]
  },
  {
   "cell_type": "code",
   "execution_count": 11,
   "metadata": {},
   "outputs": [
    {
     "name": "stdout",
     "output_type": "stream",
     "text": [
      "Fitur terpilih: ['marital', 'balance', 'day', 'duration', 'campaign', 'pdays', 'previous', 'balance_scaled', 'duration_scaled', 'campaign_scaled']\n",
      "\n",
      "Hasil PCA:\n",
      "Explained variance ratio untuk setiap komponen: [9.87438285e-01 1.14323578e-02 1.12156802e-03 6.69924415e-06\n",
      " 6.81549761e-07]\n",
      "Total explained variance: 0.9999995913569644\n",
      "\n",
      "Komponen PCA (Loading Factors):\n",
      "          marital  education   balance       day  duration  campaign  \\\n",
      "PC1  4.142814e-07  -0.000002  0.999997  0.000027  0.002443 -0.000012   \n",
      "PC2 -1.214208e-05   0.000001 -0.002437 -0.000450  0.999946 -0.000321   \n",
      "PC3 -1.811054e-04   0.000040 -0.000611 -0.006082  0.009653 -0.002603   \n",
      "PC4  1.093810e-04  -0.000090 -0.000032  0.998886  0.000523  0.046412   \n",
      "PC5  6.765958e-03  -0.001036  0.000011 -0.046372  0.000323  0.998803   \n",
      "\n",
      "        pdays  previous  balance_scaled  duration_scaled  campaign_scaled  \n",
      "PC1  0.000588  0.000022    1.135702e-05     7.037641e-06    -1.173648e-07  \n",
      "PC2 -0.009657 -0.000191   -2.767789e-08     2.880752e-03    -3.211267e-06  \n",
      "PC3  0.999874  0.010676   -6.940489e-09     2.780991e-05    -2.602655e-05  \n",
      "PC4  0.006254 -0.005801   -3.584457e-10     1.507322e-06     4.641190e-04  \n",
      "PC5  0.002215  0.009516    1.213629e-10     9.312731e-07     9.988030e-03  \n",
      "\n",
      "5 Baris pertama dari dataset setelah PCA:\n",
      "           PC1          PC2        PC3        PC4       PC5\n",
      "0   816.064611   668.501506 -46.293989 -10.713748 -0.909829\n",
      "1 -1480.889912  1099.082493 -40.787008 -10.418853 -0.797001\n",
      "2  -256.084324  1018.100647 -42.288580 -10.498327 -0.809124\n",
      "3   947.933139   205.198498 -50.844726 -10.960195 -1.058077\n",
      "4 -1343.830006   304.779643 -48.539249 -10.792243 -0.053115\n"
     ]
    }
   ],
   "source": [
    "# Bagian 3: Dimensionality Reduction\n",
    "\n",
    "import pandas as pd\n",
    "import numpy as np\n",
    "from sklearn.decomposition import PCA\n",
    "from sklearn.feature_selection import SelectKBest, f_classif\n",
    "\n",
    "# Misalkan data_encoded sudah ada dari langkah sebelumnya\n",
    "# Pisahkan fitur dan target\n",
    "X = data_encoded.drop(columns=['y', 'age'])  # Hilangkan 'age' karena sudah dibinning\n",
    "y = data_encoded['y'].map({'yes': 1, 'no': 0})  # Encode target menjadi numerik\n",
    "\n",
    "# Feature Selection menggunakan SelectKBest dengan f_classif (ANOVA F-value)\n",
    "selector = SelectKBest(score_func=f_classif, k=10)  # Pilih 10 fitur terbaik\n",
    "X_selected = selector.fit_transform(X.select_dtypes(include=[np.number]), y)\n",
    "\n",
    "# Dapatkan nama fitur yang terpilih\n",
    "selected_features = X.select_dtypes(include=[np.number]).columns[selector.get_support()].tolist()\n",
    "print(\"Fitur terpilih:\", selected_features)\n",
    "\n",
    "# Feature Extraction menggunakan PCA\n",
    "pca = PCA(n_components=5)  # Reduksi menjadi 5 komponen utama\n",
    "X_pca = pca.fit_transform(X.select_dtypes(include=[np.number]))\n",
    "\n",
    "# Tampilkan variansi yang dijelaskan oleh PCA\n",
    "print(\"\\nHasil PCA:\")\n",
    "print(\"Explained variance ratio untuk setiap komponen:\", pca.explained_variance_ratio_)\n",
    "print(\"Total explained variance:\", sum(pca.explained_variance_ratio_))\n",
    "\n",
    "# Tampilkan komponen PCA (loading factors)\n",
    "print(\"\\nKomponen PCA (Loading Factors):\")\n",
    "pca_components_df = pd.DataFrame(pca.components_, columns=X.select_dtypes(include=[np.number]).columns, index=[f'PC{i+1}' for i in range(5)])\n",
    "print(pca_components_df)\n",
    "\n",
    "# Buat DataFrame baru dengan fitur PCA\n",
    "X_pca_df = pd.DataFrame(X_pca, columns=[f'PC{i+1}' for i in range(5)])\n",
    "print(\"\\n5 Baris pertama dari dataset setelah PCA:\")\n",
    "print(X_pca_df.head())"
   ]
  },
  {
   "cell_type": "markdown",
   "metadata": {},
   "source": [
    "### 4. Data Splitting"
   ]
  },
  {
   "cell_type": "code",
   "execution_count": 12,
   "metadata": {},
   "outputs": [
    {
     "name": "stdout",
     "output_type": "stream",
     "text": [
      "Distribusi kelas di Train:\n",
      "y\n",
      "0    0.526174\n",
      "1    0.473826\n",
      "Name: proportion, dtype: float64\n",
      "Distribusi kelas di Validation:\n",
      "y\n",
      "0    0.526284\n",
      "1    0.473716\n",
      "Name: proportion, dtype: float64\n",
      "Distribusi kelas di Test:\n",
      "y\n",
      "0    0.52597\n",
      "1    0.47403\n",
      "Name: proportion, dtype: float64\n",
      "Ukuran Train: (7813, 6)\n",
      "Ukuran Validation: (1674, 6)\n",
      "Ukuran Test: (1675, 6)\n"
     ]
    }
   ],
   "source": [
    "# Bagian 4: Data Splitting\n",
    "\n",
    "# Gabungkan fitur PCA dengan target\n",
    "data_final = pd.concat([X_pca_df, y.reset_index(drop=True)], axis=1)\n",
    "\n",
    "# Bagi dataset menjadi Train (70%), Validation (15%), dan Test (15%) dengan stratifikasi\n",
    "train_data, temp_data = train_test_split(data_final, test_size=0.3, stratify=data_final['y'], random_state=42)\n",
    "val_data, test_data = train_test_split(temp_data, test_size=0.5, stratify=temp_data['y'], random_state=42)\n",
    "\n",
    "# Verifikasi distribusi kelas\n",
    "print(\"Distribusi kelas di Train:\")\n",
    "print(train_data['y'].value_counts(normalize=True))\n",
    "print(\"Distribusi kelas di Validation:\")\n",
    "print(val_data['y'].value_counts(normalize=True))\n",
    "print(\"Distribusi kelas di Test:\")\n",
    "print(test_data['y'].value_counts(normalize=True))\n",
    "\n",
    "# Tampilkan ukuran dataset\n",
    "print(f\"Ukuran Train: {train_data.shape}\")\n",
    "print(f\"Ukuran Validation: {val_data.shape}\")\n",
    "print(f\"Ukuran Test: {test_data.shape}\")"
   ]
  },
  {
   "cell_type": "code",
   "execution_count": 10,
   "metadata": {},
   "outputs": [
    {
     "data": {
      "application/vnd.microsoft.datawrangler.viewer.v0+json": {
       "columns": [
        {
         "name": "index",
         "rawType": "int64",
         "type": "integer"
        },
        {
         "name": "PC1",
         "rawType": "float64",
         "type": "float"
        },
        {
         "name": "PC2",
         "rawType": "float64",
         "type": "float"
        },
        {
         "name": "PC3",
         "rawType": "float64",
         "type": "float"
        },
        {
         "name": "PC4",
         "rawType": "float64",
         "type": "float"
        },
        {
         "name": "PC5",
         "rawType": "float64",
         "type": "float"
        }
       ],
       "conversionMethod": "pd.DataFrame",
       "ref": "6358396b-2fb4-4f9c-9e29-ecb31ea8069c",
       "rows": [
        [
         "0",
         "816.0646106939055",
         "668.5015056656889",
         "-46.29398919670779",
         "-10.713748297047276",
         "-0.9098292253072"
        ],
        [
         "1",
         "-1480.8899123002727",
         "1099.082493343731",
         "-40.78700815385261",
         "-10.418853478043623",
         "-0.7970006305561814"
        ],
        [
         "2",
         "-256.0843239417468",
         "1018.1006465283172",
         "-42.28858048657858",
         "-10.498327110587713",
         "-0.8091243748456232"
        ],
        [
         "3",
         "947.9331393216632",
         "205.19849838707665",
         "-50.84472578313282",
         "-10.9601946384756",
         "-1.058077136952278"
        ],
        [
         "4",
         "-1343.8300059176365",
         "304.7796427786398",
         "-48.53924892282606",
         "-10.79224253623503",
         "-0.05311462046881399"
        ],
        [
         "5",
         "-1528.100584655864",
         "194.23313888224385",
         "-49.49813383260615",
         "-10.844621493274492",
         "-0.09772863362967632"
        ],
        [
         "6",
         "-696.5421678764324",
         "831.1810822645248",
         "-43.84058994861929",
         "-9.58390445232854",
         "-0.9208055261161672"
        ],
        [
         "7",
         "-981.9589997970894",
         "660.8834351692194",
         "-45.31730321036969",
         "-9.66428420564161",
         "-0.9725283289694591"
        ],
        [
         "8",
         "-1526.9881763845399",
         "240.22846292356843",
         "-49.058348966740894",
         "-9.868020964225238",
         "-1.1215230622884547"
        ],
        [
         "9",
         "3563.6788751519034",
         "916.7941736804914",
         "-45.52225378652724",
         "-9.575418442481563",
         "1.1466242303322405"
        ],
        [
         "10",
         "-1427.5536301405523",
         "417.9786355035407",
         "-47.40647080298323",
         "-8.779236910944055",
         "-1.1160631961141947"
        ],
        [
         "11",
         "-1216.6293151553255",
         "1205.4330063183006",
         "-39.93021168590265",
         "-8.327013721053532",
         "0.14656755383336328"
        ],
        [
         "12",
         "-1326.34806032335",
         "1320.6951945918531",
         "-38.75807655592526",
         "-8.17052475588173",
         "2.1805385159514805"
        ],
        [
         "13",
         "-1066.7828293290281",
         "733.0865543686555",
         "-44.57865305664084",
         "-8.578832132710218",
         "-0.010997466335315398"
        ],
        [
         "14",
         "-824.1719864205197",
         "573.5011515859339",
         "-46.26810447859514",
         "-7.670807094779885",
         "-0.10617130471472458"
        ],
        [
         "15",
         "2310.162577581623",
         "706.8572526480539",
         "-46.819995088460644",
         "-7.742145282702349",
         "-1.0124723638560316"
        ],
        [
         "16",
         "-917.1537433881223",
         "171.7433797459144",
         "-50.09510190737364",
         "-7.8318018376569505",
         "0.7620012558237712"
        ],
        [
         "17",
         "-1534.7397838207487",
         "751.2261851331268",
         "-44.132198790425335",
         "-7.602602500363014",
         "-1.0491782128743565"
        ],
        [
         "18",
         "-1471.7375515738581",
         "752.0722832270187",
         "-44.163648817110875",
         "-7.557651114538105",
         "-0.04927885083847117"
        ],
        [
         "19",
         "-1360.2207217678324",
         "144.82489567110616",
         "-50.08981027479719",
         "-7.925116386447225",
         "-1.2364267771235489"
        ],
        [
         "20",
         "-743.3961255580126",
         "72.32414417565991",
         "-51.1548536092907",
         "-7.935321572176173",
         "-0.25388199011806667"
        ],
        [
         "21",
         "539.3669013910069",
         "383.1858464925045",
         "-48.90422417639954",
         "-7.858114784183741",
         "-1.1509478444214656"
        ],
        [
         "22",
         "-1136.3763412320852",
         "1718.216612732926",
         "-35.03263874080693",
         "-7.062088211495805",
         "0.2738033938080586"
        ],
        [
         "23",
         "-1718.7367710796639",
         "752.674237913179",
         "-44.01271732396281",
         "-7.549823483490437",
         "-0.05154934680579548"
        ],
        [
         "24",
         "-1146.0683694030672",
         "616.2839708246452",
         "-45.665881548237245",
         "-7.638683604874972",
         "-0.0962011706015451"
        ],
        [
         "25",
         "-1487.9662673196233",
         "249.130706725111",
         "-49.02117722449283",
         "-6.728745545156407",
         "1.732628805934577"
        ],
        [
         "26",
         "-1506.2935437907456",
         "115.18100802948152",
         "-50.30111712404093",
         "-6.844690472020353",
         "0.6903826360301886"
        ],
        [
         "27",
         "-1524.2039615263852",
         "561.2069656160666",
         "-45.98414677128707",
         "-6.610751156449972",
         "0.8341875183320151"
        ],
        [
         "28",
         "-1221.160061799855",
         "169.484565614303",
         "-49.939325123560174",
         "-6.917646726787867",
         "-1.2799981753102374"
        ],
        [
         "29",
         "-768.7413145440719",
         "340.3751773715492",
         "-48.55500866701073",
         "-6.842028884545501",
         "-1.2263333656498174"
        ],
        [
         "30",
         "-1528.878158726796",
         "285.2299353958526",
         "-48.6409765340868",
         "-6.8477560295229605",
         "-1.246114654114364"
        ],
        [
         "31",
         "-1461.9622996912892",
         "660.0516596194773",
         "-45.06395615871709",
         "-6.607184884787372",
         "-0.1249151904582928"
        ],
        [
         "32",
         "-1445.8759782966172",
         "286.02762548057257",
         "-48.68186487957516",
         "-6.84996180010722",
         "-1.25167040445263"
        ],
        [
         "33",
         "-1515.3400572458052",
         "1324.1554064996164",
         "-38.620567624572935",
         "-6.258066014650613",
         "0.08877242956003117"
        ],
        [
         "34",
         "-1137.850089215024",
         "296.27616154211734",
         "-48.76688259900253",
         "-6.807260128975745",
         "-0.23201945487845954"
        ],
        [
         "35",
         "-1216.6250145276256",
         "388.4631684353819",
         "-47.84838094020532",
         "-3.760210187924871",
         "-0.35597573694902374"
        ],
        [
         "36",
         "-1114.2433826306142",
         "135.22258844772068",
         "-50.36507701501852",
         "-2.8039887169473907",
         "1.521742823733324"
        ],
        [
         "37",
         "-1521.1851550878973",
         "978.1818873459044",
         "-41.97944567488645",
         "-2.4897050146058177",
         "-1.2007549181979906"
        ],
        [
         "38",
         "-1409.0861076571034",
         "199.9386033099875",
         "-49.56698113119171",
         "-2.761209881425035",
         "1.5390758870268155"
        ],
        [
         "39",
         "-1524.5083386590663",
         "27.227412430379843",
         "-51.161337146752864",
         "-2.941021434187096",
         "-0.5224454875646054"
        ],
        [
         "40",
         "-264.9977150284053",
         "644.133608147861",
         "-45.94268108432902",
         "-2.7026395153798255",
         "-1.3007183513915959"
        ],
        [
         "41",
         "421.1890692167656",
         "310.4741693687624",
         "-49.56999477920485",
         "-2.8516307713709956",
         "-0.4019994162139031"
        ],
        [
         "42",
         "-1923.3238511572422",
         "103.19667715046091",
         "-50.19125856649439",
         "-2.93540261785901",
         "-1.4880388868351453"
        ],
        [
         "43",
         "-362.0316449872396",
         "630.3696792088954",
         "-46.026342686510425",
         "-2.567685366355109",
         "1.6900591154359277"
        ],
        [
         "44",
         "712.5839087176025",
         "471.7579135009709",
         "-48.1814108107044",
         "-2.8224452022826743",
         "-1.345128366050281"
        ],
        [
         "45",
         "-1227.1656906192454",
         "576.4809253149954",
         "-46.03329858199085",
         "-2.6623764893721926",
         "-0.3279577337173494"
        ],
        [
         "46",
         "1759.7205562083548",
         "1345.1708956851367",
         "-40.36635971754321",
         "-2.350713865572928",
         "-0.05234519215396283"
        ],
        [
         "47",
         "2395.81555737292",
         "564.6508157703502",
         "-48.284824647726005",
         "-1.7331325323309326",
         "0.6551839512313955"
        ],
        [
         "48",
         "-85.31496877152335",
         "104.71662719020958",
         "-51.262662052194756",
         "-1.991370078689192",
         "-1.512627395603924"
        ],
        [
         "49",
         "-1503.440825201693",
         "464.15858212879897",
         "-46.95892755898207",
         "-1.760319674430228",
         "-1.412710607570081"
        ]
       ],
       "shape": {
        "columns": 5,
        "rows": 11162
       }
      },
      "text/html": [
       "<div>\n",
       "<style scoped>\n",
       "    .dataframe tbody tr th:only-of-type {\n",
       "        vertical-align: middle;\n",
       "    }\n",
       "\n",
       "    .dataframe tbody tr th {\n",
       "        vertical-align: top;\n",
       "    }\n",
       "\n",
       "    .dataframe thead th {\n",
       "        text-align: right;\n",
       "    }\n",
       "</style>\n",
       "<table border=\"1\" class=\"dataframe\">\n",
       "  <thead>\n",
       "    <tr style=\"text-align: right;\">\n",
       "      <th></th>\n",
       "      <th>PC1</th>\n",
       "      <th>PC2</th>\n",
       "      <th>PC3</th>\n",
       "      <th>PC4</th>\n",
       "      <th>PC5</th>\n",
       "    </tr>\n",
       "  </thead>\n",
       "  <tbody>\n",
       "    <tr>\n",
       "      <th>0</th>\n",
       "      <td>816.064611</td>\n",
       "      <td>668.501506</td>\n",
       "      <td>-46.293989</td>\n",
       "      <td>-10.713748</td>\n",
       "      <td>-0.909829</td>\n",
       "    </tr>\n",
       "    <tr>\n",
       "      <th>1</th>\n",
       "      <td>-1480.889912</td>\n",
       "      <td>1099.082493</td>\n",
       "      <td>-40.787008</td>\n",
       "      <td>-10.418853</td>\n",
       "      <td>-0.797001</td>\n",
       "    </tr>\n",
       "    <tr>\n",
       "      <th>2</th>\n",
       "      <td>-256.084324</td>\n",
       "      <td>1018.100647</td>\n",
       "      <td>-42.288580</td>\n",
       "      <td>-10.498327</td>\n",
       "      <td>-0.809124</td>\n",
       "    </tr>\n",
       "    <tr>\n",
       "      <th>3</th>\n",
       "      <td>947.933139</td>\n",
       "      <td>205.198498</td>\n",
       "      <td>-50.844726</td>\n",
       "      <td>-10.960195</td>\n",
       "      <td>-1.058077</td>\n",
       "    </tr>\n",
       "    <tr>\n",
       "      <th>4</th>\n",
       "      <td>-1343.830006</td>\n",
       "      <td>304.779643</td>\n",
       "      <td>-48.539249</td>\n",
       "      <td>-10.792243</td>\n",
       "      <td>-0.053115</td>\n",
       "    </tr>\n",
       "    <tr>\n",
       "      <th>...</th>\n",
       "      <td>...</td>\n",
       "      <td>...</td>\n",
       "      <td>...</td>\n",
       "      <td>...</td>\n",
       "      <td>...</td>\n",
       "    </tr>\n",
       "    <tr>\n",
       "      <th>11157</th>\n",
       "      <td>-1527.845243</td>\n",
       "      <td>-110.761807</td>\n",
       "      <td>-52.531625</td>\n",
       "      <td>3.932653</td>\n",
       "      <td>-1.890596</td>\n",
       "    </tr>\n",
       "    <tr>\n",
       "      <th>11158</th>\n",
       "      <td>-796.272759</td>\n",
       "      <td>-286.536977</td>\n",
       "      <td>-54.642277</td>\n",
       "      <td>-0.037705</td>\n",
       "      <td>1.249574</td>\n",
       "    </tr>\n",
       "    <tr>\n",
       "      <th>11159</th>\n",
       "      <td>-1500.092102</td>\n",
       "      <td>-211.825308</td>\n",
       "      <td>-53.520222</td>\n",
       "      <td>2.926423</td>\n",
       "      <td>-0.878040</td>\n",
       "    </tr>\n",
       "    <tr>\n",
       "      <th>11160</th>\n",
       "      <td>-1529.349664</td>\n",
       "      <td>-360.414605</td>\n",
       "      <td>118.176832</td>\n",
       "      <td>-7.084302</td>\n",
       "      <td>0.021699</td>\n",
       "    </tr>\n",
       "    <tr>\n",
       "      <th>11161</th>\n",
       "      <td>-1527.939234</td>\n",
       "      <td>260.228639</td>\n",
       "      <td>-48.882919</td>\n",
       "      <td>-6.860868</td>\n",
       "      <td>-1.254185</td>\n",
       "    </tr>\n",
       "  </tbody>\n",
       "</table>\n",
       "<p>11162 rows × 5 columns</p>\n",
       "</div>"
      ],
      "text/plain": [
       "               PC1          PC2         PC3        PC4       PC5\n",
       "0       816.064611   668.501506  -46.293989 -10.713748 -0.909829\n",
       "1     -1480.889912  1099.082493  -40.787008 -10.418853 -0.797001\n",
       "2      -256.084324  1018.100647  -42.288580 -10.498327 -0.809124\n",
       "3       947.933139   205.198498  -50.844726 -10.960195 -1.058077\n",
       "4     -1343.830006   304.779643  -48.539249 -10.792243 -0.053115\n",
       "...            ...          ...         ...        ...       ...\n",
       "11157 -1527.845243  -110.761807  -52.531625   3.932653 -1.890596\n",
       "11158  -796.272759  -286.536977  -54.642277  -0.037705  1.249574\n",
       "11159 -1500.092102  -211.825308  -53.520222   2.926423 -0.878040\n",
       "11160 -1529.349664  -360.414605  118.176832  -7.084302  0.021699\n",
       "11161 -1527.939234   260.228639  -48.882919  -6.860868 -1.254185\n",
       "\n",
       "[11162 rows x 5 columns]"
      ]
     },
     "execution_count": 10,
     "metadata": {},
     "output_type": "execute_result"
    }
   ],
   "source": [
    "X_pca_df"
   ]
  },
  {
   "cell_type": "code",
   "execution_count": null,
   "metadata": {},
   "outputs": [],
   "source": []
  }
 ],
 "metadata": {
  "kernelspec": {
   "display_name": "Python 3",
   "language": "python",
   "name": "python3"
  },
  "language_info": {
   "codemirror_mode": {
    "name": "ipython",
    "version": 3
   },
   "file_extension": ".py",
   "mimetype": "text/x-python",
   "name": "python",
   "nbconvert_exporter": "python",
   "pygments_lexer": "ipython3",
   "version": "3.13.2"
  }
 },
 "nbformat": 4,
 "nbformat_minor": 2
}
