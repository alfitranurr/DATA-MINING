{
 "cells": [
  {
   "cell_type": "markdown",
   "id": "13e8b195",
   "metadata": {},
   "source": [
    "# Import Library"
   ]
  },
  {
   "cell_type": "code",
   "execution_count": 1,
   "id": "30da9a86",
   "metadata": {},
   "outputs": [],
   "source": [
    "import pandas as pd\n",
    "import numpy as np\n",
    "import matplotlib.pyplot as plt\n",
    "import seaborn as sns   \n",
    "import warnings \n",
    "warnings.filterwarnings(\"ignore\")\n",
    "from sklearn.model_selection import train_test_split    \n",
    "from sklearn.model_selection import cross_val_score\n",
    "from sklearn.metrics import accuracy_score, confusion_matrix, classification_report\n",
    "from sklearn.preprocessing import StandardScaler\n",
    "from sklearn.preprocessing import LabelEncoder\n",
    "from sklearn.ensemble import RandomForestClassifier\n",
    "from sklearn.preprocessing import OneHotEncoder\n",
    "from sklearn.preprocessing import MinMaxScaler\n",
    "import joblib\n",
    "import os\n",
    "import pickle\n",
    "from imblearn.over_sampling import SMOTE\n",
    "import re"
   ]
  },
  {
   "cell_type": "code",
   "execution_count": 2,
   "id": "036099a6",
   "metadata": {},
   "outputs": [],
   "source": [
    "df = pd.read_csv('UAP Job Kamis (Genap).csv')"
   ]
  },
  {
   "cell_type": "markdown",
   "id": "dbe37811",
   "metadata": {},
   "source": [
    "# EDA"
   ]
  },
  {
   "cell_type": "code",
   "execution_count": 3,
   "id": "f763be0e",
   "metadata": {},
   "outputs": [
    {
     "data": {
      "application/vnd.microsoft.datawrangler.viewer.v0+json": {
       "columns": [
        {
         "name": "index",
         "rawType": "int64",
         "type": "integer"
        },
        {
         "name": "Unnamed: 0",
         "rawType": "int64",
         "type": "integer"
        },
        {
         "name": "job_id",
         "rawType": "int64",
         "type": "integer"
        },
        {
         "name": "title",
         "rawType": "object",
         "type": "string"
        },
        {
         "name": "location",
         "rawType": "object",
         "type": "string"
        },
        {
         "name": "department",
         "rawType": "object",
         "type": "unknown"
        },
        {
         "name": "salary_range",
         "rawType": "object",
         "type": "unknown"
        },
        {
         "name": "company_profile",
         "rawType": "object",
         "type": "string"
        },
        {
         "name": "description",
         "rawType": "object",
         "type": "string"
        },
        {
         "name": "requirements",
         "rawType": "object",
         "type": "string"
        },
        {
         "name": "benefits",
         "rawType": "object",
         "type": "unknown"
        },
        {
         "name": "telecommuting",
         "rawType": "int64",
         "type": "integer"
        },
        {
         "name": "has_company_logo",
         "rawType": "int64",
         "type": "integer"
        },
        {
         "name": "has_questions",
         "rawType": "int64",
         "type": "integer"
        },
        {
         "name": "employment_type",
         "rawType": "object",
         "type": "unknown"
        },
        {
         "name": "required_experience",
         "rawType": "object",
         "type": "unknown"
        },
        {
         "name": "required_education",
         "rawType": "object",
         "type": "unknown"
        },
        {
         "name": "industry",
         "rawType": "object",
         "type": "unknown"
        },
        {
         "name": "function",
         "rawType": "object",
         "type": "unknown"
        },
        {
         "name": "fraudulent",
         "rawType": "int64",
         "type": "integer"
        }
       ],
       "ref": "644466d4-df57-49fd-b130-d7c3dea29523",
       "rows": [
        [
         "0",
         "0",
         "1",
         "Marketing Intern",
         "US, NY, New York",
         "Marketing",
         null,
         "We're Food52, and we've created a groundbreaking and award-winning cooking site. We support, connect, and celebrate home cooks, and give them everything they need in one place.We have a top editorial, business, and engineering team. We're focused on using technology to find new and better ways to connect people around their specific food interests, and to offer them superb, highly curated information about food and cooking. We attract the most talented home cooks and contributors in the country; we also publish well-known professionals like Mario Batali, Gwyneth Paltrow, and Danny Meyer. And we have partnerships with Whole Foods Market and Random House.Food52 has been named the best food website by the James Beard Foundation and IACP, and has been featured in the New York Times, NPR, Pando Daily, TechCrunch, and on the Today Show.We're located in Chelsea, in New York City.",
         "Food52, a fast-growing, James Beard Award-winning online food community and crowd-sourced and curated recipe hub, is currently interviewing full- and part-time unpaid interns to work in a small team of editors, executives, and developers in its New York City headquarters.Reproducing and/or repackaging existing Food52 content for a number of partner sites, such as Huffington Post, Yahoo, Buzzfeed, and more in their various content management systemsResearching blogs and websites for the Provisions by Food52 Affiliate ProgramAssisting in day-to-day affiliate program support, such as screening affiliates and assisting in any affiliate inquiriesSupporting with PR &amp; Events when neededHelping with office administrative work, such as filing, mailing, and preparing for meetingsWorking with developers to document bugs and suggest improvements to the siteSupporting the marketing and executive staff",
         "Experience with content management systems a major plus (any blogging counts!)Familiar with the Food52 editorial voice and aestheticLoves food, appreciates the importance of home cooking and cooking with the seasonsMeticulous editor, perfectionist, obsessive attention to detail, maddened by typos and broken links, delighted by finding and fixing themCheerful under pressureExcellent communication skillsA+ multi-tasker and juggler of responsibilities big and smallInterested in and engaged with social media like Twitter, Facebook, and PinterestLoves problem-solving and collaborating to drive Food52 forwardThinks big picture but pitches in on the nitty gritty of running a small company (dishes, shopping, administrative support)Comfortable with the realities of working for a startup: being on call on evenings and weekends, and working long hours",
         null,
         "0",
         "1",
         "0",
         "Other",
         "Internship",
         null,
         null,
         "Marketing",
         "0"
        ],
        [
         "1",
         "1",
         "2",
         "Customer Service - Cloud Video Production",
         "NZ, , Auckland",
         "Success",
         null,
         "90 Seconds, the worlds Cloud Video Production Service.90 Seconds is the worlds Cloud Video Production Service enabling brands and agencies to get high quality online video content shot and produced anywhere in the world. 90 Seconds makes video production fast, affordable, and all managed seamlessly in the cloud from purchase to publish. http://90#URL_fbe6559afac620a3cd2c22281f7b8d0eef56a73e3d9a311e2f1ca13d081dd630#90 Seconds removes the hassle, cost, risk and speed issues of working with regular video production companies by managing every aspect of video projects in a beautiful online experience. With a growing global network of over 2,000 rated video professionals in over 50 countries managed by dedicated production success teams in 5 countries, 90 Seconds provides a 100% success guarantee.90 Seconds has produced almost 4,000 videos in over 30 Countries for over 500 Global brands including some of the worlds largest including Paypal, L’Oreal, Sony and Barclays and has offices in Auckland, London, Sydney, Tokyo and Singapore.http://90#URL_fbe6559afac620a3cd2c22281f7b8d0eef56a73e3d9a311e2f1ca13d081dd630# | http://90#URL_e2ad0bde3f09a0913a486abdbb1e6ac373bb3310f64b1fbcf550049bcba4a17b# | http://90#URL_8c5dd1806f97ab90876d9daebeb430f682dbc87e2f01549b47e96c7bff2ea17e# ",
         "Organised - Focused - Vibrant - Awesome!Do you have a passion for customer service? Slick typing skills? Maybe Account Management? ...And think administration is cooler than a polar bear on a jetski? Then we need to hear you! We are the Cloud Video Production Service and opperating on a glodal level. Yeah, it's pretty cool. Serious about delivering a world class product and excellent customer service.Our rapidly expanding business is looking for a talented Project Manager to manage the successful delivery of video projects, manage client communications and drive the production process. Work with some of the coolest brands on the planet and learn from a global team that are representing NZ is a huge way!We are entering the next growth stage of our business and growing quickly internationally.  Therefore, the position is bursting with opportunity for the right person entering the business at the right time. 90 Seconds, the worlds Cloud Video Production Service - http://90#URL_fbe6559afac620a3cd2c22281f7b8d0eef56a73e3d9a311e2f1ca13d081dd630#90 Seconds is the worlds Cloud Video Production Service enabling brands and agencies to get high quality online video content shot and produced anywhere in the world. Fast, affordable, and all managed seamlessly in the cloud from purchase to publish. 90 Seconds removes the hassle, cost, risk and speed issues of working with regular video production companies by managing every aspect of video projects in a beautiful online experience.  With a growing network of over 2,000 rated video professionals in over 50 countries and dedicated production success teams in 5 countries guaranteeing video project success 100%. It's as easy as commissioning a quick google adwords campaign.90 Seconds has produced almost 4,000 videos in over 30 Countries for over 500 Global brands including some of the worlds largest including Paypal, L'oreal, Sony and Barclays and has offices in Auckland, London, Sydney, Tokyo &amp; Singapore.Our Auckland office is based right in the heart of the Wynyard Quarter Innovation Precinct - GridAKL! ",
         "What we expect from you:Your key responsibility will be to communicate with the client, 90 Seconds team and freelance community throughout the video production process including, shoot planning, securing freelance talent, managing workflow and the online production management system.  The aim is to manage each video project effectively so that we produce great videos that our clients love.Key attributesClient focused - excellent customer service and communication skillsOnline - oustanding computer knowledge and experience using online software and project management toolsOrganised - manage workload and able to multi-task100% attention to detailMotivated - self-starter with a passion for doing excellent work and achieving great resultsAdaptable - show initiative and think on your feet as this is a constantly evolving atmosphereFlexible - fast turnaround work and after hours availabilityEasy going &amp; upbeat - dosen't get bogged down and loves the challengeSense of Humour - have a laugh and know that working in a startup takes guts!Ability to deliver - including meeting project deadlines and budgetAttitude is more important than experience at 90 Seconds, however previous experience in customer service and/or project management is beneficialPlease view our platform / website at #URL_395a8683a907ce95f49a12fb240e6e47ad8d5a4f96d07ebbd869c4dd4dea1826# and get a clear understand about what we do before reaching out.",
         "What you will get from usThrough being part of the 90 Seconds team you will gain:experience working on projects located around the world with an international brandexperience working with a variety of clients and on a large range of projectsopportunity to drive and grow production function and teama positive working environment with a great teamPay$40,000-$55,000Applying for this role with a VIDEOBeing a video business, we understand that one of the quickest ways that we can assess your suitability for this role, and one of the quickest ways that you can apply for it, is for you to submit a 60-90 second long video telling us about yourself, your experience and why you think you would be perfect for the role.  It’s not about being a filmmaker or making a really creative video.  A simple video filmed with a smart phone or web cam will be fine. Please also include where you are based and when you can start.You can upload the video onto YouTube or Vimeo (or similar) as a Draft or Live link.APPLICATIONS DUE by 5pm on Wednesday 18th July 2014 - Once you have a video ready, apply for this role via the following link together with a cover letter and your CV. After we have watched your video and get an idea of your suitability for the role, we will email the shortlisted candidates",
         "0",
         "1",
         "0",
         "Full-time",
         "Not Applicable",
         null,
         "Marketing and Advertising",
         "Customer Service",
         "0"
        ],
        [
         "2",
         "2",
         "3",
         "Commissioning Machinery Assistant (CMA)",
         "US, IA, Wever",
         null,
         null,
         "Valor Services provides Workforce Solutions that meet the needs of companies across the Private Sector, with a special focus on the Oil &amp; Gas Industry. Valor Services will be involved with you throughout every step of the hiring process and remain in contact with you all the way through the final step of signing of the employment contract with your new employer. Valor Services was founded with the vision of employing the unique skills, experiences, and qualities of America’s finest veterans to provide Private Sector companies with precise and concerted value-added services – and America’s finest Veterans with an optimized career opportunity.We are eager to get the word out to veterans that there are ample opportunities for employment in the private sector and that you are the ideal candidates to fill those positions. Valor Services Your Success is Our Mission. ™ ",
         "Our client, located in Houston, is actively seeking an experienced Commissioning Machinery Assistant that possesses strong supervisory skills and has an attention to detail. A strong dedication to safety is a must. The ideal candidate will execute all activities while complying with quality requirements and health, environmental, and safety regulations.",
         "Implement pre-commissioning and commissioning procedures for rotary equipment.Execute all activities with subcontractor’s assigned crew that pertains to the discipline.Ensure effective utilization of commissioning manpower and consumables.Ensure the execution of vendor specialists' field activities with the assigned resources from the sub-contractor per vendor’s representative plans.Carry out equipment inspections with client representatives and ensure proper certification is produced.Prepare forms for all pending tests and submit signed certificates for final hand over to the certification engineer for QA and QC.Coordinate in the field with vendor representatives.Keep records of all activities.Ensure that safety practices are strictly followed during the execution of activities.Report progress and constraints to the mechanical supervisor.Possible authorization by site manager to receive or issue a Permit To Work according to project Permit To Work procedures.Assist supervisor to expedite pending punch-list items in accordance with the commissioning manager’s priorities.Assist supervisor to coordinate and supervise construction-support activities during pre-commissioning and commissioning activities.Company Overview:Our client is a premiere engineering, construction, and procurement company that executes large-scale projects internationally.",
         null,
         "0",
         "1",
         "0",
         null,
         null,
         null,
         null,
         null,
         "0"
        ],
        [
         "3",
         "3",
         "4",
         "Account Executive - Washington DC",
         "US, DC, Washington",
         "Sales",
         null,
         "Our passion for improving quality of life through geography is at the heart of everything we do.  Esri’s geographic information system (GIS) technology inspires and enables governments, universities and businesses worldwide to save money, lives and our environment through a deeper understanding of the changing world around them.Carefully managed growth and zero debt give Esri stability that is uncommon in today's volatile business world.  Privately held, we offer exceptional benefits, competitive salaries, 401(k) and profit-sharing programs, opportunities for personal and professional growth, and much more.",
         "THE COMPANY: ESRI – Environmental Systems Research InstituteOur passion for improving quality of life through geography is at the heart of everything we do.  Esri’s geographic information system (GIS) technology inspires and enables governments, universities and businesses worldwide to save money, lives and our environment through a deeper understanding of the changing world around them.Carefully managed growth and zero debt give Esri stability that is uncommon in today's volatile business world.  Privately held, we offer exceptional benefits, competitive salaries, 401(k) and profit-sharing programs, opportunities for personal and professional growth, and much more.THE OPPORTUNITY: Account ExecutiveAs a member of the Sales Division, you will work collaboratively with an account team in order to sell and promote adoption of Esri’s ArcGIS platform within an organization. As part of an account team, you will be responsible for facilitating the development and execution of a set of strategies for a defined portfolio of accounts. When executing these strategies you will utilize your experience in enterprise sales to help customers leverage geospatial information and technology to achieve their business goals. Specifically…Prospect and develop opportunities to partner with key stakeholders to envision, develop, and implement a location strategy for their organizationClearly articulate the strength and value proposition of the ArcGIS platformDevelop and maintain a healthy pipeline of opportunities for business growthDemonstrate a thoughtful understanding of insightful industry knowledge and how GIS applies to initiatives, trends, and triggersUnderstand the key business drivers within an organization and identify key business stakeholdersUnderstand your customers’ budgeting and acquisition processesSuccessfully execute the account management process including account prioritization, account resourcing, and account planningSuccessfully execute the sales process for all opportunitiesLeverage and lead an account team consisting of sales and other cross-divisional resources to define and execute an account strategyEffectively utilize and leverage the CRM to manage opportunities and drive the buying processPursue professional and personal development to ensure competitive knowledge of the real estate industryLeverage social media to successfully prospect and build a professional networkParticipate in trade shows, workshops, and seminars (as required)Support visual story telling through effective whiteboard sessionsBe resourceful and takes initiative to resolve issues",
         "EDUCATION: Bachelor’s or Master’s in GIS, business administration, or a related field, or equivalent work experience, depending on position levelEXPERIENCE: 5+ years of enterprise sales experience providing platform solutions to businessesDemonstrated experience in managing the sales cycle including prospecting, proposing, and closingAbility to adapt to new technology trends and translate them into solutions that address customer needsDemonstrated experience with strong partnerships and advocacy with customersExcellent presentation, white boarding, and negotiation skills including good listening, probing, and qualification abilitiesExperience executing insight selling methodologiesDemonstrated understanding and mitigation of competitive threatsExcellent written and verbal communication and interpersonal skillsAbility to manage and prioritize your activitiesDemonstrated experience to lead executive engagements to provide services and sell to the real estate industryKnowledge of the real estate industry fiscal year, budgeting, and procurement cycleHighly motivated team player with a mature, positive attitude and passion to meet the challenges and opportunities of a businessAbility to travel domestically and/or internationally up to 50%General knowledge of spatial analysis and problem solvingResults oriented; ability to write and craft smart, attainable, realistic, time-driven goals with clear lead indicators",
         "Our culture is anything but corporate—we have a collaborative, creative environment; phone directories organized by first name; a relaxed dress code; and open-door policies.A Place to ThrivePassionate people who strive to make a differenceCasual dress codeFlexible work schedulesSupport for continuing educationCollege-Like CampusA network of buildings amid lush landscaping and numerous outdoor patio areasOn-site café including a Starbucks coffee bar and lounge areaFitness center available 24/7Comprehensive reference library and GIS bibliographyState-of-the-art conference center to host staff and guest speakers Green InitiativesSolar rooftop panels reduce carbon emissionsElectric vehicles provide on-campus transportationHundreds of trees reduce the cost of cooling buildings",
         "0",
         "1",
         "0",
         "Full-time",
         "Mid-Senior level",
         "Bachelor's Degree",
         "Computer Software",
         "Sales",
         "0"
        ],
        [
         "4",
         "4",
         "5",
         "Bill Review Manager",
         "US, FL, Fort Worth",
         null,
         null,
         "SpotSource Solutions LLC is a Global Human Capital Management Consulting firm headquartered in Miami, Florida. Founded in January 2012, SpotSource has created a fusion of innovative service offerings to meet the increasing demand of today’s economy. We specialize in Talent Acquisition, Staffing, and Executive Search Services across various functions and in specific industries. Global Talent Transfusion (GTT) services utilize best in practice qualification standards to deliver talent in temporary, temporary-to-hire, and permanent basis. Health Career Transition (HCT) is a subsidiary of Global Talent Transfusion and offers placement services specifically in the growing Healthcare arena. SpotSource Executive Search (SES) Consultants are special breed talent evangelists that understand how to advise and streamline the human resources process in the direction your organization requires for long term sustainability and success. Succession Planning. Leadership Development Programs. Compensation Analysis. Recruitment Process Outsourcing. All customized to best suit the needs of your business. We understand the demand for cost-effective solutions for your organization. Are you seeking a potential career transition and interested in discussing the current hiring trends and open positions? Vital Career Consulting (VCC) offers career transitional services catered specifically for the job applicant, including Resume Construction, Social Media Optimization, and Interview Coaching.Address:4100 N Powerline Rd. Ste Z3Pompano Beach FL 33073Office: #PHONE_c90b6ca89acd18d9e31ea3590b4ad76605721bc372025598fe9e1e60cf428551#",
         "JOB TITLE: Itemization Review ManagerLOCATION: Fort Worth, TX                                                           DEPARTMENT: Itemization ReviewREPORTS TO: VP Operations                            GENERAL DESCRIPTION:Responsible for the overall aspects of Itemization Review operations: Personnel Hiring, Quality Control of Process, Workflow, monitoring the tracking of and accountability of staff regarding production standards and department expectations.DUTIES AND RESPONSIBILITIES:Oversee company’s Itemization Review department in its operationsResponsible for encouraging and reinforcing company cultureDevelops processes to better department and implements new procedures/protocols Works with Customer Service on elevated issues and provider callsImplements and Audits policy in conjunction with Policy and Payment Integrity department Monitoring quality/and quality control of results for department Responsible for ensuring overall metrics are in compliance with management and client expectationsResponsible for human resources matters directly related to department supervised (i.e. Interviewing, Hiring, Training, annual evaluations, electronic time cards, and addressing personnel issues)May create/review daily, weekly, monthly reports, invoices, logs and expensesAdditional duties/responsibilities as assigned Comply with all safety rules/regulations, in conjunction with the Injury and Illness Prevention Program (“IIPP”), as well as, maintain HIPAA complianceOccasional interaction with customers ",
         "QUALIFICATIONS:RN license in the State of TexasDiploma or Bachelors of Science in Nursing, requiredPast managerial experience, preferred6 + years’ experience as OR NurseExperience with facility bills helpfulStrong knowledge of ICD9/CPTKnowledge of Fee Schedules, Rules and R&amp;C GuidelinesMust be able to remain poised in stressful situationsHighly Motivated, Self-StarterExceptional organizational skillsAbility to handle deadlines and proactively problem solveEffective and professional communication skillsAbility to meet or exceed Performance CompetenciesDemonstrated outstanding leadership, problem solving, and analytical skillsAbility to think and work independently, while working in an overall team environmentProficient in Microsoft Office Suite",
         "Full Benefits Offered",
         "0",
         "1",
         "1",
         "Full-time",
         "Mid-Senior level",
         "Bachelor's Degree",
         "Hospital & Health Care",
         "Health Care Provider",
         "0"
        ]
       ],
       "shape": {
        "columns": 19,
        "rows": 5
       }
      },
      "text/html": [
       "<div>\n",
       "<style scoped>\n",
       "    .dataframe tbody tr th:only-of-type {\n",
       "        vertical-align: middle;\n",
       "    }\n",
       "\n",
       "    .dataframe tbody tr th {\n",
       "        vertical-align: top;\n",
       "    }\n",
       "\n",
       "    .dataframe thead th {\n",
       "        text-align: right;\n",
       "    }\n",
       "</style>\n",
       "<table border=\"1\" class=\"dataframe\">\n",
       "  <thead>\n",
       "    <tr style=\"text-align: right;\">\n",
       "      <th></th>\n",
       "      <th>Unnamed: 0</th>\n",
       "      <th>job_id</th>\n",
       "      <th>title</th>\n",
       "      <th>location</th>\n",
       "      <th>department</th>\n",
       "      <th>salary_range</th>\n",
       "      <th>company_profile</th>\n",
       "      <th>description</th>\n",
       "      <th>requirements</th>\n",
       "      <th>benefits</th>\n",
       "      <th>telecommuting</th>\n",
       "      <th>has_company_logo</th>\n",
       "      <th>has_questions</th>\n",
       "      <th>employment_type</th>\n",
       "      <th>required_experience</th>\n",
       "      <th>required_education</th>\n",
       "      <th>industry</th>\n",
       "      <th>function</th>\n",
       "      <th>fraudulent</th>\n",
       "    </tr>\n",
       "  </thead>\n",
       "  <tbody>\n",
       "    <tr>\n",
       "      <th>0</th>\n",
       "      <td>0</td>\n",
       "      <td>1</td>\n",
       "      <td>Marketing Intern</td>\n",
       "      <td>US, NY, New York</td>\n",
       "      <td>Marketing</td>\n",
       "      <td>NaN</td>\n",
       "      <td>We're Food52, and we've created a groundbreaki...</td>\n",
       "      <td>Food52, a fast-growing, James Beard Award-winn...</td>\n",
       "      <td>Experience with content management systems a m...</td>\n",
       "      <td>NaN</td>\n",
       "      <td>0</td>\n",
       "      <td>1</td>\n",
       "      <td>0</td>\n",
       "      <td>Other</td>\n",
       "      <td>Internship</td>\n",
       "      <td>NaN</td>\n",
       "      <td>NaN</td>\n",
       "      <td>Marketing</td>\n",
       "      <td>0</td>\n",
       "    </tr>\n",
       "    <tr>\n",
       "      <th>1</th>\n",
       "      <td>1</td>\n",
       "      <td>2</td>\n",
       "      <td>Customer Service - Cloud Video Production</td>\n",
       "      <td>NZ, , Auckland</td>\n",
       "      <td>Success</td>\n",
       "      <td>NaN</td>\n",
       "      <td>90 Seconds, the worlds Cloud Video Production ...</td>\n",
       "      <td>Organised - Focused - Vibrant - Awesome!Do you...</td>\n",
       "      <td>What we expect from you:Your key responsibilit...</td>\n",
       "      <td>What you will get from usThrough being part of...</td>\n",
       "      <td>0</td>\n",
       "      <td>1</td>\n",
       "      <td>0</td>\n",
       "      <td>Full-time</td>\n",
       "      <td>Not Applicable</td>\n",
       "      <td>NaN</td>\n",
       "      <td>Marketing and Advertising</td>\n",
       "      <td>Customer Service</td>\n",
       "      <td>0</td>\n",
       "    </tr>\n",
       "    <tr>\n",
       "      <th>2</th>\n",
       "      <td>2</td>\n",
       "      <td>3</td>\n",
       "      <td>Commissioning Machinery Assistant (CMA)</td>\n",
       "      <td>US, IA, Wever</td>\n",
       "      <td>NaN</td>\n",
       "      <td>NaN</td>\n",
       "      <td>Valor Services provides Workforce Solutions th...</td>\n",
       "      <td>Our client, located in Houston, is actively se...</td>\n",
       "      <td>Implement pre-commissioning and commissioning ...</td>\n",
       "      <td>NaN</td>\n",
       "      <td>0</td>\n",
       "      <td>1</td>\n",
       "      <td>0</td>\n",
       "      <td>NaN</td>\n",
       "      <td>NaN</td>\n",
       "      <td>NaN</td>\n",
       "      <td>NaN</td>\n",
       "      <td>NaN</td>\n",
       "      <td>0</td>\n",
       "    </tr>\n",
       "    <tr>\n",
       "      <th>3</th>\n",
       "      <td>3</td>\n",
       "      <td>4</td>\n",
       "      <td>Account Executive - Washington DC</td>\n",
       "      <td>US, DC, Washington</td>\n",
       "      <td>Sales</td>\n",
       "      <td>NaN</td>\n",
       "      <td>Our passion for improving quality of life thro...</td>\n",
       "      <td>THE COMPANY: ESRI – Environmental Systems Rese...</td>\n",
       "      <td>EDUCATION: Bachelor’s or Master’s in GIS, busi...</td>\n",
       "      <td>Our culture is anything but corporate—we have ...</td>\n",
       "      <td>0</td>\n",
       "      <td>1</td>\n",
       "      <td>0</td>\n",
       "      <td>Full-time</td>\n",
       "      <td>Mid-Senior level</td>\n",
       "      <td>Bachelor's Degree</td>\n",
       "      <td>Computer Software</td>\n",
       "      <td>Sales</td>\n",
       "      <td>0</td>\n",
       "    </tr>\n",
       "    <tr>\n",
       "      <th>4</th>\n",
       "      <td>4</td>\n",
       "      <td>5</td>\n",
       "      <td>Bill Review Manager</td>\n",
       "      <td>US, FL, Fort Worth</td>\n",
       "      <td>NaN</td>\n",
       "      <td>NaN</td>\n",
       "      <td>SpotSource Solutions LLC is a Global Human Cap...</td>\n",
       "      <td>JOB TITLE: Itemization Review ManagerLOCATION:...</td>\n",
       "      <td>QUALIFICATIONS:RN license in the State of Texa...</td>\n",
       "      <td>Full Benefits Offered</td>\n",
       "      <td>0</td>\n",
       "      <td>1</td>\n",
       "      <td>1</td>\n",
       "      <td>Full-time</td>\n",
       "      <td>Mid-Senior level</td>\n",
       "      <td>Bachelor's Degree</td>\n",
       "      <td>Hospital &amp; Health Care</td>\n",
       "      <td>Health Care Provider</td>\n",
       "      <td>0</td>\n",
       "    </tr>\n",
       "  </tbody>\n",
       "</table>\n",
       "</div>"
      ],
      "text/plain": [
       "   Unnamed: 0  job_id                                      title  \\\n",
       "0           0       1                           Marketing Intern   \n",
       "1           1       2  Customer Service - Cloud Video Production   \n",
       "2           2       3    Commissioning Machinery Assistant (CMA)   \n",
       "3           3       4          Account Executive - Washington DC   \n",
       "4           4       5                        Bill Review Manager   \n",
       "\n",
       "             location department salary_range  \\\n",
       "0    US, NY, New York  Marketing          NaN   \n",
       "1      NZ, , Auckland    Success          NaN   \n",
       "2       US, IA, Wever        NaN          NaN   \n",
       "3  US, DC, Washington      Sales          NaN   \n",
       "4  US, FL, Fort Worth        NaN          NaN   \n",
       "\n",
       "                                     company_profile  \\\n",
       "0  We're Food52, and we've created a groundbreaki...   \n",
       "1  90 Seconds, the worlds Cloud Video Production ...   \n",
       "2  Valor Services provides Workforce Solutions th...   \n",
       "3  Our passion for improving quality of life thro...   \n",
       "4  SpotSource Solutions LLC is a Global Human Cap...   \n",
       "\n",
       "                                         description  \\\n",
       "0  Food52, a fast-growing, James Beard Award-winn...   \n",
       "1  Organised - Focused - Vibrant - Awesome!Do you...   \n",
       "2  Our client, located in Houston, is actively se...   \n",
       "3  THE COMPANY: ESRI – Environmental Systems Rese...   \n",
       "4  JOB TITLE: Itemization Review ManagerLOCATION:...   \n",
       "\n",
       "                                        requirements  \\\n",
       "0  Experience with content management systems a m...   \n",
       "1  What we expect from you:Your key responsibilit...   \n",
       "2  Implement pre-commissioning and commissioning ...   \n",
       "3  EDUCATION: Bachelor’s or Master’s in GIS, busi...   \n",
       "4  QUALIFICATIONS:RN license in the State of Texa...   \n",
       "\n",
       "                                            benefits  telecommuting  \\\n",
       "0                                                NaN              0   \n",
       "1  What you will get from usThrough being part of...              0   \n",
       "2                                                NaN              0   \n",
       "3  Our culture is anything but corporate—we have ...              0   \n",
       "4                              Full Benefits Offered              0   \n",
       "\n",
       "   has_company_logo  has_questions employment_type required_experience  \\\n",
       "0                 1              0           Other          Internship   \n",
       "1                 1              0       Full-time      Not Applicable   \n",
       "2                 1              0             NaN                 NaN   \n",
       "3                 1              0       Full-time    Mid-Senior level   \n",
       "4                 1              1       Full-time    Mid-Senior level   \n",
       "\n",
       "  required_education                   industry              function  \\\n",
       "0                NaN                        NaN             Marketing   \n",
       "1                NaN  Marketing and Advertising      Customer Service   \n",
       "2                NaN                        NaN                   NaN   \n",
       "3  Bachelor's Degree          Computer Software                 Sales   \n",
       "4  Bachelor's Degree     Hospital & Health Care  Health Care Provider   \n",
       "\n",
       "   fraudulent  \n",
       "0           0  \n",
       "1           0  \n",
       "2           0  \n",
       "3           0  \n",
       "4           0  "
      ]
     },
     "execution_count": 3,
     "metadata": {},
     "output_type": "execute_result"
    }
   ],
   "source": [
    "df.head()"
   ]
  },
  {
   "cell_type": "code",
   "execution_count": 4,
   "id": "686191cd",
   "metadata": {},
   "outputs": [
    {
     "name": "stdout",
     "output_type": "stream",
     "text": [
      "<class 'pandas.core.frame.DataFrame'>\n",
      "RangeIndex: 1001 entries, 0 to 1000\n",
      "Data columns (total 19 columns):\n",
      " #   Column               Non-Null Count  Dtype \n",
      "---  ------               --------------  ----- \n",
      " 0   Unnamed: 0           1001 non-null   int64 \n",
      " 1   job_id               1001 non-null   int64 \n",
      " 2   title                1001 non-null   object\n",
      " 3   location             985 non-null    object\n",
      " 4   department           317 non-null    object\n",
      " 5   salary_range         171 non-null    object\n",
      " 6   company_profile      840 non-null    object\n",
      " 7   description          1001 non-null   object\n",
      " 8   requirements         856 non-null    object\n",
      " 9   benefits             596 non-null    object\n",
      " 10  telecommuting        1001 non-null   int64 \n",
      " 11  has_company_logo     1001 non-null   int64 \n",
      " 12  has_questions        1001 non-null   int64 \n",
      " 13  employment_type      859 non-null    object\n",
      " 14  required_experience  633 non-null    object\n",
      " 15  required_education   648 non-null    object\n",
      " 16  industry             781 non-null    object\n",
      " 17  function             667 non-null    object\n",
      " 18  fraudulent           1001 non-null   int64 \n",
      "dtypes: int64(6), object(13)\n",
      "memory usage: 148.7+ KB\n"
     ]
    }
   ],
   "source": [
    "df.info()"
   ]
  },
  {
   "cell_type": "code",
   "execution_count": 5,
   "id": "dbb43897",
   "metadata": {},
   "outputs": [
    {
     "data": {
      "application/vnd.microsoft.datawrangler.viewer.v0+json": {
       "columns": [
        {
         "name": "index",
         "rawType": "object",
         "type": "string"
        },
        {
         "name": "Unnamed: 0",
         "rawType": "float64",
         "type": "float"
        },
        {
         "name": "job_id",
         "rawType": "float64",
         "type": "float"
        },
        {
         "name": "telecommuting",
         "rawType": "float64",
         "type": "float"
        },
        {
         "name": "has_company_logo",
         "rawType": "float64",
         "type": "float"
        },
        {
         "name": "has_questions",
         "rawType": "float64",
         "type": "float"
        },
        {
         "name": "fraudulent",
         "rawType": "float64",
         "type": "float"
        }
       ],
       "ref": "451b0d61-bbe3-4eb5-bcd7-6dd29857f9f7",
       "rows": [
        [
         "count",
         "1001.0",
         "1001.0",
         "1001.0",
         "1001.0",
         "1001.0",
         "1001.0"
        ],
        [
         "mean",
         "500.0",
         "501.0",
         "0.03296703296703297",
         "0.8221778221778222",
         "0.47152847152847155",
         "0.023976023976023976"
        ],
        [
         "std",
         "289.10811126635656",
         "289.10811126635656",
         "0.17863954744705304",
         "0.38255411688760105",
         "0.49943824587085994",
         "0.15305089161640134"
        ],
        [
         "min",
         "0.0",
         "1.0",
         "0.0",
         "0.0",
         "0.0",
         "0.0"
        ],
        [
         "25%",
         "250.0",
         "251.0",
         "0.0",
         "1.0",
         "0.0",
         "0.0"
        ],
        [
         "50%",
         "500.0",
         "501.0",
         "0.0",
         "1.0",
         "0.0",
         "0.0"
        ],
        [
         "75%",
         "750.0",
         "751.0",
         "0.0",
         "1.0",
         "1.0",
         "0.0"
        ],
        [
         "max",
         "1000.0",
         "1001.0",
         "1.0",
         "1.0",
         "1.0",
         "1.0"
        ]
       ],
       "shape": {
        "columns": 6,
        "rows": 8
       }
      },
      "text/html": [
       "<div>\n",
       "<style scoped>\n",
       "    .dataframe tbody tr th:only-of-type {\n",
       "        vertical-align: middle;\n",
       "    }\n",
       "\n",
       "    .dataframe tbody tr th {\n",
       "        vertical-align: top;\n",
       "    }\n",
       "\n",
       "    .dataframe thead th {\n",
       "        text-align: right;\n",
       "    }\n",
       "</style>\n",
       "<table border=\"1\" class=\"dataframe\">\n",
       "  <thead>\n",
       "    <tr style=\"text-align: right;\">\n",
       "      <th></th>\n",
       "      <th>Unnamed: 0</th>\n",
       "      <th>job_id</th>\n",
       "      <th>telecommuting</th>\n",
       "      <th>has_company_logo</th>\n",
       "      <th>has_questions</th>\n",
       "      <th>fraudulent</th>\n",
       "    </tr>\n",
       "  </thead>\n",
       "  <tbody>\n",
       "    <tr>\n",
       "      <th>count</th>\n",
       "      <td>1001.000000</td>\n",
       "      <td>1001.000000</td>\n",
       "      <td>1001.000000</td>\n",
       "      <td>1001.000000</td>\n",
       "      <td>1001.000000</td>\n",
       "      <td>1001.000000</td>\n",
       "    </tr>\n",
       "    <tr>\n",
       "      <th>mean</th>\n",
       "      <td>500.000000</td>\n",
       "      <td>501.000000</td>\n",
       "      <td>0.032967</td>\n",
       "      <td>0.822178</td>\n",
       "      <td>0.471528</td>\n",
       "      <td>0.023976</td>\n",
       "    </tr>\n",
       "    <tr>\n",
       "      <th>std</th>\n",
       "      <td>289.108111</td>\n",
       "      <td>289.108111</td>\n",
       "      <td>0.178640</td>\n",
       "      <td>0.382554</td>\n",
       "      <td>0.499438</td>\n",
       "      <td>0.153051</td>\n",
       "    </tr>\n",
       "    <tr>\n",
       "      <th>min</th>\n",
       "      <td>0.000000</td>\n",
       "      <td>1.000000</td>\n",
       "      <td>0.000000</td>\n",
       "      <td>0.000000</td>\n",
       "      <td>0.000000</td>\n",
       "      <td>0.000000</td>\n",
       "    </tr>\n",
       "    <tr>\n",
       "      <th>25%</th>\n",
       "      <td>250.000000</td>\n",
       "      <td>251.000000</td>\n",
       "      <td>0.000000</td>\n",
       "      <td>1.000000</td>\n",
       "      <td>0.000000</td>\n",
       "      <td>0.000000</td>\n",
       "    </tr>\n",
       "    <tr>\n",
       "      <th>50%</th>\n",
       "      <td>500.000000</td>\n",
       "      <td>501.000000</td>\n",
       "      <td>0.000000</td>\n",
       "      <td>1.000000</td>\n",
       "      <td>0.000000</td>\n",
       "      <td>0.000000</td>\n",
       "    </tr>\n",
       "    <tr>\n",
       "      <th>75%</th>\n",
       "      <td>750.000000</td>\n",
       "      <td>751.000000</td>\n",
       "      <td>0.000000</td>\n",
       "      <td>1.000000</td>\n",
       "      <td>1.000000</td>\n",
       "      <td>0.000000</td>\n",
       "    </tr>\n",
       "    <tr>\n",
       "      <th>max</th>\n",
       "      <td>1000.000000</td>\n",
       "      <td>1001.000000</td>\n",
       "      <td>1.000000</td>\n",
       "      <td>1.000000</td>\n",
       "      <td>1.000000</td>\n",
       "      <td>1.000000</td>\n",
       "    </tr>\n",
       "  </tbody>\n",
       "</table>\n",
       "</div>"
      ],
      "text/plain": [
       "        Unnamed: 0       job_id  telecommuting  has_company_logo  \\\n",
       "count  1001.000000  1001.000000    1001.000000       1001.000000   \n",
       "mean    500.000000   501.000000       0.032967          0.822178   \n",
       "std     289.108111   289.108111       0.178640          0.382554   \n",
       "min       0.000000     1.000000       0.000000          0.000000   \n",
       "25%     250.000000   251.000000       0.000000          1.000000   \n",
       "50%     500.000000   501.000000       0.000000          1.000000   \n",
       "75%     750.000000   751.000000       0.000000          1.000000   \n",
       "max    1000.000000  1001.000000       1.000000          1.000000   \n",
       "\n",
       "       has_questions   fraudulent  \n",
       "count    1001.000000  1001.000000  \n",
       "mean        0.471528     0.023976  \n",
       "std         0.499438     0.153051  \n",
       "min         0.000000     0.000000  \n",
       "25%         0.000000     0.000000  \n",
       "50%         0.000000     0.000000  \n",
       "75%         1.000000     0.000000  \n",
       "max         1.000000     1.000000  "
      ]
     },
     "execution_count": 5,
     "metadata": {},
     "output_type": "execute_result"
    }
   ],
   "source": [
    "df.describe()"
   ]
  },
  {
   "cell_type": "code",
   "execution_count": 6,
   "id": "ca9f6d3e",
   "metadata": {},
   "outputs": [
    {
     "data": {
      "application/vnd.microsoft.datawrangler.viewer.v0+json": {
       "columns": [
        {
         "name": "index",
         "rawType": "object",
         "type": "string"
        },
        {
         "name": "0",
         "rawType": "int64",
         "type": "integer"
        }
       ],
       "ref": "7fa44ebb-09fb-44c2-b21f-2c2ad64e9b48",
       "rows": [
        [
         "Unnamed: 0",
         "1001"
        ],
        [
         "job_id",
         "1001"
        ],
        [
         "title",
         "1001"
        ],
        [
         "location",
         "985"
        ],
        [
         "department",
         "317"
        ],
        [
         "salary_range",
         "171"
        ],
        [
         "company_profile",
         "840"
        ],
        [
         "description",
         "1001"
        ],
        [
         "requirements",
         "856"
        ],
        [
         "benefits",
         "596"
        ],
        [
         "telecommuting",
         "1001"
        ],
        [
         "has_company_logo",
         "1001"
        ],
        [
         "has_questions",
         "1001"
        ],
        [
         "employment_type",
         "859"
        ],
        [
         "required_experience",
         "633"
        ],
        [
         "required_education",
         "648"
        ],
        [
         "industry",
         "781"
        ],
        [
         "function",
         "667"
        ],
        [
         "fraudulent",
         "1001"
        ]
       ],
       "shape": {
        "columns": 1,
        "rows": 19
       }
      },
      "text/plain": [
       "Unnamed: 0             1001\n",
       "job_id                 1001\n",
       "title                  1001\n",
       "location                985\n",
       "department              317\n",
       "salary_range            171\n",
       "company_profile         840\n",
       "description            1001\n",
       "requirements            856\n",
       "benefits                596\n",
       "telecommuting          1001\n",
       "has_company_logo       1001\n",
       "has_questions          1001\n",
       "employment_type         859\n",
       "required_experience     633\n",
       "required_education      648\n",
       "industry                781\n",
       "function                667\n",
       "fraudulent             1001\n",
       "dtype: int64"
      ]
     },
     "execution_count": 6,
     "metadata": {},
     "output_type": "execute_result"
    }
   ],
   "source": [
    "df.count()"
   ]
  },
  {
   "cell_type": "code",
   "execution_count": 7,
   "id": "356e8674",
   "metadata": {},
   "outputs": [
    {
     "data": {
      "application/vnd.microsoft.datawrangler.viewer.v0+json": {
       "columns": [
        {
         "name": "index",
         "rawType": "object",
         "type": "string"
        },
        {
         "name": "0",
         "rawType": "int64",
         "type": "integer"
        }
       ],
       "ref": "ae5e4003-de9d-4862-8f20-b6efe4e5e13a",
       "rows": [
        [
         "Unnamed: 0",
         "0"
        ],
        [
         "job_id",
         "0"
        ],
        [
         "title",
         "0"
        ],
        [
         "location",
         "16"
        ],
        [
         "department",
         "684"
        ],
        [
         "salary_range",
         "830"
        ],
        [
         "company_profile",
         "161"
        ],
        [
         "description",
         "0"
        ],
        [
         "requirements",
         "145"
        ],
        [
         "benefits",
         "405"
        ],
        [
         "telecommuting",
         "0"
        ],
        [
         "has_company_logo",
         "0"
        ],
        [
         "has_questions",
         "0"
        ],
        [
         "employment_type",
         "142"
        ],
        [
         "required_experience",
         "368"
        ],
        [
         "required_education",
         "353"
        ],
        [
         "industry",
         "220"
        ],
        [
         "function",
         "334"
        ],
        [
         "fraudulent",
         "0"
        ]
       ],
       "shape": {
        "columns": 1,
        "rows": 19
       }
      },
      "text/plain": [
       "Unnamed: 0               0\n",
       "job_id                   0\n",
       "title                    0\n",
       "location                16\n",
       "department             684\n",
       "salary_range           830\n",
       "company_profile        161\n",
       "description              0\n",
       "requirements           145\n",
       "benefits               405\n",
       "telecommuting            0\n",
       "has_company_logo         0\n",
       "has_questions            0\n",
       "employment_type        142\n",
       "required_experience    368\n",
       "required_education     353\n",
       "industry               220\n",
       "function               334\n",
       "fraudulent               0\n",
       "dtype: int64"
      ]
     },
     "execution_count": 7,
     "metadata": {},
     "output_type": "execute_result"
    }
   ],
   "source": [
    "df.isnull().sum()"
   ]
  },
  {
   "cell_type": "code",
   "execution_count": 8,
   "id": "69b5a47e",
   "metadata": {},
   "outputs": [
    {
     "data": {
      "text/plain": [
       "np.int64(0)"
      ]
     },
     "execution_count": 8,
     "metadata": {},
     "output_type": "execute_result"
    }
   ],
   "source": [
    "df.duplicated().sum()   "
   ]
  },
  {
   "cell_type": "code",
   "execution_count": 9,
   "id": "2662cb08",
   "metadata": {},
   "outputs": [
    {
     "data": {
      "text/plain": [
       "(1001, 19)"
      ]
     },
     "execution_count": 9,
     "metadata": {},
     "output_type": "execute_result"
    }
   ],
   "source": [
    "df.shape"
   ]
  },
  {
   "cell_type": "code",
   "execution_count": 10,
   "id": "71bef999",
   "metadata": {},
   "outputs": [
    {
     "name": "stdout",
     "output_type": "stream",
     "text": [
      "['Unnamed: 0', 'job_id', 'title', 'location', 'department', 'salary_range', 'company_profile', 'description', 'requirements', 'benefits', 'telecommuting', 'has_company_logo', 'has_questions', 'employment_type', 'required_experience', 'required_education', 'industry', 'function', 'fraudulent']\n"
     ]
    }
   ],
   "source": [
    "nama_kolom = df.columns.tolist()\n",
    "print(nama_kolom)"
   ]
  },
  {
   "cell_type": "code",
   "execution_count": 11,
   "id": "3b5545eb",
   "metadata": {},
   "outputs": [
    {
     "data": {
      "application/vnd.microsoft.datawrangler.viewer.v0+json": {
       "columns": [
        {
         "name": "index",
         "rawType": "int64",
         "type": "integer"
        },
        {
         "name": "Unnamed: 0",
         "rawType": "int64",
         "type": "integer"
        },
        {
         "name": "job_id",
         "rawType": "int64",
         "type": "integer"
        },
        {
         "name": "title",
         "rawType": "object",
         "type": "string"
        },
        {
         "name": "location",
         "rawType": "object",
         "type": "unknown"
        },
        {
         "name": "department",
         "rawType": "object",
         "type": "unknown"
        },
        {
         "name": "salary_range",
         "rawType": "object",
         "type": "unknown"
        },
        {
         "name": "company_profile",
         "rawType": "object",
         "type": "unknown"
        },
        {
         "name": "description",
         "rawType": "object",
         "type": "string"
        },
        {
         "name": "requirements",
         "rawType": "object",
         "type": "unknown"
        },
        {
         "name": "benefits",
         "rawType": "object",
         "type": "unknown"
        },
        {
         "name": "telecommuting",
         "rawType": "int64",
         "type": "integer"
        },
        {
         "name": "has_company_logo",
         "rawType": "int64",
         "type": "integer"
        },
        {
         "name": "has_questions",
         "rawType": "int64",
         "type": "integer"
        },
        {
         "name": "employment_type",
         "rawType": "object",
         "type": "unknown"
        },
        {
         "name": "required_experience",
         "rawType": "object",
         "type": "unknown"
        },
        {
         "name": "required_education",
         "rawType": "object",
         "type": "unknown"
        },
        {
         "name": "industry",
         "rawType": "object",
         "type": "unknown"
        },
        {
         "name": "function",
         "rawType": "object",
         "type": "unknown"
        },
        {
         "name": "fraudulent",
         "rawType": "int64",
         "type": "integer"
        }
       ],
       "ref": "b5b01c92-699a-4c3f-a5ca-961fedcf979f",
       "rows": [
        [
         "0",
         "0",
         "1",
         "Marketing Intern",
         "US, NY, New York",
         "Marketing",
         null,
         "We're Food52, and we've created a groundbreaking and award-winning cooking site. We support, connect, and celebrate home cooks, and give them everything they need in one place.We have a top editorial, business, and engineering team. We're focused on using technology to find new and better ways to connect people around their specific food interests, and to offer them superb, highly curated information about food and cooking. We attract the most talented home cooks and contributors in the country; we also publish well-known professionals like Mario Batali, Gwyneth Paltrow, and Danny Meyer. And we have partnerships with Whole Foods Market and Random House.Food52 has been named the best food website by the James Beard Foundation and IACP, and has been featured in the New York Times, NPR, Pando Daily, TechCrunch, and on the Today Show.We're located in Chelsea, in New York City.",
         "Food52, a fast-growing, James Beard Award-winning online food community and crowd-sourced and curated recipe hub, is currently interviewing full- and part-time unpaid interns to work in a small team of editors, executives, and developers in its New York City headquarters.Reproducing and/or repackaging existing Food52 content for a number of partner sites, such as Huffington Post, Yahoo, Buzzfeed, and more in their various content management systemsResearching blogs and websites for the Provisions by Food52 Affiliate ProgramAssisting in day-to-day affiliate program support, such as screening affiliates and assisting in any affiliate inquiriesSupporting with PR &amp; Events when neededHelping with office administrative work, such as filing, mailing, and preparing for meetingsWorking with developers to document bugs and suggest improvements to the siteSupporting the marketing and executive staff",
         "Experience with content management systems a major plus (any blogging counts!)Familiar with the Food52 editorial voice and aestheticLoves food, appreciates the importance of home cooking and cooking with the seasonsMeticulous editor, perfectionist, obsessive attention to detail, maddened by typos and broken links, delighted by finding and fixing themCheerful under pressureExcellent communication skillsA+ multi-tasker and juggler of responsibilities big and smallInterested in and engaged with social media like Twitter, Facebook, and PinterestLoves problem-solving and collaborating to drive Food52 forwardThinks big picture but pitches in on the nitty gritty of running a small company (dishes, shopping, administrative support)Comfortable with the realities of working for a startup: being on call on evenings and weekends, and working long hours",
         null,
         "0",
         "1",
         "0",
         "Other",
         "Internship",
         null,
         null,
         "Marketing",
         "0"
        ],
        [
         "1",
         "1",
         "2",
         "Customer Service - Cloud Video Production",
         "NZ, , Auckland",
         "Success",
         null,
         "90 Seconds, the worlds Cloud Video Production Service.90 Seconds is the worlds Cloud Video Production Service enabling brands and agencies to get high quality online video content shot and produced anywhere in the world. 90 Seconds makes video production fast, affordable, and all managed seamlessly in the cloud from purchase to publish. http://90#URL_fbe6559afac620a3cd2c22281f7b8d0eef56a73e3d9a311e2f1ca13d081dd630#90 Seconds removes the hassle, cost, risk and speed issues of working with regular video production companies by managing every aspect of video projects in a beautiful online experience. With a growing global network of over 2,000 rated video professionals in over 50 countries managed by dedicated production success teams in 5 countries, 90 Seconds provides a 100% success guarantee.90 Seconds has produced almost 4,000 videos in over 30 Countries for over 500 Global brands including some of the worlds largest including Paypal, L’Oreal, Sony and Barclays and has offices in Auckland, London, Sydney, Tokyo and Singapore.http://90#URL_fbe6559afac620a3cd2c22281f7b8d0eef56a73e3d9a311e2f1ca13d081dd630# | http://90#URL_e2ad0bde3f09a0913a486abdbb1e6ac373bb3310f64b1fbcf550049bcba4a17b# | http://90#URL_8c5dd1806f97ab90876d9daebeb430f682dbc87e2f01549b47e96c7bff2ea17e# ",
         "Organised - Focused - Vibrant - Awesome!Do you have a passion for customer service? Slick typing skills? Maybe Account Management? ...And think administration is cooler than a polar bear on a jetski? Then we need to hear you! We are the Cloud Video Production Service and opperating on a glodal level. Yeah, it's pretty cool. Serious about delivering a world class product and excellent customer service.Our rapidly expanding business is looking for a talented Project Manager to manage the successful delivery of video projects, manage client communications and drive the production process. Work with some of the coolest brands on the planet and learn from a global team that are representing NZ is a huge way!We are entering the next growth stage of our business and growing quickly internationally.  Therefore, the position is bursting with opportunity for the right person entering the business at the right time. 90 Seconds, the worlds Cloud Video Production Service - http://90#URL_fbe6559afac620a3cd2c22281f7b8d0eef56a73e3d9a311e2f1ca13d081dd630#90 Seconds is the worlds Cloud Video Production Service enabling brands and agencies to get high quality online video content shot and produced anywhere in the world. Fast, affordable, and all managed seamlessly in the cloud from purchase to publish. 90 Seconds removes the hassle, cost, risk and speed issues of working with regular video production companies by managing every aspect of video projects in a beautiful online experience.  With a growing network of over 2,000 rated video professionals in over 50 countries and dedicated production success teams in 5 countries guaranteeing video project success 100%. It's as easy as commissioning a quick google adwords campaign.90 Seconds has produced almost 4,000 videos in over 30 Countries for over 500 Global brands including some of the worlds largest including Paypal, L'oreal, Sony and Barclays and has offices in Auckland, London, Sydney, Tokyo &amp; Singapore.Our Auckland office is based right in the heart of the Wynyard Quarter Innovation Precinct - GridAKL! ",
         "What we expect from you:Your key responsibility will be to communicate with the client, 90 Seconds team and freelance community throughout the video production process including, shoot planning, securing freelance talent, managing workflow and the online production management system.  The aim is to manage each video project effectively so that we produce great videos that our clients love.Key attributesClient focused - excellent customer service and communication skillsOnline - oustanding computer knowledge and experience using online software and project management toolsOrganised - manage workload and able to multi-task100% attention to detailMotivated - self-starter with a passion for doing excellent work and achieving great resultsAdaptable - show initiative and think on your feet as this is a constantly evolving atmosphereFlexible - fast turnaround work and after hours availabilityEasy going &amp; upbeat - dosen't get bogged down and loves the challengeSense of Humour - have a laugh and know that working in a startup takes guts!Ability to deliver - including meeting project deadlines and budgetAttitude is more important than experience at 90 Seconds, however previous experience in customer service and/or project management is beneficialPlease view our platform / website at #URL_395a8683a907ce95f49a12fb240e6e47ad8d5a4f96d07ebbd869c4dd4dea1826# and get a clear understand about what we do before reaching out.",
         "What you will get from usThrough being part of the 90 Seconds team you will gain:experience working on projects located around the world with an international brandexperience working with a variety of clients and on a large range of projectsopportunity to drive and grow production function and teama positive working environment with a great teamPay$40,000-$55,000Applying for this role with a VIDEOBeing a video business, we understand that one of the quickest ways that we can assess your suitability for this role, and one of the quickest ways that you can apply for it, is for you to submit a 60-90 second long video telling us about yourself, your experience and why you think you would be perfect for the role.  It’s not about being a filmmaker or making a really creative video.  A simple video filmed with a smart phone or web cam will be fine. Please also include where you are based and when you can start.You can upload the video onto YouTube or Vimeo (or similar) as a Draft or Live link.APPLICATIONS DUE by 5pm on Wednesday 18th July 2014 - Once you have a video ready, apply for this role via the following link together with a cover letter and your CV. After we have watched your video and get an idea of your suitability for the role, we will email the shortlisted candidates",
         "0",
         "1",
         "0",
         "Full-time",
         "Not Applicable",
         null,
         "Marketing and Advertising",
         "Customer Service",
         "0"
        ],
        [
         "2",
         "2",
         "3",
         "Commissioning Machinery Assistant (CMA)",
         "US, IA, Wever",
         null,
         null,
         "Valor Services provides Workforce Solutions that meet the needs of companies across the Private Sector, with a special focus on the Oil &amp; Gas Industry. Valor Services will be involved with you throughout every step of the hiring process and remain in contact with you all the way through the final step of signing of the employment contract with your new employer. Valor Services was founded with the vision of employing the unique skills, experiences, and qualities of America’s finest veterans to provide Private Sector companies with precise and concerted value-added services – and America’s finest Veterans with an optimized career opportunity.We are eager to get the word out to veterans that there are ample opportunities for employment in the private sector and that you are the ideal candidates to fill those positions. Valor Services Your Success is Our Mission. ™ ",
         "Our client, located in Houston, is actively seeking an experienced Commissioning Machinery Assistant that possesses strong supervisory skills and has an attention to detail. A strong dedication to safety is a must. The ideal candidate will execute all activities while complying with quality requirements and health, environmental, and safety regulations.",
         "Implement pre-commissioning and commissioning procedures for rotary equipment.Execute all activities with subcontractor’s assigned crew that pertains to the discipline.Ensure effective utilization of commissioning manpower and consumables.Ensure the execution of vendor specialists' field activities with the assigned resources from the sub-contractor per vendor’s representative plans.Carry out equipment inspections with client representatives and ensure proper certification is produced.Prepare forms for all pending tests and submit signed certificates for final hand over to the certification engineer for QA and QC.Coordinate in the field with vendor representatives.Keep records of all activities.Ensure that safety practices are strictly followed during the execution of activities.Report progress and constraints to the mechanical supervisor.Possible authorization by site manager to receive or issue a Permit To Work according to project Permit To Work procedures.Assist supervisor to expedite pending punch-list items in accordance with the commissioning manager’s priorities.Assist supervisor to coordinate and supervise construction-support activities during pre-commissioning and commissioning activities.Company Overview:Our client is a premiere engineering, construction, and procurement company that executes large-scale projects internationally.",
         null,
         "0",
         "1",
         "0",
         null,
         null,
         null,
         null,
         null,
         "0"
        ],
        [
         "3",
         "3",
         "4",
         "Account Executive - Washington DC",
         "US, DC, Washington",
         "Sales",
         null,
         "Our passion for improving quality of life through geography is at the heart of everything we do.  Esri’s geographic information system (GIS) technology inspires and enables governments, universities and businesses worldwide to save money, lives and our environment through a deeper understanding of the changing world around them.Carefully managed growth and zero debt give Esri stability that is uncommon in today's volatile business world.  Privately held, we offer exceptional benefits, competitive salaries, 401(k) and profit-sharing programs, opportunities for personal and professional growth, and much more.",
         "THE COMPANY: ESRI – Environmental Systems Research InstituteOur passion for improving quality of life through geography is at the heart of everything we do.  Esri’s geographic information system (GIS) technology inspires and enables governments, universities and businesses worldwide to save money, lives and our environment through a deeper understanding of the changing world around them.Carefully managed growth and zero debt give Esri stability that is uncommon in today's volatile business world.  Privately held, we offer exceptional benefits, competitive salaries, 401(k) and profit-sharing programs, opportunities for personal and professional growth, and much more.THE OPPORTUNITY: Account ExecutiveAs a member of the Sales Division, you will work collaboratively with an account team in order to sell and promote adoption of Esri’s ArcGIS platform within an organization. As part of an account team, you will be responsible for facilitating the development and execution of a set of strategies for a defined portfolio of accounts. When executing these strategies you will utilize your experience in enterprise sales to help customers leverage geospatial information and technology to achieve their business goals. Specifically…Prospect and develop opportunities to partner with key stakeholders to envision, develop, and implement a location strategy for their organizationClearly articulate the strength and value proposition of the ArcGIS platformDevelop and maintain a healthy pipeline of opportunities for business growthDemonstrate a thoughtful understanding of insightful industry knowledge and how GIS applies to initiatives, trends, and triggersUnderstand the key business drivers within an organization and identify key business stakeholdersUnderstand your customers’ budgeting and acquisition processesSuccessfully execute the account management process including account prioritization, account resourcing, and account planningSuccessfully execute the sales process for all opportunitiesLeverage and lead an account team consisting of sales and other cross-divisional resources to define and execute an account strategyEffectively utilize and leverage the CRM to manage opportunities and drive the buying processPursue professional and personal development to ensure competitive knowledge of the real estate industryLeverage social media to successfully prospect and build a professional networkParticipate in trade shows, workshops, and seminars (as required)Support visual story telling through effective whiteboard sessionsBe resourceful and takes initiative to resolve issues",
         "EDUCATION: Bachelor’s or Master’s in GIS, business administration, or a related field, or equivalent work experience, depending on position levelEXPERIENCE: 5+ years of enterprise sales experience providing platform solutions to businessesDemonstrated experience in managing the sales cycle including prospecting, proposing, and closingAbility to adapt to new technology trends and translate them into solutions that address customer needsDemonstrated experience with strong partnerships and advocacy with customersExcellent presentation, white boarding, and negotiation skills including good listening, probing, and qualification abilitiesExperience executing insight selling methodologiesDemonstrated understanding and mitigation of competitive threatsExcellent written and verbal communication and interpersonal skillsAbility to manage and prioritize your activitiesDemonstrated experience to lead executive engagements to provide services and sell to the real estate industryKnowledge of the real estate industry fiscal year, budgeting, and procurement cycleHighly motivated team player with a mature, positive attitude and passion to meet the challenges and opportunities of a businessAbility to travel domestically and/or internationally up to 50%General knowledge of spatial analysis and problem solvingResults oriented; ability to write and craft smart, attainable, realistic, time-driven goals with clear lead indicators",
         "Our culture is anything but corporate—we have a collaborative, creative environment; phone directories organized by first name; a relaxed dress code; and open-door policies.A Place to ThrivePassionate people who strive to make a differenceCasual dress codeFlexible work schedulesSupport for continuing educationCollege-Like CampusA network of buildings amid lush landscaping and numerous outdoor patio areasOn-site café including a Starbucks coffee bar and lounge areaFitness center available 24/7Comprehensive reference library and GIS bibliographyState-of-the-art conference center to host staff and guest speakers Green InitiativesSolar rooftop panels reduce carbon emissionsElectric vehicles provide on-campus transportationHundreds of trees reduce the cost of cooling buildings",
         "0",
         "1",
         "0",
         "Full-time",
         "Mid-Senior level",
         "Bachelor's Degree",
         "Computer Software",
         "Sales",
         "0"
        ],
        [
         "4",
         "4",
         "5",
         "Bill Review Manager",
         "US, FL, Fort Worth",
         null,
         null,
         "SpotSource Solutions LLC is a Global Human Capital Management Consulting firm headquartered in Miami, Florida. Founded in January 2012, SpotSource has created a fusion of innovative service offerings to meet the increasing demand of today’s economy. We specialize in Talent Acquisition, Staffing, and Executive Search Services across various functions and in specific industries. Global Talent Transfusion (GTT) services utilize best in practice qualification standards to deliver talent in temporary, temporary-to-hire, and permanent basis. Health Career Transition (HCT) is a subsidiary of Global Talent Transfusion and offers placement services specifically in the growing Healthcare arena. SpotSource Executive Search (SES) Consultants are special breed talent evangelists that understand how to advise and streamline the human resources process in the direction your organization requires for long term sustainability and success. Succession Planning. Leadership Development Programs. Compensation Analysis. Recruitment Process Outsourcing. All customized to best suit the needs of your business. We understand the demand for cost-effective solutions for your organization. Are you seeking a potential career transition and interested in discussing the current hiring trends and open positions? Vital Career Consulting (VCC) offers career transitional services catered specifically for the job applicant, including Resume Construction, Social Media Optimization, and Interview Coaching.Address:4100 N Powerline Rd. Ste Z3Pompano Beach FL 33073Office: #PHONE_c90b6ca89acd18d9e31ea3590b4ad76605721bc372025598fe9e1e60cf428551#",
         "JOB TITLE: Itemization Review ManagerLOCATION: Fort Worth, TX                                                           DEPARTMENT: Itemization ReviewREPORTS TO: VP Operations                            GENERAL DESCRIPTION:Responsible for the overall aspects of Itemization Review operations: Personnel Hiring, Quality Control of Process, Workflow, monitoring the tracking of and accountability of staff regarding production standards and department expectations.DUTIES AND RESPONSIBILITIES:Oversee company’s Itemization Review department in its operationsResponsible for encouraging and reinforcing company cultureDevelops processes to better department and implements new procedures/protocols Works with Customer Service on elevated issues and provider callsImplements and Audits policy in conjunction with Policy and Payment Integrity department Monitoring quality/and quality control of results for department Responsible for ensuring overall metrics are in compliance with management and client expectationsResponsible for human resources matters directly related to department supervised (i.e. Interviewing, Hiring, Training, annual evaluations, electronic time cards, and addressing personnel issues)May create/review daily, weekly, monthly reports, invoices, logs and expensesAdditional duties/responsibilities as assigned Comply with all safety rules/regulations, in conjunction with the Injury and Illness Prevention Program (“IIPP”), as well as, maintain HIPAA complianceOccasional interaction with customers ",
         "QUALIFICATIONS:RN license in the State of TexasDiploma or Bachelors of Science in Nursing, requiredPast managerial experience, preferred6 + years’ experience as OR NurseExperience with facility bills helpfulStrong knowledge of ICD9/CPTKnowledge of Fee Schedules, Rules and R&amp;C GuidelinesMust be able to remain poised in stressful situationsHighly Motivated, Self-StarterExceptional organizational skillsAbility to handle deadlines and proactively problem solveEffective and professional communication skillsAbility to meet or exceed Performance CompetenciesDemonstrated outstanding leadership, problem solving, and analytical skillsAbility to think and work independently, while working in an overall team environmentProficient in Microsoft Office Suite",
         "Full Benefits Offered",
         "0",
         "1",
         "1",
         "Full-time",
         "Mid-Senior level",
         "Bachelor's Degree",
         "Hospital & Health Care",
         "Health Care Provider",
         "0"
        ],
        [
         "5",
         "5",
         "6",
         "Accounting Clerk",
         "US, MD, ",
         null,
         null,
         null,
         "Job OverviewApex is an environmental consulting firm that offers stable leadership and growth and views employees as valuable resources. We are seeking a self-motivated, multi-faceted Accounts Payable Clerk to join our team in Rockville, MD and become an integral part of our continued success story.  This position entails processing high volume of invoices and working in a fast pace environment; keying and verifying various types of invoices to General Ledger accounts and job numbers submitted by vendors and company personnel; and calculating balance due to vendor by reviewing history of prior payments made to an account. Candidate must be able to answer vendor and personnel inquiries via phone or email. QualificationsThis position requires a high school diploma and 2-5 years of relevant work experience; keen attention to detail; knowledge of commonly-used concepts, practices, and procedures within the accounting field; experience with accounting software; proficiency in MS Office Suite including advanced Excel experience; and a high degree of professionalism.Want to join a team of talented accounting professionals, engineers, and managers? Submit your resume for consideration today!#URL_f030e16ff4531e87a62857357985e3e8f1fdedb40dbfebfeb0e7e3a5ead65097#About ApexApex is a customer-focused company that delivers environmental, health, safety and engineering services to over 700 clients across the United States and abroad. Driven by an entrepreneurial spirit and a dedication to providing responsive, cost-effective solutions, Apex has grown rapidly since our founding in 1988.Working in partnership with our public and private sector clients, our team of experts provides services tailored to support each customer’s unique goals and objectives. By blending strong technical skills, business acumen, and superior customer service, we are able to deliver creative solutions that deliver high quality results at low cost.From commercial and industrial firms to construction, petroleum, and utility companies to financial institutions and government clients, Apex has extensive experience in a wide variety of industries. Our corporate professional resume includes proven capabilities in the areas of water resources, remediation and restoration, assessment and compliance, and industrial hygiene, among others.Ranked in the Top 200 Environmental Firms by ENR Magazine, ranked among the Top 500 Design Firms by ENR Magazine, awarded the 2011 National Environmental Excellence Award for Environmental Stewardship by the National Association of Environmental Professionals, and selected as a 2010 Hot Firm by the Zweig Letter, come join our award winning team.Apex is an entrepreneurial firm, and ensuring that our senior managers are able to move unencumbered is our priority. We are a successful and growing mid-sized firm. We’re small enough that our employees still have access to our leadership, and it’s easy for high-performers to be recognized for their contributions and advance without bureaucracy. With over 30 office locations, we’re big enough to provide comprehensive environmental consulting and engineering services to our diverse client base and to provide resources to our employees to help in their professional development. We offer incentive bonus plans and ownership opportunities for our successful managers.Apex Companies, LLC is an Affirmative Action/Equal Opportunity Employer",
         null,
         null,
         "0",
         "0",
         "0",
         null,
         null,
         null,
         null,
         null,
         "0"
        ],
        [
         "7",
         "7",
         "8",
         "Lead Guest Service Specialist   ",
         "US, CA, San Francisco",
         null,
         null,
         "Airenvy’s mission is to provide lucrative yet hassle free full service short term property management all around the world. We combine the charm of your home with the amenities of a boutique hotel.Currently the short-term rental property management companies are run inefficiently thus having to charge owners 40-50% of monthly revenues. By using our pricing algorithm cross-platform listing technology out goal is to increase your rental income by 20% or more while only charging you a 12%-15% commission for providing a turnkey experience.We like to think Airenvy is creating a new way for people to become excited again about property management and love their property managers.First use case for Airenvy clients are those who want to convert their long-term rental into short-term rental so they can 1) earn more income while having the flexibility of staying in your own place when you want.Airenvy is your friend next door! : ) Our customer video! #URL_e73543fde61f659ae4e25b87c34adb321c37207b4adc143cb6a99351c3ee1cb5#",
         "Who is Airenvy?Hey there! We are seasoned entrepreneurs in the heart of San Francisco’s SOMA neighborhood. We are looking for someone who embodies an entrepreneurial spirit, pays strong attention to detail and wants to be a part of the next big thing. This business can feel like a circus at times, but we have an all-star team with a one of a kind culture.  Get a little taste of it here.Airenvy is the #1 technology driven property management company in a multi-billion dollar industry and is revolutionizing the vacation rental space! We are growing at record speed and expanding to new markets! Our platform allows owners to put their vacation rental on autopilot. We are a proven team of startup veterans and would love for you to join the family!    In 2014 we were named the #1 Airbnb property management company in San Francisco according to the SF Chronicle. We have 18 supportive and resourceful investors, many of whom are leaders in the technology and real estate industries.The PositionWANTED: Ultimate Peace Keeper &amp; Problem SolverAirenvy is growing faster than we can handle, which is why we’re looking for someone to help us scale! We are seeking best-in-class Lead Guest Service Specialist who are passionate about delighting Guests and Owners. You’ll play a direct role in improving the customer experience, scaling the business, and creating powerful brand advocates.ResponsibilitiesService First - Interact with Guests and Owners daily; listen and address inquiries via phone, email, and chat.Leadership - Set the precedent for writing beautiful, helpful emails and getting to inbox-zero. Be the first to answer the phone and the last to give-up on an interesting escalation.Cross Collaboration - Act as the eyes and ears of the Airenvy business. Speak-to bug requests, new features, and influence the product positively.Ultimate Multitasker - You’re able to manage multiple day-to-day gifts at once. You’re able to ensure that each person in contact with Airenvy has a positive experience, even when facing hundreds of emails a day.You?Proven ability to take customers from irate to delightedAble to make decisions quickly; high sense of urgency that spills out to other team membersPassion for delighting people!Thrive under pressure; you’re proactive in recognizing and solving issues before they ariseExcellent written and verbal communication skills -- you spot an error without spell checkFocused on defining and scaling the business thru playbook definition",
         "Experience with CRM software, live chat, and phones, including one year minimum of customer serviceYou heed the call of service and understand that you must have a flexible schedule. This includes being available during early mornings, late evenings, and weekends/holidaysBe super organized and care deeply about the detailsZendesk experience a bonus, but not required",
         "Competitive Pay. You'll be able to eat steak everyday if you choose to.  Health Insurance. We have vitamins and we're all relatively healthy so hopefully you don't need this.Piñata Parties. Yes we dance around with blindfolds on swing sticks.  Why?  Because its awesome!Snacks on Snacks. All the cooool start-ups are doing it.  Karate Lessons. Really its just that in air ninja kicks are encouraged at all times.Free Massages. When we hit a few milestones we'll be buying a massage chair.Discounted Gym Membership. Get swole but not like our last employee.The Best Benefit of All...Being part of an amazing team/family!!!! Click here for some insight as to the Interview Process. ",
         "0",
         "1",
         "1",
         null,
         null,
         null,
         null,
         null,
         "0"
        ],
        [
         "8",
         "8",
         "9",
         "HP BSM SME",
         "US, FL, Pensacola",
         null,
         null,
         "Solutions3 is a woman-owned small business whose focus is IT Service Management using best of breed technology and implementing industry best practices following the ITIL® framework. We work extensively in the areas of planning, design, architecting, assessing, implementing and training on technology solutions.Solutions3 focus areas include: Enterprise Network &amp; Systems Management (architecture and implementation), IT Service Management including the Service Desk and associated process definitions (Incident &amp; Problem Management, Change &amp; Configuration Management, Service Level Management), the Configuration Management Database (CMDB), IT Asset Management, and Alert/Event Management. We focus on best of breed technology and follow industry best practices, including ITIL® and ISO20000.We have a strong focus on training and knowledge transfer associated with our solutions. Many of our resources are course developers and instructors for many of our vendor partners. Our practitioner experience comes into the training environment with us.We have a strong set of core values based on Biblical principles that include great integrity, high ethics and always striving for excellence.  We are always seeking those candidates who want to work for an amazing technology company, make a difference and be a part of something great for the long term.",
         "Implementation/Configuration/Testing/Training on:HP Service Health Reporter",
         "MUST BE A US CITIZEN.An active TS/SCI clearance will be required.Additional Tools:HP BSM Applications: NNM, NA, OMi, OMW, Sitescope, etc… all   beneficialSoft Skill Req's:Leadership, Strong Written &amp; Verbal CommunicationBeneficial:Knowledge and experience with other HP Software tools a big plus.Additional ITIL and IS20K knowledge/experience very helpful",
         null,
         "0",
         "1",
         "1",
         "Full-time",
         "Associate",
         null,
         "Information Technology and Services",
         null,
         "0"
        ],
        [
         "9",
         "9",
         "10",
         "Customer Service Associate - Part Time ",
         "US, AZ, Phoenix",
         null,
         null,
         "Novitex Enterprise Solutions, formerly Pitney Bowes Management Services, delivers innovative document and communications management solutions that help companies around the world drive business process efficiencies, increase productivity, reduce costs and improve customer satisfaction. For almost 30 years, clients have turned to us to integrate and optimize their enterprise-wide business processes to empower employees, increase productivity and maximize results. As a trusted partner, we continually focus on delivering secure, technology-enabled document and communications solutions that improve our clients' work processes, enhance their customer interactions and drive growth.",
         "The Customer Service Associate will be based in Phoenix, AZ. The right candidate will be an integral part of our talented team, supporting our continued growth.Responsibilities:Perform various Mail Center activities (sorting, metering, folding, inserting, delivery, pickup, etc.)Lift heavy boxes, files or paper when neededMaintain the highest levels of customer care while demonstrating a friendly and cooperative attitudeDemonstrate flexibility in satisfying customer demands in a high volume, production environmentConsistently adhere to business procedure guidelinesAdhere to all safety proceduresTake direction from supervisor or site managerMaintain all logs and reporting documentation; attention to detailParticipate in cross-training and perform other duties as assigned (Filing, outgoing shipments, etc)Operating mailing, copy or scanning equipmentShipping &amp; ReceivingHandle time-sensitive material like confidential, urgent packagesPerform other tasks as assignedScanning incoming mail to recipientsPerform file purges and pullsCreate files and ship filesProvide backfill when neededEnter information daily into spreadsheetsIdentify charges and match them to billingSort and deliver mail, small packages ",
         "Minimum Requirements:Minimum of 6 months customer service related experience requiredHigh school diploma or equivalent (GED) requiredValid Driver's License and good driving record requiredPreferred Qualifications:Keyboarding and windows environment PC skills required (Word, Excel and PowerPoint preferred)Experience running mail posting equipment a plusExcellent communication skills both verbal and writtenLifting up to 55 lbs with or without accommodationsWillingness and availability to work additional hours if assignedWillingness to submit to a pre-employment drug screening and criminal background checkAbility to effectively work individually or in a team environmentCompetency in performing multiple functional tasksAbility to meet employer's attendance policy",
         null,
         "0",
         "1",
         "0",
         "Part-time",
         "Entry level",
         "High School or equivalent",
         "Financial Services",
         "Customer Service",
         "0"
        ],
        [
         "10",
         "10",
         "11",
         "ASP.net Developer Job opportunity at United States,New Jersey",
         "US, NJ, Jersey City",
         null,
         "100000-120000",
         null,
         "Position : #URL_86fd830a95a64e2b30ceed829e63fd384c289e4f01e3c93608b42a84f6e662dd# DeveloperJob Location :United States-New Jersey-Jersey CityUs work status required : EAD / Green Card / US Citizens Detailed Description#URL_86fd830a95a64e2b30ceed829e63fd384c289e4f01e3c93608b42a84f6e662dd# Developer with strong SQL &amp; VB.NET working in a highly effective software development team responsible for development of and enhancements to our IDB reporting and billing systems. All work efforts will be performed according to policies and procedures relating to software development and quality.Background: Developer with 5+ years of development experience using #URL_86fd830a95a64e2b30ceed829e63fd384c289e4f01e3c93608b42a84f6e662dd#, VB.NET, including 3-5 years in SQL development.Required:• College degree• Experience building web based applications using #URL_86fd830a95a64e2b30ceed829e63fd384c289e4f01e3c93608b42a84f6e662dd# and SQL Server.• Expert level, hands-on experience writing SQL Server Stored Procedures.• Proficient in MS Office products (Excel, Access, Word, Outlook)• Worked in a role that involved the creation of reports for internal management and/or external customers.• Experience developing in another scripting/front-end language.• Excellent communication skillsIf you are interested, please send your updated profile to #EMAIL_897dfb1f33f6c34f2bed521623e9808aa4e62d89a6c0284cfe89393e4457e628#Hiring for Sales Account Director(advertising/digital sales)Position : Sales Account Director - Pacific NorthwestJob Location : United States,Washington-SeattleUs work status required : EAD / Green Card / US Citizens Requirements :•3+ years of advertising/digital sales experience, preferrably in the region•Ability to provide forecasting information to management•Proven success prospecting/cold-calling regional accounts•Proven experience in automotive, tech, health care, and travel categories, among others•Specialized experience with hands-on agency account management •Self-starter with a roll-up-your-sleeves mentality•Ability to work with the internal teams to solve problems•Solid grasp of interactive media, including various pricing models, targeting technologies, and ad serving•Bachelor's degree•Strong long-distance communication skills using email, instant messenger platforms, and phone•High technical aptitude for learning and working within desktop and web-based applications (Windows, Microsoft Office, DSPs, ad exchanges) •Ability to calculate and analyze data based on standard digital advertising cost-per metrics (CPM, CPC, CPA, etc.)•Detail-oriented with strong organizational skills and multitasking ability•Ability to work efficiently and effectively under tight deadlines; strong sense of urgency•Personality to work effectively within a fast-moving environment and with many different types of people•Desire and ability to work from home ",
         "Position : #URL_86fd830a95a64e2b30ceed829e63fd384c289e4f01e3c93608b42a84f6e662dd# DeveloperJob Location :United States-New Jersey-Jersey CityUs work status required : EAD / Green Card / US Citizens Detailed Description#URL_86fd830a95a64e2b30ceed829e63fd384c289e4f01e3c93608b42a84f6e662dd# Developer with strong SQL &amp; VB.NET working in a highly effective software development team responsible for development of and enhancements to our IDB reporting and billing systems. All work efforts will be performed according to policies and procedures relating to software development and quality.Background: Developer with 5+ years of development experience using #URL_86fd830a95a64e2b30ceed829e63fd384c289e4f01e3c93608b42a84f6e662dd#, VB.NET, including 3-5 years in SQL development.Required:• College degree• Experience building web based applications using #URL_86fd830a95a64e2b30ceed829e63fd384c289e4f01e3c93608b42a84f6e662dd# and SQL Server.• Expert level, hands-on experience writing SQL Server Stored Procedures.• Proficient in MS Office products (Excel, Access, Word, Outlook)• Worked in a role that involved the creation of reports for internal management and/or external customers.• Experience developing in another scripting/front-end language.• Excellent communication skillsIf you are interested, please send your updated profile to #EMAIL_897dfb1f33f6c34f2bed521623e9808aa4e62d89a6c0284cfe89393e4457e628#Hiring for Sales Account Director(advertising/digital sales)Position : Sales Account Director - Pacific NorthwestJob Location : United States,Washington-SeattleUs work status required : EAD / Green Card / US Citizens Requirements :•3+ years of advertising/digital sales experience, preferrably in the region•Ability to provide forecasting information to management•Proven success prospecting/cold-calling regional accounts•Proven experience in automotive, tech, health care, and travel categories, among others•Specialized experience with hands-on agency account management •Self-starter with a roll-up-your-sleeves mentality•Ability to work with the internal teams to solve problems•Solid grasp of interactive media, including various pricing models, targeting technologies, and ad serving•Bachelor's degree•Strong long-distance communication skills using email, instant messenger platforms, and phone•High technical aptitude for learning and working within desktop and web-based applications (Windows, Microsoft Office, DSPs, ad exchanges) •Ability to calculate and analyze data based on standard digital advertising cost-per metrics (CPM, CPC, CPA, etc.)•Detail-oriented with strong organizational skills and multitasking ability•Ability to work efficiently and effectively under tight deadlines; strong sense of urgency•Personality to work effectively within a fast-moving environment and with many different types of people•Desire and ability to work from home ",
         "Benefits - FullBonus Eligible - YesInterview Travel Reimbursed – Yes",
         "0",
         "0",
         "0",
         "Full-time",
         "Mid-Senior level",
         "Bachelor's Degree",
         "Information Technology and Services",
         "Information Technology",
         "0"
        ],
        [
         "11",
         "11",
         "12",
         "Talent Sourcer (6 months fixed-term contract)",
         "GB, LND, London",
         "HR",
         null,
         "Want to build a 21st century financial service?We're convinced that that there is a need for innovation in financial services and that current banks will not be the ones providing this. Instead this innovation will come from companies like TransferWise and we're on a hunt for great minds who think like we do.",
         "TransferWise is the clever new way to move money between countries. Co-founded by Skype’s first employee and backed by some of planet's most experienced innovators, including Sir Richard Branson and PayPal founder Peter Thiel, we're disrupting the world of currency &amp; international money transfer. That means flipping a gazillion dollar industry on its head and taking power away from banks and the establishment.Based in Old Street, the hub of London’s start up scene, we’re growing at an extraordinary rate, with currently just over 200 people strong and handling many millions of pounds daily. As it is critical to have the right team behind the vision, you can play a key part in building our team of 50 today to 100-150 during this hyper growth phase.You’ve either been working as a sourcer in an internet/technology business or at an agency identifying top calibre of candidates predominantly in the business space across Europe. You will be joining our powerhouse and working closely with our leaders across a range of divisions, as well as managing your own pipeline within the fast-pace world of a leading start-up where no two days are the same!",
         "We’re looking for someone who:Proven track record in sourcing across marketing, banking &amp; building a strong, steady pipelineStrong knowledge of internet sourcingFluent in converting passive candidates into new hiresExperience with using recruitment toolsAbility to multi-task and prioritise workloadPrior Applicant Tracking Systems (ATS) experienceWhat you’ll be doing:Manage your recruitment pipeline and find new innovative ways to source candidates   Utilise recruitment tools to handpick &amp; engage passive candidatesWork side-by-side with our Hiring Managers &amp; Recruiter to understand the needs of the businessTailor/master your pitch of the TransferWise vision to attract candidates of varied seniorityProduce reporting metrics",
         "You will join one of Europe’s most hotly tipped startups with plenty of opportunities to grow and the chance to be part of our little revolution. This role lasts for 6 months with a possibility to become permanent depending on performance. You are invited to join our company holidays (which are completely insane), 2 days holiday per month, boxing yoga + our team lunches every Friday. Oh, and coffee, there’s plenty of coffee. Just one last thing, you can use the office Sauna whenever you want too.#LDN",
         "0",
         "1",
         "0",
         null,
         null,
         null,
         null,
         null,
         "0"
        ],
        [
         "12",
         "12",
         "13",
         "Applications Developer, Digital ",
         "US, CT, Stamford",
         null,
         null,
         "Novitex Enterprise Solutions, formerly Pitney Bowes Management Services, delivers innovative document and communications management solutions that help companies around the world drive business process efficiencies, increase productivity, reduce costs and improve customer satisfaction. For almost 30 years, clients have turned to us to integrate and optimize their enterprise-wide business processes to empower employees, increase productivity and maximize results. As a trusted partner, we continually focus on delivering secure, technology-enabled document and communications solutions that improve our clients' work processes, enhance their customer interactions and drive growth.",
         "The Applications Developer, Digital will develop or participate in the development, support or migration of the web and intranet applications, along with other business applications that may be cloud or locally hosted. Our goal to make sure our applications are state of the art, available and content-rich. We also thrive to make sure all our users are satisfied and that all support requests are answered-to in timely manner.Key Responsibilities:PHP and #URL_c5591c960537d84ff7889f414633cdbc8e7d36f3fe042a096d374e4e058388d5# (C# and VB) development per project needs.Design, create and program MySQL and SQL Server databases per project needs.Triage and resolve tickets for supported systems and applicationsProvide troubleshooting expertise for proprietary applications in Production and Support environmentsDocument new and update solutions and process documentationFollow established procedures for managing risk when updating production systemsCreate and update process automationMigrate applications between different environmentsDeploy new applicationsManage content and support applications usersTest applications and document issuesDevelop solutions to existing issues and track a knowledge baseSupport Office 365 environment and applicationsAssist in gathering requirements and project specificationsAttend meetings as needed.Take ownership of daily applications support needs and communications.Communicate project status and deliverables with managers and other involved personnel.Manage project tasks, timelines, and communication.Perform routine site maintenance as needed.Other tasks as needed for successful project completion or as assigned by management.Must be willing to travel to Novitex sites (10%)",
         "Requirements:4 – 5 years’ experience in developing and deploying web applications.Solid understanding of SDLC.Knowledge of PHP, MySQL, SQL server and .netKnowledge in setting up application development environments (Internet and intranet)Knowledge of web application deployment and server configuration methodologiesKnowledge of content management systems and web analyticsAbility to troubleshoot applications and user issuesAdditional Preferred Experience:Knowledge of office 365 applicationsKnowledge of SharePoint administrationSalesforce administration and integrationForward-thinking business development-focused mentality and work style.Good customer service orientation and attitude.Effective communication skills, both verbal and written.Comfortable working with business support tools: MS Excel, MS Word, MS Outlook, MS PowerPoint and Visio.",
         null,
         "0",
         "1",
         "0",
         "Full-time",
         "Associate",
         "Bachelor's Degree",
         "Management Consulting",
         "Information Technology",
         "0"
        ],
        [
         "13",
         "13",
         "14",
         "Installers",
         "US, FL, Orlando",
         null,
         null,
         "Growing event production company providing staging, scenic, and drapery primarily in the state of Florida. We have a secondary location in Las Vegas and will soon be adding a third location in Southeast Florida. We are a small team passionate about creating high quality events and providing excellent customer service, both on show and in the office. ",
         "Event Industry Installers Needed!! (Orlando, FL - near Florida Mall)Do you want to work? Are you available on short notice? Are you willing to work days, weekends, or nights, even overtime without complaining? Are you a fast learner, team player, and possess strong organizational skills? We have installer positions available for qualified individuals.If you are afraid of hard work or getting dirty, do not waste my time, or yours! This work can be very demanding.If you are willing to work hard, contribute to the team, a fast learner, organized, and able to communicate well, I am looking for you.This is physical work. It involves heavy lifting, moving heavy objects, getting your hands dirty, sometimes long days, or nights.If you think you can handle it, please feel free to contact me.",
         "Valid driver's license,Somewhat Clean driving recordIf you can drive a box truck, even better! Dependable transportation to and from workAvailable to work long, Able to lift 65+ lbs.Ability to work well with others with a professional demeanorJob description: Loading/ unloading trucks, installing/ dismantling equipment, warehouse, job locations varies, however transportation is provided to job-site from central location.Work environment: Drug freeOvertime as needed.If you do not meet ALL of the above qualifications, you will not be hired.Serious inquires only. Starting pay is $10.00 per hour",
         null,
         "0",
         "1",
         "1",
         "Full-time",
         "Not Applicable",
         "Unspecified",
         "Events Services",
         "Other",
         "0"
        ],
        [
         "14",
         "14",
         "15",
         "Account Executive - Sydney",
         "AU, NSW, Sydney",
         "Sales",
         null,
         "Adthena is the UK’s leading competitive intelligence service for Google search advertisers. Adthena is loved by major brands and digital agencies alike and provides a great opportunity to work in the high growth adtech space. Our patent-pending technologies provide unparalleled accuracy for clients to understand their competitors’ keywords, budgets, spend, CPCs, Adcopy and more. We're profitable, fast growing and love what we do.",
         "Are you interested in a satisfying and financially rewarding role in a high growth technology company? You’ll work in a casual yet high energy environment alongside passionate people delivering the leading competitive intelligence solution to major global brands. With the continued rapid growth of digital marketing and PPC a huge opportunity exists to further expand the Adthena enterprise client base. We are seeking an experienced Account Executive to develop and close new business in enterprise accounts. A large opportunity exists across all major search engine verticals including: Auto, Retail, Gaming, Travel, Finance, Insurance and Education.Primarily you’ll use a consultative approach to determine customer needs and deliver presentations and technical demonstrations. Where required, you will work with a client’s advertising agency to uncover value for prospective customers. You’ll be supported by marketing and business development reps to build a pipeline of accounts.",
         "You’ll need to be smart and passionate and have 2 years experience selling software/Saas ideally including familiarity with PPC and marketing technologies. Excellent presentation and communication skills as well an understanding of marketing technologies in enterprise organisations. You should be an entrepreneurial self-starter who is looking for a high growth technology environment and have strong skills in #URL_8d92932a488fb7e172d73a0f6813d06d464f1f03705d2825f86b2c7947d60a86#, Powerpoint and Google Apps.",
         "In return we'll pay you well, give you some ownership in the company (stock options) and importantly provide you with excellent opportunities for advancement and professional development. Oh, and we’ll give you a new pair of Adidas trainers when you join.",
         "0",
         "1",
         "0",
         "Full-time",
         "Associate",
         "Bachelor's Degree",
         "Internet",
         "Sales",
         "0"
        ],
        [
         "16",
         "16",
         "17",
         "Hands-On QA Leader ",
         "IL, , Tel Aviv, Israel",
         " R&D",
         null,
         "At HoneyBook we’re re-imagining the events industry and building a product that is already changing the world for some of the top event planning celebrities in the nation. We’re a well-funded and growing team of 20, passionate about creating the happiest customers in the world. Inevitably this involves a lot of champagne and macaroons, but it’s always our gorgeously designed product that generates the most smiles.",
         "We are looking for a Hands-On QA Leader for our talented R&amp;D team, located in the Center of Tel Aviv.In this role you'll be responsible for leading and building our QA process. You will work closely with people across engineering, product, and community to help develop an amazing experience for our customers.",
         "Previous experience in client &amp; server testingExperience in Leading QA team and processes Experience in Automation tools' usage and/or development - Must Proven experience with QA methodology, testing processes and documentation standards (STP, STD, STR)Proven strong technical skills; ability to deep dive into complex problems &amp; find their root causeGood understanding of internet technologies and the development cycle",
         null,
         "0",
         "1",
         "0",
         "Full-time",
         "Mid-Senior level",
         null,
         "Internet",
         "Engineering",
         "0"
        ],
        [
         "17",
         "17",
         "18",
         "Southend-on-Sea Traineeships Under NAS 16-18 Year Olds Only",
         "GB, SOS, Southend-on-Sea",
         null,
         null,
         "Established on the principles that full time education is not for everyone Spectrum Learning is made up of a team of passionate consultants with the drive for putting people who wish to grow themselves through education whilst working into long term and relevant job roles.We also are official re-sellers for The Institute of Recruiters/ Study Course professional courses in HR Practice, In-House Recruitment and Agency RecruitmentIt is our mission to help anyone wishing to pursue an apprenticeship onto the right qualification and into the right job.We work closely with both the candidate and the employer to ensure when the learner is enrolled they are at the start of a long and successful career.We have great relationships with a number of national training providers to ensure we can cover any apprenticeship available.  ",
         "Government funding is only available for 16-18 year olds.We have 10 vacancies for career driven, highly motivated individuals living in the Southend-On-Sea area.You will complete a 4 week traineeship before starting your apprenticeship in Customer Service. You will receive full training and support for the training provider.Please apply now and you will be invited to attend the open day.",
         "16-18 year olds only due to government funding.Career prospects",
         "Career prospects.",
         "0",
         "1",
         "1",
         null,
         null,
         null,
         null,
         null,
         "0"
        ],
        [
         "18",
         "18",
         "19",
         "Visual Designer",
         "US, NY, New York",
         null,
         null,
         "Kettle is an independent digital agency based in New York City and the Bay Area. We’re committed to making digital do more — for both people and brands — because we believe the digital world offers more than meets the eye. Every online experience has the potential to change a life, a brand, or even change the world. And we carry this philosophy into each and every product we build.",
         "Kettle is hiring a Visual Designer!Job Location: New York, NYKettle is a growing digital agency focused on delivering outstanding products, and we’ve been working hard to find equally outstanding talent. Our bold, passionate, and multi-disciplinary team advocates for users to the benefit of our clients. We’ve grown organically to 35+ employees in our brand new office in SoHo New York, with a growing presence in the San Francisco Bay Area. We are looking to hire a new Visual Designer with a portfolio that combines strong web/app interface design and exemplary branding work. We are very excited about the first couple of projects you will be working on, and looking forward to presenting them to the right candidate.Your responsibilities as a Visual Designer include:Create differentiating, on-brand design solutions (branding, web design, mobile application design).Design clean, modern, inspiring pixel-perfect interfaces across platforms showcasing impeccable layout and typography skills.Maintain Kettle's quality and tone in ALL deliverables (from designs to final builds).Stay on top of best-of-breed designs and technologies.Very strong sense of the overall user experience.We thrive in an open, collaborative environment as we create award-winning products and experiences. Our clients are leading brands and digital innovators, including American Express, Sesame Street, the New Museum, YouTube, and many more we cannot disclose here.  Check out our website to learn more about our work.Please make sure to include a link to your online portfolio.",
         null,
         null,
         "0",
         "1",
         "0",
         null,
         null,
         null,
         null,
         null,
         "0"
        ],
        [
         "19",
         "19",
         "20",
         "Process Controls Engineer - DCS PLC MS Office - PA",
         "US, PA, USA Northeast",
         null,
         null,
         "We Provide Full Time Permanent Positions for many medium to large US companies. We are interested in finding/recruiting high quality candidates in IT, Engineering, Manufacturing and other highly technical and non-technical jobs.",
         "Experienced Process Controls Engineer is required having responsibility to monitor the facility’s DCS operations and performance, provide technical support and troubleshooting and facilitate the development of programs for improvement.D - 176Job Responsibilities: Assist with configuration, installation, and maintenance of electronic microprocessor-based instrument control systems including, but not limited to, the long-term historians and DCS control systems.Monitor the facility’s DCS operations and performance, provide technical support and troubleshooting and facilitate the development of programs for improvement.Oversee the field construction, verification of proper installation, performance of loop checks and the oversight of final commissioning of DCS/PLC equipment associated with maintenance or capital projects.Define spare parts and preventative maintenance requirements for DCS and related components.Communicate and maintain proper documentation related to the DCS system status, changes, and coordinate/conduct personnel training for such related items as necessary.Review facility instrument maintenance activities to ensure that manufacturing, construction, installation, and operational testing conform to all specifications, codes, and standards.Conduct failure mode analyses to identify units posing excessive failure risks and support proposed changes in design. ",
         "Must have 5 or more years of experience with DCS programming, troubleshooting, and maintaining DCS equipment experience.Ability to develop, analyzes, and troubleshoots scripts and queries.High proficiency in Microsoft applications (such as Word, Excel, PowerPoint and Outlook)Excellent written and verbal communication skills.Ability to read, write and speak in English.Excellent interpersonal skills including the ability to work as part of a team. Educational Qualifications: Bachelor's degree in Electrical Engineering, Mechanical Engineering, Chemical Engineering, or related field. We Provide Full Time Permanent Positions for many medium to large US companies. We have more than 1500 jobs available in our website. Our website has thousands of openings and these job openings are not posted anywhere else online. When you apply online through our website, it automatically forwards your information to the recruiter handling your applied job. If you are a close match, they will contact you immediately to discuss about the positions and do everything to get you an interview with the client as quickly as possible. Visit  : #URL_ec64af2b4fe2ca316e828f93b0cd098c22f8beba98dcac09d4dd7384b221a5e8#-#URL_9753a54b28303bf636a2816399b9c255d76fabb791336a4c748da2611a23264f# ",
         null,
         "0",
         "0",
         "0",
         "Full-time",
         null,
         null,
         null,
         null,
         "0"
        ],
        [
         "20",
         "20",
         "21",
         "Marketing Assistant",
         "US, TX, Austin",
         null,
         null,
         "IntelliBright was created to leverage enterprise level online business practices to generate exclusive leads on behalf of our medium and small business clients across a wide variety of verticals. Our founder comes from a background where websites and online marketing programs utilize advanced analytics and conversion tactics to maximize revenue. Outside of these competitive industries, though, it’s rare to see the effective use of analytics and optimization that is the hallmark of a successful online marketing strategy.On a local level the use of these business practices is even rarer. Our team of highly skilled search engine optimization specialists is here to bring a system of measurable results (leads and sales) to boost your website’s success. To complement our organic website efforts we employ the most talented experts from their respective fields (SEO, SEM, Website and Graphic Design, Development, Analytics) to implement a digital marketing strategy designed to increase market share and deliver the highest level of performance in relation to revenue generation on behalf of our clients.What truly sets us apart is our consultative nature.  All businesses are not equal.  We work with our clients to improve their internal business processes to increase lead conversions.  Our clients truly love us.  Join us and you'll see why.",
         "IntelliBright is growing fast and is looking for a Marketing Assistant to join our team. Your invaluable input will help our small to midsize business clientele to achieve their greatest potential.WHY CHOOSE INTELLIBRIGHT?Our close knit team built a company that revolutionized our initial target industry. We are now applying our collected expertise to multiple new verticals. If you've ever wanted to feel like you are getting into something on the ground floor where your ideas and suggestions are not only heard but embraced, then come see why Intellibright is the premier outsourced in-house online marketing team for our highly successful partner businesses.What you’ll get from us:Consistent support and constructive feedback on your workPaid -- Well!Intelligent, friendly co-workersOpportunity to learn and work with cutting-edge marketing strategiesContract to hire potentialAn environment where your input really mattersAs a company that is a Capital Factory darling you’ll get:Work in a highly-collaborative environmentDaily meet-ups and eventsAccess to pre-release major movie screeningsExposure to mentors, experts, VCs, brilliant peepsFully stocked kitchen, 1-2 weekly free lunch/breakfastRooftop pool and on-site gymFriday happy hoursAccess to special events",
         "Job RequirementsAssist in creating client online marketing campaignsConduct research on various industry niches to determine potential partnership opportunities and make decisions on which websites are worth reaching out toReach out to individuals and organizations on behalf of our clients for promotionRun online optimization reports for our client's websitesMust have excellent interpersonal communication skillsMust be highly organized and detail-orientedMust be able to work independently and efficientlyMust have excellent computer skillsHave 2+ years of experienceAs the Marketing Assistant, you will work very closely with the SEO and SEM teams to help grow our client's business.  Get in with a great team today and have fun while contributing to our skyrocketing client growth.",
         null,
         "0",
         "1",
         "0",
         null,
         null,
         null,
         null,
         "Marketing",
         "0"
        ],
        [
         "21",
         "21",
         "22",
         "Front End Developer   ",
         "NZ, N, Auckland",
         null,
         null,
         "Frustrated with the status quo?Like to re-imagine whats possible?Want to build awesome products?Then do something about it!Teknique is moving into a new phase of company growth - and we're looking for top notch people who want to be involved in something awesome!What we doWe are a visionary business specializing in the design and development of miniaturized wireless video camera systems used in Action Sports, Driver Safety, and Security. Our award winning products are licensed to brand name clients worldwide.  Learn about us on LinkedIn, Twitter, and Facebook and keep up with latest video news and innovation.Our vision is the future, and at Teknique we create it - with sustainable, continually evolving, world-class products. Innovation, insight and ideas are critical to our success; Applicant’s will possess these attributes and have a strong desire to create what “the world hasn't seen yet”.Our workplaceWe offer a creative team working environment in a modern office in Auckland, New Zealand, with bush views, free snacks and coffee machine, latest Macbook Pro's, office 3D printer, not to mention lots of miniature video cameras that you can play with, whether you're into snowboarding, motor racing, dirt bikes, or just want to strap a camera  to your cat and find out where he goes every day.",
         "Want to be part of a globally focused tech team designing consumer products?Innovative ideas. Creative approaches. Insatiable curiosity. That's what we expect from a Front-End Web Developer at Teknique. Here, you'll be part of a fiercely collaborative technology team charged with creating amazing web platforms for our smart camera and video solutions.  That means contributing to high-traffic websites for a broad range of high-profile companies, and actively supporting our diverse suite of best-in-class technologies.  All this in an environment that constantly challenges you to push beyond boundaries and enhance your expertise.  As a valued member of the team, you will have an active role in helping design world class video camera systems, so you can expect to be involved in design meetings, testing products and being a real user for the products we create.  This position will integrate tightly with Experience Design (XD), so we need to speak the same language, even as the vocabulary continues to evolve.On a day-to-day basis you might be:Working with the product team to implement product features and roll out new functionality.Utilizing coding and design experience to develop robust web-client user interfaces which integrate with various server-side components and back-end systemsTranslating prototypes and designs into clean, valid, launch-ready codeExploring new technologies/industry trends and technical innovationCreating Proof-of-Concepts using new technologiesHandling multiple project requirements and making appropriate technical decisionsCollaborating with product managers, designers, and software engineers to ensure design vision is maintained, final markup is standards compliant, and UI deliverables are completed on time.Attend team meetings and contribute creatively Draft blog posts about your creative visions on UI/UX design and share them with the wider team – and potentially our customers.",
         "You will most likely have:A solid mastery of modern web application development, including semantic HTML, CSS, REST, JavaScript, UI frameworks and libraries, browser-based wire-framing and prototyping, responsive design, progressive enhancement, performance optimisation techniques, and style guide documentation.Familiarity with enterprise-quality coding practices, including debugging and bug tracking, unit testing, and version control.Experience with UX + interface design for web, mobile apps + more … Experience with Adobe Creative Suite &amp; other design softwaresBe able to strongly communicate your ideas within the team + our clients Have a real passion to reach the end-userThe ability to self-direct and manage multiple projects and complete them under strict deadlines  A passion for creating things with purpose + intent",
         "You will be part of an awesome team of innovators, creators, and do-ers that enjoy building new products  the world hasn't seen yet.We encourage continual upskill and learning through supporting our employees at conferences and training events.And, we offer a creative team working environment in our modern office in Auckland, New Zealand, with bush views, free snacks and coffee machine, latest Macbook Pro's, office 3D printer, not to mention lots of miniature video cameras that you can play with, whether you're into snowboarding, motor racing, dirt bikes, or just want to strap a camera  to your cat and find out where he goes every day.",
         "0",
         "1",
         "0",
         "Full-time",
         "Mid-Senior level",
         "Master's Degree",
         "Consumer Electronics",
         "Engineering",
         "0"
        ],
        [
         "22",
         "22",
         "23",
         "Engagement Manager ",
         "AE, , ",
         "Engagement",
         null,
         "Upstream’s mission is to revolutionise the way companies market to consumers through cutting edge technology. This is an opportunity to collaborate with like-minded people in an environment that embraces individual differences and diversity.We offer a challenging and stimulating environment in which employees have the opportunity to work on a vast range of complex projects at the forefront of technical innovation. We are looking for creative, enthusiastic and open-minded individuals to join our innovative team to help both drive our success and uphold our existing reputation within the marketing technology world.What we believeOur values of integrity, perseverance, innovation and respect are at the heart of our company. Our actions are underpinned by these four values, which have become central to Upstream, providing all of our employees with a clear framework from which to make their decisions.1. Integrity &amp; TrustYou are widely trusted and seen as a direct and truthful individual. You present the unvarnished truth in an appropriate and helpful manner, keeping confidences and admitting mistakes without misrepresenting themselves for personal gain.2. PerseveranceYou pursue work and life with energy, drive and a need to finish; you seldom give up before finishing, especially in the face of resistance or setbacks.3. InnovationYou have good judgement about which creative ideas and suggestions will work and a sense about managing the creative process of others. You have the ability to facilitate effective brainstorming and project how potential ideas may play out in the marketplace.4. RespectYou invest time in peers and demonstrates value and reverence for others when due, encouraging co-workers to express opinions and ideas. You promote equality within the workplace, encouraging praise and recognition from employee to employee as well as from the superiors. Professional Development at UpstreamUpstream offers a variety of resources and a range of opportunities to inspire the best possible performance from our employees. Our vast range of departments and global activities provide a strong platform for career development and professional progression. We boast various methods of progression within the company; whether through an upward advancement within a chosen field, expansion across departments or relocation to another office, creating the opportunity to gain both valuable experience and further insight into the international workings of the business. At Upstream, employees have the opportunity to learn new skills, work across different disciplines and global departments and move into new challenges, all within the same company.",
         "The position reports to the Head of Engagement Management in the Mobile Operator Business Unit. It is a key role liaising between the client and Upstream’s internal execution capabilities – ensuring the timely and successful delivery of complex mobile marketing campaigns throughout the world. This role is ideal for a candidate with high potential who wishes to be rewarded for outstanding performance, while having the opportunity to gain valuable international business experience on large mobile marketing projects. The role involves:Partnering with clients to deliver strategic interactive solutionsManaging client relationships and expectationsWorking with department managers to provide client deliverablesEnsuring the delivery of key projects on time and on budgetDeveloping technical and marketing concepts to meet client requirementsNegotiating contracts with clients and suppliersGuiding strategic implementation of recommendationsIdentifying and stewarding client/brand objectives and needsEnthusiastically representing Upstream’s strategy and creativityLiaising with worldwide partnersPreparing and defending business casesAssisting with RFP responses and proposal writingThe position will be based in UAE (Dubai), with extensive travelling according to project requirements. ",
         "RequirementsThe ideal candidate will be bright, ambitious, self-driven, hard-working and flexible, and have the following qualifications:Excellent client-facing and internal communication skills in English and ArabicAble to perform under pressure and deliver results in a demanding and fast-paced environment that requires fresh thinking and innovationExcellent written and spoken communication skillsStrong quantitative, analytical and computer skillsVery good educational background, preferably in a numerate disciplineAttention to detailTech-savvy and comfortable in a field that combines elements of multiple disciplines (technology, marketing, mass psychology)International perspective and cultureOther Key Considerations3-6 years of work experience in the fields of consulting, marketing, telecoms or information technologyMBA or postgraduate business degree (or like experience) a plusExperience with budget management and cost controlBusiness development or account management experienceUnderstanding of Mobile, Web, and online advertisingMarketing thinking and creative capability",
         "Salary &amp; BenefitsThe opportunity to learn and grow in a world-class business environmentExciting and challenging work at the cutting edge of marketing and technologyInternational career development prospectsCompetitive remuneration and additional employee benefits ",
         "0",
         "1",
         "1",
         "Full-time",
         "Mid-Senior level",
         "Bachelor's Degree",
         "Telecommunications",
         "Sales",
         "0"
        ],
        [
         "24",
         "24",
         "25",
         "Customer Service ",
         "GB, LND, London",
         null,
         null,
         null,
         "We are a canary wharf based e-commerce company and are recruiting for a full time customer service administrator.   This is a contractor role.The successful candidate will ideally have previous customer service experience and have good verbal and written communication skills.Duties includes-Telephone and email customer service-Processing information on database-General administrative task",
         null,
         null,
         "0",
         "0",
         "0",
         null,
         null,
         null,
         null,
         null,
         "0"
        ],
        [
         "25",
         "25",
         "26",
         "H1B SPONSOR FOR L1/L2/OPT",
         "US, NY, New York ",
         null,
         null,
         "i28 Technologies has demonstrated expertise in areas strategic to different business in varying verticals. I28 Technologies provides highly skilled Technology Consultants to meet the IT needs of our clients. The functional expertise gleaned from the experience of working for Fortune 500 companies has enabled the team @ I28 Technologies to provide professional service in the areas of Human Resource Consulting, IT consulting, Financial consulting, Business process consulting and Outsourcing. The company's core capabilities in IT consulting are in ERP, Datawarehouse (ETL), Web Technologies, BI Reporting &amp; Database services wherein we concentrate in SAP, OBIEE, Bigdata, Java, Sharepoint and Oracle.I28 Technologies has been incorporated by Top Professionals; therefore we have firsthand experience of the market. We have Global presence in four countries across the globe - USA, Canada, Malaysia and India. Our Client list includes BlueStar, Allianz Life Insurance, TCS etc. I28 Technologies facilitates online/classroom training on various modules of ERP, Datawarehouse (ETL), Web Technologies, BI Reporting &amp; Database. Courses Offered for entry level positions:•             Data Warehousing – ETL and Reporting Tools (Informatica PowerCenter 7.1/6.2/6.1/5.1, Business Objects, Cognos, Data modeling, Erwin, Sybase)•             SAP HANA/ BO/ BODS/ CRM•             JAVA Hadoop/ .NET/ Sharepoint/ Bigdata•             Teradata/ Oracle/ Spotfire/ OBIEE/ Biztalk and many more as per request…  Why you should join I28 Technologies??We have an unbeatable success rate of 100% placement throughout USA &amp; Canada making us proficient in giving our employees the best salaries.We keep full transparency with the employees and believe in high commitment levels as it is the key to have a long-term fruitful relationship.Our competence with SAP, OBIEE, Java and .NET has helped our clients to streamline their business processes and customize their modules to suit their business environment enabling us to upgrade the skills of our employees and broaden their horizons with the latest technology by facilitating online/classroom cross functional training.We also execute On-project support systems when the skills of employees are upgraded and new projects streamlined for them.",
         "Hello,Wish you are doing good...                      This is regarding job opportunity with i28 Technologies Corporation, USA. We are looking for IT professionals in different technologies/areas to cater the business needs of our clients located in USA. I am enclosing the details of our Organization Overview and Employee Benefits. You can go through this information and if you are interested please send me your updated Resume and Info Sheet Attached. H-1B Fiscal Year (FY) 2015 Cap SeasonWe are sponsoring H-1B for OPT/ L1/ L2 candidates for the Fiscal Year (FY) 2015 Cap Season. Highlights: Premium H-1B processingFiling done through top Law firmPlacement guaranteed at our direct clients in metro cities like NYC, Boston, Chicago, Atlanta Organization Overview:i28 Technologies has demonstrated expertise in areas strategic to different business in varying verticals. I28 Technologies provides highly skilled Technology Consultants to meet the IT needs of our clients. The functional expertise gleaned from the experience of working for Fortune 500 companies has enabled the team @ I28 Technologies to provide professional service in the areas of Human Resource Consulting, IT consulting, Financial consulting, Business process consulting and Outsourcing. The company's core capabilities in IT consulting are in ERP, Datawarehouse (ETL), Web Technologies, BI Reporting &amp; Database services wherein we concentrate in SAP, OBIEE, Bigdata, Java, Sharepoint and Oracle.I28 Technologies has been incorporated by Top Professionals; therefore we have firsthand experience of the market. We have Global presence in four countries across the globe - USA, Canada, Malaysia and India. Our Client list includes BlueStar, Allianz Life Insurance, TCS etc. I28 Technologies facilitates online/classroom training on various modules of ERP, Datawarehouse (ETL), Web Technologies, BI Reporting &amp; Database. Courses Offered for entry level positions:•             Data Warehousing – ETL and Reporting Tools (Informatica PowerCenter 7.1/6.2/6.1/5.1, Business Objects, Cognos, Data modeling, Erwin, Sybase)•             SAP HANA/ BO/ BODS/ CRM•             JAVA Hadoop/ .NET/ Sharepoint/ Bigdata•             Teradata/ Oracle/ Spotfire/ OBIEE/ Biztalk and many more as per request…  Why you should join I28 Technologies??We have an unbeatable success rate of 100% placement throughout USA &amp; Canada making us proficient in giving our employees the best salaries.We keep full transparency with the employees and believe in high commitment levels as it is the key to have a long-term fruitful relationship.Our competence with SAP, OBIEE, Java and .NET has helped our clients to streamline their business processes and customize their modules to suit their business environment enabling us to upgrade the skills of our employees and broaden their horizons with the latest technology by facilitating online/classroom cross functional training.We also execute On-project support systems when the skills of employees are upgraded and new projects streamlined for them. Our Employee Benefits:1) Best Pay Package as compared to market.2) Dedicated Resource Manager, HR and Recruiter.3) Medical Health Insurance.4) Filling Green Card for Visa Holders immediately on joining any project through the Company.5) Practice Development Option: For highly experienced professionals.6) Referral Program: For Employees.7) Canada Work Permit for eligible and interested employees.8) Eligible to get placed on internal direct client project staff augmentation and Implementation needs, whenever there is matching position and on client’s selection basis.9) Full Autonomy in terms of choosing projects, if more than one project in hand.10) All discussed terms and conditions will be signed by both parties on the letterhead of the Company.11) Free accommodation with food for OPT &amp; out station candidates. Also, we would like to add that we are generally flexible while dealing with consultants depending on given circumstances with our clients and needs of our employees. There are companies who make big commitments initially and keep things in gray area and candidates get to know after they join. We don’t follow such approach and that is why you will find every single point in detail in our “Terms and Conditions” to ensure no miscommunication happens. We keep full transparency and commitment levels with our employees to ensure employee satisfaction because these are the two things which can ensure Company-Employee long-term relationship and mutual benefit.If you are intrested for the above job opening, please send in your updated resume and contact information to #EMAIL_dcfb065d3588ca665ccdc15424875497d16857a702d0228d33d4a27186a49c85# ",
         "JAVA, .NET, SQL, ORACLE, SAP, Informatica, Bigdata,OBIEE, Web Technologies and Java, Sharepoint",
         null,
         "0",
         "1",
         "1",
         null,
         null,
         null,
         null,
         null,
         "0"
        ],
        [
         "26",
         "26",
         "27",
         "Marketing Exec",
         "SG, , ",
         "Marketing",
         null,
         "If working in a cubical seems like your idea of hell then joining our awesome startup team might be the opportunity you’ve been waiting for.Come join the TradeGecko team, we’re a Singapore head-quartered company, we’re ventured backed and we’re growing fast.Our team comes from all corners of the globe, the founders are Kiwis, we've got Singaporeans, Dutch, Filipino, Australians, Argentinians, the list goes on.If you think you have what it takes and can handle our group of talented, hardworking, sarcastic miscreants, then apply now … right now!",
         "We are currently expanding our Marketing Department and we are looking to hire a Content Marketeer with a flair for developing relations with media, partners and customers.The main areas of responsibility will be:- Content creation (priority for earned media and support for owned media)- Database creation and relationship management with bloggers for guest posting and with journalists for PR- Community Management on Social Media and Forums- Event Management and Communications (for events co-organized with our partners)",
         "This position is Junior to Mid level. Ideally, you should have:- curiosity and willingness to constantly learn- a ton of ambition- storytelling talent- interest and ability to connect with high-level business people and journalists, and to nurture business relationships in time- a very good level of English- a Content portfolio (ideally articles written and published on business blogs and media)- experience in doing blogger outreach and PR- experience with Social Media (preferably for b2b)- experience with events communications",
         "We are looking for Singaporean residents or internationals able to relocate to Singapore immediately.The benefits- Being part of a fast-growing startup with a young, ambitious and international team- In-house trainings on Content Marketing and SEO to boost your development- Working with the latest marketing tools to help you do your job better and faster- The opportunity to address a global market",
         "0",
         "1",
         "0",
         "Full-time",
         "Associate",
         null,
         "Online Media",
         "Marketing",
         "0"
        ],
        [
         "27",
         "27",
         "28",
         "HAAD/DHA Licensed Doctors Opening in UAE",
         "AE, AZ, Abudhabi",
         "Medical",
         null,
         "We the Medical Recruitment Team of Roland and AssociatesRoland &amp; Associates is a Corporate Recruitment Organization providing solutions to Global MNC’s for the past 11 yearsWe specialize in High end Recruitments in IT, Telecom, Embedded, Chip Design and Non-IT (Manufacturing, Engineering, Oil &amp; Gas, Infrastructure, BFSI, FMCG, Automobile,Aeronautics, Pharmaceutical, Healthcare and Life-Sciences and Business Advisory) domains. We have a strong team of more than 100 employees operating from multiple offices in Bangalore located on HAL Airport Road.Visit us at #URL_1722ee2d0bc47c66058101f0a811deb4a0991ebf80d1cadd752ef83c41ebfd15# / #URL_387f3642127667d307b8bfb226e4fb0d52ab6c3140cc7d544b8027e21c4fc3a5# and #URL_38dc1f46e3e24b1dc78c6df531cec0dd30529f43f08b4d7a62a4dbfc8377f4cf#",
         "HAAD/DHA Licensed Doctors Opening in UAEWe the medical recruitment team of Roland and Associates...We have a wonderful job opportunity for HAAD Licensed specialist doctors with one of the leading healthcare groups in AbuDhabi-UAERequirementsEndocrinologistGastroenterologistCardiologistNeurologistUrologistGynecologist (Female)Dermatologist (Female)Radiologist PediatricianOrthopedic surgeonInternal MedicineGeneral SurgeonNeonatologistCandidate should have DHA/HAAD LicenseInterested professionals please mail your updated CV to #EMAIL_0687b9656f843689dea8f44da6cafa830fe2dc77029c46e7b0d0c926dcbc1204#OR Feel Free to call me on +91 80 42821630 (Anoop Gurunathan)",
         "RequirementsEndocrinologistGastroenterologistCardiologistNeurologistUrologistGynecologist (Female)Dermatologist (Female)Radiologist PediatricianOrthopedic surgeonInternal MedicineGeneral SurgeonNeonatologistCandidate should have DHA/HAAD License",
         "Our client is one of the reputed and leading Health Care Group in UAE, which assures you good standard of living and assured career growth.        ",
         "0",
         "1",
         "0",
         "Full-time",
         "Associate",
         "Master's Degree",
         "Hospital & Health Care",
         "Health Care Provider",
         "0"
        ],
        [
         "28",
         "28",
         "29",
         "Talent Management Process Manager",
         "US, MO, St. Louis",
         null,
         null,
         "We Provide Full Time Permanent Positions for many medium to large US companies. We are interested in finding/recruiting high quality candidates in IT, Engineering, Manufacturing and other highly technical and non-technical jobs.",
         "(We have more than 1500+ Job openings in our website and some of them are relevant to this job. Feel free to search it in the website and apply directly. Just Click the “Apply Now” and you will redirect to our main website where you can search for the other jobs.)Job Responsibilities:The TMO Manager will be a “Hands on” Manager responsible for:Designing, building and automating talent management processes, metrics, tracking, and reporting capabilities.Developing rigorous analytical models that provide structure to ambiguous, complex issues.Reviewing data and communicating insights as a basis for talent management action to be utilized with key stakeholders including c-suite executive management.Evaluating Talent data collection process to ensure efficiency and high level of data integrity.Comparing the Company’s talent metrics against relevant industry benchmarks and identifying key areas for improvement.Conducting research, externally and internally to identify trends/benchmarks, implications for talent management analytics and recommend responses.Providing project and thought leadership in areas of subject matter expertise.Integrating analytics across multiple HR groups to ensure synergies in measurement and reporting.Managing annual TMO cycle.Managing highly confidential information.Overseeing and training junior analyst to ensure data accuracy and integrity.Education &amp; Experience: 5+ to 7 years of experienceManagement Experience Required - NoMinimum Education - Bachelor's DegreeWillingness to Travel - OccasionallyVisit  : #URL_ec64af2b4fe2ca316e828f93b0cd098c22f8beba98dcac09d4dd7384b221a5e8#-#URL_9753a54b28303bf636a2816399b9c255d76fabb791336a4c748da2611a23264f#",
         null,
         null,
         "0",
         "0",
         "0",
         "Full-time",
         null,
         null,
         "Management Consulting",
         null,
         "0"
        ],
        [
         "29",
         "29",
         "30",
         "Customer Service Associate ",
         "CA, ON, Toronto",
         null,
         null,
         "Novitex Enterprise Solutions, formerly Pitney Bowes Management Services, delivers innovative document and communications management solutions that help companies around the world drive business process efficiencies, increase productivity, reduce costs and improve customer satisfaction. For almost 30 years, clients have turned to us to integrate and optimize their enterprise-wide business processes to empower employees, increase productivity and maximize results. As a trusted partner, we continually focus on delivering secure, technology-enabled document and communications solutions that improve our clients' work processes, enhance their customer interactions and drive growth.",
         "The Customer Service Associate will be based in Toronto, ON. The right candidate will be an integral part of our talented team, supporting our continued growth.Responsibilities:Perform various Mail Center activities (sorting, metering, folding, inserting, delivery, pickup, etc.)Lift heavy boxes, files or paper when neededMaintain the highest levels of customer care while demonstrating a friendly and cooperative attitudeDemonstrate flexibility in satisfying customer demands in a high volume, production environmentConsistently adhere to business procedure guidelinesAdhere to all safety proceduresTake direction from supervisor or site managerMaintain all logs and reporting documentation; attention to detailParticipate in cross-training and perform other duties as assigned (Filing, outgoing shipments, etc)Operating mailing, copy or scanning equipmentShipping &amp; ReceivingHandle time-sensitive material like confidential, urgent packagesPerform other tasks as assignedScanning incoming mail to recipientsPerform file purges and pullsCreate files and ship filesProvide backfill when neededEnter information daily into spreadsheetsIdentify charges and match them to billingSort and deliver mail, small packages",
         "Minimum Requirements:Minimum of 1 year customer service related experience requiredHigh school diploma or equivalent (GED) requiredPreferred Qualifications:Keyboarding and windows environment PC skills required (Word, Excel and PowerPoint preferred)Minimum of six months customer service related experience requiredExperience running mail posting equipment a plusExcellent communication skills both verbal and writtenLifting up to 55 lbs with or without accommodationsWillingness and availability to work additional hours if assignedWillingness to submit to a pre-employment drug screening and criminal background checkAbility to effectively work individually or in a team environmentCompetency in performing multiple functional tasksAbility to meet employer's attendance policy",
         null,
         "0",
         "1",
         "0",
         "Full-time",
         "Entry level",
         "High School or equivalent",
         "Consumer Services",
         "Administrative",
         "0"
        ],
        [
         "30",
         "30",
         "31",
         "Customer Service Technical Specialist ",
         "US, MA, Waltham",
         null,
         null,
         "Novitex Enterprise Solutions, formerly Pitney Bowes Management Services, delivers innovative document and communications management solutions that help companies around the world drive business process efficiencies, increase productivity, reduce costs and improve customer satisfaction. For almost 30 years, clients have turned to us to integrate and optimize their enterprise-wide business processes to empower employees, increase productivity and maximize results. As a trusted partner, we continually focus on delivering secure, technology-enabled document and communications solutions that improve our clients' work processes, enhance their customer interactions and drive growth.",
         "The Customer Service Technical Specialist will be based in our Waltham, MA client location. The right candidate will be an integral part of our talented team, supporting our continued growth. Responsibilities:Identify objective data and enter (\"key what you see\") at a high level of productivity and accuracyPerform data entry task from a paper and/or document imageUtilize system functions to perform data look-up and validationPerform entry of data presented in structured forms, correspondence text or presented out of context in character stringsPerform document image quality validation, including document type confirmation and verification of image quality and clarityIdentify, classify and sort documents by assigning document types within the data entry applicationPrep documents for scanning to include; separate document by type, separate multiple page documents from single page documents, ensure all paper clips, staples and other fasteners are removed, and sort individual document types by size of the document and make copies as necessaryScan/Image to include; scan documents, ensure each document is scanned, interact with scanning software to indicate when a batch is complete, perform quality assurance and review images, perform quality assurance of documents that have been flagged by the system, and complete Productivity Sheet to track project progress and provide numbers for billing purposesHandle time-sensitive informationHandle confidential informationPerform duties and special requests as assigned by team leader and managerEnsure operating and quality standards are met based on service objectivesMaintain accuracy of required reports, logs and measurementsEnsure the highest levels of customer careIdentify and refer sales-cues leading to potential add-on businessEnsure adherence to business guidelines, safety &amp; security proceduresSupport financial results by minimizing site waste and reworkCross-train in other areas as required",
         "Qualifications:Minimum of 6 months customer service related experience requiredExperience performing data entry, word processing, remittance processing or related functionsProficient Keyboarding skills required - 7,000 keystrokes per hour alphanumeric, 12,000 keystrokes per hour numeric, with high accuracy levelsExperience in scanning/imaging requiredExperience with Fujitsu and/or Kodak scanners requiredExperience with OracleCapture, MySup and/or Optika applications requiredStrong computer proficiency and work experience in email and Microsoft Windows environments is requiredAbility to communicate effectively both in verbal and written formAbility to effectively work individually or in a team environmentAbility to handle multiple projects simultaneouslyAbility to adapt to change in a fast-growing production environmentStrong organizational and administrative skillsDemonstrated ability to show initiative and accept ownership of projectsAbility to use problem-solving skills in order to resolve client issuesAbility to meet employer's attendance policyAbility to lift and/or move items weighing up to 50 pounds or the maximum allowed by current State Law with or without accommodationsAbility to sit, stand, and/or walk for long periods of time with or without accommodationsHighschool Diploma or Equivalent requiredValid Driver's License and good driving record required",
         null,
         "0",
         "1",
         "0",
         "Full-time",
         "Entry level",
         "High School or equivalent",
         "Computer Software",
         "Customer Service",
         "0"
        ],
        [
         "31",
         "31",
         "32",
         "Software Applications Specialist",
         "US, KS, ",
         null,
         "50000-65000",
         null,
         "Day to Day-Install, upgrade and configure web-based applications:Gathering, evaluating, and organizing client deliverablesModifying HTML, CSS or JSP pages as necessaryPrepping technical client site environment to achieve successful implementation.   Maintenance of templates and tools usedPerforming software release upgradesProviding on-call (after hour) Data Center technical support.",
         "Must Have's3+ years of experience with web-based applications, and a demonstrated ability for learning and applying new technologies in a fast-paced environment with tight deadlinesGood organizational, analytical mind, great sense of humor and strong communication skills Experience with network troubleshooting; and web-development tools such as SQL, JavaScript, HTML, CSS and XML with knowledge of regular expressions a plus College degree in a related technology discipline is preferred but relevant professional experience may be substituted for this requirement.",
         "Medical, Dental, Vision, Life, Disability, Pre-Tax Section 125 plans, 401k retirement and profit sharing plan, and paid time off. Paid time off includes holidays, vacation, and floating holiday time.Other perks include casual dress, free parking, wellness incentives, and company events. ",
         "0",
         "1",
         "0",
         "Full-time",
         "Associate",
         "Unspecified",
         "Computer Software",
         "Engineering",
         "0"
        ],
        [
         "32",
         "32",
         "33",
         "Craftsman Associate",
         "US, WA, Everett",
         "Field",
         null,
         "We are an award-winning team of professionals, providing the very best value for glass shower enclosures, designer closets, storefronts, glazing, and mirrors in Western Washington, with world class service and quality that are both Faster &amp; Better.AAA KARTAK is family owned and operated, serving Western Washington homeowners and building contractors since 1956.",
         "Construction: Entry-Level Craftsman Associate Position We are a well-established specialty contractor in Everett, looking for 2 talented individuals with an eye for detail ready to enroll in a paid craftsman-training program. You get in on the ground floor in a career with tons of potential with a company that offers strong job security, excellent benefits and treats you with respect.Benefits:  Work with a great team of people in a positive, encouraging, and family-oriented environment. Medical plan includes dental, vision, and life insurance. 2 Week’s Annual Vacation/Sick Leave that accrues daily after six weeks training, Six Paid Holidays, opportunity for Bonuses and more.INSTRUCTIONS:-  Make sure you meet all of the requirements below.-  Please use “Craftsman-Able” as the Headline.-  Include a note explaining why you would be a good candidate for this job.-  Also please enclose your job history or resume.              We look forward to helping you grow together with our friendly team! NOTICE: We do not discriminate on the basis of race, color, religion, national origin, sex, age, sexual preference, disability, or any other protected class. Equal Opportunity Employer.",
         "Requirements:  (Please do not apply if you do not meet ALL of these.)-          Pass “fit for duty” physical exam, plus drug, marijuana, and criminal background check.*-          Strong basic math skills.-          Works well on a team.-          The character trait of honesty.-          Good references.-          Ability to see well and identify small flaws in material.-          Ability to work easily with 70 lbs and occasionally lift 90-120 lbs.-          Ability to hold 60 lbs outstretched for 15 seconds.-          Ability to walk up and down steps repeatedly on some occasions.-          Ability to kneel, bend and squat. (Reasonably good ability to work from floor up.)-          A good sense of balance.-          Ability to speak, read, write, and understand English fluently.-          Strong public relations and team-work skills.-          Ability to read a tape measure when trained.-          Ability to work independently, efficiently, and learn quickly.-          Good driving record over the last three years. *Must have 2 to 3 years crime-free. This is a drug and marijuana free working environment. Our industry does not permit occasional use of these substances.",
         "Benefits:  Hourly plus commissions. Work with a great team of people in a positive, encouraging, and family-oriented environment. Medical plan includes dental, vision, and life insurance. 2 Week’s Annual Vacation/Sick Leave that accrues daily after six weeks training, Six Paid Holidays, opportunity for Bonuses and more.",
         "0",
         "1",
         "1",
         "Full-time",
         "Entry level",
         "Unspecified",
         "Construction",
         "Other",
         "0"
        ],
        [
         "33",
         "33",
         "34",
         "Completion Engineer",
         "US, CA, San Ramon",
         null,
         null,
         "Valor Services provides Workforce Solutions that meet the needs of companies across the Private Sector, with a special focus on the Oil &amp; Gas Industry. Valor Services will be involved with you throughout every step of the hiring process and remain in contact with you all the way through the final step of signing of the employment contract with your new employer. Valor Services was founded with the vision of employing the unique skills, experiences, and qualities of America’s finest veterans to provide Private Sector companies with precise and concerted value-added services – and America’s finest Veterans with an optimized career opportunity.We are eager to get the word out to veterans that there are ample opportunities for employment in the private sector and that you are the ideal candidates to fill those positions. Valor Services Your Success is Our Mission. ™ ",
         "About the CompanyThis is an amazing job opportunity with one of the most robust companies in the Energy Industry! Opportunities for advancement are extensive as the company is currently growing and looking for outstanding employees to grow with it. Strong compensation and benefits packages are available for qualified candidates who want to join the largest player in the Bakken Shale and leader in the Oklahoma Shale plays. Contact us today for an opportunity to join one of the Industry’s leaders in the mission to achieve American energy independence!Please note: This job will require relocation to Oklahoma City, OK.SummaryAssist in preparing completions, testing, and workover procedures. Maintain project management control over equipment installation, well completion, and workovers.Essential Job FunctionsMonitor completion operations, costs, and profitability.Design and implement completion and well workover plans and procedures.Generate and review AFEs for capital expenditures.Review expenditures for properties within a specified area.Analyze well problems and direct actions to be taken.Work well in a fast paced environment.Solve minor problems with little supervision.Consult with Completion Manager on higher risk and more complex problems and projects.Track costs and operational efficiency on a daily basis and report trends.Perform post completion appraisal and provide recommendations for performance improvement.Work with Completion Foremen to ensure safe and efficient operations.Support asset teams as requested.Assure compliance with governmental requirements and company policies.Provide training and resources to accomplish production goals.",
         "Education:Bachelor of Science in Petroleum Engineering or a related field is required.Experience:Ten years of related experience or the equivalent combination of education and experience is required. Experience with Wellview is a plus.A valid state operator’s license is required.* Military experience is highly valued by the employer; candidates with military experience can expect some flexibility in terms of requirements, so long as fundamental skills and competencies are present.",
         null,
         "0",
         "1",
         "1",
         "Full-time",
         null,
         "Bachelor's Degree",
         "Oil & Energy",
         "Engineering",
         "0"
        ],
        [
         "34",
         "34",
         "35",
         "I Want To Work At Karmarama",
         "GB, LND, ",
         "All",
         null,
         "At Karmarama we have a unique hiring policy: nice, talented and decent people who genuinely want to do what's right for their clients. Or 'keine wixer bitte' as our German friends say.We believe in good works. We put our clients at the heart of everything we do and only focus on doing what's right to help them win.We're always glad to meet nice, talented people. So if that's you and you're interested in joining the Karma Krew, please get in touch via the link below and we'll put you in touch with the relevant people.",
         "Didn't see a role for you? Don't fret. We’re always looking for talented people to join our team. Send us your CV or portfolio if you are interested.",
         "Hey!Thanks again for applying to Karmarama and showing your interest in our company. We do receive a high volume of CVs so it does take us a while to reply. However if you haven't heard from us in 14 days unfortunately it means that you have been unsuccessful this time around. But please don't let that bring you down. We have new roles very often so please feel encouraged to apply again.",
         null,
         "0",
         "1",
         "1",
         "Full-time",
         null,
         null,
         "Marketing and Advertising",
         null,
         "0"
        ],
        [
         "35",
         "35",
         "36",
         "English Teacher Abroad ",
         "US, NY, Saint Bonaventure",
         null,
         null,
         "We help teachers get safe &amp; secure jobs abroad :)",
         "Play with kids, get paid for it Love travel? Jobs in Asia$1,500+ USD monthly ($200 Cost of living)Housing provided (Private/Furnished)Airfare ReimbursedExcellent for student loans/credit cardsGabriel Adkins : #URL_ed9094c60184b8a4975333957f05be37e69d3cdb68decc9dd9a4242733cfd7f7##URL_75db76d58f7994c7db24e8998c2fc953ab9a20ea9ac948b217693963f78d2e6b#12 month contract : Apply today ",
         "University degree required. TEFL / TESOL / CELTA or teaching experience preferred but not necessaryCanada/US passport holders only",
         "See job description",
         "0",
         "1",
         "1",
         "Contract",
         null,
         "Bachelor's Degree",
         "Education Management",
         null,
         "0"
        ],
        [
         "36",
         "36",
         "37",
         "Graduates: English Teacher Abroad ",
         "US, NY, Yonkers",
         null,
         null,
         "We help teachers get safe &amp; secure jobs abroad :)",
         "Play with kids, get paid for it :-)Love travel? Jobs in Asia$1500 USD + monthly ($200 Cost of living)Housing providedAirfare ReimbursedExcellent for student loans/credit cardsGabriel Adkins : #URL_ed9094c60184b8a4975333957f05be37e69d3cdb68decc9dd9a4242733cfd7f7##URL_75db76d58f7994c7db24e8998c2fc953ab9a20ea9ac948b217693963f78d2e6b#",
         "University degree required. TEFL / TESOL / CELTA or teaching experience preferred but not necessaryPositive attitude required. Canada/US passport only",
         "See job description",
         "0",
         "1",
         "0",
         "Contract",
         null,
         "Bachelor's Degree",
         "Education Management",
         null,
         "0"
        ],
        [
         "37",
         "37",
         "38",
         "PROJECT MANAGER",
         "US, TX, HOUSTON",
         null,
         null,
         null,
         "we are looking for a Project Manager. The Project Manager works within the Project Management Department, which is responsible for the management of offshore projects, executed for major oil and gas exploration companies worldwide. The Project Manager manages projects in compliance with the applicable management systems and in such a way that they are delivered on time and within budget, to the highest quality, operational and HSE standards and, most importantly, to the excellent satisfaction of our client. The Project Manager will establish and nurture long-standing relationships with our clients. Job requirements BSc or MSc degree in Civil Engineering, Mechanical Engineering, Offshore Engineering or equivalent; A minimum of 10 years offshore installation experience, preferably heavy lift or pipelay, and 3 years in a (project) management position; Extensive experience working in multi-disciplinary teams; Good communicator, building and developing relationship with clients and other external parties; Good command of the English language, both written and spoken; Excellent contractual, negotiation and people management skills; Self-motivated, with a proven track record of commercial success; Willingness to travel. Job tasks Act as the primary contact for the client, authorities and subcontractors; Prepare and manage the project execution plan; Co-ordinate all project activities (including those related to subcontracts) in order to achieve the best performance of the entire organisation; Establish a multi-discipline project organisation in co-operation with discipline leads; Ensure smooth transition between different project phases and functional handover; Ensure project safety performance; Review and approve all project documents and project purchases; Supervise project related internal and external cost reporting; Identify and approve concessions, variation order requests and changes to the contract and subcontracts; Supervise preparation of as-built documentation and prepare project close out reports; Develop and apply knowhow and experience for the purpose of improving customer service and delivering customer satisfaction; Promote and support continuous improvement activities within the Project",
         null,
         null,
         "0",
         "0",
         "0",
         "Full-time",
         "Mid-Senior level",
         "Bachelor's Degree",
         "Oil & Energy",
         "Engineering",
         "0"
        ],
        [
         "38",
         "38",
         "39",
         "Art Director",
         "IN, AP, Hyderabad",
         "Design",
         null,
         "We're an emerging technology agency, and we build breakthrough products through user-centered design. We're building a team of the brightest minds in creative, engineering, and business because we love working with smart people. ",
         "You love clients and getting to be a conduit for communication. You love what feels like magic when something beautiful is created to solve a business goal and meet a user’s need. You love working with other designers across a variety of projects. You don’t shy away from difficult conversations, and you are a natural mentor.  Creating visual designs in a fast-paced environment means bringing a strong voice, an efficiency of speed, and an eye for critiquing. Our environment calls for extreme communication, enthusiasm and empathy. As the Art Director, you understand that we have no time for divas or wannabe superheroes. You understand that success is determined by the strength of your team as a whole, and it’s essential each member carry his/her weight.As the Art Director, you’ll work closely with clients across a variety of verticals in both the consumer and enterprise space. These projects should push you outside of your comfort zone, while your industry experience will be utilized to help shape the future of Mutual Mobile’s design team.You’ll keep busy by:Leading work across 1 - 2 key accountsDefining projects in terms of scope, schedule and roadmap with other Account team leadsPromoting and perfecting the integration of agile techniques into the design processWorking with diverse teams to divide work and stay focused on the big pictureParticipating in Business Development pursuits and pitchesWorking to help define the design processCoaching and mentoring other designers to help them progress their career development",
         "We want you if you have:3+ years of interactive visual design experienceStrong conceptual skills and the desire to solve complex design problemsEnough technical experience that you can comfortably express and react to the technical and user interface limits of mobile and touch interfacesExperience working with a Lean UX process in an agile environmentExpert level knowledge of relevant industry toolsStrong ability to guide and mentor junior designersStrong communication skills to effectively interact with clients and internal teamsAbility to work autonomously under tight deadlines on multiple projectsExperience to set the look and feel for large-scale mobile applicationsNot required, but more than useful:2 years as an Art Director at a top digital agency or similar roleInteraction Design skills (wireframing, prototyping, research)Basic HTML, Javascript and CSS skills (for prototyping)  Experience managing and mentoring other designersApplicants must provide a portfolio with examples of mobile work. ",
         "Why work for Mutual Mobile? We craft beautiful mobile interfaces and solve complex software challenges. Clients such as Audi, Cisco, Jaguar Land Rover and Google come to us for our deep experience in mobile--from establishing a mobile strategy that provides impactful business value, to building those solutions from the ground up. We bring together the brightest minds in creative, engineering, and business to deliver solutions that actually matter.",
         "0",
         "1",
         "1",
         "Full-time",
         "Mid-Senior level",
         null,
         "Computer Software",
         "Design",
         "0"
        ],
        [
         "39",
         "39",
         "40",
         "Receptionist/Customer Service Technical Specialist ",
         "US, IL, Chicago",
         null,
         null,
         "Novitex Enterprise Solutions, formerly Pitney Bowes Management Services, delivers innovative document and communications management solutions that help companies around the world drive business process efficiencies, increase productivity, reduce costs and improve customer satisfaction. For almost 30 years, clients have turned to us to integrate and optimize their enterprise-wide business processes to empower employees, increase productivity and maximize results. As a trusted partner, we continually focus on delivering secure, technology-enabled document and communications solutions that improve our clients' work processes, enhance their customer interactions and drive growth.",
         "The Receptionist will be based in Chicago, IL.  The right candidate will be an integral part of our talented team, supporting our continued growth.Responsibilities include but are not limited to:  Providing reception services, coverage and being the liaison for the scheduling and maintenance of conference duties.We are looking for team players who are proactive and are willing to do “whatever it takes” to get the job doneIdeal candidate has a “can do” attitudeGreet visitors, answer phones, and direct calls appropriatelyBe well spoken, clear and patient with all interactionsRemain calm and professional in stressful situationsFollow documented procedures and other duties as mutually agreedEnforce and handle security compliance standards regarding visitor’s badgesCoordinate conference room reservations and room preparationMaintain conference room standards as designatedHelp resolve employee and customer concerns/issuesAdministrative services/processing large volume reports/invoices using excel and assisting manager with quarterly business reviewsLift large bundles of mail and make mail deliveriesHandle time-sensitive and confidential materialPerform duties and special requests as assigned by management and clientParticipate in cross-training and be flexible to perform varying roles whenever necessaryBalance workload; provide guidance and direction to teamServe as focal point for communication with customer and company personnelEnsure operating and quality standards are met based on service objectivesMaintain accuracy of required reports, logs and measurementsEnsure the highest levels of customer careEnsure adherence to business guidelines, safety &amp; security proceduresSupport financial results by minimizing site waste and reworkDressing in professional attirePerform other tasks as assigned ",
         "Required Qualifications:High School diploma or equivalent (GED) requiredMinimum of 1 year customer service related experience requiredComputer proficiency in email environments, MS Office, OutlookStrong organizational and administrative skills requiredAbility to communicate both verbally and written with customers and client personnelExperience coordinating and designating work to employeesAbility to excel in a fast-paced, multi-tasking, team environmentAbility to effectively work independently and in a team environmentAbility to adhere and administer companies policies and proceduresCreative thinkerOutstanding work ethicTarget-drivenEnthusiastic and passionateSitting for long periods of timeAbility to meet attendance policySuccessful completion of a pre-employment drug screening, employment history check, credit check and criminal background check",
         null,
         "0",
         "1",
         "0",
         "Full-time",
         "Entry level",
         "High School or equivalent",
         "Financial Services",
         "Administrative",
         "0"
        ],
        [
         "40",
         "40",
         "41",
         "English Teacher Abroad ",
         "US, PA, Kutztown",
         null,
         null,
         "We help teachers get safe &amp; secure jobs abroad :)",
         "Play with kids, get paid for it Love travel? Jobs in Asia$1,500+ USD monthly ($200 Cost of living)Housing provided (Private/Furnished)Airfare ReimbursedExcellent for student loans/credit cardsGabriel Adkins : #URL_ed9094c60184b8a4975333957f05be37e69d3cdb68decc9dd9a4242733cfd7f7##URL_75db76d58f7994c7db24e8998c2fc953ab9a20ea9ac948b217693963f78d2e6b#12 month contract : Apply today ",
         "University degree required. TEFL / TESOL / CELTA or teaching experience preferred but not necessaryCanada/US passport holders only",
         "See job description",
         "0",
         "1",
         "1",
         "Contract",
         null,
         "Bachelor's Degree",
         "Education Management",
         null,
         "0"
        ],
        [
         "41",
         "41",
         "42",
         "English Teacher Abroad ",
         "US, CA, Sacramento",
         null,
         null,
         "We help teachers get safe &amp; secure jobs abroad :)",
         "Play with kids, get paid for it Love travel? Jobs in Asia$1,500+ USD monthly ($200 Cost of living)Housing provided (Private/Furnished)Airfare ReimbursedExcellent for student loans/credit cardsGabriel Adkins : #URL_ed9094c60184b8a4975333957f05be37e69d3cdb68decc9dd9a4242733cfd7f7##URL_75db76d58f7994c7db24e8998c2fc953ab9a20ea9ac948b217693963f78d2e6b#12 month contract : Apply today :-)",
         "University degree required. TEFL / TESOL / CELTA or teaching experience preferred but not necessaryCanada/US passport holders only",
         "See job description",
         "0",
         "1",
         "1",
         "Contract",
         null,
         "Bachelor's Degree",
         "Education Management",
         null,
         "0"
        ],
        [
         "42",
         "42",
         "43",
         "Jr. Developer",
         "US",
         null,
         "40000-50000",
         null,
         "Entry level Software DeveloperLocation : Atlanta, GeorgiaExperience : 1-2 yearsExperience in a production web environment implementing mission critical services.Development of Web Server side PHP in LAMP environments Having experience with XHTML / CSS/ Javascript ia a plus, Knowledge in any of the JavaScript Frameworks and supportive technologiesFamiliarity with Debian Linux,OS X, Ubuntu",
         null,
         null,
         "0",
         "0",
         "0",
         "Full-time",
         "Entry level",
         "Bachelor's Degree",
         "Computer Software",
         "Engineering",
         "0"
        ],
        [
         "43",
         "43",
         "44",
         "Customer Service Associate Receptionist ",
         "US, MD, Columbia",
         null,
         null,
         "Novitex Enterprise Solutions, formerly Pitney Bowes Management Services, delivers innovative document and communications management solutions that help companies around the world drive business process efficiencies, increase productivity, reduce costs and improve customer satisfaction. For almost 30 years, clients have turned to us to integrate and optimize their enterprise-wide business processes to empower employees, increase productivity and maximize results. As a trusted partner, we continually focus on delivering secure, technology-enabled document and communications solutions that improve our clients' work processes, enhance their customer interactions and drive growth.",
         "The Customer Service Associate will be based in Columbia, MD. The right candidate will be an integral part of our talented team, supporting our continued growth.Responsibilities:Answering phones and providing callers with professional, courteous and prompt assistance.Collect and document lobby activity and metricsModerate to complex clerical and administrative assignmentsSubmit and follow up with facilities requestsResponsible for maintaining a pleasant and businesslike atmosphere in lobbyAdhere to security policies and proceduresHandle badge requests and photosHandle incoming and outgoing packages and mailAssist with conference room coordination and light cleaning and site organization",
         "Minimum Requirements:Minimum of 6 months customer service related experience requiredHigh school diploma or equivalent (GED) requiredPreferred Qualifications:Keyboarding and windows environment PC skills required (Word, Excel and PowerPoint preferred)Able to maintain constant communication with supervisor and clientsExcellent communication skills both verbal and writtenLifting up to 55 lbs with or without accommodationsWillingness to submit to a pre-employment drug screening and criminal background checkAbility to effectively work individually or in a team environmentCompetency in performing multiple functional tasksAbility to meet employer's attendance policy ",
         null,
         "0",
         "1",
         "0",
         "Full-time",
         "Entry level",
         "High School or equivalent",
         "Consumer Services",
         "Customer Service",
         "0"
        ],
        [
         "44",
         "44",
         "45",
         "Customer Service Team Lead ",
         "US, OK, Tulsa",
         null,
         null,
         "Novitex Enterprise Solutions, formerly Pitney Bowes Management Services, delivers innovative document and communications management solutions that help companies around the world drive business process efficiencies, increase productivity, reduce costs and improve customer satisfaction. For almost 30 years, clients have turned to us to integrate and optimize their enterprise-wide business processes to empower employees, increase productivity and maximize results. As a trusted partner, we continually focus on delivering secure, technology-enabled document and communications solutions that improve our clients' work processes, enhance their customer interactions and drive growth.",
         "We are currently seeking a Customer Service Team Lead. The right candidate will be an integral part of our talented team, supporting our continued growth. This position will be located in our Tulsa, OKlocation.Responsibilities include, but are not limited to:Must be proficient in Microsoft Office toolsCreate and consolidate data from Excel SpreadsheetsReview and update proceduresWritten communication with customerPerform various Mail Center activities (sorting, metering, folding, inserting, delivery, pickup, etc.)Lift heavy boxes, files or paper when neededMaintain the highest levels of customer care while demonstrating a friendly and cooperative attitudeDemonstrate flexibility in satisfying customer demands in a high volume, production environmentConsistently adhere to business procedure guidelinesAdhere to all safety proceduresTake direction from supervisor or site managerMaintain all logs and reporting documentation; attention to detailParticipate in cross-training and perform other duties as assigned (Filing, outgoing shipments, etc)Operating mailing, copy or scanning equipmentShipping &amp; ReceivingHandle time-sensitive material like confidential, urgent packagesMaintain the highest levels of customer care while demonstrating a friendly and cooperative attitudePerform other tasks as assignedScanning incoming mail to recipientsPerform file purges and pullsProvide backfill when neededEnter information daily into spreadsheetsDemonstrate flexibility in satisfying customer demands in a high volume, production environmentTake direction from supervisor or site managerParticipate in cross-training and perform other duties as assignedMaintain all logs and reporting documentation; strong attention to detailConsistently adhere to business procedure guidelinesSort and deliver mail, small packagePerform any and all duties as assigned by management within reprographic services.Establish operating procedures and quality standards.Test and evaluate new equipment and materials.Responsible for all aspects of equipment.Remain informed and adhere to all established safety and security procedures.Perform necessary adjustments as outlined in the operator’s manual for set equipment.Follow start-up, shut-down and clean-up procedures for equipment.Occasional performance of limited operations on more complex, automated equipment.Monitor operations and make mechanical adjustments as needed, to ensure proper quality output.FilingPull and re-shelve FilesSort and prep documents or files for scanningScanningUtilize customer database to look up informationWhen Necessary: Assist in other site duties when needed",
         "Required Qualifications:High school diploma or equivalent (GED) requiredMinimum of three months customer service related experience preferred.Demonstrated knowledge and experience in a related functional area preferred.Skills and Attributes:Computer skills a must – Proficient with email, Microsoft Office, instant messaging and multiple inventory software programs will be used on a daily basis.Able to effectively communicate in writing and verbally with clients and company personnel.Planning and organization skills.Excellent attendance.Customer service, people oriented.Able to effectively work independently or in a team environment.Basic mathematical knowledge.Demonstrate competency in performing required tasks.Demonstrate proficiency in operation of related equipment.High level of accuracy is critical, attention to detail.May be required to work flexible hours.",
         null,
         "0",
         "1",
         "0",
         "Full-time",
         "Entry level",
         "High School or equivalent",
         "Computer Software",
         "Customer Service",
         "0"
        ],
        [
         "45",
         "45",
         "46",
         "Inside Sales Professional-Omaha",
         "US, NE, Omaha",
         null,
         null,
         "ABC Supply Co., Inc. is the nation’s largest wholesale distributor of roofing and one of the largest distributors of siding, windows, and other exterior building products. Since our start in 1982, we've grown to become a national organization with over 450 locations in 45 states. Our mission is to be the biggest, best, and easiest service company distributing exterior building products. We fulfill that mission by stocking the brands and products contractors need at competitive prices, operating a state-of-the-art delivery system, and actively listening to our customers. We know that we will only be successful when our customers are successful. That’s why we make good on our promises every day.",
         "As a Sales Representative, you will provide assistance to our customers as they purchase the materials and tools they need for a wide variety of roofing, siding, and window/door replacement projects. From the moment you greet customers until their sales have been finalized, you will provide them with the best in customer service and exterior building supply expertise.Your specific duties as a Sales Representative may include:Determining customers’ needs and recommending appropriate products and solutionsFollowing ABC’s product/supply checklist for each customer’s specific job and upselling additional products and supplies for that jobAnswering customer questions and offering product adviceOrdering products from other ABC Supply branches when necessaryAccepting payment and applying it to the appropriate customer accountArranging with the warehouse for customer product pickupFollowing-up on each delivery to ensure that shipment arrived on time with all items accounted forBalancing out cash drawers and preparing bank deposits at the end of each dayArranging product displays and layouts to maximize effectivenessReordering products to keep the store and warehouse shelves well stockedGiving out comment cards to customersAddressing and resolving customer complaints when necessary",
         "As a Sales Representative, you must have the ability to provide superior customer service and to go the extra mile to determine and provide exactly what each customer needs. It helps if you have experience with exterior building supplies so that you are familiar with the various products and associated contractor terminology. As a Sales Representative, you will also need to be self-motivated with a strong work ethic and excellent attention to detail.Specific qualifications for the Sales Representative position include:1-2 years retail/customer service experience; experience with residential roofing and siding and windows (retail supply sales or site work with a crew) preferredStrong retail merchandising skills (including shelving and layout)Excellent verbal and written communication and interpersonal skillsSolid time management and prioritization skillsBasic computer skillsAbility to lift 50-75 pounds",
         "Your benefits package as a Sales Representative may include:Health, dental, and vision coverageLife insurance401(k)Flex spendingBonus opportunities2 weeks vacation after first full year of employmentPersonal daysSick daysPaid holidays",
         "0",
         "1",
         "0",
         "Full-time",
         null,
         null,
         "Building Materials",
         "Sales",
         "0"
        ],
        [
         "46",
         "46",
         "47",
         "Entry Level ",
         "EG, C, ",
         null,
         null,
         "History &amp; Background The Bank started its activities in Feb. 1985 at the time when the economic arena was characterized by major developments, a matter which gave the bank mission special significance, as Egypt was suffering at that time from great pressures on its balance of payments. This was apart from the rising deficit of the balance of trade. Consequently, the external debt problem started to represent a sort of concern to the Egyptian economy in all its sectors.The Bank was founded as a financial institution to boost Egyptian exports. The export development issue is not only an economic policy to cope with the balance of payments problem, but also represents a strategic trend for development policies in a global economy that gets closer and integrated every day. Accordingly, the export sector is a crucial propeller for modernization and development. There are various examples of many small and medium size countries in which the export sector played a significant role in developing their economies.General Trend of Bank Activities Export Development Bank of Egypt adopts special measures such as excellence and quality in playing its pivotal role. Through its distinguished performance, the bank aims to be one of the remarkable financial centers, thus it does not confine its target to attain maximum profitability only, but also to achieve prosperity.Since its inception, the Bank has managed to maintain its identity as a commercial and investment bank; rather than a deposit collecting retail commercial bank. The bank has always been eager to support the export sector through financing investment projects pertaining to such sector, which is contrary to the main philosophy of commercial banks that aim at working capital financing for existing projects. In Egypt common practice has shown that most of the development banks have turned to current operations and deposit gathering, acting as mere commercial banks and thus deviating from their authentic target of being investment and development financial institutions.The bank resorted to opening of new branches and gathering deposits in order to meet its main goal of establishing and boosting a solid export sector. Consequently, the bank persisted on gathering deposits of companies and corporations in order to be a wholesale bank. The bank re-affirmed its geographic presence in export oriented locations like that of Alexandria that was opened in May 1989 and Tenth of Ramadan in September 1989.With the change of the government monetary policy during the early nineties, and the tendency to develop sources of finance through issuing treasury bills and bonds, and lifting subsidized interest rates by all means,  the bank was motivated to establish a network of branches to mobilize financial resources. Accordingly, the network of branches at our bank had increasingly expanded to 21 branches in March 2012.With the beginning of the financial reform in 2004 following the amendment of Central Bank Law, as well as The Banking Sector and Money Law no. 88/2003, Central Bank reclassified all banks thus giving them full freedom to open new branches and promote several saving. Accordingly, the bank had to rectify all its future plans to include branch expansion policy, as well as the new banking products that concern individuals and corporations.  Developments of Bank's Activities :Throughout the life of the Bank that exceeds quarter of a century, EDBE witnessed numerous aspect of development, most significant of which were the following:Ownership :Ownership:Regarding ownership structure, the Bank has endeavored to develop the Egyptian capital market through launching new products in order to assume its basic role as an important source of funding. At first, the bank managed to change its articles of association to allow the private sector and the Egyptian family sector to contribute to its capital. It also aspired to allow its staff to own some shares of its capital part as one kind of propagating the culture of dealing with the capital market and as an incentive to the staff to further foster their loyalty and belonging to the institution in which they work.On the other hand, the Bank managed to establish companies focusing on export development, thus allowing the staff own some shares of their capital. Such companies realized good gains for the bank when sold e.g. Roto Pack and Techno Pack.Loans &amp; advancesIt is worth mentioning that the Bank's loans and advances portfolio has experienced several phases of progress throughout the history of the Bank. At the beginning, the bank focused on medium term finance for export projects or those that aim at exports in order to increase the export capacity of the country thus propagating the culture of production for export and not export of surplus products.In a subsequent phase, the bank expanded to focus on financing the working capital of different sectors of the economy.The global financial crisis at the end of the twentieth century that hit the banking sector in Egypt left behind it several criticized and troubled debts that had, in turn, its effects on our Bank. Subsequently, our Bank encountered some difficulties as a result of having a high segment of exporters who deal with the external world, thus encountering some problems which, in turn, had its effects on the credit portfolio. Nevertheless, through its efforts and due to its high coverage ratio and credit worthiness, the bank became one of the most reputable high ranking institutions regarding the quality of its loan portfolio. ",
         "We offer diversified opportunities in various fields including but not limited to- Corporate Banking.- SME'S.- Branches Network Retail and Marketing-corporate banking . ",
         "-0-1 years experience English Bachelor in commerce ,Business Administration ,Economics or its Equivalent- Excellent Computer Skills - Very good communication &amp; interpersonal skills.",
         null,
         "0",
         "0",
         "0",
         "Full-time",
         "Entry level",
         "Bachelor's Degree",
         "Banking",
         null,
         "0"
        ],
        [
         "47",
         "47",
         "48",
         "Customer Service Associate ",
         "US, TN, Brentwood",
         null,
         null,
         "Novitex Enterprise Solutions, formerly Pitney Bowes Management Services, delivers innovative document and communications management solutions that help companies around the world drive business process efficiencies, increase productivity, reduce costs and improve customer satisfaction. For almost 30 years, clients have turned to us to integrate and optimize their enterprise-wide business processes to empower employees, increase productivity and maximize results. As a trusted partner, we continually focus on delivering secure, technology-enabled document and communications solutions that improve our clients' work processes, enhance their customer interactions and drive growth.",
         "The Customer Service Associate will be based in Brentwood, TN. The right candidate will be an integral part of our talented team, supporting our continued growth.Key responsibilities:Operate SwitchboardCreate labels, assemble outgoing packages, and not computer systemData entryGreet visitors and general clerical duties.Perform various Mail Center activities (sorting, metering, folding, inserting, delivery, pickup, etc.)Create excel spreadsheets, mail merge projects and word documentsAddress and label lettersComplete multiple projects at one timeLift heavy boxes, files or paper when neededMaintain the highest levels of customer care while demonstrating a friendly and cooperative attitudeDemonstrate flexibility in satisfying customer demands in a high volume, production environmentConsistently adhere to business procedure guidelinesAdhere to all safety proceduresTake direction from supervisor or site managerMaintain all logs and reporting documentation; attention to detailParticipate in cross-training and perform other duties as assignedOperating mailing, copy or fax equipmentShipping &amp; ReceivingLift large bundles of mail, overnight packages and shipments of paperHandle time-sensitive material like confidential, urgent packagesMaintain the highest levels of customer care while demonstrating a friendly and cooperative attitudePerform other tasks as assigned",
         "Minimum Requirements:High school diploma or equivalent (GED) requiredMinimum of 1 year customer service related experience requiredDesired Skills:Ability to communicate both verbally and written with customers and company personnel requiredComputer proficiency in email environments, MS Word/Excel or similar programs preferredAbility to handle multiple projects simultaneouslyStrong organizational and administrative skills preferredHandling up to a maximum of 55  pounds with or without accommodationsSort and deliver mail, packages, pouches both incoming and outgoingAbility to walk, sit, stand or sit for long periods (possibly entire shift)Ability to adhere to employee attendance policy",
         null,
         "0",
         "1",
         "0",
         "Full-time",
         "Entry level",
         "High School or equivalent",
         "Financial Services",
         "Administrative",
         "0"
        ],
        [
         "48",
         "48",
         "49",
         "English Teacher Abroad ",
         "US, OH, Kent",
         null,
         null,
         "We help teachers get safe &amp; secure jobs abroad :)",
         "Play with kids, get paid for it Love travel? Jobs in Asia$1,500+ USD monthly ($200 Cost of living)Housing provided (Private/Furnished)Airfare ReimbursedExcellent for student loans/credit cardsGabriel Adkins : #URL_ed9094c60184b8a4975333957f05be37e69d3cdb68decc9dd9a4242733cfd7f7##URL_75db76d58f7994c7db24e8998c2fc953ab9a20ea9ac948b217693963f78d2e6b#12 month contract : Apply today ",
         "University degree required. TEFL / TESOL / CELTA or teaching experience preferred but not necessaryCanada/US passport holders only",
         "See job description",
         "0",
         "1",
         "1",
         "Contract",
         null,
         "Bachelor's Degree",
         "Education Management",
         null,
         "0"
        ],
        [
         "49",
         "49",
         "50",
         "Customer Service Team Lead",
         "US, NH, Dover",
         null,
         null,
         "Novitex Enterprise Solutions, formerly Pitney Bowes Management Services, delivers innovative document and communications management solutions that help companies around the world drive business process efficiencies, increase productivity, reduce costs and improve customer satisfaction. For almost 30 years, clients have turned to us to integrate and optimize their enterprise-wide business processes to empower employees, increase productivity and maximize results. As a trusted partner, we continually focus on delivering secure, technology-enabled document and communications solutions that improve our clients' work processes, enhance their customer interactions and drive growth.",
         "We are currently seeking a Customer Service Team Lead. The right candidate will be an integral part of our talented team, supporting our continued growth. This position will be located in our Dover, NH location.Responsibilities include, but are not limited to:Data entryPerform various Mail Center activities (sorting, metering, folding, inserting, delivery, pickup, etc.)Address and label lettersComplete multiple projects at one timeLift heavy boxes, files or paper when neededMaintain the highest levels of customer care while demonstrating a friendly and cooperative attitudeDemonstrate flexibility in satisfying customer demands in a high volume, production environmentConsistently adhere to business procedure guidelinesAdhere to all safety proceduresTake direction from site managerMaintain all logs and reporting documentation; attention to detailParticipate in cross-training and perform other duties as assignedOperating mailing, copy or fax equipmentShipping &amp; ReceivingLift large bundles of mail, overnight packages and shipments of paperHandle time-sensitive material like confidential, urgent packagesProvide courier servicesMaintain the highest levels of customer care while demonstrating a friendly and cooperative attitudePerform other tasks as assigned",
         "Required Qualifications:High school diploma or equivalent (GED) requiredMinimum of 1 year customer service related experience requiredAbility to communicate both verbally and written with customers and company personnel requiredComputer proficiency in email environments, MS Word/Excel or similar programs preferredAbility to handle multiple projects simultaneouslyStrong organizational and administrative skills preferredHandling up to a maximum of 55  pounds with or without accommodationsSort and deliver mail, packages, pouches both incoming and outgoingAbility to walk, sit, stand or sit for long periods (possibly entire shift)Ability to adhere to employee attendance policy",
         null,
         "0",
         "1",
         "0",
         "Full-time",
         "Entry level",
         "High School or equivalent",
         "Facilities Services",
         "Customer Service",
         "0"
        ],
        [
         "50",
         "50",
         "51",
         "Food Production Manager @ PGI, a Food Production Company",
         "US, NV, Carson City",
         "Production",
         null,
         "PGI is a fast growing organic herb/spice/botanicals importing and production company that utilizes extensive food safety, handling and management practices to insure a quality product. ",
         "November, 2014Pure Ground Ingredients (PGI)in Carson CityPGI is a fast growing organic herb/spice/botanicals importing and production company that utilizes extensive food safety, handling and management practices to insure a quality product. We currently have a number of open positions in our shipping, warehouse and production operations.Food Production Manager- Experience managing staff and processing including milling, blending, packing, roasting, micro treatment operations, etc..- Experience with OSHA, HACCP and industry food/safety standards and policies- Experience manage physical plant operations, including electrical and food production machineryAll applicants must submit to drug and background screening.Company is an Equal Opportunity Employer.",
         "Manager role requirements- Multi-lingual (English &amp; Spanish)- Computer literate (MS Excel, email, web browsing, etc)- Previous food production/manufacturing experience- Team leadership and staff development experienceRequirements for applicants- Submit resume (please don't call/visit).- Specify which position you are applying for.- Include a brief statement indicating your background match to our requirements.",
         null,
         "0",
         "1",
         "0",
         "Full-time",
         "Entry level",
         "High School or equivalent",
         "Food & Beverages",
         "Production",
         "0"
        ],
        [
         "51",
         "51",
         "52",
         "Administrative/Front Desk ",
         "US, OK, Tulsa",
         null,
         null,
         "Novitex Enterprise Solutions, formerly Pitney Bowes Management Services, delivers innovative document and communications management solutions that help companies around the world drive business process efficiencies, increase productivity, reduce costs and improve customer satisfaction. For almost 30 years, clients have turned to us to integrate and optimize their enterprise-wide business processes to empower employees, increase productivity and maximize results. As a trusted partner, we continually focus on delivering secure, technology-enabled document and communications solutions that improve our clients' work processes, enhance their customer interactions and drive growth.",
         "The Customer Service Technical Specialist will be based in our Tulsa, OK client location. The right candidate will be an integral part of our talented team, supporting our continued growth. Responsibilities:Simple typingData entry for work tickets and for reportsCovering phones and help customers at front deskSupporting and helping Copy Services at the customer service counterContacting equipment providers for service as necessaryOrdering supplies and keeping track of inventoryMaintaining all logs and reporting documentation; attention to detailHandling time-sensitive material like confidential, urgent projectsMaintaining the highest levels of customer care while demonstrating a friendly and cooperative attitudeDemonstrating flexibility in satisfying customer demands in a high volume, production environmentConsistently adhering to business procedure guidelinesTaking direction from supervisor or site managerPerforming other tasks as assigned and participate in crosstrainingAdhering to all safety procedures",
         "Required Qualifications:Minimum 1 year customer service related experience requiredMinimum 1 year of administrative work within a business or production environmentStrong working knowledge with PCs and WindowsStrong working knowledge with MS OfficeAbility to interface with end user in professional manner, sense of urgencyMust be able to work well with customers and be able to handle a fast-paced environment.Excellent communication skills both verbal (telephone and face/face) and writtenAbility to effectively work individually or in a team environmentMust have the attention and awareness of details for the specifications of print projects.Competency in performing multiple functional tasksAbility to meet employer's attendance policyLifting and/or moving items up to 50 pounds or the maximum allowed by current State Law with or without accommodationsStanding and/or walking for long periods of time with or without accommodationsHighschool Diploma or Equivalent requiredPreferred Qualifications:Experience in copy or print production is preferredMinimum of 1 year related experience preferred (Administrative work)Knowledge of hardware/software a plus (Adobe Photoshop or InDesign, MS Office/Mid level, Access experience a plus)Graphic arts and/or Pre-press would be a plusCollege Degree or Equivalent preferred ",
         null,
         "0",
         "1",
         "0",
         "Full-time",
         "Entry level",
         "High School or equivalent",
         "Education Management",
         "Administrative",
         "0"
        ],
        [
         "52",
         "52",
         "53",
         "Payroll Tax Specialist",
         "US, NY, New York",
         null,
         null,
         "Namely is the leading end-to-end HR and payroll platform for growing companies. Offerings include human payroll, benefits administration, time management, human capital management, performance management, and employee engagement. In addition, each company is assigned its own account manager, available 24/7 for ongoing support and training for each of Namely’s features. Namely is used by some of the world’s most innovative and exciting companies from many industries, including media, technology, commerce, and professional services.",
         "Namely is an agile startup dedicated to building an end-to-end Human Capital Management platform for businesses of all sizes – clients like Birchbox, Hailo &amp; Warby Parker all use Namely for HR management. Our users are varied (HR administrators, managers, and average employees), and our clients each have their own culture and policies.",
         "Qualifications:Payroll and/or Payroll Tax processing experience requiredMaster Tax Software knowledge or similar software requiredMS Excel requiredDuties:Verify that all required documentation is received by client for payroll tax set-upRegister clients with various state agencies for withholding and unemployment tax accountsRegister clients for ACH Credit/Debit payments and reportingAssist with processing payroll tax payments using Master Tax and onlineAssist with the preparation and submission of monthly and quarterlypayroll tax withholding and contribution returns using Master Tax and online",
         null,
         "0",
         "1",
         "0",
         "Full-time",
         null,
         null,
         "Information Technology and Services",
         null,
         "0"
        ]
       ],
       "shape": {
        "columns": 19,
        "rows": 957
       }
      },
      "text/html": [
       "<div>\n",
       "<style scoped>\n",
       "    .dataframe tbody tr th:only-of-type {\n",
       "        vertical-align: middle;\n",
       "    }\n",
       "\n",
       "    .dataframe tbody tr th {\n",
       "        vertical-align: top;\n",
       "    }\n",
       "\n",
       "    .dataframe thead th {\n",
       "        text-align: right;\n",
       "    }\n",
       "</style>\n",
       "<table border=\"1\" class=\"dataframe\">\n",
       "  <thead>\n",
       "    <tr style=\"text-align: right;\">\n",
       "      <th></th>\n",
       "      <th>Unnamed: 0</th>\n",
       "      <th>job_id</th>\n",
       "      <th>title</th>\n",
       "      <th>location</th>\n",
       "      <th>department</th>\n",
       "      <th>salary_range</th>\n",
       "      <th>company_profile</th>\n",
       "      <th>description</th>\n",
       "      <th>requirements</th>\n",
       "      <th>benefits</th>\n",
       "      <th>telecommuting</th>\n",
       "      <th>has_company_logo</th>\n",
       "      <th>has_questions</th>\n",
       "      <th>employment_type</th>\n",
       "      <th>required_experience</th>\n",
       "      <th>required_education</th>\n",
       "      <th>industry</th>\n",
       "      <th>function</th>\n",
       "      <th>fraudulent</th>\n",
       "    </tr>\n",
       "  </thead>\n",
       "  <tbody>\n",
       "    <tr>\n",
       "      <th>0</th>\n",
       "      <td>0</td>\n",
       "      <td>1</td>\n",
       "      <td>Marketing Intern</td>\n",
       "      <td>US, NY, New York</td>\n",
       "      <td>Marketing</td>\n",
       "      <td>NaN</td>\n",
       "      <td>We're Food52, and we've created a groundbreaki...</td>\n",
       "      <td>Food52, a fast-growing, James Beard Award-winn...</td>\n",
       "      <td>Experience with content management systems a m...</td>\n",
       "      <td>NaN</td>\n",
       "      <td>0</td>\n",
       "      <td>1</td>\n",
       "      <td>0</td>\n",
       "      <td>Other</td>\n",
       "      <td>Internship</td>\n",
       "      <td>NaN</td>\n",
       "      <td>NaN</td>\n",
       "      <td>Marketing</td>\n",
       "      <td>0</td>\n",
       "    </tr>\n",
       "    <tr>\n",
       "      <th>1</th>\n",
       "      <td>1</td>\n",
       "      <td>2</td>\n",
       "      <td>Customer Service - Cloud Video Production</td>\n",
       "      <td>NZ, , Auckland</td>\n",
       "      <td>Success</td>\n",
       "      <td>NaN</td>\n",
       "      <td>90 Seconds, the worlds Cloud Video Production ...</td>\n",
       "      <td>Organised - Focused - Vibrant - Awesome!Do you...</td>\n",
       "      <td>What we expect from you:Your key responsibilit...</td>\n",
       "      <td>What you will get from usThrough being part of...</td>\n",
       "      <td>0</td>\n",
       "      <td>1</td>\n",
       "      <td>0</td>\n",
       "      <td>Full-time</td>\n",
       "      <td>Not Applicable</td>\n",
       "      <td>NaN</td>\n",
       "      <td>Marketing and Advertising</td>\n",
       "      <td>Customer Service</td>\n",
       "      <td>0</td>\n",
       "    </tr>\n",
       "    <tr>\n",
       "      <th>2</th>\n",
       "      <td>2</td>\n",
       "      <td>3</td>\n",
       "      <td>Commissioning Machinery Assistant (CMA)</td>\n",
       "      <td>US, IA, Wever</td>\n",
       "      <td>NaN</td>\n",
       "      <td>NaN</td>\n",
       "      <td>Valor Services provides Workforce Solutions th...</td>\n",
       "      <td>Our client, located in Houston, is actively se...</td>\n",
       "      <td>Implement pre-commissioning and commissioning ...</td>\n",
       "      <td>NaN</td>\n",
       "      <td>0</td>\n",
       "      <td>1</td>\n",
       "      <td>0</td>\n",
       "      <td>NaN</td>\n",
       "      <td>NaN</td>\n",
       "      <td>NaN</td>\n",
       "      <td>NaN</td>\n",
       "      <td>NaN</td>\n",
       "      <td>0</td>\n",
       "    </tr>\n",
       "    <tr>\n",
       "      <th>3</th>\n",
       "      <td>3</td>\n",
       "      <td>4</td>\n",
       "      <td>Account Executive - Washington DC</td>\n",
       "      <td>US, DC, Washington</td>\n",
       "      <td>Sales</td>\n",
       "      <td>NaN</td>\n",
       "      <td>Our passion for improving quality of life thro...</td>\n",
       "      <td>THE COMPANY: ESRI – Environmental Systems Rese...</td>\n",
       "      <td>EDUCATION: Bachelor’s or Master’s in GIS, busi...</td>\n",
       "      <td>Our culture is anything but corporate—we have ...</td>\n",
       "      <td>0</td>\n",
       "      <td>1</td>\n",
       "      <td>0</td>\n",
       "      <td>Full-time</td>\n",
       "      <td>Mid-Senior level</td>\n",
       "      <td>Bachelor's Degree</td>\n",
       "      <td>Computer Software</td>\n",
       "      <td>Sales</td>\n",
       "      <td>0</td>\n",
       "    </tr>\n",
       "    <tr>\n",
       "      <th>4</th>\n",
       "      <td>4</td>\n",
       "      <td>5</td>\n",
       "      <td>Bill Review Manager</td>\n",
       "      <td>US, FL, Fort Worth</td>\n",
       "      <td>NaN</td>\n",
       "      <td>NaN</td>\n",
       "      <td>SpotSource Solutions LLC is a Global Human Cap...</td>\n",
       "      <td>JOB TITLE: Itemization Review ManagerLOCATION:...</td>\n",
       "      <td>QUALIFICATIONS:RN license in the State of Texa...</td>\n",
       "      <td>Full Benefits Offered</td>\n",
       "      <td>0</td>\n",
       "      <td>1</td>\n",
       "      <td>1</td>\n",
       "      <td>Full-time</td>\n",
       "      <td>Mid-Senior level</td>\n",
       "      <td>Bachelor's Degree</td>\n",
       "      <td>Hospital &amp; Health Care</td>\n",
       "      <td>Health Care Provider</td>\n",
       "      <td>0</td>\n",
       "    </tr>\n",
       "    <tr>\n",
       "      <th>...</th>\n",
       "      <td>...</td>\n",
       "      <td>...</td>\n",
       "      <td>...</td>\n",
       "      <td>...</td>\n",
       "      <td>...</td>\n",
       "      <td>...</td>\n",
       "      <td>...</td>\n",
       "      <td>...</td>\n",
       "      <td>...</td>\n",
       "      <td>...</td>\n",
       "      <td>...</td>\n",
       "      <td>...</td>\n",
       "      <td>...</td>\n",
       "      <td>...</td>\n",
       "      <td>...</td>\n",
       "      <td>...</td>\n",
       "      <td>...</td>\n",
       "      <td>...</td>\n",
       "      <td>...</td>\n",
       "    </tr>\n",
       "    <tr>\n",
       "      <th>996</th>\n",
       "      <td>996</td>\n",
       "      <td>997</td>\n",
       "      <td>Financial Analyst / Intermediate Accountant</td>\n",
       "      <td>CA, BC, Langley</td>\n",
       "      <td>Finance</td>\n",
       "      <td>40000-55000</td>\n",
       "      <td>Great Customer Service from Start to FinishWha...</td>\n",
       "      <td>Centra Construction Group, a well established,...</td>\n",
       "      <td>The successful applicant will have the followi...</td>\n",
       "      <td>NaN</td>\n",
       "      <td>0</td>\n",
       "      <td>1</td>\n",
       "      <td>1</td>\n",
       "      <td>Full-time</td>\n",
       "      <td>Mid-Senior level</td>\n",
       "      <td>Certification</td>\n",
       "      <td>Construction</td>\n",
       "      <td>Finance</td>\n",
       "      <td>0</td>\n",
       "    </tr>\n",
       "    <tr>\n",
       "      <th>997</th>\n",
       "      <td>997</td>\n",
       "      <td>998</td>\n",
       "      <td>EXECUTIVE SOUS CHEF</td>\n",
       "      <td>MY, ,</td>\n",
       "      <td>NaN</td>\n",
       "      <td>55000-65000</td>\n",
       "      <td>Le Meridien is situated in the heart of kuala ...</td>\n",
       "      <td>Responsible for assisting in the direction and...</td>\n",
       "      <td>NaN</td>\n",
       "      <td>NaN</td>\n",
       "      <td>0</td>\n",
       "      <td>1</td>\n",
       "      <td>0</td>\n",
       "      <td>Contract</td>\n",
       "      <td>Executive</td>\n",
       "      <td>NaN</td>\n",
       "      <td>Hospitality</td>\n",
       "      <td>NaN</td>\n",
       "      <td>1</td>\n",
       "    </tr>\n",
       "    <tr>\n",
       "      <th>998</th>\n",
       "      <td>998</td>\n",
       "      <td>999</td>\n",
       "      <td>Bookeeper/Supply Manager</td>\n",
       "      <td>US, NY, Southampton</td>\n",
       "      <td>NaN</td>\n",
       "      <td>35000-45000</td>\n",
       "      <td>NaN</td>\n",
       "      <td>Full time Bookkeeper for local Southampton ene...</td>\n",
       "      <td>Heavy Quickbooks 2013 experience</td>\n",
       "      <td>MedicalPaid Time Off Policy</td>\n",
       "      <td>0</td>\n",
       "      <td>0</td>\n",
       "      <td>1</td>\n",
       "      <td>Full-time</td>\n",
       "      <td>Associate</td>\n",
       "      <td>NaN</td>\n",
       "      <td>Environmental Services</td>\n",
       "      <td>Accounting/Auditing</td>\n",
       "      <td>0</td>\n",
       "    </tr>\n",
       "    <tr>\n",
       "      <th>999</th>\n",
       "      <td>999</td>\n",
       "      <td>1000</td>\n",
       "      <td>Project Manager: Software and Web Development</td>\n",
       "      <td>US, CA, San Diego</td>\n",
       "      <td>NaN</td>\n",
       "      <td>NaN</td>\n",
       "      <td>PINT is a leader in the web industry with 20 y...</td>\n",
       "      <td>PINT is seeking a detail-oriented and impassio...</td>\n",
       "      <td>Project/account management aptitude with the k...</td>\n",
       "      <td>We offer industry-competitive salaries, health...</td>\n",
       "      <td>0</td>\n",
       "      <td>1</td>\n",
       "      <td>1</td>\n",
       "      <td>Full-time</td>\n",
       "      <td>Associate</td>\n",
       "      <td>Bachelor's Degree</td>\n",
       "      <td>Internet</td>\n",
       "      <td>Project Management</td>\n",
       "      <td>0</td>\n",
       "    </tr>\n",
       "    <tr>\n",
       "      <th>1000</th>\n",
       "      <td>1000</td>\n",
       "      <td>1001</td>\n",
       "      <td>Texas Captioning Assistant</td>\n",
       "      <td>US, TX, Lubbock</td>\n",
       "      <td>CSD Relay</td>\n",
       "      <td>NaN</td>\n",
       "      <td>Why CSD?CSD is not only a great place to work,...</td>\n",
       "      <td>Captioning Assistants provide quick and accura...</td>\n",
       "      <td>A minimum of a High School Diploma or equivale...</td>\n",
       "      <td>CSD offers a competitive benefits package for ...</td>\n",
       "      <td>0</td>\n",
       "      <td>1</td>\n",
       "      <td>1</td>\n",
       "      <td>NaN</td>\n",
       "      <td>Entry level</td>\n",
       "      <td>High School or equivalent</td>\n",
       "      <td>Telecommunications</td>\n",
       "      <td>Customer Service</td>\n",
       "      <td>0</td>\n",
       "    </tr>\n",
       "  </tbody>\n",
       "</table>\n",
       "<p>957 rows × 19 columns</p>\n",
       "</div>"
      ],
      "text/plain": [
       "      Unnamed: 0  job_id                                          title  \\\n",
       "0              0       1                               Marketing Intern   \n",
       "1              1       2      Customer Service - Cloud Video Production   \n",
       "2              2       3        Commissioning Machinery Assistant (CMA)   \n",
       "3              3       4              Account Executive - Washington DC   \n",
       "4              4       5                            Bill Review Manager   \n",
       "...          ...     ...                                            ...   \n",
       "996          996     997    Financial Analyst / Intermediate Accountant   \n",
       "997          997     998                            EXECUTIVE SOUS CHEF   \n",
       "998          998     999                       Bookeeper/Supply Manager   \n",
       "999          999    1000  Project Manager: Software and Web Development   \n",
       "1000        1000    1001                     Texas Captioning Assistant   \n",
       "\n",
       "                 location department salary_range  \\\n",
       "0        US, NY, New York  Marketing          NaN   \n",
       "1          NZ, , Auckland    Success          NaN   \n",
       "2           US, IA, Wever        NaN          NaN   \n",
       "3      US, DC, Washington      Sales          NaN   \n",
       "4      US, FL, Fort Worth        NaN          NaN   \n",
       "...                   ...        ...          ...   \n",
       "996       CA, BC, Langley    Finance  40000-55000   \n",
       "997                MY, ,         NaN  55000-65000   \n",
       "998   US, NY, Southampton        NaN  35000-45000   \n",
       "999     US, CA, San Diego        NaN          NaN   \n",
       "1000      US, TX, Lubbock  CSD Relay          NaN   \n",
       "\n",
       "                                        company_profile  \\\n",
       "0     We're Food52, and we've created a groundbreaki...   \n",
       "1     90 Seconds, the worlds Cloud Video Production ...   \n",
       "2     Valor Services provides Workforce Solutions th...   \n",
       "3     Our passion for improving quality of life thro...   \n",
       "4     SpotSource Solutions LLC is a Global Human Cap...   \n",
       "...                                                 ...   \n",
       "996   Great Customer Service from Start to FinishWha...   \n",
       "997   Le Meridien is situated in the heart of kuala ...   \n",
       "998                                                 NaN   \n",
       "999   PINT is a leader in the web industry with 20 y...   \n",
       "1000  Why CSD?CSD is not only a great place to work,...   \n",
       "\n",
       "                                            description  \\\n",
       "0     Food52, a fast-growing, James Beard Award-winn...   \n",
       "1     Organised - Focused - Vibrant - Awesome!Do you...   \n",
       "2     Our client, located in Houston, is actively se...   \n",
       "3     THE COMPANY: ESRI – Environmental Systems Rese...   \n",
       "4     JOB TITLE: Itemization Review ManagerLOCATION:...   \n",
       "...                                                 ...   \n",
       "996   Centra Construction Group, a well established,...   \n",
       "997   Responsible for assisting in the direction and...   \n",
       "998   Full time Bookkeeper for local Southampton ene...   \n",
       "999   PINT is seeking a detail-oriented and impassio...   \n",
       "1000  Captioning Assistants provide quick and accura...   \n",
       "\n",
       "                                           requirements  \\\n",
       "0     Experience with content management systems a m...   \n",
       "1     What we expect from you:Your key responsibilit...   \n",
       "2     Implement pre-commissioning and commissioning ...   \n",
       "3     EDUCATION: Bachelor’s or Master’s in GIS, busi...   \n",
       "4     QUALIFICATIONS:RN license in the State of Texa...   \n",
       "...                                                 ...   \n",
       "996   The successful applicant will have the followi...   \n",
       "997                                                 NaN   \n",
       "998                    Heavy Quickbooks 2013 experience   \n",
       "999   Project/account management aptitude with the k...   \n",
       "1000  A minimum of a High School Diploma or equivale...   \n",
       "\n",
       "                                               benefits  telecommuting  \\\n",
       "0                                                   NaN              0   \n",
       "1     What you will get from usThrough being part of...              0   \n",
       "2                                                   NaN              0   \n",
       "3     Our culture is anything but corporate—we have ...              0   \n",
       "4                                 Full Benefits Offered              0   \n",
       "...                                                 ...            ...   \n",
       "996                                                 NaN              0   \n",
       "997                                                 NaN              0   \n",
       "998                         MedicalPaid Time Off Policy              0   \n",
       "999   We offer industry-competitive salaries, health...              0   \n",
       "1000  CSD offers a competitive benefits package for ...              0   \n",
       "\n",
       "      has_company_logo  has_questions employment_type required_experience  \\\n",
       "0                    1              0           Other          Internship   \n",
       "1                    1              0       Full-time      Not Applicable   \n",
       "2                    1              0             NaN                 NaN   \n",
       "3                    1              0       Full-time    Mid-Senior level   \n",
       "4                    1              1       Full-time    Mid-Senior level   \n",
       "...                ...            ...             ...                 ...   \n",
       "996                  1              1       Full-time    Mid-Senior level   \n",
       "997                  1              0        Contract           Executive   \n",
       "998                  0              1       Full-time           Associate   \n",
       "999                  1              1       Full-time           Associate   \n",
       "1000                 1              1             NaN         Entry level   \n",
       "\n",
       "             required_education                   industry  \\\n",
       "0                           NaN                        NaN   \n",
       "1                           NaN  Marketing and Advertising   \n",
       "2                           NaN                        NaN   \n",
       "3             Bachelor's Degree          Computer Software   \n",
       "4             Bachelor's Degree     Hospital & Health Care   \n",
       "...                         ...                        ...   \n",
       "996               Certification               Construction   \n",
       "997                         NaN                Hospitality   \n",
       "998                         NaN     Environmental Services   \n",
       "999           Bachelor's Degree                   Internet   \n",
       "1000  High School or equivalent         Telecommunications   \n",
       "\n",
       "                  function  fraudulent  \n",
       "0                Marketing           0  \n",
       "1         Customer Service           0  \n",
       "2                      NaN           0  \n",
       "3                    Sales           0  \n",
       "4     Health Care Provider           0  \n",
       "...                    ...         ...  \n",
       "996                Finance           0  \n",
       "997                    NaN           1  \n",
       "998    Accounting/Auditing           0  \n",
       "999     Project Management           0  \n",
       "1000      Customer Service           0  \n",
       "\n",
       "[957 rows x 19 columns]"
      ]
     },
     "metadata": {},
     "output_type": "display_data"
    }
   ],
   "source": [
    "df_missing = df[df.isnull().any(axis=1)]\n",
    "display(df_missing)"
   ]
  },
  {
   "cell_type": "code",
   "execution_count": 12,
   "id": "c024b0b3",
   "metadata": {},
   "outputs": [
    {
     "data": {
      "application/vnd.microsoft.datawrangler.viewer.v0+json": {
       "columns": [
        {
         "name": "index",
         "rawType": "int64",
         "type": "integer"
        },
        {
         "name": "Unnamed: 0",
         "rawType": "int64",
         "type": "integer"
        },
        {
         "name": "job_id",
         "rawType": "int64",
         "type": "integer"
        },
        {
         "name": "title",
         "rawType": "object",
         "type": "string"
        },
        {
         "name": "location",
         "rawType": "object",
         "type": "string"
        },
        {
         "name": "department",
         "rawType": "object",
         "type": "string"
        },
        {
         "name": "salary_range",
         "rawType": "object",
         "type": "string"
        },
        {
         "name": "company_profile",
         "rawType": "object",
         "type": "string"
        },
        {
         "name": "description",
         "rawType": "object",
         "type": "string"
        },
        {
         "name": "requirements",
         "rawType": "object",
         "type": "string"
        },
        {
         "name": "benefits",
         "rawType": "object",
         "type": "string"
        },
        {
         "name": "telecommuting",
         "rawType": "int64",
         "type": "integer"
        },
        {
         "name": "has_company_logo",
         "rawType": "int64",
         "type": "integer"
        },
        {
         "name": "has_questions",
         "rawType": "int64",
         "type": "integer"
        },
        {
         "name": "employment_type",
         "rawType": "object",
         "type": "string"
        },
        {
         "name": "required_experience",
         "rawType": "object",
         "type": "string"
        },
        {
         "name": "required_education",
         "rawType": "object",
         "type": "string"
        },
        {
         "name": "industry",
         "rawType": "object",
         "type": "string"
        },
        {
         "name": "function",
         "rawType": "object",
         "type": "string"
        },
        {
         "name": "fraudulent",
         "rawType": "int64",
         "type": "integer"
        }
       ],
       "ref": "741d4ad8-881e-45a5-b36c-73942dd09b87",
       "rows": [],
       "shape": {
        "columns": 19,
        "rows": 0
       }
      },
      "text/html": [
       "<div>\n",
       "<style scoped>\n",
       "    .dataframe tbody tr th:only-of-type {\n",
       "        vertical-align: middle;\n",
       "    }\n",
       "\n",
       "    .dataframe tbody tr th {\n",
       "        vertical-align: top;\n",
       "    }\n",
       "\n",
       "    .dataframe thead th {\n",
       "        text-align: right;\n",
       "    }\n",
       "</style>\n",
       "<table border=\"1\" class=\"dataframe\">\n",
       "  <thead>\n",
       "    <tr style=\"text-align: right;\">\n",
       "      <th></th>\n",
       "      <th>Unnamed: 0</th>\n",
       "      <th>job_id</th>\n",
       "      <th>title</th>\n",
       "      <th>location</th>\n",
       "      <th>department</th>\n",
       "      <th>salary_range</th>\n",
       "      <th>company_profile</th>\n",
       "      <th>description</th>\n",
       "      <th>requirements</th>\n",
       "      <th>benefits</th>\n",
       "      <th>telecommuting</th>\n",
       "      <th>has_company_logo</th>\n",
       "      <th>has_questions</th>\n",
       "      <th>employment_type</th>\n",
       "      <th>required_experience</th>\n",
       "      <th>required_education</th>\n",
       "      <th>industry</th>\n",
       "      <th>function</th>\n",
       "      <th>fraudulent</th>\n",
       "    </tr>\n",
       "  </thead>\n",
       "  <tbody>\n",
       "  </tbody>\n",
       "</table>\n",
       "</div>"
      ],
      "text/plain": [
       "Empty DataFrame\n",
       "Columns: [Unnamed: 0, job_id, title, location, department, salary_range, company_profile, description, requirements, benefits, telecommuting, has_company_logo, has_questions, employment_type, required_experience, required_education, industry, function, fraudulent]\n",
       "Index: []"
      ]
     },
     "metadata": {},
     "output_type": "display_data"
    }
   ],
   "source": [
    "df_duplikat = df[df.duplicated(keep='first')]\n",
    "display(df_duplikat)"
   ]
  },
  {
   "cell_type": "code",
   "execution_count": 13,
   "id": "8fc41dee",
   "metadata": {},
   "outputs": [
    {
     "data": {
      "text/plain": [
       "['Unnamed: 0',\n",
       " 'job_id',\n",
       " 'title',\n",
       " 'location',\n",
       " 'department',\n",
       " 'salary_range',\n",
       " 'company_profile',\n",
       " 'description',\n",
       " 'requirements',\n",
       " 'benefits',\n",
       " 'telecommuting',\n",
       " 'has_company_logo',\n",
       " 'has_questions',\n",
       " 'employment_type',\n",
       " 'required_experience',\n",
       " 'required_education',\n",
       " 'industry',\n",
       " 'function',\n",
       " 'fraudulent']"
      ]
     },
     "execution_count": 13,
     "metadata": {},
     "output_type": "execute_result"
    }
   ],
   "source": [
    "df.columns.tolist()"
   ]
  },
  {
   "cell_type": "code",
   "execution_count": 14,
   "id": "25a47e3f",
   "metadata": {},
   "outputs": [
    {
     "data": {
      "image/png": "[encoded data removed]",
      "text/plain": [
       "<Figure size 600x400 with 1 Axes>"
      ]
     },
     "metadata": {},
     "output_type": "display_data"
    }
   ],
   "source": [
    "# Distribusi Fraudulent\n",
    "plt.figure(figsize=(6,4))\n",
    "sns.countplot(x='fraudulent', data=df)\n",
    "plt.title('Distribusi Type')\n",
    "plt.xlabel('Type (1 = Fraudulent, 0 = Asli)')\n",
    "plt.ylabel('Jumlah Company Fraudulent')\n",
    "plt.show()"
   ]
  },
  {
   "cell_type": "markdown",
   "id": "23b9d1a5",
   "metadata": {},
   "source": [
    "# Data Preprocessing"
   ]
  },
  {
   "cell_type": "markdown",
   "id": "f2cfd24d",
   "metadata": {},
   "source": [
    "## Data Reduction"
   ]
  },
  {
   "cell_type": "code",
   "execution_count": 15,
   "id": "df3cf17d",
   "metadata": {},
   "outputs": [],
   "source": [
    "df = df.drop('company_profile', axis=1)\n",
    "df = df.drop('description', axis=1)\n",
    "df = df.drop('requirements', axis=1)\n",
    "df = df.drop('benefits', axis=1)\n",
    "df = df.drop('Unnamed: 0', axis=1)\n",
    "df = df.drop('job_id', axis=1)\n",
    "df = df.drop('salary_range', axis=1)"
   ]
  },
  {
   "cell_type": "code",
   "execution_count": 16,
   "id": "bba12515",
   "metadata": {},
   "outputs": [
    {
     "data": {
      "application/vnd.microsoft.datawrangler.viewer.v0+json": {
       "columns": [
        {
         "name": "index",
         "rawType": "int64",
         "type": "integer"
        },
        {
         "name": "title",
         "rawType": "object",
         "type": "string"
        },
        {
         "name": "location",
         "rawType": "object",
         "type": "string"
        },
        {
         "name": "department",
         "rawType": "object",
         "type": "unknown"
        },
        {
         "name": "telecommuting",
         "rawType": "int64",
         "type": "integer"
        },
        {
         "name": "has_company_logo",
         "rawType": "int64",
         "type": "integer"
        },
        {
         "name": "has_questions",
         "rawType": "int64",
         "type": "integer"
        },
        {
         "name": "employment_type",
         "rawType": "object",
         "type": "unknown"
        },
        {
         "name": "required_experience",
         "rawType": "object",
         "type": "unknown"
        },
        {
         "name": "required_education",
         "rawType": "object",
         "type": "unknown"
        },
        {
         "name": "industry",
         "rawType": "object",
         "type": "unknown"
        },
        {
         "name": "function",
         "rawType": "object",
         "type": "unknown"
        },
        {
         "name": "fraudulent",
         "rawType": "int64",
         "type": "integer"
        }
       ],
       "ref": "d0fdb4e6-2d74-496a-afb3-065cd3118021",
       "rows": [
        [
         "0",
         "Marketing Intern",
         "US, NY, New York",
         "Marketing",
         "0",
         "1",
         "0",
         "Other",
         "Internship",
         null,
         null,
         "Marketing",
         "0"
        ],
        [
         "1",
         "Customer Service - Cloud Video Production",
         "NZ, , Auckland",
         "Success",
         "0",
         "1",
         "0",
         "Full-time",
         "Not Applicable",
         null,
         "Marketing and Advertising",
         "Customer Service",
         "0"
        ],
        [
         "2",
         "Commissioning Machinery Assistant (CMA)",
         "US, IA, Wever",
         null,
         "0",
         "1",
         "0",
         null,
         null,
         null,
         null,
         null,
         "0"
        ],
        [
         "3",
         "Account Executive - Washington DC",
         "US, DC, Washington",
         "Sales",
         "0",
         "1",
         "0",
         "Full-time",
         "Mid-Senior level",
         "Bachelor's Degree",
         "Computer Software",
         "Sales",
         "0"
        ],
        [
         "4",
         "Bill Review Manager",
         "US, FL, Fort Worth",
         null,
         "0",
         "1",
         "1",
         "Full-time",
         "Mid-Senior level",
         "Bachelor's Degree",
         "Hospital & Health Care",
         "Health Care Provider",
         "0"
        ]
       ],
       "shape": {
        "columns": 12,
        "rows": 5
       }
      },
      "text/html": [
       "<div>\n",
       "<style scoped>\n",
       "    .dataframe tbody tr th:only-of-type {\n",
       "        vertical-align: middle;\n",
       "    }\n",
       "\n",
       "    .dataframe tbody tr th {\n",
       "        vertical-align: top;\n",
       "    }\n",
       "\n",
       "    .dataframe thead th {\n",
       "        text-align: right;\n",
       "    }\n",
       "</style>\n",
       "<table border=\"1\" class=\"dataframe\">\n",
       "  <thead>\n",
       "    <tr style=\"text-align: right;\">\n",
       "      <th></th>\n",
       "      <th>title</th>\n",
       "      <th>location</th>\n",
       "      <th>department</th>\n",
       "      <th>telecommuting</th>\n",
       "      <th>has_company_logo</th>\n",
       "      <th>has_questions</th>\n",
       "      <th>employment_type</th>\n",
       "      <th>required_experience</th>\n",
       "      <th>required_education</th>\n",
       "      <th>industry</th>\n",
       "      <th>function</th>\n",
       "      <th>fraudulent</th>\n",
       "    </tr>\n",
       "  </thead>\n",
       "  <tbody>\n",
       "    <tr>\n",
       "      <th>0</th>\n",
       "      <td>Marketing Intern</td>\n",
       "      <td>US, NY, New York</td>\n",
       "      <td>Marketing</td>\n",
       "      <td>0</td>\n",
       "      <td>1</td>\n",
       "      <td>0</td>\n",
       "      <td>Other</td>\n",
       "      <td>Internship</td>\n",
       "      <td>NaN</td>\n",
       "      <td>NaN</td>\n",
       "      <td>Marketing</td>\n",
       "      <td>0</td>\n",
       "    </tr>\n",
       "    <tr>\n",
       "      <th>1</th>\n",
       "      <td>Customer Service - Cloud Video Production</td>\n",
       "      <td>NZ, , Auckland</td>\n",
       "      <td>Success</td>\n",
       "      <td>0</td>\n",
       "      <td>1</td>\n",
       "      <td>0</td>\n",
       "      <td>Full-time</td>\n",
       "      <td>Not Applicable</td>\n",
       "      <td>NaN</td>\n",
       "      <td>Marketing and Advertising</td>\n",
       "      <td>Customer Service</td>\n",
       "      <td>0</td>\n",
       "    </tr>\n",
       "    <tr>\n",
       "      <th>2</th>\n",
       "      <td>Commissioning Machinery Assistant (CMA)</td>\n",
       "      <td>US, IA, Wever</td>\n",
       "      <td>NaN</td>\n",
       "      <td>0</td>\n",
       "      <td>1</td>\n",
       "      <td>0</td>\n",
       "      <td>NaN</td>\n",
       "      <td>NaN</td>\n",
       "      <td>NaN</td>\n",
       "      <td>NaN</td>\n",
       "      <td>NaN</td>\n",
       "      <td>0</td>\n",
       "    </tr>\n",
       "    <tr>\n",
       "      <th>3</th>\n",
       "      <td>Account Executive - Washington DC</td>\n",
       "      <td>US, DC, Washington</td>\n",
       "      <td>Sales</td>\n",
       "      <td>0</td>\n",
       "      <td>1</td>\n",
       "      <td>0</td>\n",
       "      <td>Full-time</td>\n",
       "      <td>Mid-Senior level</td>\n",
       "      <td>Bachelor's Degree</td>\n",
       "      <td>Computer Software</td>\n",
       "      <td>Sales</td>\n",
       "      <td>0</td>\n",
       "    </tr>\n",
       "    <tr>\n",
       "      <th>4</th>\n",
       "      <td>Bill Review Manager</td>\n",
       "      <td>US, FL, Fort Worth</td>\n",
       "      <td>NaN</td>\n",
       "      <td>0</td>\n",
       "      <td>1</td>\n",
       "      <td>1</td>\n",
       "      <td>Full-time</td>\n",
       "      <td>Mid-Senior level</td>\n",
       "      <td>Bachelor's Degree</td>\n",
       "      <td>Hospital &amp; Health Care</td>\n",
       "      <td>Health Care Provider</td>\n",
       "      <td>0</td>\n",
       "    </tr>\n",
       "  </tbody>\n",
       "</table>\n",
       "</div>"
      ],
      "text/plain": [
       "                                       title            location department  \\\n",
       "0                           Marketing Intern    US, NY, New York  Marketing   \n",
       "1  Customer Service - Cloud Video Production      NZ, , Auckland    Success   \n",
       "2    Commissioning Machinery Assistant (CMA)       US, IA, Wever        NaN   \n",
       "3          Account Executive - Washington DC  US, DC, Washington      Sales   \n",
       "4                        Bill Review Manager  US, FL, Fort Worth        NaN   \n",
       "\n",
       "   telecommuting  has_company_logo  has_questions employment_type  \\\n",
       "0              0                 1              0           Other   \n",
       "1              0                 1              0       Full-time   \n",
       "2              0                 1              0             NaN   \n",
       "3              0                 1              0       Full-time   \n",
       "4              0                 1              1       Full-time   \n",
       "\n",
       "  required_experience required_education                   industry  \\\n",
       "0          Internship                NaN                        NaN   \n",
       "1      Not Applicable                NaN  Marketing and Advertising   \n",
       "2                 NaN                NaN                        NaN   \n",
       "3    Mid-Senior level  Bachelor's Degree          Computer Software   \n",
       "4    Mid-Senior level  Bachelor's Degree     Hospital & Health Care   \n",
       "\n",
       "               function  fraudulent  \n",
       "0             Marketing           0  \n",
       "1      Customer Service           0  \n",
       "2                   NaN           0  \n",
       "3                 Sales           0  \n",
       "4  Health Care Provider           0  "
      ]
     },
     "execution_count": 16,
     "metadata": {},
     "output_type": "execute_result"
    }
   ],
   "source": [
    "df.head()"
   ]
  },
  {
   "cell_type": "markdown",
   "id": "f58ad52b",
   "metadata": {},
   "source": [
    "## Drop Duplicated"
   ]
  },
  {
   "cell_type": "code",
   "execution_count": 17,
   "id": "f288e0b6",
   "metadata": {},
   "outputs": [],
   "source": [
    "df = df.drop_duplicates(keep='first')"
   ]
  },
  {
   "cell_type": "code",
   "execution_count": 18,
   "id": "2d777f0e",
   "metadata": {},
   "outputs": [
    {
     "data": {
      "text/plain": [
       "np.int64(0)"
      ]
     },
     "execution_count": 18,
     "metadata": {},
     "output_type": "execute_result"
    }
   ],
   "source": [
    "df.duplicated(keep='first').sum()"
   ]
  },
  {
   "cell_type": "markdown",
   "id": "1871ac4c",
   "metadata": {},
   "source": [
    "## Handling Missing Value"
   ]
  },
  {
   "cell_type": "code",
   "execution_count": 19,
   "id": "3e095ba7",
   "metadata": {},
   "outputs": [
    {
     "name": "stdout",
     "output_type": "stream",
     "text": [
      "<class 'pandas.core.frame.DataFrame'>\n",
      "Index: 994 entries, 0 to 1000\n",
      "Data columns (total 12 columns):\n",
      " #   Column               Non-Null Count  Dtype \n",
      "---  ------               --------------  ----- \n",
      " 0   title                994 non-null    object\n",
      " 1   location             978 non-null    object\n",
      " 2   department           315 non-null    object\n",
      " 3   telecommuting        994 non-null    int64 \n",
      " 4   has_company_logo     994 non-null    int64 \n",
      " 5   has_questions        994 non-null    int64 \n",
      " 6   employment_type      852 non-null    object\n",
      " 7   required_experience  628 non-null    object\n",
      " 8   required_education   642 non-null    object\n",
      " 9   industry             774 non-null    object\n",
      " 10  function             660 non-null    object\n",
      " 11  fraudulent           994 non-null    int64 \n",
      "dtypes: int64(4), object(8)\n",
      "memory usage: 101.0+ KB\n"
     ]
    }
   ],
   "source": [
    "df.info()"
   ]
  },
  {
   "cell_type": "code",
   "execution_count": 20,
   "id": "a53e4f8b",
   "metadata": {},
   "outputs": [
    {
     "data": {
      "application/vnd.microsoft.datawrangler.viewer.v0+json": {
       "columns": [
        {
         "name": "index",
         "rawType": "object",
         "type": "string"
        },
        {
         "name": "0",
         "rawType": "int64",
         "type": "integer"
        }
       ],
       "ref": "28380bd4-1649-4908-8a46-06b5ef2f3d28",
       "rows": [
        [
         "title",
         "0"
        ],
        [
         "location",
         "16"
        ],
        [
         "department",
         "679"
        ],
        [
         "telecommuting",
         "0"
        ],
        [
         "has_company_logo",
         "0"
        ],
        [
         "has_questions",
         "0"
        ],
        [
         "employment_type",
         "142"
        ],
        [
         "required_experience",
         "366"
        ],
        [
         "required_education",
         "352"
        ],
        [
         "industry",
         "220"
        ],
        [
         "function",
         "334"
        ],
        [
         "fraudulent",
         "0"
        ]
       ],
       "shape": {
        "columns": 1,
        "rows": 12
       }
      },
      "text/plain": [
       "title                    0\n",
       "location                16\n",
       "department             679\n",
       "telecommuting            0\n",
       "has_company_logo         0\n",
       "has_questions            0\n",
       "employment_type        142\n",
       "required_experience    366\n",
       "required_education     352\n",
       "industry               220\n",
       "function               334\n",
       "fraudulent               0\n",
       "dtype: int64"
      ]
     },
     "execution_count": 20,
     "metadata": {},
     "output_type": "execute_result"
    }
   ],
   "source": [
    "df.isnull().sum()"
   ]
  },
  {
   "cell_type": "code",
   "execution_count": 24,
   "id": "f5f6dc86",
   "metadata": {},
   "outputs": [],
   "source": [
    "df['location'] = df['location'].fillna('Unknown')\n",
    "df['department'] = df['department'].fillna('Unknown')"
   ]
  },
  {
   "cell_type": "code",
   "execution_count": 25,
   "id": "857f81c8",
   "metadata": {},
   "outputs": [],
   "source": [
    "df['required_experience'] = df['required_experience'].fillna(df['required_experience'].mode()[0])\n",
    "df['required_education'] = df['required_education'].fillna(df['required_education'].mode()[0])\n",
    "df['industry'] = df['industry'].fillna(df['industry'].mode()[0])\n",
    "df['employment_type'] = df['employment_type'].fillna(df['employment_type'].mode()[0])"
   ]
  },
  {
   "cell_type": "code",
   "execution_count": 26,
   "id": "f13e31ac",
   "metadata": {},
   "outputs": [
    {
     "data": {
      "application/vnd.microsoft.datawrangler.viewer.v0+json": {
       "columns": [
        {
         "name": "index",
         "rawType": "object",
         "type": "string"
        },
        {
         "name": "0",
         "rawType": "int64",
         "type": "integer"
        }
       ],
       "ref": "099af408-09d7-429c-9914-35e526ea4906",
       "rows": [
        [
         "title",
         "0"
        ],
        [
         "location",
         "0"
        ],
        [
         "department",
         "0"
        ],
        [
         "telecommuting",
         "0"
        ],
        [
         "has_company_logo",
         "0"
        ],
        [
         "has_questions",
         "0"
        ],
        [
         "employment_type",
         "0"
        ],
        [
         "required_experience",
         "0"
        ],
        [
         "required_education",
         "0"
        ],
        [
         "industry",
         "0"
        ],
        [
         "function",
         "334"
        ],
        [
         "fraudulent",
         "0"
        ]
       ],
       "shape": {
        "columns": 1,
        "rows": 12
       }
      },
      "text/plain": [
       "title                    0\n",
       "location                 0\n",
       "department               0\n",
       "telecommuting            0\n",
       "has_company_logo         0\n",
       "has_questions            0\n",
       "employment_type          0\n",
       "required_experience      0\n",
       "required_education       0\n",
       "industry                 0\n",
       "function               334\n",
       "fraudulent               0\n",
       "dtype: int64"
      ]
     },
     "execution_count": 26,
     "metadata": {},
     "output_type": "execute_result"
    }
   ],
   "source": [
    "df.isnull().sum()"
   ]
  },
  {
   "cell_type": "code",
   "execution_count": 27,
   "id": "7b1857ae",
   "metadata": {},
   "outputs": [
    {
     "name": "stdout",
     "output_type": "stream",
     "text": [
      "<class 'pandas.core.frame.DataFrame'>\n",
      "Index: 994 entries, 0 to 1000\n",
      "Data columns (total 12 columns):\n",
      " #   Column               Non-Null Count  Dtype \n",
      "---  ------               --------------  ----- \n",
      " 0   title                994 non-null    object\n",
      " 1   location             994 non-null    object\n",
      " 2   department           994 non-null    object\n",
      " 3   telecommuting        994 non-null    int64 \n",
      " 4   has_company_logo     994 non-null    int64 \n",
      " 5   has_questions        994 non-null    int64 \n",
      " 6   employment_type      994 non-null    object\n",
      " 7   required_experience  994 non-null    object\n",
      " 8   required_education   994 non-null    object\n",
      " 9   industry             994 non-null    object\n",
      " 10  function             660 non-null    object\n",
      " 11  fraudulent           994 non-null    int64 \n",
      "dtypes: int64(4), object(8)\n",
      "memory usage: 101.0+ KB\n"
     ]
    }
   ],
   "source": [
    "df.info()"
   ]
  },
  {
   "cell_type": "code",
   "execution_count": 28,
   "id": "e56531c2",
   "metadata": {},
   "outputs": [
    {
     "data": {
      "application/vnd.microsoft.datawrangler.viewer.v0+json": {
       "columns": [
        {
         "name": "index",
         "rawType": "int64",
         "type": "integer"
        },
        {
         "name": "title",
         "rawType": "object",
         "type": "string"
        },
        {
         "name": "location",
         "rawType": "object",
         "type": "string"
        },
        {
         "name": "department",
         "rawType": "object",
         "type": "string"
        },
        {
         "name": "telecommuting",
         "rawType": "int64",
         "type": "integer"
        },
        {
         "name": "has_company_logo",
         "rawType": "int64",
         "type": "integer"
        },
        {
         "name": "has_questions",
         "rawType": "int64",
         "type": "integer"
        },
        {
         "name": "employment_type",
         "rawType": "object",
         "type": "string"
        },
        {
         "name": "required_experience",
         "rawType": "object",
         "type": "string"
        },
        {
         "name": "required_education",
         "rawType": "object",
         "type": "string"
        },
        {
         "name": "industry",
         "rawType": "object",
         "type": "string"
        },
        {
         "name": "function",
         "rawType": "object",
         "type": "unknown"
        },
        {
         "name": "fraudulent",
         "rawType": "int64",
         "type": "integer"
        }
       ],
       "ref": "9ed33cec-4c2f-40f1-b064-ffed0a7c407e",
       "rows": [
        [
         "0",
         "Marketing Intern",
         "US, NY, New York",
         "Marketing",
         "0",
         "1",
         "0",
         "Other",
         "Internship",
         "Bachelor's Degree",
         "Education Management",
         "Marketing",
         "0"
        ],
        [
         "1",
         "Customer Service - Cloud Video Production",
         "NZ, , Auckland",
         "Success",
         "0",
         "1",
         "0",
         "Full-time",
         "Not Applicable",
         "Bachelor's Degree",
         "Marketing and Advertising",
         "Customer Service",
         "0"
        ],
        [
         "2",
         "Commissioning Machinery Assistant (CMA)",
         "US, IA, Wever",
         "Unknown",
         "0",
         "1",
         "0",
         "Full-time",
         "Mid-Senior level",
         "Bachelor's Degree",
         "Education Management",
         null,
         "0"
        ],
        [
         "3",
         "Account Executive - Washington DC",
         "US, DC, Washington",
         "Sales",
         "0",
         "1",
         "0",
         "Full-time",
         "Mid-Senior level",
         "Bachelor's Degree",
         "Computer Software",
         "Sales",
         "0"
        ],
        [
         "4",
         "Bill Review Manager",
         "US, FL, Fort Worth",
         "Unknown",
         "0",
         "1",
         "1",
         "Full-time",
         "Mid-Senior level",
         "Bachelor's Degree",
         "Hospital & Health Care",
         "Health Care Provider",
         "0"
        ]
       ],
       "shape": {
        "columns": 12,
        "rows": 5
       }
      },
      "text/html": [
       "<div>\n",
       "<style scoped>\n",
       "    .dataframe tbody tr th:only-of-type {\n",
       "        vertical-align: middle;\n",
       "    }\n",
       "\n",
       "    .dataframe tbody tr th {\n",
       "        vertical-align: top;\n",
       "    }\n",
       "\n",
       "    .dataframe thead th {\n",
       "        text-align: right;\n",
       "    }\n",
       "</style>\n",
       "<table border=\"1\" class=\"dataframe\">\n",
       "  <thead>\n",
       "    <tr style=\"text-align: right;\">\n",
       "      <th></th>\n",
       "      <th>title</th>\n",
       "      <th>location</th>\n",
       "      <th>department</th>\n",
       "      <th>telecommuting</th>\n",
       "      <th>has_company_logo</th>\n",
       "      <th>has_questions</th>\n",
       "      <th>employment_type</th>\n",
       "      <th>required_experience</th>\n",
       "      <th>required_education</th>\n",
       "      <th>industry</th>\n",
       "      <th>function</th>\n",
       "      <th>fraudulent</th>\n",
       "    </tr>\n",
       "  </thead>\n",
       "  <tbody>\n",
       "    <tr>\n",
       "      <th>0</th>\n",
       "      <td>Marketing Intern</td>\n",
       "      <td>US, NY, New York</td>\n",
       "      <td>Marketing</td>\n",
       "      <td>0</td>\n",
       "      <td>1</td>\n",
       "      <td>0</td>\n",
       "      <td>Other</td>\n",
       "      <td>Internship</td>\n",
       "      <td>Bachelor's Degree</td>\n",
       "      <td>Education Management</td>\n",
       "      <td>Marketing</td>\n",
       "      <td>0</td>\n",
       "    </tr>\n",
       "    <tr>\n",
       "      <th>1</th>\n",
       "      <td>Customer Service - Cloud Video Production</td>\n",
       "      <td>NZ, , Auckland</td>\n",
       "      <td>Success</td>\n",
       "      <td>0</td>\n",
       "      <td>1</td>\n",
       "      <td>0</td>\n",
       "      <td>Full-time</td>\n",
       "      <td>Not Applicable</td>\n",
       "      <td>Bachelor's Degree</td>\n",
       "      <td>Marketing and Advertising</td>\n",
       "      <td>Customer Service</td>\n",
       "      <td>0</td>\n",
       "    </tr>\n",
       "    <tr>\n",
       "      <th>2</th>\n",
       "      <td>Commissioning Machinery Assistant (CMA)</td>\n",
       "      <td>US, IA, Wever</td>\n",
       "      <td>Unknown</td>\n",
       "      <td>0</td>\n",
       "      <td>1</td>\n",
       "      <td>0</td>\n",
       "      <td>Full-time</td>\n",
       "      <td>Mid-Senior level</td>\n",
       "      <td>Bachelor's Degree</td>\n",
       "      <td>Education Management</td>\n",
       "      <td>NaN</td>\n",
       "      <td>0</td>\n",
       "    </tr>\n",
       "    <tr>\n",
       "      <th>3</th>\n",
       "      <td>Account Executive - Washington DC</td>\n",
       "      <td>US, DC, Washington</td>\n",
       "      <td>Sales</td>\n",
       "      <td>0</td>\n",
       "      <td>1</td>\n",
       "      <td>0</td>\n",
       "      <td>Full-time</td>\n",
       "      <td>Mid-Senior level</td>\n",
       "      <td>Bachelor's Degree</td>\n",
       "      <td>Computer Software</td>\n",
       "      <td>Sales</td>\n",
       "      <td>0</td>\n",
       "    </tr>\n",
       "    <tr>\n",
       "      <th>4</th>\n",
       "      <td>Bill Review Manager</td>\n",
       "      <td>US, FL, Fort Worth</td>\n",
       "      <td>Unknown</td>\n",
       "      <td>0</td>\n",
       "      <td>1</td>\n",
       "      <td>1</td>\n",
       "      <td>Full-time</td>\n",
       "      <td>Mid-Senior level</td>\n",
       "      <td>Bachelor's Degree</td>\n",
       "      <td>Hospital &amp; Health Care</td>\n",
       "      <td>Health Care Provider</td>\n",
       "      <td>0</td>\n",
       "    </tr>\n",
       "  </tbody>\n",
       "</table>\n",
       "</div>"
      ],
      "text/plain": [
       "                                       title            location department  \\\n",
       "0                           Marketing Intern    US, NY, New York  Marketing   \n",
       "1  Customer Service - Cloud Video Production      NZ, , Auckland    Success   \n",
       "2    Commissioning Machinery Assistant (CMA)       US, IA, Wever    Unknown   \n",
       "3          Account Executive - Washington DC  US, DC, Washington      Sales   \n",
       "4                        Bill Review Manager  US, FL, Fort Worth    Unknown   \n",
       "\n",
       "   telecommuting  has_company_logo  has_questions employment_type  \\\n",
       "0              0                 1              0           Other   \n",
       "1              0                 1              0       Full-time   \n",
       "2              0                 1              0       Full-time   \n",
       "3              0                 1              0       Full-time   \n",
       "4              0                 1              1       Full-time   \n",
       "\n",
       "  required_experience required_education                   industry  \\\n",
       "0          Internship  Bachelor's Degree       Education Management   \n",
       "1      Not Applicable  Bachelor's Degree  Marketing and Advertising   \n",
       "2    Mid-Senior level  Bachelor's Degree       Education Management   \n",
       "3    Mid-Senior level  Bachelor's Degree          Computer Software   \n",
       "4    Mid-Senior level  Bachelor's Degree     Hospital & Health Care   \n",
       "\n",
       "               function  fraudulent  \n",
       "0             Marketing           0  \n",
       "1      Customer Service           0  \n",
       "2                   NaN           0  \n",
       "3                 Sales           0  \n",
       "4  Health Care Provider           0  "
      ]
     },
     "execution_count": 28,
     "metadata": {},
     "output_type": "execute_result"
    }
   ],
   "source": [
    "df.head()"
   ]
  },
  {
   "cell_type": "markdown",
   "id": "b48c2092",
   "metadata": {},
   "source": [
    "## Handling Categorical Value"
   ]
  },
  {
   "cell_type": "code",
   "execution_count": 29,
   "id": "1fd4b643",
   "metadata": {},
   "outputs": [],
   "source": [
    "def clean_text(text):\n",
    "    text = text.lower()\n",
    "    text = re.sub(r'[^a-z\\s]', '', text)\n",
    "    return text"
   ]
  },
  {
   "cell_type": "code",
   "execution_count": 30,
   "id": "f87129d2",
   "metadata": {},
   "outputs": [],
   "source": [
    "df['title'] = df['title'].apply(clean_text)\n",
    "df['location'] = df['location'].apply(clean_text)\n",
    "df['department'] = df['department'].apply(clean_text)\n",
    "df['employment_type'] = df['employment_type'].apply(clean_text)\n",
    "df['required_experience'] = df['required_experience'].apply(clean_text)\n",
    "df['required_education'] = df['required_education'].apply(clean_text)\n",
    "df['industry'] = df['industry'].apply(clean_text)"
   ]
  },
  {
   "cell_type": "markdown",
   "id": "a297b79b",
   "metadata": {},
   "source": [
    "# Data Transformation"
   ]
  },
  {
   "cell_type": "code",
   "execution_count": 31,
   "id": "073dbdb9",
   "metadata": {},
   "outputs": [
    {
     "data": {
      "application/vnd.microsoft.datawrangler.viewer.v0+json": {
       "columns": [
        {
         "name": "index",
         "rawType": "int64",
         "type": "integer"
        },
        {
         "name": "title",
         "rawType": "object",
         "type": "string"
        },
        {
         "name": "location",
         "rawType": "object",
         "type": "string"
        },
        {
         "name": "department",
         "rawType": "object",
         "type": "string"
        },
        {
         "name": "telecommuting",
         "rawType": "int64",
         "type": "integer"
        },
        {
         "name": "has_company_logo",
         "rawType": "int64",
         "type": "integer"
        },
        {
         "name": "has_questions",
         "rawType": "int64",
         "type": "integer"
        },
        {
         "name": "employment_type",
         "rawType": "object",
         "type": "string"
        },
        {
         "name": "required_experience",
         "rawType": "object",
         "type": "string"
        },
        {
         "name": "required_education",
         "rawType": "object",
         "type": "string"
        },
        {
         "name": "industry",
         "rawType": "object",
         "type": "string"
        },
        {
         "name": "function",
         "rawType": "object",
         "type": "unknown"
        },
        {
         "name": "fraudulent",
         "rawType": "int64",
         "type": "integer"
        }
       ],
       "ref": "f5bf9063-55aa-4e9b-984f-632e68ec67ad",
       "rows": [
        [
         "0",
         "marketing intern",
         "us ny new york",
         "marketing",
         "0",
         "1",
         "0",
         "other",
         "internship",
         "bachelors degree",
         "education management",
         "Marketing",
         "0"
        ],
        [
         "1",
         "customer service  cloud video production",
         "nz  auckland",
         "success",
         "0",
         "1",
         "0",
         "fulltime",
         "not applicable",
         "bachelors degree",
         "marketing and advertising",
         "Customer Service",
         "0"
        ],
        [
         "2",
         "commissioning machinery assistant cma",
         "us ia wever",
         "unknown",
         "0",
         "1",
         "0",
         "fulltime",
         "midsenior level",
         "bachelors degree",
         "education management",
         null,
         "0"
        ],
        [
         "3",
         "account executive  washington dc",
         "us dc washington",
         "sales",
         "0",
         "1",
         "0",
         "fulltime",
         "midsenior level",
         "bachelors degree",
         "computer software",
         "Sales",
         "0"
        ],
        [
         "4",
         "bill review manager",
         "us fl fort worth",
         "unknown",
         "0",
         "1",
         "1",
         "fulltime",
         "midsenior level",
         "bachelors degree",
         "hospital  health care",
         "Health Care Provider",
         "0"
        ]
       ],
       "shape": {
        "columns": 12,
        "rows": 5
       }
      },
      "text/html": [
       "<div>\n",
       "<style scoped>\n",
       "    .dataframe tbody tr th:only-of-type {\n",
       "        vertical-align: middle;\n",
       "    }\n",
       "\n",
       "    .dataframe tbody tr th {\n",
       "        vertical-align: top;\n",
       "    }\n",
       "\n",
       "    .dataframe thead th {\n",
       "        text-align: right;\n",
       "    }\n",
       "</style>\n",
       "<table border=\"1\" class=\"dataframe\">\n",
       "  <thead>\n",
       "    <tr style=\"text-align: right;\">\n",
       "      <th></th>\n",
       "      <th>title</th>\n",
       "      <th>location</th>\n",
       "      <th>department</th>\n",
       "      <th>telecommuting</th>\n",
       "      <th>has_company_logo</th>\n",
       "      <th>has_questions</th>\n",
       "      <th>employment_type</th>\n",
       "      <th>required_experience</th>\n",
       "      <th>required_education</th>\n",
       "      <th>industry</th>\n",
       "      <th>function</th>\n",
       "      <th>fraudulent</th>\n",
       "    </tr>\n",
       "  </thead>\n",
       "  <tbody>\n",
       "    <tr>\n",
       "      <th>0</th>\n",
       "      <td>marketing intern</td>\n",
       "      <td>us ny new york</td>\n",
       "      <td>marketing</td>\n",
       "      <td>0</td>\n",
       "      <td>1</td>\n",
       "      <td>0</td>\n",
       "      <td>other</td>\n",
       "      <td>internship</td>\n",
       "      <td>bachelors degree</td>\n",
       "      <td>education management</td>\n",
       "      <td>Marketing</td>\n",
       "      <td>0</td>\n",
       "    </tr>\n",
       "    <tr>\n",
       "      <th>1</th>\n",
       "      <td>customer service  cloud video production</td>\n",
       "      <td>nz  auckland</td>\n",
       "      <td>success</td>\n",
       "      <td>0</td>\n",
       "      <td>1</td>\n",
       "      <td>0</td>\n",
       "      <td>fulltime</td>\n",
       "      <td>not applicable</td>\n",
       "      <td>bachelors degree</td>\n",
       "      <td>marketing and advertising</td>\n",
       "      <td>Customer Service</td>\n",
       "      <td>0</td>\n",
       "    </tr>\n",
       "    <tr>\n",
       "      <th>2</th>\n",
       "      <td>commissioning machinery assistant cma</td>\n",
       "      <td>us ia wever</td>\n",
       "      <td>unknown</td>\n",
       "      <td>0</td>\n",
       "      <td>1</td>\n",
       "      <td>0</td>\n",
       "      <td>fulltime</td>\n",
       "      <td>midsenior level</td>\n",
       "      <td>bachelors degree</td>\n",
       "      <td>education management</td>\n",
       "      <td>NaN</td>\n",
       "      <td>0</td>\n",
       "    </tr>\n",
       "    <tr>\n",
       "      <th>3</th>\n",
       "      <td>account executive  washington dc</td>\n",
       "      <td>us dc washington</td>\n",
       "      <td>sales</td>\n",
       "      <td>0</td>\n",
       "      <td>1</td>\n",
       "      <td>0</td>\n",
       "      <td>fulltime</td>\n",
       "      <td>midsenior level</td>\n",
       "      <td>bachelors degree</td>\n",
       "      <td>computer software</td>\n",
       "      <td>Sales</td>\n",
       "      <td>0</td>\n",
       "    </tr>\n",
       "    <tr>\n",
       "      <th>4</th>\n",
       "      <td>bill review manager</td>\n",
       "      <td>us fl fort worth</td>\n",
       "      <td>unknown</td>\n",
       "      <td>0</td>\n",
       "      <td>1</td>\n",
       "      <td>1</td>\n",
       "      <td>fulltime</td>\n",
       "      <td>midsenior level</td>\n",
       "      <td>bachelors degree</td>\n",
       "      <td>hospital  health care</td>\n",
       "      <td>Health Care Provider</td>\n",
       "      <td>0</td>\n",
       "    </tr>\n",
       "  </tbody>\n",
       "</table>\n",
       "</div>"
      ],
      "text/plain": [
       "                                      title          location department  \\\n",
       "0                          marketing intern    us ny new york  marketing   \n",
       "1  customer service  cloud video production      nz  auckland    success   \n",
       "2     commissioning machinery assistant cma       us ia wever    unknown   \n",
       "3          account executive  washington dc  us dc washington      sales   \n",
       "4                       bill review manager  us fl fort worth    unknown   \n",
       "\n",
       "   telecommuting  has_company_logo  has_questions employment_type  \\\n",
       "0              0                 1              0           other   \n",
       "1              0                 1              0        fulltime   \n",
       "2              0                 1              0        fulltime   \n",
       "3              0                 1              0        fulltime   \n",
       "4              0                 1              1        fulltime   \n",
       "\n",
       "  required_experience required_education                   industry  \\\n",
       "0          internship   bachelors degree       education management   \n",
       "1      not applicable   bachelors degree  marketing and advertising   \n",
       "2     midsenior level   bachelors degree       education management   \n",
       "3     midsenior level   bachelors degree          computer software   \n",
       "4     midsenior level   bachelors degree      hospital  health care   \n",
       "\n",
       "               function  fraudulent  \n",
       "0             Marketing           0  \n",
       "1      Customer Service           0  \n",
       "2                   NaN           0  \n",
       "3                 Sales           0  \n",
       "4  Health Care Provider           0  "
      ]
     },
     "execution_count": 31,
     "metadata": {},
     "output_type": "execute_result"
    }
   ],
   "source": [
    "df.head()"
   ]
  },
  {
   "cell_type": "code",
   "execution_count": 32,
   "id": "7774bcfd",
   "metadata": {},
   "outputs": [
    {
     "name": "stdout",
     "output_type": "stream",
     "text": [
      "<class 'pandas.core.frame.DataFrame'>\n",
      "Index: 994 entries, 0 to 1000\n",
      "Data columns (total 12 columns):\n",
      " #   Column               Non-Null Count  Dtype \n",
      "---  ------               --------------  ----- \n",
      " 0   title                994 non-null    object\n",
      " 1   location             994 non-null    object\n",
      " 2   department           994 non-null    object\n",
      " 3   telecommuting        994 non-null    int64 \n",
      " 4   has_company_logo     994 non-null    int64 \n",
      " 5   has_questions        994 non-null    int64 \n",
      " 6   employment_type      994 non-null    object\n",
      " 7   required_experience  994 non-null    object\n",
      " 8   required_education   994 non-null    object\n",
      " 9   industry             994 non-null    object\n",
      " 10  function             660 non-null    object\n",
      " 11  fraudulent           994 non-null    int64 \n",
      "dtypes: int64(4), object(8)\n",
      "memory usage: 101.0+ KB\n"
     ]
    }
   ],
   "source": [
    "df.info()"
   ]
  },
  {
   "cell_type": "code",
   "execution_count": 33,
   "id": "7a2b4354",
   "metadata": {},
   "outputs": [],
   "source": [
    "le = LabelEncoder()\n",
    "scaler = MinMaxScaler()"
   ]
  },
  {
   "cell_type": "code",
   "execution_count": 34,
   "id": "d987e053",
   "metadata": {},
   "outputs": [],
   "source": [
    "categorical_columns = ['title','location', 'department', 'employment_type', 'required_experience', 'required_education', 'industry', 'function']"
   ]
  },
  {
   "cell_type": "code",
   "execution_count": 35,
   "id": "0f720c1d",
   "metadata": {},
   "outputs": [],
   "source": [
    "numerical_columns = ['telecommuting', 'has_company_logo', 'has_questions', 'fraudulent']"
   ]
  },
  {
   "cell_type": "code",
   "execution_count": 36,
   "id": "ff698d4e",
   "metadata": {},
   "outputs": [],
   "source": [
    "for col in categorical_columns:\n",
    "    df[col] = le.fit_transform(df[col])"
   ]
  },
  {
   "cell_type": "code",
   "execution_count": 37,
   "id": "0862123a",
   "metadata": {},
   "outputs": [],
   "source": [
    "df[numerical_columns] = scaler.fit_transform(df[numerical_columns])"
   ]
  },
  {
   "cell_type": "code",
   "execution_count": 38,
   "id": "96f660b0",
   "metadata": {},
   "outputs": [
    {
     "data": {
      "application/vnd.microsoft.datawrangler.viewer.v0+json": {
       "columns": [
        {
         "name": "index",
         "rawType": "int64",
         "type": "integer"
        },
        {
         "name": "title",
         "rawType": "int64",
         "type": "integer"
        },
        {
         "name": "location",
         "rawType": "int64",
         "type": "integer"
        },
        {
         "name": "department",
         "rawType": "int64",
         "type": "integer"
        },
        {
         "name": "telecommuting",
         "rawType": "float64",
         "type": "float"
        },
        {
         "name": "has_company_logo",
         "rawType": "float64",
         "type": "float"
        },
        {
         "name": "has_questions",
         "rawType": "float64",
         "type": "float"
        },
        {
         "name": "employment_type",
         "rawType": "int64",
         "type": "integer"
        },
        {
         "name": "required_experience",
         "rawType": "int64",
         "type": "integer"
        },
        {
         "name": "required_education",
         "rawType": "int64",
         "type": "integer"
        },
        {
         "name": "industry",
         "rawType": "int64",
         "type": "integer"
        },
        {
         "name": "function",
         "rawType": "int64",
         "type": "integer"
        },
        {
         "name": "fraudulent",
         "rawType": "float64",
         "type": "float"
        }
       ],
       "ref": "cdc1c828-105f-4660-9976-a9ec4a7e7e2d",
       "rows": [
        [
         "0",
         "426",
         "372",
         "78",
         "0.0",
         "1.0",
         "0.0",
         "2",
         "4",
         "1",
         "20",
         "21",
         "0.0"
        ],
        [
         "1",
         "140",
         "150",
         "129",
         "0.0",
         "1.0",
         "0.0",
         "1",
         "6",
         "1",
         "48",
         "7",
         "0.0"
        ],
        [
         "2",
         "115",
         "272",
         "136",
         "0.0",
         "1.0",
         "0.0",
         "1",
         "5",
         "1",
         "20",
         "35",
         "0.0"
        ],
        [
         "3",
         "11",
         "243",
         "115",
         "0.0",
         "1.0",
         "0.0",
         "1",
         "5",
         "1",
         "13",
         "29",
         "0.0"
        ],
        [
         "4",
         "75",
         "249",
         "136",
         "0.0",
         "1.0",
         "1.0",
         "1",
         "5",
         "1",
         "32",
         "16",
         "0.0"
        ]
       ],
       "shape": {
        "columns": 12,
        "rows": 5
       }
      },
      "text/html": [
       "<div>\n",
       "<style scoped>\n",
       "    .dataframe tbody tr th:only-of-type {\n",
       "        vertical-align: middle;\n",
       "    }\n",
       "\n",
       "    .dataframe tbody tr th {\n",
       "        vertical-align: top;\n",
       "    }\n",
       "\n",
       "    .dataframe thead th {\n",
       "        text-align: right;\n",
       "    }\n",
       "</style>\n",
       "<table border=\"1\" class=\"dataframe\">\n",
       "  <thead>\n",
       "    <tr style=\"text-align: right;\">\n",
       "      <th></th>\n",
       "      <th>title</th>\n",
       "      <th>location</th>\n",
       "      <th>department</th>\n",
       "      <th>telecommuting</th>\n",
       "      <th>has_company_logo</th>\n",
       "      <th>has_questions</th>\n",
       "      <th>employment_type</th>\n",
       "      <th>required_experience</th>\n",
       "      <th>required_education</th>\n",
       "      <th>industry</th>\n",
       "      <th>function</th>\n",
       "      <th>fraudulent</th>\n",
       "    </tr>\n",
       "  </thead>\n",
       "  <tbody>\n",
       "    <tr>\n",
       "      <th>0</th>\n",
       "      <td>426</td>\n",
       "      <td>372</td>\n",
       "      <td>78</td>\n",
       "      <td>0.0</td>\n",
       "      <td>1.0</td>\n",
       "      <td>0.0</td>\n",
       "      <td>2</td>\n",
       "      <td>4</td>\n",
       "      <td>1</td>\n",
       "      <td>20</td>\n",
       "      <td>21</td>\n",
       "      <td>0.0</td>\n",
       "    </tr>\n",
       "    <tr>\n",
       "      <th>1</th>\n",
       "      <td>140</td>\n",
       "      <td>150</td>\n",
       "      <td>129</td>\n",
       "      <td>0.0</td>\n",
       "      <td>1.0</td>\n",
       "      <td>0.0</td>\n",
       "      <td>1</td>\n",
       "      <td>6</td>\n",
       "      <td>1</td>\n",
       "      <td>48</td>\n",
       "      <td>7</td>\n",
       "      <td>0.0</td>\n",
       "    </tr>\n",
       "    <tr>\n",
       "      <th>2</th>\n",
       "      <td>115</td>\n",
       "      <td>272</td>\n",
       "      <td>136</td>\n",
       "      <td>0.0</td>\n",
       "      <td>1.0</td>\n",
       "      <td>0.0</td>\n",
       "      <td>1</td>\n",
       "      <td>5</td>\n",
       "      <td>1</td>\n",
       "      <td>20</td>\n",
       "      <td>35</td>\n",
       "      <td>0.0</td>\n",
       "    </tr>\n",
       "    <tr>\n",
       "      <th>3</th>\n",
       "      <td>11</td>\n",
       "      <td>243</td>\n",
       "      <td>115</td>\n",
       "      <td>0.0</td>\n",
       "      <td>1.0</td>\n",
       "      <td>0.0</td>\n",
       "      <td>1</td>\n",
       "      <td>5</td>\n",
       "      <td>1</td>\n",
       "      <td>13</td>\n",
       "      <td>29</td>\n",
       "      <td>0.0</td>\n",
       "    </tr>\n",
       "    <tr>\n",
       "      <th>4</th>\n",
       "      <td>75</td>\n",
       "      <td>249</td>\n",
       "      <td>136</td>\n",
       "      <td>0.0</td>\n",
       "      <td>1.0</td>\n",
       "      <td>1.0</td>\n",
       "      <td>1</td>\n",
       "      <td>5</td>\n",
       "      <td>1</td>\n",
       "      <td>32</td>\n",
       "      <td>16</td>\n",
       "      <td>0.0</td>\n",
       "    </tr>\n",
       "  </tbody>\n",
       "</table>\n",
       "</div>"
      ],
      "text/plain": [
       "   title  location  department  telecommuting  has_company_logo  \\\n",
       "0    426       372          78            0.0               1.0   \n",
       "1    140       150         129            0.0               1.0   \n",
       "2    115       272         136            0.0               1.0   \n",
       "3     11       243         115            0.0               1.0   \n",
       "4     75       249         136            0.0               1.0   \n",
       "\n",
       "   has_questions  employment_type  required_experience  required_education  \\\n",
       "0            0.0                2                    4                   1   \n",
       "1            0.0                1                    6                   1   \n",
       "2            0.0                1                    5                   1   \n",
       "3            0.0                1                    5                   1   \n",
       "4            1.0                1                    5                   1   \n",
       "\n",
       "   industry  function  fraudulent  \n",
       "0        20        21         0.0  \n",
       "1        48         7         0.0  \n",
       "2        20        35         0.0  \n",
       "3        13        29         0.0  \n",
       "4        32        16         0.0  "
      ]
     },
     "execution_count": 38,
     "metadata": {},
     "output_type": "execute_result"
    }
   ],
   "source": [
    "df.head()"
   ]
  },
  {
   "cell_type": "markdown",
   "id": "2cd9c112",
   "metadata": {},
   "source": [
    "# Build Model"
   ]
  },
  {
   "cell_type": "markdown",
   "id": "f25fd912",
   "metadata": {},
   "source": [
    "## Data Splitting"
   ]
  },
  {
   "cell_type": "code",
   "execution_count": 39,
   "id": "63c87e99",
   "metadata": {},
   "outputs": [],
   "source": [
    "df['fraudulent'] = df['fraudulent'].apply(lambda x: 1 if x == 1 else 0)\n",
    "X = df.drop('fraudulent', axis=1)\n",
    "y = df['fraudulent']"
   ]
  },
  {
   "cell_type": "code",
   "execution_count": 40,
   "id": "2427c812",
   "metadata": {},
   "outputs": [],
   "source": [
    "# 1. Data Splitting\n",
    "X_train, X_test, y_train, y_test = train_test_split(X, y, test_size=0.2, random_state=42)"
   ]
  },
  {
   "cell_type": "markdown",
   "id": "ccb97fa3",
   "metadata": {},
   "source": [
    "## Data Balancing"
   ]
  },
  {
   "cell_type": "code",
   "execution_count": 41,
   "id": "fe886cc9",
   "metadata": {},
   "outputs": [],
   "source": [
    "# 2. Data Balancing (SMOTE)\n",
    "smote = SMOTE(random_state=42)\n",
    "X_train_balanced, y_train_balanced = smote.fit_resample(X_train, y_train)"
   ]
  },
  {
   "cell_type": "markdown",
   "id": "0cc653db",
   "metadata": {},
   "source": [
    "## Model Training"
   ]
  },
  {
   "cell_type": "code",
   "execution_count": 42,
   "id": "0f5c9d3b",
   "metadata": {},
   "outputs": [
    {
     "data": {
      "text/html": [
       "<style>#sk-container-id-1 {\n",
       "  /* Definition of color scheme common for light and dark mode */\n",
       "  --sklearn-color-text: black;\n",
       "  --sklearn-color-line: gray;\n",
       "  /* Definition of color scheme for unfitted estimators */\n",
       "  --sklearn-color-unfitted-level-0: #fff5e6;\n",
       "  --sklearn-color-unfitted-level-1: #f6e4d2;\n",
       "  --sklearn-color-unfitted-level-2: #ffe0b3;\n",
       "  --sklearn-color-unfitted-level-3: chocolate;\n",
       "  /* Definition of color scheme for fitted estimators */\n",
       "  --sklearn-color-fitted-level-0: #f0f8ff;\n",
       "  --sklearn-color-fitted-level-1: #d4ebff;\n",
       "  --sklearn-color-fitted-level-2: #b3dbfd;\n",
       "  --sklearn-color-fitted-level-3: cornflowerblue;\n",
       "\n",
       "  /* Specific color for light theme */\n",
       "  --sklearn-color-text-on-default-background: var(--sg-text-color, var(--theme-code-foreground, var(--jp-content-font-color1, black)));\n",
       "  --sklearn-color-background: var(--sg-background-color, var(--theme-background, var(--jp-layout-color0, white)));\n",
       "  --sklearn-color-border-box: var(--sg-text-color, var(--theme-code-foreground, var(--jp-content-font-color1, black)));\n",
       "  --sklearn-color-icon: #696969;\n",
       "\n",
       "  @media (prefers-color-scheme: dark) {\n",
       "    /* Redefinition of color scheme for dark theme */\n",
       "    --sklearn-color-text-on-default-background: var(--sg-text-color, var(--theme-code-foreground, var(--jp-content-font-color1, white)));\n",
       "    --sklearn-color-background: var(--sg-background-color, var(--theme-background, var(--jp-layout-color0, #111)));\n",
       "    --sklearn-color-border-box: var(--sg-text-color, var(--theme-code-foreground, var(--jp-content-font-color1, white)));\n",
       "    --sklearn-color-icon: #878787;\n",
       "  }\n",
       "}\n",
       "\n",
       "#sk-container-id-1 {\n",
       "  color: var(--sklearn-color-text);\n",
       "}\n",
       "\n",
       "#sk-container-id-1 pre {\n",
       "  padding: 0;\n",
       "}\n",
       "\n",
       "#sk-container-id-1 input.sk-hidden--visually {\n",
       "  border: 0;\n",
       "  clip: rect(1px 1px 1px 1px);\n",
       "  clip: rect(1px, 1px, 1px, 1px);\n",
       "  height: 1px;\n",
       "  margin: -1px;\n",
       "  overflow: hidden;\n",
       "  padding: 0;\n",
       "  position: absolute;\n",
       "  width: 1px;\n",
       "}\n",
       "\n",
       "#sk-container-id-1 div.sk-dashed-wrapped {\n",
       "  border: 1px dashed var(--sklearn-color-line);\n",
       "  margin: 0 0.4em 0.5em 0.4em;\n",
       "  box-sizing: border-box;\n",
       "  padding-bottom: 0.4em;\n",
       "  background-color: var(--sklearn-color-background);\n",
       "}\n",
       "\n",
       "#sk-container-id-1 div.sk-container {\n",
       "  /* jupyter's `normalize.less` sets `[hidden] { display: none; }`\n",
       "     but bootstrap.min.css set `[hidden] { display: none !important; }`\n",
       "     so we also need the `!important` here to be able to override the\n",
       "     default hidden behavior on the sphinx rendered scikit-learn.org.\n",
       "     See: https://github.com/scikit-learn/scikit-learn/issues/21755 */\n",
       "  display: inline-block !important;\n",
       "  position: relative;\n",
       "}\n",
       "\n",
       "#sk-container-id-1 div.sk-text-repr-fallback {\n",
       "  display: none;\n",
       "}\n",
       "\n",
       "div.sk-parallel-item,\n",
       "div.sk-serial,\n",
       "div.sk-item {\n",
       "  /* draw centered vertical line to link estimators */\n",
       "  background-image: linear-gradient(var(--sklearn-color-text-on-default-background), var(--sklearn-color-text-on-default-background));\n",
       "  background-size: 2px 100%;\n",
       "  background-repeat: no-repeat;\n",
       "  background-position: center center;\n",
       "}\n",
       "\n",
       "/* Parallel-specific style estimator block */\n",
       "\n",
       "#sk-container-id-1 div.sk-parallel-item::after {\n",
       "  content: \"\";\n",
       "  width: 100%;\n",
       "  border-bottom: 2px solid var(--sklearn-color-text-on-default-background);\n",
       "  flex-grow: 1;\n",
       "}\n",
       "\n",
       "#sk-container-id-1 div.sk-parallel {\n",
       "  display: flex;\n",
       "  align-items: stretch;\n",
       "  justify-content: center;\n",
       "  background-color: var(--sklearn-color-background);\n",
       "  position: relative;\n",
       "}\n",
       "\n",
       "#sk-container-id-1 div.sk-parallel-item {\n",
       "  display: flex;\n",
       "  flex-direction: column;\n",
       "}\n",
       "\n",
       "#sk-container-id-1 div.sk-parallel-item:first-child::after {\n",
       "  align-self: flex-end;\n",
       "  width: 50%;\n",
       "}\n",
       "\n",
       "#sk-container-id-1 div.sk-parallel-item:last-child::after {\n",
       "  align-self: flex-start;\n",
       "  width: 50%;\n",
       "}\n",
       "\n",
       "#sk-container-id-1 div.sk-parallel-item:only-child::after {\n",
       "  width: 0;\n",
       "}\n",
       "\n",
       "/* Serial-specific style estimator block */\n",
       "\n",
       "#sk-container-id-1 div.sk-serial {\n",
       "  display: flex;\n",
       "  flex-direction: column;\n",
       "  align-items: center;\n",
       "  background-color: var(--sklearn-color-background);\n",
       "  padding-right: 1em;\n",
       "  padding-left: 1em;\n",
       "}\n",
       "\n",
       "\n",
       "/* Toggleable style: style used for estimator/Pipeline/ColumnTransformer box that is\n",
       "clickable and can be expanded/collapsed.\n",
       "- Pipeline and ColumnTransformer use this feature and define the default style\n",
       "- Estimators will overwrite some part of the style using the `sk-estimator` class\n",
       "*/\n",
       "\n",
       "/* Pipeline and ColumnTransformer style (default) */\n",
       "\n",
       "#sk-container-id-1 div.sk-toggleable {\n",
       "  /* Default theme specific background. It is overwritten whether we have a\n",
       "  specific estimator or a Pipeline/ColumnTransformer */\n",
       "  background-color: var(--sklearn-color-background);\n",
       "}\n",
       "\n",
       "/* Toggleable label */\n",
       "#sk-container-id-1 label.sk-toggleable__label {\n",
       "  cursor: pointer;\n",
       "  display: block;\n",
       "  width: 100%;\n",
       "  margin-bottom: 0;\n",
       "  padding: 0.5em;\n",
       "  box-sizing: border-box;\n",
       "  text-align: center;\n",
       "}\n",
       "\n",
       "#sk-container-id-1 label.sk-toggleable__label-arrow:before {\n",
       "  /* Arrow on the left of the label */\n",
       "  content: \"▸\";\n",
       "  float: left;\n",
       "  margin-right: 0.25em;\n",
       "  color: var(--sklearn-color-icon);\n",
       "}\n",
       "\n",
       "#sk-container-id-1 label.sk-toggleable__label-arrow:hover:before {\n",
       "  color: var(--sklearn-color-text);\n",
       "}\n",
       "\n",
       "/* Toggleable content - dropdown */\n",
       "\n",
       "#sk-container-id-1 div.sk-toggleable__content {\n",
       "  max-height: 0;\n",
       "  max-width: 0;\n",
       "  overflow: hidden;\n",
       "  text-align: left;\n",
       "  /* unfitted */\n",
       "  background-color: var(--sklearn-color-unfitted-level-0);\n",
       "}\n",
       "\n",
       "#sk-container-id-1 div.sk-toggleable__content.fitted {\n",
       "  /* fitted */\n",
       "  background-color: var(--sklearn-color-fitted-level-0);\n",
       "}\n",
       "\n",
       "#sk-container-id-1 div.sk-toggleable__content pre {\n",
       "  margin: 0.2em;\n",
       "  border-radius: 0.25em;\n",
       "  color: var(--sklearn-color-text);\n",
       "  /* unfitted */\n",
       "  background-color: var(--sklearn-color-unfitted-level-0);\n",
       "}\n",
       "\n",
       "#sk-container-id-1 div.sk-toggleable__content.fitted pre {\n",
       "  /* unfitted */\n",
       "  background-color: var(--sklearn-color-fitted-level-0);\n",
       "}\n",
       "\n",
       "#sk-container-id-1 input.sk-toggleable__control:checked~div.sk-toggleable__content {\n",
       "  /* Expand drop-down */\n",
       "  max-height: 200px;\n",
       "  max-width: 100%;\n",
       "  overflow: auto;\n",
       "}\n",
       "\n",
       "#sk-container-id-1 input.sk-toggleable__control:checked~label.sk-toggleable__label-arrow:before {\n",
       "  content: \"▾\";\n",
       "}\n",
       "\n",
       "/* Pipeline/ColumnTransformer-specific style */\n",
       "\n",
       "#sk-container-id-1 div.sk-label input.sk-toggleable__control:checked~label.sk-toggleable__label {\n",
       "  color: var(--sklearn-color-text);\n",
       "  background-color: var(--sklearn-color-unfitted-level-2);\n",
       "}\n",
       "\n",
       "#sk-container-id-1 div.sk-label.fitted input.sk-toggleable__control:checked~label.sk-toggleable__label {\n",
       "  background-color: var(--sklearn-color-fitted-level-2);\n",
       "}\n",
       "\n",
       "/* Estimator-specific style */\n",
       "\n",
       "/* Colorize estimator box */\n",
       "#sk-container-id-1 div.sk-estimator input.sk-toggleable__control:checked~label.sk-toggleable__label {\n",
       "  /* unfitted */\n",
       "  background-color: var(--sklearn-color-unfitted-level-2);\n",
       "}\n",
       "\n",
       "#sk-container-id-1 div.sk-estimator.fitted input.sk-toggleable__control:checked~label.sk-toggleable__label {\n",
       "  /* fitted */\n",
       "  background-color: var(--sklearn-color-fitted-level-2);\n",
       "}\n",
       "\n",
       "#sk-container-id-1 div.sk-label label.sk-toggleable__label,\n",
       "#sk-container-id-1 div.sk-label label {\n",
       "  /* The background is the default theme color */\n",
       "  color: var(--sklearn-color-text-on-default-background);\n",
       "}\n",
       "\n",
       "/* On hover, darken the color of the background */\n",
       "#sk-container-id-1 div.sk-label:hover label.sk-toggleable__label {\n",
       "  color: var(--sklearn-color-text);\n",
       "  background-color: var(--sklearn-color-unfitted-level-2);\n",
       "}\n",
       "\n",
       "/* Label box, darken color on hover, fitted */\n",
       "#sk-container-id-1 div.sk-label.fitted:hover label.sk-toggleable__label.fitted {\n",
       "  color: var(--sklearn-color-text);\n",
       "  background-color: var(--sklearn-color-fitted-level-2);\n",
       "}\n",
       "\n",
       "/* Estimator label */\n",
       "\n",
       "#sk-container-id-1 div.sk-label label {\n",
       "  font-family: monospace;\n",
       "  font-weight: bold;\n",
       "  display: inline-block;\n",
       "  line-height: 1.2em;\n",
       "}\n",
       "\n",
       "#sk-container-id-1 div.sk-label-container {\n",
       "  text-align: center;\n",
       "}\n",
       "\n",
       "/* Estimator-specific */\n",
       "#sk-container-id-1 div.sk-estimator {\n",
       "  font-family: monospace;\n",
       "  border: 1px dotted var(--sklearn-color-border-box);\n",
       "  border-radius: 0.25em;\n",
       "  box-sizing: border-box;\n",
       "  margin-bottom: 0.5em;\n",
       "  /* unfitted */\n",
       "  background-color: var(--sklearn-color-unfitted-level-0);\n",
       "}\n",
       "\n",
       "#sk-container-id-1 div.sk-estimator.fitted {\n",
       "  /* fitted */\n",
       "  background-color: var(--sklearn-color-fitted-level-0);\n",
       "}\n",
       "\n",
       "/* on hover */\n",
       "#sk-container-id-1 div.sk-estimator:hover {\n",
       "  /* unfitted */\n",
       "  background-color: var(--sklearn-color-unfitted-level-2);\n",
       "}\n",
       "\n",
       "#sk-container-id-1 div.sk-estimator.fitted:hover {\n",
       "  /* fitted */\n",
       "  background-color: var(--sklearn-color-fitted-level-2);\n",
       "}\n",
       "\n",
       "/* Specification for estimator info (e.g. \"i\" and \"?\") */\n",
       "\n",
       "/* Common style for \"i\" and \"?\" */\n",
       "\n",
       ".sk-estimator-doc-link,\n",
       "a:link.sk-estimator-doc-link,\n",
       "a:visited.sk-estimator-doc-link {\n",
       "  float: right;\n",
       "  font-size: smaller;\n",
       "  line-height: 1em;\n",
       "  font-family: monospace;\n",
       "  background-color: var(--sklearn-color-background);\n",
       "  border-radius: 1em;\n",
       "  height: 1em;\n",
       "  width: 1em;\n",
       "  text-decoration: none !important;\n",
       "  margin-left: 1ex;\n",
       "  /* unfitted */\n",
       "  border: var(--sklearn-color-unfitted-level-1) 1pt solid;\n",
       "  color: var(--sklearn-color-unfitted-level-1);\n",
       "}\n",
       "\n",
       ".sk-estimator-doc-link.fitted,\n",
       "a:link.sk-estimator-doc-link.fitted,\n",
       "a:visited.sk-estimator-doc-link.fitted {\n",
       "  /* fitted */\n",
       "  border: var(--sklearn-color-fitted-level-1) 1pt solid;\n",
       "  color: var(--sklearn-color-fitted-level-1);\n",
       "}\n",
       "\n",
       "/* On hover */\n",
       "div.sk-estimator:hover .sk-estimator-doc-link:hover,\n",
       ".sk-estimator-doc-link:hover,\n",
       "div.sk-label-container:hover .sk-estimator-doc-link:hover,\n",
       ".sk-estimator-doc-link:hover {\n",
       "  /* unfitted */\n",
       "  background-color: var(--sklearn-color-unfitted-level-3);\n",
       "  color: var(--sklearn-color-background);\n",
       "  text-decoration: none;\n",
       "}\n",
       "\n",
       "div.sk-estimator.fitted:hover .sk-estimator-doc-link.fitted:hover,\n",
       ".sk-estimator-doc-link.fitted:hover,\n",
       "div.sk-label-container:hover .sk-estimator-doc-link.fitted:hover,\n",
       ".sk-estimator-doc-link.fitted:hover {\n",
       "  /* fitted */\n",
       "  background-color: var(--sklearn-color-fitted-level-3);\n",
       "  color: var(--sklearn-color-background);\n",
       "  text-decoration: none;\n",
       "}\n",
       "\n",
       "/* Span, style for the box shown on hovering the info icon */\n",
       ".sk-estimator-doc-link span {\n",
       "  display: none;\n",
       "  z-index: 9999;\n",
       "  position: relative;\n",
       "  font-weight: normal;\n",
       "  right: .2ex;\n",
       "  padding: .5ex;\n",
       "  margin: .5ex;\n",
       "  width: min-content;\n",
       "  min-width: 20ex;\n",
       "  max-width: 50ex;\n",
       "  color: var(--sklearn-color-text);\n",
       "  box-shadow: 2pt 2pt 4pt #999;\n",
       "  /* unfitted */\n",
       "  background: var(--sklearn-color-unfitted-level-0);\n",
       "  border: .5pt solid var(--sklearn-color-unfitted-level-3);\n",
       "}\n",
       "\n",
       ".sk-estimator-doc-link.fitted span {\n",
       "  /* fitted */\n",
       "  background: var(--sklearn-color-fitted-level-0);\n",
       "  border: var(--sklearn-color-fitted-level-3);\n",
       "}\n",
       "\n",
       ".sk-estimator-doc-link:hover span {\n",
       "  display: block;\n",
       "}\n",
       "\n",
       "/* \"?\"-specific style due to the `<a>` HTML tag */\n",
       "\n",
       "#sk-container-id-1 a.estimator_doc_link {\n",
       "  float: right;\n",
       "  font-size: 1rem;\n",
       "  line-height: 1em;\n",
       "  font-family: monospace;\n",
       "  background-color: var(--sklearn-color-background);\n",
       "  border-radius: 1rem;\n",
       "  height: 1rem;\n",
       "  width: 1rem;\n",
       "  text-decoration: none;\n",
       "  /* unfitted */\n",
       "  color: var(--sklearn-color-unfitted-level-1);\n",
       "  border: var(--sklearn-color-unfitted-level-1) 1pt solid;\n",
       "}\n",
       "\n",
       "#sk-container-id-1 a.estimator_doc_link.fitted {\n",
       "  /* fitted */\n",
       "  border: var(--sklearn-color-fitted-level-1) 1pt solid;\n",
       "  color: var(--sklearn-color-fitted-level-1);\n",
       "}\n",
       "\n",
       "/* On hover */\n",
       "#sk-container-id-1 a.estimator_doc_link:hover {\n",
       "  /* unfitted */\n",
       "  background-color: var(--sklearn-color-unfitted-level-3);\n",
       "  color: var(--sklearn-color-background);\n",
       "  text-decoration: none;\n",
       "}\n",
       "\n",
       "#sk-container-id-1 a.estimator_doc_link.fitted:hover {\n",
       "  /* fitted */\n",
       "  background-color: var(--sklearn-color-fitted-level-3);\n",
       "}\n",
       "</style><div id=\"sk-container-id-1\" class=\"sk-top-container\"><div class=\"sk-text-repr-fallback\"><pre>RandomForestClassifier(random_state=42)</pre><b>In a Jupyter environment, please rerun this cell to show the HTML representation or trust the notebook. <br />On GitHub, the HTML representation is unable to render, please try loading this page with nbviewer.org.</b></div><div class=\"sk-container\" hidden><div class=\"sk-item\"><div class=\"sk-estimator fitted sk-toggleable\"><input class=\"sk-toggleable__control sk-hidden--visually\" id=\"sk-estimator-id-1\" type=\"checkbox\" checked><label for=\"sk-estimator-id-1\" class=\"sk-toggleable__label fitted sk-toggleable__label-arrow fitted\">&nbsp;&nbsp;RandomForestClassifier<a class=\"sk-estimator-doc-link fitted\" rel=\"noreferrer\" target=\"_blank\" href=\"https://scikit-learn.org/1.5/modules/generated/sklearn.ensemble.RandomForestClassifier.html\">?<span>Documentation for RandomForestClassifier</span></a><span class=\"sk-estimator-doc-link fitted\">i<span>Fitted</span></span></label><div class=\"sk-toggleable__content fitted\"><pre>RandomForestClassifier(random_state=42)</pre></div> </div></div></div></div>"
      ],
      "text/plain": [
       "RandomForestClassifier(random_state=42)"
      ]
     },
     "execution_count": 42,
     "metadata": {},
     "output_type": "execute_result"
    }
   ],
   "source": [
    "# 3. Model Training\n",
    "rf_model = RandomForestClassifier(n_estimators=100, random_state=42)\n",
    "rf_model.fit(X_train_balanced, y_train_balanced)"
   ]
  },
  {
   "cell_type": "markdown",
   "id": "8fa98b3f",
   "metadata": {},
   "source": [
    "## Model Evaluation & Metrics"
   ]
  },
  {
   "cell_type": "code",
   "execution_count": 43,
   "id": "8f1a0693",
   "metadata": {},
   "outputs": [
    {
     "name": "stdout",
     "output_type": "stream",
     "text": [
      "Accuracy: 0.96\n",
      "\n",
      "Classification Report:\n",
      "              precision    recall  f1-score   support\n",
      "\n",
      "           0       0.97      0.98      0.98       193\n",
      "           1       0.25      0.17      0.20         6\n",
      "\n",
      "    accuracy                           0.96       199\n",
      "   macro avg       0.61      0.58      0.59       199\n",
      "weighted avg       0.95      0.96      0.96       199\n",
      "\n"
     ]
    }
   ],
   "source": [
    "# 4. Model Evaluation & Metrics\n",
    "y_pred = rf_model.predict(X_test)\n",
    "accuracy = accuracy_score(y_test, y_pred)\n",
    "print(f\"Accuracy: {accuracy:.2f}\")\n",
    "print(\"\\nClassification Report:\")\n",
    "print(classification_report(y_test, y_pred))"
   ]
  },
  {
   "cell_type": "markdown",
   "id": "20d79c70",
   "metadata": {},
   "source": [
    "## Confusion Matrix"
   ]
  },
  {
   "cell_type": "code",
   "execution_count": 49,
   "id": "0b9a82b6",
   "metadata": {},
   "outputs": [
    {
     "data": {
      "image/png": "[encoded data removed]",
      "text/plain": [
       "<Figure size 800x600 with 2 Axes>"
      ]
     },
     "metadata": {},
     "output_type": "display_data"
    }
   ],
   "source": [
    "# 5. Visualisasi Confusion Matrix\n",
    "cm = confusion_matrix(y_test, y_pred)\n",
    "plt.figure(figsize=(8, 6))\n",
    "sns.heatmap(cm, annot=True, fmt='d', cmap='Blues', xticklabels=['not fraudulent', 'fraudulent'], yticklabels=['not fraudulent', 'fraudulent'])\n",
    "plt.title('Confusion Matrix')\n",
    "plt.ylabel('True Label')\n",
    "plt.xlabel('Predicted Label')\n",
    "plt.show()"
   ]
  },
  {
   "cell_type": "markdown",
   "id": "ae2b39e6",
   "metadata": {},
   "source": [
    "## Train Test Accuracy"
   ]
  },
  {
   "cell_type": "code",
   "execution_count": 45,
   "id": "6c42e089",
   "metadata": {},
   "outputs": [],
   "source": [
    "# Akurasi pada data pelatihan\n",
    "y_train_pred = rf_model.predict(X_train_balanced)\n",
    "train_accuracy = accuracy_score(y_train_balanced, y_train_pred)\n",
    "train_loss = 1 - train_accuracy"
   ]
  },
  {
   "cell_type": "code",
   "execution_count": 46,
   "id": "f1b7edb5",
   "metadata": {},
   "outputs": [],
   "source": [
    "# Akurasi pada data uji\n",
    "y_test_pred = rf_model.predict(X_test)\n",
    "test_accuracy = accuracy_score(y_test, y_test_pred)\n",
    "test_loss = 1 - test_accuracy"
   ]
  },
  {
   "cell_type": "code",
   "execution_count": 47,
   "id": "8408bbb8",
   "metadata": {},
   "outputs": [
    {
     "name": "stdout",
     "output_type": "stream",
     "text": [
      "Train Accuracy : 1.00\n",
      "Train Loss     : 0.00\n",
      "Test Accuracy  : 0.96\n",
      "Test Loss      : 0.04\n"
     ]
    }
   ],
   "source": [
    "# Tampilkan akurasi dan loss\n",
    "print(f\"Train Accuracy : {train_accuracy:.2f}\")\n",
    "print(f\"Train Loss     : {train_loss:.2f}\")\n",
    "print(f\"Test Accuracy  : {test_accuracy:.2f}\")\n",
    "print(f\"Test Loss      : {test_loss:.2f}\")"
   ]
  },
  {
   "cell_type": "markdown",
   "id": "79917eed",
   "metadata": {},
   "source": [
    "## Model Saving"
   ]
  },
  {
   "cell_type": "code",
   "execution_count": 48,
   "id": "bbc17f23",
   "metadata": {},
   "outputs": [
    {
     "data": {
      "text/plain": [
       "['random_forest_model.joblib']"
      ]
     },
     "execution_count": 48,
     "metadata": {},
     "output_type": "execute_result"
    }
   ],
   "source": [
    "# 6. Model Saving (optional)\n",
    "joblib.dump(rf_model, 'random_forest_model.joblib')"
   ]
  },
  {
   "cell_type": "code",
   "execution_count": null,
   "id": "6567e6b0",
   "metadata": {},
   "outputs": [],
   "source": []
  }
 ],
 "metadata": {
  "kernelspec": {
   "display_name": "Python 3",
   "language": "python",
   "name": "python3"
  },
  "language_info": {
   "codemirror_mode": {
    "name": "ipython",
    "version": 3
   },
   "file_extension": ".py",
   "mimetype": "text/x-python",
   "name": "python",
   "nbconvert_exporter": "python",
   "pygments_lexer": "ipython3",
   "version": "3.11.0"
  }
 },
 "nbformat": 4,
 "nbformat_minor": 5
}
