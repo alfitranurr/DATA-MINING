{
 "cells": [
  {
   "cell_type": "markdown",
   "id": "13e8b195",
   "metadata": {},
   "source": [
    "# Import Library"
   ]
  },
  {
   "cell_type": "code",
   "execution_count": 1,
   "id": "e352523c",
   "metadata": {},
   "outputs": [],
   "source": [
    "import pandas as pd\n",
    "import numpy as np\n",
    "import matplotlib.pyplot as plt\n",
    "import seaborn as sns\n",
    "import re\n",
    "import joblib, pickle\n",
    "import warnings\n",
    "warnings.filterwarnings('ignore')\n",
    "from sklearn.preprocessing import OneHotEncoder, LabelEncoder, MinMaxScaler, StandardScaler\n",
    "from sklearn.metrics import accuracy_score, confusion_matrix, classification_report, roc_auc_score\n",
    "from imblearn.over_sampling import SMOTE\n",
    "from sklearn.ensemble import RandomForestClassifier\n",
    "from sklearn.model_selection import train_test_split, cross_val_score\n"
   ]
  },
  {
   "cell_type": "code",
   "execution_count": 2,
   "id": "2c74751e",
   "metadata": {},
   "outputs": [],
   "source": [
    "df = pd.read_csv('googleplaystore.csv')"
   ]
  },
  {
   "cell_type": "markdown",
   "id": "f2d43c49",
   "metadata": {},
   "source": [
    "# EDA"
   ]
  },
  {
   "cell_type": "code",
   "execution_count": 3,
   "id": "25787551",
   "metadata": {},
   "outputs": [
    {
     "name": "stdout",
     "output_type": "stream",
     "text": [
      "<class 'pandas.core.frame.DataFrame'>\n",
      "RangeIndex: 10841 entries, 0 to 10840\n",
      "Data columns (total 13 columns):\n",
      " #   Column          Non-Null Count  Dtype  \n",
      "---  ------          --------------  -----  \n",
      " 0   App             10841 non-null  object \n",
      " 1   Category        10841 non-null  object \n",
      " 2   Rating          9367 non-null   float64\n",
      " 3   Reviews         10841 non-null  object \n",
      " 4   Size            10841 non-null  object \n",
      " 5   Installs        10841 non-null  object \n",
      " 6   Type            10840 non-null  object \n",
      " 7   Price           10841 non-null  object \n",
      " 8   Content Rating  10840 non-null  object \n",
      " 9   Genres          10841 non-null  object \n",
      " 10  Last Updated    10841 non-null  object \n",
      " 11  Current Ver     10833 non-null  object \n",
      " 12  Android Ver     10838 non-null  object \n",
      "dtypes: float64(1), object(12)\n",
      "memory usage: 1.1+ MB\n"
     ]
    }
   ],
   "source": [
    "df.info()"
   ]
  },
  {
   "cell_type": "code",
   "execution_count": 4,
   "id": "5fc77541",
   "metadata": {},
   "outputs": [
    {
     "data": {
      "application/vnd.microsoft.datawrangler.viewer.v0+json": {
       "columns": [
        {
         "name": "index",
         "rawType": "object",
         "type": "string"
        },
        {
         "name": "Rating",
         "rawType": "float64",
         "type": "float"
        }
       ],
       "ref": "a2279b6d-16f2-4fc9-80ec-534c7b6135b6",
       "rows": [
        [
         "count",
         "9367.0"
        ],
        [
         "mean",
         "4.193338315362443"
        ],
        [
         "std",
         "0.5374313031477587"
        ],
        [
         "min",
         "1.0"
        ],
        [
         "25%",
         "4.0"
        ],
        [
         "50%",
         "4.3"
        ],
        [
         "75%",
         "4.5"
        ],
        [
         "max",
         "19.0"
        ]
       ],
       "shape": {
        "columns": 1,
        "rows": 8
       }
      },
      "text/html": [
       "<div>\n",
       "<style scoped>\n",
       "    .dataframe tbody tr th:only-of-type {\n",
       "        vertical-align: middle;\n",
       "    }\n",
       "\n",
       "    .dataframe tbody tr th {\n",
       "        vertical-align: top;\n",
       "    }\n",
       "\n",
       "    .dataframe thead th {\n",
       "        text-align: right;\n",
       "    }\n",
       "</style>\n",
       "<table border=\"1\" class=\"dataframe\">\n",
       "  <thead>\n",
       "    <tr style=\"text-align: right;\">\n",
       "      <th></th>\n",
       "      <th>Rating</th>\n",
       "    </tr>\n",
       "  </thead>\n",
       "  <tbody>\n",
       "    <tr>\n",
       "      <th>count</th>\n",
       "      <td>9367.000000</td>\n",
       "    </tr>\n",
       "    <tr>\n",
       "      <th>mean</th>\n",
       "      <td>4.193338</td>\n",
       "    </tr>\n",
       "    <tr>\n",
       "      <th>std</th>\n",
       "      <td>0.537431</td>\n",
       "    </tr>\n",
       "    <tr>\n",
       "      <th>min</th>\n",
       "      <td>1.000000</td>\n",
       "    </tr>\n",
       "    <tr>\n",
       "      <th>25%</th>\n",
       "      <td>4.000000</td>\n",
       "    </tr>\n",
       "    <tr>\n",
       "      <th>50%</th>\n",
       "      <td>4.300000</td>\n",
       "    </tr>\n",
       "    <tr>\n",
       "      <th>75%</th>\n",
       "      <td>4.500000</td>\n",
       "    </tr>\n",
       "    <tr>\n",
       "      <th>max</th>\n",
       "      <td>19.000000</td>\n",
       "    </tr>\n",
       "  </tbody>\n",
       "</table>\n",
       "</div>"
      ],
      "text/plain": [
       "            Rating\n",
       "count  9367.000000\n",
       "mean      4.193338\n",
       "std       0.537431\n",
       "min       1.000000\n",
       "25%       4.000000\n",
       "50%       4.300000\n",
       "75%       4.500000\n",
       "max      19.000000"
      ]
     },
     "execution_count": 4,
     "metadata": {},
     "output_type": "execute_result"
    }
   ],
   "source": [
    "df.describe()"
   ]
  },
  {
   "cell_type": "code",
   "execution_count": 5,
   "id": "a9af261b",
   "metadata": {},
   "outputs": [
    {
     "data": {
      "application/vnd.microsoft.datawrangler.viewer.v0+json": {
       "columns": [
        {
         "name": "index",
         "rawType": "object",
         "type": "string"
        },
        {
         "name": "0",
         "rawType": "int64",
         "type": "integer"
        }
       ],
       "ref": "db3a8c6a-8797-44af-b750-2cf717ca7ab5",
       "rows": [
        [
         "App",
         "10841"
        ],
        [
         "Category",
         "10841"
        ],
        [
         "Rating",
         "9367"
        ],
        [
         "Reviews",
         "10841"
        ],
        [
         "Size",
         "10841"
        ],
        [
         "Installs",
         "10841"
        ],
        [
         "Type",
         "10840"
        ],
        [
         "Price",
         "10841"
        ],
        [
         "Content Rating",
         "10840"
        ],
        [
         "Genres",
         "10841"
        ],
        [
         "Last Updated",
         "10841"
        ],
        [
         "Current Ver",
         "10833"
        ],
        [
         "Android Ver",
         "10838"
        ]
       ],
       "shape": {
        "columns": 1,
        "rows": 13
       }
      },
      "text/plain": [
       "App               10841\n",
       "Category          10841\n",
       "Rating             9367\n",
       "Reviews           10841\n",
       "Size              10841\n",
       "Installs          10841\n",
       "Type              10840\n",
       "Price             10841\n",
       "Content Rating    10840\n",
       "Genres            10841\n",
       "Last Updated      10841\n",
       "Current Ver       10833\n",
       "Android Ver       10838\n",
       "dtype: int64"
      ]
     },
     "execution_count": 5,
     "metadata": {},
     "output_type": "execute_result"
    }
   ],
   "source": [
    "df.count()"
   ]
  },
  {
   "cell_type": "code",
   "execution_count": 6,
   "id": "145c84d8",
   "metadata": {},
   "outputs": [
    {
     "data": {
      "text/plain": [
       "(10841, 13)"
      ]
     },
     "execution_count": 6,
     "metadata": {},
     "output_type": "execute_result"
    }
   ],
   "source": [
    "df.shape"
   ]
  },
  {
   "cell_type": "code",
   "execution_count": 7,
   "id": "ee1c1ce7",
   "metadata": {},
   "outputs": [
    {
     "data": {
      "image/png": "[encoded data removed]",
      "text/plain": [
       "<Figure size 640x480 with 1 Axes>"
      ]
     },
     "metadata": {},
     "output_type": "display_data"
    }
   ],
   "source": [
    "plt.Figure(figsize=(6,4))\n",
    "sns.countplot(x='Type', data=df)\n",
    "plt.title('Distribusi Type')\n",
    "plt.xlabel('0 = free, 1 = paid')\n",
    "plt.ylabel('Jumlah')\n",
    "plt.show()"
   ]
  },
  {
   "cell_type": "code",
   "execution_count": 8,
   "id": "d16be60d",
   "metadata": {},
   "outputs": [
    {
     "data": {
      "application/vnd.microsoft.datawrangler.viewer.v0+json": {
       "columns": [
        {
         "name": "index",
         "rawType": "object",
         "type": "string"
        },
        {
         "name": "0",
         "rawType": "int64",
         "type": "integer"
        }
       ],
       "ref": "f9475511-9610-42e1-8027-8f57b77cbd8c",
       "rows": [
        [
         "App",
         "0"
        ],
        [
         "Category",
         "0"
        ],
        [
         "Rating",
         "1474"
        ],
        [
         "Reviews",
         "0"
        ],
        [
         "Size",
         "0"
        ],
        [
         "Installs",
         "0"
        ],
        [
         "Type",
         "1"
        ],
        [
         "Price",
         "0"
        ],
        [
         "Content Rating",
         "1"
        ],
        [
         "Genres",
         "0"
        ],
        [
         "Last Updated",
         "0"
        ],
        [
         "Current Ver",
         "8"
        ],
        [
         "Android Ver",
         "3"
        ]
       ],
       "shape": {
        "columns": 1,
        "rows": 13
       }
      },
      "text/plain": [
       "App                  0\n",
       "Category             0\n",
       "Rating            1474\n",
       "Reviews              0\n",
       "Size                 0\n",
       "Installs             0\n",
       "Type                 1\n",
       "Price                0\n",
       "Content Rating       1\n",
       "Genres               0\n",
       "Last Updated         0\n",
       "Current Ver          8\n",
       "Android Ver          3\n",
       "dtype: int64"
      ]
     },
     "execution_count": 8,
     "metadata": {},
     "output_type": "execute_result"
    }
   ],
   "source": [
    "df.isnull().sum()"
   ]
  },
  {
   "cell_type": "code",
   "execution_count": 9,
   "id": "c6bf249f",
   "metadata": {},
   "outputs": [
    {
     "data": {
      "text/plain": [
       "np.int64(483)"
      ]
     },
     "execution_count": 9,
     "metadata": {},
     "output_type": "execute_result"
    }
   ],
   "source": [
    "df.duplicated().sum()"
   ]
  },
  {
   "cell_type": "code",
   "execution_count": 10,
   "id": "3124d105",
   "metadata": {},
   "outputs": [
    {
     "data": {
      "application/vnd.microsoft.datawrangler.viewer.v0+json": {
       "columns": [
        {
         "name": "index",
         "rawType": "int64",
         "type": "integer"
        },
        {
         "name": "App",
         "rawType": "object",
         "type": "string"
        },
        {
         "name": "Category",
         "rawType": "object",
         "type": "string"
        },
        {
         "name": "Rating",
         "rawType": "float64",
         "type": "float"
        },
        {
         "name": "Reviews",
         "rawType": "object",
         "type": "string"
        },
        {
         "name": "Size",
         "rawType": "object",
         "type": "string"
        },
        {
         "name": "Installs",
         "rawType": "object",
         "type": "string"
        },
        {
         "name": "Type",
         "rawType": "object",
         "type": "unknown"
        },
        {
         "name": "Price",
         "rawType": "object",
         "type": "string"
        },
        {
         "name": "Content Rating",
         "rawType": "object",
         "type": "unknown"
        },
        {
         "name": "Genres",
         "rawType": "object",
         "type": "string"
        },
        {
         "name": "Last Updated",
         "rawType": "object",
         "type": "string"
        },
        {
         "name": "Current Ver",
         "rawType": "object",
         "type": "unknown"
        },
        {
         "name": "Android Ver",
         "rawType": "object",
         "type": "unknown"
        }
       ],
       "ref": "5548fb0c-38a7-4142-af9d-2ff5f99aa796",
       "rows": [
        [
         "15",
         "Learn To Draw Kawaii Characters",
         "ART_AND_DESIGN",
         "3.2",
         "55",
         "2.7M",
         "5,000+",
         "Free",
         "0",
         "Everyone",
         "Art & Design",
         "June 6, 2018",
         null,
         "4.2 and up"
        ],
        [
         "23",
         "Mcqueen Coloring pages",
         "ART_AND_DESIGN",
         null,
         "61",
         "7.0M",
         "100,000+",
         "Free",
         "0",
         "Everyone",
         "Art & Design;Action & Adventure",
         "March 7, 2018",
         "1.0.0",
         "4.1 and up"
        ],
        [
         "113",
         "Wrinkles and rejuvenation",
         "BEAUTY",
         null,
         "182",
         "5.7M",
         "100,000+",
         "Free",
         "0",
         "Everyone 10+",
         "Beauty",
         "September 20, 2017",
         "8.0",
         "3.0 and up"
        ],
        [
         "123",
         "Manicure - nail design",
         "BEAUTY",
         null,
         "119",
         "3.7M",
         "50,000+",
         "Free",
         "0",
         "Everyone",
         "Beauty",
         "July 23, 2018",
         "1.3",
         "4.1 and up"
        ],
        [
         "126",
         "Skin Care and Natural Beauty",
         "BEAUTY",
         null,
         "654",
         "7.4M",
         "100,000+",
         "Free",
         "0",
         "Teen",
         "Beauty",
         "July 17, 2018",
         "1.15",
         "4.1 and up"
        ],
        [
         "129",
         "Secrets of beauty, youth and health",
         "BEAUTY",
         null,
         "77",
         "2.9M",
         "10,000+",
         "Free",
         "0",
         "Mature 17+",
         "Beauty",
         "August 8, 2017",
         "2.0",
         "2.3 and up"
        ],
        [
         "130",
         "Recipes and tips for losing weight",
         "BEAUTY",
         null,
         "35",
         "3.1M",
         "10,000+",
         "Free",
         "0",
         "Everyone 10+",
         "Beauty",
         "December 11, 2017",
         "2.0",
         "3.0 and up"
        ],
        [
         "134",
         "Lady adviser (beauty, health)",
         "BEAUTY",
         null,
         "30",
         "9.9M",
         "10,000+",
         "Free",
         "0",
         "Mature 17+",
         "Beauty",
         "January 24, 2018",
         "3.0",
         "3.0 and up"
        ],
        [
         "163",
         "Anonymous caller detection",
         "BOOKS_AND_REFERENCE",
         null,
         "161",
         "2.7M",
         "10,000+",
         "Free",
         "0",
         "Everyone",
         "Books & Reference",
         "July 13, 2018",
         "1.0",
         "2.3 and up"
        ],
        [
         "180",
         "SH-02J Owner's Manual (Android 8.0)",
         "BOOKS_AND_REFERENCE",
         null,
         "2",
         "7.2M",
         "50,000+",
         "Free",
         "0",
         "Everyone",
         "Books & Reference",
         "June 15, 2018",
         "3.0",
         "6.0 and up"
        ],
        [
         "185",
         "URBANO V 02 instruction manual",
         "BOOKS_AND_REFERENCE",
         null,
         "114",
         "7.3M",
         "100,000+",
         "Free",
         "0",
         "Everyone",
         "Books & Reference",
         "August 7, 2015",
         "1.1",
         "5.1 and up"
        ],
        [
         "227",
         "Y! Mobile menu",
         "BUSINESS",
         null,
         "9",
         "1.2M",
         "100,000+",
         "Free",
         "0",
         "Everyone",
         "Business",
         "April 9, 2018",
         "1.0.5",
         "6.0 and up"
        ],
        [
         "321",
         "【Ranobbe complete free】 Novelba - Free app that you can read and write novels",
         "COMICS",
         null,
         "1330",
         "22M",
         "50,000+",
         "Free",
         "0",
         "Everyone",
         "Comics",
         "July 3, 2018",
         "6.1.1",
         "4.2 and up"
        ],
        [
         "478",
         "Truth or Dare Pro",
         "DATING",
         null,
         "0",
         "20M",
         "50+",
         "Paid",
         "$1.49",
         "Teen",
         "Dating",
         "September 1, 2017",
         "1.0",
         "4.0 and up"
        ],
        [
         "479",
         "Private Dating, Hide App- Blue for PrivacyHider",
         "DATING",
         null,
         "0",
         "18k",
         "100+",
         "Paid",
         "$2.99",
         "Everyone",
         "Dating",
         "July 25, 2017",
         "1.0.1",
         "4.0 and up"
        ],
        [
         "480",
         "Ad Blocker for SayHi",
         "DATING",
         null,
         "4",
         "1.2M",
         "100+",
         "Paid",
         "$3.99",
         "Teen",
         "Dating",
         "August 2, 2018",
         "1.2",
         "4.0.3 and up"
        ],
        [
         "610",
         "Random Video Chat",
         "DATING",
         null,
         "3",
         "16M",
         "1,000+",
         "Free",
         "0",
         "Mature 17+",
         "Dating",
         "July 15, 2018",
         "4.20",
         "4.0.3 and up"
        ],
        [
         "613",
         "Random Video Chat App With Strangers",
         "DATING",
         null,
         "3",
         "4.8M",
         "1,000+",
         "Free",
         "0",
         "Mature 17+",
         "Dating",
         "July 17, 2018",
         "1.",
         "4.0 and up"
        ],
        [
         "617",
         "Meet With Strangers: Video Chat & Dating",
         "DATING",
         null,
         "2",
         "3.7M",
         "500+",
         "Free",
         "0",
         "Mature 17+",
         "Dating",
         "July 16, 2018",
         "1.",
         "4.0 and up"
        ],
        [
         "620",
         "Ost. Zombies Cast - New Music and Lyrics",
         "DATING",
         null,
         "1",
         "4.6M",
         "100+",
         "Free",
         "0",
         "Teen",
         "Dating",
         "July 20, 2018",
         "1.0",
         "4.0.3 and up"
        ],
        [
         "621",
         "Dating White Girls",
         "DATING",
         null,
         "0",
         "3.6M",
         "50+",
         "Free",
         "0",
         "Mature 17+",
         "Dating",
         "July 20, 2018",
         "1.0",
         "4.0 and up"
        ],
        [
         "623",
         "Geeks Dating",
         "DATING",
         null,
         "0",
         "13M",
         "50+",
         "Free",
         "0",
         "Mature 17+",
         "Dating",
         "July 10, 2018",
         "1.0",
         "4.1 and up"
        ],
        [
         "624",
         "Live chat - free video chat",
         "DATING",
         null,
         "1",
         "8.7M",
         "500+",
         "Free",
         "0",
         "Mature 17+",
         "Dating",
         "July 23, 2018",
         "3.52",
         "4.0.3 and up"
        ],
        [
         "626",
         "Fishing Brain & Boating Maps Marine",
         "DATING",
         null,
         "3",
         "6.9M",
         "500+",
         "Free",
         "0",
         "Everyone",
         "Dating",
         "July 23, 2018",
         "1.0",
         "4.0.3 and up"
        ],
        [
         "627",
         "CAM5678 Video Chat",
         "DATING",
         null,
         "0",
         "39M",
         "500+",
         "Free",
         "0",
         "Mature 17+",
         "Dating",
         "July 13, 2018",
         "5.5.8",
         "4.0.3 and up"
        ],
        [
         "628",
         "Video chat live advices",
         "DATING",
         null,
         "0",
         "8.0M",
         "100+",
         "Free",
         "0",
         "Everyone",
         "Dating",
         "July 10, 2018",
         "1.0",
         "3.0 and up"
        ],
        [
         "629",
         "chat live chat",
         "DATING",
         null,
         "24",
         "3.9M",
         "1,000+",
         "Free",
         "0",
         "Mature 17+",
         "Dating",
         "July 26, 2018",
         "1.0",
         "4.0 and up"
        ],
        [
         "630",
         "Pet Lovers Dating",
         "DATING",
         null,
         "0",
         "14M",
         "10+",
         "Free",
         "0",
         "Mature 17+",
         "Dating",
         "July 9, 2018",
         "1.0",
         "4.1 and up"
        ],
        [
         "631",
         "Friend Find: free chat + flirt dating app",
         "DATING",
         null,
         "23",
         "11M",
         "100+",
         "Free",
         "0",
         "Mature 17+",
         "Dating",
         "July 31, 2018",
         "1.0",
         "4.4 and up"
        ],
        [
         "632",
         "Latin Dating",
         "DATING",
         null,
         "0",
         "13M",
         "10+",
         "Free",
         "0",
         "Mature 17+",
         "Dating",
         "July 9, 2018",
         "1.0",
         "4.1 and up"
        ],
        [
         "635",
         "Wifi Mingle",
         "DATING",
         null,
         "0",
         "10.0M",
         "10+",
         "Free",
         "0",
         "Everyone",
         "Dating",
         "July 27, 2018",
         "1.3",
         "4.4 and up"
        ],
        [
         "637",
         "Soy Luna - Top Music And Lyrics",
         "DATING",
         null,
         "1",
         "5.0M",
         "100+",
         "Free",
         "0",
         "Teen",
         "Dating",
         "July 24, 2018",
         "1.0",
         "4.0.3 and up"
        ],
        [
         "638",
         "When Will You Get Married",
         "DATING",
         null,
         "2",
         "3.6M",
         "10+",
         "Free",
         "0",
         "Everyone",
         "Dating",
         "July 14, 2018",
         "1.0",
         "4.0.3 and up"
        ],
        [
         "639",
         "HOW TO ASK A GIRL OUT",
         "DATING",
         null,
         "0",
         "19M",
         "10+",
         "Free",
         "0",
         "Everyone",
         "Dating",
         "July 16, 2018",
         "1.0",
         "4.0.3 and up"
        ],
        [
         "641",
         "The DJ - Match with People",
         "DATING",
         null,
         "0",
         "9.8M",
         "50+",
         "Free",
         "0",
         "Mature 17+",
         "Dating",
         "August 2, 2018",
         "1.2",
         "4.1 and up"
        ],
        [
         "642",
         "Toronto Dating",
         "DATING",
         null,
         "0",
         "14M",
         "100+",
         "Free",
         "0",
         "Mature 17+",
         "Dating",
         "July 12, 2018",
         "1.0",
         "4.1 and up"
        ],
        [
         "643",
         "i miss you quotes and photos",
         "DATING",
         null,
         "0",
         "5.0M",
         "100+",
         "Free",
         "0",
         "Everyone",
         "Dating",
         "July 22, 2018",
         "1.0.7",
         "4.0 and up"
        ],
        [
         "644",
         "JoJo Siwa Top Hits Music",
         "DATING",
         null,
         "0",
         "4.9M",
         "10+",
         "Free",
         "0",
         "Teen",
         "Dating",
         "July 26, 2018",
         "1.0",
         "4.0.3 and up"
        ],
        [
         "647",
         "Chat Click - Dating Search",
         "DATING",
         null,
         "4",
         "3.8M",
         "500+",
         "Free",
         "0",
         "Mature 17+",
         "Dating",
         "July 11, 2018",
         "1.0",
         "3.0 and up"
        ],
        [
         "648",
         "Iraq love chat",
         "DATING",
         null,
         "14",
         "5.0M",
         "50+",
         "Free",
         "0",
         "Teen",
         "Dating",
         "August 3, 2018",
         "8.2",
         "4.0.3 and up"
        ],
        [
         "649",
         "Healthy Relationships Guide",
         "DATING",
         null,
         "0",
         "8.2M",
         "1+",
         "Free",
         "0",
         "Everyone",
         "Dating",
         "July 31, 2018",
         "2.0",
         "4.0.3 and up"
        ],
        [
         "650",
         "following",
         "DATING",
         null,
         "1",
         "21M",
         "10+",
         "Free",
         "0",
         "Mature 17+",
         "Dating",
         "July 24, 2018",
         "1.0.3",
         "4.2 and up"
        ],
        [
         "651",
         "Gods by Night",
         "DATING",
         null,
         "104",
         "12M",
         "1,000+",
         "Free",
         "0",
         "Mature 17+",
         "Dating",
         "July 22, 2018",
         "3.5.4.2.3",
         "4.1 and up"
        ],
        [
         "652",
         "PlusOne",
         "DATING",
         null,
         "0",
         "10M",
         "1+",
         "Free",
         "0",
         "Mature 17+",
         "Dating",
         "July 17, 2018",
         "1.1.1",
         "4.2 and up"
        ],
        [
         "653",
         "Love Calendar - Couple Sharing Calendar & CoupleDay",
         "DATING",
         null,
         "14",
         "3.3M",
         "50+",
         "Free",
         "0",
         "Everyone",
         "Dating",
         "July 30, 2018",
         "1.6",
         "4.1 and up"
        ],
        [
         "658",
         "Soul Mate",
         "DATING",
         null,
         "0",
         "4.4M",
         "10+",
         "Free",
         "0",
         "Mature 17+",
         "Dating",
         "July 19, 2018",
         "4.5.0",
         "4.0.3 and up"
        ],
        [
         "659",
         "Diamond Engagement Rings",
         "DATING",
         null,
         "0",
         "3.5M",
         "5+",
         "Free",
         "0",
         "Everyone",
         "Dating",
         "July 12, 2018",
         "6.1",
         "4.0 and up"
        ],
        [
         "660",
         "Dating Tips For Men",
         "DATING",
         null,
         "0",
         "7.8M",
         "10+",
         "Free",
         "0",
         "Everyone",
         "Dating",
         "July 9, 2018",
         "3.0",
         "4.0.3 and up"
        ],
        [
         "666",
         "Random Video Chat",
         "DATING",
         null,
         "3",
         "16M",
         "1,000+",
         "Free",
         "0",
         "Mature 17+",
         "Dating",
         "July 15, 2018",
         "4.20",
         "4.0.3 and up"
        ],
        [
         "669",
         "Find Lover",
         "DATING",
         null,
         "21",
         "4.7M",
         "1,000+",
         "Free",
         "0",
         "Mature 17+",
         "Dating",
         "July 27, 2018",
         "1.0.2",
         "4.0.3 and up"
        ]
       ],
       "shape": {
        "columns": 13,
        "rows": 1481
       }
      },
      "text/html": [
       "<div>\n",
       "<style scoped>\n",
       "    .dataframe tbody tr th:only-of-type {\n",
       "        vertical-align: middle;\n",
       "    }\n",
       "\n",
       "    .dataframe tbody tr th {\n",
       "        vertical-align: top;\n",
       "    }\n",
       "\n",
       "    .dataframe thead th {\n",
       "        text-align: right;\n",
       "    }\n",
       "</style>\n",
       "<table border=\"1\" class=\"dataframe\">\n",
       "  <thead>\n",
       "    <tr style=\"text-align: right;\">\n",
       "      <th></th>\n",
       "      <th>App</th>\n",
       "      <th>Category</th>\n",
       "      <th>Rating</th>\n",
       "      <th>Reviews</th>\n",
       "      <th>Size</th>\n",
       "      <th>Installs</th>\n",
       "      <th>Type</th>\n",
       "      <th>Price</th>\n",
       "      <th>Content Rating</th>\n",
       "      <th>Genres</th>\n",
       "      <th>Last Updated</th>\n",
       "      <th>Current Ver</th>\n",
       "      <th>Android Ver</th>\n",
       "    </tr>\n",
       "  </thead>\n",
       "  <tbody>\n",
       "    <tr>\n",
       "      <th>15</th>\n",
       "      <td>Learn To Draw Kawaii Characters</td>\n",
       "      <td>ART_AND_DESIGN</td>\n",
       "      <td>3.2</td>\n",
       "      <td>55</td>\n",
       "      <td>2.7M</td>\n",
       "      <td>5,000+</td>\n",
       "      <td>Free</td>\n",
       "      <td>0</td>\n",
       "      <td>Everyone</td>\n",
       "      <td>Art &amp; Design</td>\n",
       "      <td>June 6, 2018</td>\n",
       "      <td>NaN</td>\n",
       "      <td>4.2 and up</td>\n",
       "    </tr>\n",
       "    <tr>\n",
       "      <th>23</th>\n",
       "      <td>Mcqueen Coloring pages</td>\n",
       "      <td>ART_AND_DESIGN</td>\n",
       "      <td>NaN</td>\n",
       "      <td>61</td>\n",
       "      <td>7.0M</td>\n",
       "      <td>100,000+</td>\n",
       "      <td>Free</td>\n",
       "      <td>0</td>\n",
       "      <td>Everyone</td>\n",
       "      <td>Art &amp; Design;Action &amp; Adventure</td>\n",
       "      <td>March 7, 2018</td>\n",
       "      <td>1.0.0</td>\n",
       "      <td>4.1 and up</td>\n",
       "    </tr>\n",
       "    <tr>\n",
       "      <th>113</th>\n",
       "      <td>Wrinkles and rejuvenation</td>\n",
       "      <td>BEAUTY</td>\n",
       "      <td>NaN</td>\n",
       "      <td>182</td>\n",
       "      <td>5.7M</td>\n",
       "      <td>100,000+</td>\n",
       "      <td>Free</td>\n",
       "      <td>0</td>\n",
       "      <td>Everyone 10+</td>\n",
       "      <td>Beauty</td>\n",
       "      <td>September 20, 2017</td>\n",
       "      <td>8.0</td>\n",
       "      <td>3.0 and up</td>\n",
       "    </tr>\n",
       "    <tr>\n",
       "      <th>123</th>\n",
       "      <td>Manicure - nail design</td>\n",
       "      <td>BEAUTY</td>\n",
       "      <td>NaN</td>\n",
       "      <td>119</td>\n",
       "      <td>3.7M</td>\n",
       "      <td>50,000+</td>\n",
       "      <td>Free</td>\n",
       "      <td>0</td>\n",
       "      <td>Everyone</td>\n",
       "      <td>Beauty</td>\n",
       "      <td>July 23, 2018</td>\n",
       "      <td>1.3</td>\n",
       "      <td>4.1 and up</td>\n",
       "    </tr>\n",
       "    <tr>\n",
       "      <th>126</th>\n",
       "      <td>Skin Care and Natural Beauty</td>\n",
       "      <td>BEAUTY</td>\n",
       "      <td>NaN</td>\n",
       "      <td>654</td>\n",
       "      <td>7.4M</td>\n",
       "      <td>100,000+</td>\n",
       "      <td>Free</td>\n",
       "      <td>0</td>\n",
       "      <td>Teen</td>\n",
       "      <td>Beauty</td>\n",
       "      <td>July 17, 2018</td>\n",
       "      <td>1.15</td>\n",
       "      <td>4.1 and up</td>\n",
       "    </tr>\n",
       "    <tr>\n",
       "      <th>...</th>\n",
       "      <td>...</td>\n",
       "      <td>...</td>\n",
       "      <td>...</td>\n",
       "      <td>...</td>\n",
       "      <td>...</td>\n",
       "      <td>...</td>\n",
       "      <td>...</td>\n",
       "      <td>...</td>\n",
       "      <td>...</td>\n",
       "      <td>...</td>\n",
       "      <td>...</td>\n",
       "      <td>...</td>\n",
       "      <td>...</td>\n",
       "    </tr>\n",
       "    <tr>\n",
       "      <th>10824</th>\n",
       "      <td>Cardio-FR</td>\n",
       "      <td>MEDICAL</td>\n",
       "      <td>NaN</td>\n",
       "      <td>67</td>\n",
       "      <td>82M</td>\n",
       "      <td>10,000+</td>\n",
       "      <td>Free</td>\n",
       "      <td>0</td>\n",
       "      <td>Everyone</td>\n",
       "      <td>Medical</td>\n",
       "      <td>July 31, 2018</td>\n",
       "      <td>2.2.2</td>\n",
       "      <td>4.4 and up</td>\n",
       "    </tr>\n",
       "    <tr>\n",
       "      <th>10825</th>\n",
       "      <td>Naruto &amp; Boruto FR</td>\n",
       "      <td>SOCIAL</td>\n",
       "      <td>NaN</td>\n",
       "      <td>7</td>\n",
       "      <td>7.7M</td>\n",
       "      <td>100+</td>\n",
       "      <td>Free</td>\n",
       "      <td>0</td>\n",
       "      <td>Teen</td>\n",
       "      <td>Social</td>\n",
       "      <td>February 2, 2018</td>\n",
       "      <td>1.0</td>\n",
       "      <td>4.0 and up</td>\n",
       "    </tr>\n",
       "    <tr>\n",
       "      <th>10831</th>\n",
       "      <td>payermonstationnement.fr</td>\n",
       "      <td>MAPS_AND_NAVIGATION</td>\n",
       "      <td>NaN</td>\n",
       "      <td>38</td>\n",
       "      <td>9.8M</td>\n",
       "      <td>5,000+</td>\n",
       "      <td>Free</td>\n",
       "      <td>0</td>\n",
       "      <td>Everyone</td>\n",
       "      <td>Maps &amp; Navigation</td>\n",
       "      <td>June 13, 2018</td>\n",
       "      <td>2.0.148.0</td>\n",
       "      <td>4.0 and up</td>\n",
       "    </tr>\n",
       "    <tr>\n",
       "      <th>10835</th>\n",
       "      <td>FR Forms</td>\n",
       "      <td>BUSINESS</td>\n",
       "      <td>NaN</td>\n",
       "      <td>0</td>\n",
       "      <td>9.6M</td>\n",
       "      <td>10+</td>\n",
       "      <td>Free</td>\n",
       "      <td>0</td>\n",
       "      <td>Everyone</td>\n",
       "      <td>Business</td>\n",
       "      <td>September 29, 2016</td>\n",
       "      <td>1.1.5</td>\n",
       "      <td>4.0 and up</td>\n",
       "    </tr>\n",
       "    <tr>\n",
       "      <th>10838</th>\n",
       "      <td>Parkinson Exercices FR</td>\n",
       "      <td>MEDICAL</td>\n",
       "      <td>NaN</td>\n",
       "      <td>3</td>\n",
       "      <td>9.5M</td>\n",
       "      <td>1,000+</td>\n",
       "      <td>Free</td>\n",
       "      <td>0</td>\n",
       "      <td>Everyone</td>\n",
       "      <td>Medical</td>\n",
       "      <td>January 20, 2017</td>\n",
       "      <td>1.0</td>\n",
       "      <td>2.2 and up</td>\n",
       "    </tr>\n",
       "  </tbody>\n",
       "</table>\n",
       "<p>1481 rows × 13 columns</p>\n",
       "</div>"
      ],
      "text/plain": [
       "                                   App             Category  Rating Reviews  \\\n",
       "15     Learn To Draw Kawaii Characters       ART_AND_DESIGN     3.2      55   \n",
       "23              Mcqueen Coloring pages       ART_AND_DESIGN     NaN      61   \n",
       "113          Wrinkles and rejuvenation               BEAUTY     NaN     182   \n",
       "123             Manicure - nail design               BEAUTY     NaN     119   \n",
       "126       Skin Care and Natural Beauty               BEAUTY     NaN     654   \n",
       "...                                ...                  ...     ...     ...   \n",
       "10824                        Cardio-FR              MEDICAL     NaN      67   \n",
       "10825               Naruto & Boruto FR               SOCIAL     NaN       7   \n",
       "10831         payermonstationnement.fr  MAPS_AND_NAVIGATION     NaN      38   \n",
       "10835                         FR Forms             BUSINESS     NaN       0   \n",
       "10838           Parkinson Exercices FR              MEDICAL     NaN       3   \n",
       "\n",
       "       Size  Installs  Type Price Content Rating  \\\n",
       "15     2.7M    5,000+  Free     0       Everyone   \n",
       "23     7.0M  100,000+  Free     0       Everyone   \n",
       "113    5.7M  100,000+  Free     0   Everyone 10+   \n",
       "123    3.7M   50,000+  Free     0       Everyone   \n",
       "126    7.4M  100,000+  Free     0           Teen   \n",
       "...     ...       ...   ...   ...            ...   \n",
       "10824   82M   10,000+  Free     0       Everyone   \n",
       "10825  7.7M      100+  Free     0           Teen   \n",
       "10831  9.8M    5,000+  Free     0       Everyone   \n",
       "10835  9.6M       10+  Free     0       Everyone   \n",
       "10838  9.5M    1,000+  Free     0       Everyone   \n",
       "\n",
       "                                Genres        Last Updated Current Ver  \\\n",
       "15                        Art & Design        June 6, 2018         NaN   \n",
       "23     Art & Design;Action & Adventure       March 7, 2018       1.0.0   \n",
       "113                             Beauty  September 20, 2017         8.0   \n",
       "123                             Beauty       July 23, 2018         1.3   \n",
       "126                             Beauty       July 17, 2018        1.15   \n",
       "...                                ...                 ...         ...   \n",
       "10824                          Medical       July 31, 2018       2.2.2   \n",
       "10825                           Social    February 2, 2018         1.0   \n",
       "10831                Maps & Navigation       June 13, 2018   2.0.148.0   \n",
       "10835                         Business  September 29, 2016       1.1.5   \n",
       "10838                          Medical    January 20, 2017         1.0   \n",
       "\n",
       "      Android Ver  \n",
       "15     4.2 and up  \n",
       "23     4.1 and up  \n",
       "113    3.0 and up  \n",
       "123    4.1 and up  \n",
       "126    4.1 and up  \n",
       "...           ...  \n",
       "10824  4.4 and up  \n",
       "10825  4.0 and up  \n",
       "10831  4.0 and up  \n",
       "10835  4.0 and up  \n",
       "10838  2.2 and up  \n",
       "\n",
       "[1481 rows x 13 columns]"
      ]
     },
     "metadata": {},
     "output_type": "display_data"
    }
   ],
   "source": [
    "df_missing = df[df.isnull().any(axis=1)]\n",
    "display(df_missing)"
   ]
  },
  {
   "cell_type": "code",
   "execution_count": 11,
   "id": "365ea5f1",
   "metadata": {},
   "outputs": [
    {
     "data": {
      "application/vnd.microsoft.datawrangler.viewer.v0+json": {
       "columns": [
        {
         "name": "index",
         "rawType": "int64",
         "type": "integer"
        },
        {
         "name": "App",
         "rawType": "object",
         "type": "string"
        },
        {
         "name": "Category",
         "rawType": "object",
         "type": "string"
        },
        {
         "name": "Rating",
         "rawType": "float64",
         "type": "float"
        },
        {
         "name": "Reviews",
         "rawType": "object",
         "type": "string"
        },
        {
         "name": "Size",
         "rawType": "object",
         "type": "string"
        },
        {
         "name": "Installs",
         "rawType": "object",
         "type": "string"
        },
        {
         "name": "Type",
         "rawType": "object",
         "type": "string"
        },
        {
         "name": "Price",
         "rawType": "object",
         "type": "string"
        },
        {
         "name": "Content Rating",
         "rawType": "object",
         "type": "string"
        },
        {
         "name": "Genres",
         "rawType": "object",
         "type": "string"
        },
        {
         "name": "Last Updated",
         "rawType": "object",
         "type": "string"
        },
        {
         "name": "Current Ver",
         "rawType": "object",
         "type": "string"
        },
        {
         "name": "Android Ver",
         "rawType": "object",
         "type": "string"
        }
       ],
       "ref": "3f3c04b5-d098-4f47-baec-9b78c26cac29",
       "rows": [
        [
         "229",
         "Quick PDF Scanner + OCR FREE",
         "BUSINESS",
         "4.2",
         "80805",
         "Varies with device",
         "5,000,000+",
         "Free",
         "0",
         "Everyone",
         "Business",
         "February 26, 2018",
         "Varies with device",
         "4.0.3 and up"
        ],
        [
         "236",
         "Box",
         "BUSINESS",
         "4.2",
         "159872",
         "Varies with device",
         "10,000,000+",
         "Free",
         "0",
         "Everyone",
         "Business",
         "July 31, 2018",
         "Varies with device",
         "Varies with device"
        ],
        [
         "239",
         "Google My Business",
         "BUSINESS",
         "4.4",
         "70991",
         "Varies with device",
         "5,000,000+",
         "Free",
         "0",
         "Everyone",
         "Business",
         "July 24, 2018",
         "2.19.0.204537701",
         "4.4 and up"
        ],
        [
         "256",
         "ZOOM Cloud Meetings",
         "BUSINESS",
         "4.4",
         "31614",
         "37M",
         "10,000,000+",
         "Free",
         "0",
         "Everyone",
         "Business",
         "July 20, 2018",
         "4.1.28165.0716",
         "4.0 and up"
        ],
        [
         "261",
         "join.me - Simple Meetings",
         "BUSINESS",
         "4.0",
         "6989",
         "Varies with device",
         "1,000,000+",
         "Free",
         "0",
         "Everyone",
         "Business",
         "July 16, 2018",
         "4.3.0.508",
         "4.4 and up"
        ],
        [
         "265",
         "Box",
         "BUSINESS",
         "4.2",
         "159872",
         "Varies with device",
         "10,000,000+",
         "Free",
         "0",
         "Everyone",
         "Business",
         "July 31, 2018",
         "Varies with device",
         "Varies with device"
        ],
        [
         "266",
         "Zenefits",
         "BUSINESS",
         "4.2",
         "296",
         "14M",
         "50,000+",
         "Free",
         "0",
         "Everyone",
         "Business",
         "June 15, 2018",
         "3.2.1",
         "4.1 and up"
        ],
        [
         "267",
         "Google Ads",
         "BUSINESS",
         "4.3",
         "29313",
         "20M",
         "5,000,000+",
         "Free",
         "0",
         "Everyone",
         "Business",
         "July 30, 2018",
         "1.12.0",
         "4.0.3 and up"
        ],
        [
         "268",
         "Google My Business",
         "BUSINESS",
         "4.4",
         "70991",
         "Varies with device",
         "5,000,000+",
         "Free",
         "0",
         "Everyone",
         "Business",
         "July 24, 2018",
         "2.19.0.204537701",
         "4.4 and up"
        ],
        [
         "269",
         "Slack",
         "BUSINESS",
         "4.4",
         "51507",
         "Varies with device",
         "5,000,000+",
         "Free",
         "0",
         "Everyone",
         "Business",
         "August 2, 2018",
         "Varies with device",
         "Varies with device"
        ],
        [
         "270",
         "FreshBooks Classic",
         "BUSINESS",
         "4.1",
         "1802",
         "26M",
         "100,000+",
         "Free",
         "0",
         "Everyone",
         "Business",
         "April 18, 2018",
         "1.7.14",
         "4.2 and up"
        ],
        [
         "271",
         "Insightly CRM",
         "BUSINESS",
         "3.8",
         "1383",
         "51M",
         "100,000+",
         "Free",
         "0",
         "Everyone",
         "Business",
         "July 12, 2018",
         "3.24.1",
         "5.0 and up"
        ],
        [
         "272",
         "QuickBooks Accounting: Invoicing & Expenses",
         "BUSINESS",
         "4.3",
         "23175",
         "41M",
         "1,000,000+",
         "Free",
         "0",
         "Everyone",
         "Business",
         "July 13, 2018",
         "18.7",
         "4.1 and up"
        ],
        [
         "273",
         "HipChat - Chat Built for Teams",
         "BUSINESS",
         "3.8",
         "5868",
         "20M",
         "500,000+",
         "Free",
         "0",
         "Everyone",
         "Business",
         "July 3, 2018",
         "3.19.005",
         "4.1 and up"
        ],
        [
         "274",
         "Xero Accounting Software",
         "BUSINESS",
         "3.5",
         "2111",
         "Varies with device",
         "100,000+",
         "Free",
         "0",
         "Everyone",
         "Business",
         "July 30, 2018",
         "Varies with device",
         "Varies with device"
        ],
        [
         "275",
         "MailChimp - Email, Marketing Automation",
         "BUSINESS",
         "4.1",
         "5448",
         "12M",
         "500,000+",
         "Free",
         "0",
         "Everyone",
         "Business",
         "July 25, 2018",
         "4.9.1",
         "5.0 and up"
        ],
        [
         "276",
         "Crew - Free Messaging and Scheduling",
         "BUSINESS",
         "4.6",
         "4159",
         "48M",
         "500,000+",
         "Free",
         "0",
         "Everyone",
         "Business",
         "July 20, 2018",
         "6.1.2",
         "4.0.3 and up"
        ],
        [
         "277",
         "Asana: organize team projects",
         "BUSINESS",
         "4.3",
         "20815",
         "10M",
         "1,000,000+",
         "Free",
         "0",
         "Everyone",
         "Business",
         "July 26, 2018",
         "6.4.4",
         "5.0 and up"
        ],
        [
         "278",
         "Google Analytics",
         "BUSINESS",
         "4.5",
         "78662",
         "22M",
         "1,000,000+",
         "Free",
         "0",
         "Everyone",
         "Business",
         "February 13, 2018",
         "3.7.5",
         "4.4 and up"
        ],
        [
         "279",
         "AdWords Express",
         "BUSINESS",
         "4.1",
         "7149",
         "11M",
         "1,000,000+",
         "Free",
         "0",
         "Everyone",
         "Business",
         "July 31, 2018",
         "2.6.158",
         "4.0 and up"
        ],
        [
         "280",
         "Accounting App - Zoho Books",
         "BUSINESS",
         "4.5",
         "3079",
         "8.5M",
         "100,000+",
         "Free",
         "0",
         "Everyone",
         "Business",
         "August 2, 2018",
         "5.20.7",
         "4.1 and up"
        ],
        [
         "281",
         "Invoice & Time Tracking - Zoho",
         "BUSINESS",
         "4.6",
         "5800",
         "8.6M",
         "100,000+",
         "Free",
         "0",
         "Everyone",
         "Business",
         "August 2, 2018",
         "5.20.7",
         "4.1 and up"
        ],
        [
         "282",
         "join.me - Simple Meetings",
         "BUSINESS",
         "4.0",
         "6989",
         "Varies with device",
         "1,000,000+",
         "Free",
         "0",
         "Everyone",
         "Business",
         "July 16, 2018",
         "4.3.0.508",
         "4.4 and up"
        ],
        [
         "283",
         "Invoice 2go — Professional Invoices and Estimates",
         "BUSINESS",
         "4.2",
         "16422",
         "28M",
         "1,000,000+",
         "Free",
         "0",
         "Everyone",
         "Business",
         "August 1, 2018",
         "10.46.2",
         "4.1 and up"
        ],
        [
         "284",
         "SignEasy | Sign and Fill PDF and other Documents",
         "BUSINESS",
         "4.3",
         "8978",
         "Varies with device",
         "1,000,000+",
         "Free",
         "0",
         "Everyone",
         "Business",
         "July 25, 2018",
         "Varies with device",
         "Varies with device"
        ],
        [
         "286",
         "Genius Scan - PDF Scanner",
         "BUSINESS",
         "4.4",
         "42492",
         "Varies with device",
         "1,000,000+",
         "Free",
         "0",
         "Everyone",
         "Business",
         "July 11, 2018",
         "Varies with device",
         "Varies with device"
        ],
        [
         "287",
         "Tiny Scanner - PDF Scanner App",
         "BUSINESS",
         "4.7",
         "286897",
         "39M",
         "10,000,000+",
         "Free",
         "0",
         "Everyone",
         "Business",
         "May 30, 2017",
         "1.2.6",
         "3.0 and up"
        ],
        [
         "288",
         "Fast Scanner : Free PDF Scan",
         "BUSINESS",
         "4.5",
         "103755",
         "14M",
         "10,000,000+",
         "Free",
         "0",
         "Everyone",
         "Business",
         "July 11, 2018",
         "3.9.2",
         "4.1 and up"
        ],
        [
         "289",
         "Mobile Doc Scanner (MDScan) Lite",
         "BUSINESS",
         "4.2",
         "46505",
         "19M",
         "1,000,000+",
         "Free",
         "0",
         "Everyone",
         "Business",
         "August 2, 2018",
         "3.4.49",
         "4.1 and up"
        ],
        [
         "290",
         "TurboScan: scan documents and receipts in PDF",
         "BUSINESS",
         "4.7",
         "11442",
         "6.8M",
         "100,000+",
         "Paid",
         "$4.99",
         "Everyone",
         "Business",
         "March 25, 2018",
         "1.5.2",
         "4.0 and up"
        ],
        [
         "291",
         "Tiny Scanner Pro: PDF Doc Scan",
         "BUSINESS",
         "4.8",
         "10295",
         "39M",
         "100,000+",
         "Paid",
         "$4.99",
         "Everyone",
         "Business",
         "April 11, 2017",
         "3.4.6",
         "3.0 and up"
        ],
        [
         "292",
         "Docs To Go™ Free Office Suite",
         "BUSINESS",
         "4.1",
         "217730",
         "Varies with device",
         "50,000,000+",
         "Free",
         "0",
         "Everyone",
         "Business",
         "April 2, 2018",
         "Varies with device",
         "Varies with device"
        ],
        [
         "296",
         "QuickBooks Accounting: Invoicing & Expenses",
         "BUSINESS",
         "4.3",
         "23175",
         "41M",
         "1,000,000+",
         "Free",
         "0",
         "Everyone",
         "Business",
         "July 13, 2018",
         "18.7",
         "4.1 and up"
        ],
        [
         "381",
         "WhatsApp Messenger",
         "COMMUNICATION",
         "4.4",
         "69119316",
         "Varies with device",
         "1,000,000,000+",
         "Free",
         "0",
         "Everyone",
         "Communication",
         "August 3, 2018",
         "Varies with device",
         "Varies with device"
        ],
        [
         "394",
         "Google Voice",
         "COMMUNICATION",
         "4.2",
         "171031",
         "Varies with device",
         "10,000,000+",
         "Free",
         "0",
         "Everyone",
         "Communication",
         "August 3, 2018",
         "Varies with device",
         "Varies with device"
        ],
        [
         "396",
         "Android Messages",
         "COMMUNICATION",
         "4.2",
         "781810",
         "Varies with device",
         "100,000,000+",
         "Free",
         "0",
         "Everyone",
         "Communication",
         "August 1, 2018",
         "Varies with device",
         "Varies with device"
        ],
        [
         "414",
         "Puffin Web Browser",
         "COMMUNICATION",
         "4.3",
         "541389",
         "Varies with device",
         "10,000,000+",
         "Free",
         "0",
         "Everyone",
         "Communication",
         "July 9, 2018",
         "7.5.3.20547",
         "4.1 and up"
        ],
        [
         "430",
         "Calls & Text by Mo+",
         "COMMUNICATION",
         "4.2",
         "83239",
         "14M",
         "5,000,000+",
         "Free",
         "0",
         "Everyone",
         "Communication",
         "April 19, 2018",
         "3.0.4",
         "4.0 and up"
        ],
        [
         "431",
         "Viber Messenger",
         "COMMUNICATION",
         "4.3",
         "11334973",
         "Varies with device",
         "500,000,000+",
         "Free",
         "0",
         "Everyone",
         "Communication",
         "July 18, 2018",
         "Varies with device",
         "Varies with device"
        ],
        [
         "465",
         "imo free video calls and chat",
         "COMMUNICATION",
         "4.3",
         "4785988",
         "11M",
         "500,000,000+",
         "Free",
         "0",
         "Everyone",
         "Communication",
         "June 8, 2018",
         "9.8.000000010501",
         "4.0 and up"
        ],
        [
         "466",
         "free video calls and chat",
         "COMMUNICATION",
         "4.2",
         "594728",
         "Varies with device",
         "50,000,000+",
         "Free",
         "0",
         "Everyone",
         "Communication",
         "July 19, 2018",
         "7.3(800241)",
         "4.4 and up"
        ],
        [
         "468",
         "Skype - free IM & video calls",
         "COMMUNICATION",
         "4.1",
         "10484169",
         "Varies with device",
         "1,000,000,000+",
         "Free",
         "0",
         "Everyone",
         "Communication",
         "August 3, 2018",
         "Varies with device",
         "Varies with device"
        ],
        [
         "469",
         "WeChat",
         "COMMUNICATION",
         "4.2",
         "5387446",
         "Varies with device",
         "100,000,000+",
         "Free",
         "0",
         "Everyone",
         "Communication",
         "July 31, 2018",
         "Varies with device",
         "Varies with device"
        ],
        [
         "472",
         "Glide - Video Chat Messenger",
         "COMMUNICATION",
         "4.3",
         "350154",
         "Varies with device",
         "10,000,000+",
         "Free",
         "0",
         "Everyone",
         "Communication",
         "July 29, 2018",
         "Varies with device",
         "Varies with device"
        ],
        [
         "473",
         "Talkray - Free Calls & Texts",
         "COMMUNICATION",
         "4.2",
         "244863",
         "Varies with device",
         "10,000,000+",
         "Free",
         "0",
         "Everyone",
         "Communication",
         "May 29, 2018",
         "Varies with device",
         "Varies with device"
        ],
        [
         "474",
         "LINE: Free Calls & Messages",
         "COMMUNICATION",
         "4.2",
         "10790289",
         "Varies with device",
         "500,000,000+",
         "Free",
         "0",
         "Everyone",
         "Communication",
         "July 26, 2018",
         "Varies with device",
         "Varies with device"
        ],
        [
         "475",
         "KakaoTalk: Free Calls & Text",
         "COMMUNICATION",
         "4.3",
         "2546527",
         "Varies with device",
         "100,000,000+",
         "Free",
         "0",
         "Everyone",
         "Communication",
         "August 3, 2018",
         "Varies with device",
         "Varies with device"
        ],
        [
         "542",
         "OkCupid Dating",
         "DATING",
         "4.1",
         "285726",
         "15M",
         "10,000,000+",
         "Free",
         "0",
         "Mature 17+",
         "Dating",
         "July 30, 2018",
         "11.10.1",
         "4.1 and up"
        ],
        [
         "543",
         "CMB Free Dating App",
         "DATING",
         "4.0",
         "48845",
         "40M",
         "1,000,000+",
         "Free",
         "0",
         "Mature 17+",
         "Dating",
         "August 1, 2018",
         "4.19.0.2320",
         "4.4 and up"
        ],
        [
         "544",
         "Hily: Dating, Chat, Match, Meet & Hook up",
         "DATING",
         "4.1",
         "2556",
         "56M",
         "100,000+",
         "Free",
         "0",
         "Mature 17+",
         "Dating",
         "August 1, 2018",
         "2.5.2",
         "4.1 and up"
        ]
       ],
       "shape": {
        "columns": 13,
        "rows": 483
       }
      },
      "text/html": [
       "<div>\n",
       "<style scoped>\n",
       "    .dataframe tbody tr th:only-of-type {\n",
       "        vertical-align: middle;\n",
       "    }\n",
       "\n",
       "    .dataframe tbody tr th {\n",
       "        vertical-align: top;\n",
       "    }\n",
       "\n",
       "    .dataframe thead th {\n",
       "        text-align: right;\n",
       "    }\n",
       "</style>\n",
       "<table border=\"1\" class=\"dataframe\">\n",
       "  <thead>\n",
       "    <tr style=\"text-align: right;\">\n",
       "      <th></th>\n",
       "      <th>App</th>\n",
       "      <th>Category</th>\n",
       "      <th>Rating</th>\n",
       "      <th>Reviews</th>\n",
       "      <th>Size</th>\n",
       "      <th>Installs</th>\n",
       "      <th>Type</th>\n",
       "      <th>Price</th>\n",
       "      <th>Content Rating</th>\n",
       "      <th>Genres</th>\n",
       "      <th>Last Updated</th>\n",
       "      <th>Current Ver</th>\n",
       "      <th>Android Ver</th>\n",
       "    </tr>\n",
       "  </thead>\n",
       "  <tbody>\n",
       "    <tr>\n",
       "      <th>229</th>\n",
       "      <td>Quick PDF Scanner + OCR FREE</td>\n",
       "      <td>BUSINESS</td>\n",
       "      <td>4.2</td>\n",
       "      <td>80805</td>\n",
       "      <td>Varies with device</td>\n",
       "      <td>5,000,000+</td>\n",
       "      <td>Free</td>\n",
       "      <td>0</td>\n",
       "      <td>Everyone</td>\n",
       "      <td>Business</td>\n",
       "      <td>February 26, 2018</td>\n",
       "      <td>Varies with device</td>\n",
       "      <td>4.0.3 and up</td>\n",
       "    </tr>\n",
       "    <tr>\n",
       "      <th>236</th>\n",
       "      <td>Box</td>\n",
       "      <td>BUSINESS</td>\n",
       "      <td>4.2</td>\n",
       "      <td>159872</td>\n",
       "      <td>Varies with device</td>\n",
       "      <td>10,000,000+</td>\n",
       "      <td>Free</td>\n",
       "      <td>0</td>\n",
       "      <td>Everyone</td>\n",
       "      <td>Business</td>\n",
       "      <td>July 31, 2018</td>\n",
       "      <td>Varies with device</td>\n",
       "      <td>Varies with device</td>\n",
       "    </tr>\n",
       "    <tr>\n",
       "      <th>239</th>\n",
       "      <td>Google My Business</td>\n",
       "      <td>BUSINESS</td>\n",
       "      <td>4.4</td>\n",
       "      <td>70991</td>\n",
       "      <td>Varies with device</td>\n",
       "      <td>5,000,000+</td>\n",
       "      <td>Free</td>\n",
       "      <td>0</td>\n",
       "      <td>Everyone</td>\n",
       "      <td>Business</td>\n",
       "      <td>July 24, 2018</td>\n",
       "      <td>2.19.0.204537701</td>\n",
       "      <td>4.4 and up</td>\n",
       "    </tr>\n",
       "    <tr>\n",
       "      <th>256</th>\n",
       "      <td>ZOOM Cloud Meetings</td>\n",
       "      <td>BUSINESS</td>\n",
       "      <td>4.4</td>\n",
       "      <td>31614</td>\n",
       "      <td>37M</td>\n",
       "      <td>10,000,000+</td>\n",
       "      <td>Free</td>\n",
       "      <td>0</td>\n",
       "      <td>Everyone</td>\n",
       "      <td>Business</td>\n",
       "      <td>July 20, 2018</td>\n",
       "      <td>4.1.28165.0716</td>\n",
       "      <td>4.0 and up</td>\n",
       "    </tr>\n",
       "    <tr>\n",
       "      <th>261</th>\n",
       "      <td>join.me - Simple Meetings</td>\n",
       "      <td>BUSINESS</td>\n",
       "      <td>4.0</td>\n",
       "      <td>6989</td>\n",
       "      <td>Varies with device</td>\n",
       "      <td>1,000,000+</td>\n",
       "      <td>Free</td>\n",
       "      <td>0</td>\n",
       "      <td>Everyone</td>\n",
       "      <td>Business</td>\n",
       "      <td>July 16, 2018</td>\n",
       "      <td>4.3.0.508</td>\n",
       "      <td>4.4 and up</td>\n",
       "    </tr>\n",
       "    <tr>\n",
       "      <th>...</th>\n",
       "      <td>...</td>\n",
       "      <td>...</td>\n",
       "      <td>...</td>\n",
       "      <td>...</td>\n",
       "      <td>...</td>\n",
       "      <td>...</td>\n",
       "      <td>...</td>\n",
       "      <td>...</td>\n",
       "      <td>...</td>\n",
       "      <td>...</td>\n",
       "      <td>...</td>\n",
       "      <td>...</td>\n",
       "      <td>...</td>\n",
       "    </tr>\n",
       "    <tr>\n",
       "      <th>8643</th>\n",
       "      <td>Wunderlist: To-Do List &amp; Tasks</td>\n",
       "      <td>PRODUCTIVITY</td>\n",
       "      <td>4.6</td>\n",
       "      <td>404610</td>\n",
       "      <td>Varies with device</td>\n",
       "      <td>10,000,000+</td>\n",
       "      <td>Free</td>\n",
       "      <td>0</td>\n",
       "      <td>Everyone</td>\n",
       "      <td>Productivity</td>\n",
       "      <td>April 6, 2018</td>\n",
       "      <td>Varies with device</td>\n",
       "      <td>Varies with device</td>\n",
       "    </tr>\n",
       "    <tr>\n",
       "      <th>8654</th>\n",
       "      <td>TickTick: To Do List with Reminder, Day Planner</td>\n",
       "      <td>PRODUCTIVITY</td>\n",
       "      <td>4.6</td>\n",
       "      <td>25370</td>\n",
       "      <td>Varies with device</td>\n",
       "      <td>1,000,000+</td>\n",
       "      <td>Free</td>\n",
       "      <td>0</td>\n",
       "      <td>Everyone</td>\n",
       "      <td>Productivity</td>\n",
       "      <td>August 6, 2018</td>\n",
       "      <td>Varies with device</td>\n",
       "      <td>Varies with device</td>\n",
       "    </tr>\n",
       "    <tr>\n",
       "      <th>8658</th>\n",
       "      <td>ColorNote Notepad Notes</td>\n",
       "      <td>PRODUCTIVITY</td>\n",
       "      <td>4.6</td>\n",
       "      <td>2401017</td>\n",
       "      <td>Varies with device</td>\n",
       "      <td>100,000,000+</td>\n",
       "      <td>Free</td>\n",
       "      <td>0</td>\n",
       "      <td>Everyone</td>\n",
       "      <td>Productivity</td>\n",
       "      <td>June 27, 2018</td>\n",
       "      <td>Varies with device</td>\n",
       "      <td>Varies with device</td>\n",
       "    </tr>\n",
       "    <tr>\n",
       "      <th>10049</th>\n",
       "      <td>Airway Ex - Intubate. Anesthetize. Train.</td>\n",
       "      <td>MEDICAL</td>\n",
       "      <td>4.3</td>\n",
       "      <td>123</td>\n",
       "      <td>86M</td>\n",
       "      <td>10,000+</td>\n",
       "      <td>Free</td>\n",
       "      <td>0</td>\n",
       "      <td>Everyone</td>\n",
       "      <td>Medical</td>\n",
       "      <td>June 1, 2018</td>\n",
       "      <td>0.6.88</td>\n",
       "      <td>5.0 and up</td>\n",
       "    </tr>\n",
       "    <tr>\n",
       "      <th>10768</th>\n",
       "      <td>AAFP</td>\n",
       "      <td>MEDICAL</td>\n",
       "      <td>3.8</td>\n",
       "      <td>63</td>\n",
       "      <td>24M</td>\n",
       "      <td>10,000+</td>\n",
       "      <td>Free</td>\n",
       "      <td>0</td>\n",
       "      <td>Everyone</td>\n",
       "      <td>Medical</td>\n",
       "      <td>June 22, 2018</td>\n",
       "      <td>2.3.1</td>\n",
       "      <td>5.0 and up</td>\n",
       "    </tr>\n",
       "  </tbody>\n",
       "</table>\n",
       "<p>483 rows × 13 columns</p>\n",
       "</div>"
      ],
      "text/plain": [
       "                                                   App      Category  Rating  \\\n",
       "229                       Quick PDF Scanner + OCR FREE      BUSINESS     4.2   \n",
       "236                                                Box      BUSINESS     4.2   \n",
       "239                                 Google My Business      BUSINESS     4.4   \n",
       "256                                ZOOM Cloud Meetings      BUSINESS     4.4   \n",
       "261                          join.me - Simple Meetings      BUSINESS     4.0   \n",
       "...                                                ...           ...     ...   \n",
       "8643                    Wunderlist: To-Do List & Tasks  PRODUCTIVITY     4.6   \n",
       "8654   TickTick: To Do List with Reminder, Day Planner  PRODUCTIVITY     4.6   \n",
       "8658                           ColorNote Notepad Notes  PRODUCTIVITY     4.6   \n",
       "10049        Airway Ex - Intubate. Anesthetize. Train.       MEDICAL     4.3   \n",
       "10768                                             AAFP       MEDICAL     3.8   \n",
       "\n",
       "       Reviews                Size      Installs  Type Price Content Rating  \\\n",
       "229      80805  Varies with device    5,000,000+  Free     0       Everyone   \n",
       "236     159872  Varies with device   10,000,000+  Free     0       Everyone   \n",
       "239      70991  Varies with device    5,000,000+  Free     0       Everyone   \n",
       "256      31614                 37M   10,000,000+  Free     0       Everyone   \n",
       "261       6989  Varies with device    1,000,000+  Free     0       Everyone   \n",
       "...        ...                 ...           ...   ...   ...            ...   \n",
       "8643    404610  Varies with device   10,000,000+  Free     0       Everyone   \n",
       "8654     25370  Varies with device    1,000,000+  Free     0       Everyone   \n",
       "8658   2401017  Varies with device  100,000,000+  Free     0       Everyone   \n",
       "10049      123                 86M       10,000+  Free     0       Everyone   \n",
       "10768       63                 24M       10,000+  Free     0       Everyone   \n",
       "\n",
       "             Genres       Last Updated         Current Ver         Android Ver  \n",
       "229        Business  February 26, 2018  Varies with device        4.0.3 and up  \n",
       "236        Business      July 31, 2018  Varies with device  Varies with device  \n",
       "239        Business      July 24, 2018    2.19.0.204537701          4.4 and up  \n",
       "256        Business      July 20, 2018      4.1.28165.0716          4.0 and up  \n",
       "261        Business      July 16, 2018           4.3.0.508          4.4 and up  \n",
       "...             ...                ...                 ...                 ...  \n",
       "8643   Productivity      April 6, 2018  Varies with device  Varies with device  \n",
       "8654   Productivity     August 6, 2018  Varies with device  Varies with device  \n",
       "8658   Productivity      June 27, 2018  Varies with device  Varies with device  \n",
       "10049       Medical       June 1, 2018              0.6.88          5.0 and up  \n",
       "10768       Medical      June 22, 2018               2.3.1          5.0 and up  \n",
       "\n",
       "[483 rows x 13 columns]"
      ]
     },
     "metadata": {},
     "output_type": "display_data"
    }
   ],
   "source": [
    "df_duplicated = df[df.duplicated(keep='first')]\n",
    "display(df_duplicated)"
   ]
  },
  {
   "cell_type": "code",
   "execution_count": 12,
   "id": "9a737cfb",
   "metadata": {},
   "outputs": [
    {
     "data": {
      "text/plain": [
       "['App',\n",
       " 'Category',\n",
       " 'Rating',\n",
       " 'Reviews',\n",
       " 'Size',\n",
       " 'Installs',\n",
       " 'Type',\n",
       " 'Price',\n",
       " 'Content Rating',\n",
       " 'Genres',\n",
       " 'Last Updated',\n",
       " 'Current Ver',\n",
       " 'Android Ver']"
      ]
     },
     "execution_count": 12,
     "metadata": {},
     "output_type": "execute_result"
    }
   ],
   "source": [
    "df.columns.tolist()"
   ]
  },
  {
   "cell_type": "markdown",
   "id": "4595fe35",
   "metadata": {},
   "source": [
    "# Data Preprocessing"
   ]
  },
  {
   "cell_type": "markdown",
   "id": "add2b9a3",
   "metadata": {},
   "source": [
    "## Rename Column"
   ]
  },
  {
   "cell_type": "code",
   "execution_count": 13,
   "id": "6edbf702",
   "metadata": {},
   "outputs": [],
   "source": [
    "rename_columns = {\n",
    "    'Current Ver' : 'Current Version'\n",
    "}"
   ]
  },
  {
   "cell_type": "code",
   "execution_count": 14,
   "id": "39c34bd6",
   "metadata": {},
   "outputs": [],
   "source": [
    "df = df.rename(columns=rename_columns)"
   ]
  },
  {
   "cell_type": "code",
   "execution_count": 15,
   "id": "4323eddf",
   "metadata": {},
   "outputs": [
    {
     "data": {
      "text/plain": [
       "['App',\n",
       " 'Category',\n",
       " 'Rating',\n",
       " 'Reviews',\n",
       " 'Size',\n",
       " 'Installs',\n",
       " 'Type',\n",
       " 'Price',\n",
       " 'Content Rating',\n",
       " 'Genres',\n",
       " 'Last Updated',\n",
       " 'Current Version',\n",
       " 'Android Ver']"
      ]
     },
     "execution_count": 15,
     "metadata": {},
     "output_type": "execute_result"
    }
   ],
   "source": [
    "df.columns.tolist()"
   ]
  },
  {
   "cell_type": "markdown",
   "id": "6e63b707",
   "metadata": {},
   "source": [
    "## Drop Duplicated"
   ]
  },
  {
   "cell_type": "code",
   "execution_count": 16,
   "id": "b30e4f98",
   "metadata": {},
   "outputs": [],
   "source": [
    "df = df.drop_duplicates(keep='first')"
   ]
  },
  {
   "cell_type": "code",
   "execution_count": 17,
   "id": "b0095a32",
   "metadata": {},
   "outputs": [
    {
     "data": {
      "text/plain": [
       "np.int64(0)"
      ]
     },
     "execution_count": 17,
     "metadata": {},
     "output_type": "execute_result"
    }
   ],
   "source": [
    "df.duplicated().sum()"
   ]
  },
  {
   "cell_type": "markdown",
   "id": "2ee6ba78",
   "metadata": {},
   "source": [
    "## Handling Missing Value"
   ]
  },
  {
   "cell_type": "code",
   "execution_count": 18,
   "id": "513d5532",
   "metadata": {},
   "outputs": [
    {
     "data": {
      "application/vnd.microsoft.datawrangler.viewer.v0+json": {
       "columns": [
        {
         "name": "index",
         "rawType": "object",
         "type": "string"
        },
        {
         "name": "0",
         "rawType": "int64",
         "type": "integer"
        }
       ],
       "ref": "35f355bb-93cb-4124-847d-df8e291d6990",
       "rows": [
        [
         "App",
         "0"
        ],
        [
         "Category",
         "0"
        ],
        [
         "Rating",
         "1465"
        ],
        [
         "Reviews",
         "0"
        ],
        [
         "Size",
         "0"
        ],
        [
         "Installs",
         "0"
        ],
        [
         "Type",
         "1"
        ],
        [
         "Price",
         "0"
        ],
        [
         "Content Rating",
         "1"
        ],
        [
         "Genres",
         "0"
        ],
        [
         "Last Updated",
         "0"
        ],
        [
         "Current Version",
         "8"
        ],
        [
         "Android Ver",
         "3"
        ]
       ],
       "shape": {
        "columns": 1,
        "rows": 13
       }
      },
      "text/plain": [
       "App                   0\n",
       "Category              0\n",
       "Rating             1465\n",
       "Reviews               0\n",
       "Size                  0\n",
       "Installs              0\n",
       "Type                  1\n",
       "Price                 0\n",
       "Content Rating        1\n",
       "Genres                0\n",
       "Last Updated          0\n",
       "Current Version       8\n",
       "Android Ver           3\n",
       "dtype: int64"
      ]
     },
     "execution_count": 18,
     "metadata": {},
     "output_type": "execute_result"
    }
   ],
   "source": [
    "df.isnull().sum()"
   ]
  },
  {
   "cell_type": "code",
   "execution_count": 19,
   "id": "2525a1f0",
   "metadata": {},
   "outputs": [],
   "source": [
    "df['Rating'] = df['Rating'].fillna(df['Rating'].median())"
   ]
  },
  {
   "cell_type": "code",
   "execution_count": 20,
   "id": "54f28422",
   "metadata": {},
   "outputs": [],
   "source": [
    "df['Type'] = df['Type'].fillna(df['Type'].mode()[0])"
   ]
  },
  {
   "cell_type": "code",
   "execution_count": 21,
   "id": "276261e4",
   "metadata": {},
   "outputs": [],
   "source": [
    "df['Content Rating'] = df['Content Rating'].fillna(df['Content Rating'].mode()[0])"
   ]
  },
  {
   "cell_type": "code",
   "execution_count": 22,
   "id": "96ab36e2",
   "metadata": {},
   "outputs": [
    {
     "data": {
      "application/vnd.microsoft.datawrangler.viewer.v0+json": {
       "columns": [
        {
         "name": "index",
         "rawType": "object",
         "type": "string"
        },
        {
         "name": "0",
         "rawType": "int64",
         "type": "integer"
        }
       ],
       "ref": "8b7cbe01-5a85-43f9-8fad-4a0d95cc5e4a",
       "rows": [
        [
         "App",
         "0"
        ],
        [
         "Category",
         "0"
        ],
        [
         "Rating",
         "0"
        ],
        [
         "Reviews",
         "0"
        ],
        [
         "Size",
         "0"
        ],
        [
         "Installs",
         "0"
        ],
        [
         "Type",
         "0"
        ],
        [
         "Price",
         "0"
        ],
        [
         "Content Rating",
         "0"
        ],
        [
         "Genres",
         "0"
        ],
        [
         "Last Updated",
         "0"
        ],
        [
         "Current Version",
         "8"
        ],
        [
         "Android Ver",
         "3"
        ]
       ],
       "shape": {
        "columns": 1,
        "rows": 13
       }
      },
      "text/plain": [
       "App                0\n",
       "Category           0\n",
       "Rating             0\n",
       "Reviews            0\n",
       "Size               0\n",
       "Installs           0\n",
       "Type               0\n",
       "Price              0\n",
       "Content Rating     0\n",
       "Genres             0\n",
       "Last Updated       0\n",
       "Current Version    8\n",
       "Android Ver        3\n",
       "dtype: int64"
      ]
     },
     "execution_count": 22,
     "metadata": {},
     "output_type": "execute_result"
    }
   ],
   "source": [
    "df.isnull().sum()"
   ]
  },
  {
   "cell_type": "markdown",
   "id": "7c1518d5",
   "metadata": {},
   "source": [
    "## Data Reduction"
   ]
  },
  {
   "cell_type": "code",
   "execution_count": 23,
   "id": "6762b4b7",
   "metadata": {},
   "outputs": [],
   "source": [
    "df = df.drop('Last Updated', axis=1)"
   ]
  },
  {
   "cell_type": "code",
   "execution_count": 24,
   "id": "1ffffe42",
   "metadata": {},
   "outputs": [
    {
     "data": {
      "text/plain": [
       "['App',\n",
       " 'Category',\n",
       " 'Rating',\n",
       " 'Reviews',\n",
       " 'Size',\n",
       " 'Installs',\n",
       " 'Type',\n",
       " 'Price',\n",
       " 'Content Rating',\n",
       " 'Genres',\n",
       " 'Current Version',\n",
       " 'Android Ver']"
      ]
     },
     "execution_count": 24,
     "metadata": {},
     "output_type": "execute_result"
    }
   ],
   "source": [
    "df.columns.tolist()"
   ]
  },
  {
   "cell_type": "markdown",
   "id": "35d8f3d2",
   "metadata": {},
   "source": [
    "## Handling Categorical Column"
   ]
  },
  {
   "cell_type": "code",
   "execution_count": 25,
   "id": "fb031cc0",
   "metadata": {},
   "outputs": [
    {
     "data": {
      "application/vnd.microsoft.datawrangler.viewer.v0+json": {
       "columns": [
        {
         "name": "index",
         "rawType": "int64",
         "type": "integer"
        },
        {
         "name": "App",
         "rawType": "object",
         "type": "string"
        },
        {
         "name": "Category",
         "rawType": "object",
         "type": "string"
        },
        {
         "name": "Rating",
         "rawType": "float64",
         "type": "float"
        },
        {
         "name": "Reviews",
         "rawType": "object",
         "type": "string"
        },
        {
         "name": "Size",
         "rawType": "object",
         "type": "string"
        },
        {
         "name": "Installs",
         "rawType": "object",
         "type": "string"
        },
        {
         "name": "Type",
         "rawType": "object",
         "type": "string"
        },
        {
         "name": "Price",
         "rawType": "object",
         "type": "string"
        },
        {
         "name": "Content Rating",
         "rawType": "object",
         "type": "string"
        },
        {
         "name": "Genres",
         "rawType": "object",
         "type": "string"
        },
        {
         "name": "Current Version",
         "rawType": "object",
         "type": "string"
        },
        {
         "name": "Android Ver",
         "rawType": "object",
         "type": "string"
        }
       ],
       "ref": "6a08d636-29c5-425f-adf9-fbfbb462c0ec",
       "rows": [
        [
         "0",
         "Photo Editor & Candy Camera & Grid & ScrapBook",
         "ART_AND_DESIGN",
         "4.1",
         "159",
         "19M",
         "10,000+",
         "Free",
         "0",
         "Everyone",
         "Art & Design",
         "1.0.0",
         "4.0.3 and up"
        ],
        [
         "1",
         "Coloring book moana",
         "ART_AND_DESIGN",
         "3.9",
         "967",
         "14M",
         "500,000+",
         "Free",
         "0",
         "Everyone",
         "Art & Design;Pretend Play",
         "2.0.0",
         "4.0.3 and up"
        ],
        [
         "2",
         "U Launcher Lite – FREE Live Cool Themes, Hide Apps",
         "ART_AND_DESIGN",
         "4.7",
         "87510",
         "8.7M",
         "5,000,000+",
         "Free",
         "0",
         "Everyone",
         "Art & Design",
         "1.2.4",
         "4.0.3 and up"
        ],
        [
         "3",
         "Sketch - Draw & Paint",
         "ART_AND_DESIGN",
         "4.5",
         "215644",
         "25M",
         "50,000,000+",
         "Free",
         "0",
         "Teen",
         "Art & Design",
         "Varies with device",
         "4.2 and up"
        ],
        [
         "4",
         "Pixel Draw - Number Art Coloring Book",
         "ART_AND_DESIGN",
         "4.3",
         "967",
         "2.8M",
         "100,000+",
         "Free",
         "0",
         "Everyone",
         "Art & Design;Creativity",
         "1.1",
         "4.4 and up"
        ]
       ],
       "shape": {
        "columns": 12,
        "rows": 5
       }
      },
      "text/html": [
       "<div>\n",
       "<style scoped>\n",
       "    .dataframe tbody tr th:only-of-type {\n",
       "        vertical-align: middle;\n",
       "    }\n",
       "\n",
       "    .dataframe tbody tr th {\n",
       "        vertical-align: top;\n",
       "    }\n",
       "\n",
       "    .dataframe thead th {\n",
       "        text-align: right;\n",
       "    }\n",
       "</style>\n",
       "<table border=\"1\" class=\"dataframe\">\n",
       "  <thead>\n",
       "    <tr style=\"text-align: right;\">\n",
       "      <th></th>\n",
       "      <th>App</th>\n",
       "      <th>Category</th>\n",
       "      <th>Rating</th>\n",
       "      <th>Reviews</th>\n",
       "      <th>Size</th>\n",
       "      <th>Installs</th>\n",
       "      <th>Type</th>\n",
       "      <th>Price</th>\n",
       "      <th>Content Rating</th>\n",
       "      <th>Genres</th>\n",
       "      <th>Current Version</th>\n",
       "      <th>Android Ver</th>\n",
       "    </tr>\n",
       "  </thead>\n",
       "  <tbody>\n",
       "    <tr>\n",
       "      <th>0</th>\n",
       "      <td>Photo Editor &amp; Candy Camera &amp; Grid &amp; ScrapBook</td>\n",
       "      <td>ART_AND_DESIGN</td>\n",
       "      <td>4.1</td>\n",
       "      <td>159</td>\n",
       "      <td>19M</td>\n",
       "      <td>10,000+</td>\n",
       "      <td>Free</td>\n",
       "      <td>0</td>\n",
       "      <td>Everyone</td>\n",
       "      <td>Art &amp; Design</td>\n",
       "      <td>1.0.0</td>\n",
       "      <td>4.0.3 and up</td>\n",
       "    </tr>\n",
       "    <tr>\n",
       "      <th>1</th>\n",
       "      <td>Coloring book moana</td>\n",
       "      <td>ART_AND_DESIGN</td>\n",
       "      <td>3.9</td>\n",
       "      <td>967</td>\n",
       "      <td>14M</td>\n",
       "      <td>500,000+</td>\n",
       "      <td>Free</td>\n",
       "      <td>0</td>\n",
       "      <td>Everyone</td>\n",
       "      <td>Art &amp; Design;Pretend Play</td>\n",
       "      <td>2.0.0</td>\n",
       "      <td>4.0.3 and up</td>\n",
       "    </tr>\n",
       "    <tr>\n",
       "      <th>2</th>\n",
       "      <td>U Launcher Lite – FREE Live Cool Themes, Hide ...</td>\n",
       "      <td>ART_AND_DESIGN</td>\n",
       "      <td>4.7</td>\n",
       "      <td>87510</td>\n",
       "      <td>8.7M</td>\n",
       "      <td>5,000,000+</td>\n",
       "      <td>Free</td>\n",
       "      <td>0</td>\n",
       "      <td>Everyone</td>\n",
       "      <td>Art &amp; Design</td>\n",
       "      <td>1.2.4</td>\n",
       "      <td>4.0.3 and up</td>\n",
       "    </tr>\n",
       "    <tr>\n",
       "      <th>3</th>\n",
       "      <td>Sketch - Draw &amp; Paint</td>\n",
       "      <td>ART_AND_DESIGN</td>\n",
       "      <td>4.5</td>\n",
       "      <td>215644</td>\n",
       "      <td>25M</td>\n",
       "      <td>50,000,000+</td>\n",
       "      <td>Free</td>\n",
       "      <td>0</td>\n",
       "      <td>Teen</td>\n",
       "      <td>Art &amp; Design</td>\n",
       "      <td>Varies with device</td>\n",
       "      <td>4.2 and up</td>\n",
       "    </tr>\n",
       "    <tr>\n",
       "      <th>4</th>\n",
       "      <td>Pixel Draw - Number Art Coloring Book</td>\n",
       "      <td>ART_AND_DESIGN</td>\n",
       "      <td>4.3</td>\n",
       "      <td>967</td>\n",
       "      <td>2.8M</td>\n",
       "      <td>100,000+</td>\n",
       "      <td>Free</td>\n",
       "      <td>0</td>\n",
       "      <td>Everyone</td>\n",
       "      <td>Art &amp; Design;Creativity</td>\n",
       "      <td>1.1</td>\n",
       "      <td>4.4 and up</td>\n",
       "    </tr>\n",
       "  </tbody>\n",
       "</table>\n",
       "</div>"
      ],
      "text/plain": [
       "                                                 App        Category  Rating  \\\n",
       "0     Photo Editor & Candy Camera & Grid & ScrapBook  ART_AND_DESIGN     4.1   \n",
       "1                                Coloring book moana  ART_AND_DESIGN     3.9   \n",
       "2  U Launcher Lite – FREE Live Cool Themes, Hide ...  ART_AND_DESIGN     4.7   \n",
       "3                              Sketch - Draw & Paint  ART_AND_DESIGN     4.5   \n",
       "4              Pixel Draw - Number Art Coloring Book  ART_AND_DESIGN     4.3   \n",
       "\n",
       "  Reviews  Size     Installs  Type Price Content Rating  \\\n",
       "0     159   19M      10,000+  Free     0       Everyone   \n",
       "1     967   14M     500,000+  Free     0       Everyone   \n",
       "2   87510  8.7M   5,000,000+  Free     0       Everyone   \n",
       "3  215644   25M  50,000,000+  Free     0           Teen   \n",
       "4     967  2.8M     100,000+  Free     0       Everyone   \n",
       "\n",
       "                      Genres     Current Version   Android Ver  \n",
       "0               Art & Design               1.0.0  4.0.3 and up  \n",
       "1  Art & Design;Pretend Play               2.0.0  4.0.3 and up  \n",
       "2               Art & Design               1.2.4  4.0.3 and up  \n",
       "3               Art & Design  Varies with device    4.2 and up  \n",
       "4    Art & Design;Creativity                 1.1    4.4 and up  "
      ]
     },
     "execution_count": 25,
     "metadata": {},
     "output_type": "execute_result"
    }
   ],
   "source": [
    "df.head()"
   ]
  },
  {
   "cell_type": "code",
   "execution_count": 26,
   "id": "4c5dcb8c",
   "metadata": {},
   "outputs": [],
   "source": [
    "def clean_text(text):\n",
    "    text = text.lower()\n",
    "    text = re.sub(r'[^a-z\\s]', '', text)\n",
    "    return text"
   ]
  },
  {
   "cell_type": "code",
   "execution_count": 27,
   "id": "87dfaf28",
   "metadata": {},
   "outputs": [],
   "source": [
    "df['App'] = df['App'].apply(clean_text)"
   ]
  },
  {
   "cell_type": "code",
   "execution_count": 28,
   "id": "2da5fa8e",
   "metadata": {},
   "outputs": [],
   "source": [
    "df['Category'] = df['Category'].apply(clean_text)"
   ]
  },
  {
   "cell_type": "code",
   "execution_count": 29,
   "id": "68d0b319",
   "metadata": {},
   "outputs": [],
   "source": [
    "df['Type'] = df['Type'].apply(clean_text)"
   ]
  },
  {
   "cell_type": "code",
   "execution_count": 30,
   "id": "cd03b435",
   "metadata": {},
   "outputs": [],
   "source": [
    "df['Content Rating'] = df['Content Rating'].apply(clean_text)"
   ]
  },
  {
   "cell_type": "code",
   "execution_count": 31,
   "id": "17c17202",
   "metadata": {},
   "outputs": [],
   "source": [
    "df['Genres'] = df['Genres'].apply(clean_text)"
   ]
  },
  {
   "cell_type": "markdown",
   "id": "2e133cb6",
   "metadata": {},
   "source": [
    "## Handling Numerical Column"
   ]
  },
  {
   "cell_type": "code",
   "execution_count": 32,
   "id": "fb994d28",
   "metadata": {},
   "outputs": [
    {
     "data": {
      "application/vnd.microsoft.datawrangler.viewer.v0+json": {
       "columns": [
        {
         "name": "index",
         "rawType": "int64",
         "type": "integer"
        },
        {
         "name": "App",
         "rawType": "object",
         "type": "string"
        },
        {
         "name": "Category",
         "rawType": "object",
         "type": "string"
        },
        {
         "name": "Rating",
         "rawType": "float64",
         "type": "float"
        },
        {
         "name": "Reviews",
         "rawType": "object",
         "type": "string"
        },
        {
         "name": "Size",
         "rawType": "object",
         "type": "string"
        },
        {
         "name": "Installs",
         "rawType": "object",
         "type": "string"
        },
        {
         "name": "Type",
         "rawType": "object",
         "type": "string"
        },
        {
         "name": "Price",
         "rawType": "object",
         "type": "string"
        },
        {
         "name": "Content Rating",
         "rawType": "object",
         "type": "string"
        },
        {
         "name": "Genres",
         "rawType": "object",
         "type": "string"
        },
        {
         "name": "Current Version",
         "rawType": "object",
         "type": "string"
        },
        {
         "name": "Android Ver",
         "rawType": "object",
         "type": "string"
        }
       ],
       "ref": "7e99fd72-5e82-40f9-8392-fb2efe2d55da",
       "rows": [
        [
         "0",
         "photo editor  candy camera  grid  scrapbook",
         "artanddesign",
         "4.1",
         "159",
         "19M",
         "10,000+",
         "free",
         "0",
         "everyone",
         "art  design",
         "1.0.0",
         "4.0.3 and up"
        ],
        [
         "1",
         "coloring book moana",
         "artanddesign",
         "3.9",
         "967",
         "14M",
         "500,000+",
         "free",
         "0",
         "everyone",
         "art  designpretend play",
         "2.0.0",
         "4.0.3 and up"
        ],
        [
         "2",
         "u launcher lite  free live cool themes hide apps",
         "artanddesign",
         "4.7",
         "87510",
         "8.7M",
         "5,000,000+",
         "free",
         "0",
         "everyone",
         "art  design",
         "1.2.4",
         "4.0.3 and up"
        ],
        [
         "3",
         "sketch  draw  paint",
         "artanddesign",
         "4.5",
         "215644",
         "25M",
         "50,000,000+",
         "free",
         "0",
         "teen",
         "art  design",
         "Varies with device",
         "4.2 and up"
        ],
        [
         "4",
         "pixel draw  number art coloring book",
         "artanddesign",
         "4.3",
         "967",
         "2.8M",
         "100,000+",
         "free",
         "0",
         "everyone",
         "art  designcreativity",
         "1.1",
         "4.4 and up"
        ]
       ],
       "shape": {
        "columns": 12,
        "rows": 5
       }
      },
      "text/html": [
       "<div>\n",
       "<style scoped>\n",
       "    .dataframe tbody tr th:only-of-type {\n",
       "        vertical-align: middle;\n",
       "    }\n",
       "\n",
       "    .dataframe tbody tr th {\n",
       "        vertical-align: top;\n",
       "    }\n",
       "\n",
       "    .dataframe thead th {\n",
       "        text-align: right;\n",
       "    }\n",
       "</style>\n",
       "<table border=\"1\" class=\"dataframe\">\n",
       "  <thead>\n",
       "    <tr style=\"text-align: right;\">\n",
       "      <th></th>\n",
       "      <th>App</th>\n",
       "      <th>Category</th>\n",
       "      <th>Rating</th>\n",
       "      <th>Reviews</th>\n",
       "      <th>Size</th>\n",
       "      <th>Installs</th>\n",
       "      <th>Type</th>\n",
       "      <th>Price</th>\n",
       "      <th>Content Rating</th>\n",
       "      <th>Genres</th>\n",
       "      <th>Current Version</th>\n",
       "      <th>Android Ver</th>\n",
       "    </tr>\n",
       "  </thead>\n",
       "  <tbody>\n",
       "    <tr>\n",
       "      <th>0</th>\n",
       "      <td>photo editor  candy camera  grid  scrapbook</td>\n",
       "      <td>artanddesign</td>\n",
       "      <td>4.1</td>\n",
       "      <td>159</td>\n",
       "      <td>19M</td>\n",
       "      <td>10,000+</td>\n",
       "      <td>free</td>\n",
       "      <td>0</td>\n",
       "      <td>everyone</td>\n",
       "      <td>art  design</td>\n",
       "      <td>1.0.0</td>\n",
       "      <td>4.0.3 and up</td>\n",
       "    </tr>\n",
       "    <tr>\n",
       "      <th>1</th>\n",
       "      <td>coloring book moana</td>\n",
       "      <td>artanddesign</td>\n",
       "      <td>3.9</td>\n",
       "      <td>967</td>\n",
       "      <td>14M</td>\n",
       "      <td>500,000+</td>\n",
       "      <td>free</td>\n",
       "      <td>0</td>\n",
       "      <td>everyone</td>\n",
       "      <td>art  designpretend play</td>\n",
       "      <td>2.0.0</td>\n",
       "      <td>4.0.3 and up</td>\n",
       "    </tr>\n",
       "    <tr>\n",
       "      <th>2</th>\n",
       "      <td>u launcher lite  free live cool themes hide apps</td>\n",
       "      <td>artanddesign</td>\n",
       "      <td>4.7</td>\n",
       "      <td>87510</td>\n",
       "      <td>8.7M</td>\n",
       "      <td>5,000,000+</td>\n",
       "      <td>free</td>\n",
       "      <td>0</td>\n",
       "      <td>everyone</td>\n",
       "      <td>art  design</td>\n",
       "      <td>1.2.4</td>\n",
       "      <td>4.0.3 and up</td>\n",
       "    </tr>\n",
       "    <tr>\n",
       "      <th>3</th>\n",
       "      <td>sketch  draw  paint</td>\n",
       "      <td>artanddesign</td>\n",
       "      <td>4.5</td>\n",
       "      <td>215644</td>\n",
       "      <td>25M</td>\n",
       "      <td>50,000,000+</td>\n",
       "      <td>free</td>\n",
       "      <td>0</td>\n",
       "      <td>teen</td>\n",
       "      <td>art  design</td>\n",
       "      <td>Varies with device</td>\n",
       "      <td>4.2 and up</td>\n",
       "    </tr>\n",
       "    <tr>\n",
       "      <th>4</th>\n",
       "      <td>pixel draw  number art coloring book</td>\n",
       "      <td>artanddesign</td>\n",
       "      <td>4.3</td>\n",
       "      <td>967</td>\n",
       "      <td>2.8M</td>\n",
       "      <td>100,000+</td>\n",
       "      <td>free</td>\n",
       "      <td>0</td>\n",
       "      <td>everyone</td>\n",
       "      <td>art  designcreativity</td>\n",
       "      <td>1.1</td>\n",
       "      <td>4.4 and up</td>\n",
       "    </tr>\n",
       "  </tbody>\n",
       "</table>\n",
       "</div>"
      ],
      "text/plain": [
       "                                                App      Category  Rating  \\\n",
       "0       photo editor  candy camera  grid  scrapbook  artanddesign     4.1   \n",
       "1                               coloring book moana  artanddesign     3.9   \n",
       "2  u launcher lite  free live cool themes hide apps  artanddesign     4.7   \n",
       "3                               sketch  draw  paint  artanddesign     4.5   \n",
       "4              pixel draw  number art coloring book  artanddesign     4.3   \n",
       "\n",
       "  Reviews  Size     Installs  Type Price Content Rating  \\\n",
       "0     159   19M      10,000+  free     0       everyone   \n",
       "1     967   14M     500,000+  free     0       everyone   \n",
       "2   87510  8.7M   5,000,000+  free     0       everyone   \n",
       "3  215644   25M  50,000,000+  free     0           teen   \n",
       "4     967  2.8M     100,000+  free     0       everyone   \n",
       "\n",
       "                    Genres     Current Version   Android Ver  \n",
       "0              art  design               1.0.0  4.0.3 and up  \n",
       "1  art  designpretend play               2.0.0  4.0.3 and up  \n",
       "2              art  design               1.2.4  4.0.3 and up  \n",
       "3              art  design  Varies with device    4.2 and up  \n",
       "4    art  designcreativity                 1.1    4.4 and up  "
      ]
     },
     "execution_count": 32,
     "metadata": {},
     "output_type": "execute_result"
    }
   ],
   "source": [
    "df.head()"
   ]
  },
  {
   "cell_type": "code",
   "execution_count": 33,
   "id": "6643b1b4",
   "metadata": {},
   "outputs": [],
   "source": [
    "def clean_number(number):\n",
    "    numbers = re.sub(r'[^0-9\\s]', '', number)\n",
    "    return numbers"
   ]
  },
  {
   "cell_type": "code",
   "execution_count": 34,
   "id": "6c515706",
   "metadata": {},
   "outputs": [],
   "source": [
    "df['Reviews'] = df['Reviews'].apply(clean_number)\n",
    "df['Reviews'] = pd.to_numeric(df['Reviews'], errors='coerce')"
   ]
  },
  {
   "cell_type": "code",
   "execution_count": 35,
   "id": "c9b9f506",
   "metadata": {},
   "outputs": [],
   "source": [
    "df['Size'] = df['Size'].apply(clean_number)\n",
    "df['Size'] = pd.to_numeric(df['Size'], errors='coerce')"
   ]
  },
  {
   "cell_type": "code",
   "execution_count": 36,
   "id": "8b3159cf",
   "metadata": {},
   "outputs": [],
   "source": [
    "df['Installs'] = df['Installs'].apply(clean_number)\n",
    "df['Installs'] = pd.to_numeric(df['Installs'], errors='coerce')"
   ]
  },
  {
   "cell_type": "code",
   "execution_count": 37,
   "id": "f4e45ba7",
   "metadata": {},
   "outputs": [],
   "source": [
    "df['Price'] = df['Price'].apply(clean_number)\n",
    "df['Price'] = pd.to_numeric(df['Price'], errors='coerce')"
   ]
  },
  {
   "cell_type": "markdown",
   "id": "403bf1db",
   "metadata": {},
   "source": [
    "# Data Transformation"
   ]
  },
  {
   "cell_type": "code",
   "execution_count": 38,
   "id": "1d06d3d7",
   "metadata": {},
   "outputs": [
    {
     "data": {
      "application/vnd.microsoft.datawrangler.viewer.v0+json": {
       "columns": [
        {
         "name": "index",
         "rawType": "int64",
         "type": "integer"
        },
        {
         "name": "App",
         "rawType": "object",
         "type": "string"
        },
        {
         "name": "Category",
         "rawType": "object",
         "type": "string"
        },
        {
         "name": "Rating",
         "rawType": "float64",
         "type": "float"
        },
        {
         "name": "Reviews",
         "rawType": "int64",
         "type": "integer"
        },
        {
         "name": "Size",
         "rawType": "float64",
         "type": "float"
        },
        {
         "name": "Installs",
         "rawType": "float64",
         "type": "float"
        },
        {
         "name": "Type",
         "rawType": "object",
         "type": "string"
        },
        {
         "name": "Price",
         "rawType": "float64",
         "type": "float"
        },
        {
         "name": "Content Rating",
         "rawType": "object",
         "type": "string"
        },
        {
         "name": "Genres",
         "rawType": "object",
         "type": "string"
        },
        {
         "name": "Current Version",
         "rawType": "object",
         "type": "string"
        },
        {
         "name": "Android Ver",
         "rawType": "object",
         "type": "string"
        }
       ],
       "ref": "49440045-c90f-4ff7-a4c9-1ac69e7de0bd",
       "rows": [
        [
         "0",
         "photo editor  candy camera  grid  scrapbook",
         "artanddesign",
         "4.1",
         "159",
         "19.0",
         "10000.0",
         "free",
         "0.0",
         "everyone",
         "art  design",
         "1.0.0",
         "4.0.3 and up"
        ],
        [
         "1",
         "coloring book moana",
         "artanddesign",
         "3.9",
         "967",
         "14.0",
         "500000.0",
         "free",
         "0.0",
         "everyone",
         "art  designpretend play",
         "2.0.0",
         "4.0.3 and up"
        ],
        [
         "2",
         "u launcher lite  free live cool themes hide apps",
         "artanddesign",
         "4.7",
         "87510",
         "87.0",
         "5000000.0",
         "free",
         "0.0",
         "everyone",
         "art  design",
         "1.2.4",
         "4.0.3 and up"
        ],
        [
         "3",
         "sketch  draw  paint",
         "artanddesign",
         "4.5",
         "215644",
         "25.0",
         "50000000.0",
         "free",
         "0.0",
         "teen",
         "art  design",
         "Varies with device",
         "4.2 and up"
        ],
        [
         "4",
         "pixel draw  number art coloring book",
         "artanddesign",
         "4.3",
         "967",
         "28.0",
         "100000.0",
         "free",
         "0.0",
         "everyone",
         "art  designcreativity",
         "1.1",
         "4.4 and up"
        ]
       ],
       "shape": {
        "columns": 12,
        "rows": 5
       }
      },
      "text/html": [
       "<div>\n",
       "<style scoped>\n",
       "    .dataframe tbody tr th:only-of-type {\n",
       "        vertical-align: middle;\n",
       "    }\n",
       "\n",
       "    .dataframe tbody tr th {\n",
       "        vertical-align: top;\n",
       "    }\n",
       "\n",
       "    .dataframe thead th {\n",
       "        text-align: right;\n",
       "    }\n",
       "</style>\n",
       "<table border=\"1\" class=\"dataframe\">\n",
       "  <thead>\n",
       "    <tr style=\"text-align: right;\">\n",
       "      <th></th>\n",
       "      <th>App</th>\n",
       "      <th>Category</th>\n",
       "      <th>Rating</th>\n",
       "      <th>Reviews</th>\n",
       "      <th>Size</th>\n",
       "      <th>Installs</th>\n",
       "      <th>Type</th>\n",
       "      <th>Price</th>\n",
       "      <th>Content Rating</th>\n",
       "      <th>Genres</th>\n",
       "      <th>Current Version</th>\n",
       "      <th>Android Ver</th>\n",
       "    </tr>\n",
       "  </thead>\n",
       "  <tbody>\n",
       "    <tr>\n",
       "      <th>0</th>\n",
       "      <td>photo editor  candy camera  grid  scrapbook</td>\n",
       "      <td>artanddesign</td>\n",
       "      <td>4.1</td>\n",
       "      <td>159</td>\n",
       "      <td>19.0</td>\n",
       "      <td>10000.0</td>\n",
       "      <td>free</td>\n",
       "      <td>0.0</td>\n",
       "      <td>everyone</td>\n",
       "      <td>art  design</td>\n",
       "      <td>1.0.0</td>\n",
       "      <td>4.0.3 and up</td>\n",
       "    </tr>\n",
       "    <tr>\n",
       "      <th>1</th>\n",
       "      <td>coloring book moana</td>\n",
       "      <td>artanddesign</td>\n",
       "      <td>3.9</td>\n",
       "      <td>967</td>\n",
       "      <td>14.0</td>\n",
       "      <td>500000.0</td>\n",
       "      <td>free</td>\n",
       "      <td>0.0</td>\n",
       "      <td>everyone</td>\n",
       "      <td>art  designpretend play</td>\n",
       "      <td>2.0.0</td>\n",
       "      <td>4.0.3 and up</td>\n",
       "    </tr>\n",
       "    <tr>\n",
       "      <th>2</th>\n",
       "      <td>u launcher lite  free live cool themes hide apps</td>\n",
       "      <td>artanddesign</td>\n",
       "      <td>4.7</td>\n",
       "      <td>87510</td>\n",
       "      <td>87.0</td>\n",
       "      <td>5000000.0</td>\n",
       "      <td>free</td>\n",
       "      <td>0.0</td>\n",
       "      <td>everyone</td>\n",
       "      <td>art  design</td>\n",
       "      <td>1.2.4</td>\n",
       "      <td>4.0.3 and up</td>\n",
       "    </tr>\n",
       "    <tr>\n",
       "      <th>3</th>\n",
       "      <td>sketch  draw  paint</td>\n",
       "      <td>artanddesign</td>\n",
       "      <td>4.5</td>\n",
       "      <td>215644</td>\n",
       "      <td>25.0</td>\n",
       "      <td>50000000.0</td>\n",
       "      <td>free</td>\n",
       "      <td>0.0</td>\n",
       "      <td>teen</td>\n",
       "      <td>art  design</td>\n",
       "      <td>Varies with device</td>\n",
       "      <td>4.2 and up</td>\n",
       "    </tr>\n",
       "    <tr>\n",
       "      <th>4</th>\n",
       "      <td>pixel draw  number art coloring book</td>\n",
       "      <td>artanddesign</td>\n",
       "      <td>4.3</td>\n",
       "      <td>967</td>\n",
       "      <td>28.0</td>\n",
       "      <td>100000.0</td>\n",
       "      <td>free</td>\n",
       "      <td>0.0</td>\n",
       "      <td>everyone</td>\n",
       "      <td>art  designcreativity</td>\n",
       "      <td>1.1</td>\n",
       "      <td>4.4 and up</td>\n",
       "    </tr>\n",
       "  </tbody>\n",
       "</table>\n",
       "</div>"
      ],
      "text/plain": [
       "                                                App      Category  Rating  \\\n",
       "0       photo editor  candy camera  grid  scrapbook  artanddesign     4.1   \n",
       "1                               coloring book moana  artanddesign     3.9   \n",
       "2  u launcher lite  free live cool themes hide apps  artanddesign     4.7   \n",
       "3                               sketch  draw  paint  artanddesign     4.5   \n",
       "4              pixel draw  number art coloring book  artanddesign     4.3   \n",
       "\n",
       "   Reviews  Size    Installs  Type  Price Content Rating  \\\n",
       "0      159  19.0     10000.0  free    0.0       everyone   \n",
       "1      967  14.0    500000.0  free    0.0       everyone   \n",
       "2    87510  87.0   5000000.0  free    0.0       everyone   \n",
       "3   215644  25.0  50000000.0  free    0.0           teen   \n",
       "4      967  28.0    100000.0  free    0.0       everyone   \n",
       "\n",
       "                    Genres     Current Version   Android Ver  \n",
       "0              art  design               1.0.0  4.0.3 and up  \n",
       "1  art  designpretend play               2.0.0  4.0.3 and up  \n",
       "2              art  design               1.2.4  4.0.3 and up  \n",
       "3              art  design  Varies with device    4.2 and up  \n",
       "4    art  designcreativity                 1.1    4.4 and up  "
      ]
     },
     "execution_count": 38,
     "metadata": {},
     "output_type": "execute_result"
    }
   ],
   "source": [
    "df.head()"
   ]
  },
  {
   "cell_type": "code",
   "execution_count": 39,
   "id": "c9f2162f",
   "metadata": {},
   "outputs": [],
   "source": [
    "le = LabelEncoder()\n",
    "scaler = MinMaxScaler()"
   ]
  },
  {
   "cell_type": "code",
   "execution_count": 40,
   "id": "f88c7c60",
   "metadata": {},
   "outputs": [],
   "source": [
    "categorical_columns = ['App', 'Category', 'Type', 'Content Rating', 'Genres', 'Current Version', 'Android Ver']"
   ]
  },
  {
   "cell_type": "code",
   "execution_count": 41,
   "id": "49f15608",
   "metadata": {},
   "outputs": [],
   "source": [
    "numerical_columns = ['Rating', 'Reviews', 'Size', 'Installs', 'Price']"
   ]
  },
  {
   "cell_type": "code",
   "execution_count": 42,
   "id": "fa7f774a",
   "metadata": {},
   "outputs": [],
   "source": [
    "for col in categorical_columns:\n",
    "    df[col] = le.fit_transform(df[col])"
   ]
  },
  {
   "cell_type": "code",
   "execution_count": 43,
   "id": "e18bee00",
   "metadata": {},
   "outputs": [],
   "source": [
    "df[numerical_columns] = scaler.fit_transform(df[numerical_columns])"
   ]
  },
  {
   "cell_type": "code",
   "execution_count": 44,
   "id": "15476ae1",
   "metadata": {},
   "outputs": [
    {
     "data": {
      "application/vnd.microsoft.datawrangler.viewer.v0+json": {
       "columns": [
        {
         "name": "index",
         "rawType": "int64",
         "type": "integer"
        },
        {
         "name": "App",
         "rawType": "int64",
         "type": "integer"
        },
        {
         "name": "Category",
         "rawType": "int64",
         "type": "integer"
        },
        {
         "name": "Rating",
         "rawType": "float64",
         "type": "float"
        },
        {
         "name": "Reviews",
         "rawType": "float64",
         "type": "float"
        },
        {
         "name": "Size",
         "rawType": "float64",
         "type": "float"
        },
        {
         "name": "Installs",
         "rawType": "float64",
         "type": "float"
        },
        {
         "name": "Type",
         "rawType": "int64",
         "type": "integer"
        },
        {
         "name": "Price",
         "rawType": "float64",
         "type": "float"
        },
        {
         "name": "Content Rating",
         "rawType": "int64",
         "type": "integer"
        },
        {
         "name": "Genres",
         "rawType": "int64",
         "type": "integer"
        },
        {
         "name": "Current Version",
         "rawType": "int64",
         "type": "integer"
        },
        {
         "name": "Android Ver",
         "rawType": "int64",
         "type": "integer"
        }
       ],
       "ref": "c5feba53-a1a0-4f89-bedb-67e6f80b9bb3",
       "rows": [
        [
         "0",
         "7129",
         "1",
         "0.1722222222222222",
         "2.0343327297805046e-06",
         "0.00891089108910891",
         "1e-05",
         "1",
         "0.0",
         "1",
         "9",
         "118",
         "15"
        ],
        [
         "1",
         "2473",
         "1",
         "0.1611111111111111",
         "1.2372325469797158e-05",
         "0.0039603960396039604",
         "0.0005",
         "1",
         "0.0",
         "1",
         "12",
         "1018",
         "15"
        ],
        [
         "2",
         "8901",
         "1",
         "0.20555555555555557",
         "0.0011196506741074966",
         "0.07623762376237625",
         "0.005",
         "1",
         "0.0",
         "1",
         "9",
         "464",
         "15"
        ],
        [
         "3",
         "8015",
         "1",
         "0.19444444444444445",
         "0.002759066963401177",
         "0.014851485148514853",
         "0.05",
         "1",
         "0.0",
         "4",
         "9",
         "2765",
         "18"
        ],
        [
         "4",
         "7192",
         "1",
         "0.18333333333333332",
         "1.2372325469797158e-05",
         "0.017821782178217824",
         "0.0001",
         "1",
         "0.0",
         "1",
         "11",
         "277",
         "20"
        ]
       ],
       "shape": {
        "columns": 12,
        "rows": 5
       }
      },
      "text/html": [
       "<div>\n",
       "<style scoped>\n",
       "    .dataframe tbody tr th:only-of-type {\n",
       "        vertical-align: middle;\n",
       "    }\n",
       "\n",
       "    .dataframe tbody tr th {\n",
       "        vertical-align: top;\n",
       "    }\n",
       "\n",
       "    .dataframe thead th {\n",
       "        text-align: right;\n",
       "    }\n",
       "</style>\n",
       "<table border=\"1\" class=\"dataframe\">\n",
       "  <thead>\n",
       "    <tr style=\"text-align: right;\">\n",
       "      <th></th>\n",
       "      <th>App</th>\n",
       "      <th>Category</th>\n",
       "      <th>Rating</th>\n",
       "      <th>Reviews</th>\n",
       "      <th>Size</th>\n",
       "      <th>Installs</th>\n",
       "      <th>Type</th>\n",
       "      <th>Price</th>\n",
       "      <th>Content Rating</th>\n",
       "      <th>Genres</th>\n",
       "      <th>Current Version</th>\n",
       "      <th>Android Ver</th>\n",
       "    </tr>\n",
       "  </thead>\n",
       "  <tbody>\n",
       "    <tr>\n",
       "      <th>0</th>\n",
       "      <td>7129</td>\n",
       "      <td>1</td>\n",
       "      <td>0.172222</td>\n",
       "      <td>0.000002</td>\n",
       "      <td>0.008911</td>\n",
       "      <td>0.00001</td>\n",
       "      <td>1</td>\n",
       "      <td>0.0</td>\n",
       "      <td>1</td>\n",
       "      <td>9</td>\n",
       "      <td>118</td>\n",
       "      <td>15</td>\n",
       "    </tr>\n",
       "    <tr>\n",
       "      <th>1</th>\n",
       "      <td>2473</td>\n",
       "      <td>1</td>\n",
       "      <td>0.161111</td>\n",
       "      <td>0.000012</td>\n",
       "      <td>0.003960</td>\n",
       "      <td>0.00050</td>\n",
       "      <td>1</td>\n",
       "      <td>0.0</td>\n",
       "      <td>1</td>\n",
       "      <td>12</td>\n",
       "      <td>1018</td>\n",
       "      <td>15</td>\n",
       "    </tr>\n",
       "    <tr>\n",
       "      <th>2</th>\n",
       "      <td>8901</td>\n",
       "      <td>1</td>\n",
       "      <td>0.205556</td>\n",
       "      <td>0.001120</td>\n",
       "      <td>0.076238</td>\n",
       "      <td>0.00500</td>\n",
       "      <td>1</td>\n",
       "      <td>0.0</td>\n",
       "      <td>1</td>\n",
       "      <td>9</td>\n",
       "      <td>464</td>\n",
       "      <td>15</td>\n",
       "    </tr>\n",
       "    <tr>\n",
       "      <th>3</th>\n",
       "      <td>8015</td>\n",
       "      <td>1</td>\n",
       "      <td>0.194444</td>\n",
       "      <td>0.002759</td>\n",
       "      <td>0.014851</td>\n",
       "      <td>0.05000</td>\n",
       "      <td>1</td>\n",
       "      <td>0.0</td>\n",
       "      <td>4</td>\n",
       "      <td>9</td>\n",
       "      <td>2765</td>\n",
       "      <td>18</td>\n",
       "    </tr>\n",
       "    <tr>\n",
       "      <th>4</th>\n",
       "      <td>7192</td>\n",
       "      <td>1</td>\n",
       "      <td>0.183333</td>\n",
       "      <td>0.000012</td>\n",
       "      <td>0.017822</td>\n",
       "      <td>0.00010</td>\n",
       "      <td>1</td>\n",
       "      <td>0.0</td>\n",
       "      <td>1</td>\n",
       "      <td>11</td>\n",
       "      <td>277</td>\n",
       "      <td>20</td>\n",
       "    </tr>\n",
       "  </tbody>\n",
       "</table>\n",
       "</div>"
      ],
      "text/plain": [
       "    App  Category    Rating   Reviews      Size  Installs  Type  Price  \\\n",
       "0  7129         1  0.172222  0.000002  0.008911   0.00001     1    0.0   \n",
       "1  2473         1  0.161111  0.000012  0.003960   0.00050     1    0.0   \n",
       "2  8901         1  0.205556  0.001120  0.076238   0.00500     1    0.0   \n",
       "3  8015         1  0.194444  0.002759  0.014851   0.05000     1    0.0   \n",
       "4  7192         1  0.183333  0.000012  0.017822   0.00010     1    0.0   \n",
       "\n",
       "   Content Rating  Genres  Current Version  Android Ver  \n",
       "0               1       9              118           15  \n",
       "1               1      12             1018           15  \n",
       "2               1       9              464           15  \n",
       "3               4       9             2765           18  \n",
       "4               1      11              277           20  "
      ]
     },
     "execution_count": 44,
     "metadata": {},
     "output_type": "execute_result"
    }
   ],
   "source": [
    "df.head()"
   ]
  },
  {
   "cell_type": "code",
   "execution_count": 48,
   "id": "d1dbb2c5",
   "metadata": {},
   "outputs": [],
   "source": [
    "df = df.dropna()"
   ]
  },
  {
   "cell_type": "code",
   "execution_count": 61,
   "id": "f1cc791c",
   "metadata": {},
   "outputs": [
    {
     "data": {
      "text/plain": [
       "(8831, 12)"
      ]
     },
     "execution_count": 61,
     "metadata": {},
     "output_type": "execute_result"
    }
   ],
   "source": [
    "df.shape"
   ]
  },
  {
   "cell_type": "markdown",
   "id": "f7e4390f",
   "metadata": {},
   "source": [
    "# Build Model"
   ]
  },
  {
   "cell_type": "markdown",
   "id": "169b50ed",
   "metadata": {},
   "source": [
    "## Data Splitting"
   ]
  },
  {
   "cell_type": "code",
   "execution_count": 70,
   "id": "8f7275d2",
   "metadata": {},
   "outputs": [],
   "source": [
    "df['Type'] = df['Type'].apply(lambda x: 1 if x == 1 else 0)\n",
    "X = df.drop('Type', axis=1)\n",
    "y = df['Type']"
   ]
  },
  {
   "cell_type": "code",
   "execution_count": 71,
   "id": "067cb211",
   "metadata": {},
   "outputs": [],
   "source": [
    "X_train, X_test, y_train, y_test = train_test_split(X, y, test_size=0.2, random_state=42)"
   ]
  },
  {
   "cell_type": "markdown",
   "id": "b098deb8",
   "metadata": {},
   "source": [
    "## Data Balancing"
   ]
  },
  {
   "cell_type": "code",
   "execution_count": 72,
   "id": "9a5e9691",
   "metadata": {},
   "outputs": [],
   "source": [
    "smote = SMOTE(random_state=42)\n",
    "X_train_balanced, y_train_balanced = smote.fit_resample(X_train, y_train)"
   ]
  },
  {
   "cell_type": "markdown",
   "id": "62deb787",
   "metadata": {},
   "source": [
    "## Model Training"
   ]
  },
  {
   "cell_type": "code",
   "execution_count": 73,
   "id": "3ded5c28",
   "metadata": {},
   "outputs": [
    {
     "data": {
      "text/html": [
       "<style>#sk-container-id-4 {\n",
       "  /* Definition of color scheme common for light and dark mode */\n",
       "  --sklearn-color-text: black;\n",
       "  --sklearn-color-line: gray;\n",
       "  /* Definition of color scheme for unfitted estimators */\n",
       "  --sklearn-color-unfitted-level-0: #fff5e6;\n",
       "  --sklearn-color-unfitted-level-1: #f6e4d2;\n",
       "  --sklearn-color-unfitted-level-2: #ffe0b3;\n",
       "  --sklearn-color-unfitted-level-3: chocolate;\n",
       "  /* Definition of color scheme for fitted estimators */\n",
       "  --sklearn-color-fitted-level-0: #f0f8ff;\n",
       "  --sklearn-color-fitted-level-1: #d4ebff;\n",
       "  --sklearn-color-fitted-level-2: #b3dbfd;\n",
       "  --sklearn-color-fitted-level-3: cornflowerblue;\n",
       "\n",
       "  /* Specific color for light theme */\n",
       "  --sklearn-color-text-on-default-background: var(--sg-text-color, var(--theme-code-foreground, var(--jp-content-font-color1, black)));\n",
       "  --sklearn-color-background: var(--sg-background-color, var(--theme-background, var(--jp-layout-color0, white)));\n",
       "  --sklearn-color-border-box: var(--sg-text-color, var(--theme-code-foreground, var(--jp-content-font-color1, black)));\n",
       "  --sklearn-color-icon: #696969;\n",
       "\n",
       "  @media (prefers-color-scheme: dark) {\n",
       "    /* Redefinition of color scheme for dark theme */\n",
       "    --sklearn-color-text-on-default-background: var(--sg-text-color, var(--theme-code-foreground, var(--jp-content-font-color1, white)));\n",
       "    --sklearn-color-background: var(--sg-background-color, var(--theme-background, var(--jp-layout-color0, #111)));\n",
       "    --sklearn-color-border-box: var(--sg-text-color, var(--theme-code-foreground, var(--jp-content-font-color1, white)));\n",
       "    --sklearn-color-icon: #878787;\n",
       "  }\n",
       "}\n",
       "\n",
       "#sk-container-id-4 {\n",
       "  color: var(--sklearn-color-text);\n",
       "}\n",
       "\n",
       "#sk-container-id-4 pre {\n",
       "  padding: 0;\n",
       "}\n",
       "\n",
       "#sk-container-id-4 input.sk-hidden--visually {\n",
       "  border: 0;\n",
       "  clip: rect(1px 1px 1px 1px);\n",
       "  clip: rect(1px, 1px, 1px, 1px);\n",
       "  height: 1px;\n",
       "  margin: -1px;\n",
       "  overflow: hidden;\n",
       "  padding: 0;\n",
       "  position: absolute;\n",
       "  width: 1px;\n",
       "}\n",
       "\n",
       "#sk-container-id-4 div.sk-dashed-wrapped {\n",
       "  border: 1px dashed var(--sklearn-color-line);\n",
       "  margin: 0 0.4em 0.5em 0.4em;\n",
       "  box-sizing: border-box;\n",
       "  padding-bottom: 0.4em;\n",
       "  background-color: var(--sklearn-color-background);\n",
       "}\n",
       "\n",
       "#sk-container-id-4 div.sk-container {\n",
       "  /* jupyter's `normalize.less` sets `[hidden] { display: none; }`\n",
       "     but bootstrap.min.css set `[hidden] { display: none !important; }`\n",
       "     so we also need the `!important` here to be able to override the\n",
       "     default hidden behavior on the sphinx rendered scikit-learn.org.\n",
       "     See: https://github.com/scikit-learn/scikit-learn/issues/21755 */\n",
       "  display: inline-block !important;\n",
       "  position: relative;\n",
       "}\n",
       "\n",
       "#sk-container-id-4 div.sk-text-repr-fallback {\n",
       "  display: none;\n",
       "}\n",
       "\n",
       "div.sk-parallel-item,\n",
       "div.sk-serial,\n",
       "div.sk-item {\n",
       "  /* draw centered vertical line to link estimators */\n",
       "  background-image: linear-gradient(var(--sklearn-color-text-on-default-background), var(--sklearn-color-text-on-default-background));\n",
       "  background-size: 2px 100%;\n",
       "  background-repeat: no-repeat;\n",
       "  background-position: center center;\n",
       "}\n",
       "\n",
       "/* Parallel-specific style estimator block */\n",
       "\n",
       "#sk-container-id-4 div.sk-parallel-item::after {\n",
       "  content: \"\";\n",
       "  width: 100%;\n",
       "  border-bottom: 2px solid var(--sklearn-color-text-on-default-background);\n",
       "  flex-grow: 1;\n",
       "}\n",
       "\n",
       "#sk-container-id-4 div.sk-parallel {\n",
       "  display: flex;\n",
       "  align-items: stretch;\n",
       "  justify-content: center;\n",
       "  background-color: var(--sklearn-color-background);\n",
       "  position: relative;\n",
       "}\n",
       "\n",
       "#sk-container-id-4 div.sk-parallel-item {\n",
       "  display: flex;\n",
       "  flex-direction: column;\n",
       "}\n",
       "\n",
       "#sk-container-id-4 div.sk-parallel-item:first-child::after {\n",
       "  align-self: flex-end;\n",
       "  width: 50%;\n",
       "}\n",
       "\n",
       "#sk-container-id-4 div.sk-parallel-item:last-child::after {\n",
       "  align-self: flex-start;\n",
       "  width: 50%;\n",
       "}\n",
       "\n",
       "#sk-container-id-4 div.sk-parallel-item:only-child::after {\n",
       "  width: 0;\n",
       "}\n",
       "\n",
       "/* Serial-specific style estimator block */\n",
       "\n",
       "#sk-container-id-4 div.sk-serial {\n",
       "  display: flex;\n",
       "  flex-direction: column;\n",
       "  align-items: center;\n",
       "  background-color: var(--sklearn-color-background);\n",
       "  padding-right: 1em;\n",
       "  padding-left: 1em;\n",
       "}\n",
       "\n",
       "\n",
       "/* Toggleable style: style used for estimator/Pipeline/ColumnTransformer box that is\n",
       "clickable and can be expanded/collapsed.\n",
       "- Pipeline and ColumnTransformer use this feature and define the default style\n",
       "- Estimators will overwrite some part of the style using the `sk-estimator` class\n",
       "*/\n",
       "\n",
       "/* Pipeline and ColumnTransformer style (default) */\n",
       "\n",
       "#sk-container-id-4 div.sk-toggleable {\n",
       "  /* Default theme specific background. It is overwritten whether we have a\n",
       "  specific estimator or a Pipeline/ColumnTransformer */\n",
       "  background-color: var(--sklearn-color-background);\n",
       "}\n",
       "\n",
       "/* Toggleable label */\n",
       "#sk-container-id-4 label.sk-toggleable__label {\n",
       "  cursor: pointer;\n",
       "  display: block;\n",
       "  width: 100%;\n",
       "  margin-bottom: 0;\n",
       "  padding: 0.5em;\n",
       "  box-sizing: border-box;\n",
       "  text-align: center;\n",
       "}\n",
       "\n",
       "#sk-container-id-4 label.sk-toggleable__label-arrow:before {\n",
       "  /* Arrow on the left of the label */\n",
       "  content: \"▸\";\n",
       "  float: left;\n",
       "  margin-right: 0.25em;\n",
       "  color: var(--sklearn-color-icon);\n",
       "}\n",
       "\n",
       "#sk-container-id-4 label.sk-toggleable__label-arrow:hover:before {\n",
       "  color: var(--sklearn-color-text);\n",
       "}\n",
       "\n",
       "/* Toggleable content - dropdown */\n",
       "\n",
       "#sk-container-id-4 div.sk-toggleable__content {\n",
       "  max-height: 0;\n",
       "  max-width: 0;\n",
       "  overflow: hidden;\n",
       "  text-align: left;\n",
       "  /* unfitted */\n",
       "  background-color: var(--sklearn-color-unfitted-level-0);\n",
       "}\n",
       "\n",
       "#sk-container-id-4 div.sk-toggleable__content.fitted {\n",
       "  /* fitted */\n",
       "  background-color: var(--sklearn-color-fitted-level-0);\n",
       "}\n",
       "\n",
       "#sk-container-id-4 div.sk-toggleable__content pre {\n",
       "  margin: 0.2em;\n",
       "  border-radius: 0.25em;\n",
       "  color: var(--sklearn-color-text);\n",
       "  /* unfitted */\n",
       "  background-color: var(--sklearn-color-unfitted-level-0);\n",
       "}\n",
       "\n",
       "#sk-container-id-4 div.sk-toggleable__content.fitted pre {\n",
       "  /* unfitted */\n",
       "  background-color: var(--sklearn-color-fitted-level-0);\n",
       "}\n",
       "\n",
       "#sk-container-id-4 input.sk-toggleable__control:checked~div.sk-toggleable__content {\n",
       "  /* Expand drop-down */\n",
       "  max-height: 200px;\n",
       "  max-width: 100%;\n",
       "  overflow: auto;\n",
       "}\n",
       "\n",
       "#sk-container-id-4 input.sk-toggleable__control:checked~label.sk-toggleable__label-arrow:before {\n",
       "  content: \"▾\";\n",
       "}\n",
       "\n",
       "/* Pipeline/ColumnTransformer-specific style */\n",
       "\n",
       "#sk-container-id-4 div.sk-label input.sk-toggleable__control:checked~label.sk-toggleable__label {\n",
       "  color: var(--sklearn-color-text);\n",
       "  background-color: var(--sklearn-color-unfitted-level-2);\n",
       "}\n",
       "\n",
       "#sk-container-id-4 div.sk-label.fitted input.sk-toggleable__control:checked~label.sk-toggleable__label {\n",
       "  background-color: var(--sklearn-color-fitted-level-2);\n",
       "}\n",
       "\n",
       "/* Estimator-specific style */\n",
       "\n",
       "/* Colorize estimator box */\n",
       "#sk-container-id-4 div.sk-estimator input.sk-toggleable__control:checked~label.sk-toggleable__label {\n",
       "  /* unfitted */\n",
       "  background-color: var(--sklearn-color-unfitted-level-2);\n",
       "}\n",
       "\n",
       "#sk-container-id-4 div.sk-estimator.fitted input.sk-toggleable__control:checked~label.sk-toggleable__label {\n",
       "  /* fitted */\n",
       "  background-color: var(--sklearn-color-fitted-level-2);\n",
       "}\n",
       "\n",
       "#sk-container-id-4 div.sk-label label.sk-toggleable__label,\n",
       "#sk-container-id-4 div.sk-label label {\n",
       "  /* The background is the default theme color */\n",
       "  color: var(--sklearn-color-text-on-default-background);\n",
       "}\n",
       "\n",
       "/* On hover, darken the color of the background */\n",
       "#sk-container-id-4 div.sk-label:hover label.sk-toggleable__label {\n",
       "  color: var(--sklearn-color-text);\n",
       "  background-color: var(--sklearn-color-unfitted-level-2);\n",
       "}\n",
       "\n",
       "/* Label box, darken color on hover, fitted */\n",
       "#sk-container-id-4 div.sk-label.fitted:hover label.sk-toggleable__label.fitted {\n",
       "  color: var(--sklearn-color-text);\n",
       "  background-color: var(--sklearn-color-fitted-level-2);\n",
       "}\n",
       "\n",
       "/* Estimator label */\n",
       "\n",
       "#sk-container-id-4 div.sk-label label {\n",
       "  font-family: monospace;\n",
       "  font-weight: bold;\n",
       "  display: inline-block;\n",
       "  line-height: 1.2em;\n",
       "}\n",
       "\n",
       "#sk-container-id-4 div.sk-label-container {\n",
       "  text-align: center;\n",
       "}\n",
       "\n",
       "/* Estimator-specific */\n",
       "#sk-container-id-4 div.sk-estimator {\n",
       "  font-family: monospace;\n",
       "  border: 1px dotted var(--sklearn-color-border-box);\n",
       "  border-radius: 0.25em;\n",
       "  box-sizing: border-box;\n",
       "  margin-bottom: 0.5em;\n",
       "  /* unfitted */\n",
       "  background-color: var(--sklearn-color-unfitted-level-0);\n",
       "}\n",
       "\n",
       "#sk-container-id-4 div.sk-estimator.fitted {\n",
       "  /* fitted */\n",
       "  background-color: var(--sklearn-color-fitted-level-0);\n",
       "}\n",
       "\n",
       "/* on hover */\n",
       "#sk-container-id-4 div.sk-estimator:hover {\n",
       "  /* unfitted */\n",
       "  background-color: var(--sklearn-color-unfitted-level-2);\n",
       "}\n",
       "\n",
       "#sk-container-id-4 div.sk-estimator.fitted:hover {\n",
       "  /* fitted */\n",
       "  background-color: var(--sklearn-color-fitted-level-2);\n",
       "}\n",
       "\n",
       "/* Specification for estimator info (e.g. \"i\" and \"?\") */\n",
       "\n",
       "/* Common style for \"i\" and \"?\" */\n",
       "\n",
       ".sk-estimator-doc-link,\n",
       "a:link.sk-estimator-doc-link,\n",
       "a:visited.sk-estimator-doc-link {\n",
       "  float: right;\n",
       "  font-size: smaller;\n",
       "  line-height: 1em;\n",
       "  font-family: monospace;\n",
       "  background-color: var(--sklearn-color-background);\n",
       "  border-radius: 1em;\n",
       "  height: 1em;\n",
       "  width: 1em;\n",
       "  text-decoration: none !important;\n",
       "  margin-left: 1ex;\n",
       "  /* unfitted */\n",
       "  border: var(--sklearn-color-unfitted-level-1) 1pt solid;\n",
       "  color: var(--sklearn-color-unfitted-level-1);\n",
       "}\n",
       "\n",
       ".sk-estimator-doc-link.fitted,\n",
       "a:link.sk-estimator-doc-link.fitted,\n",
       "a:visited.sk-estimator-doc-link.fitted {\n",
       "  /* fitted */\n",
       "  border: var(--sklearn-color-fitted-level-1) 1pt solid;\n",
       "  color: var(--sklearn-color-fitted-level-1);\n",
       "}\n",
       "\n",
       "/* On hover */\n",
       "div.sk-estimator:hover .sk-estimator-doc-link:hover,\n",
       ".sk-estimator-doc-link:hover,\n",
       "div.sk-label-container:hover .sk-estimator-doc-link:hover,\n",
       ".sk-estimator-doc-link:hover {\n",
       "  /* unfitted */\n",
       "  background-color: var(--sklearn-color-unfitted-level-3);\n",
       "  color: var(--sklearn-color-background);\n",
       "  text-decoration: none;\n",
       "}\n",
       "\n",
       "div.sk-estimator.fitted:hover .sk-estimator-doc-link.fitted:hover,\n",
       ".sk-estimator-doc-link.fitted:hover,\n",
       "div.sk-label-container:hover .sk-estimator-doc-link.fitted:hover,\n",
       ".sk-estimator-doc-link.fitted:hover {\n",
       "  /* fitted */\n",
       "  background-color: var(--sklearn-color-fitted-level-3);\n",
       "  color: var(--sklearn-color-background);\n",
       "  text-decoration: none;\n",
       "}\n",
       "\n",
       "/* Span, style for the box shown on hovering the info icon */\n",
       ".sk-estimator-doc-link span {\n",
       "  display: none;\n",
       "  z-index: 9999;\n",
       "  position: relative;\n",
       "  font-weight: normal;\n",
       "  right: .2ex;\n",
       "  padding: .5ex;\n",
       "  margin: .5ex;\n",
       "  width: min-content;\n",
       "  min-width: 20ex;\n",
       "  max-width: 50ex;\n",
       "  color: var(--sklearn-color-text);\n",
       "  box-shadow: 2pt 2pt 4pt #999;\n",
       "  /* unfitted */\n",
       "  background: var(--sklearn-color-unfitted-level-0);\n",
       "  border: .5pt solid var(--sklearn-color-unfitted-level-3);\n",
       "}\n",
       "\n",
       ".sk-estimator-doc-link.fitted span {\n",
       "  /* fitted */\n",
       "  background: var(--sklearn-color-fitted-level-0);\n",
       "  border: var(--sklearn-color-fitted-level-3);\n",
       "}\n",
       "\n",
       ".sk-estimator-doc-link:hover span {\n",
       "  display: block;\n",
       "}\n",
       "\n",
       "/* \"?\"-specific style due to the `<a>` HTML tag */\n",
       "\n",
       "#sk-container-id-4 a.estimator_doc_link {\n",
       "  float: right;\n",
       "  font-size: 1rem;\n",
       "  line-height: 1em;\n",
       "  font-family: monospace;\n",
       "  background-color: var(--sklearn-color-background);\n",
       "  border-radius: 1rem;\n",
       "  height: 1rem;\n",
       "  width: 1rem;\n",
       "  text-decoration: none;\n",
       "  /* unfitted */\n",
       "  color: var(--sklearn-color-unfitted-level-1);\n",
       "  border: var(--sklearn-color-unfitted-level-1) 1pt solid;\n",
       "}\n",
       "\n",
       "#sk-container-id-4 a.estimator_doc_link.fitted {\n",
       "  /* fitted */\n",
       "  border: var(--sklearn-color-fitted-level-1) 1pt solid;\n",
       "  color: var(--sklearn-color-fitted-level-1);\n",
       "}\n",
       "\n",
       "/* On hover */\n",
       "#sk-container-id-4 a.estimator_doc_link:hover {\n",
       "  /* unfitted */\n",
       "  background-color: var(--sklearn-color-unfitted-level-3);\n",
       "  color: var(--sklearn-color-background);\n",
       "  text-decoration: none;\n",
       "}\n",
       "\n",
       "#sk-container-id-4 a.estimator_doc_link.fitted:hover {\n",
       "  /* fitted */\n",
       "  background-color: var(--sklearn-color-fitted-level-3);\n",
       "}\n",
       "</style><div id=\"sk-container-id-4\" class=\"sk-top-container\"><div class=\"sk-text-repr-fallback\"><pre>RandomForestClassifier(random_state=42)</pre><b>In a Jupyter environment, please rerun this cell to show the HTML representation or trust the notebook. <br />On GitHub, the HTML representation is unable to render, please try loading this page with nbviewer.org.</b></div><div class=\"sk-container\" hidden><div class=\"sk-item\"><div class=\"sk-estimator fitted sk-toggleable\"><input class=\"sk-toggleable__control sk-hidden--visually\" id=\"sk-estimator-id-4\" type=\"checkbox\" checked><label for=\"sk-estimator-id-4\" class=\"sk-toggleable__label fitted sk-toggleable__label-arrow fitted\">&nbsp;&nbsp;RandomForestClassifier<a class=\"sk-estimator-doc-link fitted\" rel=\"noreferrer\" target=\"_blank\" href=\"https://scikit-learn.org/1.5/modules/generated/sklearn.ensemble.RandomForestClassifier.html\">?<span>Documentation for RandomForestClassifier</span></a><span class=\"sk-estimator-doc-link fitted\">i<span>Fitted</span></span></label><div class=\"sk-toggleable__content fitted\"><pre>RandomForestClassifier(random_state=42)</pre></div> </div></div></div></div>"
      ],
      "text/plain": [
       "RandomForestClassifier(random_state=42)"
      ]
     },
     "execution_count": 73,
     "metadata": {},
     "output_type": "execute_result"
    }
   ],
   "source": [
    "rf_model = RandomForestClassifier(n_estimators=100, random_state=42)\n",
    "rf_model.fit(X_train_balanced, y_train_balanced)"
   ]
  },
  {
   "cell_type": "markdown",
   "id": "a7d412e1",
   "metadata": {},
   "source": [
    "## Model Evaluation & Metrics"
   ]
  },
  {
   "cell_type": "code",
   "execution_count": 74,
   "id": "0cd448da",
   "metadata": {},
   "outputs": [
    {
     "name": "stdout",
     "output_type": "stream",
     "text": [
      "Accuracy : 1.00\n",
      "\n",
      "Classification Report : \n",
      "              precision    recall  f1-score   support\n",
      "\n",
      "           0       1.00      1.00      1.00       132\n",
      "           1       1.00      1.00      1.00      1635\n",
      "\n",
      "    accuracy                           1.00      1767\n",
      "   macro avg       1.00      1.00      1.00      1767\n",
      "weighted avg       1.00      1.00      1.00      1767\n",
      "\n"
     ]
    }
   ],
   "source": [
    "y_pred = rf_model.predict(X_test)\n",
    "accuracy = accuracy_score(y_test, y_pred)\n",
    "print(f\"Accuracy : {accuracy:.2f}\")\n",
    "print(\"\\nClassification Report : \")\n",
    "print(classification_report(y_test, y_pred))"
   ]
  },
  {
   "cell_type": "markdown",
   "id": "01778387",
   "metadata": {},
   "source": [
    "## Confusion Matrix"
   ]
  },
  {
   "cell_type": "code",
   "execution_count": 75,
   "id": "8440dbf9",
   "metadata": {},
   "outputs": [
    {
     "data": {
      "image/png": "[encoded data removed]",
      "text/plain": [
       "<Figure size 800x600 with 2 Axes>"
      ]
     },
     "metadata": {},
     "output_type": "display_data"
    }
   ],
   "source": [
    "cm = confusion_matrix(y_test, y_pred)\n",
    "plt.figure(figsize=(8,6))\n",
    "sns.heatmap(cm, annot=True, fmt='d', cmap='Blues', xticklabels=['Free', 'Paid'], yticklabels=['Free', 'Padi'])\n",
    "plt.title('Confusion Matrix')\n",
    "plt.xlabel('Predicted Label')\n",
    "plt.ylabel('True Label')\n",
    "plt.show()"
   ]
  },
  {
   "cell_type": "markdown",
   "id": "6a0e91dc",
   "metadata": {},
   "source": [
    "## Train Test Accuracy"
   ]
  },
  {
   "cell_type": "code",
   "execution_count": null,
   "id": "46bb0d6c",
   "metadata": {},
   "outputs": [],
   "source": [
    "# Akurasi pada data pelatihan\n",
    "y_train_pred = rf_model.predict(X_train_balanced)\n",
    "train_accuracy = accuracy_score(y_train_balanced, y_train_pred)\n",
    "train_loss = 1 - train_accuracy"
   ]
  },
  {
   "cell_type": "code",
   "execution_count": null,
   "id": "71f978ea",
   "metadata": {},
   "outputs": [],
   "source": [
    "# Akurasi pada data uji\n",
    "y_test_pred = rf_model.predict(X_test)\n",
    "test_accuracy = accuracy_score(y_test, y_test_pred)\n",
    "test_loss = 1 - test_accuracy"
   ]
  },
  {
   "cell_type": "code",
   "execution_count": null,
   "id": "c84faf34",
   "metadata": {},
   "outputs": [],
   "source": [
    "# Tampilkan akurasi dan loss\n",
    "print(f\"Train Accuracy : {train_accuracy:.2f}\")\n",
    "print(f\"Train Loss     : {train_loss:.2f}\")\n",
    "print(f\"Test Accuracy  : {test_accuracy:.2f}\")\n",
    "print(f\"Test Loss      : {test_loss:.2f}\")"
   ]
  },
  {
   "cell_type": "markdown",
   "id": "a45b5da0",
   "metadata": {},
   "source": [
    "## Model Saving"
   ]
  },
  {
   "cell_type": "code",
   "execution_count": null,
   "id": "3ba214a3",
   "metadata": {},
   "outputs": [],
   "source": [
    "# 6. Model Saving (optional)\n",
    "joblib.dump(rf_model, 'random_forest_model.joblib')"
   ]
  }
 ],
 "metadata": {
  "kernelspec": {
   "display_name": "Python 3",
   "language": "python",
   "name": "python3"
  },
  "language_info": {
   "codemirror_mode": {
    "name": "ipython",
    "version": 3
   },
   "file_extension": ".py",
   "mimetype": "text/x-python",
   "name": "python",
   "nbconvert_exporter": "python",
   "pygments_lexer": "ipython3",
   "version": "3.11.0"
  }
 },
 "nbformat": 4,
 "nbformat_minor": 5
}
