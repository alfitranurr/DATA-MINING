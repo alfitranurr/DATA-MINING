{
 "cells": [
  {
   "cell_type": "markdown",
   "metadata": {},
   "source": [
    "# CODELAB 3\n",
    "\n",
    "a. Buatlah sebuah series yang berisi dictionary yang memuat nama produk dan ID produk.\n",
    "\n",
    "b. Buatlah sebuah dataframe yang berisi dictionary yang memuat 4 kolom dan setiap kolom berisi 5 data. Tidak boleh ada kesamaan antar praktikan.\n",
    "\n",
    "c. Tambahkan 1 kolom baru.\n",
    "\n",
    "d. Urutkan dataframe, misalnya berdasarkan abjad jika kolom berupa Nama."
   ]
  },
  {
   "cell_type": "code",
   "execution_count": 1,
   "metadata": {},
   "outputs": [
    {
     "name": "stdout",
     "output_type": "stream",
     "text": [
      "Series Produk:\n",
      "ID1    {'id_produk': 'K1', 'nama_produk': 'Baju Kemeja'}\n",
      "ID2      {'id_produk': 'K2', 'nama_produk': 'Baju Kaos'}\n",
      "ID3    {'id_produk': 'K3', 'nama_produk': 'Baju Hoodie'}\n",
      "ID4     {'id_produk': 'K4', 'nama_produk': 'Baju Polos'}\n",
      "ID5     {'id_produk': 'K5', 'nama_produk': 'Baju Batik'}\n",
      "dtype: object\n"
     ]
    }
   ],
   "source": [
    "import pandas as pd\n",
    "\n",
    "# a. Membuat Series yang berisi dictionary yang memuat ID produk dan nama produk\n",
    "products = {\n",
    "    'ID1': {'id_produk': 'K1', 'nama_produk': 'Baju Kemeja'},\n",
    "    'ID2': {'id_produk': 'K2', 'nama_produk': 'Baju Kaos'},\n",
    "    'ID3': {'id_produk': 'K3', 'nama_produk': 'Baju Hoodie'},\n",
    "    'ID4': {'id_produk': 'K4', 'nama_produk': 'Baju Polos'},\n",
    "    'ID5': {'id_produk': 'K5', 'nama_produk': 'Baju Batik'}\n",
    "}\n",
    "\n",
    "product_series = pd.Series(products)\n",
    "\n",
    "print(\"Series Produk:\")\n",
    "print(product_series)"
   ]
  },
  {
   "cell_type": "code",
   "execution_count": 2,
   "metadata": {},
   "outputs": [
    {
     "name": "stdout",
     "output_type": "stream",
     "text": [
      "\n",
      "DataFrame Penjualan:\n",
      "  ID Produk         Nama   Harga  Jumlah Terjual\n",
      "0        K1  Baju Kemeja  150000              50\n",
      "1        K2    Baju Kaos  100000             120\n",
      "2        K3  Baju Hoodie  200000              80\n",
      "3        K4   Baju Polos  120000              60\n",
      "4        K5   Baju Batik  180000              90\n"
     ]
    }
   ],
   "source": [
    "# b. Membuat DataFrame yang berisi dictionary dengan 4 kolom dan 5 data\n",
    "sales_data = {\n",
    "    'ID Produk': ['K1', 'K2', 'K3', 'K4', 'K5'],\n",
    "    'Nama': ['Baju Kemeja', 'Baju Kaos', 'Baju Hoodie', 'Baju Polos', 'Baju Batik'],\n",
    "    'Harga': [150000, 100000, 200000, 120000, 180000],\n",
    "    'Jumlah Terjual': [50, 120, 80, 60, 90]\n",
    "}\n",
    "\n",
    "sales_df = pd.DataFrame(sales_data)\n",
    "\n",
    "print(\"\\nDataFrame Penjualan:\")\n",
    "print(sales_df)"
   ]
  },
  {
   "cell_type": "code",
   "execution_count": 3,
   "metadata": {},
   "outputs": [
    {
     "name": "stdout",
     "output_type": "stream",
     "text": [
      "\n",
      "DataFrame Setelah Menambahkan Kolom Total Penjualan:\n",
      "  ID Produk         Nama   Harga  Jumlah Terjual  Total Penjualan\n",
      "0        K1  Baju Kemeja  150000              50          7500000\n",
      "1        K2    Baju Kaos  100000             120         12000000\n",
      "2        K3  Baju Hoodie  200000              80         16000000\n",
      "3        K4   Baju Polos  120000              60          7200000\n",
      "4        K5   Baju Batik  180000              90         16200000\n"
     ]
    }
   ],
   "source": [
    "# c. Menambahkan kolom baru Total Penjualan\n",
    "sales_df['Total Penjualan'] = sales_df['Harga'] * sales_df['Jumlah Terjual']\n",
    "\n",
    "print(\"\\nDataFrame Setelah Menambahkan Kolom Total Penjualan:\")\n",
    "print(sales_df)"
   ]
  },
  {
   "cell_type": "code",
   "execution_count": 4,
   "metadata": {},
   "outputs": [
    {
     "name": "stdout",
     "output_type": "stream",
     "text": [
      "\n",
      "DataFrame Setelah Diurutkan Berdasarkan Nama Produk:\n",
      "  ID Produk         Nama   Harga  Jumlah Terjual  Total Penjualan\n",
      "4        K5   Baju Batik  180000              90         16200000\n",
      "2        K3  Baju Hoodie  200000              80         16000000\n",
      "1        K2    Baju Kaos  100000             120         12000000\n",
      "0        K1  Baju Kemeja  150000              50          7500000\n",
      "3        K4   Baju Polos  120000              60          7200000\n"
     ]
    }
   ],
   "source": [
    "# d. Mengurutkan DataFrame berdasarkan Nama produk (Abjad)\n",
    "sorted_sales_df = sales_df.sort_values(by='Nama', ascending=True)\n",
    "\n",
    "print(\"\\nDataFrame Setelah Diurutkan Berdasarkan Nama Produk:\")\n",
    "print(sorted_sales_df)"
   ]
  }
 ],
 "metadata": {
  "kernelspec": {
   "display_name": "Python 3",
   "language": "python",
   "name": "python3"
  },
  "language_info": {
   "codemirror_mode": {
    "name": "ipython",
    "version": 3
   },
   "file_extension": ".py",
   "mimetype": "text/x-python",
   "name": "python",
   "nbconvert_exporter": "python",
   "pygments_lexer": "ipython3",
   "version": "3.11.5"
  }
 },
 "nbformat": 4,
 "nbformat_minor": 2
}
