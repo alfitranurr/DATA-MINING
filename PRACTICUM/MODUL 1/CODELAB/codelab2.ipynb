{
 "cells": [
  {
   "cell_type": "markdown",
   "metadata": {},
   "source": [
    "# CODELAB 2\n",
    "\n",
    "a. Buatlah array 2D berdasarkan 6 digit terakhir NIM kalian.\n",
    "\n",
    "b. Lakukan operasi pertambahan, pengurangan dan perkalian pada matriks yang kalian buat.\n",
    "\n",
    "c. Ubahlah matriks tersebut menjadi bentuk 1D.\n",
    "\n",
    "d. Lakukan slicing pada matriks."
   ]
  },
  {
   "cell_type": "markdown",
   "metadata": {},
   "source": []
  },
  {
   "cell_type": "code",
   "execution_count": 1,
   "metadata": {},
   "outputs": [
    {
     "name": "stdout",
     "output_type": "stream",
     "text": [
      "Matrix 2D:\n",
      "[[3 1 1]\n",
      " [2 6 4]]\n"
     ]
    }
   ],
   "source": [
    "import numpy as np\n",
    "\n",
    "# a. Membuat array 2D berdasarkan 6 digit terakhir NIM\n",
    "nim_last_six = \"311264\"\n",
    "matrix_2d = np.array([[int(nim_last_six[0]), int(nim_last_six[1]), int(nim_last_six[2])],\n",
    "                      [int(nim_last_six[3]), int(nim_last_six[4]), int(nim_last_six[5])]])\n",
    "\n",
    "print(\"Matrix 2D:\")\n",
    "print(matrix_2d)"
   ]
  },
  {
   "cell_type": "code",
   "execution_count": 2,
   "metadata": {},
   "outputs": [
    {
     "name": "stdout",
     "output_type": "stream",
     "text": [
      "\n",
      "Operasi Pertambahan:\n",
      "[[ 6  2  2]\n",
      " [ 4 12  8]]\n",
      "\n",
      "Operasi Pengurangan:\n",
      "[[0 0 0]\n",
      " [0 0 0]]\n",
      "\n",
      "Operasi Perkalian:\n",
      "[[ 9  1  1]\n",
      " [ 4 36 16]]\n"
     ]
    }
   ],
   "source": [
    "# b. Operasi Pertambahan, Pengurangan, dan Perkalian pada Matriks\n",
    "matrix_add = matrix_2d + matrix_2d\n",
    "matrix_sub = matrix_2d - matrix_2d\n",
    "matrix_mul = matrix_2d * matrix_2d\n",
    "\n",
    "print(\"\\nOperasi Pertambahan:\")\n",
    "print(matrix_add)\n",
    "\n",
    "print(\"\\nOperasi Pengurangan:\")\n",
    "print(matrix_sub)\n",
    "\n",
    "print(\"\\nOperasi Perkalian:\")\n",
    "print(matrix_mul)"
   ]
  },
  {
   "cell_type": "code",
   "execution_count": 3,
   "metadata": {},
   "outputs": [
    {
     "name": "stdout",
     "output_type": "stream",
     "text": [
      "\n",
      "Matriks 1D:\n",
      "[3 1 1 2 6 4]\n"
     ]
    }
   ],
   "source": [
    "# c. Mengubah Matriks 2D menjadi 1D\n",
    "matrix_1d = matrix_2d.flatten()\n",
    "print(\"\\nMatriks 1D:\")\n",
    "print(matrix_1d)"
   ]
  },
  {
   "cell_type": "code",
   "execution_count": 4,
   "metadata": {},
   "outputs": [
    {
     "name": "stdout",
     "output_type": "stream",
     "text": [
      "\n",
      "Slicing Matriks - Baris Pertama:\n",
      "[3 1 1]\n",
      "\n",
      "Slicing Matriks - Kolom Pertama:\n",
      "[3 2]\n"
     ]
    }
   ],
   "source": [
    "# d. Slicing Matriks\n",
    "# Ambil baris pertama\n",
    "sliced_row = matrix_2d[0, :]\n",
    "# Ambil kolom pertama\n",
    "sliced_column = matrix_2d[:, 0]\n",
    "\n",
    "print(\"\\nSlicing Matriks - Baris Pertama:\")\n",
    "print(sliced_row)\n",
    "\n",
    "print(\"\\nSlicing Matriks - Kolom Pertama:\")\n",
    "print(sliced_column)"
   ]
  },
  {
   "cell_type": "code",
   "execution_count": null,
   "metadata": {},
   "outputs": [],
   "source": []
  }
 ],
 "metadata": {
  "kernelspec": {
   "display_name": "Python 3",
   "language": "python",
   "name": "python3"
  },
  "language_info": {
   "codemirror_mode": {
    "name": "ipython",
    "version": 3
   },
   "file_extension": ".py",
   "mimetype": "text/x-python",
   "name": "python",
   "nbconvert_exporter": "python",
   "pygments_lexer": "ipython3",
   "version": "3.11.5"
  }
 },
 "nbformat": 4,
 "nbformat_minor": 2
}
