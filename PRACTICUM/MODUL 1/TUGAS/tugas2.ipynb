{
 "cells": [
  {
   "cell_type": "markdown",
   "metadata": {},
   "source": [
    "# TUGAS 2\n",
    "\n",
    "Buatlah sebuah tuple yang berisi dictionary dengan 10 pasangan key value mata kuliah dan nilai. Dari 10 pasangan key value tersebut, buatlah minimal 3 diantaranya memiliki nilai kosong. Lakukan operasi berikut:\n",
    "\n",
    "1. Hapus entri yang tidak lengkap atau memiliki nilai kosong.\n",
    "2. Hitung jumlah entri yang tersisa setelah penghapusan.\n",
    "3. Urutkan pasangan key value tersebut berdasarkan nilai secara ascending.\n",
    "4. Carilah mata kuliah dengan nilai tertinggi.\n",
    "5. Hitunglah rata-rata semua nilai mata kuliah."
   ]
  },
  {
   "cell_type": "code",
   "execution_count": null,
   "metadata": {},
   "outputs": [
    {
     "name": "stdout",
     "output_type": "stream",
     "text": [
      "Tuple dengan dictionary berisi mata kuliah dan nilai:\n",
      "({'Natural Language Processing': 85}, {'Data Mining': 90}, {'Data Warehouse': None}, {'Computer Reasoning': 78}, {'Web Programming': 95}, {'Database': None}, {'Statistic': 88}, {'Computer Networks': 92}, {'Smart Device & IOT': None}, {'Data Modeling & Simulation': 80})\n"
     ]
    }
   ],
   "source": [
    "# Bagian 1: Membuat tuple yang berisi dictionary dengan 10 pasangan key-value\n",
    "def buat_tuple_mata_kuliah():\n",
    "    mata_kuliah = (\n",
    "        {\"Natural Language Processing\": 85},\n",
    "        {\"Data Mining\": 90},\n",
    "        {\"Data Warehouse\": None},\n",
    "        {\"Computer Reasoning\": 78},\n",
    "        {\"Web Programming\": 95},\n",
    "        {\"Database\": None},\n",
    "        {\"Statistic\": 88},\n",
    "        {\"Computer Networks\": 92},\n",
    "        {\"Smart Device & IOT\": None},\n",
    "        {\"Data Modeling & Simulation\": 80},\n",
    "    )\n",
    "    \n",
    "    print(\"Tuple dengan dictionary berisi mata kuliah dan nilai:\")\n",
    "    print(mata_kuliah)\n",
    "    return mata_kuliah\n",
    "\n",
    "# Menjalankan bagian 1\n",
    "mata_kuliah = buat_tuple_mata_kuliah()"
   ]
  },
  {
   "cell_type": "code",
   "execution_count": 2,
   "metadata": {},
   "outputs": [
    {
     "name": "stdout",
     "output_type": "stream",
     "text": [
      "Tuple setelah menghapus entri yang tidak lengkap atau memiliki nilai kosong:\n",
      "({'Natural Language Processing': 85}, {'Data Mining': 90}, {'Computer Reasoning': 78}, {'Web Programming': 95}, {'Statistic': 88}, {'Computer Networks': 92}, {'Data Modeling & Simulation': 80})\n"
     ]
    }
   ],
   "source": [
    "# Bagian 2: Menghapus entri yang tidak lengkap atau memiliki nilai kosong\n",
    "def hapus_entri_kosong(mata_kuliah):\n",
    "    # Menghapus entri yang memiliki nilai kosong (None)\n",
    "    mata_kuliah = tuple(\n",
    "        {key: value} for dic in mata_kuliah for key, value in dic.items() if value is not None\n",
    "    )\n",
    "    \n",
    "    print(\"Tuple setelah menghapus entri yang tidak lengkap atau memiliki nilai kosong:\")\n",
    "    print(mata_kuliah)\n",
    "    return mata_kuliah\n",
    "\n",
    "# Menjalankan bagian 2\n",
    "mata_kuliah = hapus_entri_kosong(mata_kuliah)\n"
   ]
  },
  {
   "cell_type": "code",
   "execution_count": 3,
   "metadata": {},
   "outputs": [
    {
     "name": "stdout",
     "output_type": "stream",
     "text": [
      "Jumlah entri setelah penghapusan: 7\n"
     ]
    }
   ],
   "source": [
    "# Bagian 3: Menghitung jumlah entri yang tersisa setelah penghapusan\n",
    "def hitung_jumlah_entri(mata_kuliah):\n",
    "    # Menghitung jumlah entri yang tersisa\n",
    "    jumlah_entri = len(mata_kuliah)\n",
    "    print(f\"Jumlah entri setelah penghapusan: {jumlah_entri}\")\n",
    "    return jumlah_entri\n",
    "\n",
    "# Menjalankan bagian 3\n",
    "jumlah_entri = hitung_jumlah_entri(mata_kuliah)\n"
   ]
  },
  {
   "cell_type": "code",
   "execution_count": 4,
   "metadata": {},
   "outputs": [
    {
     "name": "stdout",
     "output_type": "stream",
     "text": [
      "Tuple setelah diurutkan berdasarkan nilai secara ascending:\n",
      "({'Computer Reasoning': 78}, {'Data Modeling & Simulation': 80}, {'Natural Language Processing': 85}, {'Statistic': 88}, {'Data Mining': 90}, {'Computer Networks': 92}, {'Web Programming': 95})\n"
     ]
    }
   ],
   "source": [
    "# Bagian 4: Mengurutkan pasangan key-value berdasarkan nilai secara ascending\n",
    "def urutkan_nilai_ascending(mata_kuliah):\n",
    "    # Mengurutkan pasangan key-value berdasarkan nilai secara ascending\n",
    "    mata_kuliah_terurut = tuple(\n",
    "        sorted(mata_kuliah, key=lambda dic: list(dic.values())[0])\n",
    "    )\n",
    "    \n",
    "    print(\"Tuple setelah diurutkan berdasarkan nilai secara ascending:\")\n",
    "    print(mata_kuliah_terurut)\n",
    "    return mata_kuliah_terurut\n",
    "\n",
    "# Menjalankan bagian 4\n",
    "mata_kuliah_terurut = urutkan_nilai_ascending(mata_kuliah)\n"
   ]
  },
  {
   "cell_type": "code",
   "execution_count": 5,
   "metadata": {},
   "outputs": [
    {
     "name": "stdout",
     "output_type": "stream",
     "text": [
      "Mata kuliah dengan nilai tertinggi: {'Web Programming': 95}\n"
     ]
    }
   ],
   "source": [
    "# Bagian 5: Mencari mata kuliah dengan nilai tertinggi\n",
    "def cari_nilai_tertinggi(mata_kuliah):\n",
    "    # Mencari mata kuliah dengan nilai tertinggi\n",
    "    mata_kuliah_tertinggi = max(mata_kuliah, key=lambda dic: list(dic.values())[0])\n",
    "    \n",
    "    print(f\"Mata kuliah dengan nilai tertinggi: {mata_kuliah_tertinggi}\")\n",
    "    return mata_kuliah_tertinggi\n",
    "\n",
    "# Menjalankan bagian 5\n",
    "mata_kuliah_tertinggi = cari_nilai_tertinggi(mata_kuliah)\n"
   ]
  },
  {
   "cell_type": "code",
   "execution_count": null,
   "metadata": {},
   "outputs": [
    {
     "name": "stdout",
     "output_type": "stream",
     "text": [
      "Detail nilai setiap mata kuliah:\n",
      "Natural Language Processing: 85\n",
      "Data Mining: 90\n",
      "Computer Reasoning: 78\n",
      "Web Programming: 95\n",
      "Statistic: 88\n",
      "Computer Networks: 92\n",
      "Data Modeling & Simulation: 80\n",
      "\n",
      "Total nilai: 608\n",
      "Jumlah mata kuliah: 7\n",
      "Rata-rata nilai dari semua mata kuliah: 86.86\n"
     ]
    }
   ],
   "source": [
    "def hitung_rata_rata(mata_kuliah):\n",
    "    print(\"Detail nilai setiap mata kuliah:\")\n",
    "    total_nilai = 0\n",
    "    for dic in mata_kuliah:\n",
    "        mata_kuliah_name = list(dic.keys())[0]\n",
    "        nilai = dic[mata_kuliah_name]\n",
    "        total_nilai += nilai\n",
    "        print(f\"{mata_kuliah_name}: {nilai}\")\n",
    "    \n",
    "    print(f\"\\nTotal nilai: {total_nilai}\")\n",
    "    print(f\"Jumlah mata kuliah: {len(mata_kuliah)}\")\n",
    "    \n",
    "    rata_rata = total_nilai / len(mata_kuliah)\n",
    "    \n",
    "    print(f\"Rata-rata nilai dari semua mata kuliah: {rata_rata:.2f}\")\n",
    "    return rata_rata\n",
    "\n",
    "# Menjalankan bagian 6\n",
    "rata_rata = hitung_rata_rata(mata_kuliah)\n"
   ]
  }
 ],
 "metadata": {
  "kernelspec": {
   "display_name": "Python 3",
   "language": "python",
   "name": "python3"
  },
  "language_info": {
   "codemirror_mode": {
    "name": "ipython",
    "version": 3
   },
   "file_extension": ".py",
   "mimetype": "text/x-python",
   "name": "python",
   "nbconvert_exporter": "python",
   "pygments_lexer": "ipython3",
   "version": "3.11.5"
  }
 },
 "nbformat": 4,
 "nbformat_minor": 2
}
