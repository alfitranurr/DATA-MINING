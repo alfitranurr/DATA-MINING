{
 "cells": [
  {
   "cell_type": "markdown",
   "metadata": {},
   "source": [
    "# Tugas 3\n",
    "\n",
    "Buatlah dataframe yang terdiri dari 10 baris dan 6 kolom, dengan informasi sebagai berikut:\n",
    "\n",
    "| | Brand | Cabang | Harga (ribu) | Stock | Status |\n",
    "|--|---|---|---|---|---|\n",
    "| 1 | Avoskin | Surabaya | 150 | 175 | Sold |\n",
    "| 2 | G2G | Jakarta Pusat | 75 | 160 | Available |\n",
    "| 3 | Skintific | Bandung | 120 | 120 | Available\n",
    "| 4 | Wardah | Bandung | 85 | 300 | Sold |\n",
    "| 5 | Emina | Jakarta | 75 | 230 | Available |\n",
    "| 6 | Somethinc | Bandung | 120 | 200 | Available |\n",
    "| 7 | Azarine | Surabaya | 50 | 180 |Available |\n",
    "| 8 | Lacoco | Bandung | 90 | 100 | Sold |\n",
    "| 9 | Y.O.U | Jakarta Pusat | 55 | 180 |Available |\n",
    "| 10 | Madame Gie | Surabaya | 50 | 200 | Sold |\n",
    "\n",
    "\n",
    "Lakukan analisis berikut pada DataFrame tersebut:\n",
    "\n",
    "1. Tampilkan ringkasan statistik deskriptif yang mencakup nilai minimum, maksimum, jumlah, rata-rata, standar deviasi, serta nilai kuartil 1, 2, dan 3.\n",
    "2. Tentukan 3 brand dengan penghasilan terbesar (harga x stock).\n",
    "3. Kelompokkan brand dengan harga yang sama.\n",
    "4. Buatlah kolom baru yang berisi kategori ‘Murah’, ‘Sedang’, dan ‘Mahal’. Kategori ini didasarkan pada aturan:\n",
    "5. Harga di bawah kuartil 1 dikategorikan sebagai ‘Murah’\n",
    "6. Harga di atas kuartil 3 dikategorikan sebagai ‘Mahal’\n",
    "7. Sisanya dikategorikan sebagai ‘Sedang’."
   ]
  },
  {
   "cell_type": "code",
   "execution_count": 3,
   "metadata": {},
   "outputs": [],
   "source": [
    "import pandas as pd"
   ]
  },
  {
   "cell_type": "code",
   "execution_count": 4,
   "metadata": {},
   "outputs": [
    {
     "data": {
      "text/html": [
       "<style type=\"text/css\">\n",
       "#T_31807_row0_col0, #T_31807_row0_col1, #T_31807_row0_col2, #T_31807_row0_col3, #T_31807_row0_col4, #T_31807_row2_col0, #T_31807_row2_col1, #T_31807_row2_col2, #T_31807_row2_col3, #T_31807_row2_col4, #T_31807_row4_col0, #T_31807_row4_col1, #T_31807_row4_col2, #T_31807_row4_col3, #T_31807_row4_col4, #T_31807_row6_col0, #T_31807_row6_col1, #T_31807_row6_col2, #T_31807_row6_col3, #T_31807_row6_col4, #T_31807_row8_col0, #T_31807_row8_col1, #T_31807_row8_col2, #T_31807_row8_col3, #T_31807_row8_col4 {\n",
       "  background-color: rgb(71, 70, 70);\n",
       "  color: white;\n",
       "}\n",
       "#T_31807_row1_col0, #T_31807_row1_col1, #T_31807_row1_col2, #T_31807_row1_col3, #T_31807_row1_col4, #T_31807_row3_col0, #T_31807_row3_col1, #T_31807_row3_col2, #T_31807_row3_col3, #T_31807_row3_col4, #T_31807_row5_col0, #T_31807_row5_col1, #T_31807_row5_col2, #T_31807_row5_col3, #T_31807_row5_col4, #T_31807_row7_col0, #T_31807_row7_col1, #T_31807_row7_col2, #T_31807_row7_col3, #T_31807_row7_col4, #T_31807_row9_col0, #T_31807_row9_col1, #T_31807_row9_col2, #T_31807_row9_col3, #T_31807_row9_col4 {\n",
       "  background-color: #333333;\n",
       "  color: white;\n",
       "}\n",
       "</style>\n",
       "<table id=\"T_31807\">\n",
       "  <thead>\n",
       "    <tr>\n",
       "      <th class=\"blank level0\" >&nbsp;</th>\n",
       "      <th id=\"T_31807_level0_col0\" class=\"col_heading level0 col0\" >Brand</th>\n",
       "      <th id=\"T_31807_level0_col1\" class=\"col_heading level0 col1\" >Cabang</th>\n",
       "      <th id=\"T_31807_level0_col2\" class=\"col_heading level0 col2\" >Harga (ribu)</th>\n",
       "      <th id=\"T_31807_level0_col3\" class=\"col_heading level0 col3\" >Stock</th>\n",
       "      <th id=\"T_31807_level0_col4\" class=\"col_heading level0 col4\" >Status</th>\n",
       "    </tr>\n",
       "  </thead>\n",
       "  <tbody>\n",
       "    <tr>\n",
       "      <th id=\"T_31807_level0_row0\" class=\"row_heading level0 row0\" >0</th>\n",
       "      <td id=\"T_31807_row0_col0\" class=\"data row0 col0\" >Avoskin</td>\n",
       "      <td id=\"T_31807_row0_col1\" class=\"data row0 col1\" >Surabaya</td>\n",
       "      <td id=\"T_31807_row0_col2\" class=\"data row0 col2\" >150</td>\n",
       "      <td id=\"T_31807_row0_col3\" class=\"data row0 col3\" >175</td>\n",
       "      <td id=\"T_31807_row0_col4\" class=\"data row0 col4\" >Sold</td>\n",
       "    </tr>\n",
       "    <tr>\n",
       "      <th id=\"T_31807_level0_row1\" class=\"row_heading level0 row1\" >1</th>\n",
       "      <td id=\"T_31807_row1_col0\" class=\"data row1 col0\" >G2G</td>\n",
       "      <td id=\"T_31807_row1_col1\" class=\"data row1 col1\" >Jakarta Pusat</td>\n",
       "      <td id=\"T_31807_row1_col2\" class=\"data row1 col2\" >75</td>\n",
       "      <td id=\"T_31807_row1_col3\" class=\"data row1 col3\" >160</td>\n",
       "      <td id=\"T_31807_row1_col4\" class=\"data row1 col4\" >Available</td>\n",
       "    </tr>\n",
       "    <tr>\n",
       "      <th id=\"T_31807_level0_row2\" class=\"row_heading level0 row2\" >2</th>\n",
       "      <td id=\"T_31807_row2_col0\" class=\"data row2 col0\" >Skintific</td>\n",
       "      <td id=\"T_31807_row2_col1\" class=\"data row2 col1\" >Bandung</td>\n",
       "      <td id=\"T_31807_row2_col2\" class=\"data row2 col2\" >120</td>\n",
       "      <td id=\"T_31807_row2_col3\" class=\"data row2 col3\" >120</td>\n",
       "      <td id=\"T_31807_row2_col4\" class=\"data row2 col4\" >Available</td>\n",
       "    </tr>\n",
       "    <tr>\n",
       "      <th id=\"T_31807_level0_row3\" class=\"row_heading level0 row3\" >3</th>\n",
       "      <td id=\"T_31807_row3_col0\" class=\"data row3 col0\" >Wardah</td>\n",
       "      <td id=\"T_31807_row3_col1\" class=\"data row3 col1\" >Bandung</td>\n",
       "      <td id=\"T_31807_row3_col2\" class=\"data row3 col2\" >85</td>\n",
       "      <td id=\"T_31807_row3_col3\" class=\"data row3 col3\" >300</td>\n",
       "      <td id=\"T_31807_row3_col4\" class=\"data row3 col4\" >Sold</td>\n",
       "    </tr>\n",
       "    <tr>\n",
       "      <th id=\"T_31807_level0_row4\" class=\"row_heading level0 row4\" >4</th>\n",
       "      <td id=\"T_31807_row4_col0\" class=\"data row4 col0\" >Emina</td>\n",
       "      <td id=\"T_31807_row4_col1\" class=\"data row4 col1\" >Jakarta</td>\n",
       "      <td id=\"T_31807_row4_col2\" class=\"data row4 col2\" >75</td>\n",
       "      <td id=\"T_31807_row4_col3\" class=\"data row4 col3\" >230</td>\n",
       "      <td id=\"T_31807_row4_col4\" class=\"data row4 col4\" >Available</td>\n",
       "    </tr>\n",
       "    <tr>\n",
       "      <th id=\"T_31807_level0_row5\" class=\"row_heading level0 row5\" >5</th>\n",
       "      <td id=\"T_31807_row5_col0\" class=\"data row5 col0\" >Somethinc</td>\n",
       "      <td id=\"T_31807_row5_col1\" class=\"data row5 col1\" >Bandung</td>\n",
       "      <td id=\"T_31807_row5_col2\" class=\"data row5 col2\" >120</td>\n",
       "      <td id=\"T_31807_row5_col3\" class=\"data row5 col3\" >200</td>\n",
       "      <td id=\"T_31807_row5_col4\" class=\"data row5 col4\" >Available</td>\n",
       "    </tr>\n",
       "    <tr>\n",
       "      <th id=\"T_31807_level0_row6\" class=\"row_heading level0 row6\" >6</th>\n",
       "      <td id=\"T_31807_row6_col0\" class=\"data row6 col0\" >Azarine</td>\n",
       "      <td id=\"T_31807_row6_col1\" class=\"data row6 col1\" >Surabaya</td>\n",
       "      <td id=\"T_31807_row6_col2\" class=\"data row6 col2\" >50</td>\n",
       "      <td id=\"T_31807_row6_col3\" class=\"data row6 col3\" >180</td>\n",
       "      <td id=\"T_31807_row6_col4\" class=\"data row6 col4\" >Available</td>\n",
       "    </tr>\n",
       "    <tr>\n",
       "      <th id=\"T_31807_level0_row7\" class=\"row_heading level0 row7\" >7</th>\n",
       "      <td id=\"T_31807_row7_col0\" class=\"data row7 col0\" >Lacoco</td>\n",
       "      <td id=\"T_31807_row7_col1\" class=\"data row7 col1\" >Bandung</td>\n",
       "      <td id=\"T_31807_row7_col2\" class=\"data row7 col2\" >90</td>\n",
       "      <td id=\"T_31807_row7_col3\" class=\"data row7 col3\" >100</td>\n",
       "      <td id=\"T_31807_row7_col4\" class=\"data row7 col4\" >Sold</td>\n",
       "    </tr>\n",
       "    <tr>\n",
       "      <th id=\"T_31807_level0_row8\" class=\"row_heading level0 row8\" >8</th>\n",
       "      <td id=\"T_31807_row8_col0\" class=\"data row8 col0\" >Y.O.U</td>\n",
       "      <td id=\"T_31807_row8_col1\" class=\"data row8 col1\" >Jakarta Pusat</td>\n",
       "      <td id=\"T_31807_row8_col2\" class=\"data row8 col2\" >55</td>\n",
       "      <td id=\"T_31807_row8_col3\" class=\"data row8 col3\" >180</td>\n",
       "      <td id=\"T_31807_row8_col4\" class=\"data row8 col4\" >Available</td>\n",
       "    </tr>\n",
       "    <tr>\n",
       "      <th id=\"T_31807_level0_row9\" class=\"row_heading level0 row9\" >9</th>\n",
       "      <td id=\"T_31807_row9_col0\" class=\"data row9 col0\" >Madame Gie</td>\n",
       "      <td id=\"T_31807_row9_col1\" class=\"data row9 col1\" >Surabaya</td>\n",
       "      <td id=\"T_31807_row9_col2\" class=\"data row9 col2\" >50</td>\n",
       "      <td id=\"T_31807_row9_col3\" class=\"data row9 col3\" >200</td>\n",
       "      <td id=\"T_31807_row9_col4\" class=\"data row9 col4\" >Sold</td>\n",
       "    </tr>\n",
       "  </tbody>\n",
       "</table>\n"
      ],
      "text/plain": [
       "<pandas.io.formats.style.Styler at 0x298daadf650>"
      ]
     },
     "execution_count": 4,
     "metadata": {},
     "output_type": "execute_result"
    }
   ],
   "source": [
    "# Bagian 1: Membuat DataFrame dengan informasi yang diberikan\n",
    "data = {\n",
    "    'Brand': ['Avoskin', 'G2G', 'Skintific', 'Wardah', 'Emina', 'Somethinc', 'Azarine', 'Lacoco', 'Y.O.U', 'Madame Gie'],\n",
    "    'Cabang': ['Surabaya', 'Jakarta Pusat', 'Bandung', 'Bandung', 'Jakarta', 'Bandung', 'Surabaya', 'Bandung', 'Jakarta Pusat', 'Surabaya'],\n",
    "    'Harga (ribu)': [150, 75, 120, 85, 75, 120, 50, 90, 55, 50],\n",
    "    'Stock': [175, 160, 120, 300, 230, 200, 180, 100, 180, 200],\n",
    "    'Status': ['Sold', 'Available', 'Available', 'Sold', 'Available', 'Available', 'Available', 'Sold', 'Available', 'Sold']\n",
    "}\n",
    "\n",
    "df = pd.DataFrame(data)\n",
    "\n",
    "# Fungsi untuk mengubah warna baris secara bergantian dan menjadikan teks putih\n",
    "def color_alternating_rows(row):\n",
    "    # Menggunakan warna abu-abu untuk baris genap dan hitam untuk baris ganjil, serta teks putih\n",
    "    color = 'background-color:rgb(71, 70, 70); color: white' if row.name % 2 == 0 else 'background-color: #333333; color: white'\n",
    "    return [color] * len(row)\n",
    "\n",
    "# Menerapkan styling untuk DataFrame\n",
    "styled_df = df.style.apply(color_alternating_rows, axis=1)\n",
    "\n",
    "# Menampilkan DataFrame dengan styling\n",
    "styled_df"
   ]
  },
  {
   "cell_type": "code",
   "execution_count": 6,
   "metadata": {},
   "outputs": [
    {
     "name": "stdout",
     "output_type": "stream",
     "text": [
      "\n",
      "Ringkasan Statistik Deskriptif:\n",
      "       Harga (ribu)  Stock\n",
      "count            10     10\n",
      "mean             87    184\n",
      "std              33     55\n",
      "min              50    100\n",
      "25%              60    163\n",
      "50%              80    180\n",
      "75%             112    200\n",
      "max             150    300\n"
     ]
    }
   ],
   "source": [
    "# Bagian 2: Menampilkan ringkasan statistik deskriptif untuk kolom numerik\n",
    "def ringkasan_statistik(df):\n",
    "    statistik = df.describe().astype(int)  \n",
    "    print(\"\\nRingkasan Statistik Deskriptif:\")\n",
    "    print(statistik)\n",
    "\n",
    "# Menjalankan Bagian 2\n",
    "ringkasan_statistik(df)"
   ]
  },
  {
   "cell_type": "code",
   "execution_count": 10,
   "metadata": {},
   "outputs": [
    {
     "name": "stdout",
     "output_type": "stream",
     "text": [
      "\n",
      "3 Brand dengan Penghasilan Terbesar:\n",
      "\n",
      "       Brand  Penghasilan\n",
      "0    Avoskin        26250\n",
      "3     Wardah        25500\n",
      "5  Somethinc        24000\n"
     ]
    }
   ],
   "source": [
    "# Menentukan 3 brand dengan penghasilan terbesar (Harga x Stock)\n",
    "def penghasilan_terbesar(df):\n",
    "    # Membuat kolom baru untuk menghitung penghasilan (Harga * Stock)\n",
    "    df['Penghasilan'] = df['Harga (ribu)'] * df['Stock']\n",
    "    \n",
    "    # Mengurutkan berdasarkan penghasilan terbesar\n",
    "    df_sorted = df.sort_values(by='Penghasilan', ascending=False)\n",
    "    \n",
    "    print(\"\\n3 Brand dengan Penghasilan Terbesar:\")\n",
    "    print()\n",
    "    print(df_sorted[['Brand', 'Penghasilan']].head(3))\n",
    "\n",
    "# Menjalankan Bagian 3\n",
    "penghasilan_terbesar(df)\n"
   ]
  },
  {
   "cell_type": "code",
   "execution_count": 8,
   "metadata": {},
   "outputs": [
    {
     "name": "stdout",
     "output_type": "stream",
     "text": [
      "\n",
      "Brand yang dikelompokkan berdasarkan Harga yang Sama:\n",
      "   Harga (ribu)                 Brand\n",
      "0            50   Azarine, Madame Gie\n",
      "1            55                 Y.O.U\n",
      "2            75            G2G, Emina\n",
      "3            85                Wardah\n",
      "4            90                Lacoco\n",
      "5           120  Skintific, Somethinc\n",
      "6           150               Avoskin\n"
     ]
    }
   ],
   "source": [
    "# Mengelompokkan brand dengan harga yang sama\n",
    "def kelompokkan_harga_sama(df):\n",
    "    grup_harga = df.groupby('Harga (ribu)').agg({'Brand': ', '.join}).reset_index()\n",
    "    \n",
    "    print(\"\\nBrand yang dikelompokkan berdasarkan Harga yang Sama:\")\n",
    "    print(grup_harga)\n",
    "\n",
    "# Menjalankan Bagian 4\n",
    "kelompokkan_harga_sama(df)\n"
   ]
  },
  {
   "cell_type": "code",
   "execution_count": 9,
   "metadata": {},
   "outputs": [
    {
     "name": "stdout",
     "output_type": "stream",
     "text": [
      "\n",
      "DataFrame dengan Kategori Harga:\n",
      "        Brand  Harga (ribu) Kategori Harga\n",
      "0     Avoskin           150          Mahal\n",
      "1         G2G            75         Sedang\n",
      "2   Skintific           120          Mahal\n",
      "3      Wardah            85         Sedang\n",
      "4       Emina            75         Sedang\n",
      "5   Somethinc           120          Mahal\n",
      "6     Azarine            50          Murah\n",
      "7      Lacoco            90         Sedang\n",
      "8       Y.O.U            55          Murah\n",
      "9  Madame Gie            50          Murah\n"
     ]
    }
   ],
   "source": [
    "# Menambahkan kolom baru dengan kategori 'Murah', 'Sedang', 'Mahal'\n",
    "def kategori_harga(df):\n",
    "    # Menghitung kuartil 1 dan kuartil 3\n",
    "    Q1 = df['Harga (ribu)'].quantile(0.25)\n",
    "    Q3 = df['Harga (ribu)'].quantile(0.75)\n",
    "    \n",
    "    # Menambahkan kategori berdasarkan harga\n",
    "    def kategori(row):\n",
    "        if row['Harga (ribu)'] < Q1:\n",
    "            return 'Murah'\n",
    "        elif row['Harga (ribu)'] > Q3:\n",
    "            return 'Mahal'\n",
    "        else:\n",
    "            return 'Sedang'\n",
    "    \n",
    "    df['Kategori Harga'] = df.apply(kategori, axis=1)\n",
    "    \n",
    "    print(\"\\nDataFrame dengan Kategori Harga:\")\n",
    "    print(df[['Brand', 'Harga (ribu)', 'Kategori Harga']])\n",
    "\n",
    "# Menjalankan Bagian 5\n",
    "kategori_harga(df)\n"
   ]
  }
 ],
 "metadata": {
  "kernelspec": {
   "display_name": "Python 3",
   "language": "python",
   "name": "python3"
  },
  "language_info": {
   "codemirror_mode": {
    "name": "ipython",
    "version": 3
   },
   "file_extension": ".py",
   "mimetype": "text/x-python",
   "name": "python",
   "nbconvert_exporter": "python",
   "pygments_lexer": "ipython3",
   "version": "3.11.5"
  }
 },
 "nbformat": 4,
 "nbformat_minor": 2
}
