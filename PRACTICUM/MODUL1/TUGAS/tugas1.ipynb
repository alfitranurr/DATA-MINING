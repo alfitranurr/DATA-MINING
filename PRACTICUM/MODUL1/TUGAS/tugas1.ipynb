{
 "cells": [
  {
   "cell_type": "markdown",
   "metadata": {},
   "source": [
    "# TUGAS 1\n",
    "\n",
    "Buatlah sebuah fungsi yang menerima list sebagai parameter dan melakukan operasi berikut:\n",
    "\n",
    "1. Tambahkan 10 elemen numerik (int dan float) secara acak.\n",
    "2. Hapus elemen di indeks sesuai NIM (ganjil/genap).\n",
    "3. Balik urutan elemen dalam list.|\n",
    "4. Hapus elemen dengan nilai terbesar dari list tersebut.\n",
    "5. Urutkan elemen pada list secara descending."
   ]
  },
  {
   "cell_type": "code",
   "execution_count": 2,
   "metadata": {},
   "outputs": [],
   "source": [
    "import random"
   ]
  },
  {
   "cell_type": "code",
   "execution_count": 3,
   "metadata": {},
   "outputs": [
    {
     "name": "stdout",
     "output_type": "stream",
     "text": [
      "List setelah penambahan elemen acak: [43.08, 64, 84, 75, 72, 82, 23.27, 65, 68.45, 81]\n"
     ]
    }
   ],
   "source": [
    "def tambah_elemen_acak():\n",
    "    # Menambahkan 10 elemen acak (int dan float)\n",
    "    list_angka = [\n",
    "        random.choice([random.randint(1, 100), round(random.uniform(1, 100), 2)]) \n",
    "        for _ in range(10)\n",
    "    ]\n",
    "    print(\"List setelah penambahan elemen acak:\", list_angka)\n",
    "    return list_angka\n",
    "\n",
    "# Menjalankan bagian 1\n",
    "list_angka = tambah_elemen_acak()"
   ]
  },
  {
   "cell_type": "code",
   "execution_count": 4,
   "metadata": {},
   "outputs": [
    {
     "name": "stdout",
     "output_type": "stream",
     "text": [
      "List setelah penghapusan elemen pada indeks genap: [64, 75, 82, 65, 81]\n"
     ]
    }
   ],
   "source": [
    "def hapus_indeks_nim(nim, list_angka):\n",
    "    # Hapus elemen dengan indeks sesuai NIM (ganjil/genap)\n",
    "    if nim % 2 == 0:\n",
    "        list_angka = [elemen for i, elemen in enumerate(list_angka) if i % 2 != 0]  # Hapus indeks genap\n",
    "    else:\n",
    "        list_angka = [elemen for i, elemen in enumerate(list_angka) if i % 2 == 0]  # Hapus indeks ganjil\n",
    "    \n",
    "    # Membatasi float ke 2 angka di belakang koma\n",
    "    list_angka = [round(elemen, 2) if isinstance(elemen, float) else elemen for elemen in list_angka]\n",
    "    \n",
    "    print(\"List setelah penghapusan elemen pada indeks genap:\", list_angka)\n",
    "    return list_angka\n",
    "\n",
    "# Menjalankan bagian 2\n",
    "list_angka = hapus_indeks_nim(202210370311264, list_angka)"
   ]
  },
  {
   "cell_type": "code",
   "execution_count": null,
   "metadata": {},
   "outputs": [
    {
     "name": "stdout",
     "output_type": "stream",
     "text": [
      "List setelah dibalik urutannya: [81, 65, 82, 75, 64]\n"
     ]
    }
   ],
   "source": [
    "def balik_urutan(list_angka):\n",
    "    \n",
    "    list_angka.reverse()\n",
    "    \n",
    "    # Membatasi float ke 2 angka di belakang koma\n",
    "    list_angka = [round(elemen, 2) if isinstance(elemen, float) else elemen for elemen in list_angka]\n",
    "    \n",
    "    print(\"List setelah dibalik urutannya:\", list_angka)\n",
    "    return list_angka\n",
    "\n",
    "# Menjalankan bagian 3\n",
    "list_angka = balik_urutan(list_angka)"
   ]
  },
  {
   "cell_type": "code",
   "execution_count": 6,
   "metadata": {},
   "outputs": [
    {
     "name": "stdout",
     "output_type": "stream",
     "text": [
      "List setelah menghapus elemen terbesar (82): [81, 65, 75, 64]\n"
     ]
    }
   ],
   "source": [
    "def hapus_elemen_terbesar(list_angka):\n",
    "    # Menghapus elemen terbesar dari list\n",
    "    if list_angka:\n",
    "        max_value = max(list_angka)\n",
    "        list_angka.remove(max_value)\n",
    "        print(f\"List setelah menghapus elemen terbesar ({max_value}):\", list_angka)\n",
    "    else:\n",
    "        print(\"List kosong, tidak ada elemen yang bisa dihapus\")\n",
    "    \n",
    "    # Membatasi float ke 2 angka di belakang koma\n",
    "    list_angka = [round(elemen, 2) if isinstance(elemen, float) else elemen for elemen in list_angka]\n",
    "    \n",
    "    return list_angka\n",
    "\n",
    "# Menjalankan bagian 4\n",
    "list_angka = hapus_elemen_terbesar(list_angka)"
   ]
  },
  {
   "cell_type": "code",
   "execution_count": null,
   "metadata": {},
   "outputs": [
    {
     "name": "stdout",
     "output_type": "stream",
     "text": [
      "List setelah diurutkan secara descending: [81, 75, 65, 64]\n"
     ]
    }
   ],
   "source": [
    "def urutkan_descending(list_angka):\n",
    "    # Descending\n",
    "    list_angka.sort(reverse=True)\n",
    "    \n",
    "    # Membatasi float ke 2 angka di belakang koma\n",
    "    list_angka = [round(elemen, 2) if isinstance(elemen, float) else elemen for elemen in list_angka]\n",
    "    \n",
    "    print(\"List setelah diurutkan secara descending:\", list_angka)\n",
    "    return list_angka\n",
    "\n",
    "# Menjalankan bagian 5\n",
    "list_angka = urutkan_descending(list_angka)"
   ]
  }
 ],
 "metadata": {
  "kernelspec": {
   "display_name": "Python 3",
   "language": "python",
   "name": "python3"
  },
  "language_info": {
   "codemirror_mode": {
    "name": "ipython",
    "version": 3
   },
   "file_extension": ".py",
   "mimetype": "text/x-python",
   "name": "python",
   "nbconvert_exporter": "python",
   "pygments_lexer": "ipython3",
   "version": "3.11.5"
  }
 },
 "nbformat": 4,
 "nbformat_minor": 2
}
