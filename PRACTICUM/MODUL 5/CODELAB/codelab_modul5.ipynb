{
 "cells": [
  {
   "cell_type": "markdown",
   "id": "3ea9d985",
   "metadata": {},
   "source": [
    "# 1. Import library"
   ]
  },
  {
   "cell_type": "code",
   "execution_count": 1,
   "id": "219dfda4",
   "metadata": {},
   "outputs": [],
   "source": [
    "import pandas as pd\n",
    "import numpy as np\n",
    "import matplotlib.pyplot as plt\n",
    "import seaborn as sns\n",
    "from sklearn.preprocessing import MinMaxScaler\n",
    "from sklearn.cluster import KMeans\n",
    "from sklearn.compose import ColumnTransformer\n",
    "from sklearn.pipeline import Pipeline\n",
    "import os"
   ]
  },
  {
   "cell_type": "markdown",
   "id": "71662aee",
   "metadata": {},
   "source": [
    "# 2. Tampilkan dataset"
   ]
  },
  {
   "cell_type": "code",
   "execution_count": 2,
   "id": "1ba3766f",
   "metadata": {},
   "outputs": [
    {
     "data": {
      "application/vnd.microsoft.datawrangler.viewer.v0+json": {
       "columns": [
        {
         "name": "index",
         "rawType": "int64",
         "type": "integer"
        },
        {
         "name": "CustomerID",
         "rawType": "int64",
         "type": "integer"
        },
        {
         "name": "Gender",
         "rawType": "object",
         "type": "string"
        },
        {
         "name": "Age",
         "rawType": "int64",
         "type": "integer"
        },
        {
         "name": "Annual Income (k$)",
         "rawType": "int64",
         "type": "integer"
        },
        {
         "name": "Spending Score (1-100)",
         "rawType": "int64",
         "type": "integer"
        }
       ],
       "conversionMethod": "pd.DataFrame",
       "ref": "3106f8fd-bbd7-484b-a4e0-ddcec5f5c15d",
       "rows": [
        [
         "0",
         "1",
         "Male",
         "19",
         "15",
         "39"
        ],
        [
         "1",
         "2",
         "Male",
         "21",
         "15",
         "81"
        ],
        [
         "2",
         "3",
         "Female",
         "20",
         "16",
         "6"
        ],
        [
         "3",
         "4",
         "Female",
         "23",
         "16",
         "77"
        ],
        [
         "4",
         "5",
         "Female",
         "31",
         "17",
         "40"
        ]
       ],
       "shape": {
        "columns": 5,
        "rows": 5
       }
      },
      "text/html": [
       "<div>\n",
       "<style scoped>\n",
       "    .dataframe tbody tr th:only-of-type {\n",
       "        vertical-align: middle;\n",
       "    }\n",
       "\n",
       "    .dataframe tbody tr th {\n",
       "        vertical-align: top;\n",
       "    }\n",
       "\n",
       "    .dataframe thead th {\n",
       "        text-align: right;\n",
       "    }\n",
       "</style>\n",
       "<table border=\"1\" class=\"dataframe\">\n",
       "  <thead>\n",
       "    <tr style=\"text-align: right;\">\n",
       "      <th></th>\n",
       "      <th>CustomerID</th>\n",
       "      <th>Gender</th>\n",
       "      <th>Age</th>\n",
       "      <th>Annual Income (k$)</th>\n",
       "      <th>Spending Score (1-100)</th>\n",
       "    </tr>\n",
       "  </thead>\n",
       "  <tbody>\n",
       "    <tr>\n",
       "      <th>0</th>\n",
       "      <td>1</td>\n",
       "      <td>Male</td>\n",
       "      <td>19</td>\n",
       "      <td>15</td>\n",
       "      <td>39</td>\n",
       "    </tr>\n",
       "    <tr>\n",
       "      <th>1</th>\n",
       "      <td>2</td>\n",
       "      <td>Male</td>\n",
       "      <td>21</td>\n",
       "      <td>15</td>\n",
       "      <td>81</td>\n",
       "    </tr>\n",
       "    <tr>\n",
       "      <th>2</th>\n",
       "      <td>3</td>\n",
       "      <td>Female</td>\n",
       "      <td>20</td>\n",
       "      <td>16</td>\n",
       "      <td>6</td>\n",
       "    </tr>\n",
       "    <tr>\n",
       "      <th>3</th>\n",
       "      <td>4</td>\n",
       "      <td>Female</td>\n",
       "      <td>23</td>\n",
       "      <td>16</td>\n",
       "      <td>77</td>\n",
       "    </tr>\n",
       "    <tr>\n",
       "      <th>4</th>\n",
       "      <td>5</td>\n",
       "      <td>Female</td>\n",
       "      <td>31</td>\n",
       "      <td>17</td>\n",
       "      <td>40</td>\n",
       "    </tr>\n",
       "  </tbody>\n",
       "</table>\n",
       "</div>"
      ],
      "text/plain": [
       "   CustomerID  Gender  Age  Annual Income (k$)  Spending Score (1-100)\n",
       "0           1    Male   19                  15                      39\n",
       "1           2    Male   21                  15                      81\n",
       "2           3  Female   20                  16                       6\n",
       "3           4  Female   23                  16                      77\n",
       "4           5  Female   31                  17                      40"
      ]
     },
     "execution_count": 2,
     "metadata": {},
     "output_type": "execute_result"
    }
   ],
   "source": [
    "df = pd.read_csv('codelab5.csv')\n",
    "df.head()"
   ]
  },
  {
   "cell_type": "markdown",
   "id": "33905752",
   "metadata": {},
   "source": [
    "# 3. Lakukan EDA secukupnya"
   ]
  },
  {
   "cell_type": "code",
   "execution_count": 3,
   "id": "99e49294",
   "metadata": {},
   "outputs": [
    {
     "name": "stdout",
     "output_type": "stream",
     "text": [
      "<class 'pandas.core.frame.DataFrame'>\n",
      "RangeIndex: 200 entries, 0 to 199\n",
      "Data columns (total 5 columns):\n",
      " #   Column                  Non-Null Count  Dtype \n",
      "---  ------                  --------------  ----- \n",
      " 0   CustomerID              200 non-null    int64 \n",
      " 1   Gender                  200 non-null    object\n",
      " 2   Age                     200 non-null    int64 \n",
      " 3   Annual Income (k$)      200 non-null    int64 \n",
      " 4   Spending Score (1-100)  200 non-null    int64 \n",
      "dtypes: int64(4), object(1)\n",
      "memory usage: 7.9+ KB\n"
     ]
    }
   ],
   "source": [
    "df.info()"
   ]
  },
  {
   "cell_type": "code",
   "execution_count": 4,
   "id": "31d20719",
   "metadata": {},
   "outputs": [
    {
     "data": {
      "application/vnd.microsoft.datawrangler.viewer.v0+json": {
       "columns": [
        {
         "name": "index",
         "rawType": "object",
         "type": "string"
        },
        {
         "name": "CustomerID",
         "rawType": "float64",
         "type": "float"
        },
        {
         "name": "Age",
         "rawType": "float64",
         "type": "float"
        },
        {
         "name": "Annual Income (k$)",
         "rawType": "float64",
         "type": "float"
        },
        {
         "name": "Spending Score (1-100)",
         "rawType": "float64",
         "type": "float"
        }
       ],
       "conversionMethod": "pd.DataFrame",
       "ref": "183fd0cd-4060-473e-9f29-1b42f9b4b429",
       "rows": [
        [
         "count",
         "200.0",
         "200.0",
         "200.0",
         "200.0"
        ],
        [
         "mean",
         "100.5",
         "38.85",
         "60.56",
         "50.2"
        ],
        [
         "std",
         "57.879184513951124",
         "13.96900733155888",
         "26.264721165271244",
         "25.823521668370173"
        ],
        [
         "min",
         "1.0",
         "18.0",
         "15.0",
         "1.0"
        ],
        [
         "25%",
         "50.75",
         "28.75",
         "41.5",
         "34.75"
        ],
        [
         "50%",
         "100.5",
         "36.0",
         "61.5",
         "50.0"
        ],
        [
         "75%",
         "150.25",
         "49.0",
         "78.0",
         "73.0"
        ],
        [
         "max",
         "200.0",
         "70.0",
         "137.0",
         "99.0"
        ]
       ],
       "shape": {
        "columns": 4,
        "rows": 8
       }
      },
      "text/html": [
       "<div>\n",
       "<style scoped>\n",
       "    .dataframe tbody tr th:only-of-type {\n",
       "        vertical-align: middle;\n",
       "    }\n",
       "\n",
       "    .dataframe tbody tr th {\n",
       "        vertical-align: top;\n",
       "    }\n",
       "\n",
       "    .dataframe thead th {\n",
       "        text-align: right;\n",
       "    }\n",
       "</style>\n",
       "<table border=\"1\" class=\"dataframe\">\n",
       "  <thead>\n",
       "    <tr style=\"text-align: right;\">\n",
       "      <th></th>\n",
       "      <th>CustomerID</th>\n",
       "      <th>Age</th>\n",
       "      <th>Annual Income (k$)</th>\n",
       "      <th>Spending Score (1-100)</th>\n",
       "    </tr>\n",
       "  </thead>\n",
       "  <tbody>\n",
       "    <tr>\n",
       "      <th>count</th>\n",
       "      <td>200.000000</td>\n",
       "      <td>200.000000</td>\n",
       "      <td>200.000000</td>\n",
       "      <td>200.000000</td>\n",
       "    </tr>\n",
       "    <tr>\n",
       "      <th>mean</th>\n",
       "      <td>100.500000</td>\n",
       "      <td>38.850000</td>\n",
       "      <td>60.560000</td>\n",
       "      <td>50.200000</td>\n",
       "    </tr>\n",
       "    <tr>\n",
       "      <th>std</th>\n",
       "      <td>57.879185</td>\n",
       "      <td>13.969007</td>\n",
       "      <td>26.264721</td>\n",
       "      <td>25.823522</td>\n",
       "    </tr>\n",
       "    <tr>\n",
       "      <th>min</th>\n",
       "      <td>1.000000</td>\n",
       "      <td>18.000000</td>\n",
       "      <td>15.000000</td>\n",
       "      <td>1.000000</td>\n",
       "    </tr>\n",
       "    <tr>\n",
       "      <th>25%</th>\n",
       "      <td>50.750000</td>\n",
       "      <td>28.750000</td>\n",
       "      <td>41.500000</td>\n",
       "      <td>34.750000</td>\n",
       "    </tr>\n",
       "    <tr>\n",
       "      <th>50%</th>\n",
       "      <td>100.500000</td>\n",
       "      <td>36.000000</td>\n",
       "      <td>61.500000</td>\n",
       "      <td>50.000000</td>\n",
       "    </tr>\n",
       "    <tr>\n",
       "      <th>75%</th>\n",
       "      <td>150.250000</td>\n",
       "      <td>49.000000</td>\n",
       "      <td>78.000000</td>\n",
       "      <td>73.000000</td>\n",
       "    </tr>\n",
       "    <tr>\n",
       "      <th>max</th>\n",
       "      <td>200.000000</td>\n",
       "      <td>70.000000</td>\n",
       "      <td>137.000000</td>\n",
       "      <td>99.000000</td>\n",
       "    </tr>\n",
       "  </tbody>\n",
       "</table>\n",
       "</div>"
      ],
      "text/plain": [
       "       CustomerID         Age  Annual Income (k$)  Spending Score (1-100)\n",
       "count  200.000000  200.000000          200.000000              200.000000\n",
       "mean   100.500000   38.850000           60.560000               50.200000\n",
       "std     57.879185   13.969007           26.264721               25.823522\n",
       "min      1.000000   18.000000           15.000000                1.000000\n",
       "25%     50.750000   28.750000           41.500000               34.750000\n",
       "50%    100.500000   36.000000           61.500000               50.000000\n",
       "75%    150.250000   49.000000           78.000000               73.000000\n",
       "max    200.000000   70.000000          137.000000               99.000000"
      ]
     },
     "execution_count": 4,
     "metadata": {},
     "output_type": "execute_result"
    }
   ],
   "source": [
    "df.describe()"
   ]
  },
  {
   "cell_type": "code",
   "execution_count": 5,
   "id": "09a1a3e2",
   "metadata": {},
   "outputs": [
    {
     "data": {
      "text/plain": [
       "CustomerID                0\n",
       "Gender                    0\n",
       "Age                       0\n",
       "Annual Income (k$)        0\n",
       "Spending Score (1-100)    0\n",
       "dtype: int64"
      ]
     },
     "execution_count": 5,
     "metadata": {},
     "output_type": "execute_result"
    }
   ],
   "source": [
    "df.isnull().sum()"
   ]
  },
  {
   "cell_type": "code",
   "execution_count": 6,
   "id": "968893c2",
   "metadata": {},
   "outputs": [
    {
     "name": "stdout",
     "output_type": "stream",
     "text": [
      "\n",
      "Duplicated Rows:\n",
      "Number of duplicated rows: 0\n"
     ]
    }
   ],
   "source": [
    "print(\"\\nDuplicated Rows:\")\n",
    "duplicates = df.duplicated()\n",
    "print(f\"Number of duplicated rows: {duplicates.sum()}\")\n",
    "if duplicates.sum() > 0:\n",
    "    print(\"\\nDuplicated rows details:\")\n",
    "    df[duplicates]"
   ]
  },
  {
   "cell_type": "code",
   "execution_count": 7,
   "id": "663450bf",
   "metadata": {},
   "outputs": [
    {
     "name": "stdout",
     "output_type": "stream",
     "text": [
      "\n",
      "Duplicated Rows in CustomerID:\n",
      "Number of duplicated CustomerID: 0\n"
     ]
    }
   ],
   "source": [
    "print(\"\\nDuplicated Rows in CustomerID:\")\n",
    "duplicates = df.duplicated(subset=['CustomerID'])\n",
    "print(f\"Number of duplicated CustomerID: {duplicates.sum()}\")\n",
    "if duplicates.sum() > 0:\n",
    "    print(\"\\nDuplicated CustomerID details:\")\n",
    "    df[duplicates][['CustomerID']]"
   ]
  },
  {
   "cell_type": "code",
   "execution_count": 8,
   "id": "e10a4119",
   "metadata": {},
   "outputs": [
    {
     "name": "stdout",
     "output_type": "stream",
     "text": [
      "\n",
      "Gender Distribution:\n"
     ]
    },
    {
     "data": {
      "text/plain": [
       "Gender\n",
       "Female    112\n",
       "Male       88\n",
       "Name: count, dtype: int64"
      ]
     },
     "execution_count": 8,
     "metadata": {},
     "output_type": "execute_result"
    }
   ],
   "source": [
    "print(\"\\nGender Distribution:\")\n",
    "df['Gender'].value_counts()"
   ]
  },
  {
   "cell_type": "code",
   "execution_count": 9,
   "id": "a7b72cfc",
   "metadata": {},
   "outputs": [
    {
     "name": "stdout",
     "output_type": "stream",
     "text": [
      "\n",
      "Correlation Matrix for Numerical Features:\n"
     ]
    },
    {
     "data": {
      "application/vnd.microsoft.datawrangler.viewer.v0+json": {
       "columns": [
        {
         "name": "index",
         "rawType": "object",
         "type": "string"
        },
        {
         "name": "Age",
         "rawType": "float64",
         "type": "float"
        },
        {
         "name": "Annual Income (k$)",
         "rawType": "float64",
         "type": "float"
        },
        {
         "name": "Spending Score (1-100)",
         "rawType": "float64",
         "type": "float"
        }
       ],
       "conversionMethod": "pd.DataFrame",
       "ref": "7876421b-3d60-4903-acd6-5fde59e130a7",
       "rows": [
        [
         "Age",
         "1.0",
         "-0.01239804273606026",
         "-0.32722684603909025"
        ],
        [
         "Annual Income (k$)",
         "-0.01239804273606026",
         "1.0",
         "0.009902848094037497"
        ],
        [
         "Spending Score (1-100)",
         "-0.32722684603909025",
         "0.009902848094037497",
         "1.0"
        ]
       ],
       "shape": {
        "columns": 3,
        "rows": 3
       }
      },
      "text/html": [
       "<div>\n",
       "<style scoped>\n",
       "    .dataframe tbody tr th:only-of-type {\n",
       "        vertical-align: middle;\n",
       "    }\n",
       "\n",
       "    .dataframe tbody tr th {\n",
       "        vertical-align: top;\n",
       "    }\n",
       "\n",
       "    .dataframe thead th {\n",
       "        text-align: right;\n",
       "    }\n",
       "</style>\n",
       "<table border=\"1\" class=\"dataframe\">\n",
       "  <thead>\n",
       "    <tr style=\"text-align: right;\">\n",
       "      <th></th>\n",
       "      <th>Age</th>\n",
       "      <th>Annual Income (k$)</th>\n",
       "      <th>Spending Score (1-100)</th>\n",
       "    </tr>\n",
       "  </thead>\n",
       "  <tbody>\n",
       "    <tr>\n",
       "      <th>Age</th>\n",
       "      <td>1.000000</td>\n",
       "      <td>-0.012398</td>\n",
       "      <td>-0.327227</td>\n",
       "    </tr>\n",
       "    <tr>\n",
       "      <th>Annual Income (k$)</th>\n",
       "      <td>-0.012398</td>\n",
       "      <td>1.000000</td>\n",
       "      <td>0.009903</td>\n",
       "    </tr>\n",
       "    <tr>\n",
       "      <th>Spending Score (1-100)</th>\n",
       "      <td>-0.327227</td>\n",
       "      <td>0.009903</td>\n",
       "      <td>1.000000</td>\n",
       "    </tr>\n",
       "  </tbody>\n",
       "</table>\n",
       "</div>"
      ],
      "text/plain": [
       "                             Age  Annual Income (k$)  Spending Score (1-100)\n",
       "Age                     1.000000           -0.012398               -0.327227\n",
       "Annual Income (k$)     -0.012398            1.000000                0.009903\n",
       "Spending Score (1-100) -0.327227            0.009903                1.000000"
      ]
     },
     "execution_count": 9,
     "metadata": {},
     "output_type": "execute_result"
    }
   ],
   "source": [
    "print(\"\\nCorrelation Matrix for Numerical Features:\")\n",
    "numerical_cols = ['Age', 'Annual Income (k$)', 'Spending Score (1-100)']\n",
    "correlation_matrix = df[numerical_cols].corr()\n",
    "correlation_matrix"
   ]
  },
  {
   "cell_type": "code",
   "execution_count": 10,
   "id": "00583f7b",
   "metadata": {},
   "outputs": [
    {
     "data": {
      "text/plain": [
       "['CustomerID', 'Gender', 'Age', 'Annual Income (k$)', 'Spending Score (1-100)']"
      ]
     },
     "execution_count": 10,
     "metadata": {},
     "output_type": "execute_result"
    }
   ],
   "source": [
    "column_names = df.columns.tolist()\n",
    "column_names"
   ]
  },
  {
   "cell_type": "markdown",
   "id": "eb988027",
   "metadata": {},
   "source": [
    "# 4. Buat visualisasi data"
   ]
  },
  {
   "cell_type": "code",
   "execution_count": 11,
   "id": "679a13ba",
   "metadata": {},
   "outputs": [],
   "source": [
    "os.makedirs('Visualisasi', exist_ok=True)"
   ]
  },
  {
   "cell_type": "code",
   "execution_count": null,
   "id": "2bf1266e",
   "metadata": {},
   "outputs": [
    {
     "data": {
      "image/png": "[encoded data removed]",
      "text/plain": [
       "<Figure size 1000x500 with 1 Axes>"
      ]
     },
     "metadata": {},
     "output_type": "display_data"
    }
   ],
   "source": [
    "plt.figure(figsize=(10, 5))\n",
    "sns.histplot(df['Age'], bins=20, kde=True)\n",
    "plt.title('Age Distribution')\n",
    "plt.savefig('Visualisasi/age_distribution.png')\n",
    "plt.show()\n",
    "plt.close()"
   ]
  },
  {
   "cell_type": "code",
   "execution_count": null,
   "id": "eec492fd",
   "metadata": {},
   "outputs": [
    {
     "data": {
      "image/png": "[encoded data removed]",
      "text/plain": [
       "<Figure size 1000x500 with 1 Axes>"
      ]
     },
     "metadata": {},
     "output_type": "display_data"
    }
   ],
   "source": [
    "plt.figure(figsize=(10, 5))\n",
    "sns.histplot(df['Annual Income (k$)'], bins=20, kde=True)\n",
    "plt.title('Annual Income Distribution')\n",
    "plt.savefig('Visualisasi/income_distribution.png')\n",
    "plt.show()\n",
    "plt.close()"
   ]
  },
  {
   "cell_type": "code",
   "execution_count": null,
   "id": "8bea7c5a",
   "metadata": {},
   "outputs": [
    {
     "data": {
      "image/png": "[encoded data removed]",
      "text/plain": [
       "<Figure size 1000x500 with 1 Axes>"
      ]
     },
     "metadata": {},
     "output_type": "display_data"
    }
   ],
   "source": [
    "plt.figure(figsize=(10, 5))\n",
    "sns.histplot(df['Spending Score (1-100)'], bins=20, kde=True)\n",
    "plt.title('Spending Score Distribution')\n",
    "plt.savefig('Visualisasi/spending_score_distribution.png')\n",
    "plt.show()\n",
    "plt.close()"
   ]
  },
  {
   "cell_type": "code",
   "execution_count": null,
   "id": "f6e0e523",
   "metadata": {},
   "outputs": [
    {
     "data": {
      "image/png": "[encoded data removed]",
      "text/plain": [
       "<Figure size 1000x800 with 1 Axes>"
      ]
     },
     "metadata": {},
     "output_type": "display_data"
    }
   ],
   "source": [
    "plt.figure(figsize=(10, 8))\n",
    "sns.scatterplot(data=df, x='Annual Income (k$)', y='Spending Score (1-100)', \n",
    "                hue='Gender', size='Age', sizes=(20, 200))\n",
    "plt.title('Annual Income vs Spending Score by Gender and Age')\n",
    "plt.savefig('Visualisasi/scatter_plot.png')\n",
    "plt.show()\n",
    "plt.close()"
   ]
  },
  {
   "cell_type": "markdown",
   "id": "f702c652",
   "metadata": {},
   "source": [
    "# 5. Preprocessing Data"
   ]
  },
  {
   "cell_type": "code",
   "execution_count": 17,
   "id": "f6593193",
   "metadata": {},
   "outputs": [],
   "source": [
    "df_encoded = pd.get_dummies(df, columns=['Gender'], prefix='Gender', dtype=int)"
   ]
  },
  {
   "cell_type": "code",
   "execution_count": 18,
   "id": "a139cce9",
   "metadata": {},
   "outputs": [
    {
     "name": "stdout",
     "output_type": "stream",
     "text": [
      "DataFrame after one-hot encoding for Gender:\n"
     ]
    },
    {
     "data": {
      "application/vnd.microsoft.datawrangler.viewer.v0+json": {
       "columns": [
        {
         "name": "index",
         "rawType": "int64",
         "type": "integer"
        },
        {
         "name": "CustomerID",
         "rawType": "int64",
         "type": "integer"
        },
        {
         "name": "Age",
         "rawType": "int64",
         "type": "integer"
        },
        {
         "name": "Annual Income (k$)",
         "rawType": "int64",
         "type": "integer"
        },
        {
         "name": "Spending Score (1-100)",
         "rawType": "int64",
         "type": "integer"
        },
        {
         "name": "Gender_Female",
         "rawType": "int64",
         "type": "integer"
        },
        {
         "name": "Gender_Male",
         "rawType": "int64",
         "type": "integer"
        }
       ],
       "conversionMethod": "pd.DataFrame",
       "ref": "48febfca-1e24-4154-ad72-2eef8c34377a",
       "rows": [
        [
         "0",
         "1",
         "19",
         "15",
         "39",
         "0",
         "1"
        ],
        [
         "1",
         "2",
         "21",
         "15",
         "81",
         "0",
         "1"
        ],
        [
         "2",
         "3",
         "20",
         "16",
         "6",
         "1",
         "0"
        ],
        [
         "3",
         "4",
         "23",
         "16",
         "77",
         "1",
         "0"
        ],
        [
         "4",
         "5",
         "31",
         "17",
         "40",
         "1",
         "0"
        ]
       ],
       "shape": {
        "columns": 6,
        "rows": 5
       }
      },
      "text/html": [
       "<div>\n",
       "<style scoped>\n",
       "    .dataframe tbody tr th:only-of-type {\n",
       "        vertical-align: middle;\n",
       "    }\n",
       "\n",
       "    .dataframe tbody tr th {\n",
       "        vertical-align: top;\n",
       "    }\n",
       "\n",
       "    .dataframe thead th {\n",
       "        text-align: right;\n",
       "    }\n",
       "</style>\n",
       "<table border=\"1\" class=\"dataframe\">\n",
       "  <thead>\n",
       "    <tr style=\"text-align: right;\">\n",
       "      <th></th>\n",
       "      <th>CustomerID</th>\n",
       "      <th>Age</th>\n",
       "      <th>Annual Income (k$)</th>\n",
       "      <th>Spending Score (1-100)</th>\n",
       "      <th>Gender_Female</th>\n",
       "      <th>Gender_Male</th>\n",
       "    </tr>\n",
       "  </thead>\n",
       "  <tbody>\n",
       "    <tr>\n",
       "      <th>0</th>\n",
       "      <td>1</td>\n",
       "      <td>19</td>\n",
       "      <td>15</td>\n",
       "      <td>39</td>\n",
       "      <td>0</td>\n",
       "      <td>1</td>\n",
       "    </tr>\n",
       "    <tr>\n",
       "      <th>1</th>\n",
       "      <td>2</td>\n",
       "      <td>21</td>\n",
       "      <td>15</td>\n",
       "      <td>81</td>\n",
       "      <td>0</td>\n",
       "      <td>1</td>\n",
       "    </tr>\n",
       "    <tr>\n",
       "      <th>2</th>\n",
       "      <td>3</td>\n",
       "      <td>20</td>\n",
       "      <td>16</td>\n",
       "      <td>6</td>\n",
       "      <td>1</td>\n",
       "      <td>0</td>\n",
       "    </tr>\n",
       "    <tr>\n",
       "      <th>3</th>\n",
       "      <td>4</td>\n",
       "      <td>23</td>\n",
       "      <td>16</td>\n",
       "      <td>77</td>\n",
       "      <td>1</td>\n",
       "      <td>0</td>\n",
       "    </tr>\n",
       "    <tr>\n",
       "      <th>4</th>\n",
       "      <td>5</td>\n",
       "      <td>31</td>\n",
       "      <td>17</td>\n",
       "      <td>40</td>\n",
       "      <td>1</td>\n",
       "      <td>0</td>\n",
       "    </tr>\n",
       "  </tbody>\n",
       "</table>\n",
       "</div>"
      ],
      "text/plain": [
       "   CustomerID  Age  Annual Income (k$)  Spending Score (1-100)  Gender_Female  \\\n",
       "0           1   19                  15                      39              0   \n",
       "1           2   21                  15                      81              0   \n",
       "2           3   20                  16                       6              1   \n",
       "3           4   23                  16                      77              1   \n",
       "4           5   31                  17                      40              1   \n",
       "\n",
       "   Gender_Male  \n",
       "0            1  \n",
       "1            1  \n",
       "2            0  \n",
       "3            0  \n",
       "4            0  "
      ]
     },
     "execution_count": 18,
     "metadata": {},
     "output_type": "execute_result"
    }
   ],
   "source": [
    "print(\"DataFrame after one-hot encoding for Gender:\")\n",
    "df_encoded.head()"
   ]
  },
  {
   "cell_type": "code",
   "execution_count": 20,
   "id": "e290e91f",
   "metadata": {},
   "outputs": [],
   "source": [
    "scaler = MinMaxScaler()\n",
    "df_encoded[['Age', 'Annual Income (k$)', 'Spending Score (1-100)']] = scaler.fit_transform(\n",
    "    df_encoded[['Age', 'Annual Income (k$)', 'Spending Score (1-100)']])"
   ]
  },
  {
   "cell_type": "code",
   "execution_count": null,
   "id": "08754d40",
   "metadata": {},
   "outputs": [
    {
     "name": "stdout",
     "output_type": "stream",
     "text": [
      "DataFrame after normalizing numerical features:\n"
     ]
    },
    {
     "data": {
      "application/vnd.microsoft.datawrangler.viewer.v0+json": {
       "columns": [
        {
         "name": "index",
         "rawType": "int64",
         "type": "integer"
        },
        {
         "name": "CustomerID",
         "rawType": "int64",
         "type": "integer"
        },
        {
         "name": "Age",
         "rawType": "float64",
         "type": "float"
        },
        {
         "name": "Annual Income",
         "rawType": "float64",
         "type": "float"
        },
        {
         "name": "Spending Score (1-100)",
         "rawType": "float64",
         "type": "float"
        },
        {
         "name": "Gender_Female",
         "rawType": "int64",
         "type": "integer"
        },
        {
         "name": "Gender_Male",
         "rawType": "int64",
         "type": "integer"
        }
       ],
       "conversionMethod": "pd.DataFrame",
       "ref": "ed75f18f-f6af-4810-933f-1a980ea35afa",
       "rows": [
        [
         "0",
         "1",
         "0.019230769230769273",
         "0.0",
         "0.38775510204081637",
         "0",
         "1"
        ],
        [
         "1",
         "2",
         "0.05769230769230771",
         "0.0",
         "0.816326530612245",
         "0",
         "1"
        ],
        [
         "2",
         "3",
         "0.03846153846153849",
         "0.008196721311475405",
         "0.05102040816326532",
         "1",
         "0"
        ],
        [
         "3",
         "4",
         "0.0961538461538462",
         "0.008196721311475405",
         "0.7755102040816328",
         "1",
         "0"
        ],
        [
         "4",
         "5",
         "0.25",
         "0.016393442622950824",
         "0.39795918367346944",
         "1",
         "0"
        ],
        [
         "5",
         "6",
         "0.07692307692307698",
         "0.016393442622950824",
         "0.7653061224489798",
         "1",
         "0"
        ],
        [
         "6",
         "7",
         "0.326923076923077",
         "0.024590163934426215",
         "0.05102040816326532",
         "1",
         "0"
        ],
        [
         "7",
         "8",
         "0.0961538461538462",
         "0.024590163934426215",
         "0.9489795918367349",
         "1",
         "0"
        ],
        [
         "8",
         "9",
         "0.8846153846153847",
         "0.032786885245901634",
         "0.020408163265306128",
         "0",
         "1"
        ],
        [
         "9",
         "10",
         "0.23076923076923084",
         "0.032786885245901634",
         "0.7244897959183674",
         "1",
         "0"
        ],
        [
         "10",
         "11",
         "0.9423076923076924",
         "0.032786885245901634",
         "0.1326530612244898",
         "0",
         "1"
        ],
        [
         "11",
         "12",
         "0.326923076923077",
         "0.032786885245901634",
         "1.0",
         "1",
         "0"
        ],
        [
         "12",
         "13",
         "0.7692307692307693",
         "0.04098360655737705",
         "0.14285714285714285",
         "1",
         "0"
        ],
        [
         "13",
         "14",
         "0.11538461538461542",
         "0.04098360655737705",
         "0.7755102040816328",
         "1",
         "0"
        ],
        [
         "14",
         "15",
         "0.3653846153846154",
         "0.04098360655737705",
         "0.12244897959183675",
         "0",
         "1"
        ],
        [
         "15",
         "16",
         "0.07692307692307698",
         "0.04098360655737705",
         "0.7959183673469389",
         "0",
         "1"
        ],
        [
         "16",
         "17",
         "0.326923076923077",
         "0.049180327868852444",
         "0.3469387755102041",
         "1",
         "0"
        ],
        [
         "17",
         "18",
         "0.03846153846153849",
         "0.049180327868852444",
         "0.663265306122449",
         "0",
         "1"
        ],
        [
         "18",
         "19",
         "0.6538461538461539",
         "0.06557377049180328",
         "0.28571428571428575",
         "0",
         "1"
        ],
        [
         "19",
         "20",
         "0.326923076923077",
         "0.06557377049180328",
         "0.989795918367347",
         "1",
         "0"
        ],
        [
         "20",
         "21",
         "0.326923076923077",
         "0.07377049180327867",
         "0.3469387755102041",
         "0",
         "1"
        ],
        [
         "21",
         "22",
         "0.13461538461538464",
         "0.07377049180327867",
         "0.7346938775510204",
         "0",
         "1"
        ],
        [
         "22",
         "23",
         "0.5384615384615385",
         "0.08196721311475409",
         "0.04081632653061225",
         "1",
         "0"
        ],
        [
         "23",
         "24",
         "0.25",
         "0.08196721311475409",
         "0.7346938775510204",
         "0",
         "1"
        ],
        [
         "24",
         "25",
         "0.6923076923076924",
         "0.10655737704918032",
         "0.1326530612244898",
         "1",
         "0"
        ],
        [
         "25",
         "26",
         "0.21153846153846156",
         "0.10655737704918032",
         "0.8265306122448981",
         "0",
         "1"
        ],
        [
         "26",
         "27",
         "0.5192307692307693",
         "0.10655737704918032",
         "0.3163265306122449",
         "1",
         "0"
        ],
        [
         "27",
         "28",
         "0.326923076923077",
         "0.10655737704918032",
         "0.6122448979591837",
         "0",
         "1"
        ],
        [
         "28",
         "29",
         "0.42307692307692313",
         "0.11475409836065574",
         "0.30612244897959184",
         "1",
         "0"
        ],
        [
         "29",
         "30",
         "0.0961538461538462",
         "0.11475409836065574",
         "0.8775510204081634",
         "1",
         "0"
        ],
        [
         "30",
         "31",
         "0.8076923076923078",
         "0.12295081967213116",
         "0.03061224489795919",
         "0",
         "1"
        ],
        [
         "31",
         "32",
         "0.05769230769230771",
         "0.12295081967213116",
         "0.7346938775510204",
         "1",
         "0"
        ],
        [
         "32",
         "33",
         "0.6730769230769232",
         "0.14754098360655737",
         "0.03061224489795919",
         "0",
         "1"
        ],
        [
         "33",
         "34",
         "0.0",
         "0.14754098360655737",
         "0.9285714285714287",
         "0",
         "1"
        ],
        [
         "34",
         "35",
         "0.5961538461538463",
         "0.14754098360655737",
         "0.1326530612244898",
         "1",
         "0"
        ],
        [
         "35",
         "36",
         "0.05769230769230771",
         "0.14754098360655737",
         "0.816326530612245",
         "1",
         "0"
        ],
        [
         "36",
         "37",
         "0.46153846153846156",
         "0.1557377049180328",
         "0.163265306122449",
         "1",
         "0"
        ],
        [
         "37",
         "38",
         "0.23076923076923084",
         "0.1557377049180328",
         "0.7346938775510204",
         "1",
         "0"
        ],
        [
         "38",
         "39",
         "0.34615384615384615",
         "0.180327868852459",
         "0.25510204081632654",
         "1",
         "0"
        ],
        [
         "39",
         "40",
         "0.03846153846153849",
         "0.180327868852459",
         "0.7551020408163267",
         "1",
         "0"
        ],
        [
         "40",
         "41",
         "0.9038461538461539",
         "0.1885245901639344",
         "0.3469387755102041",
         "1",
         "0"
        ],
        [
         "41",
         "42",
         "0.11538461538461542",
         "0.1885245901639344",
         "0.9285714285714287",
         "0",
         "1"
        ],
        [
         "42",
         "43",
         "0.576923076923077",
         "0.19672131147540983",
         "0.35714285714285715",
         "0",
         "1"
        ],
        [
         "43",
         "44",
         "0.25",
         "0.19672131147540983",
         "0.6122448979591837",
         "1",
         "0"
        ],
        [
         "44",
         "45",
         "0.5961538461538463",
         "0.19672131147540983",
         "0.2755102040816327",
         "1",
         "0"
        ],
        [
         "45",
         "46",
         "0.11538461538461542",
         "0.19672131147540983",
         "0.653061224489796",
         "1",
         "0"
        ],
        [
         "46",
         "47",
         "0.6153846153846154",
         "0.20491803278688525",
         "0.5510204081632654",
         "1",
         "0"
        ],
        [
         "47",
         "48",
         "0.17307692307692313",
         "0.20491803278688525",
         "0.4693877551020409",
         "1",
         "0"
        ],
        [
         "48",
         "49",
         "0.21153846153846156",
         "0.20491803278688525",
         "0.4183673469387756",
         "1",
         "0"
        ],
        [
         "49",
         "50",
         "0.25",
         "0.20491803278688525",
         "0.4183673469387756",
         "1",
         "0"
        ]
       ],
       "shape": {
        "columns": 6,
        "rows": 200
       }
      },
      "text/html": [
       "<div>\n",
       "<style scoped>\n",
       "    .dataframe tbody tr th:only-of-type {\n",
       "        vertical-align: middle;\n",
       "    }\n",
       "\n",
       "    .dataframe tbody tr th {\n",
       "        vertical-align: top;\n",
       "    }\n",
       "\n",
       "    .dataframe thead th {\n",
       "        text-align: right;\n",
       "    }\n",
       "</style>\n",
       "<table border=\"1\" class=\"dataframe\">\n",
       "  <thead>\n",
       "    <tr style=\"text-align: right;\">\n",
       "      <th></th>\n",
       "      <th>CustomerID</th>\n",
       "      <th>Age</th>\n",
       "      <th>Annual Income</th>\n",
       "      <th>Spending Score (1-100)</th>\n",
       "      <th>Gender_Female</th>\n",
       "      <th>Gender_Male</th>\n",
       "    </tr>\n",
       "  </thead>\n",
       "  <tbody>\n",
       "    <tr>\n",
       "      <th>0</th>\n",
       "      <td>1</td>\n",
       "      <td>0.019231</td>\n",
       "      <td>0.000000</td>\n",
       "      <td>0.387755</td>\n",
       "      <td>0</td>\n",
       "      <td>1</td>\n",
       "    </tr>\n",
       "    <tr>\n",
       "      <th>1</th>\n",
       "      <td>2</td>\n",
       "      <td>0.057692</td>\n",
       "      <td>0.000000</td>\n",
       "      <td>0.816327</td>\n",
       "      <td>0</td>\n",
       "      <td>1</td>\n",
       "    </tr>\n",
       "    <tr>\n",
       "      <th>2</th>\n",
       "      <td>3</td>\n",
       "      <td>0.038462</td>\n",
       "      <td>0.008197</td>\n",
       "      <td>0.051020</td>\n",
       "      <td>1</td>\n",
       "      <td>0</td>\n",
       "    </tr>\n",
       "    <tr>\n",
       "      <th>3</th>\n",
       "      <td>4</td>\n",
       "      <td>0.096154</td>\n",
       "      <td>0.008197</td>\n",
       "      <td>0.775510</td>\n",
       "      <td>1</td>\n",
       "      <td>0</td>\n",
       "    </tr>\n",
       "    <tr>\n",
       "      <th>4</th>\n",
       "      <td>5</td>\n",
       "      <td>0.250000</td>\n",
       "      <td>0.016393</td>\n",
       "      <td>0.397959</td>\n",
       "      <td>1</td>\n",
       "      <td>0</td>\n",
       "    </tr>\n",
       "    <tr>\n",
       "      <th>...</th>\n",
       "      <td>...</td>\n",
       "      <td>...</td>\n",
       "      <td>...</td>\n",
       "      <td>...</td>\n",
       "      <td>...</td>\n",
       "      <td>...</td>\n",
       "    </tr>\n",
       "    <tr>\n",
       "      <th>195</th>\n",
       "      <td>196</td>\n",
       "      <td>0.326923</td>\n",
       "      <td>0.860656</td>\n",
       "      <td>0.795918</td>\n",
       "      <td>1</td>\n",
       "      <td>0</td>\n",
       "    </tr>\n",
       "    <tr>\n",
       "      <th>196</th>\n",
       "      <td>197</td>\n",
       "      <td>0.519231</td>\n",
       "      <td>0.909836</td>\n",
       "      <td>0.275510</td>\n",
       "      <td>1</td>\n",
       "      <td>0</td>\n",
       "    </tr>\n",
       "    <tr>\n",
       "      <th>197</th>\n",
       "      <td>198</td>\n",
       "      <td>0.269231</td>\n",
       "      <td>0.909836</td>\n",
       "      <td>0.744898</td>\n",
       "      <td>0</td>\n",
       "      <td>1</td>\n",
       "    </tr>\n",
       "    <tr>\n",
       "      <th>198</th>\n",
       "      <td>199</td>\n",
       "      <td>0.269231</td>\n",
       "      <td>1.000000</td>\n",
       "      <td>0.173469</td>\n",
       "      <td>0</td>\n",
       "      <td>1</td>\n",
       "    </tr>\n",
       "    <tr>\n",
       "      <th>199</th>\n",
       "      <td>200</td>\n",
       "      <td>0.230769</td>\n",
       "      <td>1.000000</td>\n",
       "      <td>0.836735</td>\n",
       "      <td>0</td>\n",
       "      <td>1</td>\n",
       "    </tr>\n",
       "  </tbody>\n",
       "</table>\n",
       "<p>200 rows × 6 columns</p>\n",
       "</div>"
      ],
      "text/plain": [
       "     CustomerID       Age  Annual Income  Spending Score (1-100)  \\\n",
       "0             1  0.019231       0.000000                0.387755   \n",
       "1             2  0.057692       0.000000                0.816327   \n",
       "2             3  0.038462       0.008197                0.051020   \n",
       "3             4  0.096154       0.008197                0.775510   \n",
       "4             5  0.250000       0.016393                0.397959   \n",
       "..          ...       ...            ...                     ...   \n",
       "195         196  0.326923       0.860656                0.795918   \n",
       "196         197  0.519231       0.909836                0.275510   \n",
       "197         198  0.269231       0.909836                0.744898   \n",
       "198         199  0.269231       1.000000                0.173469   \n",
       "199         200  0.230769       1.000000                0.836735   \n",
       "\n",
       "     Gender_Female  Gender_Male  \n",
       "0                0            1  \n",
       "1                0            1  \n",
       "2                1            0  \n",
       "3                1            0  \n",
       "4                1            0  \n",
       "..             ...          ...  \n",
       "195              1            0  \n",
       "196              1            0  \n",
       "197              0            1  \n",
       "198              0            1  \n",
       "199              0            1  \n",
       "\n",
       "[200 rows x 6 columns]"
      ]
     },
     "execution_count": 31,
     "metadata": {},
     "output_type": "execute_result"
    }
   ],
   "source": [
    "print(\"DataFrame after normalizing numerical features:\")\n",
    "df_encoded"
   ]
  },
  {
   "cell_type": "code",
   "execution_count": 21,
   "id": "103d6729",
   "metadata": {},
   "outputs": [],
   "source": [
    "features = ['Age', 'Annual Income (k$)', 'Spending Score (1-100)', 'Gender_Female', 'Gender_Male']\n",
    "X = df_encoded[features]"
   ]
  },
  {
   "cell_type": "code",
   "execution_count": 22,
   "id": "a5def9bd",
   "metadata": {},
   "outputs": [
    {
     "name": "stdout",
     "output_type": "stream",
     "text": [
      "Selected features for clustering (X):\n"
     ]
    },
    {
     "data": {
      "application/vnd.microsoft.datawrangler.viewer.v0+json": {
       "columns": [
        {
         "name": "index",
         "rawType": "int64",
         "type": "integer"
        },
        {
         "name": "Age",
         "rawType": "float64",
         "type": "float"
        },
        {
         "name": "Annual Income (k$)",
         "rawType": "float64",
         "type": "float"
        },
        {
         "name": "Spending Score (1-100)",
         "rawType": "float64",
         "type": "float"
        },
        {
         "name": "Gender_Female",
         "rawType": "int64",
         "type": "integer"
        },
        {
         "name": "Gender_Male",
         "rawType": "int64",
         "type": "integer"
        }
       ],
       "conversionMethod": "pd.DataFrame",
       "ref": "a4770752-465c-44a6-b392-f237025b4717",
       "rows": [
        [
         "0",
         "0.019230769230769273",
         "0.0",
         "0.38775510204081626",
         "0",
         "1"
        ],
        [
         "1",
         "0.05769230769230771",
         "0.0",
         "0.8163265306122448",
         "0",
         "1"
        ],
        [
         "2",
         "0.03846153846153849",
         "0.008196721311475405",
         "0.05102040816326531",
         "1",
         "0"
        ],
        [
         "3",
         "0.0961538461538462",
         "0.008196721311475405",
         "0.7755102040816326",
         "1",
         "0"
        ],
        [
         "4",
         "0.25",
         "0.016393442622950824",
         "0.39795918367346933",
         "1",
         "0"
        ]
       ],
       "shape": {
        "columns": 5,
        "rows": 5
       }
      },
      "text/html": [
       "<div>\n",
       "<style scoped>\n",
       "    .dataframe tbody tr th:only-of-type {\n",
       "        vertical-align: middle;\n",
       "    }\n",
       "\n",
       "    .dataframe tbody tr th {\n",
       "        vertical-align: top;\n",
       "    }\n",
       "\n",
       "    .dataframe thead th {\n",
       "        text-align: right;\n",
       "    }\n",
       "</style>\n",
       "<table border=\"1\" class=\"dataframe\">\n",
       "  <thead>\n",
       "    <tr style=\"text-align: right;\">\n",
       "      <th></th>\n",
       "      <th>Age</th>\n",
       "      <th>Annual Income (k$)</th>\n",
       "      <th>Spending Score (1-100)</th>\n",
       "      <th>Gender_Female</th>\n",
       "      <th>Gender_Male</th>\n",
       "    </tr>\n",
       "  </thead>\n",
       "  <tbody>\n",
       "    <tr>\n",
       "      <th>0</th>\n",
       "      <td>0.019231</td>\n",
       "      <td>0.000000</td>\n",
       "      <td>0.387755</td>\n",
       "      <td>0</td>\n",
       "      <td>1</td>\n",
       "    </tr>\n",
       "    <tr>\n",
       "      <th>1</th>\n",
       "      <td>0.057692</td>\n",
       "      <td>0.000000</td>\n",
       "      <td>0.816327</td>\n",
       "      <td>0</td>\n",
       "      <td>1</td>\n",
       "    </tr>\n",
       "    <tr>\n",
       "      <th>2</th>\n",
       "      <td>0.038462</td>\n",
       "      <td>0.008197</td>\n",
       "      <td>0.051020</td>\n",
       "      <td>1</td>\n",
       "      <td>0</td>\n",
       "    </tr>\n",
       "    <tr>\n",
       "      <th>3</th>\n",
       "      <td>0.096154</td>\n",
       "      <td>0.008197</td>\n",
       "      <td>0.775510</td>\n",
       "      <td>1</td>\n",
       "      <td>0</td>\n",
       "    </tr>\n",
       "    <tr>\n",
       "      <th>4</th>\n",
       "      <td>0.250000</td>\n",
       "      <td>0.016393</td>\n",
       "      <td>0.397959</td>\n",
       "      <td>1</td>\n",
       "      <td>0</td>\n",
       "    </tr>\n",
       "  </tbody>\n",
       "</table>\n",
       "</div>"
      ],
      "text/plain": [
       "        Age  Annual Income (k$)  Spending Score (1-100)  Gender_Female  \\\n",
       "0  0.019231            0.000000                0.387755              0   \n",
       "1  0.057692            0.000000                0.816327              0   \n",
       "2  0.038462            0.008197                0.051020              1   \n",
       "3  0.096154            0.008197                0.775510              1   \n",
       "4  0.250000            0.016393                0.397959              1   \n",
       "\n",
       "   Gender_Male  \n",
       "0            1  \n",
       "1            1  \n",
       "2            0  \n",
       "3            0  \n",
       "4            0  "
      ]
     },
     "execution_count": 22,
     "metadata": {},
     "output_type": "execute_result"
    }
   ],
   "source": [
    "print(\"Selected features for clustering (X):\")\n",
    "X.head()"
   ]
  },
  {
   "cell_type": "markdown",
   "id": "15aa8182",
   "metadata": {},
   "source": [
    "# 6. Penerapan K-Means"
   ]
  },
  {
   "cell_type": "code",
   "execution_count": 23,
   "id": "e4bef9be",
   "metadata": {},
   "outputs": [],
   "source": [
    "wcss = []\n",
    "for i in range(1, 11):\n",
    "    kmeans = KMeans(n_clusters=i, init='k-means++', random_state=42)\n",
    "    kmeans.fit(X)\n",
    "    wcss.append(kmeans.inertia_)"
   ]
  },
  {
   "cell_type": "code",
   "execution_count": 27,
   "id": "6e7a8074",
   "metadata": {},
   "outputs": [
    {
     "data": {
      "image/png": "[encoded data removed]",
      "text/plain": [
       "<Figure size 800x600 with 1 Axes>"
      ]
     },
     "metadata": {},
     "output_type": "display_data"
    }
   ],
   "source": [
    "plt.figure(figsize=(8, 6))\n",
    "plt.plot(range(1, 11), wcss, marker='o')\n",
    "plt.title('Elbow Method for Optimal Number of Clusters')\n",
    "plt.xlabel('Number of Clusters')\n",
    "plt.ylabel('WCSS')\n",
    "plt.savefig('elbow_plot.png')\n",
    "plt.show()\n",
    "plt.close()"
   ]
  },
  {
   "cell_type": "code",
   "execution_count": 28,
   "id": "c6fd56eb",
   "metadata": {},
   "outputs": [],
   "source": [
    "optimal_clusters = 5\n",
    "kmeans = KMeans(n_clusters=optimal_clusters, init='k-means++', random_state=42)\n",
    "cluster_labels = kmeans.fit_predict(X)"
   ]
  },
  {
   "cell_type": "code",
   "execution_count": 29,
   "id": "5b0a0c05",
   "metadata": {},
   "outputs": [],
   "source": [
    "df['Cluster'] = cluster_labels"
   ]
  },
  {
   "cell_type": "markdown",
   "id": "b8426717",
   "metadata": {},
   "source": [
    "# 7. Interpretasi Kluster"
   ]
  },
  {
   "cell_type": "code",
   "execution_count": 30,
   "id": "4652a095",
   "metadata": {},
   "outputs": [],
   "source": [
    "os.makedirs('Clustering', exist_ok=True)"
   ]
  },
  {
   "cell_type": "code",
   "execution_count": 31,
   "id": "861edb28",
   "metadata": {},
   "outputs": [
    {
     "name": "stdout",
     "output_type": "stream",
     "text": [
      "\n",
      "Cluster Characteristics:\n"
     ]
    },
    {
     "data": {
      "application/vnd.microsoft.datawrangler.viewer.v0+json": {
       "columns": [
        {
         "name": "Cluster",
         "rawType": "int32",
         "type": "integer"
        },
        {
         "name": "('Age', 'mean')",
         "rawType": "float64",
         "type": "float"
        },
        {
         "name": "('Age', 'count')",
         "rawType": "int64",
         "type": "integer"
        },
        {
         "name": "('Annual Income (k$)', 'mean')",
         "rawType": "float64",
         "type": "float"
        },
        {
         "name": "('Spending Score (1-100)', 'mean')",
         "rawType": "float64",
         "type": "float"
        },
        {
         "name": "('Gender', '<lambda>')",
         "rawType": "object",
         "type": "unknown"
        }
       ],
       "conversionMethod": "pd.DataFrame",
       "ref": "a42a6496-c75d-4af6-86d5-a86336b29ae0",
       "rows": [
        [
         "0",
         "52.44",
         "43",
         "62.02",
         "31.05",
         "{'Male': 43}"
        ],
        [
         "1",
         "48.11",
         "55",
         "58.82",
         "34.78",
         "{'Female': 55}"
        ],
        [
         "2",
         "28.44",
         "57",
         "59.67",
         "67.68",
         "{'Female': 57}"
        ],
        [
         "3",
         "33.28",
         "18",
         "87.11",
         "82.67",
         "{'Male': 18}"
        ],
        [
         "4",
         "24.04",
         "27",
         "45.96",
         "53.56",
         "{'Male': 27}"
        ]
       ],
       "shape": {
        "columns": 5,
        "rows": 5
       }
      },
      "text/html": [
       "<div>\n",
       "<style scoped>\n",
       "    .dataframe tbody tr th:only-of-type {\n",
       "        vertical-align: middle;\n",
       "    }\n",
       "\n",
       "    .dataframe tbody tr th {\n",
       "        vertical-align: top;\n",
       "    }\n",
       "\n",
       "    .dataframe thead tr th {\n",
       "        text-align: left;\n",
       "    }\n",
       "\n",
       "    .dataframe thead tr:last-of-type th {\n",
       "        text-align: right;\n",
       "    }\n",
       "</style>\n",
       "<table border=\"1\" class=\"dataframe\">\n",
       "  <thead>\n",
       "    <tr>\n",
       "      <th></th>\n",
       "      <th colspan=\"2\" halign=\"left\">Age</th>\n",
       "      <th>Annual Income (k$)</th>\n",
       "      <th>Spending Score (1-100)</th>\n",
       "      <th>Gender</th>\n",
       "    </tr>\n",
       "    <tr>\n",
       "      <th></th>\n",
       "      <th>mean</th>\n",
       "      <th>count</th>\n",
       "      <th>mean</th>\n",
       "      <th>mean</th>\n",
       "      <th>&lt;lambda&gt;</th>\n",
       "    </tr>\n",
       "    <tr>\n",
       "      <th>Cluster</th>\n",
       "      <th></th>\n",
       "      <th></th>\n",
       "      <th></th>\n",
       "      <th></th>\n",
       "      <th></th>\n",
       "    </tr>\n",
       "  </thead>\n",
       "  <tbody>\n",
       "    <tr>\n",
       "      <th>0</th>\n",
       "      <td>52.44</td>\n",
       "      <td>43</td>\n",
       "      <td>62.02</td>\n",
       "      <td>31.05</td>\n",
       "      <td>{'Male': 43}</td>\n",
       "    </tr>\n",
       "    <tr>\n",
       "      <th>1</th>\n",
       "      <td>48.11</td>\n",
       "      <td>55</td>\n",
       "      <td>58.82</td>\n",
       "      <td>34.78</td>\n",
       "      <td>{'Female': 55}</td>\n",
       "    </tr>\n",
       "    <tr>\n",
       "      <th>2</th>\n",
       "      <td>28.44</td>\n",
       "      <td>57</td>\n",
       "      <td>59.67</td>\n",
       "      <td>67.68</td>\n",
       "      <td>{'Female': 57}</td>\n",
       "    </tr>\n",
       "    <tr>\n",
       "      <th>3</th>\n",
       "      <td>33.28</td>\n",
       "      <td>18</td>\n",
       "      <td>87.11</td>\n",
       "      <td>82.67</td>\n",
       "      <td>{'Male': 18}</td>\n",
       "    </tr>\n",
       "    <tr>\n",
       "      <th>4</th>\n",
       "      <td>24.04</td>\n",
       "      <td>27</td>\n",
       "      <td>45.96</td>\n",
       "      <td>53.56</td>\n",
       "      <td>{'Male': 27}</td>\n",
       "    </tr>\n",
       "  </tbody>\n",
       "</table>\n",
       "</div>"
      ],
      "text/plain": [
       "           Age       Annual Income (k$) Spending Score (1-100)          Gender\n",
       "          mean count               mean                   mean        <lambda>\n",
       "Cluster                                                                       \n",
       "0        52.44    43              62.02                  31.05    {'Male': 43}\n",
       "1        48.11    55              58.82                  34.78  {'Female': 55}\n",
       "2        28.44    57              59.67                  67.68  {'Female': 57}\n",
       "3        33.28    18              87.11                  82.67    {'Male': 18}\n",
       "4        24.04    27              45.96                  53.56    {'Male': 27}"
      ]
     },
     "execution_count": 31,
     "metadata": {},
     "output_type": "execute_result"
    }
   ],
   "source": [
    "print(\"\\nCluster Characteristics:\")\n",
    "cluster_summary = df.groupby('Cluster').agg({\n",
    "    'Age': ['mean', 'count'],\n",
    "    'Annual Income (k$)': 'mean',\n",
    "    'Spending Score (1-100)': 'mean',\n",
    "    'Gender': lambda x: x.value_counts().to_dict()\n",
    "}).round(2)\n",
    "cluster_summary"
   ]
  },
  {
   "cell_type": "code",
   "execution_count": 32,
   "id": "7408d422",
   "metadata": {},
   "outputs": [
    {
     "data": {
      "image/png": "[encoded data removed]",
      "text/plain": [
       "<Figure size 1000x800 with 2 Axes>"
      ]
     },
     "metadata": {},
     "output_type": "display_data"
    }
   ],
   "source": [
    "plt.figure(figsize=(10, 8))\n",
    "scatter = plt.scatter(df['Annual Income (k$)'], df['Spending Score (1-100)'], \n",
    "                     c=df['Cluster'], cmap='viridis')\n",
    "plt.colorbar(scatter, label='Cluster')\n",
    "plt.title('Customer Segments based on Income and Spending Score')\n",
    "plt.xlabel('Annual Income (k$)')\n",
    "plt.ylabel('Spending Score (1-100)')\n",
    "plt.savefig('clustering/cluster_distribution.png')\n",
    "plt.show()\n",
    "plt.close()"
   ]
  },
  {
   "cell_type": "code",
   "execution_count": 34,
   "id": "28457257",
   "metadata": {},
   "outputs": [
    {
     "name": "stdout",
     "output_type": "stream",
     "text": [
      "\n",
      "Detailed Cluster Analysis:\n",
      "\n",
      "Cluster 0:\n",
      "Number of customers: 43\n",
      "Average Age: 52.44\n",
      "Average Annual Income: $62.02\n",
      "Average Spending Score: 31.05\n",
      "Gender Distribution: {'Male': 43}\n",
      "\n",
      "Cluster 1:\n",
      "Number of customers: 55\n",
      "Average Age: 48.11\n",
      "Average Annual Income: $58.82\n",
      "Average Spending Score: 34.78\n",
      "Gender Distribution: {'Female': 55}\n",
      "\n",
      "Cluster 2:\n",
      "Number of customers: 57\n",
      "Average Age: 28.44\n",
      "Average Annual Income: $59.67\n",
      "Average Spending Score: 67.68\n",
      "Gender Distribution: {'Female': 57}\n",
      "\n",
      "Cluster 3:\n",
      "Number of customers: 18\n",
      "Average Age: 33.28\n",
      "Average Annual Income: $87.11\n",
      "Average Spending Score: 82.67\n",
      "Gender Distribution: {'Male': 18}\n",
      "\n",
      "Cluster 4:\n",
      "Number of customers: 27\n",
      "Average Age: 24.04\n",
      "Average Annual Income: $45.96\n",
      "Average Spending Score: 53.56\n",
      "Gender Distribution: {'Male': 27}\n"
     ]
    }
   ],
   "source": [
    "print(\"\\nDetailed Cluster Analysis:\")\n",
    "for cluster in range(optimal_clusters):\n",
    "    print(f\"\\nCluster {cluster}:\")\n",
    "    cluster_data = df[df['Cluster'] == cluster]\n",
    "    print(f\"Number of customers: {len(cluster_data)}\")\n",
    "    print(f\"Average Age: {cluster_data['Age'].mean():.2f}\")\n",
    "    print(f\"Average Annual Income: ${cluster_data['Annual Income (k$)'].mean():.2f}\")\n",
    "    print(f\"Average Spending Score: {cluster_data['Spending Score (1-100)'].mean():.2f}\")\n",
    "    print(f\"Gender Distribution: {cluster_data['Gender'].value_counts().to_dict()}\")"
   ]
  },
  {
   "cell_type": "markdown",
   "id": "10077034",
   "metadata": {},
   "source": [
    "# Kesimpulan"
   ]
  },
  {
   "cell_type": "markdown",
   "id": "e6395b19",
   "metadata": {},
   "source": [
    "1. Kluster 0 : Pria, usia rata-rata 52.44, pendapatan 62.02, skor pengeluaran 31.05 (rendah). Kluster ini terdiri dari pria yang lebih tua dengan pendapatan sedang tetapi skor pengeluaran rendah.\n",
    "2. Kluster 1 : Wanita, usia 48.11, pendapatan 58.82, skor pengeluaran 34.78 (rendah). Kluster ini berisi wanita paruh baya dengan pendapatan sedang dan skor pengeluaran rendah.\n",
    "3. Kluster 2 : Wanita, usia 28.44, pendapatan 59.67, skor pengeluaran 67.68 (tinggi). Kluster ini terdiri dari wanita muda dengan pendapatan sedang dan skor pengeluaran tinggi.\n",
    "4. Kluster 3 : Pria, usia 33.28, pendapatan 87.11, skor pengeluaran 82.67 (sangat tinggi). Kluster ini berisi pria muda dengan pendapatan tinggi dan skor pengeluaran sangat tinggi.\n",
    "5. Kluster 4 : Pria, usia 24.04, pendapatan 49.96, skor pengeluaran 53.56 (sedang).Kluster ini terdiri dari pria yang sangat muda dengan pendapatan sedang dan skor pengeluaran sedang."
   ]
  }
 ],
 "metadata": {
  "kernelspec": {
   "display_name": "Python 3",
   "language": "python",
   "name": "python3"
  },
  "language_info": {
   "codemirror_mode": {
    "name": "ipython",
    "version": 3
   },
   "file_extension": ".py",
   "mimetype": "text/x-python",
   "name": "python",
   "nbconvert_exporter": "python",
   "pygments_lexer": "ipython3",
   "version": "3.11.0"
  }
 },
 "nbformat": 4,
 "nbformat_minor": 5
}
