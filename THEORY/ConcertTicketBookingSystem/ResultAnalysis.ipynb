{
 "cells": [
  {
   "cell_type": "markdown",
   "metadata": {},
   "source": [
    "# Analisis hasil"
   ]
  },
  {
   "cell_type": "markdown",
   "metadata": {},
   "source": [
    "## Analisis Berdasarkan Jumlah Server\n"
   ]
  },
  {
   "cell_type": "markdown",
   "metadata": {},
   "source": [
    "### 1. Waktu Tunggu"
   ]
  },
  {
   "cell_type": "markdown",
   "metadata": {},
   "source": [
    "- 2 server: Waktu tunggu sangat tinggi (12.21 menit), terutama pada fase puncak (peak). Ini menunjukkan bahwa dua server tidak cukup untuk menangani lonjakan pelanggan yang signifikan selama periode puncak.\n",
    "- 4 server: Waktu tunggu turun signifikan menjadi 5.43 menit, menunjukkan bahwa penambahan server membantu mengurangi kemacetan dan mempercepat pelayanan.\n",
    "- 6 dan 8 server: Waktu tunggu semakin berkurang, masing-masing menjadi 2.99 menit (6 server) dan 1.94 menit (8 server). Ini menunjukkan bahwa dengan lebih banyak server, pelanggan dilayani lebih cepat. Namun, setelah 4 server, penurunan waktu tunggu semakin kecil dan mendekati titik jenuh."
   ]
  },
  {
   "cell_type": "markdown",
   "metadata": {},
   "source": [
    "### 2. Tingkat Pembatalan (Abandonment):"
   ]
  },
  {
   "cell_type": "markdown",
   "metadata": {},
   "source": [
    "- 2 server: Pembatalan sangat tinggi (65.8%). Karena waktu tunggu yang lama dan antrian yang panjang, banyak pelanggan yang memilih untuk membatalkan pembelian mereka.\n",
    "- 4 server: Pembatalan menurun menjadi 41.7%, yang menunjukkan bahwa penambahan server berhasil menurunkan tingkat pembatalan.\n",
    "- 6 dan 8 server: Tingkat pembatalan lebih rendah, masing-masing 24.4% dan 15.5%. Penurunan pembatalan yang signifikan pada 6-8 server menunjukkan bahwa lebih banyak server berhasil mengakomodasi pelanggan lebih cepat dan mengurangi frustrasi."
   ]
  },
  {
   "cell_type": "markdown",
   "metadata": {},
   "source": [
    "### 3. Utilisasi Server:"
   ]
  },
  {
   "cell_type": "markdown",
   "metadata": {},
   "source": [
    "- 2 server: Utilisasi sangat tinggi (98.95%), yang menunjukkan overload pada server, mengindikasikan bahwa kapasitasnya hampir mencapai batas maksimal. Hal ini menambah waktu tunggu dan pembatalan pelanggan.\n",
    "- 4 server: Utilisasi lebih optimal (94.73%), meskipun sedikit lebih rendah dari 2 server. Ini menunjukkan bahwa kapasitas server lebih seimbang dengan permintaan, dengan beban yang lebih merata.\n",
    "- 6 dan 8 server: Utilisasi menurun drastis (78.02% untuk 6 server, 64.47% untuk 8 server), menunjukkan bahwa meskipun kapasitas server lebih dari cukup, ini dapat mengarah pada penggunaan sumber daya yang tidak efisien. Meskipun waktu tunggu berkurang, ini menunjukkan bahwa penambahan server lebih banyak berfungsi untuk mengurangi beban puncak daripada memenuhi kebutuhan sehari-hari."
   ]
  },
  {
   "cell_type": "markdown",
   "metadata": {},
   "source": [
    "## Analisis Berdasarkan Fase Penjualan"
   ]
  },
  {
   "cell_type": "markdown",
   "metadata": {},
   "source": [
    "### 1. Fase Presale:"
   ]
  },
  {
   "cell_type": "markdown",
   "metadata": {},
   "source": [
    "- Tingkat kedatangan sedang: Dengan kecepatan kedatangan pelanggan yang lebih rendah (1 pelanggan/menit), sistem tidak mengalami masalah besar. Namun, sistem masih dapat dioptimalkan dengan mempercepat proses layanan, seperti dengan verifikasi otomatis."
   ]
  },
  {
   "cell_type": "markdown",
   "metadata": {},
   "source": [
    "### 2. Fase Puncak:"
   ]
  },
  {
   "cell_type": "markdown",
   "metadata": {},
   "source": [
    "- Lonjakan pelanggan (4 pelanggan/menit): Pada fase ini, sistem menghadapi tekanan berat. Dengan jumlah server yang terbatas, antrian meningkat, waktu tunggu meroket, dan tingkat pembatalan naik tajam. Jika server tidak ditingkatkan, tingkat pembatalan akan terus tinggi."
   ]
  },
  {
   "cell_type": "markdown",
   "metadata": {},
   "source": [
    "### 3. Fase Normal:"
   ]
  },
  {
   "cell_type": "markdown",
   "metadata": {},
   "source": [
    "- Tingkat kedatangan stabil (2 pelanggan/menit): Setelah fase puncak, kedatangan pelanggan kembali stabil, dan waktu layanan kembali normal. Ini menunjukkan bahwa fase ini lebih mudah dikelola dengan jumlah server standar (4 server)."
   ]
  },
  {
   "cell_type": "markdown",
   "metadata": {},
   "source": [
    "## Rekomendasi Optimal"
   ]
  },
  {
   "cell_type": "markdown",
   "metadata": {},
   "source": [
    "### 1. Jumlah Server yang Direkomendasikan:"
   ]
  },
  {
   "cell_type": "markdown",
   "metadata": {},
   "source": [
    "- Baseline: 4 server merupakan konfigurasi dasar yang optimal untuk menangani beban selama fase normal dan presale.\n",
    "- Fase Puncak: Penambahan server hingga 6 server selama fase puncak dapat mengurangi tingkat pembatalan secara signifikan dan memastikan pelanggan lebih banyak dilayani dengan cepat.\n",
    "- Fase Normal: Setelah fase puncak, jumlah server bisa dikembalikan ke 4 untuk mengoptimalkan biaya operasional dan tetap menjaga kualitas pelayanan."
   ]
  },
  {
   "cell_type": "markdown",
   "metadata": {},
   "source": [
    "### 2. Strategi Pengelolaan Beban:"
   ]
  },
  {
   "cell_type": "markdown",
   "metadata": {},
   "source": [
    "- Implementasi sistem server dinamis yang dapat menyesuaikan jumlah server berdasarkan beban (misalnya, 6 server pada fase puncak, kembali ke 4 saat fase normal).\n",
    "- Menggunakan virtual waiting room untuk mengatur aliran pelanggan selama fase puncak. Ini dapat mengurangi lonjakan mendadak dan memastikan proses lebih teratur.\n",
    "- Memberikan estimasi waktu tunggu kepada pelanggan untuk mengurangi tingkat pembatalan. Ketika pelanggan mengetahui estimasi waktu, mereka lebih mungkin untuk bersabar."
   ]
  },
  {
   "cell_type": "markdown",
   "metadata": {},
   "source": [
    "### 3. Optimasi Waktu Layanan:"
   ]
  },
  {
   "cell_type": "markdown",
   "metadata": {},
   "source": [
    "- Sederhanakan proses pemilihan kursi untuk mengurangi waktu layanan dan memastikan proses lebih cepat.\n",
    "- Implementasikan quick checkout untuk pelanggan yang membeli tiket kategori ekonomi atau tiket tanpa preferensi khusus.\n",
    "- Pre-load data pelanggan yang terdaftar untuk mempercepat pengisian informasi pelanggan saat proses checkout."
   ]
  },
  {
   "cell_type": "markdown",
   "metadata": {},
   "source": [
    "### 4. Mekanisme Antrian Khusus:"
   ]
  },
  {
   "cell_type": "markdown",
   "metadata": {},
   "source": [
    "- Implementasikan sistem antrian prioritas untuk pelanggan VIP yang akan mengurangi waktu tunggu mereka dan meningkatkan pengalaman pelanggan.\n",
    "- Batasi jumlah tiket per transaksi pada fase puncak untuk menghindari pembelian massal dalam waktu singkat yang bisa memperburuk antrian.\n",
    "- Pertimbangkan untuk menyediakan sistem waiting list untuk konser yang sangat populer, untuk mengatur aliran pelanggan dan memaksimalkan penjualan tanpa membebani sistem."
   ]
  },
  {
   "cell_type": "markdown",
   "metadata": {},
   "source": [
    "## Kesimpulan"
   ]
  },
  {
   "cell_type": "markdown",
   "metadata": {},
   "source": [
    "### Dari analisis ini, dapat disimpulkan bahwa 4 server memberikan keseimbangan terbaik antara efisiensi operasional dan kualitas layanan di luar fase puncak. Selama fase puncak, penambahan hingga 6 server dapat sangat mengurangi tingkat pembatalan dan meningkatkan pengalaman pelanggan secara signifikan. Namun, setelah fase puncak, jumlah server dapat dikurangi kembali ke 4 untuk menghindari pemborosan kapasitas."
   ]
  },
  {
   "cell_type": "markdown",
   "metadata": {},
   "source": []
  }
 ],
 "metadata": {
  "language_info": {
   "name": "python"
  }
 },
 "nbformat": 4,
 "nbformat_minor": 2
}
