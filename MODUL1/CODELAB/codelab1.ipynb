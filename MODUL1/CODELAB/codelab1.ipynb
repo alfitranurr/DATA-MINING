{
 "cells": [
  {
   "cell_type": "markdown",
   "metadata": {},
   "source": [
    "# CODELAB 1\n",
    "\n",
    "a. Buatlah 12 data tuple yang berisi masing-masing 4 data int, float, dan string dengan urutan acak.\n",
    "\n",
    "b. Ubahlah data tuple tersebut menjadi list.\n",
    "\n",
    "c. Tambahkan 2 data baru di index sesuai dengan NIM akhir kalian (jika NIM akhir adalah 0, maka index ke-10).\n",
    "\n",
    "d. Hapus tipe data float pada list.\n",
    "\n",
    "e. Urutkan elemen pada list secara descending.\n",
    "\n"
   ]
  },
  {
   "cell_type": "code",
   "execution_count": 1,
   "metadata": {},
   "outputs": [
    {
     "name": "stdout",
     "output_type": "stream",
     "text": [
      "Data Tuple:\n",
      "(38, 78.47959594463582, 'F', 54)\n",
      "(47, 63.28798410012983, 'B', 62)\n",
      "(47, 6.096046632331268, 'E', 40)\n",
      "(89, 87.84888384531709, 'D', 54)\n",
      "(27, 46.218480629949056, 'B', 27)\n",
      "(9, 17.378247346872467, 'E', 96)\n",
      "(6, 51.87586800710051, 'C', 48)\n",
      "(60, 16.52251565880558, 'F', 69)\n",
      "(49, 93.0151933221774, 'F', 31)\n",
      "(79, 13.599812979563856, 'C', 55)\n",
      "(4, 69.18532095268938, 'B', 51)\n",
      "(86, 73.99310684462417, 'C', 41)\n"
     ]
    }
   ],
   "source": [
    "\n",
    "# a. Membuat 12 data tuple yang berisi masing-masing 4 data int, float, dan string dengan urutan acak\n",
    "import random\n",
    "\n",
    "def generate_random_data():\n",
    "    return (\n",
    "        random.randint(1, 100),\n",
    "        random.uniform(1.0, 100.0),\n",
    "        random.choice(['A', 'B', 'C', 'D', 'E', 'F', 'G']),\n",
    "        random.randint(1, 100),\n",
    "    )\n",
    "\n",
    "# Membuat 12 data tuple acak\n",
    "data_tuples = [generate_random_data() for _ in range(12)]\n",
    "\n",
    "print(\"Data Tuple:\")\n",
    "for t in data_tuples:\n",
    "    print(t)"
   ]
  },
  {
   "cell_type": "code",
   "execution_count": 2,
   "metadata": {},
   "outputs": [
    {
     "name": "stdout",
     "output_type": "stream",
     "text": [
      "\n",
      "Data List:\n",
      "[38, 78.47959594463582, 'F', 54]\n",
      "[47, 63.28798410012983, 'B', 62]\n",
      "[47, 6.096046632331268, 'E', 40]\n",
      "[89, 87.84888384531709, 'D', 54]\n",
      "[27, 46.218480629949056, 'B', 27]\n",
      "[9, 17.378247346872467, 'E', 96]\n",
      "[6, 51.87586800710051, 'C', 48]\n",
      "[60, 16.52251565880558, 'F', 69]\n",
      "[49, 93.0151933221774, 'F', 31]\n",
      "[79, 13.599812979563856, 'C', 55]\n",
      "[4, 69.18532095268938, 'B', 51]\n",
      "[86, 73.99310684462417, 'C', 41]\n"
     ]
    }
   ],
   "source": [
    "# b. Mengubah data tuple menjadi list\n",
    "data_list = [list(t) for t in data_tuples]\n",
    "\n",
    "print(\"\\nData List:\")\n",
    "for l in data_list:\n",
    "    print(l)"
   ]
  },
  {
   "cell_type": "code",
   "execution_count": 3,
   "metadata": {},
   "outputs": [
    {
     "name": "stdout",
     "output_type": "stream",
     "text": [
      "\n",
      "Data List Setelah Penambahan:\n",
      "[38, 78.47959594463582, 'F', 54]\n",
      "[47, 63.28798410012983, 'B', 62]\n",
      "[47, 6.096046632331268, 'E', 40]\n",
      "[89, 87.84888384531709, 'D', 54]\n",
      "[2, 12.94306834313377, 'E', 41]\n",
      "[98, 52.70935991285064, 'A', 77]\n",
      "[27, 46.218480629949056, 'B', 27]\n",
      "[9, 17.378247346872467, 'E', 96]\n",
      "[6, 51.87586800710051, 'C', 48]\n",
      "[60, 16.52251565880558, 'F', 69]\n",
      "[49, 93.0151933221774, 'F', 31]\n",
      "[79, 13.599812979563856, 'C', 55]\n",
      "[4, 69.18532095268938, 'B', 51]\n",
      "[86, 73.99310684462417, 'C', 41]\n"
     ]
    }
   ],
   "source": [
    "# c. Menambahkan 2 data baru di index sesuai dengan NIM akhir (NIM = 202210370311264, NIM akhir = 4, jadi index ke-4)\n",
    "new_data_1 = [random.randint(1, 100), random.uniform(1.0, 100.0), random.choice(['A', 'B', 'C', 'D', 'E', 'F', 'G']), random.randint(1, 100)]\n",
    "new_data_2 = [random.randint(1, 100), random.uniform(1.0, 100.0), random.choice(['A', 'B', 'C', 'D', 'E', 'F', 'G']), random.randint(1, 100)]\n",
    "\n",
    "data_list.insert(4, new_data_1)\n",
    "data_list.insert(4, new_data_2)\n",
    "\n",
    "print(\"\\nData List Setelah Penambahan:\")\n",
    "for l in data_list:\n",
    "    print(l)"
   ]
  },
  {
   "cell_type": "code",
   "execution_count": 4,
   "metadata": {},
   "outputs": [
    {
     "name": "stdout",
     "output_type": "stream",
     "text": [
      "\n",
      "Data List Setelah Menghapus Float:\n",
      "[38, 'F', 54]\n",
      "[47, 'B', 62]\n",
      "[47, 'E', 40]\n",
      "[89, 'D', 54]\n",
      "[2, 'E', 41]\n",
      "[98, 'A', 77]\n",
      "[27, 'B', 27]\n",
      "[9, 'E', 96]\n",
      "[6, 'C', 48]\n",
      "[60, 'F', 69]\n",
      "[49, 'F', 31]\n",
      "[79, 'C', 55]\n",
      "[4, 'B', 51]\n",
      "[86, 'C', 41]\n"
     ]
    }
   ],
   "source": [
    "# d. Menghapus tipe data float pada list\n",
    "for item in data_list:\n",
    "    item[:] = [x for x in item if not isinstance(x, float)]\n",
    "\n",
    "print(\"\\nData List Setelah Menghapus Float:\")\n",
    "for l in data_list:\n",
    "    print(l)"
   ]
  },
  {
   "cell_type": "code",
   "execution_count": 5,
   "metadata": {},
   "outputs": [
    {
     "name": "stdout",
     "output_type": "stream",
     "text": [
      "\n",
      "Data List Setelah Diurutkan Secara Descending:\n",
      "[54, 38, 'F']\n",
      "[62, 47, 'B']\n",
      "[47, 40, 'E']\n",
      "[89, 54, 'D']\n",
      "[41, 2, 'E']\n",
      "[98, 77, 'A']\n",
      "[27, 27, 'B']\n",
      "[96, 9, 'E']\n",
      "[48, 6, 'C']\n",
      "[69, 60, 'F']\n",
      "[49, 31, 'F']\n",
      "[79, 55, 'C']\n",
      "[51, 4, 'B']\n",
      "[86, 41, 'C']\n"
     ]
    }
   ],
   "source": [
    "# e. Mengurutkan elemen pada list secara descending\n",
    "data_list_sorted = []\n",
    "\n",
    "for l in data_list:\n",
    "    # Pisahin Int sama float\n",
    "    numeric_data = [x for x in l if isinstance(x, (int, float))]\n",
    "    # Mengurutkan data numerik secara descending\n",
    "    sorted_numeric_data = sorted(numeric_data, reverse=True)\n",
    "\n",
    "    # Pisahin String\n",
    "    string_data = [x for x in l if isinstance(x, str)]\n",
    "\n",
    "    # Combined ulang\n",
    "    sorted_combined_data = sorted_numeric_data + string_data\n",
    "\n",
    "    data_list_sorted.append(sorted_combined_data)\n",
    "\n",
    "# Menampilkan hasil akhir\n",
    "print(\"\\nData List Setelah Diurutkan Secara Descending:\")\n",
    "for l in data_list_sorted:\n",
    "    print(l)\n"
   ]
  },
  {
   "cell_type": "code",
   "execution_count": null,
   "metadata": {},
   "outputs": [],
   "source": []
  }
 ],
 "metadata": {
  "kernelspec": {
   "display_name": "Python 3",
   "language": "python",
   "name": "python3"
  },
  "language_info": {
   "codemirror_mode": {
    "name": "ipython",
    "version": 3
   },
   "file_extension": ".py",
   "mimetype": "text/x-python",
   "name": "python",
   "nbconvert_exporter": "python",
   "pygments_lexer": "ipython3",
   "version": "3.11.5"
  }
 },
 "nbformat": 4,
 "nbformat_minor": 2
}
